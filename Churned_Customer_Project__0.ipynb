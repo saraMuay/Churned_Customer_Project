{
  "nbformat": 4,
  "nbformat_minor": 0,
  "metadata": {
    "accelerator": "GPU",
    "colab": {
      "name": "Churned_Customer_Project_V1.0.ipynb",
      "provenance": [],
      "collapsed_sections": [],
      "toc_visible": true,
      "include_colab_link": true
    },
    "kernelspec": {
      "display_name": "Python 3",
      "language": "python",
      "name": "python3"
    },
    "language_info": {
      "codemirror_mode": {
        "name": "ipython",
        "version": 3
      },
      "file_extension": ".py",
      "mimetype": "text/x-python",
      "name": "python",
      "nbconvert_exporter": "python",
      "pygments_lexer": "ipython3",
      "version": "3.7.3"
    }
  },
  "cells": [
    {
      "cell_type": "markdown",
      "metadata": {
        "id": "view-in-github",
        "colab_type": "text"
      },
      "source": [
        "<a href=\"https://colab.research.google.com/github/saraMuay/Churned_Customer_Project/blob/main/Churned_Customer_Project__0.ipynb\" target=\"_parent\"><img src=\"https://colab.research.google.com/assets/colab-badge.svg\" alt=\"Open In Colab\"/></a>"
      ]
    },
    {
      "cell_type": "markdown",
      "metadata": {
        "id": "n5BHu9CVJMUO"
      },
      "source": [
        "# Telco Churned Customers Prediction Model\n",
        "\n"
      ]
    },
    {
      "cell_type": "markdown",
      "metadata": {
        "id": "aE_wStAHJMUZ"
      },
      "source": [
        "### 1. Import necessary libraries:"
      ]
    },
    {
      "cell_type": "code",
      "metadata": {
        "id": "m5mY45ILJMUa"
      },
      "source": [
        "# Install if necessary.\n",
        "#!pip install keras"
      ],
      "execution_count": 704,
      "outputs": []
    },
    {
      "cell_type": "code",
      "metadata": {
        "id": "vLHOVeBVJMUb"
      },
      "source": [
        "import numpy as np\n",
        "import pandas as pd\n",
        "import matplotlib.pyplot as plt\n",
        "import seaborn as sns\n",
        "from sklearn.datasets import load_files\n",
        "from sklearn import preprocessing\n",
        "from imblearn.over_sampling import ADASYN   # for unbalanced data \n",
        "from collections import Counter\n",
        "from sklearn.model_selection import train_test_split\n",
        "from sklearn.model_selection import GridSearchCV\n",
        "from sklearn.ensemble import GradientBoostingClassifier\n",
        "from sklearn.neighbors import KNeighborsClassifier \n",
        "from sklearn.linear_model import LogisticRegression\n",
        "from sklearn.svm import SVC\n",
        "import lightgbm as lgb\n",
        "from sklearn.naive_bayes import GaussianNB\n",
        "from sklearn.tree import DecisionTreeClassifier\n",
        "from sklearn.ensemble import RandomForestClassifier,AdaBoostClassifier, GradientBoostingClassifier\n",
        "from xgboost import XGBClassifier\n",
        "from sklearn.ensemble import VotingClassifier\n",
        "from sklearn.metrics import roc_auc_score\n",
        "from sklearn import metrics\n",
        "from sklearn.metrics import accuracy_score\n",
        "import keras\n",
        "import keras.utils\n",
        "from keras.models import Model                       # We will use Functional API.\n",
        "from keras.layers import Dense, Input \n",
        "from keras.optimizers import Adam\n",
        "from sklearn.metrics import classification_report\n",
        "import warnings   \n",
        "\n",
        "               \n",
        "warnings.filterwarnings('ignore')                    # Turn the warnings off.\n",
        "%matplotlib inline"
      ],
      "execution_count": 705,
      "outputs": []
    },
    {
      "cell_type": "code",
      "metadata": {
        "colab": {
          "base_uri": "https://localhost:8080/"
        },
        "id": "Q6C9S-P23mqo",
        "outputId": "6b51f96a-6ee5-40f0-e897-6b24a1807df1"
      },
      "source": [
        "# use GPU after activate from the notebook settings\n",
        "%tensorflow_version 2.x\n",
        "import tensorflow as tf\n",
        "device_name = tf.test.gpu_device_name()\n",
        "if device_name != '/device:GPU:0':\n",
        "  raise SystemError('GPU device not found')\n",
        "print('Found GPU at: {}'.format(device_name))"
      ],
      "execution_count": 706,
      "outputs": [
        {
          "output_type": "stream",
          "text": [
            "Found GPU at: /device:GPU:0\n"
          ],
          "name": "stdout"
        }
      ]
    },
    {
      "cell_type": "code",
      "metadata": {
        "colab": {
          "base_uri": "https://localhost:8080/"
        },
        "id": "refHVyS_R3EX",
        "outputId": "697d897c-b026-4618-cc92-dcfdd0fc9a0a"
      },
      "source": [
        "#Import the dataset to colab files from githup\n",
        "!git clone https://github.com/saraMuay/Churned_Customer_Project.git"
      ],
      "execution_count": 707,
      "outputs": [
        {
          "output_type": "stream",
          "text": [
            "fatal: destination path 'Churned_Customer_Project' already exists and is not an empty directory.\n"
          ],
          "name": "stdout"
        }
      ]
    },
    {
      "cell_type": "markdown",
      "metadata": {
        "id": "-HQMfFbZJMUc"
      },
      "source": [
        "#### 1.1. Read in the data:"
      ]
    },
    {
      "cell_type": "markdown",
      "metadata": {
        "id": "yreKKGi-JMUd"
      },
      "source": [
        "More information about the dataset can be found [here](https://community.ibm.com/accelerators/?context=analytics&query=telco%20churn&type=Data&product=Cognos%20Analytics)."
      ]
    },
    {
      "cell_type": "code",
      "metadata": {
        "colab": {
          "base_uri": "https://localhost:8080/",
          "height": 456
        },
        "id": "sPLa-5fKrdU1",
        "outputId": "13be2df7-eb5a-458a-9c46-c7d3d80c16d4"
      },
      "source": [
        "data = pd.read_csv('https://raw.githubusercontent.com/saraMuay/Churned_Customer_Project/main/Telco_customer_churn.csv')\n",
        "data.head()"
      ],
      "execution_count": 708,
      "outputs": [
        {
          "output_type": "execute_result",
          "data": {
            "text/html": [
              "<div>\n",
              "<style scoped>\n",
              "    .dataframe tbody tr th:only-of-type {\n",
              "        vertical-align: middle;\n",
              "    }\n",
              "\n",
              "    .dataframe tbody tr th {\n",
              "        vertical-align: top;\n",
              "    }\n",
              "\n",
              "    .dataframe thead th {\n",
              "        text-align: right;\n",
              "    }\n",
              "</style>\n",
              "<table border=\"1\" class=\"dataframe\">\n",
              "  <thead>\n",
              "    <tr style=\"text-align: right;\">\n",
              "      <th></th>\n",
              "      <th>CustomerID</th>\n",
              "      <th>Count</th>\n",
              "      <th>Country</th>\n",
              "      <th>State</th>\n",
              "      <th>City</th>\n",
              "      <th>Zip Code</th>\n",
              "      <th>Lat Long</th>\n",
              "      <th>Latitude</th>\n",
              "      <th>Longitude</th>\n",
              "      <th>Gender</th>\n",
              "      <th>Senior Citizen</th>\n",
              "      <th>Partner</th>\n",
              "      <th>Dependents</th>\n",
              "      <th>Tenure Months</th>\n",
              "      <th>Phone Service</th>\n",
              "      <th>Multiple Lines</th>\n",
              "      <th>Internet Service</th>\n",
              "      <th>Online Security</th>\n",
              "      <th>Online Backup</th>\n",
              "      <th>Device Protection</th>\n",
              "      <th>Tech Support</th>\n",
              "      <th>Streaming TV</th>\n",
              "      <th>Streaming Movies</th>\n",
              "      <th>Contract</th>\n",
              "      <th>Paperless Billing</th>\n",
              "      <th>Payment Method</th>\n",
              "      <th>Monthly Charges</th>\n",
              "      <th>Total Charges</th>\n",
              "      <th>Churn Label</th>\n",
              "      <th>Churn Value</th>\n",
              "      <th>Churn Score</th>\n",
              "      <th>CLTV</th>\n",
              "      <th>Churn Reason</th>\n",
              "    </tr>\n",
              "  </thead>\n",
              "  <tbody>\n",
              "    <tr>\n",
              "      <th>0</th>\n",
              "      <td>3668-QPYBK</td>\n",
              "      <td>1</td>\n",
              "      <td>United States</td>\n",
              "      <td>California</td>\n",
              "      <td>Los Angeles</td>\n",
              "      <td>90003</td>\n",
              "      <td>33.964131, -118.272783</td>\n",
              "      <td>33.964131</td>\n",
              "      <td>-118.272783</td>\n",
              "      <td>Male</td>\n",
              "      <td>No</td>\n",
              "      <td>No</td>\n",
              "      <td>No</td>\n",
              "      <td>2</td>\n",
              "      <td>Yes</td>\n",
              "      <td>No</td>\n",
              "      <td>DSL</td>\n",
              "      <td>Yes</td>\n",
              "      <td>Yes</td>\n",
              "      <td>No</td>\n",
              "      <td>No</td>\n",
              "      <td>No</td>\n",
              "      <td>No</td>\n",
              "      <td>Month-to-month</td>\n",
              "      <td>Yes</td>\n",
              "      <td>Mailed check</td>\n",
              "      <td>53.85</td>\n",
              "      <td>108.15</td>\n",
              "      <td>Yes</td>\n",
              "      <td>1</td>\n",
              "      <td>86</td>\n",
              "      <td>3239</td>\n",
              "      <td>Competitor made better offer</td>\n",
              "    </tr>\n",
              "    <tr>\n",
              "      <th>1</th>\n",
              "      <td>9237-HQITU</td>\n",
              "      <td>1</td>\n",
              "      <td>United States</td>\n",
              "      <td>California</td>\n",
              "      <td>Los Angeles</td>\n",
              "      <td>90005</td>\n",
              "      <td>34.059281, -118.30742</td>\n",
              "      <td>34.059281</td>\n",
              "      <td>-118.307420</td>\n",
              "      <td>Female</td>\n",
              "      <td>No</td>\n",
              "      <td>No</td>\n",
              "      <td>Yes</td>\n",
              "      <td>2</td>\n",
              "      <td>Yes</td>\n",
              "      <td>No</td>\n",
              "      <td>Fiber optic</td>\n",
              "      <td>No</td>\n",
              "      <td>No</td>\n",
              "      <td>No</td>\n",
              "      <td>No</td>\n",
              "      <td>No</td>\n",
              "      <td>No</td>\n",
              "      <td>Month-to-month</td>\n",
              "      <td>Yes</td>\n",
              "      <td>Electronic check</td>\n",
              "      <td>70.70</td>\n",
              "      <td>151.65</td>\n",
              "      <td>Yes</td>\n",
              "      <td>1</td>\n",
              "      <td>67</td>\n",
              "      <td>2701</td>\n",
              "      <td>Moved</td>\n",
              "    </tr>\n",
              "    <tr>\n",
              "      <th>2</th>\n",
              "      <td>9305-CDSKC</td>\n",
              "      <td>1</td>\n",
              "      <td>United States</td>\n",
              "      <td>California</td>\n",
              "      <td>Los Angeles</td>\n",
              "      <td>90006</td>\n",
              "      <td>34.048013, -118.293953</td>\n",
              "      <td>34.048013</td>\n",
              "      <td>-118.293953</td>\n",
              "      <td>Female</td>\n",
              "      <td>No</td>\n",
              "      <td>No</td>\n",
              "      <td>Yes</td>\n",
              "      <td>8</td>\n",
              "      <td>Yes</td>\n",
              "      <td>Yes</td>\n",
              "      <td>Fiber optic</td>\n",
              "      <td>No</td>\n",
              "      <td>No</td>\n",
              "      <td>Yes</td>\n",
              "      <td>No</td>\n",
              "      <td>Yes</td>\n",
              "      <td>Yes</td>\n",
              "      <td>Month-to-month</td>\n",
              "      <td>Yes</td>\n",
              "      <td>Electronic check</td>\n",
              "      <td>99.65</td>\n",
              "      <td>820.5</td>\n",
              "      <td>Yes</td>\n",
              "      <td>1</td>\n",
              "      <td>86</td>\n",
              "      <td>5372</td>\n",
              "      <td>Moved</td>\n",
              "    </tr>\n",
              "    <tr>\n",
              "      <th>3</th>\n",
              "      <td>7892-POOKP</td>\n",
              "      <td>1</td>\n",
              "      <td>United States</td>\n",
              "      <td>California</td>\n",
              "      <td>Los Angeles</td>\n",
              "      <td>90010</td>\n",
              "      <td>34.062125, -118.315709</td>\n",
              "      <td>34.062125</td>\n",
              "      <td>-118.315709</td>\n",
              "      <td>Female</td>\n",
              "      <td>No</td>\n",
              "      <td>Yes</td>\n",
              "      <td>Yes</td>\n",
              "      <td>28</td>\n",
              "      <td>Yes</td>\n",
              "      <td>Yes</td>\n",
              "      <td>Fiber optic</td>\n",
              "      <td>No</td>\n",
              "      <td>No</td>\n",
              "      <td>Yes</td>\n",
              "      <td>Yes</td>\n",
              "      <td>Yes</td>\n",
              "      <td>Yes</td>\n",
              "      <td>Month-to-month</td>\n",
              "      <td>Yes</td>\n",
              "      <td>Electronic check</td>\n",
              "      <td>104.80</td>\n",
              "      <td>3046.05</td>\n",
              "      <td>Yes</td>\n",
              "      <td>1</td>\n",
              "      <td>84</td>\n",
              "      <td>5003</td>\n",
              "      <td>Moved</td>\n",
              "    </tr>\n",
              "    <tr>\n",
              "      <th>4</th>\n",
              "      <td>0280-XJGEX</td>\n",
              "      <td>1</td>\n",
              "      <td>United States</td>\n",
              "      <td>California</td>\n",
              "      <td>Los Angeles</td>\n",
              "      <td>90015</td>\n",
              "      <td>34.039224, -118.266293</td>\n",
              "      <td>34.039224</td>\n",
              "      <td>-118.266293</td>\n",
              "      <td>Male</td>\n",
              "      <td>No</td>\n",
              "      <td>No</td>\n",
              "      <td>Yes</td>\n",
              "      <td>49</td>\n",
              "      <td>Yes</td>\n",
              "      <td>Yes</td>\n",
              "      <td>Fiber optic</td>\n",
              "      <td>No</td>\n",
              "      <td>Yes</td>\n",
              "      <td>Yes</td>\n",
              "      <td>No</td>\n",
              "      <td>Yes</td>\n",
              "      <td>Yes</td>\n",
              "      <td>Month-to-month</td>\n",
              "      <td>Yes</td>\n",
              "      <td>Bank transfer (automatic)</td>\n",
              "      <td>103.70</td>\n",
              "      <td>5036.3</td>\n",
              "      <td>Yes</td>\n",
              "      <td>1</td>\n",
              "      <td>89</td>\n",
              "      <td>5340</td>\n",
              "      <td>Competitor had better devices</td>\n",
              "    </tr>\n",
              "  </tbody>\n",
              "</table>\n",
              "</div>"
            ],
            "text/plain": [
              "   CustomerID  Count  ...  CLTV                   Churn Reason\n",
              "0  3668-QPYBK      1  ...  3239   Competitor made better offer\n",
              "1  9237-HQITU      1  ...  2701                          Moved\n",
              "2  9305-CDSKC      1  ...  5372                          Moved\n",
              "3  7892-POOKP      1  ...  5003                          Moved\n",
              "4  0280-XJGEX      1  ...  5340  Competitor had better devices\n",
              "\n",
              "[5 rows x 33 columns]"
            ]
          },
          "metadata": {
            "tags": []
          },
          "execution_count": 708
        }
      ]
    },
    {
      "cell_type": "code",
      "metadata": {
        "colab": {
          "base_uri": "https://localhost:8080/"
        },
        "id": "SPNDkcax9DDA",
        "outputId": "cbca2b08-7612-4ea0-dfc3-6b6a00aaadfe"
      },
      "source": [
        "data.isnull().sum()"
      ],
      "execution_count": 709,
      "outputs": [
        {
          "output_type": "execute_result",
          "data": {
            "text/plain": [
              "CustomerID              0\n",
              "Count                   0\n",
              "Country                 0\n",
              "State                   0\n",
              "City                    0\n",
              "Zip Code                0\n",
              "Lat Long                0\n",
              "Latitude                0\n",
              "Longitude               0\n",
              "Gender                  0\n",
              "Senior Citizen          0\n",
              "Partner                 0\n",
              "Dependents              0\n",
              "Tenure Months           0\n",
              "Phone Service           0\n",
              "Multiple Lines          0\n",
              "Internet Service        0\n",
              "Online Security         0\n",
              "Online Backup           0\n",
              "Device Protection       0\n",
              "Tech Support            0\n",
              "Streaming TV            0\n",
              "Streaming Movies        0\n",
              "Contract                0\n",
              "Paperless Billing       0\n",
              "Payment Method          0\n",
              "Monthly Charges         0\n",
              "Total Charges           0\n",
              "Churn Label             0\n",
              "Churn Value             0\n",
              "Churn Score             0\n",
              "CLTV                    0\n",
              "Churn Reason         5174\n",
              "dtype: int64"
            ]
          },
          "metadata": {
            "tags": []
          },
          "execution_count": 709
        }
      ]
    },
    {
      "cell_type": "code",
      "metadata": {
        "colab": {
          "base_uri": "https://localhost:8080/"
        },
        "id": "J4RSDf-JjnVM",
        "outputId": "283d0cd0-ae7c-4fd4-c0d6-1f3d65f7f1a2"
      },
      "source": [
        "data.shape"
      ],
      "execution_count": 710,
      "outputs": [
        {
          "output_type": "execute_result",
          "data": {
            "text/plain": [
              "(7043, 33)"
            ]
          },
          "metadata": {
            "tags": []
          },
          "execution_count": 710
        }
      ]
    },
    {
      "cell_type": "markdown",
      "metadata": {
        "id": "uWL89k5kvxhy"
      },
      "source": [
        "#### 1.2. Perform EDA:"
      ]
    },
    {
      "cell_type": "code",
      "metadata": {
        "colab": {
          "base_uri": "https://localhost:8080/"
        },
        "id": "bZ7pFn7uvOhk",
        "outputId": "489a4e50-5173-449f-ce24-cb894a0a5305"
      },
      "source": [
        "data.info()"
      ],
      "execution_count": 711,
      "outputs": [
        {
          "output_type": "stream",
          "text": [
            "<class 'pandas.core.frame.DataFrame'>\n",
            "RangeIndex: 7043 entries, 0 to 7042\n",
            "Data columns (total 33 columns):\n",
            " #   Column             Non-Null Count  Dtype  \n",
            "---  ------             --------------  -----  \n",
            " 0   CustomerID         7043 non-null   object \n",
            " 1   Count              7043 non-null   int64  \n",
            " 2   Country            7043 non-null   object \n",
            " 3   State              7043 non-null   object \n",
            " 4   City               7043 non-null   object \n",
            " 5   Zip Code           7043 non-null   int64  \n",
            " 6   Lat Long           7043 non-null   object \n",
            " 7   Latitude           7043 non-null   float64\n",
            " 8   Longitude          7043 non-null   float64\n",
            " 9   Gender             7043 non-null   object \n",
            " 10  Senior Citizen     7043 non-null   object \n",
            " 11  Partner            7043 non-null   object \n",
            " 12  Dependents         7043 non-null   object \n",
            " 13  Tenure Months      7043 non-null   int64  \n",
            " 14  Phone Service      7043 non-null   object \n",
            " 15  Multiple Lines     7043 non-null   object \n",
            " 16  Internet Service   7043 non-null   object \n",
            " 17  Online Security    7043 non-null   object \n",
            " 18  Online Backup      7043 non-null   object \n",
            " 19  Device Protection  7043 non-null   object \n",
            " 20  Tech Support       7043 non-null   object \n",
            " 21  Streaming TV       7043 non-null   object \n",
            " 22  Streaming Movies   7043 non-null   object \n",
            " 23  Contract           7043 non-null   object \n",
            " 24  Paperless Billing  7043 non-null   object \n",
            " 25  Payment Method     7043 non-null   object \n",
            " 26  Monthly Charges    7043 non-null   float64\n",
            " 27  Total Charges      7043 non-null   object \n",
            " 28  Churn Label        7043 non-null   object \n",
            " 29  Churn Value        7043 non-null   int64  \n",
            " 30  Churn Score        7043 non-null   int64  \n",
            " 31  CLTV               7043 non-null   int64  \n",
            " 32  Churn Reason       1869 non-null   object \n",
            "dtypes: float64(3), int64(6), object(24)\n",
            "memory usage: 1.8+ MB\n"
          ],
          "name": "stdout"
        }
      ]
    },
    {
      "cell_type": "markdown",
      "metadata": {
        "id": "JtqgYagjzy99"
      },
      "source": [
        "#### 2. Data Preprocessing:"
      ]
    },
    {
      "cell_type": "markdown",
      "metadata": {
        "id": "kEDbb_Pq0a0S"
      },
      "source": [
        "##### 2.1 Drop Unnecessary Columns:"
      ]
    },
    {
      "cell_type": "code",
      "metadata": {
        "id": "--UmnZJn7kiD"
      },
      "source": [
        "# correct columns names to avoid any error related to it.\n",
        "data.columns = [c.replace(' ', '_') for c in data.columns]"
      ],
      "execution_count": 712,
      "outputs": []
    },
    {
      "cell_type": "code",
      "metadata": {
        "colab": {
          "base_uri": "https://localhost:8080/",
          "height": 752
        },
        "id": "okYen-LdcVhW",
        "outputId": "dfd58b96-1c18-4d8a-bc2f-fb64d3db6ba5"
      },
      "source": [
        "#Removing unnecessary columns\n",
        "data = data.drop(columns = ['CustomerID', 'Count','Country','State', 'City','Zip_Code','Lat_Long','Latitude','Longitude'\n",
        "                            ,'Paperless_Billing','Total_Charges','Churn_Label','Churn_Score','CLTV', 'Churn_Reason'])\n",
        "data"
      ],
      "execution_count": 713,
      "outputs": [
        {
          "output_type": "execute_result",
          "data": {
            "text/html": [
              "<div>\n",
              "<style scoped>\n",
              "    .dataframe tbody tr th:only-of-type {\n",
              "        vertical-align: middle;\n",
              "    }\n",
              "\n",
              "    .dataframe tbody tr th {\n",
              "        vertical-align: top;\n",
              "    }\n",
              "\n",
              "    .dataframe thead th {\n",
              "        text-align: right;\n",
              "    }\n",
              "</style>\n",
              "<table border=\"1\" class=\"dataframe\">\n",
              "  <thead>\n",
              "    <tr style=\"text-align: right;\">\n",
              "      <th></th>\n",
              "      <th>Gender</th>\n",
              "      <th>Senior_Citizen</th>\n",
              "      <th>Partner</th>\n",
              "      <th>Dependents</th>\n",
              "      <th>Tenure_Months</th>\n",
              "      <th>Phone_Service</th>\n",
              "      <th>Multiple_Lines</th>\n",
              "      <th>Internet_Service</th>\n",
              "      <th>Online_Security</th>\n",
              "      <th>Online_Backup</th>\n",
              "      <th>Device_Protection</th>\n",
              "      <th>Tech_Support</th>\n",
              "      <th>Streaming_TV</th>\n",
              "      <th>Streaming_Movies</th>\n",
              "      <th>Contract</th>\n",
              "      <th>Payment_Method</th>\n",
              "      <th>Monthly_Charges</th>\n",
              "      <th>Churn_Value</th>\n",
              "    </tr>\n",
              "  </thead>\n",
              "  <tbody>\n",
              "    <tr>\n",
              "      <th>0</th>\n",
              "      <td>Male</td>\n",
              "      <td>No</td>\n",
              "      <td>No</td>\n",
              "      <td>No</td>\n",
              "      <td>2</td>\n",
              "      <td>Yes</td>\n",
              "      <td>No</td>\n",
              "      <td>DSL</td>\n",
              "      <td>Yes</td>\n",
              "      <td>Yes</td>\n",
              "      <td>No</td>\n",
              "      <td>No</td>\n",
              "      <td>No</td>\n",
              "      <td>No</td>\n",
              "      <td>Month-to-month</td>\n",
              "      <td>Mailed check</td>\n",
              "      <td>53.85</td>\n",
              "      <td>1</td>\n",
              "    </tr>\n",
              "    <tr>\n",
              "      <th>1</th>\n",
              "      <td>Female</td>\n",
              "      <td>No</td>\n",
              "      <td>No</td>\n",
              "      <td>Yes</td>\n",
              "      <td>2</td>\n",
              "      <td>Yes</td>\n",
              "      <td>No</td>\n",
              "      <td>Fiber optic</td>\n",
              "      <td>No</td>\n",
              "      <td>No</td>\n",
              "      <td>No</td>\n",
              "      <td>No</td>\n",
              "      <td>No</td>\n",
              "      <td>No</td>\n",
              "      <td>Month-to-month</td>\n",
              "      <td>Electronic check</td>\n",
              "      <td>70.70</td>\n",
              "      <td>1</td>\n",
              "    </tr>\n",
              "    <tr>\n",
              "      <th>2</th>\n",
              "      <td>Female</td>\n",
              "      <td>No</td>\n",
              "      <td>No</td>\n",
              "      <td>Yes</td>\n",
              "      <td>8</td>\n",
              "      <td>Yes</td>\n",
              "      <td>Yes</td>\n",
              "      <td>Fiber optic</td>\n",
              "      <td>No</td>\n",
              "      <td>No</td>\n",
              "      <td>Yes</td>\n",
              "      <td>No</td>\n",
              "      <td>Yes</td>\n",
              "      <td>Yes</td>\n",
              "      <td>Month-to-month</td>\n",
              "      <td>Electronic check</td>\n",
              "      <td>99.65</td>\n",
              "      <td>1</td>\n",
              "    </tr>\n",
              "    <tr>\n",
              "      <th>3</th>\n",
              "      <td>Female</td>\n",
              "      <td>No</td>\n",
              "      <td>Yes</td>\n",
              "      <td>Yes</td>\n",
              "      <td>28</td>\n",
              "      <td>Yes</td>\n",
              "      <td>Yes</td>\n",
              "      <td>Fiber optic</td>\n",
              "      <td>No</td>\n",
              "      <td>No</td>\n",
              "      <td>Yes</td>\n",
              "      <td>Yes</td>\n",
              "      <td>Yes</td>\n",
              "      <td>Yes</td>\n",
              "      <td>Month-to-month</td>\n",
              "      <td>Electronic check</td>\n",
              "      <td>104.80</td>\n",
              "      <td>1</td>\n",
              "    </tr>\n",
              "    <tr>\n",
              "      <th>4</th>\n",
              "      <td>Male</td>\n",
              "      <td>No</td>\n",
              "      <td>No</td>\n",
              "      <td>Yes</td>\n",
              "      <td>49</td>\n",
              "      <td>Yes</td>\n",
              "      <td>Yes</td>\n",
              "      <td>Fiber optic</td>\n",
              "      <td>No</td>\n",
              "      <td>Yes</td>\n",
              "      <td>Yes</td>\n",
              "      <td>No</td>\n",
              "      <td>Yes</td>\n",
              "      <td>Yes</td>\n",
              "      <td>Month-to-month</td>\n",
              "      <td>Bank transfer (automatic)</td>\n",
              "      <td>103.70</td>\n",
              "      <td>1</td>\n",
              "    </tr>\n",
              "    <tr>\n",
              "      <th>...</th>\n",
              "      <td>...</td>\n",
              "      <td>...</td>\n",
              "      <td>...</td>\n",
              "      <td>...</td>\n",
              "      <td>...</td>\n",
              "      <td>...</td>\n",
              "      <td>...</td>\n",
              "      <td>...</td>\n",
              "      <td>...</td>\n",
              "      <td>...</td>\n",
              "      <td>...</td>\n",
              "      <td>...</td>\n",
              "      <td>...</td>\n",
              "      <td>...</td>\n",
              "      <td>...</td>\n",
              "      <td>...</td>\n",
              "      <td>...</td>\n",
              "      <td>...</td>\n",
              "    </tr>\n",
              "    <tr>\n",
              "      <th>7038</th>\n",
              "      <td>Female</td>\n",
              "      <td>No</td>\n",
              "      <td>No</td>\n",
              "      <td>No</td>\n",
              "      <td>72</td>\n",
              "      <td>Yes</td>\n",
              "      <td>No</td>\n",
              "      <td>No</td>\n",
              "      <td>No internet service</td>\n",
              "      <td>No internet service</td>\n",
              "      <td>No internet service</td>\n",
              "      <td>No internet service</td>\n",
              "      <td>No internet service</td>\n",
              "      <td>No internet service</td>\n",
              "      <td>Two year</td>\n",
              "      <td>Bank transfer (automatic)</td>\n",
              "      <td>21.15</td>\n",
              "      <td>0</td>\n",
              "    </tr>\n",
              "    <tr>\n",
              "      <th>7039</th>\n",
              "      <td>Male</td>\n",
              "      <td>No</td>\n",
              "      <td>Yes</td>\n",
              "      <td>Yes</td>\n",
              "      <td>24</td>\n",
              "      <td>Yes</td>\n",
              "      <td>Yes</td>\n",
              "      <td>DSL</td>\n",
              "      <td>Yes</td>\n",
              "      <td>No</td>\n",
              "      <td>Yes</td>\n",
              "      <td>Yes</td>\n",
              "      <td>Yes</td>\n",
              "      <td>Yes</td>\n",
              "      <td>One year</td>\n",
              "      <td>Mailed check</td>\n",
              "      <td>84.80</td>\n",
              "      <td>0</td>\n",
              "    </tr>\n",
              "    <tr>\n",
              "      <th>7040</th>\n",
              "      <td>Female</td>\n",
              "      <td>No</td>\n",
              "      <td>Yes</td>\n",
              "      <td>Yes</td>\n",
              "      <td>72</td>\n",
              "      <td>Yes</td>\n",
              "      <td>Yes</td>\n",
              "      <td>Fiber optic</td>\n",
              "      <td>No</td>\n",
              "      <td>Yes</td>\n",
              "      <td>Yes</td>\n",
              "      <td>No</td>\n",
              "      <td>Yes</td>\n",
              "      <td>Yes</td>\n",
              "      <td>One year</td>\n",
              "      <td>Credit card (automatic)</td>\n",
              "      <td>103.20</td>\n",
              "      <td>0</td>\n",
              "    </tr>\n",
              "    <tr>\n",
              "      <th>7041</th>\n",
              "      <td>Female</td>\n",
              "      <td>No</td>\n",
              "      <td>Yes</td>\n",
              "      <td>Yes</td>\n",
              "      <td>11</td>\n",
              "      <td>No</td>\n",
              "      <td>No phone service</td>\n",
              "      <td>DSL</td>\n",
              "      <td>Yes</td>\n",
              "      <td>No</td>\n",
              "      <td>No</td>\n",
              "      <td>No</td>\n",
              "      <td>No</td>\n",
              "      <td>No</td>\n",
              "      <td>Month-to-month</td>\n",
              "      <td>Electronic check</td>\n",
              "      <td>29.60</td>\n",
              "      <td>0</td>\n",
              "    </tr>\n",
              "    <tr>\n",
              "      <th>7042</th>\n",
              "      <td>Male</td>\n",
              "      <td>No</td>\n",
              "      <td>No</td>\n",
              "      <td>No</td>\n",
              "      <td>66</td>\n",
              "      <td>Yes</td>\n",
              "      <td>No</td>\n",
              "      <td>Fiber optic</td>\n",
              "      <td>Yes</td>\n",
              "      <td>No</td>\n",
              "      <td>Yes</td>\n",
              "      <td>Yes</td>\n",
              "      <td>Yes</td>\n",
              "      <td>Yes</td>\n",
              "      <td>Two year</td>\n",
              "      <td>Bank transfer (automatic)</td>\n",
              "      <td>105.65</td>\n",
              "      <td>0</td>\n",
              "    </tr>\n",
              "  </tbody>\n",
              "</table>\n",
              "<p>7043 rows × 18 columns</p>\n",
              "</div>"
            ],
            "text/plain": [
              "      Gender Senior_Citizen  ... Monthly_Charges Churn_Value\n",
              "0       Male             No  ...           53.85           1\n",
              "1     Female             No  ...           70.70           1\n",
              "2     Female             No  ...           99.65           1\n",
              "3     Female             No  ...          104.80           1\n",
              "4       Male             No  ...          103.70           1\n",
              "...      ...            ...  ...             ...         ...\n",
              "7038  Female             No  ...           21.15           0\n",
              "7039    Male             No  ...           84.80           0\n",
              "7040  Female             No  ...          103.20           0\n",
              "7041  Female             No  ...           29.60           0\n",
              "7042    Male             No  ...          105.65           0\n",
              "\n",
              "[7043 rows x 18 columns]"
            ]
          },
          "metadata": {
            "tags": []
          },
          "execution_count": 713
        }
      ]
    },
    {
      "cell_type": "code",
      "metadata": {
        "colab": {
          "base_uri": "https://localhost:8080/"
        },
        "id": "6RsKhYcR0h2N",
        "outputId": "0f093756-5412-4213-be82-7e8b767dfaa8"
      },
      "source": [
        "data.shape"
      ],
      "execution_count": 714,
      "outputs": [
        {
          "output_type": "execute_result",
          "data": {
            "text/plain": [
              "(7043, 18)"
            ]
          },
          "metadata": {
            "tags": []
          },
          "execution_count": 714
        }
      ]
    },
    {
      "cell_type": "code",
      "metadata": {
        "colab": {
          "base_uri": "https://localhost:8080/"
        },
        "id": "FDXmgOAPKnTr",
        "outputId": "e1936031-460b-4449-8abb-779a5ccba3f6"
      },
      "source": [
        "data['Churn_Value'].value_counts()"
      ],
      "execution_count": 715,
      "outputs": [
        {
          "output_type": "execute_result",
          "data": {
            "text/plain": [
              "0    5174\n",
              "1    1869\n",
              "Name: Churn_Value, dtype: int64"
            ]
          },
          "metadata": {
            "tags": []
          },
          "execution_count": 715
        }
      ]
    },
    {
      "cell_type": "markdown",
      "metadata": {
        "id": "1zjqrAY1YZdE"
      },
      "source": [
        "we observed Unbalanced classes which lead us to perform undersampling for 0 values"
      ]
    },
    {
      "cell_type": "code",
      "metadata": {
        "colab": {
          "base_uri": "https://localhost:8080/"
        },
        "id": "JSOoe8mQY43U",
        "outputId": "1e4d2e58-e187-492e-8e56-f6b46f943f1a"
      },
      "source": [
        "# % of the churn \n",
        "data.groupby('Churn_Value').size() / len(data)*100"
      ],
      "execution_count": 716,
      "outputs": [
        {
          "output_type": "execute_result",
          "data": {
            "text/plain": [
              "Churn_Value\n",
              "0    73.463013\n",
              "1    26.536987\n",
              "dtype: float64"
            ]
          },
          "metadata": {
            "tags": []
          },
          "execution_count": 716
        }
      ]
    },
    {
      "cell_type": "markdown",
      "metadata": {
        "id": "olOqYD4ULGZP"
      },
      "source": [
        "##### 2.2 Data Visualization"
      ]
    },
    {
      "cell_type": "code",
      "metadata": {
        "colab": {
          "base_uri": "https://localhost:8080/",
          "height": 1000
        },
        "id": "0AXFdWu1I7v_",
        "outputId": "3cdb8920-2623-48f4-ef63-dffcbc80da4d"
      },
      "source": [
        "#  better understanding the original data\n",
        "\n",
        "def bar_plot(df,column):    \n",
        "    ax = sns.countplot(y=column, data=df)\n",
        "    plt.title('Distribution of  Configurations')\n",
        "    plt.xlabel('Percentage of Axles')\n",
        "    total = len(df[column])\n",
        "    for p in ax.patches:\n",
        "        percentage = '{:.1f}%'.format(100 * p.get_width()/total)\n",
        "        x = p.get_x() + p.get_width() + 0.02\n",
        "        y = p.get_y() + p.get_height()/2\n",
        "        ax.annotate(percentage, (x, y))\n",
        "    plt.show()\n",
        "bar_plot(data, \"Churn_Value\")\n",
        "bar_plot(data, \"Gender\")\n",
        "bar_plot(data, \"Phone_Service\")\n",
        "bar_plot(data, \"Multiple_Lines\")\n",
        "bar_plot(data, \"Internet_Service\")\n",
        "bar_plot(data, \"Contract\")"
      ],
      "execution_count": 717,
      "outputs": [
        {
          "output_type": "display_data",
          "data": {
            "image/png": "[encoded data removed]",
            "text/plain": [
              "<Figure size 432x288 with 1 Axes>"
            ]
          },
          "metadata": {
            "tags": [],
            "needs_background": "light"
          }
        },
        {
          "output_type": "display_data",
          "data": {
            "image/png": "[encoded data removed]",
            "text/plain": [
              "<Figure size 432x288 with 1 Axes>"
            ]
          },
          "metadata": {
            "tags": [],
            "needs_background": "light"
          }
        },
        {
          "output_type": "display_data",
          "data": {
            "image/png": "[encoded data removed]",
            "text/plain": [
              "<Figure size 432x288 with 1 Axes>"
            ]
          },
          "metadata": {
            "tags": [],
            "needs_background": "light"
          }
        },
        {
          "output_type": "display_data",
          "data": {
            "image/png": "[encoded data removed]",
            "text/plain": [
              "<Figure size 432x288 with 1 Axes>"
            ]
          },
          "metadata": {
            "tags": [],
            "needs_background": "light"
          }
        },
        {
          "output_type": "display_data",
          "data": {
            "image/png": "[encoded data removed]",
            "text/plain": [
              "<Figure size 432x288 with 1 Axes>"
            ]
          },
          "metadata": {
            "tags": [],
            "needs_background": "light"
          }
        },
        {
          "output_type": "display_data",
          "data": {
            "image/png": "[encoded data removed]",
            "text/plain": [
              "<Figure size 432x288 with 1 Axes>"
            ]
          },
          "metadata": {
            "tags": [],
            "needs_background": "light"
          }
        }
      ]
    },
    {
      "cell_type": "code",
      "metadata": {
        "colab": {
          "base_uri": "https://localhost:8080/",
          "height": 330
        },
        "id": "riMR6Ow0I79S",
        "outputId": "12e0064b-743c-4666-df56-ac9e660a0231"
      },
      "source": [
        "def barplot_percentages(f, orient='v', axis_name=\"percentage of customers\"):\n",
        "    ratios = pd.DataFrame()\n",
        "    g = data.groupby(f)[\"Churn_Value\"].value_counts().to_frame()\n",
        "    g = g.rename({\"Churn_Value\": axis_name}, axis=1).reset_index()\n",
        "    g[axis_name] = g[axis_name]/len(data)\n",
        "    if orient == 'v':\n",
        "        ax = sns.barplot(x=f, y= axis_name, hue='Churn_Value', data=g, orient=orient)\n",
        "        ax.set_yticklabels(['{:,.0%}'.format(y) for y in ax.get_yticks()])\n",
        "    else:\n",
        "        ax = sns.barplot(x= axis_name, y=f, hue='Churn_Value', data=g, orient=orient)\n",
        "        ax.set_xticklabels(['{:,.0%}'.format(x) for x in ax.get_xticks()])\n",
        "    ax.plot()\n",
        "\n",
        "plt.figure(figsize=(9, 4.5))\n",
        "\n",
        "barplot_percentages('Internet_Service')\n",
        "plt.show()\n",
        "print(' Customer with Fiber optic Internet more likly to Churn')\n"
      ],
      "execution_count": 718,
      "outputs": [
        {
          "output_type": "display_data",
          "data": {
            "image/png": "[encoded data removed]",
            "text/plain": [
              "<Figure size 648x324 with 1 Axes>"
            ]
          },
          "metadata": {
            "tags": [],
            "needs_background": "light"
          }
        },
        {
          "output_type": "stream",
          "text": [
            " Customer with Fiber optic Internet more likly to Churn\n"
          ],
          "name": "stdout"
        }
      ]
    },
    {
      "cell_type": "markdown",
      "metadata": {
        "id": "jVIoDXuSMcBi"
      },
      "source": [
        "Customer how has Fiber optic Internet more likly to Churn"
      ]
    },
    {
      "cell_type": "code",
      "metadata": {
        "colab": {
          "base_uri": "https://localhost:8080/",
          "height": 280
        },
        "id": "pMPiRfsjMryC",
        "outputId": "2241509e-9f75-48ea-f84b-06da9aa8037d"
      },
      "source": [
        "barplot_percentages('Phone_Service')\n",
        "plt.show()"
      ],
      "execution_count": 719,
      "outputs": [
        {
          "output_type": "display_data",
          "data": {
            "image/png": "[encoded data removed]",
            "text/plain": [
              "<Figure size 432x288 with 1 Axes>"
            ]
          },
          "metadata": {
            "tags": [],
            "needs_background": "light"
          }
        }
      ]
    },
    {
      "cell_type": "markdown",
      "metadata": {
        "id": "4msut2NzMsl3"
      },
      "source": [
        "Customer how has phone service more likly to Unchurn"
      ]
    },
    {
      "cell_type": "code",
      "metadata": {
        "colab": {
          "base_uri": "https://localhost:8080/",
          "height": 282
        },
        "id": "n-LZ_sedI8Re",
        "outputId": "d769feaf-56b1-4155-8107-4a396cc21483"
      },
      "source": [
        "ax = data['Contract'].value_counts().plot(kind = 'bar',rot = 0, width = 0.3)\n",
        "ax.set_ylabel('# of Customers')\n",
        "ax.set_title('# of Customers by Contract Type')\n",
        "plt.show()"
      ],
      "execution_count": 720,
      "outputs": [
        {
          "output_type": "display_data",
          "data": {
            "image/png": "[encoded data removed]",
            "text/plain": [
              "<Figure size 432x288 with 1 Axes>"
            ]
          },
          "metadata": {
            "tags": [],
            "needs_background": "light"
          }
        }
      ]
    },
    {
      "cell_type": "markdown",
      "metadata": {
        "id": "IhxITt-cNPmb"
      },
      "source": [
        "Most of the customer has Month to month subscribe"
      ]
    },
    {
      "cell_type": "code",
      "metadata": {
        "colab": {
          "base_uri": "https://localhost:8080/",
          "height": 320
        },
        "id": "5JyBNOu2wFBV",
        "outputId": "16c1271c-83b2-42eb-d177-012042488a20"
      },
      "source": [
        "import matplotlib.ticker as mtick\n",
        "ax = (data['Senior_Citizen'].value_counts()*100.0 /len(data))\\\n",
        ".plot.pie(autopct='%.1f%%', labels = ['No', 'Yes'],figsize =(5,5), fontsize = 12 )                                                                           \n",
        "ax.yaxis.set_major_formatter(mtick.PercentFormatter())\n",
        "ax.set_ylabel('Senior Citizens',fontsize = 12)\n",
        "ax.set_title('% of Senior Citizens', fontsize = 12)\n",
        "plt.show()"
      ],
      "execution_count": 721,
      "outputs": [
        {
          "output_type": "display_data",
          "data": {
            "image/png": "[encoded data removed]",
            "text/plain": [
              "<Figure size 360x360 with 1 Axes>"
            ]
          },
          "metadata": {
            "tags": []
          }
        }
      ]
    },
    {
      "cell_type": "markdown",
      "metadata": {
        "id": "lieqNd8NR6WE"
      },
      "source": [
        "Most of the customer are young"
      ]
    },
    {
      "cell_type": "markdown",
      "metadata": {
        "id": "EDpbL-sBHEWJ"
      },
      "source": [
        "##### 2.3 Convert categorical columns to Numeric by using one_ hot Encoding :"
      ]
    },
    {
      "cell_type": "code",
      "metadata": {
        "id": "E_Ikf4k-jtUb"
      },
      "source": [
        "# Create Dummies Variable\n",
        "data = pd.get_dummies(data, drop_first=True)"
      ],
      "execution_count": 722,
      "outputs": []
    },
    {
      "cell_type": "code",
      "metadata": {
        "colab": {
          "base_uri": "https://localhost:8080/",
          "height": 324
        },
        "id": "9A0WfK6ej8aT",
        "outputId": "2f9ecd59-05e0-4a5b-f956-f1b4fafd3698"
      },
      "source": [
        "data.head()"
      ],
      "execution_count": 723,
      "outputs": [
        {
          "output_type": "execute_result",
          "data": {
            "text/html": [
              "<div>\n",
              "<style scoped>\n",
              "    .dataframe tbody tr th:only-of-type {\n",
              "        vertical-align: middle;\n",
              "    }\n",
              "\n",
              "    .dataframe tbody tr th {\n",
              "        vertical-align: top;\n",
              "    }\n",
              "\n",
              "    .dataframe thead th {\n",
              "        text-align: right;\n",
              "    }\n",
              "</style>\n",
              "<table border=\"1\" class=\"dataframe\">\n",
              "  <thead>\n",
              "    <tr style=\"text-align: right;\">\n",
              "      <th></th>\n",
              "      <th>Tenure_Months</th>\n",
              "      <th>Monthly_Charges</th>\n",
              "      <th>Churn_Value</th>\n",
              "      <th>Gender_Male</th>\n",
              "      <th>Senior_Citizen_Yes</th>\n",
              "      <th>Partner_Yes</th>\n",
              "      <th>Dependents_Yes</th>\n",
              "      <th>Phone_Service_Yes</th>\n",
              "      <th>Multiple_Lines_No phone service</th>\n",
              "      <th>Multiple_Lines_Yes</th>\n",
              "      <th>Internet_Service_Fiber optic</th>\n",
              "      <th>Internet_Service_No</th>\n",
              "      <th>Online_Security_No internet service</th>\n",
              "      <th>Online_Security_Yes</th>\n",
              "      <th>Online_Backup_No internet service</th>\n",
              "      <th>Online_Backup_Yes</th>\n",
              "      <th>Device_Protection_No internet service</th>\n",
              "      <th>Device_Protection_Yes</th>\n",
              "      <th>Tech_Support_No internet service</th>\n",
              "      <th>Tech_Support_Yes</th>\n",
              "      <th>Streaming_TV_No internet service</th>\n",
              "      <th>Streaming_TV_Yes</th>\n",
              "      <th>Streaming_Movies_No internet service</th>\n",
              "      <th>Streaming_Movies_Yes</th>\n",
              "      <th>Contract_One year</th>\n",
              "      <th>Contract_Two year</th>\n",
              "      <th>Payment_Method_Credit card (automatic)</th>\n",
              "      <th>Payment_Method_Electronic check</th>\n",
              "      <th>Payment_Method_Mailed check</th>\n",
              "    </tr>\n",
              "  </thead>\n",
              "  <tbody>\n",
              "    <tr>\n",
              "      <th>0</th>\n",
              "      <td>2</td>\n",
              "      <td>53.85</td>\n",
              "      <td>1</td>\n",
              "      <td>1</td>\n",
              "      <td>0</td>\n",
              "      <td>0</td>\n",
              "      <td>0</td>\n",
              "      <td>1</td>\n",
              "      <td>0</td>\n",
              "      <td>0</td>\n",
              "      <td>0</td>\n",
              "      <td>0</td>\n",
              "      <td>0</td>\n",
              "      <td>1</td>\n",
              "      <td>0</td>\n",
              "      <td>1</td>\n",
              "      <td>0</td>\n",
              "      <td>0</td>\n",
              "      <td>0</td>\n",
              "      <td>0</td>\n",
              "      <td>0</td>\n",
              "      <td>0</td>\n",
              "      <td>0</td>\n",
              "      <td>0</td>\n",
              "      <td>0</td>\n",
              "      <td>0</td>\n",
              "      <td>0</td>\n",
              "      <td>0</td>\n",
              "      <td>1</td>\n",
              "    </tr>\n",
              "    <tr>\n",
              "      <th>1</th>\n",
              "      <td>2</td>\n",
              "      <td>70.70</td>\n",
              "      <td>1</td>\n",
              "      <td>0</td>\n",
              "      <td>0</td>\n",
              "      <td>0</td>\n",
              "      <td>1</td>\n",
              "      <td>1</td>\n",
              "      <td>0</td>\n",
              "      <td>0</td>\n",
              "      <td>1</td>\n",
              "      <td>0</td>\n",
              "      <td>0</td>\n",
              "      <td>0</td>\n",
              "      <td>0</td>\n",
              "      <td>0</td>\n",
              "      <td>0</td>\n",
              "      <td>0</td>\n",
              "      <td>0</td>\n",
              "      <td>0</td>\n",
              "      <td>0</td>\n",
              "      <td>0</td>\n",
              "      <td>0</td>\n",
              "      <td>0</td>\n",
              "      <td>0</td>\n",
              "      <td>0</td>\n",
              "      <td>0</td>\n",
              "      <td>1</td>\n",
              "      <td>0</td>\n",
              "    </tr>\n",
              "    <tr>\n",
              "      <th>2</th>\n",
              "      <td>8</td>\n",
              "      <td>99.65</td>\n",
              "      <td>1</td>\n",
              "      <td>0</td>\n",
              "      <td>0</td>\n",
              "      <td>0</td>\n",
              "      <td>1</td>\n",
              "      <td>1</td>\n",
              "      <td>0</td>\n",
              "      <td>1</td>\n",
              "      <td>1</td>\n",
              "      <td>0</td>\n",
              "      <td>0</td>\n",
              "      <td>0</td>\n",
              "      <td>0</td>\n",
              "      <td>0</td>\n",
              "      <td>0</td>\n",
              "      <td>1</td>\n",
              "      <td>0</td>\n",
              "      <td>0</td>\n",
              "      <td>0</td>\n",
              "      <td>1</td>\n",
              "      <td>0</td>\n",
              "      <td>1</td>\n",
              "      <td>0</td>\n",
              "      <td>0</td>\n",
              "      <td>0</td>\n",
              "      <td>1</td>\n",
              "      <td>0</td>\n",
              "    </tr>\n",
              "    <tr>\n",
              "      <th>3</th>\n",
              "      <td>28</td>\n",
              "      <td>104.80</td>\n",
              "      <td>1</td>\n",
              "      <td>0</td>\n",
              "      <td>0</td>\n",
              "      <td>1</td>\n",
              "      <td>1</td>\n",
              "      <td>1</td>\n",
              "      <td>0</td>\n",
              "      <td>1</td>\n",
              "      <td>1</td>\n",
              "      <td>0</td>\n",
              "      <td>0</td>\n",
              "      <td>0</td>\n",
              "      <td>0</td>\n",
              "      <td>0</td>\n",
              "      <td>0</td>\n",
              "      <td>1</td>\n",
              "      <td>0</td>\n",
              "      <td>1</td>\n",
              "      <td>0</td>\n",
              "      <td>1</td>\n",
              "      <td>0</td>\n",
              "      <td>1</td>\n",
              "      <td>0</td>\n",
              "      <td>0</td>\n",
              "      <td>0</td>\n",
              "      <td>1</td>\n",
              "      <td>0</td>\n",
              "    </tr>\n",
              "    <tr>\n",
              "      <th>4</th>\n",
              "      <td>49</td>\n",
              "      <td>103.70</td>\n",
              "      <td>1</td>\n",
              "      <td>1</td>\n",
              "      <td>0</td>\n",
              "      <td>0</td>\n",
              "      <td>1</td>\n",
              "      <td>1</td>\n",
              "      <td>0</td>\n",
              "      <td>1</td>\n",
              "      <td>1</td>\n",
              "      <td>0</td>\n",
              "      <td>0</td>\n",
              "      <td>0</td>\n",
              "      <td>0</td>\n",
              "      <td>1</td>\n",
              "      <td>0</td>\n",
              "      <td>1</td>\n",
              "      <td>0</td>\n",
              "      <td>0</td>\n",
              "      <td>0</td>\n",
              "      <td>1</td>\n",
              "      <td>0</td>\n",
              "      <td>1</td>\n",
              "      <td>0</td>\n",
              "      <td>0</td>\n",
              "      <td>0</td>\n",
              "      <td>0</td>\n",
              "      <td>0</td>\n",
              "    </tr>\n",
              "  </tbody>\n",
              "</table>\n",
              "</div>"
            ],
            "text/plain": [
              "   Tenure_Months  ...  Payment_Method_Mailed check\n",
              "0              2  ...                            1\n",
              "1              2  ...                            0\n",
              "2              8  ...                            0\n",
              "3             28  ...                            0\n",
              "4             49  ...                            0\n",
              "\n",
              "[5 rows x 29 columns]"
            ]
          },
          "metadata": {
            "tags": []
          },
          "execution_count": 723
        }
      ]
    },
    {
      "cell_type": "markdown",
      "metadata": {
        "id": "OHizo6-ISh8j"
      },
      "source": [
        "##### 2.3 Drop high correlation Columns:"
      ]
    },
    {
      "cell_type": "code",
      "metadata": {
        "colab": {
          "base_uri": "https://localhost:8080/",
          "height": 1000
        },
        "id": "wz25jQkjXpFN",
        "outputId": "f62ce84a-eb8e-410c-93d3-bff87ae11801"
      },
      "source": [
        "data.corr()"
      ],
      "execution_count": 724,
      "outputs": [
        {
          "output_type": "execute_result",
          "data": {
            "text/html": [
              "<div>\n",
              "<style scoped>\n",
              "    .dataframe tbody tr th:only-of-type {\n",
              "        vertical-align: middle;\n",
              "    }\n",
              "\n",
              "    .dataframe tbody tr th {\n",
              "        vertical-align: top;\n",
              "    }\n",
              "\n",
              "    .dataframe thead th {\n",
              "        text-align: right;\n",
              "    }\n",
              "</style>\n",
              "<table border=\"1\" class=\"dataframe\">\n",
              "  <thead>\n",
              "    <tr style=\"text-align: right;\">\n",
              "      <th></th>\n",
              "      <th>Tenure_Months</th>\n",
              "      <th>Monthly_Charges</th>\n",
              "      <th>Churn_Value</th>\n",
              "      <th>Gender_Male</th>\n",
              "      <th>Senior_Citizen_Yes</th>\n",
              "      <th>Partner_Yes</th>\n",
              "      <th>Dependents_Yes</th>\n",
              "      <th>Phone_Service_Yes</th>\n",
              "      <th>Multiple_Lines_No phone service</th>\n",
              "      <th>Multiple_Lines_Yes</th>\n",
              "      <th>Internet_Service_Fiber optic</th>\n",
              "      <th>Internet_Service_No</th>\n",
              "      <th>Online_Security_No internet service</th>\n",
              "      <th>Online_Security_Yes</th>\n",
              "      <th>Online_Backup_No internet service</th>\n",
              "      <th>Online_Backup_Yes</th>\n",
              "      <th>Device_Protection_No internet service</th>\n",
              "      <th>Device_Protection_Yes</th>\n",
              "      <th>Tech_Support_No internet service</th>\n",
              "      <th>Tech_Support_Yes</th>\n",
              "      <th>Streaming_TV_No internet service</th>\n",
              "      <th>Streaming_TV_Yes</th>\n",
              "      <th>Streaming_Movies_No internet service</th>\n",
              "      <th>Streaming_Movies_Yes</th>\n",
              "      <th>Contract_One year</th>\n",
              "      <th>Contract_Two year</th>\n",
              "      <th>Payment_Method_Credit card (automatic)</th>\n",
              "      <th>Payment_Method_Electronic check</th>\n",
              "      <th>Payment_Method_Mailed check</th>\n",
              "    </tr>\n",
              "  </thead>\n",
              "  <tbody>\n",
              "    <tr>\n",
              "      <th>Tenure_Months</th>\n",
              "      <td>1.000000</td>\n",
              "      <td>0.247900</td>\n",
              "      <td>-0.352229</td>\n",
              "      <td>0.005106</td>\n",
              "      <td>0.016567</td>\n",
              "      <td>0.379697</td>\n",
              "      <td>0.131376</td>\n",
              "      <td>0.008448</td>\n",
              "      <td>-0.008448</td>\n",
              "      <td>0.331941</td>\n",
              "      <td>0.019720</td>\n",
              "      <td>-0.039062</td>\n",
              "      <td>-0.039062</td>\n",
              "      <td>0.327203</td>\n",
              "      <td>-0.039062</td>\n",
              "      <td>0.360277</td>\n",
              "      <td>-0.039062</td>\n",
              "      <td>0.360653</td>\n",
              "      <td>-0.039062</td>\n",
              "      <td>0.324221</td>\n",
              "      <td>-0.039062</td>\n",
              "      <td>0.279756</td>\n",
              "      <td>-0.039062</td>\n",
              "      <td>0.286111</td>\n",
              "      <td>0.202570</td>\n",
              "      <td>0.558533</td>\n",
              "      <td>0.233006</td>\n",
              "      <td>-0.208363</td>\n",
              "      <td>-0.233852</td>\n",
              "    </tr>\n",
              "    <tr>\n",
              "      <th>Monthly_Charges</th>\n",
              "      <td>0.247900</td>\n",
              "      <td>1.000000</td>\n",
              "      <td>0.193356</td>\n",
              "      <td>-0.014569</td>\n",
              "      <td>0.220173</td>\n",
              "      <td>0.096848</td>\n",
              "      <td>-0.144206</td>\n",
              "      <td>0.247398</td>\n",
              "      <td>-0.247398</td>\n",
              "      <td>0.490434</td>\n",
              "      <td>0.787066</td>\n",
              "      <td>-0.763557</td>\n",
              "      <td>-0.763557</td>\n",
              "      <td>0.296594</td>\n",
              "      <td>-0.763557</td>\n",
              "      <td>0.441780</td>\n",
              "      <td>-0.763557</td>\n",
              "      <td>0.482692</td>\n",
              "      <td>-0.763557</td>\n",
              "      <td>0.338304</td>\n",
              "      <td>-0.763557</td>\n",
              "      <td>0.629603</td>\n",
              "      <td>-0.763557</td>\n",
              "      <td>0.627429</td>\n",
              "      <td>0.004904</td>\n",
              "      <td>-0.074681</td>\n",
              "      <td>0.030550</td>\n",
              "      <td>0.271625</td>\n",
              "      <td>-0.377437</td>\n",
              "    </tr>\n",
              "    <tr>\n",
              "      <th>Churn_Value</th>\n",
              "      <td>-0.352229</td>\n",
              "      <td>0.193356</td>\n",
              "      <td>1.000000</td>\n",
              "      <td>-0.008612</td>\n",
              "      <td>0.150889</td>\n",
              "      <td>-0.150448</td>\n",
              "      <td>-0.248542</td>\n",
              "      <td>0.011942</td>\n",
              "      <td>-0.011942</td>\n",
              "      <td>0.040102</td>\n",
              "      <td>0.308020</td>\n",
              "      <td>-0.227890</td>\n",
              "      <td>-0.227890</td>\n",
              "      <td>-0.171226</td>\n",
              "      <td>-0.227890</td>\n",
              "      <td>-0.082255</td>\n",
              "      <td>-0.227890</td>\n",
              "      <td>-0.066160</td>\n",
              "      <td>-0.227890</td>\n",
              "      <td>-0.164674</td>\n",
              "      <td>-0.227890</td>\n",
              "      <td>0.063228</td>\n",
              "      <td>-0.227890</td>\n",
              "      <td>0.061382</td>\n",
              "      <td>-0.177820</td>\n",
              "      <td>-0.302253</td>\n",
              "      <td>-0.134302</td>\n",
              "      <td>0.301919</td>\n",
              "      <td>-0.091683</td>\n",
              "    </tr>\n",
              "    <tr>\n",
              "      <th>Gender_Male</th>\n",
              "      <td>0.005106</td>\n",
              "      <td>-0.014569</td>\n",
              "      <td>-0.008612</td>\n",
              "      <td>1.000000</td>\n",
              "      <td>-0.001874</td>\n",
              "      <td>-0.001808</td>\n",
              "      <td>0.005229</td>\n",
              "      <td>-0.006488</td>\n",
              "      <td>0.006488</td>\n",
              "      <td>-0.008414</td>\n",
              "      <td>-0.011286</td>\n",
              "      <td>0.006026</td>\n",
              "      <td>0.006026</td>\n",
              "      <td>-0.017021</td>\n",
              "      <td>0.006026</td>\n",
              "      <td>-0.013773</td>\n",
              "      <td>0.006026</td>\n",
              "      <td>-0.002105</td>\n",
              "      <td>0.006026</td>\n",
              "      <td>-0.009212</td>\n",
              "      <td>0.006026</td>\n",
              "      <td>-0.008393</td>\n",
              "      <td>0.006026</td>\n",
              "      <td>-0.010487</td>\n",
              "      <td>0.008026</td>\n",
              "      <td>-0.003695</td>\n",
              "      <td>0.001215</td>\n",
              "      <td>0.000752</td>\n",
              "      <td>0.013744</td>\n",
              "    </tr>\n",
              "    <tr>\n",
              "      <th>Senior_Citizen_Yes</th>\n",
              "      <td>0.016567</td>\n",
              "      <td>0.220173</td>\n",
              "      <td>0.150889</td>\n",
              "      <td>-0.001874</td>\n",
              "      <td>1.000000</td>\n",
              "      <td>0.016479</td>\n",
              "      <td>-0.174396</td>\n",
              "      <td>0.008576</td>\n",
              "      <td>-0.008576</td>\n",
              "      <td>0.142948</td>\n",
              "      <td>0.255338</td>\n",
              "      <td>-0.182742</td>\n",
              "      <td>-0.182742</td>\n",
              "      <td>-0.038653</td>\n",
              "      <td>-0.182742</td>\n",
              "      <td>0.066572</td>\n",
              "      <td>-0.182742</td>\n",
              "      <td>0.059428</td>\n",
              "      <td>-0.182742</td>\n",
              "      <td>-0.060625</td>\n",
              "      <td>-0.182742</td>\n",
              "      <td>0.105378</td>\n",
              "      <td>-0.182742</td>\n",
              "      <td>0.120176</td>\n",
              "      <td>-0.046262</td>\n",
              "      <td>-0.117000</td>\n",
              "      <td>-0.024135</td>\n",
              "      <td>0.171718</td>\n",
              "      <td>-0.153477</td>\n",
              "    </tr>\n",
              "    <tr>\n",
              "      <th>Partner_Yes</th>\n",
              "      <td>0.379697</td>\n",
              "      <td>0.096848</td>\n",
              "      <td>-0.150448</td>\n",
              "      <td>-0.001808</td>\n",
              "      <td>0.016479</td>\n",
              "      <td>1.000000</td>\n",
              "      <td>0.363430</td>\n",
              "      <td>0.017706</td>\n",
              "      <td>-0.017706</td>\n",
              "      <td>0.142057</td>\n",
              "      <td>0.000304</td>\n",
              "      <td>0.000615</td>\n",
              "      <td>0.000615</td>\n",
              "      <td>0.143106</td>\n",
              "      <td>0.000615</td>\n",
              "      <td>0.141498</td>\n",
              "      <td>0.000615</td>\n",
              "      <td>0.153786</td>\n",
              "      <td>0.000615</td>\n",
              "      <td>0.119999</td>\n",
              "      <td>0.000615</td>\n",
              "      <td>0.124666</td>\n",
              "      <td>0.000615</td>\n",
              "      <td>0.117412</td>\n",
              "      <td>0.082783</td>\n",
              "      <td>0.248091</td>\n",
              "      <td>0.082029</td>\n",
              "      <td>-0.083852</td>\n",
              "      <td>-0.095125</td>\n",
              "    </tr>\n",
              "    <tr>\n",
              "      <th>Dependents_Yes</th>\n",
              "      <td>0.131376</td>\n",
              "      <td>-0.144206</td>\n",
              "      <td>-0.248542</td>\n",
              "      <td>0.005229</td>\n",
              "      <td>-0.174396</td>\n",
              "      <td>0.363430</td>\n",
              "      <td>1.000000</td>\n",
              "      <td>0.000625</td>\n",
              "      <td>-0.000625</td>\n",
              "      <td>-0.027510</td>\n",
              "      <td>-0.162353</td>\n",
              "      <td>0.172110</td>\n",
              "      <td>0.172110</td>\n",
              "      <td>0.050353</td>\n",
              "      <td>0.172110</td>\n",
              "      <td>0.003457</td>\n",
              "      <td>0.172110</td>\n",
              "      <td>-0.022343</td>\n",
              "      <td>0.172110</td>\n",
              "      <td>0.028811</td>\n",
              "      <td>0.172110</td>\n",
              "      <td>-0.057717</td>\n",
              "      <td>0.172110</td>\n",
              "      <td>-0.073364</td>\n",
              "      <td>0.014680</td>\n",
              "      <td>0.190262</td>\n",
              "      <td>0.041254</td>\n",
              "      <td>-0.141476</td>\n",
              "      <td>0.071056</td>\n",
              "    </tr>\n",
              "    <tr>\n",
              "      <th>Phone_Service_Yes</th>\n",
              "      <td>0.008448</td>\n",
              "      <td>0.247398</td>\n",
              "      <td>0.011942</td>\n",
              "      <td>-0.006488</td>\n",
              "      <td>0.008576</td>\n",
              "      <td>0.017706</td>\n",
              "      <td>0.000625</td>\n",
              "      <td>1.000000</td>\n",
              "      <td>-1.000000</td>\n",
              "      <td>0.279690</td>\n",
              "      <td>0.289999</td>\n",
              "      <td>0.172209</td>\n",
              "      <td>0.172209</td>\n",
              "      <td>-0.092893</td>\n",
              "      <td>0.172209</td>\n",
              "      <td>-0.052312</td>\n",
              "      <td>0.172209</td>\n",
              "      <td>-0.071227</td>\n",
              "      <td>0.172209</td>\n",
              "      <td>-0.096340</td>\n",
              "      <td>0.172209</td>\n",
              "      <td>-0.022574</td>\n",
              "      <td>0.172209</td>\n",
              "      <td>-0.032959</td>\n",
              "      <td>-0.002791</td>\n",
              "      <td>0.003519</td>\n",
              "      <td>-0.007721</td>\n",
              "      <td>0.003062</td>\n",
              "      <td>-0.003319</td>\n",
              "    </tr>\n",
              "    <tr>\n",
              "      <th>Multiple_Lines_No phone service</th>\n",
              "      <td>-0.008448</td>\n",
              "      <td>-0.247398</td>\n",
              "      <td>-0.011942</td>\n",
              "      <td>0.006488</td>\n",
              "      <td>-0.008576</td>\n",
              "      <td>-0.017706</td>\n",
              "      <td>-0.000625</td>\n",
              "      <td>-1.000000</td>\n",
              "      <td>1.000000</td>\n",
              "      <td>-0.279690</td>\n",
              "      <td>-0.289999</td>\n",
              "      <td>-0.172209</td>\n",
              "      <td>-0.172209</td>\n",
              "      <td>0.092893</td>\n",
              "      <td>-0.172209</td>\n",
              "      <td>0.052312</td>\n",
              "      <td>-0.172209</td>\n",
              "      <td>0.071227</td>\n",
              "      <td>-0.172209</td>\n",
              "      <td>0.096340</td>\n",
              "      <td>-0.172209</td>\n",
              "      <td>0.022574</td>\n",
              "      <td>-0.172209</td>\n",
              "      <td>0.032959</td>\n",
              "      <td>0.002791</td>\n",
              "      <td>-0.003519</td>\n",
              "      <td>0.007721</td>\n",
              "      <td>-0.003062</td>\n",
              "      <td>0.003319</td>\n",
              "    </tr>\n",
              "    <tr>\n",
              "      <th>Multiple_Lines_Yes</th>\n",
              "      <td>0.331941</td>\n",
              "      <td>0.490434</td>\n",
              "      <td>0.040102</td>\n",
              "      <td>-0.008414</td>\n",
              "      <td>0.142948</td>\n",
              "      <td>0.142057</td>\n",
              "      <td>-0.027510</td>\n",
              "      <td>0.279690</td>\n",
              "      <td>-0.279690</td>\n",
              "      <td>1.000000</td>\n",
              "      <td>0.366083</td>\n",
              "      <td>-0.210564</td>\n",
              "      <td>-0.210564</td>\n",
              "      <td>0.098108</td>\n",
              "      <td>-0.210564</td>\n",
              "      <td>0.202237</td>\n",
              "      <td>-0.210564</td>\n",
              "      <td>0.201137</td>\n",
              "      <td>-0.210564</td>\n",
              "      <td>0.100571</td>\n",
              "      <td>-0.210564</td>\n",
              "      <td>0.257152</td>\n",
              "      <td>-0.210564</td>\n",
              "      <td>0.258751</td>\n",
              "      <td>-0.003794</td>\n",
              "      <td>0.106253</td>\n",
              "      <td>0.060048</td>\n",
              "      <td>0.083618</td>\n",
              "      <td>-0.227206</td>\n",
              "    </tr>\n",
              "    <tr>\n",
              "      <th>Internet_Service_Fiber optic</th>\n",
              "      <td>0.019720</td>\n",
              "      <td>0.787066</td>\n",
              "      <td>0.308020</td>\n",
              "      <td>-0.011286</td>\n",
              "      <td>0.255338</td>\n",
              "      <td>0.000304</td>\n",
              "      <td>-0.162353</td>\n",
              "      <td>0.289999</td>\n",
              "      <td>-0.289999</td>\n",
              "      <td>0.366083</td>\n",
              "      <td>1.000000</td>\n",
              "      <td>-0.465793</td>\n",
              "      <td>-0.465793</td>\n",
              "      <td>-0.030696</td>\n",
              "      <td>-0.465793</td>\n",
              "      <td>0.165651</td>\n",
              "      <td>-0.465793</td>\n",
              "      <td>0.176049</td>\n",
              "      <td>-0.465793</td>\n",
              "      <td>-0.020492</td>\n",
              "      <td>-0.465793</td>\n",
              "      <td>0.329349</td>\n",
              "      <td>-0.465793</td>\n",
              "      <td>0.322923</td>\n",
              "      <td>-0.076324</td>\n",
              "      <td>-0.211526</td>\n",
              "      <td>-0.050077</td>\n",
              "      <td>0.336410</td>\n",
              "      <td>-0.306834</td>\n",
              "    </tr>\n",
              "    <tr>\n",
              "      <th>Internet_Service_No</th>\n",
              "      <td>-0.039062</td>\n",
              "      <td>-0.763557</td>\n",
              "      <td>-0.227890</td>\n",
              "      <td>0.006026</td>\n",
              "      <td>-0.182742</td>\n",
              "      <td>0.000615</td>\n",
              "      <td>0.172110</td>\n",
              "      <td>0.172209</td>\n",
              "      <td>-0.172209</td>\n",
              "      <td>-0.210564</td>\n",
              "      <td>-0.465793</td>\n",
              "      <td>1.000000</td>\n",
              "      <td>1.000000</td>\n",
              "      <td>-0.333403</td>\n",
              "      <td>1.000000</td>\n",
              "      <td>-0.381593</td>\n",
              "      <td>1.000000</td>\n",
              "      <td>-0.380754</td>\n",
              "      <td>1.000000</td>\n",
              "      <td>-0.336298</td>\n",
              "      <td>1.000000</td>\n",
              "      <td>-0.415552</td>\n",
              "      <td>1.000000</td>\n",
              "      <td>-0.418675</td>\n",
              "      <td>0.038004</td>\n",
              "      <td>0.218278</td>\n",
              "      <td>0.001030</td>\n",
              "      <td>-0.284917</td>\n",
              "      <td>0.321361</td>\n",
              "    </tr>\n",
              "    <tr>\n",
              "      <th>Online_Security_No internet service</th>\n",
              "      <td>-0.039062</td>\n",
              "      <td>-0.763557</td>\n",
              "      <td>-0.227890</td>\n",
              "      <td>0.006026</td>\n",
              "      <td>-0.182742</td>\n",
              "      <td>0.000615</td>\n",
              "      <td>0.172110</td>\n",
              "      <td>0.172209</td>\n",
              "      <td>-0.172209</td>\n",
              "      <td>-0.210564</td>\n",
              "      <td>-0.465793</td>\n",
              "      <td>1.000000</td>\n",
              "      <td>1.000000</td>\n",
              "      <td>-0.333403</td>\n",
              "      <td>1.000000</td>\n",
              "      <td>-0.381593</td>\n",
              "      <td>1.000000</td>\n",
              "      <td>-0.380754</td>\n",
              "      <td>1.000000</td>\n",
              "      <td>-0.336298</td>\n",
              "      <td>1.000000</td>\n",
              "      <td>-0.415552</td>\n",
              "      <td>1.000000</td>\n",
              "      <td>-0.418675</td>\n",
              "      <td>0.038004</td>\n",
              "      <td>0.218278</td>\n",
              "      <td>0.001030</td>\n",
              "      <td>-0.284917</td>\n",
              "      <td>0.321361</td>\n",
              "    </tr>\n",
              "    <tr>\n",
              "      <th>Online_Security_Yes</th>\n",
              "      <td>0.327203</td>\n",
              "      <td>0.296594</td>\n",
              "      <td>-0.171226</td>\n",
              "      <td>-0.017021</td>\n",
              "      <td>-0.038653</td>\n",
              "      <td>0.143106</td>\n",
              "      <td>0.050353</td>\n",
              "      <td>-0.092893</td>\n",
              "      <td>0.092893</td>\n",
              "      <td>0.098108</td>\n",
              "      <td>-0.030696</td>\n",
              "      <td>-0.333403</td>\n",
              "      <td>-0.333403</td>\n",
              "      <td>1.000000</td>\n",
              "      <td>-0.333403</td>\n",
              "      <td>0.283832</td>\n",
              "      <td>-0.333403</td>\n",
              "      <td>0.275438</td>\n",
              "      <td>-0.333403</td>\n",
              "      <td>0.354931</td>\n",
              "      <td>-0.333403</td>\n",
              "      <td>0.176207</td>\n",
              "      <td>-0.333403</td>\n",
              "      <td>0.187398</td>\n",
              "      <td>0.100162</td>\n",
              "      <td>0.191773</td>\n",
              "      <td>0.115721</td>\n",
              "      <td>-0.112338</td>\n",
              "      <td>-0.080798</td>\n",
              "    </tr>\n",
              "    <tr>\n",
              "      <th>Online_Backup_No internet service</th>\n",
              "      <td>-0.039062</td>\n",
              "      <td>-0.763557</td>\n",
              "      <td>-0.227890</td>\n",
              "      <td>0.006026</td>\n",
              "      <td>-0.182742</td>\n",
              "      <td>0.000615</td>\n",
              "      <td>0.172110</td>\n",
              "      <td>0.172209</td>\n",
              "      <td>-0.172209</td>\n",
              "      <td>-0.210564</td>\n",
              "      <td>-0.465793</td>\n",
              "      <td>1.000000</td>\n",
              "      <td>1.000000</td>\n",
              "      <td>-0.333403</td>\n",
              "      <td>1.000000</td>\n",
              "      <td>-0.381593</td>\n",
              "      <td>1.000000</td>\n",
              "      <td>-0.380754</td>\n",
              "      <td>1.000000</td>\n",
              "      <td>-0.336298</td>\n",
              "      <td>1.000000</td>\n",
              "      <td>-0.415552</td>\n",
              "      <td>1.000000</td>\n",
              "      <td>-0.418675</td>\n",
              "      <td>0.038004</td>\n",
              "      <td>0.218278</td>\n",
              "      <td>0.001030</td>\n",
              "      <td>-0.284917</td>\n",
              "      <td>0.321361</td>\n",
              "    </tr>\n",
              "    <tr>\n",
              "      <th>Online_Backup_Yes</th>\n",
              "      <td>0.360277</td>\n",
              "      <td>0.441780</td>\n",
              "      <td>-0.082255</td>\n",
              "      <td>-0.013773</td>\n",
              "      <td>0.066572</td>\n",
              "      <td>0.141498</td>\n",
              "      <td>0.003457</td>\n",
              "      <td>-0.052312</td>\n",
              "      <td>0.052312</td>\n",
              "      <td>0.202237</td>\n",
              "      <td>0.165651</td>\n",
              "      <td>-0.381593</td>\n",
              "      <td>-0.381593</td>\n",
              "      <td>0.283832</td>\n",
              "      <td>-0.381593</td>\n",
              "      <td>1.000000</td>\n",
              "      <td>-0.381593</td>\n",
              "      <td>0.303546</td>\n",
              "      <td>-0.381593</td>\n",
              "      <td>0.294233</td>\n",
              "      <td>-0.381593</td>\n",
              "      <td>0.282106</td>\n",
              "      <td>-0.381593</td>\n",
              "      <td>0.274501</td>\n",
              "      <td>0.083722</td>\n",
              "      <td>0.111400</td>\n",
              "      <td>0.090785</td>\n",
              "      <td>-0.000408</td>\n",
              "      <td>-0.174164</td>\n",
              "    </tr>\n",
              "    <tr>\n",
              "      <th>Device_Protection_No internet service</th>\n",
              "      <td>-0.039062</td>\n",
              "      <td>-0.763557</td>\n",
              "      <td>-0.227890</td>\n",
              "      <td>0.006026</td>\n",
              "      <td>-0.182742</td>\n",
              "      <td>0.000615</td>\n",
              "      <td>0.172110</td>\n",
              "      <td>0.172209</td>\n",
              "      <td>-0.172209</td>\n",
              "      <td>-0.210564</td>\n",
              "      <td>-0.465793</td>\n",
              "      <td>1.000000</td>\n",
              "      <td>1.000000</td>\n",
              "      <td>-0.333403</td>\n",
              "      <td>1.000000</td>\n",
              "      <td>-0.381593</td>\n",
              "      <td>1.000000</td>\n",
              "      <td>-0.380754</td>\n",
              "      <td>1.000000</td>\n",
              "      <td>-0.336298</td>\n",
              "      <td>1.000000</td>\n",
              "      <td>-0.415552</td>\n",
              "      <td>1.000000</td>\n",
              "      <td>-0.418675</td>\n",
              "      <td>0.038004</td>\n",
              "      <td>0.218278</td>\n",
              "      <td>0.001030</td>\n",
              "      <td>-0.284917</td>\n",
              "      <td>0.321361</td>\n",
              "    </tr>\n",
              "    <tr>\n",
              "      <th>Device_Protection_Yes</th>\n",
              "      <td>0.360653</td>\n",
              "      <td>0.482692</td>\n",
              "      <td>-0.066160</td>\n",
              "      <td>-0.002105</td>\n",
              "      <td>0.059428</td>\n",
              "      <td>0.153786</td>\n",
              "      <td>-0.022343</td>\n",
              "      <td>-0.071227</td>\n",
              "      <td>0.071227</td>\n",
              "      <td>0.201137</td>\n",
              "      <td>0.176049</td>\n",
              "      <td>-0.380754</td>\n",
              "      <td>-0.380754</td>\n",
              "      <td>0.275438</td>\n",
              "      <td>-0.380754</td>\n",
              "      <td>0.303546</td>\n",
              "      <td>-0.380754</td>\n",
              "      <td>1.000000</td>\n",
              "      <td>-0.380754</td>\n",
              "      <td>0.333313</td>\n",
              "      <td>-0.380754</td>\n",
              "      <td>0.390874</td>\n",
              "      <td>-0.380754</td>\n",
              "      <td>0.402111</td>\n",
              "      <td>0.102495</td>\n",
              "      <td>0.165096</td>\n",
              "      <td>0.111554</td>\n",
              "      <td>-0.003351</td>\n",
              "      <td>-0.187373</td>\n",
              "    </tr>\n",
              "    <tr>\n",
              "      <th>Tech_Support_No internet service</th>\n",
              "      <td>-0.039062</td>\n",
              "      <td>-0.763557</td>\n",
              "      <td>-0.227890</td>\n",
              "      <td>0.006026</td>\n",
              "      <td>-0.182742</td>\n",
              "      <td>0.000615</td>\n",
              "      <td>0.172110</td>\n",
              "      <td>0.172209</td>\n",
              "      <td>-0.172209</td>\n",
              "      <td>-0.210564</td>\n",
              "      <td>-0.465793</td>\n",
              "      <td>1.000000</td>\n",
              "      <td>1.000000</td>\n",
              "      <td>-0.333403</td>\n",
              "      <td>1.000000</td>\n",
              "      <td>-0.381593</td>\n",
              "      <td>1.000000</td>\n",
              "      <td>-0.380754</td>\n",
              "      <td>1.000000</td>\n",
              "      <td>-0.336298</td>\n",
              "      <td>1.000000</td>\n",
              "      <td>-0.415552</td>\n",
              "      <td>1.000000</td>\n",
              "      <td>-0.418675</td>\n",
              "      <td>0.038004</td>\n",
              "      <td>0.218278</td>\n",
              "      <td>0.001030</td>\n",
              "      <td>-0.284917</td>\n",
              "      <td>0.321361</td>\n",
              "    </tr>\n",
              "    <tr>\n",
              "      <th>Tech_Support_Yes</th>\n",
              "      <td>0.324221</td>\n",
              "      <td>0.338304</td>\n",
              "      <td>-0.164674</td>\n",
              "      <td>-0.009212</td>\n",
              "      <td>-0.060625</td>\n",
              "      <td>0.119999</td>\n",
              "      <td>0.028811</td>\n",
              "      <td>-0.096340</td>\n",
              "      <td>0.096340</td>\n",
              "      <td>0.100571</td>\n",
              "      <td>-0.020492</td>\n",
              "      <td>-0.336298</td>\n",
              "      <td>-0.336298</td>\n",
              "      <td>0.354931</td>\n",
              "      <td>-0.336298</td>\n",
              "      <td>0.294233</td>\n",
              "      <td>-0.336298</td>\n",
              "      <td>0.333313</td>\n",
              "      <td>-0.336298</td>\n",
              "      <td>1.000000</td>\n",
              "      <td>-0.336298</td>\n",
              "      <td>0.278070</td>\n",
              "      <td>-0.336298</td>\n",
              "      <td>0.279358</td>\n",
              "      <td>0.095775</td>\n",
              "      <td>0.240824</td>\n",
              "      <td>0.117272</td>\n",
              "      <td>-0.114839</td>\n",
              "      <td>-0.085509</td>\n",
              "    </tr>\n",
              "    <tr>\n",
              "      <th>Streaming_TV_No internet service</th>\n",
              "      <td>-0.039062</td>\n",
              "      <td>-0.763557</td>\n",
              "      <td>-0.227890</td>\n",
              "      <td>0.006026</td>\n",
              "      <td>-0.182742</td>\n",
              "      <td>0.000615</td>\n",
              "      <td>0.172110</td>\n",
              "      <td>0.172209</td>\n",
              "      <td>-0.172209</td>\n",
              "      <td>-0.210564</td>\n",
              "      <td>-0.465793</td>\n",
              "      <td>1.000000</td>\n",
              "      <td>1.000000</td>\n",
              "      <td>-0.333403</td>\n",
              "      <td>1.000000</td>\n",
              "      <td>-0.381593</td>\n",
              "      <td>1.000000</td>\n",
              "      <td>-0.380754</td>\n",
              "      <td>1.000000</td>\n",
              "      <td>-0.336298</td>\n",
              "      <td>1.000000</td>\n",
              "      <td>-0.415552</td>\n",
              "      <td>1.000000</td>\n",
              "      <td>-0.418675</td>\n",
              "      <td>0.038004</td>\n",
              "      <td>0.218278</td>\n",
              "      <td>0.001030</td>\n",
              "      <td>-0.284917</td>\n",
              "      <td>0.321361</td>\n",
              "    </tr>\n",
              "    <tr>\n",
              "      <th>Streaming_TV_Yes</th>\n",
              "      <td>0.279756</td>\n",
              "      <td>0.629603</td>\n",
              "      <td>0.063228</td>\n",
              "      <td>-0.008393</td>\n",
              "      <td>0.105378</td>\n",
              "      <td>0.124666</td>\n",
              "      <td>-0.057717</td>\n",
              "      <td>-0.022574</td>\n",
              "      <td>0.022574</td>\n",
              "      <td>0.257152</td>\n",
              "      <td>0.329349</td>\n",
              "      <td>-0.415552</td>\n",
              "      <td>-0.415552</td>\n",
              "      <td>0.176207</td>\n",
              "      <td>-0.415552</td>\n",
              "      <td>0.282106</td>\n",
              "      <td>-0.415552</td>\n",
              "      <td>0.390874</td>\n",
              "      <td>-0.415552</td>\n",
              "      <td>0.278070</td>\n",
              "      <td>-0.415552</td>\n",
              "      <td>1.000000</td>\n",
              "      <td>-0.415552</td>\n",
              "      <td>0.533094</td>\n",
              "      <td>0.061612</td>\n",
              "      <td>0.072049</td>\n",
              "      <td>0.040433</td>\n",
              "      <td>0.144626</td>\n",
              "      <td>-0.247742</td>\n",
              "    </tr>\n",
              "    <tr>\n",
              "      <th>Streaming_Movies_No internet service</th>\n",
              "      <td>-0.039062</td>\n",
              "      <td>-0.763557</td>\n",
              "      <td>-0.227890</td>\n",
              "      <td>0.006026</td>\n",
              "      <td>-0.182742</td>\n",
              "      <td>0.000615</td>\n",
              "      <td>0.172110</td>\n",
              "      <td>0.172209</td>\n",
              "      <td>-0.172209</td>\n",
              "      <td>-0.210564</td>\n",
              "      <td>-0.465793</td>\n",
              "      <td>1.000000</td>\n",
              "      <td>1.000000</td>\n",
              "      <td>-0.333403</td>\n",
              "      <td>1.000000</td>\n",
              "      <td>-0.381593</td>\n",
              "      <td>1.000000</td>\n",
              "      <td>-0.380754</td>\n",
              "      <td>1.000000</td>\n",
              "      <td>-0.336298</td>\n",
              "      <td>1.000000</td>\n",
              "      <td>-0.415552</td>\n",
              "      <td>1.000000</td>\n",
              "      <td>-0.418675</td>\n",
              "      <td>0.038004</td>\n",
              "      <td>0.218278</td>\n",
              "      <td>0.001030</td>\n",
              "      <td>-0.284917</td>\n",
              "      <td>0.321361</td>\n",
              "    </tr>\n",
              "    <tr>\n",
              "      <th>Streaming_Movies_Yes</th>\n",
              "      <td>0.286111</td>\n",
              "      <td>0.627429</td>\n",
              "      <td>0.061382</td>\n",
              "      <td>-0.010487</td>\n",
              "      <td>0.120176</td>\n",
              "      <td>0.117412</td>\n",
              "      <td>-0.073364</td>\n",
              "      <td>-0.032959</td>\n",
              "      <td>0.032959</td>\n",
              "      <td>0.258751</td>\n",
              "      <td>0.322923</td>\n",
              "      <td>-0.418675</td>\n",
              "      <td>-0.418675</td>\n",
              "      <td>0.187398</td>\n",
              "      <td>-0.418675</td>\n",
              "      <td>0.274501</td>\n",
              "      <td>-0.418675</td>\n",
              "      <td>0.402111</td>\n",
              "      <td>-0.418675</td>\n",
              "      <td>0.279358</td>\n",
              "      <td>-0.418675</td>\n",
              "      <td>0.533094</td>\n",
              "      <td>-0.418675</td>\n",
              "      <td>1.000000</td>\n",
              "      <td>0.064926</td>\n",
              "      <td>0.073960</td>\n",
              "      <td>0.048575</td>\n",
              "      <td>0.137966</td>\n",
              "      <td>-0.250595</td>\n",
              "    </tr>\n",
              "    <tr>\n",
              "      <th>Contract_One year</th>\n",
              "      <td>0.202570</td>\n",
              "      <td>0.004904</td>\n",
              "      <td>-0.177820</td>\n",
              "      <td>0.008026</td>\n",
              "      <td>-0.046262</td>\n",
              "      <td>0.082783</td>\n",
              "      <td>0.014680</td>\n",
              "      <td>-0.002791</td>\n",
              "      <td>0.002791</td>\n",
              "      <td>-0.003794</td>\n",
              "      <td>-0.076324</td>\n",
              "      <td>0.038004</td>\n",
              "      <td>0.038004</td>\n",
              "      <td>0.100162</td>\n",
              "      <td>0.038004</td>\n",
              "      <td>0.083722</td>\n",
              "      <td>0.038004</td>\n",
              "      <td>0.102495</td>\n",
              "      <td>0.038004</td>\n",
              "      <td>0.095775</td>\n",
              "      <td>0.038004</td>\n",
              "      <td>0.061612</td>\n",
              "      <td>0.038004</td>\n",
              "      <td>0.064926</td>\n",
              "      <td>1.000000</td>\n",
              "      <td>-0.289510</td>\n",
              "      <td>0.067589</td>\n",
              "      <td>-0.109130</td>\n",
              "      <td>-0.000116</td>\n",
              "    </tr>\n",
              "    <tr>\n",
              "      <th>Contract_Two year</th>\n",
              "      <td>0.558533</td>\n",
              "      <td>-0.074681</td>\n",
              "      <td>-0.302253</td>\n",
              "      <td>-0.003695</td>\n",
              "      <td>-0.117000</td>\n",
              "      <td>0.248091</td>\n",
              "      <td>0.190262</td>\n",
              "      <td>0.003519</td>\n",
              "      <td>-0.003519</td>\n",
              "      <td>0.106253</td>\n",
              "      <td>-0.211526</td>\n",
              "      <td>0.218278</td>\n",
              "      <td>0.218278</td>\n",
              "      <td>0.191773</td>\n",
              "      <td>0.218278</td>\n",
              "      <td>0.111400</td>\n",
              "      <td>0.218278</td>\n",
              "      <td>0.165096</td>\n",
              "      <td>0.218278</td>\n",
              "      <td>0.240824</td>\n",
              "      <td>0.218278</td>\n",
              "      <td>0.072049</td>\n",
              "      <td>0.218278</td>\n",
              "      <td>0.073960</td>\n",
              "      <td>-0.289510</td>\n",
              "      <td>1.000000</td>\n",
              "      <td>0.173265</td>\n",
              "      <td>-0.282138</td>\n",
              "      <td>-0.004705</td>\n",
              "    </tr>\n",
              "    <tr>\n",
              "      <th>Payment_Method_Credit card (automatic)</th>\n",
              "      <td>0.233006</td>\n",
              "      <td>0.030550</td>\n",
              "      <td>-0.134302</td>\n",
              "      <td>0.001215</td>\n",
              "      <td>-0.024135</td>\n",
              "      <td>0.082029</td>\n",
              "      <td>0.041254</td>\n",
              "      <td>-0.007721</td>\n",
              "      <td>0.007721</td>\n",
              "      <td>0.060048</td>\n",
              "      <td>-0.050077</td>\n",
              "      <td>0.001030</td>\n",
              "      <td>0.001030</td>\n",
              "      <td>0.115721</td>\n",
              "      <td>0.001030</td>\n",
              "      <td>0.090785</td>\n",
              "      <td>0.001030</td>\n",
              "      <td>0.111554</td>\n",
              "      <td>0.001030</td>\n",
              "      <td>0.117272</td>\n",
              "      <td>0.001030</td>\n",
              "      <td>0.040433</td>\n",
              "      <td>0.001030</td>\n",
              "      <td>0.048575</td>\n",
              "      <td>0.067589</td>\n",
              "      <td>0.173265</td>\n",
              "      <td>1.000000</td>\n",
              "      <td>-0.373322</td>\n",
              "      <td>-0.286049</td>\n",
              "    </tr>\n",
              "    <tr>\n",
              "      <th>Payment_Method_Electronic check</th>\n",
              "      <td>-0.208363</td>\n",
              "      <td>0.271625</td>\n",
              "      <td>0.301919</td>\n",
              "      <td>0.000752</td>\n",
              "      <td>0.171718</td>\n",
              "      <td>-0.083852</td>\n",
              "      <td>-0.141476</td>\n",
              "      <td>0.003062</td>\n",
              "      <td>-0.003062</td>\n",
              "      <td>0.083618</td>\n",
              "      <td>0.336410</td>\n",
              "      <td>-0.284917</td>\n",
              "      <td>-0.284917</td>\n",
              "      <td>-0.112338</td>\n",
              "      <td>-0.284917</td>\n",
              "      <td>-0.000408</td>\n",
              "      <td>-0.284917</td>\n",
              "      <td>-0.003351</td>\n",
              "      <td>-0.284917</td>\n",
              "      <td>-0.114839</td>\n",
              "      <td>-0.284917</td>\n",
              "      <td>0.144626</td>\n",
              "      <td>-0.284917</td>\n",
              "      <td>0.137966</td>\n",
              "      <td>-0.109130</td>\n",
              "      <td>-0.282138</td>\n",
              "      <td>-0.373322</td>\n",
              "      <td>1.000000</td>\n",
              "      <td>-0.387372</td>\n",
              "    </tr>\n",
              "    <tr>\n",
              "      <th>Payment_Method_Mailed check</th>\n",
              "      <td>-0.233852</td>\n",
              "      <td>-0.377437</td>\n",
              "      <td>-0.091683</td>\n",
              "      <td>0.013744</td>\n",
              "      <td>-0.153477</td>\n",
              "      <td>-0.095125</td>\n",
              "      <td>0.071056</td>\n",
              "      <td>-0.003319</td>\n",
              "      <td>0.003319</td>\n",
              "      <td>-0.227206</td>\n",
              "      <td>-0.306834</td>\n",
              "      <td>0.321361</td>\n",
              "      <td>0.321361</td>\n",
              "      <td>-0.080798</td>\n",
              "      <td>0.321361</td>\n",
              "      <td>-0.174164</td>\n",
              "      <td>0.321361</td>\n",
              "      <td>-0.187373</td>\n",
              "      <td>0.321361</td>\n",
              "      <td>-0.085509</td>\n",
              "      <td>0.321361</td>\n",
              "      <td>-0.247742</td>\n",
              "      <td>0.321361</td>\n",
              "      <td>-0.250595</td>\n",
              "      <td>-0.000116</td>\n",
              "      <td>-0.004705</td>\n",
              "      <td>-0.286049</td>\n",
              "      <td>-0.387372</td>\n",
              "      <td>1.000000</td>\n",
              "    </tr>\n",
              "  </tbody>\n",
              "</table>\n",
              "</div>"
            ],
            "text/plain": [
              "                                        Tenure_Months  ...  Payment_Method_Mailed check\n",
              "Tenure_Months                                1.000000  ...                    -0.233852\n",
              "Monthly_Charges                              0.247900  ...                    -0.377437\n",
              "Churn_Value                                 -0.352229  ...                    -0.091683\n",
              "Gender_Male                                  0.005106  ...                     0.013744\n",
              "Senior_Citizen_Yes                           0.016567  ...                    -0.153477\n",
              "Partner_Yes                                  0.379697  ...                    -0.095125\n",
              "Dependents_Yes                               0.131376  ...                     0.071056\n",
              "Phone_Service_Yes                            0.008448  ...                    -0.003319\n",
              "Multiple_Lines_No phone service             -0.008448  ...                     0.003319\n",
              "Multiple_Lines_Yes                           0.331941  ...                    -0.227206\n",
              "Internet_Service_Fiber optic                 0.019720  ...                    -0.306834\n",
              "Internet_Service_No                         -0.039062  ...                     0.321361\n",
              "Online_Security_No internet service         -0.039062  ...                     0.321361\n",
              "Online_Security_Yes                          0.327203  ...                    -0.080798\n",
              "Online_Backup_No internet service           -0.039062  ...                     0.321361\n",
              "Online_Backup_Yes                            0.360277  ...                    -0.174164\n",
              "Device_Protection_No internet service       -0.039062  ...                     0.321361\n",
              "Device_Protection_Yes                        0.360653  ...                    -0.187373\n",
              "Tech_Support_No internet service            -0.039062  ...                     0.321361\n",
              "Tech_Support_Yes                             0.324221  ...                    -0.085509\n",
              "Streaming_TV_No internet service            -0.039062  ...                     0.321361\n",
              "Streaming_TV_Yes                             0.279756  ...                    -0.247742\n",
              "Streaming_Movies_No internet service        -0.039062  ...                     0.321361\n",
              "Streaming_Movies_Yes                         0.286111  ...                    -0.250595\n",
              "Contract_One year                            0.202570  ...                    -0.000116\n",
              "Contract_Two year                            0.558533  ...                    -0.004705\n",
              "Payment_Method_Credit card (automatic)       0.233006  ...                    -0.286049\n",
              "Payment_Method_Electronic check             -0.208363  ...                    -0.387372\n",
              "Payment_Method_Mailed check                 -0.233852  ...                     1.000000\n",
              "\n",
              "[29 rows x 29 columns]"
            ]
          },
          "metadata": {
            "tags": []
          },
          "execution_count": 724
        }
      ]
    },
    {
      "cell_type": "code",
      "metadata": {
        "colab": {
          "base_uri": "https://localhost:8080/",
          "height": 1000
        },
        "id": "GAeUnlgPAJ5f",
        "outputId": "8f489db0-57fc-4ca0-8dc1-bf3da22bfdf4"
      },
      "source": [
        "# Visualize the corrolation \n",
        "\n",
        "data_heatmap = data.copy()\n",
        "data_heatmap.corr().style.background_gradient(cmap='cividis')"
      ],
      "execution_count": 725,
      "outputs": [
        {
          "output_type": "execute_result",
          "data": {
            "text/html": [
              "<style  type=\"text/css\" >\n",
              "#T_e3825d94_aef7_11eb_bfd3_0242ac1c0002row0_col0,#T_e3825d94_aef7_11eb_bfd3_0242ac1c0002row1_col1,#T_e3825d94_aef7_11eb_bfd3_0242ac1c0002row2_col2,#T_e3825d94_aef7_11eb_bfd3_0242ac1c0002row3_col3,#T_e3825d94_aef7_11eb_bfd3_0242ac1c0002row4_col4,#T_e3825d94_aef7_11eb_bfd3_0242ac1c0002row5_col5,#T_e3825d94_aef7_11eb_bfd3_0242ac1c0002row6_col6,#T_e3825d94_aef7_11eb_bfd3_0242ac1c0002row7_col7,#T_e3825d94_aef7_11eb_bfd3_0242ac1c0002row8_col8,#T_e3825d94_aef7_11eb_bfd3_0242ac1c0002row9_col9,#T_e3825d94_aef7_11eb_bfd3_0242ac1c0002row10_col10,#T_e3825d94_aef7_11eb_bfd3_0242ac1c0002row11_col11,#T_e3825d94_aef7_11eb_bfd3_0242ac1c0002row11_col12,#T_e3825d94_aef7_11eb_bfd3_0242ac1c0002row11_col14,#T_e3825d94_aef7_11eb_bfd3_0242ac1c0002row11_col16,#T_e3825d94_aef7_11eb_bfd3_0242ac1c0002row11_col18,#T_e3825d94_aef7_11eb_bfd3_0242ac1c0002row11_col20,#T_e3825d94_aef7_11eb_bfd3_0242ac1c0002row11_col22,#T_e3825d94_aef7_11eb_bfd3_0242ac1c0002row12_col11,#T_e3825d94_aef7_11eb_bfd3_0242ac1c0002row12_col12,#T_e3825d94_aef7_11eb_bfd3_0242ac1c0002row12_col14,#T_e3825d94_aef7_11eb_bfd3_0242ac1c0002row12_col16,#T_e3825d94_aef7_11eb_bfd3_0242ac1c0002row12_col18,#T_e3825d94_aef7_11eb_bfd3_0242ac1c0002row12_col20,#T_e3825d94_aef7_11eb_bfd3_0242ac1c0002row12_col22,#T_e3825d94_aef7_11eb_bfd3_0242ac1c0002row13_col13,#T_e3825d94_aef7_11eb_bfd3_0242ac1c0002row14_col11,#T_e3825d94_aef7_11eb_bfd3_0242ac1c0002row14_col12,#T_e3825d94_aef7_11eb_bfd3_0242ac1c0002row14_col14,#T_e3825d94_aef7_11eb_bfd3_0242ac1c0002row14_col16,#T_e3825d94_aef7_11eb_bfd3_0242ac1c0002row14_col18,#T_e3825d94_aef7_11eb_bfd3_0242ac1c0002row14_col20,#T_e3825d94_aef7_11eb_bfd3_0242ac1c0002row14_col22,#T_e3825d94_aef7_11eb_bfd3_0242ac1c0002row15_col15,#T_e3825d94_aef7_11eb_bfd3_0242ac1c0002row16_col11,#T_e3825d94_aef7_11eb_bfd3_0242ac1c0002row16_col12,#T_e3825d94_aef7_11eb_bfd3_0242ac1c0002row16_col14,#T_e3825d94_aef7_11eb_bfd3_0242ac1c0002row16_col16,#T_e3825d94_aef7_11eb_bfd3_0242ac1c0002row16_col18,#T_e3825d94_aef7_11eb_bfd3_0242ac1c0002row16_col20,#T_e3825d94_aef7_11eb_bfd3_0242ac1c0002row16_col22,#T_e3825d94_aef7_11eb_bfd3_0242ac1c0002row17_col17,#T_e3825d94_aef7_11eb_bfd3_0242ac1c0002row18_col11,#T_e3825d94_aef7_11eb_bfd3_0242ac1c0002row18_col12,#T_e3825d94_aef7_11eb_bfd3_0242ac1c0002row18_col14,#T_e3825d94_aef7_11eb_bfd3_0242ac1c0002row18_col16,#T_e3825d94_aef7_11eb_bfd3_0242ac1c0002row18_col18,#T_e3825d94_aef7_11eb_bfd3_0242ac1c0002row18_col20,#T_e3825d94_aef7_11eb_bfd3_0242ac1c0002row18_col22,#T_e3825d94_aef7_11eb_bfd3_0242ac1c0002row19_col19,#T_e3825d94_aef7_11eb_bfd3_0242ac1c0002row20_col11,#T_e3825d94_aef7_11eb_bfd3_0242ac1c0002row20_col12,#T_e3825d94_aef7_11eb_bfd3_0242ac1c0002row20_col14,#T_e3825d94_aef7_11eb_bfd3_0242ac1c0002row20_col16,#T_e3825d94_aef7_11eb_bfd3_0242ac1c0002row20_col18,#T_e3825d94_aef7_11eb_bfd3_0242ac1c0002row20_col20,#T_e3825d94_aef7_11eb_bfd3_0242ac1c0002row20_col22,#T_e3825d94_aef7_11eb_bfd3_0242ac1c0002row21_col21,#T_e3825d94_aef7_11eb_bfd3_0242ac1c0002row22_col11,#T_e3825d94_aef7_11eb_bfd3_0242ac1c0002row22_col12,#T_e3825d94_aef7_11eb_bfd3_0242ac1c0002row22_col14,#T_e3825d94_aef7_11eb_bfd3_0242ac1c0002row22_col16,#T_e3825d94_aef7_11eb_bfd3_0242ac1c0002row22_col18,#T_e3825d94_aef7_11eb_bfd3_0242ac1c0002row22_col20,#T_e3825d94_aef7_11eb_bfd3_0242ac1c0002row22_col22,#T_e3825d94_aef7_11eb_bfd3_0242ac1c0002row23_col23,#T_e3825d94_aef7_11eb_bfd3_0242ac1c0002row24_col24,#T_e3825d94_aef7_11eb_bfd3_0242ac1c0002row25_col25,#T_e3825d94_aef7_11eb_bfd3_0242ac1c0002row26_col26,#T_e3825d94_aef7_11eb_bfd3_0242ac1c0002row27_col27,#T_e3825d94_aef7_11eb_bfd3_0242ac1c0002row28_col28{\n",
              "            background-color:  #fee838;\n",
              "            color:  #000000;\n",
              "        }#T_e3825d94_aef7_11eb_bfd3_0242ac1c0002row0_col1,#T_e3825d94_aef7_11eb_bfd3_0242ac1c0002row7_col1{\n",
              "            background-color:  #8e8978;\n",
              "            color:  #000000;\n",
              "        }#T_e3825d94_aef7_11eb_bfd3_0242ac1c0002row0_col2,#T_e3825d94_aef7_11eb_bfd3_0242ac1c0002row1_col3,#T_e3825d94_aef7_11eb_bfd3_0242ac1c0002row1_col11,#T_e3825d94_aef7_11eb_bfd3_0242ac1c0002row1_col12,#T_e3825d94_aef7_11eb_bfd3_0242ac1c0002row1_col14,#T_e3825d94_aef7_11eb_bfd3_0242ac1c0002row1_col16,#T_e3825d94_aef7_11eb_bfd3_0242ac1c0002row1_col18,#T_e3825d94_aef7_11eb_bfd3_0242ac1c0002row1_col20,#T_e3825d94_aef7_11eb_bfd3_0242ac1c0002row1_col22,#T_e3825d94_aef7_11eb_bfd3_0242ac1c0002row2_col0,#T_e3825d94_aef7_11eb_bfd3_0242ac1c0002row2_col5,#T_e3825d94_aef7_11eb_bfd3_0242ac1c0002row2_col6,#T_e3825d94_aef7_11eb_bfd3_0242ac1c0002row2_col25,#T_e3825d94_aef7_11eb_bfd3_0242ac1c0002row7_col8,#T_e3825d94_aef7_11eb_bfd3_0242ac1c0002row8_col7,#T_e3825d94_aef7_11eb_bfd3_0242ac1c0002row8_col9,#T_e3825d94_aef7_11eb_bfd3_0242ac1c0002row11_col1,#T_e3825d94_aef7_11eb_bfd3_0242ac1c0002row11_col4,#T_e3825d94_aef7_11eb_bfd3_0242ac1c0002row11_col10,#T_e3825d94_aef7_11eb_bfd3_0242ac1c0002row11_col13,#T_e3825d94_aef7_11eb_bfd3_0242ac1c0002row11_col15,#T_e3825d94_aef7_11eb_bfd3_0242ac1c0002row11_col17,#T_e3825d94_aef7_11eb_bfd3_0242ac1c0002row11_col19,#T_e3825d94_aef7_11eb_bfd3_0242ac1c0002row11_col21,#T_e3825d94_aef7_11eb_bfd3_0242ac1c0002row11_col23,#T_e3825d94_aef7_11eb_bfd3_0242ac1c0002row12_col1,#T_e3825d94_aef7_11eb_bfd3_0242ac1c0002row12_col4,#T_e3825d94_aef7_11eb_bfd3_0242ac1c0002row12_col10,#T_e3825d94_aef7_11eb_bfd3_0242ac1c0002row12_col13,#T_e3825d94_aef7_11eb_bfd3_0242ac1c0002row12_col15,#T_e3825d94_aef7_11eb_bfd3_0242ac1c0002row12_col17,#T_e3825d94_aef7_11eb_bfd3_0242ac1c0002row12_col19,#T_e3825d94_aef7_11eb_bfd3_0242ac1c0002row12_col21,#T_e3825d94_aef7_11eb_bfd3_0242ac1c0002row12_col23,#T_e3825d94_aef7_11eb_bfd3_0242ac1c0002row13_col3,#T_e3825d94_aef7_11eb_bfd3_0242ac1c0002row14_col1,#T_e3825d94_aef7_11eb_bfd3_0242ac1c0002row14_col4,#T_e3825d94_aef7_11eb_bfd3_0242ac1c0002row14_col10,#T_e3825d94_aef7_11eb_bfd3_0242ac1c0002row14_col13,#T_e3825d94_aef7_11eb_bfd3_0242ac1c0002row14_col15,#T_e3825d94_aef7_11eb_bfd3_0242ac1c0002row14_col17,#T_e3825d94_aef7_11eb_bfd3_0242ac1c0002row14_col19,#T_e3825d94_aef7_11eb_bfd3_0242ac1c0002row14_col21,#T_e3825d94_aef7_11eb_bfd3_0242ac1c0002row14_col23,#T_e3825d94_aef7_11eb_bfd3_0242ac1c0002row15_col3,#T_e3825d94_aef7_11eb_bfd3_0242ac1c0002row16_col1,#T_e3825d94_aef7_11eb_bfd3_0242ac1c0002row16_col4,#T_e3825d94_aef7_11eb_bfd3_0242ac1c0002row16_col10,#T_e3825d94_aef7_11eb_bfd3_0242ac1c0002row16_col13,#T_e3825d94_aef7_11eb_bfd3_0242ac1c0002row16_col15,#T_e3825d94_aef7_11eb_bfd3_0242ac1c0002row16_col17,#T_e3825d94_aef7_11eb_bfd3_0242ac1c0002row16_col19,#T_e3825d94_aef7_11eb_bfd3_0242ac1c0002row16_col21,#T_e3825d94_aef7_11eb_bfd3_0242ac1c0002row16_col23,#T_e3825d94_aef7_11eb_bfd3_0242ac1c0002row18_col1,#T_e3825d94_aef7_11eb_bfd3_0242ac1c0002row18_col4,#T_e3825d94_aef7_11eb_bfd3_0242ac1c0002row18_col10,#T_e3825d94_aef7_11eb_bfd3_0242ac1c0002row18_col13,#T_e3825d94_aef7_11eb_bfd3_0242ac1c0002row18_col15,#T_e3825d94_aef7_11eb_bfd3_0242ac1c0002row18_col17,#T_e3825d94_aef7_11eb_bfd3_0242ac1c0002row18_col19,#T_e3825d94_aef7_11eb_bfd3_0242ac1c0002row18_col21,#T_e3825d94_aef7_11eb_bfd3_0242ac1c0002row18_col23,#T_e3825d94_aef7_11eb_bfd3_0242ac1c0002row20_col1,#T_e3825d94_aef7_11eb_bfd3_0242ac1c0002row20_col4,#T_e3825d94_aef7_11eb_bfd3_0242ac1c0002row20_col10,#T_e3825d94_aef7_11eb_bfd3_0242ac1c0002row20_col13,#T_e3825d94_aef7_11eb_bfd3_0242ac1c0002row20_col15,#T_e3825d94_aef7_11eb_bfd3_0242ac1c0002row20_col17,#T_e3825d94_aef7_11eb_bfd3_0242ac1c0002row20_col19,#T_e3825d94_aef7_11eb_bfd3_0242ac1c0002row20_col21,#T_e3825d94_aef7_11eb_bfd3_0242ac1c0002row20_col23,#T_e3825d94_aef7_11eb_bfd3_0242ac1c0002row22_col1,#T_e3825d94_aef7_11eb_bfd3_0242ac1c0002row22_col4,#T_e3825d94_aef7_11eb_bfd3_0242ac1c0002row22_col10,#T_e3825d94_aef7_11eb_bfd3_0242ac1c0002row22_col13,#T_e3825d94_aef7_11eb_bfd3_0242ac1c0002row22_col15,#T_e3825d94_aef7_11eb_bfd3_0242ac1c0002row22_col17,#T_e3825d94_aef7_11eb_bfd3_0242ac1c0002row22_col19,#T_e3825d94_aef7_11eb_bfd3_0242ac1c0002row22_col21,#T_e3825d94_aef7_11eb_bfd3_0242ac1c0002row22_col23,#T_e3825d94_aef7_11eb_bfd3_0242ac1c0002row25_col24,#T_e3825d94_aef7_11eb_bfd3_0242ac1c0002row27_col26,#T_e3825d94_aef7_11eb_bfd3_0242ac1c0002row27_col28,#T_e3825d94_aef7_11eb_bfd3_0242ac1c0002row28_col27{\n",
              "            background-color:  #00224e;\n",
              "            color:  #f1f1f1;\n",
              "        }#T_e3825d94_aef7_11eb_bfd3_0242ac1c0002row0_col3,#T_e3825d94_aef7_11eb_bfd3_0242ac1c0002row6_col3,#T_e3825d94_aef7_11eb_bfd3_0242ac1c0002row8_col3,#T_e3825d94_aef7_11eb_bfd3_0242ac1c0002row11_col3,#T_e3825d94_aef7_11eb_bfd3_0242ac1c0002row12_col3,#T_e3825d94_aef7_11eb_bfd3_0242ac1c0002row14_col3,#T_e3825d94_aef7_11eb_bfd3_0242ac1c0002row16_col3,#T_e3825d94_aef7_11eb_bfd3_0242ac1c0002row18_col3,#T_e3825d94_aef7_11eb_bfd3_0242ac1c0002row20_col3,#T_e3825d94_aef7_11eb_bfd3_0242ac1c0002row22_col3{\n",
              "            background-color:  #002656;\n",
              "            color:  #f1f1f1;\n",
              "        }#T_e3825d94_aef7_11eb_bfd3_0242ac1c0002row0_col4,#T_e3825d94_aef7_11eb_bfd3_0242ac1c0002row4_col28,#T_e3825d94_aef7_11eb_bfd3_0242ac1c0002row5_col4,#T_e3825d94_aef7_11eb_bfd3_0242ac1c0002row10_col11,#T_e3825d94_aef7_11eb_bfd3_0242ac1c0002row10_col12,#T_e3825d94_aef7_11eb_bfd3_0242ac1c0002row10_col14,#T_e3825d94_aef7_11eb_bfd3_0242ac1c0002row10_col16,#T_e3825d94_aef7_11eb_bfd3_0242ac1c0002row10_col18,#T_e3825d94_aef7_11eb_bfd3_0242ac1c0002row10_col20,#T_e3825d94_aef7_11eb_bfd3_0242ac1c0002row10_col22{\n",
              "            background-color:  #2b406d;\n",
              "            color:  #f1f1f1;\n",
              "        }#T_e3825d94_aef7_11eb_bfd3_0242ac1c0002row0_col5,#T_e3825d94_aef7_11eb_bfd3_0242ac1c0002row21_col19,#T_e3825d94_aef7_11eb_bfd3_0242ac1c0002row23_col19{\n",
              "            background-color:  #737475;\n",
              "            color:  #000000;\n",
              "        }#T_e3825d94_aef7_11eb_bfd3_0242ac1c0002row0_col6,#T_e3825d94_aef7_11eb_bfd3_0242ac1c0002row2_col11,#T_e3825d94_aef7_11eb_bfd3_0242ac1c0002row2_col12,#T_e3825d94_aef7_11eb_bfd3_0242ac1c0002row2_col14,#T_e3825d94_aef7_11eb_bfd3_0242ac1c0002row2_col16,#T_e3825d94_aef7_11eb_bfd3_0242ac1c0002row2_col18,#T_e3825d94_aef7_11eb_bfd3_0242ac1c0002row2_col20,#T_e3825d94_aef7_11eb_bfd3_0242ac1c0002row2_col22,#T_e3825d94_aef7_11eb_bfd3_0242ac1c0002row6_col26,#T_e3825d94_aef7_11eb_bfd3_0242ac1c0002row13_col24,#T_e3825d94_aef7_11eb_bfd3_0242ac1c0002row17_col24,#T_e3825d94_aef7_11eb_bfd3_0242ac1c0002row19_col10,#T_e3825d94_aef7_11eb_bfd3_0242ac1c0002row21_col26,#T_e3825d94_aef7_11eb_bfd3_0242ac1c0002row25_col9{\n",
              "            background-color:  #50576c;\n",
              "            color:  #f1f1f1;\n",
              "        }#T_e3825d94_aef7_11eb_bfd3_0242ac1c0002row0_col7,#T_e3825d94_aef7_11eb_bfd3_0242ac1c0002row1_col19,#T_e3825d94_aef7_11eb_bfd3_0242ac1c0002row2_col7,#T_e3825d94_aef7_11eb_bfd3_0242ac1c0002row4_col7,#T_e3825d94_aef7_11eb_bfd3_0242ac1c0002row9_col0,#T_e3825d94_aef7_11eb_bfd3_0242ac1c0002row10_col9{\n",
              "            background-color:  #7e7c78;\n",
              "            color:  #000000;\n",
              "        }#T_e3825d94_aef7_11eb_bfd3_0242ac1c0002row0_col8,#T_e3825d94_aef7_11eb_bfd3_0242ac1c0002row0_col13,#T_e3825d94_aef7_11eb_bfd3_0242ac1c0002row0_col19,#T_e3825d94_aef7_11eb_bfd3_0242ac1c0002row2_col8,#T_e3825d94_aef7_11eb_bfd3_0242ac1c0002row4_col8,#T_e3825d94_aef7_11eb_bfd3_0242ac1c0002row15_col17,#T_e3825d94_aef7_11eb_bfd3_0242ac1c0002row15_col21,#T_e3825d94_aef7_11eb_bfd3_0242ac1c0002row17_col15{\n",
              "            background-color:  #7b7a78;\n",
              "            color:  #000000;\n",
              "        }#T_e3825d94_aef7_11eb_bfd3_0242ac1c0002row0_col9,#T_e3825d94_aef7_11eb_bfd3_0242ac1c0002row9_col23,#T_e3825d94_aef7_11eb_bfd3_0242ac1c0002row21_col15{\n",
              "            background-color:  #777777;\n",
              "            color:  #000000;\n",
              "        }#T_e3825d94_aef7_11eb_bfd3_0242ac1c0002row0_col10,#T_e3825d94_aef7_11eb_bfd3_0242ac1c0002row4_col9,#T_e3825d94_aef7_11eb_bfd3_0242ac1c0002row4_col11,#T_e3825d94_aef7_11eb_bfd3_0242ac1c0002row4_col12,#T_e3825d94_aef7_11eb_bfd3_0242ac1c0002row4_col14,#T_e3825d94_aef7_11eb_bfd3_0242ac1c0002row4_col16,#T_e3825d94_aef7_11eb_bfd3_0242ac1c0002row4_col18,#T_e3825d94_aef7_11eb_bfd3_0242ac1c0002row4_col20,#T_e3825d94_aef7_11eb_bfd3_0242ac1c0002row4_col22,#T_e3825d94_aef7_11eb_bfd3_0242ac1c0002row5_col9,#T_e3825d94_aef7_11eb_bfd3_0242ac1c0002row5_col26,#T_e3825d94_aef7_11eb_bfd3_0242ac1c0002row6_col28,#T_e3825d94_aef7_11eb_bfd3_0242ac1c0002row26_col23{\n",
              "            background-color:  #565c6d;\n",
              "            color:  #f1f1f1;\n",
              "        }#T_e3825d94_aef7_11eb_bfd3_0242ac1c0002row0_col11,#T_e3825d94_aef7_11eb_bfd3_0242ac1c0002row0_col12,#T_e3825d94_aef7_11eb_bfd3_0242ac1c0002row0_col14,#T_e3825d94_aef7_11eb_bfd3_0242ac1c0002row0_col16,#T_e3825d94_aef7_11eb_bfd3_0242ac1c0002row0_col18,#T_e3825d94_aef7_11eb_bfd3_0242ac1c0002row0_col20,#T_e3825d94_aef7_11eb_bfd3_0242ac1c0002row0_col22,#T_e3825d94_aef7_11eb_bfd3_0242ac1c0002row11_col8,#T_e3825d94_aef7_11eb_bfd3_0242ac1c0002row12_col8,#T_e3825d94_aef7_11eb_bfd3_0242ac1c0002row14_col8,#T_e3825d94_aef7_11eb_bfd3_0242ac1c0002row16_col8,#T_e3825d94_aef7_11eb_bfd3_0242ac1c0002row18_col8,#T_e3825d94_aef7_11eb_bfd3_0242ac1c0002row20_col8,#T_e3825d94_aef7_11eb_bfd3_0242ac1c0002row22_col8,#T_e3825d94_aef7_11eb_bfd3_0242ac1c0002row24_col0{\n",
              "            background-color:  #696b71;\n",
              "            color:  #000000;\n",
              "        }#T_e3825d94_aef7_11eb_bfd3_0242ac1c0002row0_col15,#T_e3825d94_aef7_11eb_bfd3_0242ac1c0002row0_col17,#T_e3825d94_aef7_11eb_bfd3_0242ac1c0002row17_col8,#T_e3825d94_aef7_11eb_bfd3_0242ac1c0002row23_col10{\n",
              "            background-color:  #858279;\n",
              "            color:  #000000;\n",
              "        }#T_e3825d94_aef7_11eb_bfd3_0242ac1c0002row0_col21,#T_e3825d94_aef7_11eb_bfd3_0242ac1c0002row4_col10,#T_e3825d94_aef7_11eb_bfd3_0242ac1c0002row5_col6,#T_e3825d94_aef7_11eb_bfd3_0242ac1c0002row5_col8,#T_e3825d94_aef7_11eb_bfd3_0242ac1c0002row15_col23,#T_e3825d94_aef7_11eb_bfd3_0242ac1c0002row19_col15,#T_e3825d94_aef7_11eb_bfd3_0242ac1c0002row19_col21,#T_e3825d94_aef7_11eb_bfd3_0242ac1c0002row19_col23,#T_e3825d94_aef7_11eb_bfd3_0242ac1c0002row21_col7{\n",
              "            background-color:  #7a7a78;\n",
              "            color:  #000000;\n",
              "        }#T_e3825d94_aef7_11eb_bfd3_0242ac1c0002row0_col23,#T_e3825d94_aef7_11eb_bfd3_0242ac1c0002row2_col27,#T_e3825d94_aef7_11eb_bfd3_0242ac1c0002row3_col7,#T_e3825d94_aef7_11eb_bfd3_0242ac1c0002row6_col8,#T_e3825d94_aef7_11eb_bfd3_0242ac1c0002row24_col7,#T_e3825d94_aef7_11eb_bfd3_0242ac1c0002row25_col8,#T_e3825d94_aef7_11eb_bfd3_0242ac1c0002row26_col7,#T_e3825d94_aef7_11eb_bfd3_0242ac1c0002row27_col8,#T_e3825d94_aef7_11eb_bfd3_0242ac1c0002row28_col7{\n",
              "            background-color:  #7c7b78;\n",
              "            color:  #000000;\n",
              "        }#T_e3825d94_aef7_11eb_bfd3_0242ac1c0002row0_col24,#T_e3825d94_aef7_11eb_bfd3_0242ac1c0002row4_col23,#T_e3825d94_aef7_11eb_bfd3_0242ac1c0002row5_col21,#T_e3825d94_aef7_11eb_bfd3_0242ac1c0002row13_col25,#T_e3825d94_aef7_11eb_bfd3_0242ac1c0002row21_col13{\n",
              "            background-color:  #62656f;\n",
              "            color:  #f1f1f1;\n",
              "        }#T_e3825d94_aef7_11eb_bfd3_0242ac1c0002row0_col25{\n",
              "            background-color:  #a49b74;\n",
              "            color:  #000000;\n",
              "        }#T_e3825d94_aef7_11eb_bfd3_0242ac1c0002row0_col26,#T_e3825d94_aef7_11eb_bfd3_0242ac1c0002row1_col0{\n",
              "            background-color:  #707173;\n",
              "            color:  #000000;\n",
              "        }#T_e3825d94_aef7_11eb_bfd3_0242ac1c0002row0_col27,#T_e3825d94_aef7_11eb_bfd3_0242ac1c0002row3_col5,#T_e3825d94_aef7_11eb_bfd3_0242ac1c0002row10_col5,#T_e3825d94_aef7_11eb_bfd3_0242ac1c0002row11_col5,#T_e3825d94_aef7_11eb_bfd3_0242ac1c0002row12_col5,#T_e3825d94_aef7_11eb_bfd3_0242ac1c0002row14_col5,#T_e3825d94_aef7_11eb_bfd3_0242ac1c0002row16_col5,#T_e3825d94_aef7_11eb_bfd3_0242ac1c0002row18_col5,#T_e3825d94_aef7_11eb_bfd3_0242ac1c0002row20_col5,#T_e3825d94_aef7_11eb_bfd3_0242ac1c0002row22_col5,#T_e3825d94_aef7_11eb_bfd3_0242ac1c0002row24_col2{\n",
              "            background-color:  #1c396f;\n",
              "            color:  #f1f1f1;\n",
              "        }#T_e3825d94_aef7_11eb_bfd3_0242ac1c0002row0_col28{\n",
              "            background-color:  #123570;\n",
              "            color:  #f1f1f1;\n",
              "        }#T_e3825d94_aef7_11eb_bfd3_0242ac1c0002row1_col2,#T_e3825d94_aef7_11eb_bfd3_0242ac1c0002row4_col27,#T_e3825d94_aef7_11eb_bfd3_0242ac1c0002row10_col17{\n",
              "            background-color:  #676a71;\n",
              "            color:  #000000;\n",
              "        }#T_e3825d94_aef7_11eb_bfd3_0242ac1c0002row1_col4,#T_e3825d94_aef7_11eb_bfd3_0242ac1c0002row5_col19,#T_e3825d94_aef7_11eb_bfd3_0242ac1c0002row24_col23,#T_e3825d94_aef7_11eb_bfd3_0242ac1c0002row26_col15{\n",
              "            background-color:  #595e6e;\n",
              "            color:  #f1f1f1;\n",
              "        }#T_e3825d94_aef7_11eb_bfd3_0242ac1c0002row1_col5,#T_e3825d94_aef7_11eb_bfd3_0242ac1c0002row2_col15,#T_e3825d94_aef7_11eb_bfd3_0242ac1c0002row15_col11,#T_e3825d94_aef7_11eb_bfd3_0242ac1c0002row15_col12,#T_e3825d94_aef7_11eb_bfd3_0242ac1c0002row15_col14,#T_e3825d94_aef7_11eb_bfd3_0242ac1c0002row15_col16,#T_e3825d94_aef7_11eb_bfd3_0242ac1c0002row15_col18,#T_e3825d94_aef7_11eb_bfd3_0242ac1c0002row15_col20,#T_e3825d94_aef7_11eb_bfd3_0242ac1c0002row15_col22,#T_e3825d94_aef7_11eb_bfd3_0242ac1c0002row17_col11,#T_e3825d94_aef7_11eb_bfd3_0242ac1c0002row17_col12,#T_e3825d94_aef7_11eb_bfd3_0242ac1c0002row17_col14,#T_e3825d94_aef7_11eb_bfd3_0242ac1c0002row17_col16,#T_e3825d94_aef7_11eb_bfd3_0242ac1c0002row17_col18,#T_e3825d94_aef7_11eb_bfd3_0242ac1c0002row17_col20,#T_e3825d94_aef7_11eb_bfd3_0242ac1c0002row17_col22,#T_e3825d94_aef7_11eb_bfd3_0242ac1c0002row19_col28,#T_e3825d94_aef7_11eb_bfd3_0242ac1c0002row24_col9{\n",
              "            background-color:  #3a486c;\n",
              "            color:  #f1f1f1;\n",
              "        }#T_e3825d94_aef7_11eb_bfd3_0242ac1c0002row1_col6,#T_e3825d94_aef7_11eb_bfd3_0242ac1c0002row27_col6{\n",
              "            background-color:  #003170;\n",
              "            color:  #f1f1f1;\n",
              "        }#T_e3825d94_aef7_11eb_bfd3_0242ac1c0002row1_col7,#T_e3825d94_aef7_11eb_bfd3_0242ac1c0002row19_col1{\n",
              "            background-color:  #9a9376;\n",
              "            color:  #000000;\n",
              "        }#T_e3825d94_aef7_11eb_bfd3_0242ac1c0002row1_col8,#T_e3825d94_aef7_11eb_bfd3_0242ac1c0002row5_col15,#T_e3825d94_aef7_11eb_bfd3_0242ac1c0002row5_col23,#T_e3825d94_aef7_11eb_bfd3_0242ac1c0002row6_col25,#T_e3825d94_aef7_11eb_bfd3_0242ac1c0002row15_col9,#T_e3825d94_aef7_11eb_bfd3_0242ac1c0002row17_col9,#T_e3825d94_aef7_11eb_bfd3_0242ac1c0002row23_col27{\n",
              "            background-color:  #61656f;\n",
              "            color:  #f1f1f1;\n",
              "        }#T_e3825d94_aef7_11eb_bfd3_0242ac1c0002row1_col9{\n",
              "            background-color:  #958f77;\n",
              "            color:  #000000;\n",
              "        }#T_e3825d94_aef7_11eb_bfd3_0242ac1c0002row1_col10{\n",
              "            background-color:  #d7c45c;\n",
              "            color:  #000000;\n",
              "        }#T_e3825d94_aef7_11eb_bfd3_0242ac1c0002row1_col13,#T_e3825d94_aef7_11eb_bfd3_0242ac1c0002row15_col19,#T_e3825d94_aef7_11eb_bfd3_0242ac1c0002row23_col0{\n",
              "            background-color:  #767676;\n",
              "            color:  #000000;\n",
              "        }#T_e3825d94_aef7_11eb_bfd3_0242ac1c0002row1_col15{\n",
              "            background-color:  #938e78;\n",
              "            color:  #000000;\n",
              "        }#T_e3825d94_aef7_11eb_bfd3_0242ac1c0002row1_col17{\n",
              "            background-color:  #9b9476;\n",
              "            color:  #000000;\n",
              "        }#T_e3825d94_aef7_11eb_bfd3_0242ac1c0002row1_col21{\n",
              "            background-color:  #b9ab6d;\n",
              "            color:  #000000;\n",
              "        }#T_e3825d94_aef7_11eb_bfd3_0242ac1c0002row1_col23{\n",
              "            background-color:  #b8aa6e;\n",
              "            color:  #000000;\n",
              "        }#T_e3825d94_aef7_11eb_bfd3_0242ac1c0002row1_col24,#T_e3825d94_aef7_11eb_bfd3_0242ac1c0002row2_col17,#T_e3825d94_aef7_11eb_bfd3_0242ac1c0002row3_col25,#T_e3825d94_aef7_11eb_bfd3_0242ac1c0002row8_col24,#T_e3825d94_aef7_11eb_bfd3_0242ac1c0002row8_col25,#T_e3825d94_aef7_11eb_bfd3_0242ac1c0002row10_col13,#T_e3825d94_aef7_11eb_bfd3_0242ac1c0002row28_col25{\n",
              "            background-color:  #3d4a6c;\n",
              "            color:  #f1f1f1;\n",
              "        }#T_e3825d94_aef7_11eb_bfd3_0242ac1c0002row1_col25,#T_e3825d94_aef7_11eb_bfd3_0242ac1c0002row2_col26,#T_e3825d94_aef7_11eb_bfd3_0242ac1c0002row25_col10{\n",
              "            background-color:  #2d416d;\n",
              "            color:  #f1f1f1;\n",
              "        }#T_e3825d94_aef7_11eb_bfd3_0242ac1c0002row1_col26,#T_e3825d94_aef7_11eb_bfd3_0242ac1c0002row13_col9,#T_e3825d94_aef7_11eb_bfd3_0242ac1c0002row13_col10{\n",
              "            background-color:  #4e566c;\n",
              "            color:  #f1f1f1;\n",
              "        }#T_e3825d94_aef7_11eb_bfd3_0242ac1c0002row1_col27,#T_e3825d94_aef7_11eb_bfd3_0242ac1c0002row9_col21,#T_e3825d94_aef7_11eb_bfd3_0242ac1c0002row13_col17,#T_e3825d94_aef7_11eb_bfd3_0242ac1c0002row15_col7,#T_e3825d94_aef7_11eb_bfd3_0242ac1c0002row23_col15{\n",
              "            background-color:  #777776;\n",
              "            color:  #000000;\n",
              "        }#T_e3825d94_aef7_11eb_bfd3_0242ac1c0002row1_col28,#T_e3825d94_aef7_11eb_bfd3_0242ac1c0002row6_col4,#T_e3825d94_aef7_11eb_bfd3_0242ac1c0002row10_col3,#T_e3825d94_aef7_11eb_bfd3_0242ac1c0002row19_col3,#T_e3825d94_aef7_11eb_bfd3_0242ac1c0002row23_col3{\n",
              "            background-color:  #00234f;\n",
              "            color:  #f1f1f1;\n",
              "        }#T_e3825d94_aef7_11eb_bfd3_0242ac1c0002row2_col1,#T_e3825d94_aef7_11eb_bfd3_0242ac1c0002row5_col0,#T_e3825d94_aef7_11eb_bfd3_0242ac1c0002row21_col10{\n",
              "            background-color:  #868379;\n",
              "            color:  #000000;\n",
              "        }#T_e3825d94_aef7_11eb_bfd3_0242ac1c0002row2_col3,#T_e3825d94_aef7_11eb_bfd3_0242ac1c0002row7_col3,#T_e3825d94_aef7_11eb_bfd3_0242ac1c0002row9_col3,#T_e3825d94_aef7_11eb_bfd3_0242ac1c0002row21_col3,#T_e3825d94_aef7_11eb_bfd3_0242ac1c0002row24_col25,#T_e3825d94_aef7_11eb_bfd3_0242ac1c0002row26_col27{\n",
              "            background-color:  #002451;\n",
              "            color:  #f1f1f1;\n",
              "        }#T_e3825d94_aef7_11eb_bfd3_0242ac1c0002row2_col4,#T_e3825d94_aef7_11eb_bfd3_0242ac1c0002row7_col27,#T_e3825d94_aef7_11eb_bfd3_0242ac1c0002row8_col28,#T_e3825d94_aef7_11eb_bfd3_0242ac1c0002row26_col10,#T_e3825d94_aef7_11eb_bfd3_0242ac1c0002row27_col9{\n",
              "            background-color:  #4b546c;\n",
              "            color:  #f1f1f1;\n",
              "        }#T_e3825d94_aef7_11eb_bfd3_0242ac1c0002row2_col9{\n",
              "            background-color:  #424e6c;\n",
              "            color:  #f1f1f1;\n",
              "        }#T_e3825d94_aef7_11eb_bfd3_0242ac1c0002row2_col10,#T_e3825d94_aef7_11eb_bfd3_0242ac1c0002row6_col11,#T_e3825d94_aef7_11eb_bfd3_0242ac1c0002row6_col12,#T_e3825d94_aef7_11eb_bfd3_0242ac1c0002row6_col14,#T_e3825d94_aef7_11eb_bfd3_0242ac1c0002row6_col16,#T_e3825d94_aef7_11eb_bfd3_0242ac1c0002row6_col18,#T_e3825d94_aef7_11eb_bfd3_0242ac1c0002row6_col20,#T_e3825d94_aef7_11eb_bfd3_0242ac1c0002row6_col22,#T_e3825d94_aef7_11eb_bfd3_0242ac1c0002row7_col11,#T_e3825d94_aef7_11eb_bfd3_0242ac1c0002row7_col12,#T_e3825d94_aef7_11eb_bfd3_0242ac1c0002row7_col14,#T_e3825d94_aef7_11eb_bfd3_0242ac1c0002row7_col16,#T_e3825d94_aef7_11eb_bfd3_0242ac1c0002row7_col18,#T_e3825d94_aef7_11eb_bfd3_0242ac1c0002row7_col20,#T_e3825d94_aef7_11eb_bfd3_0242ac1c0002row7_col22{\n",
              "            background-color:  #838179;\n",
              "            color:  #000000;\n",
              "        }#T_e3825d94_aef7_11eb_bfd3_0242ac1c0002row2_col13,#T_e3825d94_aef7_11eb_bfd3_0242ac1c0002row13_col4{\n",
              "            background-color:  #18376f;\n",
              "            color:  #f1f1f1;\n",
              "        }#T_e3825d94_aef7_11eb_bfd3_0242ac1c0002row2_col19{\n",
              "            background-color:  #1a386f;\n",
              "            color:  #f1f1f1;\n",
              "        }#T_e3825d94_aef7_11eb_bfd3_0242ac1c0002row2_col21,#T_e3825d94_aef7_11eb_bfd3_0242ac1c0002row2_col23,#T_e3825d94_aef7_11eb_bfd3_0242ac1c0002row9_col27,#T_e3825d94_aef7_11eb_bfd3_0242ac1c0002row11_col6,#T_e3825d94_aef7_11eb_bfd3_0242ac1c0002row12_col6,#T_e3825d94_aef7_11eb_bfd3_0242ac1c0002row14_col6,#T_e3825d94_aef7_11eb_bfd3_0242ac1c0002row15_col26,#T_e3825d94_aef7_11eb_bfd3_0242ac1c0002row16_col6,#T_e3825d94_aef7_11eb_bfd3_0242ac1c0002row18_col6,#T_e3825d94_aef7_11eb_bfd3_0242ac1c0002row20_col6,#T_e3825d94_aef7_11eb_bfd3_0242ac1c0002row22_col6,#T_e3825d94_aef7_11eb_bfd3_0242ac1c0002row24_col15,#T_e3825d94_aef7_11eb_bfd3_0242ac1c0002row24_col21,#T_e3825d94_aef7_11eb_bfd3_0242ac1c0002row26_col13,#T_e3825d94_aef7_11eb_bfd3_0242ac1c0002row26_col19{\n",
              "            background-color:  #585e6d;\n",
              "            color:  #f1f1f1;\n",
              "        }#T_e3825d94_aef7_11eb_bfd3_0242ac1c0002row2_col24,#T_e3825d94_aef7_11eb_bfd3_0242ac1c0002row28_col0{\n",
              "            background-color:  #003171;\n",
              "            color:  #f1f1f1;\n",
              "        }#T_e3825d94_aef7_11eb_bfd3_0242ac1c0002row2_col28,#T_e3825d94_aef7_11eb_bfd3_0242ac1c0002row3_col9,#T_e3825d94_aef7_11eb_bfd3_0242ac1c0002row17_col2{\n",
              "            background-color:  #39486c;\n",
              "            color:  #f1f1f1;\n",
              "        }#T_e3825d94_aef7_11eb_bfd3_0242ac1c0002row3_col0,#T_e3825d94_aef7_11eb_bfd3_0242ac1c0002row17_col5,#T_e3825d94_aef7_11eb_bfd3_0242ac1c0002row26_col9{\n",
              "            background-color:  #46516c;\n",
              "            color:  #f1f1f1;\n",
              "        }#T_e3825d94_aef7_11eb_bfd3_0242ac1c0002row3_col1,#T_e3825d94_aef7_11eb_bfd3_0242ac1c0002row5_col25,#T_e3825d94_aef7_11eb_bfd3_0242ac1c0002row9_col15{\n",
              "            background-color:  #6c6d72;\n",
              "            color:  #000000;\n",
              "        }#T_e3825d94_aef7_11eb_bfd3_0242ac1c0002row3_col2,#T_e3825d94_aef7_11eb_bfd3_0242ac1c0002row4_col26,#T_e3825d94_aef7_11eb_bfd3_0242ac1c0002row8_col0,#T_e3825d94_aef7_11eb_bfd3_0242ac1c0002row9_col5,#T_e3825d94_aef7_11eb_bfd3_0242ac1c0002row11_col24,#T_e3825d94_aef7_11eb_bfd3_0242ac1c0002row12_col24,#T_e3825d94_aef7_11eb_bfd3_0242ac1c0002row13_col5,#T_e3825d94_aef7_11eb_bfd3_0242ac1c0002row14_col24,#T_e3825d94_aef7_11eb_bfd3_0242ac1c0002row16_col24,#T_e3825d94_aef7_11eb_bfd3_0242ac1c0002row18_col24,#T_e3825d94_aef7_11eb_bfd3_0242ac1c0002row20_col24,#T_e3825d94_aef7_11eb_bfd3_0242ac1c0002row22_col24,#T_e3825d94_aef7_11eb_bfd3_0242ac1c0002row23_col4,#T_e3825d94_aef7_11eb_bfd3_0242ac1c0002row28_col6{\n",
              "            background-color:  #444f6c;\n",
              "            color:  #f1f1f1;\n",
              "        }#T_e3825d94_aef7_11eb_bfd3_0242ac1c0002row3_col4,#T_e3825d94_aef7_11eb_bfd3_0242ac1c0002row15_col28,#T_e3825d94_aef7_11eb_bfd3_0242ac1c0002row21_col6{\n",
              "            background-color:  #263d6e;\n",
              "            color:  #f1f1f1;\n",
              "        }#T_e3825d94_aef7_11eb_bfd3_0242ac1c0002row3_col6,#T_e3825d94_aef7_11eb_bfd3_0242ac1c0002row4_col19,#T_e3825d94_aef7_11eb_bfd3_0242ac1c0002row6_col10,#T_e3825d94_aef7_11eb_bfd3_0242ac1c0002row17_col4{\n",
              "            background-color:  #36466c;\n",
              "            color:  #f1f1f1;\n",
              "        }#T_e3825d94_aef7_11eb_bfd3_0242ac1c0002row3_col8,#T_e3825d94_aef7_11eb_bfd3_0242ac1c0002row6_col7,#T_e3825d94_aef7_11eb_bfd3_0242ac1c0002row13_col0,#T_e3825d94_aef7_11eb_bfd3_0242ac1c0002row17_col19,#T_e3825d94_aef7_11eb_bfd3_0242ac1c0002row19_col0,#T_e3825d94_aef7_11eb_bfd3_0242ac1c0002row24_col8,#T_e3825d94_aef7_11eb_bfd3_0242ac1c0002row25_col7,#T_e3825d94_aef7_11eb_bfd3_0242ac1c0002row26_col8,#T_e3825d94_aef7_11eb_bfd3_0242ac1c0002row27_col7,#T_e3825d94_aef7_11eb_bfd3_0242ac1c0002row28_col8{\n",
              "            background-color:  #7d7c78;\n",
              "            color:  #000000;\n",
              "        }#T_e3825d94_aef7_11eb_bfd3_0242ac1c0002row3_col10,#T_e3825d94_aef7_11eb_bfd3_0242ac1c0002row8_col21{\n",
              "            background-color:  #52596d;\n",
              "            color:  #f1f1f1;\n",
              "        }#T_e3825d94_aef7_11eb_bfd3_0242ac1c0002row3_col11,#T_e3825d94_aef7_11eb_bfd3_0242ac1c0002row3_col12,#T_e3825d94_aef7_11eb_bfd3_0242ac1c0002row3_col14,#T_e3825d94_aef7_11eb_bfd3_0242ac1c0002row3_col16,#T_e3825d94_aef7_11eb_bfd3_0242ac1c0002row3_col18,#T_e3825d94_aef7_11eb_bfd3_0242ac1c0002row3_col20,#T_e3825d94_aef7_11eb_bfd3_0242ac1c0002row3_col22,#T_e3825d94_aef7_11eb_bfd3_0242ac1c0002row7_col9,#T_e3825d94_aef7_11eb_bfd3_0242ac1c0002row24_col1{\n",
              "            background-color:  #6e6f73;\n",
              "            color:  #000000;\n",
              "        }#T_e3825d94_aef7_11eb_bfd3_0242ac1c0002row3_col13,#T_e3825d94_aef7_11eb_bfd3_0242ac1c0002row6_col24,#T_e3825d94_aef7_11eb_bfd3_0242ac1c0002row7_col25,#T_e3825d94_aef7_11eb_bfd3_0242ac1c0002row10_col19,#T_e3825d94_aef7_11eb_bfd3_0242ac1c0002row10_col26,#T_e3825d94_aef7_11eb_bfd3_0242ac1c0002row19_col5{\n",
              "            background-color:  #3f4c6c;\n",
              "            color:  #f1f1f1;\n",
              "        }#T_e3825d94_aef7_11eb_bfd3_0242ac1c0002row3_col15,#T_e3825d94_aef7_11eb_bfd3_0242ac1c0002row7_col0,#T_e3825d94_aef7_11eb_bfd3_0242ac1c0002row7_col2,#T_e3825d94_aef7_11eb_bfd3_0242ac1c0002row7_col26,#T_e3825d94_aef7_11eb_bfd3_0242ac1c0002row24_col10{\n",
              "            background-color:  #47516c;\n",
              "            color:  #f1f1f1;\n",
              "        }#T_e3825d94_aef7_11eb_bfd3_0242ac1c0002row3_col17,#T_e3825d94_aef7_11eb_bfd3_0242ac1c0002row7_col28,#T_e3825d94_aef7_11eb_bfd3_0242ac1c0002row8_col27,#T_e3825d94_aef7_11eb_bfd3_0242ac1c0002row9_col4,#T_e3825d94_aef7_11eb_bfd3_0242ac1c0002row10_col0,#T_e3825d94_aef7_11eb_bfd3_0242ac1c0002row17_col27,#T_e3825d94_aef7_11eb_bfd3_0242ac1c0002row23_col24,#T_e3825d94_aef7_11eb_bfd3_0242ac1c0002row25_col28,#T_e3825d94_aef7_11eb_bfd3_0242ac1c0002row26_col24,#T_e3825d94_aef7_11eb_bfd3_0242ac1c0002row27_col15{\n",
              "            background-color:  #49536c;\n",
              "            color:  #f1f1f1;\n",
              "        }#T_e3825d94_aef7_11eb_bfd3_0242ac1c0002row3_col19,#T_e3825d94_aef7_11eb_bfd3_0242ac1c0002row6_col23,#T_e3825d94_aef7_11eb_bfd3_0242ac1c0002row13_col11,#T_e3825d94_aef7_11eb_bfd3_0242ac1c0002row13_col12,#T_e3825d94_aef7_11eb_bfd3_0242ac1c0002row13_col14,#T_e3825d94_aef7_11eb_bfd3_0242ac1c0002row13_col16,#T_e3825d94_aef7_11eb_bfd3_0242ac1c0002row13_col18,#T_e3825d94_aef7_11eb_bfd3_0242ac1c0002row13_col20,#T_e3825d94_aef7_11eb_bfd3_0242ac1c0002row13_col22,#T_e3825d94_aef7_11eb_bfd3_0242ac1c0002row19_col11,#T_e3825d94_aef7_11eb_bfd3_0242ac1c0002row19_col12,#T_e3825d94_aef7_11eb_bfd3_0242ac1c0002row19_col14,#T_e3825d94_aef7_11eb_bfd3_0242ac1c0002row19_col16,#T_e3825d94_aef7_11eb_bfd3_0242ac1c0002row19_col18,#T_e3825d94_aef7_11eb_bfd3_0242ac1c0002row19_col20,#T_e3825d94_aef7_11eb_bfd3_0242ac1c0002row19_col22,#T_e3825d94_aef7_11eb_bfd3_0242ac1c0002row21_col4{\n",
              "            background-color:  #414d6c;\n",
              "            color:  #f1f1f1;\n",
              "        }#T_e3825d94_aef7_11eb_bfd3_0242ac1c0002row3_col21,#T_e3825d94_aef7_11eb_bfd3_0242ac1c0002row3_col23,#T_e3825d94_aef7_11eb_bfd3_0242ac1c0002row5_col24,#T_e3825d94_aef7_11eb_bfd3_0242ac1c0002row6_col13,#T_e3825d94_aef7_11eb_bfd3_0242ac1c0002row21_col25,#T_e3825d94_aef7_11eb_bfd3_0242ac1c0002row23_col25{\n",
              "            background-color:  #4c556c;\n",
              "            color:  #f1f1f1;\n",
              "        }#T_e3825d94_aef7_11eb_bfd3_0242ac1c0002row3_col24,#T_e3825d94_aef7_11eb_bfd3_0242ac1c0002row11_col0,#T_e3825d94_aef7_11eb_bfd3_0242ac1c0002row12_col0,#T_e3825d94_aef7_11eb_bfd3_0242ac1c0002row14_col0,#T_e3825d94_aef7_11eb_bfd3_0242ac1c0002row16_col0,#T_e3825d94_aef7_11eb_bfd3_0242ac1c0002row18_col0,#T_e3825d94_aef7_11eb_bfd3_0242ac1c0002row20_col0,#T_e3825d94_aef7_11eb_bfd3_0242ac1c0002row22_col0,#T_e3825d94_aef7_11eb_bfd3_0242ac1c0002row23_col5,#T_e3825d94_aef7_11eb_bfd3_0242ac1c0002row26_col6{\n",
              "            background-color:  #3e4b6c;\n",
              "            color:  #f1f1f1;\n",
              "        }#T_e3825d94_aef7_11eb_bfd3_0242ac1c0002row3_col26,#T_e3825d94_aef7_11eb_bfd3_0242ac1c0002row4_col0,#T_e3825d94_aef7_11eb_bfd3_0242ac1c0002row6_col19,#T_e3825d94_aef7_11eb_bfd3_0242ac1c0002row7_col23,#T_e3825d94_aef7_11eb_bfd3_0242ac1c0002row11_col26,#T_e3825d94_aef7_11eb_bfd3_0242ac1c0002row12_col26,#T_e3825d94_aef7_11eb_bfd3_0242ac1c0002row14_col26,#T_e3825d94_aef7_11eb_bfd3_0242ac1c0002row16_col26,#T_e3825d94_aef7_11eb_bfd3_0242ac1c0002row18_col26,#T_e3825d94_aef7_11eb_bfd3_0242ac1c0002row20_col26,#T_e3825d94_aef7_11eb_bfd3_0242ac1c0002row21_col24,#T_e3825d94_aef7_11eb_bfd3_0242ac1c0002row22_col26,#T_e3825d94_aef7_11eb_bfd3_0242ac1c0002row27_col11,#T_e3825d94_aef7_11eb_bfd3_0242ac1c0002row27_col12,#T_e3825d94_aef7_11eb_bfd3_0242ac1c0002row27_col14,#T_e3825d94_aef7_11eb_bfd3_0242ac1c0002row27_col16,#T_e3825d94_aef7_11eb_bfd3_0242ac1c0002row27_col17,#T_e3825d94_aef7_11eb_bfd3_0242ac1c0002row27_col18,#T_e3825d94_aef7_11eb_bfd3_0242ac1c0002row27_col20,#T_e3825d94_aef7_11eb_bfd3_0242ac1c0002row27_col22{\n",
              "            background-color:  #48526c;\n",
              "            color:  #f1f1f1;\n",
              "        }#T_e3825d94_aef7_11eb_bfd3_0242ac1c0002row3_col27,#T_e3825d94_aef7_11eb_bfd3_0242ac1c0002row6_col15,#T_e3825d94_aef7_11eb_bfd3_0242ac1c0002row7_col21,#T_e3825d94_aef7_11eb_bfd3_0242ac1c0002row8_col26,#T_e3825d94_aef7_11eb_bfd3_0242ac1c0002row15_col27,#T_e3825d94_aef7_11eb_bfd3_0242ac1c0002row24_col28{\n",
              "            background-color:  #4a536c;\n",
              "            color:  #f1f1f1;\n",
              "        }#T_e3825d94_aef7_11eb_bfd3_0242ac1c0002row3_col28,#T_e3825d94_aef7_11eb_bfd3_0242ac1c0002row8_col1,#T_e3825d94_aef7_11eb_bfd3_0242ac1c0002row9_col2,#T_e3825d94_aef7_11eb_bfd3_0242ac1c0002row15_col24{\n",
              "            background-color:  #4d556c;\n",
              "            color:  #f1f1f1;\n",
              "        }#T_e3825d94_aef7_11eb_bfd3_0242ac1c0002row4_col1,#T_e3825d94_aef7_11eb_bfd3_0242ac1c0002row25_col11,#T_e3825d94_aef7_11eb_bfd3_0242ac1c0002row25_col12,#T_e3825d94_aef7_11eb_bfd3_0242ac1c0002row25_col14,#T_e3825d94_aef7_11eb_bfd3_0242ac1c0002row25_col16,#T_e3825d94_aef7_11eb_bfd3_0242ac1c0002row25_col18,#T_e3825d94_aef7_11eb_bfd3_0242ac1c0002row25_col20,#T_e3825d94_aef7_11eb_bfd3_0242ac1c0002row25_col22{\n",
              "            background-color:  #8a8678;\n",
              "            color:  #000000;\n",
              "        }#T_e3825d94_aef7_11eb_bfd3_0242ac1c0002row4_col2{\n",
              "            background-color:  #60646f;\n",
              "            color:  #f1f1f1;\n",
              "        }#T_e3825d94_aef7_11eb_bfd3_0242ac1c0002row4_col3,#T_e3825d94_aef7_11eb_bfd3_0242ac1c0002row5_col3,#T_e3825d94_aef7_11eb_bfd3_0242ac1c0002row17_col3,#T_e3825d94_aef7_11eb_bfd3_0242ac1c0002row25_col3,#T_e3825d94_aef7_11eb_bfd3_0242ac1c0002row27_col25{\n",
              "            background-color:  #002553;\n",
              "            color:  #f1f1f1;\n",
              "        }#T_e3825d94_aef7_11eb_bfd3_0242ac1c0002row4_col5,#T_e3825d94_aef7_11eb_bfd3_0242ac1c0002row7_col5,#T_e3825d94_aef7_11eb_bfd3_0242ac1c0002row8_col4{\n",
              "            background-color:  #233c6e;\n",
              "            color:  #f1f1f1;\n",
              "        }#T_e3825d94_aef7_11eb_bfd3_0242ac1c0002row4_col6{\n",
              "            background-color:  #002d68;\n",
              "            color:  #f1f1f1;\n",
              "        }#T_e3825d94_aef7_11eb_bfd3_0242ac1c0002row4_col13,#T_e3825d94_aef7_11eb_bfd3_0242ac1c0002row5_col27,#T_e3825d94_aef7_11eb_bfd3_0242ac1c0002row7_col24,#T_e3825d94_aef7_11eb_bfd3_0242ac1c0002row9_col24,#T_e3825d94_aef7_11eb_bfd3_0242ac1c0002row13_col28,#T_e3825d94_aef7_11eb_bfd3_0242ac1c0002row19_col6,#T_e3825d94_aef7_11eb_bfd3_0242ac1c0002row28_col1{\n",
              "            background-color:  #3b496c;\n",
              "            color:  #f1f1f1;\n",
              "        }#T_e3825d94_aef7_11eb_bfd3_0242ac1c0002row4_col15,#T_e3825d94_aef7_11eb_bfd3_0242ac1c0002row8_col17,#T_e3825d94_aef7_11eb_bfd3_0242ac1c0002row9_col19,#T_e3825d94_aef7_11eb_bfd3_0242ac1c0002row24_col13{\n",
              "            background-color:  #555c6d;\n",
              "            color:  #f1f1f1;\n",
              "        }#T_e3825d94_aef7_11eb_bfd3_0242ac1c0002row4_col17,#T_e3825d94_aef7_11eb_bfd3_0242ac1c0002row5_col10,#T_e3825d94_aef7_11eb_bfd3_0242ac1c0002row8_col13,#T_e3825d94_aef7_11eb_bfd3_0242ac1c0002row8_col23,#T_e3825d94_aef7_11eb_bfd3_0242ac1c0002row15_col25{\n",
              "            background-color:  #545a6d;\n",
              "            color:  #f1f1f1;\n",
              "        }#T_e3825d94_aef7_11eb_bfd3_0242ac1c0002row4_col21,#T_e3825d94_aef7_11eb_bfd3_0242ac1c0002row10_col4{\n",
              "            background-color:  #5f636f;\n",
              "            color:  #f1f1f1;\n",
              "        }#T_e3825d94_aef7_11eb_bfd3_0242ac1c0002row4_col24,#T_e3825d94_aef7_11eb_bfd3_0242ac1c0002row28_col13,#T_e3825d94_aef7_11eb_bfd3_0242ac1c0002row28_col19{\n",
              "            background-color:  #32436d;\n",
              "            color:  #f1f1f1;\n",
              "        }#T_e3825d94_aef7_11eb_bfd3_0242ac1c0002row4_col25,#T_e3825d94_aef7_11eb_bfd3_0242ac1c0002row17_col28{\n",
              "            background-color:  #213b6e;\n",
              "            color:  #f1f1f1;\n",
              "        }#T_e3825d94_aef7_11eb_bfd3_0242ac1c0002row5_col1,#T_e3825d94_aef7_11eb_bfd3_0242ac1c0002row10_col2{\n",
              "            background-color:  #797977;\n",
              "            color:  #000000;\n",
              "        }#T_e3825d94_aef7_11eb_bfd3_0242ac1c0002row5_col2,#T_e3825d94_aef7_11eb_bfd3_0242ac1c0002row28_col15{\n",
              "            background-color:  #243c6e;\n",
              "            color:  #f1f1f1;\n",
              "        }#T_e3825d94_aef7_11eb_bfd3_0242ac1c0002row5_col7,#T_e3825d94_aef7_11eb_bfd3_0242ac1c0002row11_col28,#T_e3825d94_aef7_11eb_bfd3_0242ac1c0002row12_col28,#T_e3825d94_aef7_11eb_bfd3_0242ac1c0002row14_col28,#T_e3825d94_aef7_11eb_bfd3_0242ac1c0002row16_col28,#T_e3825d94_aef7_11eb_bfd3_0242ac1c0002row18_col28,#T_e3825d94_aef7_11eb_bfd3_0242ac1c0002row20_col28,#T_e3825d94_aef7_11eb_bfd3_0242ac1c0002row21_col8,#T_e3825d94_aef7_11eb_bfd3_0242ac1c0002row22_col28{\n",
              "            background-color:  #7e7d78;\n",
              "            color:  #000000;\n",
              "        }#T_e3825d94_aef7_11eb_bfd3_0242ac1c0002row5_col11,#T_e3825d94_aef7_11eb_bfd3_0242ac1c0002row5_col12,#T_e3825d94_aef7_11eb_bfd3_0242ac1c0002row5_col14,#T_e3825d94_aef7_11eb_bfd3_0242ac1c0002row5_col16,#T_e3825d94_aef7_11eb_bfd3_0242ac1c0002row5_col18,#T_e3825d94_aef7_11eb_bfd3_0242ac1c0002row5_col20,#T_e3825d94_aef7_11eb_bfd3_0242ac1c0002row5_col22,#T_e3825d94_aef7_11eb_bfd3_0242ac1c0002row15_col10,#T_e3825d94_aef7_11eb_bfd3_0242ac1c0002row25_col19,#T_e3825d94_aef7_11eb_bfd3_0242ac1c0002row26_col0,#T_e3825d94_aef7_11eb_bfd3_0242ac1c0002row26_col11,#T_e3825d94_aef7_11eb_bfd3_0242ac1c0002row26_col12,#T_e3825d94_aef7_11eb_bfd3_0242ac1c0002row26_col14,#T_e3825d94_aef7_11eb_bfd3_0242ac1c0002row26_col16,#T_e3825d94_aef7_11eb_bfd3_0242ac1c0002row26_col18,#T_e3825d94_aef7_11eb_bfd3_0242ac1c0002row26_col20,#T_e3825d94_aef7_11eb_bfd3_0242ac1c0002row26_col22{\n",
              "            background-color:  #6d6f72;\n",
              "            color:  #000000;\n",
              "        }#T_e3825d94_aef7_11eb_bfd3_0242ac1c0002row5_col13,#T_e3825d94_aef7_11eb_bfd3_0242ac1c0002row6_col0,#T_e3825d94_aef7_11eb_bfd3_0242ac1c0002row13_col26,#T_e3825d94_aef7_11eb_bfd3_0242ac1c0002row17_col25,#T_e3825d94_aef7_11eb_bfd3_0242ac1c0002row19_col26,#T_e3825d94_aef7_11eb_bfd3_0242ac1c0002row25_col15,#T_e3825d94_aef7_11eb_bfd3_0242ac1c0002row26_col17{\n",
              "            background-color:  #5d616e;\n",
              "            color:  #f1f1f1;\n",
              "        }#T_e3825d94_aef7_11eb_bfd3_0242ac1c0002row5_col17,#T_e3825d94_aef7_11eb_bfd3_0242ac1c0002row23_col13,#T_e3825d94_aef7_11eb_bfd3_0242ac1c0002row25_col1{\n",
              "            background-color:  #646770;\n",
              "            color:  #f1f1f1;\n",
              "        }#T_e3825d94_aef7_11eb_bfd3_0242ac1c0002row5_col28,#T_e3825d94_aef7_11eb_bfd3_0242ac1c0002row15_col4,#T_e3825d94_aef7_11eb_bfd3_0242ac1c0002row24_col6{\n",
              "            background-color:  #38476c;\n",
              "            color:  #f1f1f1;\n",
              "        }#T_e3825d94_aef7_11eb_bfd3_0242ac1c0002row6_col1,#T_e3825d94_aef7_11eb_bfd3_0242ac1c0002row24_col17,#T_e3825d94_aef7_11eb_bfd3_0242ac1c0002row25_col6{\n",
              "            background-color:  #5b606e;\n",
              "            color:  #f1f1f1;\n",
              "        }#T_e3825d94_aef7_11eb_bfd3_0242ac1c0002row6_col2,#T_e3825d94_aef7_11eb_bfd3_0242ac1c0002row25_col27{\n",
              "            background-color:  #00306f;\n",
              "            color:  #f1f1f1;\n",
              "        }#T_e3825d94_aef7_11eb_bfd3_0242ac1c0002row6_col5{\n",
              "            background-color:  #717274;\n",
              "            color:  #000000;\n",
              "        }#T_e3825d94_aef7_11eb_bfd3_0242ac1c0002row6_col9,#T_e3825d94_aef7_11eb_bfd3_0242ac1c0002row8_col6,#T_e3825d94_aef7_11eb_bfd3_0242ac1c0002row13_col27,#T_e3825d94_aef7_11eb_bfd3_0242ac1c0002row19_col27,#T_e3825d94_aef7_11eb_bfd3_0242ac1c0002row21_col11,#T_e3825d94_aef7_11eb_bfd3_0242ac1c0002row21_col12,#T_e3825d94_aef7_11eb_bfd3_0242ac1c0002row21_col14,#T_e3825d94_aef7_11eb_bfd3_0242ac1c0002row21_col16,#T_e3825d94_aef7_11eb_bfd3_0242ac1c0002row21_col18,#T_e3825d94_aef7_11eb_bfd3_0242ac1c0002row21_col20,#T_e3825d94_aef7_11eb_bfd3_0242ac1c0002row21_col22,#T_e3825d94_aef7_11eb_bfd3_0242ac1c0002row23_col11,#T_e3825d94_aef7_11eb_bfd3_0242ac1c0002row23_col12,#T_e3825d94_aef7_11eb_bfd3_0242ac1c0002row23_col14,#T_e3825d94_aef7_11eb_bfd3_0242ac1c0002row23_col16,#T_e3825d94_aef7_11eb_bfd3_0242ac1c0002row23_col18,#T_e3825d94_aef7_11eb_bfd3_0242ac1c0002row23_col20,#T_e3825d94_aef7_11eb_bfd3_0242ac1c0002row23_col22{\n",
              "            background-color:  #34456c;\n",
              "            color:  #f1f1f1;\n",
              "        }#T_e3825d94_aef7_11eb_bfd3_0242ac1c0002row6_col17{\n",
              "            background-color:  #45506c;\n",
              "            color:  #f1f1f1;\n",
              "        }#T_e3825d94_aef7_11eb_bfd3_0242ac1c0002row6_col21,#T_e3825d94_aef7_11eb_bfd3_0242ac1c0002row8_col2,#T_e3825d94_aef7_11eb_bfd3_0242ac1c0002row15_col5{\n",
              "            background-color:  #434e6c;\n",
              "            color:  #f1f1f1;\n",
              "        }#T_e3825d94_aef7_11eb_bfd3_0242ac1c0002row6_col27,#T_e3825d94_aef7_11eb_bfd3_0242ac1c0002row7_col19,#T_e3825d94_aef7_11eb_bfd3_0242ac1c0002row9_col6{\n",
              "            background-color:  #2e416d;\n",
              "            color:  #f1f1f1;\n",
              "        }#T_e3825d94_aef7_11eb_bfd3_0242ac1c0002row7_col4,#T_e3825d94_aef7_11eb_bfd3_0242ac1c0002row26_col2{\n",
              "            background-color:  #293f6e;\n",
              "            color:  #f1f1f1;\n",
              "        }#T_e3825d94_aef7_11eb_bfd3_0242ac1c0002row7_col6,#T_e3825d94_aef7_11eb_bfd3_0242ac1c0002row15_col2,#T_e3825d94_aef7_11eb_bfd3_0242ac1c0002row15_col6,#T_e3825d94_aef7_11eb_bfd3_0242ac1c0002row24_col5,#T_e3825d94_aef7_11eb_bfd3_0242ac1c0002row24_col27,#T_e3825d94_aef7_11eb_bfd3_0242ac1c0002row26_col5{\n",
              "            background-color:  #35456c;\n",
              "            color:  #f1f1f1;\n",
              "        }#T_e3825d94_aef7_11eb_bfd3_0242ac1c0002row7_col10{\n",
              "            background-color:  #7f7e78;\n",
              "            color:  #000000;\n",
              "        }#T_e3825d94_aef7_11eb_bfd3_0242ac1c0002row7_col13,#T_e3825d94_aef7_11eb_bfd3_0242ac1c0002row17_col6{\n",
              "            background-color:  #2f426d;\n",
              "            color:  #f1f1f1;\n",
              "        }#T_e3825d94_aef7_11eb_bfd3_0242ac1c0002row7_col15,#T_e3825d94_aef7_11eb_bfd3_0242ac1c0002row13_col6,#T_e3825d94_aef7_11eb_bfd3_0242ac1c0002row21_col5{\n",
              "            background-color:  #404c6c;\n",
              "            color:  #f1f1f1;\n",
              "        }#T_e3825d94_aef7_11eb_bfd3_0242ac1c0002row7_col17,#T_e3825d94_aef7_11eb_bfd3_0242ac1c0002row28_col24{\n",
              "            background-color:  #3c4a6c;\n",
              "            color:  #f1f1f1;\n",
              "        }#T_e3825d94_aef7_11eb_bfd3_0242ac1c0002row8_col5,#T_e3825d94_aef7_11eb_bfd3_0242ac1c0002row9_col28,#T_e3825d94_aef7_11eb_bfd3_0242ac1c0002row24_col4{\n",
              "            background-color:  #143670;\n",
              "            color:  #f1f1f1;\n",
              "        }#T_e3825d94_aef7_11eb_bfd3_0242ac1c0002row8_col10,#T_e3825d94_aef7_11eb_bfd3_0242ac1c0002row28_col21,#T_e3825d94_aef7_11eb_bfd3_0242ac1c0002row28_col23{\n",
              "            background-color:  #163770;\n",
              "            color:  #f1f1f1;\n",
              "        }#T_e3825d94_aef7_11eb_bfd3_0242ac1c0002row8_col11,#T_e3825d94_aef7_11eb_bfd3_0242ac1c0002row8_col12,#T_e3825d94_aef7_11eb_bfd3_0242ac1c0002row8_col14,#T_e3825d94_aef7_11eb_bfd3_0242ac1c0002row8_col16,#T_e3825d94_aef7_11eb_bfd3_0242ac1c0002row8_col18,#T_e3825d94_aef7_11eb_bfd3_0242ac1c0002row8_col20,#T_e3825d94_aef7_11eb_bfd3_0242ac1c0002row8_col22{\n",
              "            background-color:  #575d6d;\n",
              "            color:  #f1f1f1;\n",
              "        }#T_e3825d94_aef7_11eb_bfd3_0242ac1c0002row8_col15,#T_e3825d94_aef7_11eb_bfd3_0242ac1c0002row9_col11,#T_e3825d94_aef7_11eb_bfd3_0242ac1c0002row9_col12,#T_e3825d94_aef7_11eb_bfd3_0242ac1c0002row9_col14,#T_e3825d94_aef7_11eb_bfd3_0242ac1c0002row9_col16,#T_e3825d94_aef7_11eb_bfd3_0242ac1c0002row9_col18,#T_e3825d94_aef7_11eb_bfd3_0242ac1c0002row9_col20,#T_e3825d94_aef7_11eb_bfd3_0242ac1c0002row9_col22,#T_e3825d94_aef7_11eb_bfd3_0242ac1c0002row9_col25,#T_e3825d94_aef7_11eb_bfd3_0242ac1c0002row9_col26{\n",
              "            background-color:  #535a6d;\n",
              "            color:  #f1f1f1;\n",
              "        }#T_e3825d94_aef7_11eb_bfd3_0242ac1c0002row8_col19,#T_e3825d94_aef7_11eb_bfd3_0242ac1c0002row9_col13,#T_e3825d94_aef7_11eb_bfd3_0242ac1c0002row24_col19,#T_e3825d94_aef7_11eb_bfd3_0242ac1c0002row24_col26,#T_e3825d94_aef7_11eb_bfd3_0242ac1c0002row26_col21{\n",
              "            background-color:  #555b6d;\n",
              "            color:  #f1f1f1;\n",
              "        }#T_e3825d94_aef7_11eb_bfd3_0242ac1c0002row9_col1{\n",
              "            background-color:  #b1a570;\n",
              "            color:  #000000;\n",
              "        }#T_e3825d94_aef7_11eb_bfd3_0242ac1c0002row9_col7{\n",
              "            background-color:  #9e9676;\n",
              "            color:  #000000;\n",
              "        }#T_e3825d94_aef7_11eb_bfd3_0242ac1c0002row9_col8{\n",
              "            background-color:  #5e626e;\n",
              "            color:  #f1f1f1;\n",
              "        }#T_e3825d94_aef7_11eb_bfd3_0242ac1c0002row9_col10,#T_e3825d94_aef7_11eb_bfd3_0242ac1c0002row17_col21,#T_e3825d94_aef7_11eb_bfd3_0242ac1c0002row23_col17{\n",
              "            background-color:  #8d8878;\n",
              "            color:  #000000;\n",
              "        }#T_e3825d94_aef7_11eb_bfd3_0242ac1c0002row9_col17,#T_e3825d94_aef7_11eb_bfd3_0242ac1c0002row13_col21,#T_e3825d94_aef7_11eb_bfd3_0242ac1c0002row21_col9,#T_e3825d94_aef7_11eb_bfd3_0242ac1c0002row23_col9{\n",
              "            background-color:  #6b6d72;\n",
              "            color:  #000000;\n",
              "        }#T_e3825d94_aef7_11eb_bfd3_0242ac1c0002row10_col1{\n",
              "            background-color:  #dfca57;\n",
              "            color:  #000000;\n",
              "        }#T_e3825d94_aef7_11eb_bfd3_0242ac1c0002row10_col6,#T_e3825d94_aef7_11eb_bfd3_0242ac1c0002row10_col25{\n",
              "            background-color:  #002e6c;\n",
              "            color:  #f1f1f1;\n",
              "        }#T_e3825d94_aef7_11eb_bfd3_0242ac1c0002row10_col7{\n",
              "            background-color:  #a09875;\n",
              "            color:  #000000;\n",
              "        }#T_e3825d94_aef7_11eb_bfd3_0242ac1c0002row10_col8,#T_e3825d94_aef7_11eb_bfd3_0242ac1c0002row17_col26{\n",
              "            background-color:  #5c616e;\n",
              "            color:  #f1f1f1;\n",
              "        }#T_e3825d94_aef7_11eb_bfd3_0242ac1c0002row10_col15,#T_e3825d94_aef7_11eb_bfd3_0242ac1c0002row25_col13,#T_e3825d94_aef7_11eb_bfd3_0242ac1c0002row25_col17,#T_e3825d94_aef7_11eb_bfd3_0242ac1c0002row25_col26,#T_e3825d94_aef7_11eb_bfd3_0242ac1c0002row27_col21,#T_e3825d94_aef7_11eb_bfd3_0242ac1c0002row27_col23{\n",
              "            background-color:  #656870;\n",
              "            color:  #f1f1f1;\n",
              "        }#T_e3825d94_aef7_11eb_bfd3_0242ac1c0002row10_col21,#T_e3825d94_aef7_11eb_bfd3_0242ac1c0002row15_col0,#T_e3825d94_aef7_11eb_bfd3_0242ac1c0002row15_col8,#T_e3825d94_aef7_11eb_bfd3_0242ac1c0002row17_col0{\n",
              "            background-color:  #828079;\n",
              "            color:  #000000;\n",
              "        }#T_e3825d94_aef7_11eb_bfd3_0242ac1c0002row10_col23,#T_e3825d94_aef7_11eb_bfd3_0242ac1c0002row10_col27{\n",
              "            background-color:  #817f78;\n",
              "            color:  #000000;\n",
              "        }#T_e3825d94_aef7_11eb_bfd3_0242ac1c0002row10_col24,#T_e3825d94_aef7_11eb_bfd3_0242ac1c0002row27_col13,#T_e3825d94_aef7_11eb_bfd3_0242ac1c0002row27_col19{\n",
              "            background-color:  #2a3f6d;\n",
              "            color:  #f1f1f1;\n",
              "        }#T_e3825d94_aef7_11eb_bfd3_0242ac1c0002row10_col28,#T_e3825d94_aef7_11eb_bfd3_0242ac1c0002row25_col4,#T_e3825d94_aef7_11eb_bfd3_0242ac1c0002row27_col5{\n",
              "            background-color:  #002c66;\n",
              "            color:  #f1f1f1;\n",
              "        }#T_e3825d94_aef7_11eb_bfd3_0242ac1c0002row11_col2,#T_e3825d94_aef7_11eb_bfd3_0242ac1c0002row12_col2,#T_e3825d94_aef7_11eb_bfd3_0242ac1c0002row14_col2,#T_e3825d94_aef7_11eb_bfd3_0242ac1c0002row16_col2,#T_e3825d94_aef7_11eb_bfd3_0242ac1c0002row18_col2,#T_e3825d94_aef7_11eb_bfd3_0242ac1c0002row20_col2,#T_e3825d94_aef7_11eb_bfd3_0242ac1c0002row22_col2{\n",
              "            background-color:  #013271;\n",
              "            color:  #f1f1f1;\n",
              "        }#T_e3825d94_aef7_11eb_bfd3_0242ac1c0002row11_col7,#T_e3825d94_aef7_11eb_bfd3_0242ac1c0002row12_col7,#T_e3825d94_aef7_11eb_bfd3_0242ac1c0002row14_col7,#T_e3825d94_aef7_11eb_bfd3_0242ac1c0002row16_col7,#T_e3825d94_aef7_11eb_bfd3_0242ac1c0002row18_col7,#T_e3825d94_aef7_11eb_bfd3_0242ac1c0002row20_col7,#T_e3825d94_aef7_11eb_bfd3_0242ac1c0002row22_col7,#T_e3825d94_aef7_11eb_bfd3_0242ac1c0002row27_col1{\n",
              "            background-color:  #928c78;\n",
              "            color:  #000000;\n",
              "        }#T_e3825d94_aef7_11eb_bfd3_0242ac1c0002row11_col9,#T_e3825d94_aef7_11eb_bfd3_0242ac1c0002row12_col9,#T_e3825d94_aef7_11eb_bfd3_0242ac1c0002row14_col9,#T_e3825d94_aef7_11eb_bfd3_0242ac1c0002row16_col9,#T_e3825d94_aef7_11eb_bfd3_0242ac1c0002row18_col9,#T_e3825d94_aef7_11eb_bfd3_0242ac1c0002row20_col9,#T_e3825d94_aef7_11eb_bfd3_0242ac1c0002row22_col9{\n",
              "            background-color:  #002c64;\n",
              "            color:  #f1f1f1;\n",
              "        }#T_e3825d94_aef7_11eb_bfd3_0242ac1c0002row11_col25,#T_e3825d94_aef7_11eb_bfd3_0242ac1c0002row12_col25,#T_e3825d94_aef7_11eb_bfd3_0242ac1c0002row14_col25,#T_e3825d94_aef7_11eb_bfd3_0242ac1c0002row16_col25,#T_e3825d94_aef7_11eb_bfd3_0242ac1c0002row18_col25,#T_e3825d94_aef7_11eb_bfd3_0242ac1c0002row20_col25,#T_e3825d94_aef7_11eb_bfd3_0242ac1c0002row22_col25{\n",
              "            background-color:  #666970;\n",
              "            color:  #000000;\n",
              "        }#T_e3825d94_aef7_11eb_bfd3_0242ac1c0002row11_col27,#T_e3825d94_aef7_11eb_bfd3_0242ac1c0002row12_col27,#T_e3825d94_aef7_11eb_bfd3_0242ac1c0002row14_col27,#T_e3825d94_aef7_11eb_bfd3_0242ac1c0002row16_col27,#T_e3825d94_aef7_11eb_bfd3_0242ac1c0002row18_col27,#T_e3825d94_aef7_11eb_bfd3_0242ac1c0002row20_col27,#T_e3825d94_aef7_11eb_bfd3_0242ac1c0002row22_col27,#T_e3825d94_aef7_11eb_bfd3_0242ac1c0002row26_col28{\n",
              "            background-color:  #002f6d;\n",
              "            color:  #f1f1f1;\n",
              "        }#T_e3825d94_aef7_11eb_bfd3_0242ac1c0002row13_col1{\n",
              "            background-color:  #948e77;\n",
              "            color:  #000000;\n",
              "        }#T_e3825d94_aef7_11eb_bfd3_0242ac1c0002row13_col2,#T_e3825d94_aef7_11eb_bfd3_0242ac1c0002row26_col4{\n",
              "            background-color:  #1e3a6f;\n",
              "            color:  #f1f1f1;\n",
              "        }#T_e3825d94_aef7_11eb_bfd3_0242ac1c0002row13_col7,#T_e3825d94_aef7_11eb_bfd3_0242ac1c0002row17_col13,#T_e3825d94_aef7_11eb_bfd3_0242ac1c0002row24_col11,#T_e3825d94_aef7_11eb_bfd3_0242ac1c0002row24_col12,#T_e3825d94_aef7_11eb_bfd3_0242ac1c0002row24_col14,#T_e3825d94_aef7_11eb_bfd3_0242ac1c0002row24_col16,#T_e3825d94_aef7_11eb_bfd3_0242ac1c0002row24_col18,#T_e3825d94_aef7_11eb_bfd3_0242ac1c0002row24_col20,#T_e3825d94_aef7_11eb_bfd3_0242ac1c0002row24_col22{\n",
              "            background-color:  #727374;\n",
              "            color:  #000000;\n",
              "        }#T_e3825d94_aef7_11eb_bfd3_0242ac1c0002row13_col8{\n",
              "            background-color:  #878478;\n",
              "            color:  #000000;\n",
              "        }#T_e3825d94_aef7_11eb_bfd3_0242ac1c0002row13_col15,#T_e3825d94_aef7_11eb_bfd3_0242ac1c0002row23_col7,#T_e3825d94_aef7_11eb_bfd3_0242ac1c0002row27_col2{\n",
              "            background-color:  #787877;\n",
              "            color:  #000000;\n",
              "        }#T_e3825d94_aef7_11eb_bfd3_0242ac1c0002row13_col19,#T_e3825d94_aef7_11eb_bfd3_0242ac1c0002row19_col13,#T_e3825d94_aef7_11eb_bfd3_0242ac1c0002row19_col17,#T_e3825d94_aef7_11eb_bfd3_0242ac1c0002row23_col8{\n",
              "            background-color:  #807f78;\n",
              "            color:  #000000;\n",
              "        }#T_e3825d94_aef7_11eb_bfd3_0242ac1c0002row13_col23{\n",
              "            background-color:  #6c6e72;\n",
              "            color:  #000000;\n",
              "        }#T_e3825d94_aef7_11eb_bfd3_0242ac1c0002row15_col1{\n",
              "            background-color:  #a99f73;\n",
              "            color:  #000000;\n",
              "        }#T_e3825d94_aef7_11eb_bfd3_0242ac1c0002row15_col13,#T_e3825d94_aef7_11eb_bfd3_0242ac1c0002row17_col7{\n",
              "            background-color:  #747475;\n",
              "            color:  #000000;\n",
              "        }#T_e3825d94_aef7_11eb_bfd3_0242ac1c0002row17_col1{\n",
              "            background-color:  #afa471;\n",
              "            color:  #000000;\n",
              "        }#T_e3825d94_aef7_11eb_bfd3_0242ac1c0002row17_col10{\n",
              "            background-color:  #6f7073;\n",
              "            color:  #000000;\n",
              "        }#T_e3825d94_aef7_11eb_bfd3_0242ac1c0002row17_col23{\n",
              "            background-color:  #908b78;\n",
              "            color:  #000000;\n",
              "        }#T_e3825d94_aef7_11eb_bfd3_0242ac1c0002row19_col2,#T_e3825d94_aef7_11eb_bfd3_0242ac1c0002row23_col6,#T_e3825d94_aef7_11eb_bfd3_0242ac1c0002row27_col24,#T_e3825d94_aef7_11eb_bfd3_0242ac1c0002row28_col17{\n",
              "            background-color:  #203a6f;\n",
              "            color:  #f1f1f1;\n",
              "        }#T_e3825d94_aef7_11eb_bfd3_0242ac1c0002row19_col4{\n",
              "            background-color:  #0c3470;\n",
              "            color:  #f1f1f1;\n",
              "        }#T_e3825d94_aef7_11eb_bfd3_0242ac1c0002row19_col7,#T_e3825d94_aef7_11eb_bfd3_0242ac1c0002row26_col1{\n",
              "            background-color:  #727274;\n",
              "            color:  #000000;\n",
              "        }#T_e3825d94_aef7_11eb_bfd3_0242ac1c0002row19_col8,#T_e3825d94_aef7_11eb_bfd3_0242ac1c0002row27_col10{\n",
              "            background-color:  #888578;\n",
              "            color:  #000000;\n",
              "        }#T_e3825d94_aef7_11eb_bfd3_0242ac1c0002row19_col9,#T_e3825d94_aef7_11eb_bfd3_0242ac1c0002row19_col24,#T_e3825d94_aef7_11eb_bfd3_0242ac1c0002row27_col4{\n",
              "            background-color:  #4f576c;\n",
              "            color:  #f1f1f1;\n",
              "        }#T_e3825d94_aef7_11eb_bfd3_0242ac1c0002row19_col25{\n",
              "            background-color:  #6a6c71;\n",
              "            color:  #000000;\n",
              "        }#T_e3825d94_aef7_11eb_bfd3_0242ac1c0002row21_col0{\n",
              "            background-color:  #757575;\n",
              "            color:  #000000;\n",
              "        }#T_e3825d94_aef7_11eb_bfd3_0242ac1c0002row21_col1{\n",
              "            background-color:  #c6b667;\n",
              "            color:  #000000;\n",
              "        }#T_e3825d94_aef7_11eb_bfd3_0242ac1c0002row21_col2,#T_e3825d94_aef7_11eb_bfd3_0242ac1c0002row23_col2,#T_e3825d94_aef7_11eb_bfd3_0242ac1c0002row23_col26{\n",
              "            background-color:  #51586d;\n",
              "            color:  #f1f1f1;\n",
              "        }#T_e3825d94_aef7_11eb_bfd3_0242ac1c0002row21_col17{\n",
              "            background-color:  #8b8778;\n",
              "            color:  #000000;\n",
              "        }#T_e3825d94_aef7_11eb_bfd3_0242ac1c0002row21_col23,#T_e3825d94_aef7_11eb_bfd3_0242ac1c0002row23_col21{\n",
              "            background-color:  #a69c74;\n",
              "            color:  #000000;\n",
              "        }#T_e3825d94_aef7_11eb_bfd3_0242ac1c0002row21_col27{\n",
              "            background-color:  #636670;\n",
              "            color:  #f1f1f1;\n",
              "        }#T_e3825d94_aef7_11eb_bfd3_0242ac1c0002row21_col28,#T_e3825d94_aef7_11eb_bfd3_0242ac1c0002row23_col28{\n",
              "            background-color:  #083370;\n",
              "            color:  #f1f1f1;\n",
              "        }#T_e3825d94_aef7_11eb_bfd3_0242ac1c0002row23_col1{\n",
              "            background-color:  #c5b568;\n",
              "            color:  #000000;\n",
              "        }#T_e3825d94_aef7_11eb_bfd3_0242ac1c0002row24_col3,#T_e3825d94_aef7_11eb_bfd3_0242ac1c0002row28_col4{\n",
              "            background-color:  #002758;\n",
              "            color:  #f1f1f1;\n",
              "        }#T_e3825d94_aef7_11eb_bfd3_0242ac1c0002row25_col0{\n",
              "            background-color:  #a79d73;\n",
              "            color:  #000000;\n",
              "        }#T_e3825d94_aef7_11eb_bfd3_0242ac1c0002row25_col2{\n",
              "            background-color:  #00295d;\n",
              "            color:  #f1f1f1;\n",
              "        }#T_e3825d94_aef7_11eb_bfd3_0242ac1c0002row25_col5,#T_e3825d94_aef7_11eb_bfd3_0242ac1c0002row25_col21,#T_e3825d94_aef7_11eb_bfd3_0242ac1c0002row25_col23{\n",
              "            background-color:  #5a5f6e;\n",
              "            color:  #f1f1f1;\n",
              "        }#T_e3825d94_aef7_11eb_bfd3_0242ac1c0002row26_col3,#T_e3825d94_aef7_11eb_bfd3_0242ac1c0002row27_col3{\n",
              "            background-color:  #002554;\n",
              "            color:  #f1f1f1;\n",
              "        }#T_e3825d94_aef7_11eb_bfd3_0242ac1c0002row26_col25{\n",
              "            background-color:  #5e636f;\n",
              "            color:  #f1f1f1;\n",
              "        }#T_e3825d94_aef7_11eb_bfd3_0242ac1c0002row27_col0,#T_e3825d94_aef7_11eb_bfd3_0242ac1c0002row28_col10{\n",
              "            background-color:  #0f3570;\n",
              "            color:  #f1f1f1;\n",
              "        }#T_e3825d94_aef7_11eb_bfd3_0242ac1c0002row28_col2{\n",
              "            background-color:  #33446d;\n",
              "            color:  #f1f1f1;\n",
              "        }#T_e3825d94_aef7_11eb_bfd3_0242ac1c0002row28_col3{\n",
              "            background-color:  #002859;\n",
              "            color:  #f1f1f1;\n",
              "        }#T_e3825d94_aef7_11eb_bfd3_0242ac1c0002row28_col5{\n",
              "            background-color:  #002b62;\n",
              "            color:  #f1f1f1;\n",
              "        }#T_e3825d94_aef7_11eb_bfd3_0242ac1c0002row28_col9{\n",
              "            background-color:  #002a5f;\n",
              "            color:  #f1f1f1;\n",
              "        }#T_e3825d94_aef7_11eb_bfd3_0242ac1c0002row28_col11,#T_e3825d94_aef7_11eb_bfd3_0242ac1c0002row28_col12,#T_e3825d94_aef7_11eb_bfd3_0242ac1c0002row28_col14,#T_e3825d94_aef7_11eb_bfd3_0242ac1c0002row28_col16,#T_e3825d94_aef7_11eb_bfd3_0242ac1c0002row28_col18,#T_e3825d94_aef7_11eb_bfd3_0242ac1c0002row28_col20,#T_e3825d94_aef7_11eb_bfd3_0242ac1c0002row28_col22{\n",
              "            background-color:  #989277;\n",
              "            color:  #000000;\n",
              "        }#T_e3825d94_aef7_11eb_bfd3_0242ac1c0002row28_col26{\n",
              "            background-color:  #002e6a;\n",
              "            color:  #f1f1f1;\n",
              "        }</style><table id=\"T_e3825d94_aef7_11eb_bfd3_0242ac1c0002\" ><thead>    <tr>        <th class=\"blank level0\" ></th>        <th class=\"col_heading level0 col0\" >Tenure_Months</th>        <th class=\"col_heading level0 col1\" >Monthly_Charges</th>        <th class=\"col_heading level0 col2\" >Churn_Value</th>        <th class=\"col_heading level0 col3\" >Gender_Male</th>        <th class=\"col_heading level0 col4\" >Senior_Citizen_Yes</th>        <th class=\"col_heading level0 col5\" >Partner_Yes</th>        <th class=\"col_heading level0 col6\" >Dependents_Yes</th>        <th class=\"col_heading level0 col7\" >Phone_Service_Yes</th>        <th class=\"col_heading level0 col8\" >Multiple_Lines_No phone service</th>        <th class=\"col_heading level0 col9\" >Multiple_Lines_Yes</th>        <th class=\"col_heading level0 col10\" >Internet_Service_Fiber optic</th>        <th class=\"col_heading level0 col11\" >Internet_Service_No</th>        <th class=\"col_heading level0 col12\" >Online_Security_No internet service</th>        <th class=\"col_heading level0 col13\" >Online_Security_Yes</th>        <th class=\"col_heading level0 col14\" >Online_Backup_No internet service</th>        <th class=\"col_heading level0 col15\" >Online_Backup_Yes</th>        <th class=\"col_heading level0 col16\" >Device_Protection_No internet service</th>        <th class=\"col_heading level0 col17\" >Device_Protection_Yes</th>        <th class=\"col_heading level0 col18\" >Tech_Support_No internet service</th>        <th class=\"col_heading level0 col19\" >Tech_Support_Yes</th>        <th class=\"col_heading level0 col20\" >Streaming_TV_No internet service</th>        <th class=\"col_heading level0 col21\" >Streaming_TV_Yes</th>        <th class=\"col_heading level0 col22\" >Streaming_Movies_No internet service</th>        <th class=\"col_heading level0 col23\" >Streaming_Movies_Yes</th>        <th class=\"col_heading level0 col24\" >Contract_One year</th>        <th class=\"col_heading level0 col25\" >Contract_Two year</th>        <th class=\"col_heading level0 col26\" >Payment_Method_Credit card (automatic)</th>        <th class=\"col_heading level0 col27\" >Payment_Method_Electronic check</th>        <th class=\"col_heading level0 col28\" >Payment_Method_Mailed check</th>    </tr></thead><tbody>\n",
              "                <tr>\n",
              "                        <th id=\"T_e3825d94_aef7_11eb_bfd3_0242ac1c0002level0_row0\" class=\"row_heading level0 row0\" >Tenure_Months</th>\n",
              "                        <td id=\"T_e3825d94_aef7_11eb_bfd3_0242ac1c0002row0_col0\" class=\"data row0 col0\" >1.000000</td>\n",
              "                        <td id=\"T_e3825d94_aef7_11eb_bfd3_0242ac1c0002row0_col1\" class=\"data row0 col1\" >0.247900</td>\n",
              "                        <td id=\"T_e3825d94_aef7_11eb_bfd3_0242ac1c0002row0_col2\" class=\"data row0 col2\" >-0.352229</td>\n",
              "                        <td id=\"T_e3825d94_aef7_11eb_bfd3_0242ac1c0002row0_col3\" class=\"data row0 col3\" >0.005106</td>\n",
              "                        <td id=\"T_e3825d94_aef7_11eb_bfd3_0242ac1c0002row0_col4\" class=\"data row0 col4\" >0.016567</td>\n",
              "                        <td id=\"T_e3825d94_aef7_11eb_bfd3_0242ac1c0002row0_col5\" class=\"data row0 col5\" >0.379697</td>\n",
              "                        <td id=\"T_e3825d94_aef7_11eb_bfd3_0242ac1c0002row0_col6\" class=\"data row0 col6\" >0.131376</td>\n",
              "                        <td id=\"T_e3825d94_aef7_11eb_bfd3_0242ac1c0002row0_col7\" class=\"data row0 col7\" >0.008448</td>\n",
              "                        <td id=\"T_e3825d94_aef7_11eb_bfd3_0242ac1c0002row0_col8\" class=\"data row0 col8\" >-0.008448</td>\n",
              "                        <td id=\"T_e3825d94_aef7_11eb_bfd3_0242ac1c0002row0_col9\" class=\"data row0 col9\" >0.331941</td>\n",
              "                        <td id=\"T_e3825d94_aef7_11eb_bfd3_0242ac1c0002row0_col10\" class=\"data row0 col10\" >0.019720</td>\n",
              "                        <td id=\"T_e3825d94_aef7_11eb_bfd3_0242ac1c0002row0_col11\" class=\"data row0 col11\" >-0.039062</td>\n",
              "                        <td id=\"T_e3825d94_aef7_11eb_bfd3_0242ac1c0002row0_col12\" class=\"data row0 col12\" >-0.039062</td>\n",
              "                        <td id=\"T_e3825d94_aef7_11eb_bfd3_0242ac1c0002row0_col13\" class=\"data row0 col13\" >0.327203</td>\n",
              "                        <td id=\"T_e3825d94_aef7_11eb_bfd3_0242ac1c0002row0_col14\" class=\"data row0 col14\" >-0.039062</td>\n",
              "                        <td id=\"T_e3825d94_aef7_11eb_bfd3_0242ac1c0002row0_col15\" class=\"data row0 col15\" >0.360277</td>\n",
              "                        <td id=\"T_e3825d94_aef7_11eb_bfd3_0242ac1c0002row0_col16\" class=\"data row0 col16\" >-0.039062</td>\n",
              "                        <td id=\"T_e3825d94_aef7_11eb_bfd3_0242ac1c0002row0_col17\" class=\"data row0 col17\" >0.360653</td>\n",
              "                        <td id=\"T_e3825d94_aef7_11eb_bfd3_0242ac1c0002row0_col18\" class=\"data row0 col18\" >-0.039062</td>\n",
              "                        <td id=\"T_e3825d94_aef7_11eb_bfd3_0242ac1c0002row0_col19\" class=\"data row0 col19\" >0.324221</td>\n",
              "                        <td id=\"T_e3825d94_aef7_11eb_bfd3_0242ac1c0002row0_col20\" class=\"data row0 col20\" >-0.039062</td>\n",
              "                        <td id=\"T_e3825d94_aef7_11eb_bfd3_0242ac1c0002row0_col21\" class=\"data row0 col21\" >0.279756</td>\n",
              "                        <td id=\"T_e3825d94_aef7_11eb_bfd3_0242ac1c0002row0_col22\" class=\"data row0 col22\" >-0.039062</td>\n",
              "                        <td id=\"T_e3825d94_aef7_11eb_bfd3_0242ac1c0002row0_col23\" class=\"data row0 col23\" >0.286111</td>\n",
              "                        <td id=\"T_e3825d94_aef7_11eb_bfd3_0242ac1c0002row0_col24\" class=\"data row0 col24\" >0.202570</td>\n",
              "                        <td id=\"T_e3825d94_aef7_11eb_bfd3_0242ac1c0002row0_col25\" class=\"data row0 col25\" >0.558533</td>\n",
              "                        <td id=\"T_e3825d94_aef7_11eb_bfd3_0242ac1c0002row0_col26\" class=\"data row0 col26\" >0.233006</td>\n",
              "                        <td id=\"T_e3825d94_aef7_11eb_bfd3_0242ac1c0002row0_col27\" class=\"data row0 col27\" >-0.208363</td>\n",
              "                        <td id=\"T_e3825d94_aef7_11eb_bfd3_0242ac1c0002row0_col28\" class=\"data row0 col28\" >-0.233852</td>\n",
              "            </tr>\n",
              "            <tr>\n",
              "                        <th id=\"T_e3825d94_aef7_11eb_bfd3_0242ac1c0002level0_row1\" class=\"row_heading level0 row1\" >Monthly_Charges</th>\n",
              "                        <td id=\"T_e3825d94_aef7_11eb_bfd3_0242ac1c0002row1_col0\" class=\"data row1 col0\" >0.247900</td>\n",
              "                        <td id=\"T_e3825d94_aef7_11eb_bfd3_0242ac1c0002row1_col1\" class=\"data row1 col1\" >1.000000</td>\n",
              "                        <td id=\"T_e3825d94_aef7_11eb_bfd3_0242ac1c0002row1_col2\" class=\"data row1 col2\" >0.193356</td>\n",
              "                        <td id=\"T_e3825d94_aef7_11eb_bfd3_0242ac1c0002row1_col3\" class=\"data row1 col3\" >-0.014569</td>\n",
              "                        <td id=\"T_e3825d94_aef7_11eb_bfd3_0242ac1c0002row1_col4\" class=\"data row1 col4\" >0.220173</td>\n",
              "                        <td id=\"T_e3825d94_aef7_11eb_bfd3_0242ac1c0002row1_col5\" class=\"data row1 col5\" >0.096848</td>\n",
              "                        <td id=\"T_e3825d94_aef7_11eb_bfd3_0242ac1c0002row1_col6\" class=\"data row1 col6\" >-0.144206</td>\n",
              "                        <td id=\"T_e3825d94_aef7_11eb_bfd3_0242ac1c0002row1_col7\" class=\"data row1 col7\" >0.247398</td>\n",
              "                        <td id=\"T_e3825d94_aef7_11eb_bfd3_0242ac1c0002row1_col8\" class=\"data row1 col8\" >-0.247398</td>\n",
              "                        <td id=\"T_e3825d94_aef7_11eb_bfd3_0242ac1c0002row1_col9\" class=\"data row1 col9\" >0.490434</td>\n",
              "                        <td id=\"T_e3825d94_aef7_11eb_bfd3_0242ac1c0002row1_col10\" class=\"data row1 col10\" >0.787066</td>\n",
              "                        <td id=\"T_e3825d94_aef7_11eb_bfd3_0242ac1c0002row1_col11\" class=\"data row1 col11\" >-0.763557</td>\n",
              "                        <td id=\"T_e3825d94_aef7_11eb_bfd3_0242ac1c0002row1_col12\" class=\"data row1 col12\" >-0.763557</td>\n",
              "                        <td id=\"T_e3825d94_aef7_11eb_bfd3_0242ac1c0002row1_col13\" class=\"data row1 col13\" >0.296594</td>\n",
              "                        <td id=\"T_e3825d94_aef7_11eb_bfd3_0242ac1c0002row1_col14\" class=\"data row1 col14\" >-0.763557</td>\n",
              "                        <td id=\"T_e3825d94_aef7_11eb_bfd3_0242ac1c0002row1_col15\" class=\"data row1 col15\" >0.441780</td>\n",
              "                        <td id=\"T_e3825d94_aef7_11eb_bfd3_0242ac1c0002row1_col16\" class=\"data row1 col16\" >-0.763557</td>\n",
              "                        <td id=\"T_e3825d94_aef7_11eb_bfd3_0242ac1c0002row1_col17\" class=\"data row1 col17\" >0.482692</td>\n",
              "                        <td id=\"T_e3825d94_aef7_11eb_bfd3_0242ac1c0002row1_col18\" class=\"data row1 col18\" >-0.763557</td>\n",
              "                        <td id=\"T_e3825d94_aef7_11eb_bfd3_0242ac1c0002row1_col19\" class=\"data row1 col19\" >0.338304</td>\n",
              "                        <td id=\"T_e3825d94_aef7_11eb_bfd3_0242ac1c0002row1_col20\" class=\"data row1 col20\" >-0.763557</td>\n",
              "                        <td id=\"T_e3825d94_aef7_11eb_bfd3_0242ac1c0002row1_col21\" class=\"data row1 col21\" >0.629603</td>\n",
              "                        <td id=\"T_e3825d94_aef7_11eb_bfd3_0242ac1c0002row1_col22\" class=\"data row1 col22\" >-0.763557</td>\n",
              "                        <td id=\"T_e3825d94_aef7_11eb_bfd3_0242ac1c0002row1_col23\" class=\"data row1 col23\" >0.627429</td>\n",
              "                        <td id=\"T_e3825d94_aef7_11eb_bfd3_0242ac1c0002row1_col24\" class=\"data row1 col24\" >0.004904</td>\n",
              "                        <td id=\"T_e3825d94_aef7_11eb_bfd3_0242ac1c0002row1_col25\" class=\"data row1 col25\" >-0.074681</td>\n",
              "                        <td id=\"T_e3825d94_aef7_11eb_bfd3_0242ac1c0002row1_col26\" class=\"data row1 col26\" >0.030550</td>\n",
              "                        <td id=\"T_e3825d94_aef7_11eb_bfd3_0242ac1c0002row1_col27\" class=\"data row1 col27\" >0.271625</td>\n",
              "                        <td id=\"T_e3825d94_aef7_11eb_bfd3_0242ac1c0002row1_col28\" class=\"data row1 col28\" >-0.377437</td>\n",
              "            </tr>\n",
              "            <tr>\n",
              "                        <th id=\"T_e3825d94_aef7_11eb_bfd3_0242ac1c0002level0_row2\" class=\"row_heading level0 row2\" >Churn_Value</th>\n",
              "                        <td id=\"T_e3825d94_aef7_11eb_bfd3_0242ac1c0002row2_col0\" class=\"data row2 col0\" >-0.352229</td>\n",
              "                        <td id=\"T_e3825d94_aef7_11eb_bfd3_0242ac1c0002row2_col1\" class=\"data row2 col1\" >0.193356</td>\n",
              "                        <td id=\"T_e3825d94_aef7_11eb_bfd3_0242ac1c0002row2_col2\" class=\"data row2 col2\" >1.000000</td>\n",
              "                        <td id=\"T_e3825d94_aef7_11eb_bfd3_0242ac1c0002row2_col3\" class=\"data row2 col3\" >-0.008612</td>\n",
              "                        <td id=\"T_e3825d94_aef7_11eb_bfd3_0242ac1c0002row2_col4\" class=\"data row2 col4\" >0.150889</td>\n",
              "                        <td id=\"T_e3825d94_aef7_11eb_bfd3_0242ac1c0002row2_col5\" class=\"data row2 col5\" >-0.150448</td>\n",
              "                        <td id=\"T_e3825d94_aef7_11eb_bfd3_0242ac1c0002row2_col6\" class=\"data row2 col6\" >-0.248542</td>\n",
              "                        <td id=\"T_e3825d94_aef7_11eb_bfd3_0242ac1c0002row2_col7\" class=\"data row2 col7\" >0.011942</td>\n",
              "                        <td id=\"T_e3825d94_aef7_11eb_bfd3_0242ac1c0002row2_col8\" class=\"data row2 col8\" >-0.011942</td>\n",
              "                        <td id=\"T_e3825d94_aef7_11eb_bfd3_0242ac1c0002row2_col9\" class=\"data row2 col9\" >0.040102</td>\n",
              "                        <td id=\"T_e3825d94_aef7_11eb_bfd3_0242ac1c0002row2_col10\" class=\"data row2 col10\" >0.308020</td>\n",
              "                        <td id=\"T_e3825d94_aef7_11eb_bfd3_0242ac1c0002row2_col11\" class=\"data row2 col11\" >-0.227890</td>\n",
              "                        <td id=\"T_e3825d94_aef7_11eb_bfd3_0242ac1c0002row2_col12\" class=\"data row2 col12\" >-0.227890</td>\n",
              "                        <td id=\"T_e3825d94_aef7_11eb_bfd3_0242ac1c0002row2_col13\" class=\"data row2 col13\" >-0.171226</td>\n",
              "                        <td id=\"T_e3825d94_aef7_11eb_bfd3_0242ac1c0002row2_col14\" class=\"data row2 col14\" >-0.227890</td>\n",
              "                        <td id=\"T_e3825d94_aef7_11eb_bfd3_0242ac1c0002row2_col15\" class=\"data row2 col15\" >-0.082255</td>\n",
              "                        <td id=\"T_e3825d94_aef7_11eb_bfd3_0242ac1c0002row2_col16\" class=\"data row2 col16\" >-0.227890</td>\n",
              "                        <td id=\"T_e3825d94_aef7_11eb_bfd3_0242ac1c0002row2_col17\" class=\"data row2 col17\" >-0.066160</td>\n",
              "                        <td id=\"T_e3825d94_aef7_11eb_bfd3_0242ac1c0002row2_col18\" class=\"data row2 col18\" >-0.227890</td>\n",
              "                        <td id=\"T_e3825d94_aef7_11eb_bfd3_0242ac1c0002row2_col19\" class=\"data row2 col19\" >-0.164674</td>\n",
              "                        <td id=\"T_e3825d94_aef7_11eb_bfd3_0242ac1c0002row2_col20\" class=\"data row2 col20\" >-0.227890</td>\n",
              "                        <td id=\"T_e3825d94_aef7_11eb_bfd3_0242ac1c0002row2_col21\" class=\"data row2 col21\" >0.063228</td>\n",
              "                        <td id=\"T_e3825d94_aef7_11eb_bfd3_0242ac1c0002row2_col22\" class=\"data row2 col22\" >-0.227890</td>\n",
              "                        <td id=\"T_e3825d94_aef7_11eb_bfd3_0242ac1c0002row2_col23\" class=\"data row2 col23\" >0.061382</td>\n",
              "                        <td id=\"T_e3825d94_aef7_11eb_bfd3_0242ac1c0002row2_col24\" class=\"data row2 col24\" >-0.177820</td>\n",
              "                        <td id=\"T_e3825d94_aef7_11eb_bfd3_0242ac1c0002row2_col25\" class=\"data row2 col25\" >-0.302253</td>\n",
              "                        <td id=\"T_e3825d94_aef7_11eb_bfd3_0242ac1c0002row2_col26\" class=\"data row2 col26\" >-0.134302</td>\n",
              "                        <td id=\"T_e3825d94_aef7_11eb_bfd3_0242ac1c0002row2_col27\" class=\"data row2 col27\" >0.301919</td>\n",
              "                        <td id=\"T_e3825d94_aef7_11eb_bfd3_0242ac1c0002row2_col28\" class=\"data row2 col28\" >-0.091683</td>\n",
              "            </tr>\n",
              "            <tr>\n",
              "                        <th id=\"T_e3825d94_aef7_11eb_bfd3_0242ac1c0002level0_row3\" class=\"row_heading level0 row3\" >Gender_Male</th>\n",
              "                        <td id=\"T_e3825d94_aef7_11eb_bfd3_0242ac1c0002row3_col0\" class=\"data row3 col0\" >0.005106</td>\n",
              "                        <td id=\"T_e3825d94_aef7_11eb_bfd3_0242ac1c0002row3_col1\" class=\"data row3 col1\" >-0.014569</td>\n",
              "                        <td id=\"T_e3825d94_aef7_11eb_bfd3_0242ac1c0002row3_col2\" class=\"data row3 col2\" >-0.008612</td>\n",
              "                        <td id=\"T_e3825d94_aef7_11eb_bfd3_0242ac1c0002row3_col3\" class=\"data row3 col3\" >1.000000</td>\n",
              "                        <td id=\"T_e3825d94_aef7_11eb_bfd3_0242ac1c0002row3_col4\" class=\"data row3 col4\" >-0.001874</td>\n",
              "                        <td id=\"T_e3825d94_aef7_11eb_bfd3_0242ac1c0002row3_col5\" class=\"data row3 col5\" >-0.001808</td>\n",
              "                        <td id=\"T_e3825d94_aef7_11eb_bfd3_0242ac1c0002row3_col6\" class=\"data row3 col6\" >0.005229</td>\n",
              "                        <td id=\"T_e3825d94_aef7_11eb_bfd3_0242ac1c0002row3_col7\" class=\"data row3 col7\" >-0.006488</td>\n",
              "                        <td id=\"T_e3825d94_aef7_11eb_bfd3_0242ac1c0002row3_col8\" class=\"data row3 col8\" >0.006488</td>\n",
              "                        <td id=\"T_e3825d94_aef7_11eb_bfd3_0242ac1c0002row3_col9\" class=\"data row3 col9\" >-0.008414</td>\n",
              "                        <td id=\"T_e3825d94_aef7_11eb_bfd3_0242ac1c0002row3_col10\" class=\"data row3 col10\" >-0.011286</td>\n",
              "                        <td id=\"T_e3825d94_aef7_11eb_bfd3_0242ac1c0002row3_col11\" class=\"data row3 col11\" >0.006026</td>\n",
              "                        <td id=\"T_e3825d94_aef7_11eb_bfd3_0242ac1c0002row3_col12\" class=\"data row3 col12\" >0.006026</td>\n",
              "                        <td id=\"T_e3825d94_aef7_11eb_bfd3_0242ac1c0002row3_col13\" class=\"data row3 col13\" >-0.017021</td>\n",
              "                        <td id=\"T_e3825d94_aef7_11eb_bfd3_0242ac1c0002row3_col14\" class=\"data row3 col14\" >0.006026</td>\n",
              "                        <td id=\"T_e3825d94_aef7_11eb_bfd3_0242ac1c0002row3_col15\" class=\"data row3 col15\" >-0.013773</td>\n",
              "                        <td id=\"T_e3825d94_aef7_11eb_bfd3_0242ac1c0002row3_col16\" class=\"data row3 col16\" >0.006026</td>\n",
              "                        <td id=\"T_e3825d94_aef7_11eb_bfd3_0242ac1c0002row3_col17\" class=\"data row3 col17\" >-0.002105</td>\n",
              "                        <td id=\"T_e3825d94_aef7_11eb_bfd3_0242ac1c0002row3_col18\" class=\"data row3 col18\" >0.006026</td>\n",
              "                        <td id=\"T_e3825d94_aef7_11eb_bfd3_0242ac1c0002row3_col19\" class=\"data row3 col19\" >-0.009212</td>\n",
              "                        <td id=\"T_e3825d94_aef7_11eb_bfd3_0242ac1c0002row3_col20\" class=\"data row3 col20\" >0.006026</td>\n",
              "                        <td id=\"T_e3825d94_aef7_11eb_bfd3_0242ac1c0002row3_col21\" class=\"data row3 col21\" >-0.008393</td>\n",
              "                        <td id=\"T_e3825d94_aef7_11eb_bfd3_0242ac1c0002row3_col22\" class=\"data row3 col22\" >0.006026</td>\n",
              "                        <td id=\"T_e3825d94_aef7_11eb_bfd3_0242ac1c0002row3_col23\" class=\"data row3 col23\" >-0.010487</td>\n",
              "                        <td id=\"T_e3825d94_aef7_11eb_bfd3_0242ac1c0002row3_col24\" class=\"data row3 col24\" >0.008026</td>\n",
              "                        <td id=\"T_e3825d94_aef7_11eb_bfd3_0242ac1c0002row3_col25\" class=\"data row3 col25\" >-0.003695</td>\n",
              "                        <td id=\"T_e3825d94_aef7_11eb_bfd3_0242ac1c0002row3_col26\" class=\"data row3 col26\" >0.001215</td>\n",
              "                        <td id=\"T_e3825d94_aef7_11eb_bfd3_0242ac1c0002row3_col27\" class=\"data row3 col27\" >0.000752</td>\n",
              "                        <td id=\"T_e3825d94_aef7_11eb_bfd3_0242ac1c0002row3_col28\" class=\"data row3 col28\" >0.013744</td>\n",
              "            </tr>\n",
              "            <tr>\n",
              "                        <th id=\"T_e3825d94_aef7_11eb_bfd3_0242ac1c0002level0_row4\" class=\"row_heading level0 row4\" >Senior_Citizen_Yes</th>\n",
              "                        <td id=\"T_e3825d94_aef7_11eb_bfd3_0242ac1c0002row4_col0\" class=\"data row4 col0\" >0.016567</td>\n",
              "                        <td id=\"T_e3825d94_aef7_11eb_bfd3_0242ac1c0002row4_col1\" class=\"data row4 col1\" >0.220173</td>\n",
              "                        <td id=\"T_e3825d94_aef7_11eb_bfd3_0242ac1c0002row4_col2\" class=\"data row4 col2\" >0.150889</td>\n",
              "                        <td id=\"T_e3825d94_aef7_11eb_bfd3_0242ac1c0002row4_col3\" class=\"data row4 col3\" >-0.001874</td>\n",
              "                        <td id=\"T_e3825d94_aef7_11eb_bfd3_0242ac1c0002row4_col4\" class=\"data row4 col4\" >1.000000</td>\n",
              "                        <td id=\"T_e3825d94_aef7_11eb_bfd3_0242ac1c0002row4_col5\" class=\"data row4 col5\" >0.016479</td>\n",
              "                        <td id=\"T_e3825d94_aef7_11eb_bfd3_0242ac1c0002row4_col6\" class=\"data row4 col6\" >-0.174396</td>\n",
              "                        <td id=\"T_e3825d94_aef7_11eb_bfd3_0242ac1c0002row4_col7\" class=\"data row4 col7\" >0.008576</td>\n",
              "                        <td id=\"T_e3825d94_aef7_11eb_bfd3_0242ac1c0002row4_col8\" class=\"data row4 col8\" >-0.008576</td>\n",
              "                        <td id=\"T_e3825d94_aef7_11eb_bfd3_0242ac1c0002row4_col9\" class=\"data row4 col9\" >0.142948</td>\n",
              "                        <td id=\"T_e3825d94_aef7_11eb_bfd3_0242ac1c0002row4_col10\" class=\"data row4 col10\" >0.255338</td>\n",
              "                        <td id=\"T_e3825d94_aef7_11eb_bfd3_0242ac1c0002row4_col11\" class=\"data row4 col11\" >-0.182742</td>\n",
              "                        <td id=\"T_e3825d94_aef7_11eb_bfd3_0242ac1c0002row4_col12\" class=\"data row4 col12\" >-0.182742</td>\n",
              "                        <td id=\"T_e3825d94_aef7_11eb_bfd3_0242ac1c0002row4_col13\" class=\"data row4 col13\" >-0.038653</td>\n",
              "                        <td id=\"T_e3825d94_aef7_11eb_bfd3_0242ac1c0002row4_col14\" class=\"data row4 col14\" >-0.182742</td>\n",
              "                        <td id=\"T_e3825d94_aef7_11eb_bfd3_0242ac1c0002row4_col15\" class=\"data row4 col15\" >0.066572</td>\n",
              "                        <td id=\"T_e3825d94_aef7_11eb_bfd3_0242ac1c0002row4_col16\" class=\"data row4 col16\" >-0.182742</td>\n",
              "                        <td id=\"T_e3825d94_aef7_11eb_bfd3_0242ac1c0002row4_col17\" class=\"data row4 col17\" >0.059428</td>\n",
              "                        <td id=\"T_e3825d94_aef7_11eb_bfd3_0242ac1c0002row4_col18\" class=\"data row4 col18\" >-0.182742</td>\n",
              "                        <td id=\"T_e3825d94_aef7_11eb_bfd3_0242ac1c0002row4_col19\" class=\"data row4 col19\" >-0.060625</td>\n",
              "                        <td id=\"T_e3825d94_aef7_11eb_bfd3_0242ac1c0002row4_col20\" class=\"data row4 col20\" >-0.182742</td>\n",
              "                        <td id=\"T_e3825d94_aef7_11eb_bfd3_0242ac1c0002row4_col21\" class=\"data row4 col21\" >0.105378</td>\n",
              "                        <td id=\"T_e3825d94_aef7_11eb_bfd3_0242ac1c0002row4_col22\" class=\"data row4 col22\" >-0.182742</td>\n",
              "                        <td id=\"T_e3825d94_aef7_11eb_bfd3_0242ac1c0002row4_col23\" class=\"data row4 col23\" >0.120176</td>\n",
              "                        <td id=\"T_e3825d94_aef7_11eb_bfd3_0242ac1c0002row4_col24\" class=\"data row4 col24\" >-0.046262</td>\n",
              "                        <td id=\"T_e3825d94_aef7_11eb_bfd3_0242ac1c0002row4_col25\" class=\"data row4 col25\" >-0.117000</td>\n",
              "                        <td id=\"T_e3825d94_aef7_11eb_bfd3_0242ac1c0002row4_col26\" class=\"data row4 col26\" >-0.024135</td>\n",
              "                        <td id=\"T_e3825d94_aef7_11eb_bfd3_0242ac1c0002row4_col27\" class=\"data row4 col27\" >0.171718</td>\n",
              "                        <td id=\"T_e3825d94_aef7_11eb_bfd3_0242ac1c0002row4_col28\" class=\"data row4 col28\" >-0.153477</td>\n",
              "            </tr>\n",
              "            <tr>\n",
              "                        <th id=\"T_e3825d94_aef7_11eb_bfd3_0242ac1c0002level0_row5\" class=\"row_heading level0 row5\" >Partner_Yes</th>\n",
              "                        <td id=\"T_e3825d94_aef7_11eb_bfd3_0242ac1c0002row5_col0\" class=\"data row5 col0\" >0.379697</td>\n",
              "                        <td id=\"T_e3825d94_aef7_11eb_bfd3_0242ac1c0002row5_col1\" class=\"data row5 col1\" >0.096848</td>\n",
              "                        <td id=\"T_e3825d94_aef7_11eb_bfd3_0242ac1c0002row5_col2\" class=\"data row5 col2\" >-0.150448</td>\n",
              "                        <td id=\"T_e3825d94_aef7_11eb_bfd3_0242ac1c0002row5_col3\" class=\"data row5 col3\" >-0.001808</td>\n",
              "                        <td id=\"T_e3825d94_aef7_11eb_bfd3_0242ac1c0002row5_col4\" class=\"data row5 col4\" >0.016479</td>\n",
              "                        <td id=\"T_e3825d94_aef7_11eb_bfd3_0242ac1c0002row5_col5\" class=\"data row5 col5\" >1.000000</td>\n",
              "                        <td id=\"T_e3825d94_aef7_11eb_bfd3_0242ac1c0002row5_col6\" class=\"data row5 col6\" >0.363430</td>\n",
              "                        <td id=\"T_e3825d94_aef7_11eb_bfd3_0242ac1c0002row5_col7\" class=\"data row5 col7\" >0.017706</td>\n",
              "                        <td id=\"T_e3825d94_aef7_11eb_bfd3_0242ac1c0002row5_col8\" class=\"data row5 col8\" >-0.017706</td>\n",
              "                        <td id=\"T_e3825d94_aef7_11eb_bfd3_0242ac1c0002row5_col9\" class=\"data row5 col9\" >0.142057</td>\n",
              "                        <td id=\"T_e3825d94_aef7_11eb_bfd3_0242ac1c0002row5_col10\" class=\"data row5 col10\" >0.000304</td>\n",
              "                        <td id=\"T_e3825d94_aef7_11eb_bfd3_0242ac1c0002row5_col11\" class=\"data row5 col11\" >0.000615</td>\n",
              "                        <td id=\"T_e3825d94_aef7_11eb_bfd3_0242ac1c0002row5_col12\" class=\"data row5 col12\" >0.000615</td>\n",
              "                        <td id=\"T_e3825d94_aef7_11eb_bfd3_0242ac1c0002row5_col13\" class=\"data row5 col13\" >0.143106</td>\n",
              "                        <td id=\"T_e3825d94_aef7_11eb_bfd3_0242ac1c0002row5_col14\" class=\"data row5 col14\" >0.000615</td>\n",
              "                        <td id=\"T_e3825d94_aef7_11eb_bfd3_0242ac1c0002row5_col15\" class=\"data row5 col15\" >0.141498</td>\n",
              "                        <td id=\"T_e3825d94_aef7_11eb_bfd3_0242ac1c0002row5_col16\" class=\"data row5 col16\" >0.000615</td>\n",
              "                        <td id=\"T_e3825d94_aef7_11eb_bfd3_0242ac1c0002row5_col17\" class=\"data row5 col17\" >0.153786</td>\n",
              "                        <td id=\"T_e3825d94_aef7_11eb_bfd3_0242ac1c0002row5_col18\" class=\"data row5 col18\" >0.000615</td>\n",
              "                        <td id=\"T_e3825d94_aef7_11eb_bfd3_0242ac1c0002row5_col19\" class=\"data row5 col19\" >0.119999</td>\n",
              "                        <td id=\"T_e3825d94_aef7_11eb_bfd3_0242ac1c0002row5_col20\" class=\"data row5 col20\" >0.000615</td>\n",
              "                        <td id=\"T_e3825d94_aef7_11eb_bfd3_0242ac1c0002row5_col21\" class=\"data row5 col21\" >0.124666</td>\n",
              "                        <td id=\"T_e3825d94_aef7_11eb_bfd3_0242ac1c0002row5_col22\" class=\"data row5 col22\" >0.000615</td>\n",
              "                        <td id=\"T_e3825d94_aef7_11eb_bfd3_0242ac1c0002row5_col23\" class=\"data row5 col23\" >0.117412</td>\n",
              "                        <td id=\"T_e3825d94_aef7_11eb_bfd3_0242ac1c0002row5_col24\" class=\"data row5 col24\" >0.082783</td>\n",
              "                        <td id=\"T_e3825d94_aef7_11eb_bfd3_0242ac1c0002row5_col25\" class=\"data row5 col25\" >0.248091</td>\n",
              "                        <td id=\"T_e3825d94_aef7_11eb_bfd3_0242ac1c0002row5_col26\" class=\"data row5 col26\" >0.082029</td>\n",
              "                        <td id=\"T_e3825d94_aef7_11eb_bfd3_0242ac1c0002row5_col27\" class=\"data row5 col27\" >-0.083852</td>\n",
              "                        <td id=\"T_e3825d94_aef7_11eb_bfd3_0242ac1c0002row5_col28\" class=\"data row5 col28\" >-0.095125</td>\n",
              "            </tr>\n",
              "            <tr>\n",
              "                        <th id=\"T_e3825d94_aef7_11eb_bfd3_0242ac1c0002level0_row6\" class=\"row_heading level0 row6\" >Dependents_Yes</th>\n",
              "                        <td id=\"T_e3825d94_aef7_11eb_bfd3_0242ac1c0002row6_col0\" class=\"data row6 col0\" >0.131376</td>\n",
              "                        <td id=\"T_e3825d94_aef7_11eb_bfd3_0242ac1c0002row6_col1\" class=\"data row6 col1\" >-0.144206</td>\n",
              "                        <td id=\"T_e3825d94_aef7_11eb_bfd3_0242ac1c0002row6_col2\" class=\"data row6 col2\" >-0.248542</td>\n",
              "                        <td id=\"T_e3825d94_aef7_11eb_bfd3_0242ac1c0002row6_col3\" class=\"data row6 col3\" >0.005229</td>\n",
              "                        <td id=\"T_e3825d94_aef7_11eb_bfd3_0242ac1c0002row6_col4\" class=\"data row6 col4\" >-0.174396</td>\n",
              "                        <td id=\"T_e3825d94_aef7_11eb_bfd3_0242ac1c0002row6_col5\" class=\"data row6 col5\" >0.363430</td>\n",
              "                        <td id=\"T_e3825d94_aef7_11eb_bfd3_0242ac1c0002row6_col6\" class=\"data row6 col6\" >1.000000</td>\n",
              "                        <td id=\"T_e3825d94_aef7_11eb_bfd3_0242ac1c0002row6_col7\" class=\"data row6 col7\" >0.000625</td>\n",
              "                        <td id=\"T_e3825d94_aef7_11eb_bfd3_0242ac1c0002row6_col8\" class=\"data row6 col8\" >-0.000625</td>\n",
              "                        <td id=\"T_e3825d94_aef7_11eb_bfd3_0242ac1c0002row6_col9\" class=\"data row6 col9\" >-0.027510</td>\n",
              "                        <td id=\"T_e3825d94_aef7_11eb_bfd3_0242ac1c0002row6_col10\" class=\"data row6 col10\" >-0.162353</td>\n",
              "                        <td id=\"T_e3825d94_aef7_11eb_bfd3_0242ac1c0002row6_col11\" class=\"data row6 col11\" >0.172110</td>\n",
              "                        <td id=\"T_e3825d94_aef7_11eb_bfd3_0242ac1c0002row6_col12\" class=\"data row6 col12\" >0.172110</td>\n",
              "                        <td id=\"T_e3825d94_aef7_11eb_bfd3_0242ac1c0002row6_col13\" class=\"data row6 col13\" >0.050353</td>\n",
              "                        <td id=\"T_e3825d94_aef7_11eb_bfd3_0242ac1c0002row6_col14\" class=\"data row6 col14\" >0.172110</td>\n",
              "                        <td id=\"T_e3825d94_aef7_11eb_bfd3_0242ac1c0002row6_col15\" class=\"data row6 col15\" >0.003457</td>\n",
              "                        <td id=\"T_e3825d94_aef7_11eb_bfd3_0242ac1c0002row6_col16\" class=\"data row6 col16\" >0.172110</td>\n",
              "                        <td id=\"T_e3825d94_aef7_11eb_bfd3_0242ac1c0002row6_col17\" class=\"data row6 col17\" >-0.022343</td>\n",
              "                        <td id=\"T_e3825d94_aef7_11eb_bfd3_0242ac1c0002row6_col18\" class=\"data row6 col18\" >0.172110</td>\n",
              "                        <td id=\"T_e3825d94_aef7_11eb_bfd3_0242ac1c0002row6_col19\" class=\"data row6 col19\" >0.028811</td>\n",
              "                        <td id=\"T_e3825d94_aef7_11eb_bfd3_0242ac1c0002row6_col20\" class=\"data row6 col20\" >0.172110</td>\n",
              "                        <td id=\"T_e3825d94_aef7_11eb_bfd3_0242ac1c0002row6_col21\" class=\"data row6 col21\" >-0.057717</td>\n",
              "                        <td id=\"T_e3825d94_aef7_11eb_bfd3_0242ac1c0002row6_col22\" class=\"data row6 col22\" >0.172110</td>\n",
              "                        <td id=\"T_e3825d94_aef7_11eb_bfd3_0242ac1c0002row6_col23\" class=\"data row6 col23\" >-0.073364</td>\n",
              "                        <td id=\"T_e3825d94_aef7_11eb_bfd3_0242ac1c0002row6_col24\" class=\"data row6 col24\" >0.014680</td>\n",
              "                        <td id=\"T_e3825d94_aef7_11eb_bfd3_0242ac1c0002row6_col25\" class=\"data row6 col25\" >0.190262</td>\n",
              "                        <td id=\"T_e3825d94_aef7_11eb_bfd3_0242ac1c0002row6_col26\" class=\"data row6 col26\" >0.041254</td>\n",
              "                        <td id=\"T_e3825d94_aef7_11eb_bfd3_0242ac1c0002row6_col27\" class=\"data row6 col27\" >-0.141476</td>\n",
              "                        <td id=\"T_e3825d94_aef7_11eb_bfd3_0242ac1c0002row6_col28\" class=\"data row6 col28\" >0.071056</td>\n",
              "            </tr>\n",
              "            <tr>\n",
              "                        <th id=\"T_e3825d94_aef7_11eb_bfd3_0242ac1c0002level0_row7\" class=\"row_heading level0 row7\" >Phone_Service_Yes</th>\n",
              "                        <td id=\"T_e3825d94_aef7_11eb_bfd3_0242ac1c0002row7_col0\" class=\"data row7 col0\" >0.008448</td>\n",
              "                        <td id=\"T_e3825d94_aef7_11eb_bfd3_0242ac1c0002row7_col1\" class=\"data row7 col1\" >0.247398</td>\n",
              "                        <td id=\"T_e3825d94_aef7_11eb_bfd3_0242ac1c0002row7_col2\" class=\"data row7 col2\" >0.011942</td>\n",
              "                        <td id=\"T_e3825d94_aef7_11eb_bfd3_0242ac1c0002row7_col3\" class=\"data row7 col3\" >-0.006488</td>\n",
              "                        <td id=\"T_e3825d94_aef7_11eb_bfd3_0242ac1c0002row7_col4\" class=\"data row7 col4\" >0.008576</td>\n",
              "                        <td id=\"T_e3825d94_aef7_11eb_bfd3_0242ac1c0002row7_col5\" class=\"data row7 col5\" >0.017706</td>\n",
              "                        <td id=\"T_e3825d94_aef7_11eb_bfd3_0242ac1c0002row7_col6\" class=\"data row7 col6\" >0.000625</td>\n",
              "                        <td id=\"T_e3825d94_aef7_11eb_bfd3_0242ac1c0002row7_col7\" class=\"data row7 col7\" >1.000000</td>\n",
              "                        <td id=\"T_e3825d94_aef7_11eb_bfd3_0242ac1c0002row7_col8\" class=\"data row7 col8\" >-1.000000</td>\n",
              "                        <td id=\"T_e3825d94_aef7_11eb_bfd3_0242ac1c0002row7_col9\" class=\"data row7 col9\" >0.279690</td>\n",
              "                        <td id=\"T_e3825d94_aef7_11eb_bfd3_0242ac1c0002row7_col10\" class=\"data row7 col10\" >0.289999</td>\n",
              "                        <td id=\"T_e3825d94_aef7_11eb_bfd3_0242ac1c0002row7_col11\" class=\"data row7 col11\" >0.172209</td>\n",
              "                        <td id=\"T_e3825d94_aef7_11eb_bfd3_0242ac1c0002row7_col12\" class=\"data row7 col12\" >0.172209</td>\n",
              "                        <td id=\"T_e3825d94_aef7_11eb_bfd3_0242ac1c0002row7_col13\" class=\"data row7 col13\" >-0.092893</td>\n",
              "                        <td id=\"T_e3825d94_aef7_11eb_bfd3_0242ac1c0002row7_col14\" class=\"data row7 col14\" >0.172209</td>\n",
              "                        <td id=\"T_e3825d94_aef7_11eb_bfd3_0242ac1c0002row7_col15\" class=\"data row7 col15\" >-0.052312</td>\n",
              "                        <td id=\"T_e3825d94_aef7_11eb_bfd3_0242ac1c0002row7_col16\" class=\"data row7 col16\" >0.172209</td>\n",
              "                        <td id=\"T_e3825d94_aef7_11eb_bfd3_0242ac1c0002row7_col17\" class=\"data row7 col17\" >-0.071227</td>\n",
              "                        <td id=\"T_e3825d94_aef7_11eb_bfd3_0242ac1c0002row7_col18\" class=\"data row7 col18\" >0.172209</td>\n",
              "                        <td id=\"T_e3825d94_aef7_11eb_bfd3_0242ac1c0002row7_col19\" class=\"data row7 col19\" >-0.096340</td>\n",
              "                        <td id=\"T_e3825d94_aef7_11eb_bfd3_0242ac1c0002row7_col20\" class=\"data row7 col20\" >0.172209</td>\n",
              "                        <td id=\"T_e3825d94_aef7_11eb_bfd3_0242ac1c0002row7_col21\" class=\"data row7 col21\" >-0.022574</td>\n",
              "                        <td id=\"T_e3825d94_aef7_11eb_bfd3_0242ac1c0002row7_col22\" class=\"data row7 col22\" >0.172209</td>\n",
              "                        <td id=\"T_e3825d94_aef7_11eb_bfd3_0242ac1c0002row7_col23\" class=\"data row7 col23\" >-0.032959</td>\n",
              "                        <td id=\"T_e3825d94_aef7_11eb_bfd3_0242ac1c0002row7_col24\" class=\"data row7 col24\" >-0.002791</td>\n",
              "                        <td id=\"T_e3825d94_aef7_11eb_bfd3_0242ac1c0002row7_col25\" class=\"data row7 col25\" >0.003519</td>\n",
              "                        <td id=\"T_e3825d94_aef7_11eb_bfd3_0242ac1c0002row7_col26\" class=\"data row7 col26\" >-0.007721</td>\n",
              "                        <td id=\"T_e3825d94_aef7_11eb_bfd3_0242ac1c0002row7_col27\" class=\"data row7 col27\" >0.003062</td>\n",
              "                        <td id=\"T_e3825d94_aef7_11eb_bfd3_0242ac1c0002row7_col28\" class=\"data row7 col28\" >-0.003319</td>\n",
              "            </tr>\n",
              "            <tr>\n",
              "                        <th id=\"T_e3825d94_aef7_11eb_bfd3_0242ac1c0002level0_row8\" class=\"row_heading level0 row8\" >Multiple_Lines_No phone service</th>\n",
              "                        <td id=\"T_e3825d94_aef7_11eb_bfd3_0242ac1c0002row8_col0\" class=\"data row8 col0\" >-0.008448</td>\n",
              "                        <td id=\"T_e3825d94_aef7_11eb_bfd3_0242ac1c0002row8_col1\" class=\"data row8 col1\" >-0.247398</td>\n",
              "                        <td id=\"T_e3825d94_aef7_11eb_bfd3_0242ac1c0002row8_col2\" class=\"data row8 col2\" >-0.011942</td>\n",
              "                        <td id=\"T_e3825d94_aef7_11eb_bfd3_0242ac1c0002row8_col3\" class=\"data row8 col3\" >0.006488</td>\n",
              "                        <td id=\"T_e3825d94_aef7_11eb_bfd3_0242ac1c0002row8_col4\" class=\"data row8 col4\" >-0.008576</td>\n",
              "                        <td id=\"T_e3825d94_aef7_11eb_bfd3_0242ac1c0002row8_col5\" class=\"data row8 col5\" >-0.017706</td>\n",
              "                        <td id=\"T_e3825d94_aef7_11eb_bfd3_0242ac1c0002row8_col6\" class=\"data row8 col6\" >-0.000625</td>\n",
              "                        <td id=\"T_e3825d94_aef7_11eb_bfd3_0242ac1c0002row8_col7\" class=\"data row8 col7\" >-1.000000</td>\n",
              "                        <td id=\"T_e3825d94_aef7_11eb_bfd3_0242ac1c0002row8_col8\" class=\"data row8 col8\" >1.000000</td>\n",
              "                        <td id=\"T_e3825d94_aef7_11eb_bfd3_0242ac1c0002row8_col9\" class=\"data row8 col9\" >-0.279690</td>\n",
              "                        <td id=\"T_e3825d94_aef7_11eb_bfd3_0242ac1c0002row8_col10\" class=\"data row8 col10\" >-0.289999</td>\n",
              "                        <td id=\"T_e3825d94_aef7_11eb_bfd3_0242ac1c0002row8_col11\" class=\"data row8 col11\" >-0.172209</td>\n",
              "                        <td id=\"T_e3825d94_aef7_11eb_bfd3_0242ac1c0002row8_col12\" class=\"data row8 col12\" >-0.172209</td>\n",
              "                        <td id=\"T_e3825d94_aef7_11eb_bfd3_0242ac1c0002row8_col13\" class=\"data row8 col13\" >0.092893</td>\n",
              "                        <td id=\"T_e3825d94_aef7_11eb_bfd3_0242ac1c0002row8_col14\" class=\"data row8 col14\" >-0.172209</td>\n",
              "                        <td id=\"T_e3825d94_aef7_11eb_bfd3_0242ac1c0002row8_col15\" class=\"data row8 col15\" >0.052312</td>\n",
              "                        <td id=\"T_e3825d94_aef7_11eb_bfd3_0242ac1c0002row8_col16\" class=\"data row8 col16\" >-0.172209</td>\n",
              "                        <td id=\"T_e3825d94_aef7_11eb_bfd3_0242ac1c0002row8_col17\" class=\"data row8 col17\" >0.071227</td>\n",
              "                        <td id=\"T_e3825d94_aef7_11eb_bfd3_0242ac1c0002row8_col18\" class=\"data row8 col18\" >-0.172209</td>\n",
              "                        <td id=\"T_e3825d94_aef7_11eb_bfd3_0242ac1c0002row8_col19\" class=\"data row8 col19\" >0.096340</td>\n",
              "                        <td id=\"T_e3825d94_aef7_11eb_bfd3_0242ac1c0002row8_col20\" class=\"data row8 col20\" >-0.172209</td>\n",
              "                        <td id=\"T_e3825d94_aef7_11eb_bfd3_0242ac1c0002row8_col21\" class=\"data row8 col21\" >0.022574</td>\n",
              "                        <td id=\"T_e3825d94_aef7_11eb_bfd3_0242ac1c0002row8_col22\" class=\"data row8 col22\" >-0.172209</td>\n",
              "                        <td id=\"T_e3825d94_aef7_11eb_bfd3_0242ac1c0002row8_col23\" class=\"data row8 col23\" >0.032959</td>\n",
              "                        <td id=\"T_e3825d94_aef7_11eb_bfd3_0242ac1c0002row8_col24\" class=\"data row8 col24\" >0.002791</td>\n",
              "                        <td id=\"T_e3825d94_aef7_11eb_bfd3_0242ac1c0002row8_col25\" class=\"data row8 col25\" >-0.003519</td>\n",
              "                        <td id=\"T_e3825d94_aef7_11eb_bfd3_0242ac1c0002row8_col26\" class=\"data row8 col26\" >0.007721</td>\n",
              "                        <td id=\"T_e3825d94_aef7_11eb_bfd3_0242ac1c0002row8_col27\" class=\"data row8 col27\" >-0.003062</td>\n",
              "                        <td id=\"T_e3825d94_aef7_11eb_bfd3_0242ac1c0002row8_col28\" class=\"data row8 col28\" >0.003319</td>\n",
              "            </tr>\n",
              "            <tr>\n",
              "                        <th id=\"T_e3825d94_aef7_11eb_bfd3_0242ac1c0002level0_row9\" class=\"row_heading level0 row9\" >Multiple_Lines_Yes</th>\n",
              "                        <td id=\"T_e3825d94_aef7_11eb_bfd3_0242ac1c0002row9_col0\" class=\"data row9 col0\" >0.331941</td>\n",
              "                        <td id=\"T_e3825d94_aef7_11eb_bfd3_0242ac1c0002row9_col1\" class=\"data row9 col1\" >0.490434</td>\n",
              "                        <td id=\"T_e3825d94_aef7_11eb_bfd3_0242ac1c0002row9_col2\" class=\"data row9 col2\" >0.040102</td>\n",
              "                        <td id=\"T_e3825d94_aef7_11eb_bfd3_0242ac1c0002row9_col3\" class=\"data row9 col3\" >-0.008414</td>\n",
              "                        <td id=\"T_e3825d94_aef7_11eb_bfd3_0242ac1c0002row9_col4\" class=\"data row9 col4\" >0.142948</td>\n",
              "                        <td id=\"T_e3825d94_aef7_11eb_bfd3_0242ac1c0002row9_col5\" class=\"data row9 col5\" >0.142057</td>\n",
              "                        <td id=\"T_e3825d94_aef7_11eb_bfd3_0242ac1c0002row9_col6\" class=\"data row9 col6\" >-0.027510</td>\n",
              "                        <td id=\"T_e3825d94_aef7_11eb_bfd3_0242ac1c0002row9_col7\" class=\"data row9 col7\" >0.279690</td>\n",
              "                        <td id=\"T_e3825d94_aef7_11eb_bfd3_0242ac1c0002row9_col8\" class=\"data row9 col8\" >-0.279690</td>\n",
              "                        <td id=\"T_e3825d94_aef7_11eb_bfd3_0242ac1c0002row9_col9\" class=\"data row9 col9\" >1.000000</td>\n",
              "                        <td id=\"T_e3825d94_aef7_11eb_bfd3_0242ac1c0002row9_col10\" class=\"data row9 col10\" >0.366083</td>\n",
              "                        <td id=\"T_e3825d94_aef7_11eb_bfd3_0242ac1c0002row9_col11\" class=\"data row9 col11\" >-0.210564</td>\n",
              "                        <td id=\"T_e3825d94_aef7_11eb_bfd3_0242ac1c0002row9_col12\" class=\"data row9 col12\" >-0.210564</td>\n",
              "                        <td id=\"T_e3825d94_aef7_11eb_bfd3_0242ac1c0002row9_col13\" class=\"data row9 col13\" >0.098108</td>\n",
              "                        <td id=\"T_e3825d94_aef7_11eb_bfd3_0242ac1c0002row9_col14\" class=\"data row9 col14\" >-0.210564</td>\n",
              "                        <td id=\"T_e3825d94_aef7_11eb_bfd3_0242ac1c0002row9_col15\" class=\"data row9 col15\" >0.202237</td>\n",
              "                        <td id=\"T_e3825d94_aef7_11eb_bfd3_0242ac1c0002row9_col16\" class=\"data row9 col16\" >-0.210564</td>\n",
              "                        <td id=\"T_e3825d94_aef7_11eb_bfd3_0242ac1c0002row9_col17\" class=\"data row9 col17\" >0.201137</td>\n",
              "                        <td id=\"T_e3825d94_aef7_11eb_bfd3_0242ac1c0002row9_col18\" class=\"data row9 col18\" >-0.210564</td>\n",
              "                        <td id=\"T_e3825d94_aef7_11eb_bfd3_0242ac1c0002row9_col19\" class=\"data row9 col19\" >0.100571</td>\n",
              "                        <td id=\"T_e3825d94_aef7_11eb_bfd3_0242ac1c0002row9_col20\" class=\"data row9 col20\" >-0.210564</td>\n",
              "                        <td id=\"T_e3825d94_aef7_11eb_bfd3_0242ac1c0002row9_col21\" class=\"data row9 col21\" >0.257152</td>\n",
              "                        <td id=\"T_e3825d94_aef7_11eb_bfd3_0242ac1c0002row9_col22\" class=\"data row9 col22\" >-0.210564</td>\n",
              "                        <td id=\"T_e3825d94_aef7_11eb_bfd3_0242ac1c0002row9_col23\" class=\"data row9 col23\" >0.258751</td>\n",
              "                        <td id=\"T_e3825d94_aef7_11eb_bfd3_0242ac1c0002row9_col24\" class=\"data row9 col24\" >-0.003794</td>\n",
              "                        <td id=\"T_e3825d94_aef7_11eb_bfd3_0242ac1c0002row9_col25\" class=\"data row9 col25\" >0.106253</td>\n",
              "                        <td id=\"T_e3825d94_aef7_11eb_bfd3_0242ac1c0002row9_col26\" class=\"data row9 col26\" >0.060048</td>\n",
              "                        <td id=\"T_e3825d94_aef7_11eb_bfd3_0242ac1c0002row9_col27\" class=\"data row9 col27\" >0.083618</td>\n",
              "                        <td id=\"T_e3825d94_aef7_11eb_bfd3_0242ac1c0002row9_col28\" class=\"data row9 col28\" >-0.227206</td>\n",
              "            </tr>\n",
              "            <tr>\n",
              "                        <th id=\"T_e3825d94_aef7_11eb_bfd3_0242ac1c0002level0_row10\" class=\"row_heading level0 row10\" >Internet_Service_Fiber optic</th>\n",
              "                        <td id=\"T_e3825d94_aef7_11eb_bfd3_0242ac1c0002row10_col0\" class=\"data row10 col0\" >0.019720</td>\n",
              "                        <td id=\"T_e3825d94_aef7_11eb_bfd3_0242ac1c0002row10_col1\" class=\"data row10 col1\" >0.787066</td>\n",
              "                        <td id=\"T_e3825d94_aef7_11eb_bfd3_0242ac1c0002row10_col2\" class=\"data row10 col2\" >0.308020</td>\n",
              "                        <td id=\"T_e3825d94_aef7_11eb_bfd3_0242ac1c0002row10_col3\" class=\"data row10 col3\" >-0.011286</td>\n",
              "                        <td id=\"T_e3825d94_aef7_11eb_bfd3_0242ac1c0002row10_col4\" class=\"data row10 col4\" >0.255338</td>\n",
              "                        <td id=\"T_e3825d94_aef7_11eb_bfd3_0242ac1c0002row10_col5\" class=\"data row10 col5\" >0.000304</td>\n",
              "                        <td id=\"T_e3825d94_aef7_11eb_bfd3_0242ac1c0002row10_col6\" class=\"data row10 col6\" >-0.162353</td>\n",
              "                        <td id=\"T_e3825d94_aef7_11eb_bfd3_0242ac1c0002row10_col7\" class=\"data row10 col7\" >0.289999</td>\n",
              "                        <td id=\"T_e3825d94_aef7_11eb_bfd3_0242ac1c0002row10_col8\" class=\"data row10 col8\" >-0.289999</td>\n",
              "                        <td id=\"T_e3825d94_aef7_11eb_bfd3_0242ac1c0002row10_col9\" class=\"data row10 col9\" >0.366083</td>\n",
              "                        <td id=\"T_e3825d94_aef7_11eb_bfd3_0242ac1c0002row10_col10\" class=\"data row10 col10\" >1.000000</td>\n",
              "                        <td id=\"T_e3825d94_aef7_11eb_bfd3_0242ac1c0002row10_col11\" class=\"data row10 col11\" >-0.465793</td>\n",
              "                        <td id=\"T_e3825d94_aef7_11eb_bfd3_0242ac1c0002row10_col12\" class=\"data row10 col12\" >-0.465793</td>\n",
              "                        <td id=\"T_e3825d94_aef7_11eb_bfd3_0242ac1c0002row10_col13\" class=\"data row10 col13\" >-0.030696</td>\n",
              "                        <td id=\"T_e3825d94_aef7_11eb_bfd3_0242ac1c0002row10_col14\" class=\"data row10 col14\" >-0.465793</td>\n",
              "                        <td id=\"T_e3825d94_aef7_11eb_bfd3_0242ac1c0002row10_col15\" class=\"data row10 col15\" >0.165651</td>\n",
              "                        <td id=\"T_e3825d94_aef7_11eb_bfd3_0242ac1c0002row10_col16\" class=\"data row10 col16\" >-0.465793</td>\n",
              "                        <td id=\"T_e3825d94_aef7_11eb_bfd3_0242ac1c0002row10_col17\" class=\"data row10 col17\" >0.176049</td>\n",
              "                        <td id=\"T_e3825d94_aef7_11eb_bfd3_0242ac1c0002row10_col18\" class=\"data row10 col18\" >-0.465793</td>\n",
              "                        <td id=\"T_e3825d94_aef7_11eb_bfd3_0242ac1c0002row10_col19\" class=\"data row10 col19\" >-0.020492</td>\n",
              "                        <td id=\"T_e3825d94_aef7_11eb_bfd3_0242ac1c0002row10_col20\" class=\"data row10 col20\" >-0.465793</td>\n",
              "                        <td id=\"T_e3825d94_aef7_11eb_bfd3_0242ac1c0002row10_col21\" class=\"data row10 col21\" >0.329349</td>\n",
              "                        <td id=\"T_e3825d94_aef7_11eb_bfd3_0242ac1c0002row10_col22\" class=\"data row10 col22\" >-0.465793</td>\n",
              "                        <td id=\"T_e3825d94_aef7_11eb_bfd3_0242ac1c0002row10_col23\" class=\"data row10 col23\" >0.322923</td>\n",
              "                        <td id=\"T_e3825d94_aef7_11eb_bfd3_0242ac1c0002row10_col24\" class=\"data row10 col24\" >-0.076324</td>\n",
              "                        <td id=\"T_e3825d94_aef7_11eb_bfd3_0242ac1c0002row10_col25\" class=\"data row10 col25\" >-0.211526</td>\n",
              "                        <td id=\"T_e3825d94_aef7_11eb_bfd3_0242ac1c0002row10_col26\" class=\"data row10 col26\" >-0.050077</td>\n",
              "                        <td id=\"T_e3825d94_aef7_11eb_bfd3_0242ac1c0002row10_col27\" class=\"data row10 col27\" >0.336410</td>\n",
              "                        <td id=\"T_e3825d94_aef7_11eb_bfd3_0242ac1c0002row10_col28\" class=\"data row10 col28\" >-0.306834</td>\n",
              "            </tr>\n",
              "            <tr>\n",
              "                        <th id=\"T_e3825d94_aef7_11eb_bfd3_0242ac1c0002level0_row11\" class=\"row_heading level0 row11\" >Internet_Service_No</th>\n",
              "                        <td id=\"T_e3825d94_aef7_11eb_bfd3_0242ac1c0002row11_col0\" class=\"data row11 col0\" >-0.039062</td>\n",
              "                        <td id=\"T_e3825d94_aef7_11eb_bfd3_0242ac1c0002row11_col1\" class=\"data row11 col1\" >-0.763557</td>\n",
              "                        <td id=\"T_e3825d94_aef7_11eb_bfd3_0242ac1c0002row11_col2\" class=\"data row11 col2\" >-0.227890</td>\n",
              "                        <td id=\"T_e3825d94_aef7_11eb_bfd3_0242ac1c0002row11_col3\" class=\"data row11 col3\" >0.006026</td>\n",
              "                        <td id=\"T_e3825d94_aef7_11eb_bfd3_0242ac1c0002row11_col4\" class=\"data row11 col4\" >-0.182742</td>\n",
              "                        <td id=\"T_e3825d94_aef7_11eb_bfd3_0242ac1c0002row11_col5\" class=\"data row11 col5\" >0.000615</td>\n",
              "                        <td id=\"T_e3825d94_aef7_11eb_bfd3_0242ac1c0002row11_col6\" class=\"data row11 col6\" >0.172110</td>\n",
              "                        <td id=\"T_e3825d94_aef7_11eb_bfd3_0242ac1c0002row11_col7\" class=\"data row11 col7\" >0.172209</td>\n",
              "                        <td id=\"T_e3825d94_aef7_11eb_bfd3_0242ac1c0002row11_col8\" class=\"data row11 col8\" >-0.172209</td>\n",
              "                        <td id=\"T_e3825d94_aef7_11eb_bfd3_0242ac1c0002row11_col9\" class=\"data row11 col9\" >-0.210564</td>\n",
              "                        <td id=\"T_e3825d94_aef7_11eb_bfd3_0242ac1c0002row11_col10\" class=\"data row11 col10\" >-0.465793</td>\n",
              "                        <td id=\"T_e3825d94_aef7_11eb_bfd3_0242ac1c0002row11_col11\" class=\"data row11 col11\" >1.000000</td>\n",
              "                        <td id=\"T_e3825d94_aef7_11eb_bfd3_0242ac1c0002row11_col12\" class=\"data row11 col12\" >1.000000</td>\n",
              "                        <td id=\"T_e3825d94_aef7_11eb_bfd3_0242ac1c0002row11_col13\" class=\"data row11 col13\" >-0.333403</td>\n",
              "                        <td id=\"T_e3825d94_aef7_11eb_bfd3_0242ac1c0002row11_col14\" class=\"data row11 col14\" >1.000000</td>\n",
              "                        <td id=\"T_e3825d94_aef7_11eb_bfd3_0242ac1c0002row11_col15\" class=\"data row11 col15\" >-0.381593</td>\n",
              "                        <td id=\"T_e3825d94_aef7_11eb_bfd3_0242ac1c0002row11_col16\" class=\"data row11 col16\" >1.000000</td>\n",
              "                        <td id=\"T_e3825d94_aef7_11eb_bfd3_0242ac1c0002row11_col17\" class=\"data row11 col17\" >-0.380754</td>\n",
              "                        <td id=\"T_e3825d94_aef7_11eb_bfd3_0242ac1c0002row11_col18\" class=\"data row11 col18\" >1.000000</td>\n",
              "                        <td id=\"T_e3825d94_aef7_11eb_bfd3_0242ac1c0002row11_col19\" class=\"data row11 col19\" >-0.336298</td>\n",
              "                        <td id=\"T_e3825d94_aef7_11eb_bfd3_0242ac1c0002row11_col20\" class=\"data row11 col20\" >1.000000</td>\n",
              "                        <td id=\"T_e3825d94_aef7_11eb_bfd3_0242ac1c0002row11_col21\" class=\"data row11 col21\" >-0.415552</td>\n",
              "                        <td id=\"T_e3825d94_aef7_11eb_bfd3_0242ac1c0002row11_col22\" class=\"data row11 col22\" >1.000000</td>\n",
              "                        <td id=\"T_e3825d94_aef7_11eb_bfd3_0242ac1c0002row11_col23\" class=\"data row11 col23\" >-0.418675</td>\n",
              "                        <td id=\"T_e3825d94_aef7_11eb_bfd3_0242ac1c0002row11_col24\" class=\"data row11 col24\" >0.038004</td>\n",
              "                        <td id=\"T_e3825d94_aef7_11eb_bfd3_0242ac1c0002row11_col25\" class=\"data row11 col25\" >0.218278</td>\n",
              "                        <td id=\"T_e3825d94_aef7_11eb_bfd3_0242ac1c0002row11_col26\" class=\"data row11 col26\" >0.001030</td>\n",
              "                        <td id=\"T_e3825d94_aef7_11eb_bfd3_0242ac1c0002row11_col27\" class=\"data row11 col27\" >-0.284917</td>\n",
              "                        <td id=\"T_e3825d94_aef7_11eb_bfd3_0242ac1c0002row11_col28\" class=\"data row11 col28\" >0.321361</td>\n",
              "            </tr>\n",
              "            <tr>\n",
              "                        <th id=\"T_e3825d94_aef7_11eb_bfd3_0242ac1c0002level0_row12\" class=\"row_heading level0 row12\" >Online_Security_No internet service</th>\n",
              "                        <td id=\"T_e3825d94_aef7_11eb_bfd3_0242ac1c0002row12_col0\" class=\"data row12 col0\" >-0.039062</td>\n",
              "                        <td id=\"T_e3825d94_aef7_11eb_bfd3_0242ac1c0002row12_col1\" class=\"data row12 col1\" >-0.763557</td>\n",
              "                        <td id=\"T_e3825d94_aef7_11eb_bfd3_0242ac1c0002row12_col2\" class=\"data row12 col2\" >-0.227890</td>\n",
              "                        <td id=\"T_e3825d94_aef7_11eb_bfd3_0242ac1c0002row12_col3\" class=\"data row12 col3\" >0.006026</td>\n",
              "                        <td id=\"T_e3825d94_aef7_11eb_bfd3_0242ac1c0002row12_col4\" class=\"data row12 col4\" >-0.182742</td>\n",
              "                        <td id=\"T_e3825d94_aef7_11eb_bfd3_0242ac1c0002row12_col5\" class=\"data row12 col5\" >0.000615</td>\n",
              "                        <td id=\"T_e3825d94_aef7_11eb_bfd3_0242ac1c0002row12_col6\" class=\"data row12 col6\" >0.172110</td>\n",
              "                        <td id=\"T_e3825d94_aef7_11eb_bfd3_0242ac1c0002row12_col7\" class=\"data row12 col7\" >0.172209</td>\n",
              "                        <td id=\"T_e3825d94_aef7_11eb_bfd3_0242ac1c0002row12_col8\" class=\"data row12 col8\" >-0.172209</td>\n",
              "                        <td id=\"T_e3825d94_aef7_11eb_bfd3_0242ac1c0002row12_col9\" class=\"data row12 col9\" >-0.210564</td>\n",
              "                        <td id=\"T_e3825d94_aef7_11eb_bfd3_0242ac1c0002row12_col10\" class=\"data row12 col10\" >-0.465793</td>\n",
              "                        <td id=\"T_e3825d94_aef7_11eb_bfd3_0242ac1c0002row12_col11\" class=\"data row12 col11\" >1.000000</td>\n",
              "                        <td id=\"T_e3825d94_aef7_11eb_bfd3_0242ac1c0002row12_col12\" class=\"data row12 col12\" >1.000000</td>\n",
              "                        <td id=\"T_e3825d94_aef7_11eb_bfd3_0242ac1c0002row12_col13\" class=\"data row12 col13\" >-0.333403</td>\n",
              "                        <td id=\"T_e3825d94_aef7_11eb_bfd3_0242ac1c0002row12_col14\" class=\"data row12 col14\" >1.000000</td>\n",
              "                        <td id=\"T_e3825d94_aef7_11eb_bfd3_0242ac1c0002row12_col15\" class=\"data row12 col15\" >-0.381593</td>\n",
              "                        <td id=\"T_e3825d94_aef7_11eb_bfd3_0242ac1c0002row12_col16\" class=\"data row12 col16\" >1.000000</td>\n",
              "                        <td id=\"T_e3825d94_aef7_11eb_bfd3_0242ac1c0002row12_col17\" class=\"data row12 col17\" >-0.380754</td>\n",
              "                        <td id=\"T_e3825d94_aef7_11eb_bfd3_0242ac1c0002row12_col18\" class=\"data row12 col18\" >1.000000</td>\n",
              "                        <td id=\"T_e3825d94_aef7_11eb_bfd3_0242ac1c0002row12_col19\" class=\"data row12 col19\" >-0.336298</td>\n",
              "                        <td id=\"T_e3825d94_aef7_11eb_bfd3_0242ac1c0002row12_col20\" class=\"data row12 col20\" >1.000000</td>\n",
              "                        <td id=\"T_e3825d94_aef7_11eb_bfd3_0242ac1c0002row12_col21\" class=\"data row12 col21\" >-0.415552</td>\n",
              "                        <td id=\"T_e3825d94_aef7_11eb_bfd3_0242ac1c0002row12_col22\" class=\"data row12 col22\" >1.000000</td>\n",
              "                        <td id=\"T_e3825d94_aef7_11eb_bfd3_0242ac1c0002row12_col23\" class=\"data row12 col23\" >-0.418675</td>\n",
              "                        <td id=\"T_e3825d94_aef7_11eb_bfd3_0242ac1c0002row12_col24\" class=\"data row12 col24\" >0.038004</td>\n",
              "                        <td id=\"T_e3825d94_aef7_11eb_bfd3_0242ac1c0002row12_col25\" class=\"data row12 col25\" >0.218278</td>\n",
              "                        <td id=\"T_e3825d94_aef7_11eb_bfd3_0242ac1c0002row12_col26\" class=\"data row12 col26\" >0.001030</td>\n",
              "                        <td id=\"T_e3825d94_aef7_11eb_bfd3_0242ac1c0002row12_col27\" class=\"data row12 col27\" >-0.284917</td>\n",
              "                        <td id=\"T_e3825d94_aef7_11eb_bfd3_0242ac1c0002row12_col28\" class=\"data row12 col28\" >0.321361</td>\n",
              "            </tr>\n",
              "            <tr>\n",
              "                        <th id=\"T_e3825d94_aef7_11eb_bfd3_0242ac1c0002level0_row13\" class=\"row_heading level0 row13\" >Online_Security_Yes</th>\n",
              "                        <td id=\"T_e3825d94_aef7_11eb_bfd3_0242ac1c0002row13_col0\" class=\"data row13 col0\" >0.327203</td>\n",
              "                        <td id=\"T_e3825d94_aef7_11eb_bfd3_0242ac1c0002row13_col1\" class=\"data row13 col1\" >0.296594</td>\n",
              "                        <td id=\"T_e3825d94_aef7_11eb_bfd3_0242ac1c0002row13_col2\" class=\"data row13 col2\" >-0.171226</td>\n",
              "                        <td id=\"T_e3825d94_aef7_11eb_bfd3_0242ac1c0002row13_col3\" class=\"data row13 col3\" >-0.017021</td>\n",
              "                        <td id=\"T_e3825d94_aef7_11eb_bfd3_0242ac1c0002row13_col4\" class=\"data row13 col4\" >-0.038653</td>\n",
              "                        <td id=\"T_e3825d94_aef7_11eb_bfd3_0242ac1c0002row13_col5\" class=\"data row13 col5\" >0.143106</td>\n",
              "                        <td id=\"T_e3825d94_aef7_11eb_bfd3_0242ac1c0002row13_col6\" class=\"data row13 col6\" >0.050353</td>\n",
              "                        <td id=\"T_e3825d94_aef7_11eb_bfd3_0242ac1c0002row13_col7\" class=\"data row13 col7\" >-0.092893</td>\n",
              "                        <td id=\"T_e3825d94_aef7_11eb_bfd3_0242ac1c0002row13_col8\" class=\"data row13 col8\" >0.092893</td>\n",
              "                        <td id=\"T_e3825d94_aef7_11eb_bfd3_0242ac1c0002row13_col9\" class=\"data row13 col9\" >0.098108</td>\n",
              "                        <td id=\"T_e3825d94_aef7_11eb_bfd3_0242ac1c0002row13_col10\" class=\"data row13 col10\" >-0.030696</td>\n",
              "                        <td id=\"T_e3825d94_aef7_11eb_bfd3_0242ac1c0002row13_col11\" class=\"data row13 col11\" >-0.333403</td>\n",
              "                        <td id=\"T_e3825d94_aef7_11eb_bfd3_0242ac1c0002row13_col12\" class=\"data row13 col12\" >-0.333403</td>\n",
              "                        <td id=\"T_e3825d94_aef7_11eb_bfd3_0242ac1c0002row13_col13\" class=\"data row13 col13\" >1.000000</td>\n",
              "                        <td id=\"T_e3825d94_aef7_11eb_bfd3_0242ac1c0002row13_col14\" class=\"data row13 col14\" >-0.333403</td>\n",
              "                        <td id=\"T_e3825d94_aef7_11eb_bfd3_0242ac1c0002row13_col15\" class=\"data row13 col15\" >0.283832</td>\n",
              "                        <td id=\"T_e3825d94_aef7_11eb_bfd3_0242ac1c0002row13_col16\" class=\"data row13 col16\" >-0.333403</td>\n",
              "                        <td id=\"T_e3825d94_aef7_11eb_bfd3_0242ac1c0002row13_col17\" class=\"data row13 col17\" >0.275438</td>\n",
              "                        <td id=\"T_e3825d94_aef7_11eb_bfd3_0242ac1c0002row13_col18\" class=\"data row13 col18\" >-0.333403</td>\n",
              "                        <td id=\"T_e3825d94_aef7_11eb_bfd3_0242ac1c0002row13_col19\" class=\"data row13 col19\" >0.354931</td>\n",
              "                        <td id=\"T_e3825d94_aef7_11eb_bfd3_0242ac1c0002row13_col20\" class=\"data row13 col20\" >-0.333403</td>\n",
              "                        <td id=\"T_e3825d94_aef7_11eb_bfd3_0242ac1c0002row13_col21\" class=\"data row13 col21\" >0.176207</td>\n",
              "                        <td id=\"T_e3825d94_aef7_11eb_bfd3_0242ac1c0002row13_col22\" class=\"data row13 col22\" >-0.333403</td>\n",
              "                        <td id=\"T_e3825d94_aef7_11eb_bfd3_0242ac1c0002row13_col23\" class=\"data row13 col23\" >0.187398</td>\n",
              "                        <td id=\"T_e3825d94_aef7_11eb_bfd3_0242ac1c0002row13_col24\" class=\"data row13 col24\" >0.100162</td>\n",
              "                        <td id=\"T_e3825d94_aef7_11eb_bfd3_0242ac1c0002row13_col25\" class=\"data row13 col25\" >0.191773</td>\n",
              "                        <td id=\"T_e3825d94_aef7_11eb_bfd3_0242ac1c0002row13_col26\" class=\"data row13 col26\" >0.115721</td>\n",
              "                        <td id=\"T_e3825d94_aef7_11eb_bfd3_0242ac1c0002row13_col27\" class=\"data row13 col27\" >-0.112338</td>\n",
              "                        <td id=\"T_e3825d94_aef7_11eb_bfd3_0242ac1c0002row13_col28\" class=\"data row13 col28\" >-0.080798</td>\n",
              "            </tr>\n",
              "            <tr>\n",
              "                        <th id=\"T_e3825d94_aef7_11eb_bfd3_0242ac1c0002level0_row14\" class=\"row_heading level0 row14\" >Online_Backup_No internet service</th>\n",
              "                        <td id=\"T_e3825d94_aef7_11eb_bfd3_0242ac1c0002row14_col0\" class=\"data row14 col0\" >-0.039062</td>\n",
              "                        <td id=\"T_e3825d94_aef7_11eb_bfd3_0242ac1c0002row14_col1\" class=\"data row14 col1\" >-0.763557</td>\n",
              "                        <td id=\"T_e3825d94_aef7_11eb_bfd3_0242ac1c0002row14_col2\" class=\"data row14 col2\" >-0.227890</td>\n",
              "                        <td id=\"T_e3825d94_aef7_11eb_bfd3_0242ac1c0002row14_col3\" class=\"data row14 col3\" >0.006026</td>\n",
              "                        <td id=\"T_e3825d94_aef7_11eb_bfd3_0242ac1c0002row14_col4\" class=\"data row14 col4\" >-0.182742</td>\n",
              "                        <td id=\"T_e3825d94_aef7_11eb_bfd3_0242ac1c0002row14_col5\" class=\"data row14 col5\" >0.000615</td>\n",
              "                        <td id=\"T_e3825d94_aef7_11eb_bfd3_0242ac1c0002row14_col6\" class=\"data row14 col6\" >0.172110</td>\n",
              "                        <td id=\"T_e3825d94_aef7_11eb_bfd3_0242ac1c0002row14_col7\" class=\"data row14 col7\" >0.172209</td>\n",
              "                        <td id=\"T_e3825d94_aef7_11eb_bfd3_0242ac1c0002row14_col8\" class=\"data row14 col8\" >-0.172209</td>\n",
              "                        <td id=\"T_e3825d94_aef7_11eb_bfd3_0242ac1c0002row14_col9\" class=\"data row14 col9\" >-0.210564</td>\n",
              "                        <td id=\"T_e3825d94_aef7_11eb_bfd3_0242ac1c0002row14_col10\" class=\"data row14 col10\" >-0.465793</td>\n",
              "                        <td id=\"T_e3825d94_aef7_11eb_bfd3_0242ac1c0002row14_col11\" class=\"data row14 col11\" >1.000000</td>\n",
              "                        <td id=\"T_e3825d94_aef7_11eb_bfd3_0242ac1c0002row14_col12\" class=\"data row14 col12\" >1.000000</td>\n",
              "                        <td id=\"T_e3825d94_aef7_11eb_bfd3_0242ac1c0002row14_col13\" class=\"data row14 col13\" >-0.333403</td>\n",
              "                        <td id=\"T_e3825d94_aef7_11eb_bfd3_0242ac1c0002row14_col14\" class=\"data row14 col14\" >1.000000</td>\n",
              "                        <td id=\"T_e3825d94_aef7_11eb_bfd3_0242ac1c0002row14_col15\" class=\"data row14 col15\" >-0.381593</td>\n",
              "                        <td id=\"T_e3825d94_aef7_11eb_bfd3_0242ac1c0002row14_col16\" class=\"data row14 col16\" >1.000000</td>\n",
              "                        <td id=\"T_e3825d94_aef7_11eb_bfd3_0242ac1c0002row14_col17\" class=\"data row14 col17\" >-0.380754</td>\n",
              "                        <td id=\"T_e3825d94_aef7_11eb_bfd3_0242ac1c0002row14_col18\" class=\"data row14 col18\" >1.000000</td>\n",
              "                        <td id=\"T_e3825d94_aef7_11eb_bfd3_0242ac1c0002row14_col19\" class=\"data row14 col19\" >-0.336298</td>\n",
              "                        <td id=\"T_e3825d94_aef7_11eb_bfd3_0242ac1c0002row14_col20\" class=\"data row14 col20\" >1.000000</td>\n",
              "                        <td id=\"T_e3825d94_aef7_11eb_bfd3_0242ac1c0002row14_col21\" class=\"data row14 col21\" >-0.415552</td>\n",
              "                        <td id=\"T_e3825d94_aef7_11eb_bfd3_0242ac1c0002row14_col22\" class=\"data row14 col22\" >1.000000</td>\n",
              "                        <td id=\"T_e3825d94_aef7_11eb_bfd3_0242ac1c0002row14_col23\" class=\"data row14 col23\" >-0.418675</td>\n",
              "                        <td id=\"T_e3825d94_aef7_11eb_bfd3_0242ac1c0002row14_col24\" class=\"data row14 col24\" >0.038004</td>\n",
              "                        <td id=\"T_e3825d94_aef7_11eb_bfd3_0242ac1c0002row14_col25\" class=\"data row14 col25\" >0.218278</td>\n",
              "                        <td id=\"T_e3825d94_aef7_11eb_bfd3_0242ac1c0002row14_col26\" class=\"data row14 col26\" >0.001030</td>\n",
              "                        <td id=\"T_e3825d94_aef7_11eb_bfd3_0242ac1c0002row14_col27\" class=\"data row14 col27\" >-0.284917</td>\n",
              "                        <td id=\"T_e3825d94_aef7_11eb_bfd3_0242ac1c0002row14_col28\" class=\"data row14 col28\" >0.321361</td>\n",
              "            </tr>\n",
              "            <tr>\n",
              "                        <th id=\"T_e3825d94_aef7_11eb_bfd3_0242ac1c0002level0_row15\" class=\"row_heading level0 row15\" >Online_Backup_Yes</th>\n",
              "                        <td id=\"T_e3825d94_aef7_11eb_bfd3_0242ac1c0002row15_col0\" class=\"data row15 col0\" >0.360277</td>\n",
              "                        <td id=\"T_e3825d94_aef7_11eb_bfd3_0242ac1c0002row15_col1\" class=\"data row15 col1\" >0.441780</td>\n",
              "                        <td id=\"T_e3825d94_aef7_11eb_bfd3_0242ac1c0002row15_col2\" class=\"data row15 col2\" >-0.082255</td>\n",
              "                        <td id=\"T_e3825d94_aef7_11eb_bfd3_0242ac1c0002row15_col3\" class=\"data row15 col3\" >-0.013773</td>\n",
              "                        <td id=\"T_e3825d94_aef7_11eb_bfd3_0242ac1c0002row15_col4\" class=\"data row15 col4\" >0.066572</td>\n",
              "                        <td id=\"T_e3825d94_aef7_11eb_bfd3_0242ac1c0002row15_col5\" class=\"data row15 col5\" >0.141498</td>\n",
              "                        <td id=\"T_e3825d94_aef7_11eb_bfd3_0242ac1c0002row15_col6\" class=\"data row15 col6\" >0.003457</td>\n",
              "                        <td id=\"T_e3825d94_aef7_11eb_bfd3_0242ac1c0002row15_col7\" class=\"data row15 col7\" >-0.052312</td>\n",
              "                        <td id=\"T_e3825d94_aef7_11eb_bfd3_0242ac1c0002row15_col8\" class=\"data row15 col8\" >0.052312</td>\n",
              "                        <td id=\"T_e3825d94_aef7_11eb_bfd3_0242ac1c0002row15_col9\" class=\"data row15 col9\" >0.202237</td>\n",
              "                        <td id=\"T_e3825d94_aef7_11eb_bfd3_0242ac1c0002row15_col10\" class=\"data row15 col10\" >0.165651</td>\n",
              "                        <td id=\"T_e3825d94_aef7_11eb_bfd3_0242ac1c0002row15_col11\" class=\"data row15 col11\" >-0.381593</td>\n",
              "                        <td id=\"T_e3825d94_aef7_11eb_bfd3_0242ac1c0002row15_col12\" class=\"data row15 col12\" >-0.381593</td>\n",
              "                        <td id=\"T_e3825d94_aef7_11eb_bfd3_0242ac1c0002row15_col13\" class=\"data row15 col13\" >0.283832</td>\n",
              "                        <td id=\"T_e3825d94_aef7_11eb_bfd3_0242ac1c0002row15_col14\" class=\"data row15 col14\" >-0.381593</td>\n",
              "                        <td id=\"T_e3825d94_aef7_11eb_bfd3_0242ac1c0002row15_col15\" class=\"data row15 col15\" >1.000000</td>\n",
              "                        <td id=\"T_e3825d94_aef7_11eb_bfd3_0242ac1c0002row15_col16\" class=\"data row15 col16\" >-0.381593</td>\n",
              "                        <td id=\"T_e3825d94_aef7_11eb_bfd3_0242ac1c0002row15_col17\" class=\"data row15 col17\" >0.303546</td>\n",
              "                        <td id=\"T_e3825d94_aef7_11eb_bfd3_0242ac1c0002row15_col18\" class=\"data row15 col18\" >-0.381593</td>\n",
              "                        <td id=\"T_e3825d94_aef7_11eb_bfd3_0242ac1c0002row15_col19\" class=\"data row15 col19\" >0.294233</td>\n",
              "                        <td id=\"T_e3825d94_aef7_11eb_bfd3_0242ac1c0002row15_col20\" class=\"data row15 col20\" >-0.381593</td>\n",
              "                        <td id=\"T_e3825d94_aef7_11eb_bfd3_0242ac1c0002row15_col21\" class=\"data row15 col21\" >0.282106</td>\n",
              "                        <td id=\"T_e3825d94_aef7_11eb_bfd3_0242ac1c0002row15_col22\" class=\"data row15 col22\" >-0.381593</td>\n",
              "                        <td id=\"T_e3825d94_aef7_11eb_bfd3_0242ac1c0002row15_col23\" class=\"data row15 col23\" >0.274501</td>\n",
              "                        <td id=\"T_e3825d94_aef7_11eb_bfd3_0242ac1c0002row15_col24\" class=\"data row15 col24\" >0.083722</td>\n",
              "                        <td id=\"T_e3825d94_aef7_11eb_bfd3_0242ac1c0002row15_col25\" class=\"data row15 col25\" >0.111400</td>\n",
              "                        <td id=\"T_e3825d94_aef7_11eb_bfd3_0242ac1c0002row15_col26\" class=\"data row15 col26\" >0.090785</td>\n",
              "                        <td id=\"T_e3825d94_aef7_11eb_bfd3_0242ac1c0002row15_col27\" class=\"data row15 col27\" >-0.000408</td>\n",
              "                        <td id=\"T_e3825d94_aef7_11eb_bfd3_0242ac1c0002row15_col28\" class=\"data row15 col28\" >-0.174164</td>\n",
              "            </tr>\n",
              "            <tr>\n",
              "                        <th id=\"T_e3825d94_aef7_11eb_bfd3_0242ac1c0002level0_row16\" class=\"row_heading level0 row16\" >Device_Protection_No internet service</th>\n",
              "                        <td id=\"T_e3825d94_aef7_11eb_bfd3_0242ac1c0002row16_col0\" class=\"data row16 col0\" >-0.039062</td>\n",
              "                        <td id=\"T_e3825d94_aef7_11eb_bfd3_0242ac1c0002row16_col1\" class=\"data row16 col1\" >-0.763557</td>\n",
              "                        <td id=\"T_e3825d94_aef7_11eb_bfd3_0242ac1c0002row16_col2\" class=\"data row16 col2\" >-0.227890</td>\n",
              "                        <td id=\"T_e3825d94_aef7_11eb_bfd3_0242ac1c0002row16_col3\" class=\"data row16 col3\" >0.006026</td>\n",
              "                        <td id=\"T_e3825d94_aef7_11eb_bfd3_0242ac1c0002row16_col4\" class=\"data row16 col4\" >-0.182742</td>\n",
              "                        <td id=\"T_e3825d94_aef7_11eb_bfd3_0242ac1c0002row16_col5\" class=\"data row16 col5\" >0.000615</td>\n",
              "                        <td id=\"T_e3825d94_aef7_11eb_bfd3_0242ac1c0002row16_col6\" class=\"data row16 col6\" >0.172110</td>\n",
              "                        <td id=\"T_e3825d94_aef7_11eb_bfd3_0242ac1c0002row16_col7\" class=\"data row16 col7\" >0.172209</td>\n",
              "                        <td id=\"T_e3825d94_aef7_11eb_bfd3_0242ac1c0002row16_col8\" class=\"data row16 col8\" >-0.172209</td>\n",
              "                        <td id=\"T_e3825d94_aef7_11eb_bfd3_0242ac1c0002row16_col9\" class=\"data row16 col9\" >-0.210564</td>\n",
              "                        <td id=\"T_e3825d94_aef7_11eb_bfd3_0242ac1c0002row16_col10\" class=\"data row16 col10\" >-0.465793</td>\n",
              "                        <td id=\"T_e3825d94_aef7_11eb_bfd3_0242ac1c0002row16_col11\" class=\"data row16 col11\" >1.000000</td>\n",
              "                        <td id=\"T_e3825d94_aef7_11eb_bfd3_0242ac1c0002row16_col12\" class=\"data row16 col12\" >1.000000</td>\n",
              "                        <td id=\"T_e3825d94_aef7_11eb_bfd3_0242ac1c0002row16_col13\" class=\"data row16 col13\" >-0.333403</td>\n",
              "                        <td id=\"T_e3825d94_aef7_11eb_bfd3_0242ac1c0002row16_col14\" class=\"data row16 col14\" >1.000000</td>\n",
              "                        <td id=\"T_e3825d94_aef7_11eb_bfd3_0242ac1c0002row16_col15\" class=\"data row16 col15\" >-0.381593</td>\n",
              "                        <td id=\"T_e3825d94_aef7_11eb_bfd3_0242ac1c0002row16_col16\" class=\"data row16 col16\" >1.000000</td>\n",
              "                        <td id=\"T_e3825d94_aef7_11eb_bfd3_0242ac1c0002row16_col17\" class=\"data row16 col17\" >-0.380754</td>\n",
              "                        <td id=\"T_e3825d94_aef7_11eb_bfd3_0242ac1c0002row16_col18\" class=\"data row16 col18\" >1.000000</td>\n",
              "                        <td id=\"T_e3825d94_aef7_11eb_bfd3_0242ac1c0002row16_col19\" class=\"data row16 col19\" >-0.336298</td>\n",
              "                        <td id=\"T_e3825d94_aef7_11eb_bfd3_0242ac1c0002row16_col20\" class=\"data row16 col20\" >1.000000</td>\n",
              "                        <td id=\"T_e3825d94_aef7_11eb_bfd3_0242ac1c0002row16_col21\" class=\"data row16 col21\" >-0.415552</td>\n",
              "                        <td id=\"T_e3825d94_aef7_11eb_bfd3_0242ac1c0002row16_col22\" class=\"data row16 col22\" >1.000000</td>\n",
              "                        <td id=\"T_e3825d94_aef7_11eb_bfd3_0242ac1c0002row16_col23\" class=\"data row16 col23\" >-0.418675</td>\n",
              "                        <td id=\"T_e3825d94_aef7_11eb_bfd3_0242ac1c0002row16_col24\" class=\"data row16 col24\" >0.038004</td>\n",
              "                        <td id=\"T_e3825d94_aef7_11eb_bfd3_0242ac1c0002row16_col25\" class=\"data row16 col25\" >0.218278</td>\n",
              "                        <td id=\"T_e3825d94_aef7_11eb_bfd3_0242ac1c0002row16_col26\" class=\"data row16 col26\" >0.001030</td>\n",
              "                        <td id=\"T_e3825d94_aef7_11eb_bfd3_0242ac1c0002row16_col27\" class=\"data row16 col27\" >-0.284917</td>\n",
              "                        <td id=\"T_e3825d94_aef7_11eb_bfd3_0242ac1c0002row16_col28\" class=\"data row16 col28\" >0.321361</td>\n",
              "            </tr>\n",
              "            <tr>\n",
              "                        <th id=\"T_e3825d94_aef7_11eb_bfd3_0242ac1c0002level0_row17\" class=\"row_heading level0 row17\" >Device_Protection_Yes</th>\n",
              "                        <td id=\"T_e3825d94_aef7_11eb_bfd3_0242ac1c0002row17_col0\" class=\"data row17 col0\" >0.360653</td>\n",
              "                        <td id=\"T_e3825d94_aef7_11eb_bfd3_0242ac1c0002row17_col1\" class=\"data row17 col1\" >0.482692</td>\n",
              "                        <td id=\"T_e3825d94_aef7_11eb_bfd3_0242ac1c0002row17_col2\" class=\"data row17 col2\" >-0.066160</td>\n",
              "                        <td id=\"T_e3825d94_aef7_11eb_bfd3_0242ac1c0002row17_col3\" class=\"data row17 col3\" >-0.002105</td>\n",
              "                        <td id=\"T_e3825d94_aef7_11eb_bfd3_0242ac1c0002row17_col4\" class=\"data row17 col4\" >0.059428</td>\n",
              "                        <td id=\"T_e3825d94_aef7_11eb_bfd3_0242ac1c0002row17_col5\" class=\"data row17 col5\" >0.153786</td>\n",
              "                        <td id=\"T_e3825d94_aef7_11eb_bfd3_0242ac1c0002row17_col6\" class=\"data row17 col6\" >-0.022343</td>\n",
              "                        <td id=\"T_e3825d94_aef7_11eb_bfd3_0242ac1c0002row17_col7\" class=\"data row17 col7\" >-0.071227</td>\n",
              "                        <td id=\"T_e3825d94_aef7_11eb_bfd3_0242ac1c0002row17_col8\" class=\"data row17 col8\" >0.071227</td>\n",
              "                        <td id=\"T_e3825d94_aef7_11eb_bfd3_0242ac1c0002row17_col9\" class=\"data row17 col9\" >0.201137</td>\n",
              "                        <td id=\"T_e3825d94_aef7_11eb_bfd3_0242ac1c0002row17_col10\" class=\"data row17 col10\" >0.176049</td>\n",
              "                        <td id=\"T_e3825d94_aef7_11eb_bfd3_0242ac1c0002row17_col11\" class=\"data row17 col11\" >-0.380754</td>\n",
              "                        <td id=\"T_e3825d94_aef7_11eb_bfd3_0242ac1c0002row17_col12\" class=\"data row17 col12\" >-0.380754</td>\n",
              "                        <td id=\"T_e3825d94_aef7_11eb_bfd3_0242ac1c0002row17_col13\" class=\"data row17 col13\" >0.275438</td>\n",
              "                        <td id=\"T_e3825d94_aef7_11eb_bfd3_0242ac1c0002row17_col14\" class=\"data row17 col14\" >-0.380754</td>\n",
              "                        <td id=\"T_e3825d94_aef7_11eb_bfd3_0242ac1c0002row17_col15\" class=\"data row17 col15\" >0.303546</td>\n",
              "                        <td id=\"T_e3825d94_aef7_11eb_bfd3_0242ac1c0002row17_col16\" class=\"data row17 col16\" >-0.380754</td>\n",
              "                        <td id=\"T_e3825d94_aef7_11eb_bfd3_0242ac1c0002row17_col17\" class=\"data row17 col17\" >1.000000</td>\n",
              "                        <td id=\"T_e3825d94_aef7_11eb_bfd3_0242ac1c0002row17_col18\" class=\"data row17 col18\" >-0.380754</td>\n",
              "                        <td id=\"T_e3825d94_aef7_11eb_bfd3_0242ac1c0002row17_col19\" class=\"data row17 col19\" >0.333313</td>\n",
              "                        <td id=\"T_e3825d94_aef7_11eb_bfd3_0242ac1c0002row17_col20\" class=\"data row17 col20\" >-0.380754</td>\n",
              "                        <td id=\"T_e3825d94_aef7_11eb_bfd3_0242ac1c0002row17_col21\" class=\"data row17 col21\" >0.390874</td>\n",
              "                        <td id=\"T_e3825d94_aef7_11eb_bfd3_0242ac1c0002row17_col22\" class=\"data row17 col22\" >-0.380754</td>\n",
              "                        <td id=\"T_e3825d94_aef7_11eb_bfd3_0242ac1c0002row17_col23\" class=\"data row17 col23\" >0.402111</td>\n",
              "                        <td id=\"T_e3825d94_aef7_11eb_bfd3_0242ac1c0002row17_col24\" class=\"data row17 col24\" >0.102495</td>\n",
              "                        <td id=\"T_e3825d94_aef7_11eb_bfd3_0242ac1c0002row17_col25\" class=\"data row17 col25\" >0.165096</td>\n",
              "                        <td id=\"T_e3825d94_aef7_11eb_bfd3_0242ac1c0002row17_col26\" class=\"data row17 col26\" >0.111554</td>\n",
              "                        <td id=\"T_e3825d94_aef7_11eb_bfd3_0242ac1c0002row17_col27\" class=\"data row17 col27\" >-0.003351</td>\n",
              "                        <td id=\"T_e3825d94_aef7_11eb_bfd3_0242ac1c0002row17_col28\" class=\"data row17 col28\" >-0.187373</td>\n",
              "            </tr>\n",
              "            <tr>\n",
              "                        <th id=\"T_e3825d94_aef7_11eb_bfd3_0242ac1c0002level0_row18\" class=\"row_heading level0 row18\" >Tech_Support_No internet service</th>\n",
              "                        <td id=\"T_e3825d94_aef7_11eb_bfd3_0242ac1c0002row18_col0\" class=\"data row18 col0\" >-0.039062</td>\n",
              "                        <td id=\"T_e3825d94_aef7_11eb_bfd3_0242ac1c0002row18_col1\" class=\"data row18 col1\" >-0.763557</td>\n",
              "                        <td id=\"T_e3825d94_aef7_11eb_bfd3_0242ac1c0002row18_col2\" class=\"data row18 col2\" >-0.227890</td>\n",
              "                        <td id=\"T_e3825d94_aef7_11eb_bfd3_0242ac1c0002row18_col3\" class=\"data row18 col3\" >0.006026</td>\n",
              "                        <td id=\"T_e3825d94_aef7_11eb_bfd3_0242ac1c0002row18_col4\" class=\"data row18 col4\" >-0.182742</td>\n",
              "                        <td id=\"T_e3825d94_aef7_11eb_bfd3_0242ac1c0002row18_col5\" class=\"data row18 col5\" >0.000615</td>\n",
              "                        <td id=\"T_e3825d94_aef7_11eb_bfd3_0242ac1c0002row18_col6\" class=\"data row18 col6\" >0.172110</td>\n",
              "                        <td id=\"T_e3825d94_aef7_11eb_bfd3_0242ac1c0002row18_col7\" class=\"data row18 col7\" >0.172209</td>\n",
              "                        <td id=\"T_e3825d94_aef7_11eb_bfd3_0242ac1c0002row18_col8\" class=\"data row18 col8\" >-0.172209</td>\n",
              "                        <td id=\"T_e3825d94_aef7_11eb_bfd3_0242ac1c0002row18_col9\" class=\"data row18 col9\" >-0.210564</td>\n",
              "                        <td id=\"T_e3825d94_aef7_11eb_bfd3_0242ac1c0002row18_col10\" class=\"data row18 col10\" >-0.465793</td>\n",
              "                        <td id=\"T_e3825d94_aef7_11eb_bfd3_0242ac1c0002row18_col11\" class=\"data row18 col11\" >1.000000</td>\n",
              "                        <td id=\"T_e3825d94_aef7_11eb_bfd3_0242ac1c0002row18_col12\" class=\"data row18 col12\" >1.000000</td>\n",
              "                        <td id=\"T_e3825d94_aef7_11eb_bfd3_0242ac1c0002row18_col13\" class=\"data row18 col13\" >-0.333403</td>\n",
              "                        <td id=\"T_e3825d94_aef7_11eb_bfd3_0242ac1c0002row18_col14\" class=\"data row18 col14\" >1.000000</td>\n",
              "                        <td id=\"T_e3825d94_aef7_11eb_bfd3_0242ac1c0002row18_col15\" class=\"data row18 col15\" >-0.381593</td>\n",
              "                        <td id=\"T_e3825d94_aef7_11eb_bfd3_0242ac1c0002row18_col16\" class=\"data row18 col16\" >1.000000</td>\n",
              "                        <td id=\"T_e3825d94_aef7_11eb_bfd3_0242ac1c0002row18_col17\" class=\"data row18 col17\" >-0.380754</td>\n",
              "                        <td id=\"T_e3825d94_aef7_11eb_bfd3_0242ac1c0002row18_col18\" class=\"data row18 col18\" >1.000000</td>\n",
              "                        <td id=\"T_e3825d94_aef7_11eb_bfd3_0242ac1c0002row18_col19\" class=\"data row18 col19\" >-0.336298</td>\n",
              "                        <td id=\"T_e3825d94_aef7_11eb_bfd3_0242ac1c0002row18_col20\" class=\"data row18 col20\" >1.000000</td>\n",
              "                        <td id=\"T_e3825d94_aef7_11eb_bfd3_0242ac1c0002row18_col21\" class=\"data row18 col21\" >-0.415552</td>\n",
              "                        <td id=\"T_e3825d94_aef7_11eb_bfd3_0242ac1c0002row18_col22\" class=\"data row18 col22\" >1.000000</td>\n",
              "                        <td id=\"T_e3825d94_aef7_11eb_bfd3_0242ac1c0002row18_col23\" class=\"data row18 col23\" >-0.418675</td>\n",
              "                        <td id=\"T_e3825d94_aef7_11eb_bfd3_0242ac1c0002row18_col24\" class=\"data row18 col24\" >0.038004</td>\n",
              "                        <td id=\"T_e3825d94_aef7_11eb_bfd3_0242ac1c0002row18_col25\" class=\"data row18 col25\" >0.218278</td>\n",
              "                        <td id=\"T_e3825d94_aef7_11eb_bfd3_0242ac1c0002row18_col26\" class=\"data row18 col26\" >0.001030</td>\n",
              "                        <td id=\"T_e3825d94_aef7_11eb_bfd3_0242ac1c0002row18_col27\" class=\"data row18 col27\" >-0.284917</td>\n",
              "                        <td id=\"T_e3825d94_aef7_11eb_bfd3_0242ac1c0002row18_col28\" class=\"data row18 col28\" >0.321361</td>\n",
              "            </tr>\n",
              "            <tr>\n",
              "                        <th id=\"T_e3825d94_aef7_11eb_bfd3_0242ac1c0002level0_row19\" class=\"row_heading level0 row19\" >Tech_Support_Yes</th>\n",
              "                        <td id=\"T_e3825d94_aef7_11eb_bfd3_0242ac1c0002row19_col0\" class=\"data row19 col0\" >0.324221</td>\n",
              "                        <td id=\"T_e3825d94_aef7_11eb_bfd3_0242ac1c0002row19_col1\" class=\"data row19 col1\" >0.338304</td>\n",
              "                        <td id=\"T_e3825d94_aef7_11eb_bfd3_0242ac1c0002row19_col2\" class=\"data row19 col2\" >-0.164674</td>\n",
              "                        <td id=\"T_e3825d94_aef7_11eb_bfd3_0242ac1c0002row19_col3\" class=\"data row19 col3\" >-0.009212</td>\n",
              "                        <td id=\"T_e3825d94_aef7_11eb_bfd3_0242ac1c0002row19_col4\" class=\"data row19 col4\" >-0.060625</td>\n",
              "                        <td id=\"T_e3825d94_aef7_11eb_bfd3_0242ac1c0002row19_col5\" class=\"data row19 col5\" >0.119999</td>\n",
              "                        <td id=\"T_e3825d94_aef7_11eb_bfd3_0242ac1c0002row19_col6\" class=\"data row19 col6\" >0.028811</td>\n",
              "                        <td id=\"T_e3825d94_aef7_11eb_bfd3_0242ac1c0002row19_col7\" class=\"data row19 col7\" >-0.096340</td>\n",
              "                        <td id=\"T_e3825d94_aef7_11eb_bfd3_0242ac1c0002row19_col8\" class=\"data row19 col8\" >0.096340</td>\n",
              "                        <td id=\"T_e3825d94_aef7_11eb_bfd3_0242ac1c0002row19_col9\" class=\"data row19 col9\" >0.100571</td>\n",
              "                        <td id=\"T_e3825d94_aef7_11eb_bfd3_0242ac1c0002row19_col10\" class=\"data row19 col10\" >-0.020492</td>\n",
              "                        <td id=\"T_e3825d94_aef7_11eb_bfd3_0242ac1c0002row19_col11\" class=\"data row19 col11\" >-0.336298</td>\n",
              "                        <td id=\"T_e3825d94_aef7_11eb_bfd3_0242ac1c0002row19_col12\" class=\"data row19 col12\" >-0.336298</td>\n",
              "                        <td id=\"T_e3825d94_aef7_11eb_bfd3_0242ac1c0002row19_col13\" class=\"data row19 col13\" >0.354931</td>\n",
              "                        <td id=\"T_e3825d94_aef7_11eb_bfd3_0242ac1c0002row19_col14\" class=\"data row19 col14\" >-0.336298</td>\n",
              "                        <td id=\"T_e3825d94_aef7_11eb_bfd3_0242ac1c0002row19_col15\" class=\"data row19 col15\" >0.294233</td>\n",
              "                        <td id=\"T_e3825d94_aef7_11eb_bfd3_0242ac1c0002row19_col16\" class=\"data row19 col16\" >-0.336298</td>\n",
              "                        <td id=\"T_e3825d94_aef7_11eb_bfd3_0242ac1c0002row19_col17\" class=\"data row19 col17\" >0.333313</td>\n",
              "                        <td id=\"T_e3825d94_aef7_11eb_bfd3_0242ac1c0002row19_col18\" class=\"data row19 col18\" >-0.336298</td>\n",
              "                        <td id=\"T_e3825d94_aef7_11eb_bfd3_0242ac1c0002row19_col19\" class=\"data row19 col19\" >1.000000</td>\n",
              "                        <td id=\"T_e3825d94_aef7_11eb_bfd3_0242ac1c0002row19_col20\" class=\"data row19 col20\" >-0.336298</td>\n",
              "                        <td id=\"T_e3825d94_aef7_11eb_bfd3_0242ac1c0002row19_col21\" class=\"data row19 col21\" >0.278070</td>\n",
              "                        <td id=\"T_e3825d94_aef7_11eb_bfd3_0242ac1c0002row19_col22\" class=\"data row19 col22\" >-0.336298</td>\n",
              "                        <td id=\"T_e3825d94_aef7_11eb_bfd3_0242ac1c0002row19_col23\" class=\"data row19 col23\" >0.279358</td>\n",
              "                        <td id=\"T_e3825d94_aef7_11eb_bfd3_0242ac1c0002row19_col24\" class=\"data row19 col24\" >0.095775</td>\n",
              "                        <td id=\"T_e3825d94_aef7_11eb_bfd3_0242ac1c0002row19_col25\" class=\"data row19 col25\" >0.240824</td>\n",
              "                        <td id=\"T_e3825d94_aef7_11eb_bfd3_0242ac1c0002row19_col26\" class=\"data row19 col26\" >0.117272</td>\n",
              "                        <td id=\"T_e3825d94_aef7_11eb_bfd3_0242ac1c0002row19_col27\" class=\"data row19 col27\" >-0.114839</td>\n",
              "                        <td id=\"T_e3825d94_aef7_11eb_bfd3_0242ac1c0002row19_col28\" class=\"data row19 col28\" >-0.085509</td>\n",
              "            </tr>\n",
              "            <tr>\n",
              "                        <th id=\"T_e3825d94_aef7_11eb_bfd3_0242ac1c0002level0_row20\" class=\"row_heading level0 row20\" >Streaming_TV_No internet service</th>\n",
              "                        <td id=\"T_e3825d94_aef7_11eb_bfd3_0242ac1c0002row20_col0\" class=\"data row20 col0\" >-0.039062</td>\n",
              "                        <td id=\"T_e3825d94_aef7_11eb_bfd3_0242ac1c0002row20_col1\" class=\"data row20 col1\" >-0.763557</td>\n",
              "                        <td id=\"T_e3825d94_aef7_11eb_bfd3_0242ac1c0002row20_col2\" class=\"data row20 col2\" >-0.227890</td>\n",
              "                        <td id=\"T_e3825d94_aef7_11eb_bfd3_0242ac1c0002row20_col3\" class=\"data row20 col3\" >0.006026</td>\n",
              "                        <td id=\"T_e3825d94_aef7_11eb_bfd3_0242ac1c0002row20_col4\" class=\"data row20 col4\" >-0.182742</td>\n",
              "                        <td id=\"T_e3825d94_aef7_11eb_bfd3_0242ac1c0002row20_col5\" class=\"data row20 col5\" >0.000615</td>\n",
              "                        <td id=\"T_e3825d94_aef7_11eb_bfd3_0242ac1c0002row20_col6\" class=\"data row20 col6\" >0.172110</td>\n",
              "                        <td id=\"T_e3825d94_aef7_11eb_bfd3_0242ac1c0002row20_col7\" class=\"data row20 col7\" >0.172209</td>\n",
              "                        <td id=\"T_e3825d94_aef7_11eb_bfd3_0242ac1c0002row20_col8\" class=\"data row20 col8\" >-0.172209</td>\n",
              "                        <td id=\"T_e3825d94_aef7_11eb_bfd3_0242ac1c0002row20_col9\" class=\"data row20 col9\" >-0.210564</td>\n",
              "                        <td id=\"T_e3825d94_aef7_11eb_bfd3_0242ac1c0002row20_col10\" class=\"data row20 col10\" >-0.465793</td>\n",
              "                        <td id=\"T_e3825d94_aef7_11eb_bfd3_0242ac1c0002row20_col11\" class=\"data row20 col11\" >1.000000</td>\n",
              "                        <td id=\"T_e3825d94_aef7_11eb_bfd3_0242ac1c0002row20_col12\" class=\"data row20 col12\" >1.000000</td>\n",
              "                        <td id=\"T_e3825d94_aef7_11eb_bfd3_0242ac1c0002row20_col13\" class=\"data row20 col13\" >-0.333403</td>\n",
              "                        <td id=\"T_e3825d94_aef7_11eb_bfd3_0242ac1c0002row20_col14\" class=\"data row20 col14\" >1.000000</td>\n",
              "                        <td id=\"T_e3825d94_aef7_11eb_bfd3_0242ac1c0002row20_col15\" class=\"data row20 col15\" >-0.381593</td>\n",
              "                        <td id=\"T_e3825d94_aef7_11eb_bfd3_0242ac1c0002row20_col16\" class=\"data row20 col16\" >1.000000</td>\n",
              "                        <td id=\"T_e3825d94_aef7_11eb_bfd3_0242ac1c0002row20_col17\" class=\"data row20 col17\" >-0.380754</td>\n",
              "                        <td id=\"T_e3825d94_aef7_11eb_bfd3_0242ac1c0002row20_col18\" class=\"data row20 col18\" >1.000000</td>\n",
              "                        <td id=\"T_e3825d94_aef7_11eb_bfd3_0242ac1c0002row20_col19\" class=\"data row20 col19\" >-0.336298</td>\n",
              "                        <td id=\"T_e3825d94_aef7_11eb_bfd3_0242ac1c0002row20_col20\" class=\"data row20 col20\" >1.000000</td>\n",
              "                        <td id=\"T_e3825d94_aef7_11eb_bfd3_0242ac1c0002row20_col21\" class=\"data row20 col21\" >-0.415552</td>\n",
              "                        <td id=\"T_e3825d94_aef7_11eb_bfd3_0242ac1c0002row20_col22\" class=\"data row20 col22\" >1.000000</td>\n",
              "                        <td id=\"T_e3825d94_aef7_11eb_bfd3_0242ac1c0002row20_col23\" class=\"data row20 col23\" >-0.418675</td>\n",
              "                        <td id=\"T_e3825d94_aef7_11eb_bfd3_0242ac1c0002row20_col24\" class=\"data row20 col24\" >0.038004</td>\n",
              "                        <td id=\"T_e3825d94_aef7_11eb_bfd3_0242ac1c0002row20_col25\" class=\"data row20 col25\" >0.218278</td>\n",
              "                        <td id=\"T_e3825d94_aef7_11eb_bfd3_0242ac1c0002row20_col26\" class=\"data row20 col26\" >0.001030</td>\n",
              "                        <td id=\"T_e3825d94_aef7_11eb_bfd3_0242ac1c0002row20_col27\" class=\"data row20 col27\" >-0.284917</td>\n",
              "                        <td id=\"T_e3825d94_aef7_11eb_bfd3_0242ac1c0002row20_col28\" class=\"data row20 col28\" >0.321361</td>\n",
              "            </tr>\n",
              "            <tr>\n",
              "                        <th id=\"T_e3825d94_aef7_11eb_bfd3_0242ac1c0002level0_row21\" class=\"row_heading level0 row21\" >Streaming_TV_Yes</th>\n",
              "                        <td id=\"T_e3825d94_aef7_11eb_bfd3_0242ac1c0002row21_col0\" class=\"data row21 col0\" >0.279756</td>\n",
              "                        <td id=\"T_e3825d94_aef7_11eb_bfd3_0242ac1c0002row21_col1\" class=\"data row21 col1\" >0.629603</td>\n",
              "                        <td id=\"T_e3825d94_aef7_11eb_bfd3_0242ac1c0002row21_col2\" class=\"data row21 col2\" >0.063228</td>\n",
              "                        <td id=\"T_e3825d94_aef7_11eb_bfd3_0242ac1c0002row21_col3\" class=\"data row21 col3\" >-0.008393</td>\n",
              "                        <td id=\"T_e3825d94_aef7_11eb_bfd3_0242ac1c0002row21_col4\" class=\"data row21 col4\" >0.105378</td>\n",
              "                        <td id=\"T_e3825d94_aef7_11eb_bfd3_0242ac1c0002row21_col5\" class=\"data row21 col5\" >0.124666</td>\n",
              "                        <td id=\"T_e3825d94_aef7_11eb_bfd3_0242ac1c0002row21_col6\" class=\"data row21 col6\" >-0.057717</td>\n",
              "                        <td id=\"T_e3825d94_aef7_11eb_bfd3_0242ac1c0002row21_col7\" class=\"data row21 col7\" >-0.022574</td>\n",
              "                        <td id=\"T_e3825d94_aef7_11eb_bfd3_0242ac1c0002row21_col8\" class=\"data row21 col8\" >0.022574</td>\n",
              "                        <td id=\"T_e3825d94_aef7_11eb_bfd3_0242ac1c0002row21_col9\" class=\"data row21 col9\" >0.257152</td>\n",
              "                        <td id=\"T_e3825d94_aef7_11eb_bfd3_0242ac1c0002row21_col10\" class=\"data row21 col10\" >0.329349</td>\n",
              "                        <td id=\"T_e3825d94_aef7_11eb_bfd3_0242ac1c0002row21_col11\" class=\"data row21 col11\" >-0.415552</td>\n",
              "                        <td id=\"T_e3825d94_aef7_11eb_bfd3_0242ac1c0002row21_col12\" class=\"data row21 col12\" >-0.415552</td>\n",
              "                        <td id=\"T_e3825d94_aef7_11eb_bfd3_0242ac1c0002row21_col13\" class=\"data row21 col13\" >0.176207</td>\n",
              "                        <td id=\"T_e3825d94_aef7_11eb_bfd3_0242ac1c0002row21_col14\" class=\"data row21 col14\" >-0.415552</td>\n",
              "                        <td id=\"T_e3825d94_aef7_11eb_bfd3_0242ac1c0002row21_col15\" class=\"data row21 col15\" >0.282106</td>\n",
              "                        <td id=\"T_e3825d94_aef7_11eb_bfd3_0242ac1c0002row21_col16\" class=\"data row21 col16\" >-0.415552</td>\n",
              "                        <td id=\"T_e3825d94_aef7_11eb_bfd3_0242ac1c0002row21_col17\" class=\"data row21 col17\" >0.390874</td>\n",
              "                        <td id=\"T_e3825d94_aef7_11eb_bfd3_0242ac1c0002row21_col18\" class=\"data row21 col18\" >-0.415552</td>\n",
              "                        <td id=\"T_e3825d94_aef7_11eb_bfd3_0242ac1c0002row21_col19\" class=\"data row21 col19\" >0.278070</td>\n",
              "                        <td id=\"T_e3825d94_aef7_11eb_bfd3_0242ac1c0002row21_col20\" class=\"data row21 col20\" >-0.415552</td>\n",
              "                        <td id=\"T_e3825d94_aef7_11eb_bfd3_0242ac1c0002row21_col21\" class=\"data row21 col21\" >1.000000</td>\n",
              "                        <td id=\"T_e3825d94_aef7_11eb_bfd3_0242ac1c0002row21_col22\" class=\"data row21 col22\" >-0.415552</td>\n",
              "                        <td id=\"T_e3825d94_aef7_11eb_bfd3_0242ac1c0002row21_col23\" class=\"data row21 col23\" >0.533094</td>\n",
              "                        <td id=\"T_e3825d94_aef7_11eb_bfd3_0242ac1c0002row21_col24\" class=\"data row21 col24\" >0.061612</td>\n",
              "                        <td id=\"T_e3825d94_aef7_11eb_bfd3_0242ac1c0002row21_col25\" class=\"data row21 col25\" >0.072049</td>\n",
              "                        <td id=\"T_e3825d94_aef7_11eb_bfd3_0242ac1c0002row21_col26\" class=\"data row21 col26\" >0.040433</td>\n",
              "                        <td id=\"T_e3825d94_aef7_11eb_bfd3_0242ac1c0002row21_col27\" class=\"data row21 col27\" >0.144626</td>\n",
              "                        <td id=\"T_e3825d94_aef7_11eb_bfd3_0242ac1c0002row21_col28\" class=\"data row21 col28\" >-0.247742</td>\n",
              "            </tr>\n",
              "            <tr>\n",
              "                        <th id=\"T_e3825d94_aef7_11eb_bfd3_0242ac1c0002level0_row22\" class=\"row_heading level0 row22\" >Streaming_Movies_No internet service</th>\n",
              "                        <td id=\"T_e3825d94_aef7_11eb_bfd3_0242ac1c0002row22_col0\" class=\"data row22 col0\" >-0.039062</td>\n",
              "                        <td id=\"T_e3825d94_aef7_11eb_bfd3_0242ac1c0002row22_col1\" class=\"data row22 col1\" >-0.763557</td>\n",
              "                        <td id=\"T_e3825d94_aef7_11eb_bfd3_0242ac1c0002row22_col2\" class=\"data row22 col2\" >-0.227890</td>\n",
              "                        <td id=\"T_e3825d94_aef7_11eb_bfd3_0242ac1c0002row22_col3\" class=\"data row22 col3\" >0.006026</td>\n",
              "                        <td id=\"T_e3825d94_aef7_11eb_bfd3_0242ac1c0002row22_col4\" class=\"data row22 col4\" >-0.182742</td>\n",
              "                        <td id=\"T_e3825d94_aef7_11eb_bfd3_0242ac1c0002row22_col5\" class=\"data row22 col5\" >0.000615</td>\n",
              "                        <td id=\"T_e3825d94_aef7_11eb_bfd3_0242ac1c0002row22_col6\" class=\"data row22 col6\" >0.172110</td>\n",
              "                        <td id=\"T_e3825d94_aef7_11eb_bfd3_0242ac1c0002row22_col7\" class=\"data row22 col7\" >0.172209</td>\n",
              "                        <td id=\"T_e3825d94_aef7_11eb_bfd3_0242ac1c0002row22_col8\" class=\"data row22 col8\" >-0.172209</td>\n",
              "                        <td id=\"T_e3825d94_aef7_11eb_bfd3_0242ac1c0002row22_col9\" class=\"data row22 col9\" >-0.210564</td>\n",
              "                        <td id=\"T_e3825d94_aef7_11eb_bfd3_0242ac1c0002row22_col10\" class=\"data row22 col10\" >-0.465793</td>\n",
              "                        <td id=\"T_e3825d94_aef7_11eb_bfd3_0242ac1c0002row22_col11\" class=\"data row22 col11\" >1.000000</td>\n",
              "                        <td id=\"T_e3825d94_aef7_11eb_bfd3_0242ac1c0002row22_col12\" class=\"data row22 col12\" >1.000000</td>\n",
              "                        <td id=\"T_e3825d94_aef7_11eb_bfd3_0242ac1c0002row22_col13\" class=\"data row22 col13\" >-0.333403</td>\n",
              "                        <td id=\"T_e3825d94_aef7_11eb_bfd3_0242ac1c0002row22_col14\" class=\"data row22 col14\" >1.000000</td>\n",
              "                        <td id=\"T_e3825d94_aef7_11eb_bfd3_0242ac1c0002row22_col15\" class=\"data row22 col15\" >-0.381593</td>\n",
              "                        <td id=\"T_e3825d94_aef7_11eb_bfd3_0242ac1c0002row22_col16\" class=\"data row22 col16\" >1.000000</td>\n",
              "                        <td id=\"T_e3825d94_aef7_11eb_bfd3_0242ac1c0002row22_col17\" class=\"data row22 col17\" >-0.380754</td>\n",
              "                        <td id=\"T_e3825d94_aef7_11eb_bfd3_0242ac1c0002row22_col18\" class=\"data row22 col18\" >1.000000</td>\n",
              "                        <td id=\"T_e3825d94_aef7_11eb_bfd3_0242ac1c0002row22_col19\" class=\"data row22 col19\" >-0.336298</td>\n",
              "                        <td id=\"T_e3825d94_aef7_11eb_bfd3_0242ac1c0002row22_col20\" class=\"data row22 col20\" >1.000000</td>\n",
              "                        <td id=\"T_e3825d94_aef7_11eb_bfd3_0242ac1c0002row22_col21\" class=\"data row22 col21\" >-0.415552</td>\n",
              "                        <td id=\"T_e3825d94_aef7_11eb_bfd3_0242ac1c0002row22_col22\" class=\"data row22 col22\" >1.000000</td>\n",
              "                        <td id=\"T_e3825d94_aef7_11eb_bfd3_0242ac1c0002row22_col23\" class=\"data row22 col23\" >-0.418675</td>\n",
              "                        <td id=\"T_e3825d94_aef7_11eb_bfd3_0242ac1c0002row22_col24\" class=\"data row22 col24\" >0.038004</td>\n",
              "                        <td id=\"T_e3825d94_aef7_11eb_bfd3_0242ac1c0002row22_col25\" class=\"data row22 col25\" >0.218278</td>\n",
              "                        <td id=\"T_e3825d94_aef7_11eb_bfd3_0242ac1c0002row22_col26\" class=\"data row22 col26\" >0.001030</td>\n",
              "                        <td id=\"T_e3825d94_aef7_11eb_bfd3_0242ac1c0002row22_col27\" class=\"data row22 col27\" >-0.284917</td>\n",
              "                        <td id=\"T_e3825d94_aef7_11eb_bfd3_0242ac1c0002row22_col28\" class=\"data row22 col28\" >0.321361</td>\n",
              "            </tr>\n",
              "            <tr>\n",
              "                        <th id=\"T_e3825d94_aef7_11eb_bfd3_0242ac1c0002level0_row23\" class=\"row_heading level0 row23\" >Streaming_Movies_Yes</th>\n",
              "                        <td id=\"T_e3825d94_aef7_11eb_bfd3_0242ac1c0002row23_col0\" class=\"data row23 col0\" >0.286111</td>\n",
              "                        <td id=\"T_e3825d94_aef7_11eb_bfd3_0242ac1c0002row23_col1\" class=\"data row23 col1\" >0.627429</td>\n",
              "                        <td id=\"T_e3825d94_aef7_11eb_bfd3_0242ac1c0002row23_col2\" class=\"data row23 col2\" >0.061382</td>\n",
              "                        <td id=\"T_e3825d94_aef7_11eb_bfd3_0242ac1c0002row23_col3\" class=\"data row23 col3\" >-0.010487</td>\n",
              "                        <td id=\"T_e3825d94_aef7_11eb_bfd3_0242ac1c0002row23_col4\" class=\"data row23 col4\" >0.120176</td>\n",
              "                        <td id=\"T_e3825d94_aef7_11eb_bfd3_0242ac1c0002row23_col5\" class=\"data row23 col5\" >0.117412</td>\n",
              "                        <td id=\"T_e3825d94_aef7_11eb_bfd3_0242ac1c0002row23_col6\" class=\"data row23 col6\" >-0.073364</td>\n",
              "                        <td id=\"T_e3825d94_aef7_11eb_bfd3_0242ac1c0002row23_col7\" class=\"data row23 col7\" >-0.032959</td>\n",
              "                        <td id=\"T_e3825d94_aef7_11eb_bfd3_0242ac1c0002row23_col8\" class=\"data row23 col8\" >0.032959</td>\n",
              "                        <td id=\"T_e3825d94_aef7_11eb_bfd3_0242ac1c0002row23_col9\" class=\"data row23 col9\" >0.258751</td>\n",
              "                        <td id=\"T_e3825d94_aef7_11eb_bfd3_0242ac1c0002row23_col10\" class=\"data row23 col10\" >0.322923</td>\n",
              "                        <td id=\"T_e3825d94_aef7_11eb_bfd3_0242ac1c0002row23_col11\" class=\"data row23 col11\" >-0.418675</td>\n",
              "                        <td id=\"T_e3825d94_aef7_11eb_bfd3_0242ac1c0002row23_col12\" class=\"data row23 col12\" >-0.418675</td>\n",
              "                        <td id=\"T_e3825d94_aef7_11eb_bfd3_0242ac1c0002row23_col13\" class=\"data row23 col13\" >0.187398</td>\n",
              "                        <td id=\"T_e3825d94_aef7_11eb_bfd3_0242ac1c0002row23_col14\" class=\"data row23 col14\" >-0.418675</td>\n",
              "                        <td id=\"T_e3825d94_aef7_11eb_bfd3_0242ac1c0002row23_col15\" class=\"data row23 col15\" >0.274501</td>\n",
              "                        <td id=\"T_e3825d94_aef7_11eb_bfd3_0242ac1c0002row23_col16\" class=\"data row23 col16\" >-0.418675</td>\n",
              "                        <td id=\"T_e3825d94_aef7_11eb_bfd3_0242ac1c0002row23_col17\" class=\"data row23 col17\" >0.402111</td>\n",
              "                        <td id=\"T_e3825d94_aef7_11eb_bfd3_0242ac1c0002row23_col18\" class=\"data row23 col18\" >-0.418675</td>\n",
              "                        <td id=\"T_e3825d94_aef7_11eb_bfd3_0242ac1c0002row23_col19\" class=\"data row23 col19\" >0.279358</td>\n",
              "                        <td id=\"T_e3825d94_aef7_11eb_bfd3_0242ac1c0002row23_col20\" class=\"data row23 col20\" >-0.418675</td>\n",
              "                        <td id=\"T_e3825d94_aef7_11eb_bfd3_0242ac1c0002row23_col21\" class=\"data row23 col21\" >0.533094</td>\n",
              "                        <td id=\"T_e3825d94_aef7_11eb_bfd3_0242ac1c0002row23_col22\" class=\"data row23 col22\" >-0.418675</td>\n",
              "                        <td id=\"T_e3825d94_aef7_11eb_bfd3_0242ac1c0002row23_col23\" class=\"data row23 col23\" >1.000000</td>\n",
              "                        <td id=\"T_e3825d94_aef7_11eb_bfd3_0242ac1c0002row23_col24\" class=\"data row23 col24\" >0.064926</td>\n",
              "                        <td id=\"T_e3825d94_aef7_11eb_bfd3_0242ac1c0002row23_col25\" class=\"data row23 col25\" >0.073960</td>\n",
              "                        <td id=\"T_e3825d94_aef7_11eb_bfd3_0242ac1c0002row23_col26\" class=\"data row23 col26\" >0.048575</td>\n",
              "                        <td id=\"T_e3825d94_aef7_11eb_bfd3_0242ac1c0002row23_col27\" class=\"data row23 col27\" >0.137966</td>\n",
              "                        <td id=\"T_e3825d94_aef7_11eb_bfd3_0242ac1c0002row23_col28\" class=\"data row23 col28\" >-0.250595</td>\n",
              "            </tr>\n",
              "            <tr>\n",
              "                        <th id=\"T_e3825d94_aef7_11eb_bfd3_0242ac1c0002level0_row24\" class=\"row_heading level0 row24\" >Contract_One year</th>\n",
              "                        <td id=\"T_e3825d94_aef7_11eb_bfd3_0242ac1c0002row24_col0\" class=\"data row24 col0\" >0.202570</td>\n",
              "                        <td id=\"T_e3825d94_aef7_11eb_bfd3_0242ac1c0002row24_col1\" class=\"data row24 col1\" >0.004904</td>\n",
              "                        <td id=\"T_e3825d94_aef7_11eb_bfd3_0242ac1c0002row24_col2\" class=\"data row24 col2\" >-0.177820</td>\n",
              "                        <td id=\"T_e3825d94_aef7_11eb_bfd3_0242ac1c0002row24_col3\" class=\"data row24 col3\" >0.008026</td>\n",
              "                        <td id=\"T_e3825d94_aef7_11eb_bfd3_0242ac1c0002row24_col4\" class=\"data row24 col4\" >-0.046262</td>\n",
              "                        <td id=\"T_e3825d94_aef7_11eb_bfd3_0242ac1c0002row24_col5\" class=\"data row24 col5\" >0.082783</td>\n",
              "                        <td id=\"T_e3825d94_aef7_11eb_bfd3_0242ac1c0002row24_col6\" class=\"data row24 col6\" >0.014680</td>\n",
              "                        <td id=\"T_e3825d94_aef7_11eb_bfd3_0242ac1c0002row24_col7\" class=\"data row24 col7\" >-0.002791</td>\n",
              "                        <td id=\"T_e3825d94_aef7_11eb_bfd3_0242ac1c0002row24_col8\" class=\"data row24 col8\" >0.002791</td>\n",
              "                        <td id=\"T_e3825d94_aef7_11eb_bfd3_0242ac1c0002row24_col9\" class=\"data row24 col9\" >-0.003794</td>\n",
              "                        <td id=\"T_e3825d94_aef7_11eb_bfd3_0242ac1c0002row24_col10\" class=\"data row24 col10\" >-0.076324</td>\n",
              "                        <td id=\"T_e3825d94_aef7_11eb_bfd3_0242ac1c0002row24_col11\" class=\"data row24 col11\" >0.038004</td>\n",
              "                        <td id=\"T_e3825d94_aef7_11eb_bfd3_0242ac1c0002row24_col12\" class=\"data row24 col12\" >0.038004</td>\n",
              "                        <td id=\"T_e3825d94_aef7_11eb_bfd3_0242ac1c0002row24_col13\" class=\"data row24 col13\" >0.100162</td>\n",
              "                        <td id=\"T_e3825d94_aef7_11eb_bfd3_0242ac1c0002row24_col14\" class=\"data row24 col14\" >0.038004</td>\n",
              "                        <td id=\"T_e3825d94_aef7_11eb_bfd3_0242ac1c0002row24_col15\" class=\"data row24 col15\" >0.083722</td>\n",
              "                        <td id=\"T_e3825d94_aef7_11eb_bfd3_0242ac1c0002row24_col16\" class=\"data row24 col16\" >0.038004</td>\n",
              "                        <td id=\"T_e3825d94_aef7_11eb_bfd3_0242ac1c0002row24_col17\" class=\"data row24 col17\" >0.102495</td>\n",
              "                        <td id=\"T_e3825d94_aef7_11eb_bfd3_0242ac1c0002row24_col18\" class=\"data row24 col18\" >0.038004</td>\n",
              "                        <td id=\"T_e3825d94_aef7_11eb_bfd3_0242ac1c0002row24_col19\" class=\"data row24 col19\" >0.095775</td>\n",
              "                        <td id=\"T_e3825d94_aef7_11eb_bfd3_0242ac1c0002row24_col20\" class=\"data row24 col20\" >0.038004</td>\n",
              "                        <td id=\"T_e3825d94_aef7_11eb_bfd3_0242ac1c0002row24_col21\" class=\"data row24 col21\" >0.061612</td>\n",
              "                        <td id=\"T_e3825d94_aef7_11eb_bfd3_0242ac1c0002row24_col22\" class=\"data row24 col22\" >0.038004</td>\n",
              "                        <td id=\"T_e3825d94_aef7_11eb_bfd3_0242ac1c0002row24_col23\" class=\"data row24 col23\" >0.064926</td>\n",
              "                        <td id=\"T_e3825d94_aef7_11eb_bfd3_0242ac1c0002row24_col24\" class=\"data row24 col24\" >1.000000</td>\n",
              "                        <td id=\"T_e3825d94_aef7_11eb_bfd3_0242ac1c0002row24_col25\" class=\"data row24 col25\" >-0.289510</td>\n",
              "                        <td id=\"T_e3825d94_aef7_11eb_bfd3_0242ac1c0002row24_col26\" class=\"data row24 col26\" >0.067589</td>\n",
              "                        <td id=\"T_e3825d94_aef7_11eb_bfd3_0242ac1c0002row24_col27\" class=\"data row24 col27\" >-0.109130</td>\n",
              "                        <td id=\"T_e3825d94_aef7_11eb_bfd3_0242ac1c0002row24_col28\" class=\"data row24 col28\" >-0.000116</td>\n",
              "            </tr>\n",
              "            <tr>\n",
              "                        <th id=\"T_e3825d94_aef7_11eb_bfd3_0242ac1c0002level0_row25\" class=\"row_heading level0 row25\" >Contract_Two year</th>\n",
              "                        <td id=\"T_e3825d94_aef7_11eb_bfd3_0242ac1c0002row25_col0\" class=\"data row25 col0\" >0.558533</td>\n",
              "                        <td id=\"T_e3825d94_aef7_11eb_bfd3_0242ac1c0002row25_col1\" class=\"data row25 col1\" >-0.074681</td>\n",
              "                        <td id=\"T_e3825d94_aef7_11eb_bfd3_0242ac1c0002row25_col2\" class=\"data row25 col2\" >-0.302253</td>\n",
              "                        <td id=\"T_e3825d94_aef7_11eb_bfd3_0242ac1c0002row25_col3\" class=\"data row25 col3\" >-0.003695</td>\n",
              "                        <td id=\"T_e3825d94_aef7_11eb_bfd3_0242ac1c0002row25_col4\" class=\"data row25 col4\" >-0.117000</td>\n",
              "                        <td id=\"T_e3825d94_aef7_11eb_bfd3_0242ac1c0002row25_col5\" class=\"data row25 col5\" >0.248091</td>\n",
              "                        <td id=\"T_e3825d94_aef7_11eb_bfd3_0242ac1c0002row25_col6\" class=\"data row25 col6\" >0.190262</td>\n",
              "                        <td id=\"T_e3825d94_aef7_11eb_bfd3_0242ac1c0002row25_col7\" class=\"data row25 col7\" >0.003519</td>\n",
              "                        <td id=\"T_e3825d94_aef7_11eb_bfd3_0242ac1c0002row25_col8\" class=\"data row25 col8\" >-0.003519</td>\n",
              "                        <td id=\"T_e3825d94_aef7_11eb_bfd3_0242ac1c0002row25_col9\" class=\"data row25 col9\" >0.106253</td>\n",
              "                        <td id=\"T_e3825d94_aef7_11eb_bfd3_0242ac1c0002row25_col10\" class=\"data row25 col10\" >-0.211526</td>\n",
              "                        <td id=\"T_e3825d94_aef7_11eb_bfd3_0242ac1c0002row25_col11\" class=\"data row25 col11\" >0.218278</td>\n",
              "                        <td id=\"T_e3825d94_aef7_11eb_bfd3_0242ac1c0002row25_col12\" class=\"data row25 col12\" >0.218278</td>\n",
              "                        <td id=\"T_e3825d94_aef7_11eb_bfd3_0242ac1c0002row25_col13\" class=\"data row25 col13\" >0.191773</td>\n",
              "                        <td id=\"T_e3825d94_aef7_11eb_bfd3_0242ac1c0002row25_col14\" class=\"data row25 col14\" >0.218278</td>\n",
              "                        <td id=\"T_e3825d94_aef7_11eb_bfd3_0242ac1c0002row25_col15\" class=\"data row25 col15\" >0.111400</td>\n",
              "                        <td id=\"T_e3825d94_aef7_11eb_bfd3_0242ac1c0002row25_col16\" class=\"data row25 col16\" >0.218278</td>\n",
              "                        <td id=\"T_e3825d94_aef7_11eb_bfd3_0242ac1c0002row25_col17\" class=\"data row25 col17\" >0.165096</td>\n",
              "                        <td id=\"T_e3825d94_aef7_11eb_bfd3_0242ac1c0002row25_col18\" class=\"data row25 col18\" >0.218278</td>\n",
              "                        <td id=\"T_e3825d94_aef7_11eb_bfd3_0242ac1c0002row25_col19\" class=\"data row25 col19\" >0.240824</td>\n",
              "                        <td id=\"T_e3825d94_aef7_11eb_bfd3_0242ac1c0002row25_col20\" class=\"data row25 col20\" >0.218278</td>\n",
              "                        <td id=\"T_e3825d94_aef7_11eb_bfd3_0242ac1c0002row25_col21\" class=\"data row25 col21\" >0.072049</td>\n",
              "                        <td id=\"T_e3825d94_aef7_11eb_bfd3_0242ac1c0002row25_col22\" class=\"data row25 col22\" >0.218278</td>\n",
              "                        <td id=\"T_e3825d94_aef7_11eb_bfd3_0242ac1c0002row25_col23\" class=\"data row25 col23\" >0.073960</td>\n",
              "                        <td id=\"T_e3825d94_aef7_11eb_bfd3_0242ac1c0002row25_col24\" class=\"data row25 col24\" >-0.289510</td>\n",
              "                        <td id=\"T_e3825d94_aef7_11eb_bfd3_0242ac1c0002row25_col25\" class=\"data row25 col25\" >1.000000</td>\n",
              "                        <td id=\"T_e3825d94_aef7_11eb_bfd3_0242ac1c0002row25_col26\" class=\"data row25 col26\" >0.173265</td>\n",
              "                        <td id=\"T_e3825d94_aef7_11eb_bfd3_0242ac1c0002row25_col27\" class=\"data row25 col27\" >-0.282138</td>\n",
              "                        <td id=\"T_e3825d94_aef7_11eb_bfd3_0242ac1c0002row25_col28\" class=\"data row25 col28\" >-0.004705</td>\n",
              "            </tr>\n",
              "            <tr>\n",
              "                        <th id=\"T_e3825d94_aef7_11eb_bfd3_0242ac1c0002level0_row26\" class=\"row_heading level0 row26\" >Payment_Method_Credit card (automatic)</th>\n",
              "                        <td id=\"T_e3825d94_aef7_11eb_bfd3_0242ac1c0002row26_col0\" class=\"data row26 col0\" >0.233006</td>\n",
              "                        <td id=\"T_e3825d94_aef7_11eb_bfd3_0242ac1c0002row26_col1\" class=\"data row26 col1\" >0.030550</td>\n",
              "                        <td id=\"T_e3825d94_aef7_11eb_bfd3_0242ac1c0002row26_col2\" class=\"data row26 col2\" >-0.134302</td>\n",
              "                        <td id=\"T_e3825d94_aef7_11eb_bfd3_0242ac1c0002row26_col3\" class=\"data row26 col3\" >0.001215</td>\n",
              "                        <td id=\"T_e3825d94_aef7_11eb_bfd3_0242ac1c0002row26_col4\" class=\"data row26 col4\" >-0.024135</td>\n",
              "                        <td id=\"T_e3825d94_aef7_11eb_bfd3_0242ac1c0002row26_col5\" class=\"data row26 col5\" >0.082029</td>\n",
              "                        <td id=\"T_e3825d94_aef7_11eb_bfd3_0242ac1c0002row26_col6\" class=\"data row26 col6\" >0.041254</td>\n",
              "                        <td id=\"T_e3825d94_aef7_11eb_bfd3_0242ac1c0002row26_col7\" class=\"data row26 col7\" >-0.007721</td>\n",
              "                        <td id=\"T_e3825d94_aef7_11eb_bfd3_0242ac1c0002row26_col8\" class=\"data row26 col8\" >0.007721</td>\n",
              "                        <td id=\"T_e3825d94_aef7_11eb_bfd3_0242ac1c0002row26_col9\" class=\"data row26 col9\" >0.060048</td>\n",
              "                        <td id=\"T_e3825d94_aef7_11eb_bfd3_0242ac1c0002row26_col10\" class=\"data row26 col10\" >-0.050077</td>\n",
              "                        <td id=\"T_e3825d94_aef7_11eb_bfd3_0242ac1c0002row26_col11\" class=\"data row26 col11\" >0.001030</td>\n",
              "                        <td id=\"T_e3825d94_aef7_11eb_bfd3_0242ac1c0002row26_col12\" class=\"data row26 col12\" >0.001030</td>\n",
              "                        <td id=\"T_e3825d94_aef7_11eb_bfd3_0242ac1c0002row26_col13\" class=\"data row26 col13\" >0.115721</td>\n",
              "                        <td id=\"T_e3825d94_aef7_11eb_bfd3_0242ac1c0002row26_col14\" class=\"data row26 col14\" >0.001030</td>\n",
              "                        <td id=\"T_e3825d94_aef7_11eb_bfd3_0242ac1c0002row26_col15\" class=\"data row26 col15\" >0.090785</td>\n",
              "                        <td id=\"T_e3825d94_aef7_11eb_bfd3_0242ac1c0002row26_col16\" class=\"data row26 col16\" >0.001030</td>\n",
              "                        <td id=\"T_e3825d94_aef7_11eb_bfd3_0242ac1c0002row26_col17\" class=\"data row26 col17\" >0.111554</td>\n",
              "                        <td id=\"T_e3825d94_aef7_11eb_bfd3_0242ac1c0002row26_col18\" class=\"data row26 col18\" >0.001030</td>\n",
              "                        <td id=\"T_e3825d94_aef7_11eb_bfd3_0242ac1c0002row26_col19\" class=\"data row26 col19\" >0.117272</td>\n",
              "                        <td id=\"T_e3825d94_aef7_11eb_bfd3_0242ac1c0002row26_col20\" class=\"data row26 col20\" >0.001030</td>\n",
              "                        <td id=\"T_e3825d94_aef7_11eb_bfd3_0242ac1c0002row26_col21\" class=\"data row26 col21\" >0.040433</td>\n",
              "                        <td id=\"T_e3825d94_aef7_11eb_bfd3_0242ac1c0002row26_col22\" class=\"data row26 col22\" >0.001030</td>\n",
              "                        <td id=\"T_e3825d94_aef7_11eb_bfd3_0242ac1c0002row26_col23\" class=\"data row26 col23\" >0.048575</td>\n",
              "                        <td id=\"T_e3825d94_aef7_11eb_bfd3_0242ac1c0002row26_col24\" class=\"data row26 col24\" >0.067589</td>\n",
              "                        <td id=\"T_e3825d94_aef7_11eb_bfd3_0242ac1c0002row26_col25\" class=\"data row26 col25\" >0.173265</td>\n",
              "                        <td id=\"T_e3825d94_aef7_11eb_bfd3_0242ac1c0002row26_col26\" class=\"data row26 col26\" >1.000000</td>\n",
              "                        <td id=\"T_e3825d94_aef7_11eb_bfd3_0242ac1c0002row26_col27\" class=\"data row26 col27\" >-0.373322</td>\n",
              "                        <td id=\"T_e3825d94_aef7_11eb_bfd3_0242ac1c0002row26_col28\" class=\"data row26 col28\" >-0.286049</td>\n",
              "            </tr>\n",
              "            <tr>\n",
              "                        <th id=\"T_e3825d94_aef7_11eb_bfd3_0242ac1c0002level0_row27\" class=\"row_heading level0 row27\" >Payment_Method_Electronic check</th>\n",
              "                        <td id=\"T_e3825d94_aef7_11eb_bfd3_0242ac1c0002row27_col0\" class=\"data row27 col0\" >-0.208363</td>\n",
              "                        <td id=\"T_e3825d94_aef7_11eb_bfd3_0242ac1c0002row27_col1\" class=\"data row27 col1\" >0.271625</td>\n",
              "                        <td id=\"T_e3825d94_aef7_11eb_bfd3_0242ac1c0002row27_col2\" class=\"data row27 col2\" >0.301919</td>\n",
              "                        <td id=\"T_e3825d94_aef7_11eb_bfd3_0242ac1c0002row27_col3\" class=\"data row27 col3\" >0.000752</td>\n",
              "                        <td id=\"T_e3825d94_aef7_11eb_bfd3_0242ac1c0002row27_col4\" class=\"data row27 col4\" >0.171718</td>\n",
              "                        <td id=\"T_e3825d94_aef7_11eb_bfd3_0242ac1c0002row27_col5\" class=\"data row27 col5\" >-0.083852</td>\n",
              "                        <td id=\"T_e3825d94_aef7_11eb_bfd3_0242ac1c0002row27_col6\" class=\"data row27 col6\" >-0.141476</td>\n",
              "                        <td id=\"T_e3825d94_aef7_11eb_bfd3_0242ac1c0002row27_col7\" class=\"data row27 col7\" >0.003062</td>\n",
              "                        <td id=\"T_e3825d94_aef7_11eb_bfd3_0242ac1c0002row27_col8\" class=\"data row27 col8\" >-0.003062</td>\n",
              "                        <td id=\"T_e3825d94_aef7_11eb_bfd3_0242ac1c0002row27_col9\" class=\"data row27 col9\" >0.083618</td>\n",
              "                        <td id=\"T_e3825d94_aef7_11eb_bfd3_0242ac1c0002row27_col10\" class=\"data row27 col10\" >0.336410</td>\n",
              "                        <td id=\"T_e3825d94_aef7_11eb_bfd3_0242ac1c0002row27_col11\" class=\"data row27 col11\" >-0.284917</td>\n",
              "                        <td id=\"T_e3825d94_aef7_11eb_bfd3_0242ac1c0002row27_col12\" class=\"data row27 col12\" >-0.284917</td>\n",
              "                        <td id=\"T_e3825d94_aef7_11eb_bfd3_0242ac1c0002row27_col13\" class=\"data row27 col13\" >-0.112338</td>\n",
              "                        <td id=\"T_e3825d94_aef7_11eb_bfd3_0242ac1c0002row27_col14\" class=\"data row27 col14\" >-0.284917</td>\n",
              "                        <td id=\"T_e3825d94_aef7_11eb_bfd3_0242ac1c0002row27_col15\" class=\"data row27 col15\" >-0.000408</td>\n",
              "                        <td id=\"T_e3825d94_aef7_11eb_bfd3_0242ac1c0002row27_col16\" class=\"data row27 col16\" >-0.284917</td>\n",
              "                        <td id=\"T_e3825d94_aef7_11eb_bfd3_0242ac1c0002row27_col17\" class=\"data row27 col17\" >-0.003351</td>\n",
              "                        <td id=\"T_e3825d94_aef7_11eb_bfd3_0242ac1c0002row27_col18\" class=\"data row27 col18\" >-0.284917</td>\n",
              "                        <td id=\"T_e3825d94_aef7_11eb_bfd3_0242ac1c0002row27_col19\" class=\"data row27 col19\" >-0.114839</td>\n",
              "                        <td id=\"T_e3825d94_aef7_11eb_bfd3_0242ac1c0002row27_col20\" class=\"data row27 col20\" >-0.284917</td>\n",
              "                        <td id=\"T_e3825d94_aef7_11eb_bfd3_0242ac1c0002row27_col21\" class=\"data row27 col21\" >0.144626</td>\n",
              "                        <td id=\"T_e3825d94_aef7_11eb_bfd3_0242ac1c0002row27_col22\" class=\"data row27 col22\" >-0.284917</td>\n",
              "                        <td id=\"T_e3825d94_aef7_11eb_bfd3_0242ac1c0002row27_col23\" class=\"data row27 col23\" >0.137966</td>\n",
              "                        <td id=\"T_e3825d94_aef7_11eb_bfd3_0242ac1c0002row27_col24\" class=\"data row27 col24\" >-0.109130</td>\n",
              "                        <td id=\"T_e3825d94_aef7_11eb_bfd3_0242ac1c0002row27_col25\" class=\"data row27 col25\" >-0.282138</td>\n",
              "                        <td id=\"T_e3825d94_aef7_11eb_bfd3_0242ac1c0002row27_col26\" class=\"data row27 col26\" >-0.373322</td>\n",
              "                        <td id=\"T_e3825d94_aef7_11eb_bfd3_0242ac1c0002row27_col27\" class=\"data row27 col27\" >1.000000</td>\n",
              "                        <td id=\"T_e3825d94_aef7_11eb_bfd3_0242ac1c0002row27_col28\" class=\"data row27 col28\" >-0.387372</td>\n",
              "            </tr>\n",
              "            <tr>\n",
              "                        <th id=\"T_e3825d94_aef7_11eb_bfd3_0242ac1c0002level0_row28\" class=\"row_heading level0 row28\" >Payment_Method_Mailed check</th>\n",
              "                        <td id=\"T_e3825d94_aef7_11eb_bfd3_0242ac1c0002row28_col0\" class=\"data row28 col0\" >-0.233852</td>\n",
              "                        <td id=\"T_e3825d94_aef7_11eb_bfd3_0242ac1c0002row28_col1\" class=\"data row28 col1\" >-0.377437</td>\n",
              "                        <td id=\"T_e3825d94_aef7_11eb_bfd3_0242ac1c0002row28_col2\" class=\"data row28 col2\" >-0.091683</td>\n",
              "                        <td id=\"T_e3825d94_aef7_11eb_bfd3_0242ac1c0002row28_col3\" class=\"data row28 col3\" >0.013744</td>\n",
              "                        <td id=\"T_e3825d94_aef7_11eb_bfd3_0242ac1c0002row28_col4\" class=\"data row28 col4\" >-0.153477</td>\n",
              "                        <td id=\"T_e3825d94_aef7_11eb_bfd3_0242ac1c0002row28_col5\" class=\"data row28 col5\" >-0.095125</td>\n",
              "                        <td id=\"T_e3825d94_aef7_11eb_bfd3_0242ac1c0002row28_col6\" class=\"data row28 col6\" >0.071056</td>\n",
              "                        <td id=\"T_e3825d94_aef7_11eb_bfd3_0242ac1c0002row28_col7\" class=\"data row28 col7\" >-0.003319</td>\n",
              "                        <td id=\"T_e3825d94_aef7_11eb_bfd3_0242ac1c0002row28_col8\" class=\"data row28 col8\" >0.003319</td>\n",
              "                        <td id=\"T_e3825d94_aef7_11eb_bfd3_0242ac1c0002row28_col9\" class=\"data row28 col9\" >-0.227206</td>\n",
              "                        <td id=\"T_e3825d94_aef7_11eb_bfd3_0242ac1c0002row28_col10\" class=\"data row28 col10\" >-0.306834</td>\n",
              "                        <td id=\"T_e3825d94_aef7_11eb_bfd3_0242ac1c0002row28_col11\" class=\"data row28 col11\" >0.321361</td>\n",
              "                        <td id=\"T_e3825d94_aef7_11eb_bfd3_0242ac1c0002row28_col12\" class=\"data row28 col12\" >0.321361</td>\n",
              "                        <td id=\"T_e3825d94_aef7_11eb_bfd3_0242ac1c0002row28_col13\" class=\"data row28 col13\" >-0.080798</td>\n",
              "                        <td id=\"T_e3825d94_aef7_11eb_bfd3_0242ac1c0002row28_col14\" class=\"data row28 col14\" >0.321361</td>\n",
              "                        <td id=\"T_e3825d94_aef7_11eb_bfd3_0242ac1c0002row28_col15\" class=\"data row28 col15\" >-0.174164</td>\n",
              "                        <td id=\"T_e3825d94_aef7_11eb_bfd3_0242ac1c0002row28_col16\" class=\"data row28 col16\" >0.321361</td>\n",
              "                        <td id=\"T_e3825d94_aef7_11eb_bfd3_0242ac1c0002row28_col17\" class=\"data row28 col17\" >-0.187373</td>\n",
              "                        <td id=\"T_e3825d94_aef7_11eb_bfd3_0242ac1c0002row28_col18\" class=\"data row28 col18\" >0.321361</td>\n",
              "                        <td id=\"T_e3825d94_aef7_11eb_bfd3_0242ac1c0002row28_col19\" class=\"data row28 col19\" >-0.085509</td>\n",
              "                        <td id=\"T_e3825d94_aef7_11eb_bfd3_0242ac1c0002row28_col20\" class=\"data row28 col20\" >0.321361</td>\n",
              "                        <td id=\"T_e3825d94_aef7_11eb_bfd3_0242ac1c0002row28_col21\" class=\"data row28 col21\" >-0.247742</td>\n",
              "                        <td id=\"T_e3825d94_aef7_11eb_bfd3_0242ac1c0002row28_col22\" class=\"data row28 col22\" >0.321361</td>\n",
              "                        <td id=\"T_e3825d94_aef7_11eb_bfd3_0242ac1c0002row28_col23\" class=\"data row28 col23\" >-0.250595</td>\n",
              "                        <td id=\"T_e3825d94_aef7_11eb_bfd3_0242ac1c0002row28_col24\" class=\"data row28 col24\" >-0.000116</td>\n",
              "                        <td id=\"T_e3825d94_aef7_11eb_bfd3_0242ac1c0002row28_col25\" class=\"data row28 col25\" >-0.004705</td>\n",
              "                        <td id=\"T_e3825d94_aef7_11eb_bfd3_0242ac1c0002row28_col26\" class=\"data row28 col26\" >-0.286049</td>\n",
              "                        <td id=\"T_e3825d94_aef7_11eb_bfd3_0242ac1c0002row28_col27\" class=\"data row28 col27\" >-0.387372</td>\n",
              "                        <td id=\"T_e3825d94_aef7_11eb_bfd3_0242ac1c0002row28_col28\" class=\"data row28 col28\" >1.000000</td>\n",
              "            </tr>\n",
              "    </tbody></table>"
            ],
            "text/plain": [
              "<pandas.io.formats.style.Styler at 0x7fe5305ea650>"
            ]
          },
          "metadata": {
            "tags": []
          },
          "execution_count": 725
        }
      ]
    },
    {
      "cell_type": "code",
      "metadata": {
        "colab": {
          "base_uri": "https://localhost:8080/",
          "height": 484
        },
        "id": "4t_tqoXThZoq",
        "outputId": "25c96453-aa95-40d9-b1c3-56fdfafe8cf1"
      },
      "source": [
        "# Visualize the corrolation base on churn \n",
        "plt.figure(figsize=(15,8))\n",
        "data.corr()['Churn_Value'].sort_values(ascending = False).plot(kind='barh', color ='g', alpha= 0.5)\n",
        "plt.show()"
      ],
      "execution_count": 726,
      "outputs": [
        {
          "output_type": "display_data",
          "data": {
            "image/png": "[encoded data removed]",
            "text/plain": [
              "<Figure size 1080x576 with 1 Axes>"
            ]
          },
          "metadata": {
            "tags": [],
            "needs_background": "light"
          }
        }
      ]
    },
    {
      "cell_type": "code",
      "metadata": {
        "id": "wlWciiiX5ZDW"
      },
      "source": [
        "#Removing the high correlation features\n",
        "data = data.drop(columns = ['Multiple_Lines_No phone service', 'Internet_Service_No','Online_Security_No internet service',\n",
        "                              'Online_Backup_No internet service','Device_Protection_No internet service',\n",
        "                              'Tech_Support_No internet service','Streaming_TV_No internet service',\n",
        "                            'Streaming_Movies_No internet service'\n",
        "                            ])"
      ],
      "execution_count": 727,
      "outputs": []
    },
    {
      "cell_type": "code",
      "metadata": {
        "colab": {
          "base_uri": "https://localhost:8080/"
        },
        "id": "sivuBhAmS4tt",
        "outputId": "33c0e83f-c95f-468c-b356-04436b86cbee"
      },
      "source": [
        "data.shape"
      ],
      "execution_count": 728,
      "outputs": [
        {
          "output_type": "execute_result",
          "data": {
            "text/plain": [
              "(7043, 21)"
            ]
          },
          "metadata": {
            "tags": []
          },
          "execution_count": 728
        }
      ]
    },
    {
      "cell_type": "code",
      "metadata": {
        "colab": {
          "base_uri": "https://localhost:8080/",
          "height": 302
        },
        "id": "zQJ5308_JrUx",
        "outputId": "5705178a-95c6-4eaa-a2bf-d43870cc5d24"
      },
      "source": [
        "data.head()"
      ],
      "execution_count": 729,
      "outputs": [
        {
          "output_type": "execute_result",
          "data": {
            "text/html": [
              "<div>\n",
              "<style scoped>\n",
              "    .dataframe tbody tr th:only-of-type {\n",
              "        vertical-align: middle;\n",
              "    }\n",
              "\n",
              "    .dataframe tbody tr th {\n",
              "        vertical-align: top;\n",
              "    }\n",
              "\n",
              "    .dataframe thead th {\n",
              "        text-align: right;\n",
              "    }\n",
              "</style>\n",
              "<table border=\"1\" class=\"dataframe\">\n",
              "  <thead>\n",
              "    <tr style=\"text-align: right;\">\n",
              "      <th></th>\n",
              "      <th>Tenure_Months</th>\n",
              "      <th>Monthly_Charges</th>\n",
              "      <th>Churn_Value</th>\n",
              "      <th>Gender_Male</th>\n",
              "      <th>Senior_Citizen_Yes</th>\n",
              "      <th>Partner_Yes</th>\n",
              "      <th>Dependents_Yes</th>\n",
              "      <th>Phone_Service_Yes</th>\n",
              "      <th>Multiple_Lines_Yes</th>\n",
              "      <th>Internet_Service_Fiber optic</th>\n",
              "      <th>Online_Security_Yes</th>\n",
              "      <th>Online_Backup_Yes</th>\n",
              "      <th>Device_Protection_Yes</th>\n",
              "      <th>Tech_Support_Yes</th>\n",
              "      <th>Streaming_TV_Yes</th>\n",
              "      <th>Streaming_Movies_Yes</th>\n",
              "      <th>Contract_One year</th>\n",
              "      <th>Contract_Two year</th>\n",
              "      <th>Payment_Method_Credit card (automatic)</th>\n",
              "      <th>Payment_Method_Electronic check</th>\n",
              "      <th>Payment_Method_Mailed check</th>\n",
              "    </tr>\n",
              "  </thead>\n",
              "  <tbody>\n",
              "    <tr>\n",
              "      <th>0</th>\n",
              "      <td>2</td>\n",
              "      <td>53.85</td>\n",
              "      <td>1</td>\n",
              "      <td>1</td>\n",
              "      <td>0</td>\n",
              "      <td>0</td>\n",
              "      <td>0</td>\n",
              "      <td>1</td>\n",
              "      <td>0</td>\n",
              "      <td>0</td>\n",
              "      <td>1</td>\n",
              "      <td>1</td>\n",
              "      <td>0</td>\n",
              "      <td>0</td>\n",
              "      <td>0</td>\n",
              "      <td>0</td>\n",
              "      <td>0</td>\n",
              "      <td>0</td>\n",
              "      <td>0</td>\n",
              "      <td>0</td>\n",
              "      <td>1</td>\n",
              "    </tr>\n",
              "    <tr>\n",
              "      <th>1</th>\n",
              "      <td>2</td>\n",
              "      <td>70.70</td>\n",
              "      <td>1</td>\n",
              "      <td>0</td>\n",
              "      <td>0</td>\n",
              "      <td>0</td>\n",
              "      <td>1</td>\n",
              "      <td>1</td>\n",
              "      <td>0</td>\n",
              "      <td>1</td>\n",
              "      <td>0</td>\n",
              "      <td>0</td>\n",
              "      <td>0</td>\n",
              "      <td>0</td>\n",
              "      <td>0</td>\n",
              "      <td>0</td>\n",
              "      <td>0</td>\n",
              "      <td>0</td>\n",
              "      <td>0</td>\n",
              "      <td>1</td>\n",
              "      <td>0</td>\n",
              "    </tr>\n",
              "    <tr>\n",
              "      <th>2</th>\n",
              "      <td>8</td>\n",
              "      <td>99.65</td>\n",
              "      <td>1</td>\n",
              "      <td>0</td>\n",
              "      <td>0</td>\n",
              "      <td>0</td>\n",
              "      <td>1</td>\n",
              "      <td>1</td>\n",
              "      <td>1</td>\n",
              "      <td>1</td>\n",
              "      <td>0</td>\n",
              "      <td>0</td>\n",
              "      <td>1</td>\n",
              "      <td>0</td>\n",
              "      <td>1</td>\n",
              "      <td>1</td>\n",
              "      <td>0</td>\n",
              "      <td>0</td>\n",
              "      <td>0</td>\n",
              "      <td>1</td>\n",
              "      <td>0</td>\n",
              "    </tr>\n",
              "    <tr>\n",
              "      <th>3</th>\n",
              "      <td>28</td>\n",
              "      <td>104.80</td>\n",
              "      <td>1</td>\n",
              "      <td>0</td>\n",
              "      <td>0</td>\n",
              "      <td>1</td>\n",
              "      <td>1</td>\n",
              "      <td>1</td>\n",
              "      <td>1</td>\n",
              "      <td>1</td>\n",
              "      <td>0</td>\n",
              "      <td>0</td>\n",
              "      <td>1</td>\n",
              "      <td>1</td>\n",
              "      <td>1</td>\n",
              "      <td>1</td>\n",
              "      <td>0</td>\n",
              "      <td>0</td>\n",
              "      <td>0</td>\n",
              "      <td>1</td>\n",
              "      <td>0</td>\n",
              "    </tr>\n",
              "    <tr>\n",
              "      <th>4</th>\n",
              "      <td>49</td>\n",
              "      <td>103.70</td>\n",
              "      <td>1</td>\n",
              "      <td>1</td>\n",
              "      <td>0</td>\n",
              "      <td>0</td>\n",
              "      <td>1</td>\n",
              "      <td>1</td>\n",
              "      <td>1</td>\n",
              "      <td>1</td>\n",
              "      <td>0</td>\n",
              "      <td>1</td>\n",
              "      <td>1</td>\n",
              "      <td>0</td>\n",
              "      <td>1</td>\n",
              "      <td>1</td>\n",
              "      <td>0</td>\n",
              "      <td>0</td>\n",
              "      <td>0</td>\n",
              "      <td>0</td>\n",
              "      <td>0</td>\n",
              "    </tr>\n",
              "  </tbody>\n",
              "</table>\n",
              "</div>"
            ],
            "text/plain": [
              "   Tenure_Months  ...  Payment_Method_Mailed check\n",
              "0              2  ...                            1\n",
              "1              2  ...                            0\n",
              "2              8  ...                            0\n",
              "3             28  ...                            0\n",
              "4             49  ...                            0\n",
              "\n",
              "[5 rows x 21 columns]"
            ]
          },
          "metadata": {
            "tags": []
          },
          "execution_count": 729
        }
      ]
    },
    {
      "cell_type": "markdown",
      "metadata": {
        "id": "DY_R_EEfJMUe"
      },
      "source": [
        "#### 3. Visualize the Data After Features Engineer:"
      ]
    },
    {
      "cell_type": "code",
      "metadata": {
        "colab": {
          "base_uri": "https://localhost:8080/",
          "height": 444
        },
        "id": "XiHs3XhxUrBI",
        "outputId": "d59916cc-9e8a-458f-85db-bb8f8a7206b4"
      },
      "source": [
        " # visualize the data after feature engineer\n",
        "plt.figure(figsize=(7,7))\n",
        "w = pd.qcut(data.Tenure_Months,4)\n",
        "sns.barplot(x=w ,y='Churn_Value', ci=None, data=data)\n",
        "plt.show()\n"
      ],
      "execution_count": 730,
      "outputs": [
        {
          "output_type": "display_data",
          "data": {
            "image/png": "[encoded data removed]",
            "text/plain": [
              "<Figure size 504x504 with 1 Axes>"
            ]
          },
          "metadata": {
            "tags": [],
            "needs_background": "light"
          }
        }
      ]
    },
    {
      "cell_type": "markdown",
      "metadata": {
        "id": "9EFfsnQTUiCn"
      },
      "source": [
        "New clients are more likely to churn"
      ]
    },
    {
      "cell_type": "code",
      "metadata": {
        "colab": {
          "base_uri": "https://localhost:8080/",
          "height": 444
        },
        "id": "PKBzGUE8UjMz",
        "outputId": "d82a7c0f-96a7-437f-919a-978c26c1905b"
      },
      "source": [
        "plt.figure(figsize=(7,7))\n",
        "w = pd.qcut(data.Monthly_Charges,6)                   \n",
        "sns.barplot(x= w,y='Churn_Value', ci=None, data=data)\n",
        "plt.show()"
      ],
      "execution_count": 731,
      "outputs": [
        {
          "output_type": "display_data",
          "data": {
            "image/png": "[encoded data removed]",
            "text/plain": [
              "<Figure size 504x504 with 1 Axes>"
            ]
          },
          "metadata": {
            "tags": [],
            "needs_background": "light"
          }
        }
      ]
    },
    {
      "cell_type": "markdown",
      "metadata": {
        "id": "q_8-hdZwUkBw"
      },
      "source": [
        "Clients with higher Monthly Charges are also more likely to churn"
      ]
    },
    {
      "cell_type": "code",
      "metadata": {
        "colab": {
          "base_uri": "https://localhost:8080/",
          "height": 880
        },
        "id": "hmE_o747JMUf",
        "outputId": "12631155-4ae3-4a34-d8b5-9ed69167527f"
      },
      "source": [
        "data.hist(figsize=(20,15), color = 'b', alpha= 0.5 ,grid= False)\n",
        "plt.show()"
      ],
      "execution_count": 732,
      "outputs": [
        {
          "output_type": "display_data",
          "data": {
            "image/png": "[encoded data removed]",
            "text/plain": [
              "<Figure size 1440x1080 with 25 Axes>"
            ]
          },
          "metadata": {
            "tags": [],
            "needs_background": "light"
          }
        }
      ]
    },
    {
      "cell_type": "markdown",
      "metadata": {
        "id": "195s5toCaYkN"
      },
      "source": [
        "## Build the model "
      ]
    },
    {
      "cell_type": "markdown",
      "metadata": {
        "id": "VGw_c4fPHm6F"
      },
      "source": [
        "#### 3.1 Determine the Data  Target :"
      ]
    },
    {
      "cell_type": "code",
      "metadata": {
        "colab": {
          "base_uri": "https://localhost:8080/"
        },
        "id": "Ap4cSy9UHZwA",
        "outputId": "5bd96130-69a9-49d1-e660-c2cd5ffccc41"
      },
      "source": [
        "# Creating X features, Y responce varible\n",
        "X = data.drop(columns=['Churn_Value'])\n",
        "Y = data.Churn_Value\n",
        "Y"
      ],
      "execution_count": 733,
      "outputs": [
        {
          "output_type": "execute_result",
          "data": {
            "text/plain": [
              "0       1\n",
              "1       1\n",
              "2       1\n",
              "3       1\n",
              "4       1\n",
              "       ..\n",
              "7038    0\n",
              "7039    0\n",
              "7040    0\n",
              "7041    0\n",
              "7042    0\n",
              "Name: Churn_Value, Length: 7043, dtype: int64"
            ]
          },
          "metadata": {
            "tags": []
          },
          "execution_count": 733
        }
      ]
    },
    {
      "cell_type": "code",
      "metadata": {
        "colab": {
          "base_uri": "https://localhost:8080/",
          "height": 142
        },
        "id": "pWTZjxt7HyWc",
        "outputId": "bf5c90b7-bfc7-4360-d261-428accb4e655"
      },
      "source": [
        "X.loc[[7042]]\n"
      ],
      "execution_count": 734,
      "outputs": [
        {
          "output_type": "execute_result",
          "data": {
            "text/html": [
              "<div>\n",
              "<style scoped>\n",
              "    .dataframe tbody tr th:only-of-type {\n",
              "        vertical-align: middle;\n",
              "    }\n",
              "\n",
              "    .dataframe tbody tr th {\n",
              "        vertical-align: top;\n",
              "    }\n",
              "\n",
              "    .dataframe thead th {\n",
              "        text-align: right;\n",
              "    }\n",
              "</style>\n",
              "<table border=\"1\" class=\"dataframe\">\n",
              "  <thead>\n",
              "    <tr style=\"text-align: right;\">\n",
              "      <th></th>\n",
              "      <th>Tenure_Months</th>\n",
              "      <th>Monthly_Charges</th>\n",
              "      <th>Gender_Male</th>\n",
              "      <th>Senior_Citizen_Yes</th>\n",
              "      <th>Partner_Yes</th>\n",
              "      <th>Dependents_Yes</th>\n",
              "      <th>Phone_Service_Yes</th>\n",
              "      <th>Multiple_Lines_Yes</th>\n",
              "      <th>Internet_Service_Fiber optic</th>\n",
              "      <th>Online_Security_Yes</th>\n",
              "      <th>Online_Backup_Yes</th>\n",
              "      <th>Device_Protection_Yes</th>\n",
              "      <th>Tech_Support_Yes</th>\n",
              "      <th>Streaming_TV_Yes</th>\n",
              "      <th>Streaming_Movies_Yes</th>\n",
              "      <th>Contract_One year</th>\n",
              "      <th>Contract_Two year</th>\n",
              "      <th>Payment_Method_Credit card (automatic)</th>\n",
              "      <th>Payment_Method_Electronic check</th>\n",
              "      <th>Payment_Method_Mailed check</th>\n",
              "    </tr>\n",
              "  </thead>\n",
              "  <tbody>\n",
              "    <tr>\n",
              "      <th>7042</th>\n",
              "      <td>66</td>\n",
              "      <td>105.65</td>\n",
              "      <td>1</td>\n",
              "      <td>0</td>\n",
              "      <td>0</td>\n",
              "      <td>0</td>\n",
              "      <td>1</td>\n",
              "      <td>0</td>\n",
              "      <td>1</td>\n",
              "      <td>1</td>\n",
              "      <td>0</td>\n",
              "      <td>1</td>\n",
              "      <td>1</td>\n",
              "      <td>1</td>\n",
              "      <td>1</td>\n",
              "      <td>0</td>\n",
              "      <td>1</td>\n",
              "      <td>0</td>\n",
              "      <td>0</td>\n",
              "      <td>0</td>\n",
              "    </tr>\n",
              "  </tbody>\n",
              "</table>\n",
              "</div>"
            ],
            "text/plain": [
              "      Tenure_Months  ...  Payment_Method_Mailed check\n",
              "7042             66  ...                            0\n",
              "\n",
              "[1 rows x 20 columns]"
            ]
          },
          "metadata": {
            "tags": []
          },
          "execution_count": 734
        }
      ]
    },
    {
      "cell_type": "markdown",
      "metadata": {
        "id": "RlCNwey5Y7aP"
      },
      "source": [
        "#### 3.2 Undersampling using SMOT Adasyn:"
      ]
    },
    {
      "cell_type": "code",
      "metadata": {
        "colab": {
          "base_uri": "https://localhost:8080/",
          "height": 158
        },
        "id": "cPpgiD8keHZV",
        "outputId": "fa8b379a-66bc-49a3-c703-577b3eb4af8e"
      },
      "source": [
        "#def plot_2d_space(X, y, label='Classes'):   \n",
        "    #colors = ['#1F77B4', '#FF7F0E']\n",
        "    #markers = ['o', 's']\n",
        "    #for l, c, m in zip(np.unique(Y), colors, markers):\n",
        "        #plt.scatter(\n",
        "            #X[y==l, 0],\n",
        "            #X[y==l, 1],\n",
        "            #c=c, label=l, marker=m\n",
        "        )\n",
        "    #plt.title(label)\n",
        "    #plt.legend(loc='upper right')\n",
        "    #plt.show()"
      ],
      "execution_count": 735,
      "outputs": [
        {
          "output_type": "error",
          "ename": "IndentationError",
          "evalue": "ignored",
          "traceback": [
            "\u001b[0;36m  File \u001b[0;32m\"<ipython-input-735-1a1384fd79ae>\"\u001b[0;36m, line \u001b[0;32m9\u001b[0m\n\u001b[0;31m    )\u001b[0m\n\u001b[0m    ^\u001b[0m\n\u001b[0;31mIndentationError\u001b[0m\u001b[0;31m:\u001b[0m unexpected indent\n"
          ]
        }
      ]
    },
    {
      "cell_type": "code",
      "metadata": {
        "id": "wasOM7wMeXrR"
      },
      "source": [
        "plot_2d_space(int(X), Y, 'Imbalanced dataset (2 PCA components)')"
      ],
      "execution_count": null,
      "outputs": []
    },
    {
      "cell_type": "code",
      "metadata": {
        "colab": {
          "base_uri": "https://localhost:8080/",
          "height": 296
        },
        "id": "JKF94Hr3bguZ",
        "outputId": "d7c742dd-6191-4170-e9d2-af9da6db90fd"
      },
      "source": [
        "sns.countplot(Y, data=data)\n",
        "plt.title('Unbalanced Data')\n",
        "plt.show()"
      ],
      "execution_count": 737,
      "outputs": [
        {
          "output_type": "display_data",
          "data": {
            "image/png": "[encoded data removed]",
            "text/plain": [
              "<Figure size 432x288 with 1 Axes>"
            ]
          },
          "metadata": {
            "tags": [],
            "needs_background": "light"
          }
        }
      ]
    },
    {
      "cell_type": "code",
      "metadata": {
        "colab": {
          "base_uri": "https://localhost:8080/"
        },
        "id": "wiljkvTWwuJC",
        "outputId": "c1dd16ef-ab12-43cd-c3e4-2802bf5dbf5c"
      },
      "source": [
        "\n",
        "counter_before= Counter(Y)\n",
        "print('Before',counter_before)\n",
        "# oversampling the train dataset using ADASYN\n",
        "\n",
        "ada= ADASYN(random_state=130)\n",
        "x, y = ada.fit_resample(X,Y)\n",
        "\n",
        "counter_after = Counter(y)\n",
        "\n",
        "print('After',counter_after)"
      ],
      "execution_count": 738,
      "outputs": [
        {
          "output_type": "stream",
          "text": [
            "Before Counter({0: 5174, 1: 1869})\n",
            "After Counter({0: 5174, 1: 5125})\n"
          ],
          "name": "stdout"
        }
      ]
    },
    {
      "cell_type": "code",
      "metadata": {
        "colab": {
          "base_uri": "https://localhost:8080/"
        },
        "id": "P-Q3HJvzJZeo",
        "outputId": "88f587c4-6009-42bd-ad67-a6212ada224c"
      },
      "source": [
        "print(x.shape)\n",
        "print(y.shape)"
      ],
      "execution_count": 739,
      "outputs": [
        {
          "output_type": "stream",
          "text": [
            "(10299, 20)\n",
            "(10299,)\n"
          ],
          "name": "stdout"
        }
      ]
    },
    {
      "cell_type": "code",
      "metadata": {
        "colab": {
          "base_uri": "https://localhost:8080/",
          "height": 282
        },
        "id": "svh4Nfmrbx79",
        "outputId": "1afd229b-51a4-4dfe-a90a-280a3064fb99"
      },
      "source": [
        "sns.countplot(y_train_ada, data=data)\n",
        "plt.title('Balanced Data')\n",
        "plt.show()"
      ],
      "execution_count": 742,
      "outputs": [
        {
          "output_type": "display_data",
          "data": {
            "image/png": "[encoded data removed]",
            "text/plain": [
              "<Figure size 432x288 with 1 Axes>"
            ]
          },
          "metadata": {
            "tags": [],
            "needs_background": "light"
          }
        }
      ]
    },
    {
      "cell_type": "markdown",
      "metadata": {
        "id": "B5yppqAeJMUl"
      },
      "source": [
        "#### 3.3 Train & test set\n"
      ]
    },
    {
      "cell_type": "code",
      "metadata": {
        "id": "i6eFhYRdx_OX"
      },
      "source": [
        "x_train, x_test, y_train, y_test = train_test_split(x,y, test_size=0.3, random_state=3)"
      ],
      "execution_count": null,
      "outputs": []
    },
    {
      "cell_type": "code",
      "metadata": {
        "id": "qeNx6CuSZDDx"
      },
      "source": [
        "print(x_train.shape)\n",
        "print(x_test.shape)\n",
        "print(y_train.shape)\n",
        "print(y_test.shape)"
      ],
      "execution_count": null,
      "outputs": []
    },
    {
      "cell_type": "markdown",
      "metadata": {
        "id": "7gvpbw20q89G"
      },
      "source": [
        "#### 3.3 Train the model & Define the hyperparameters and optimizer:"
      ]
    },
    {
      "cell_type": "markdown",
      "metadata": {
        "id": "_HBPyI1YiJVA"
      },
      "source": [
        "#### 3.3.A  Tree base Model "
      ]
    },
    {
      "cell_type": "markdown",
      "metadata": {
        "id": "ukqMBtcJE2-A"
      },
      "source": [
        "###### A.1 Dession Tree Model :"
      ]
    },
    {
      "cell_type": "code",
      "metadata": {
        "id": "nECiUh7yEzcJ"
      },
      "source": [
        "depth_grid = np.arange(1,21)\n",
        "min_samples_leaf_grid = np.arange(1,10) #31\n",
        "max_leaf_nodes_grid = np.arange(2,10)#21\n",
        "parameters = {'max_depth':depth_grid, 'min_samples_leaf':min_samples_leaf_grid, 'max_leaf_nodes':max_leaf_nodes_grid}"
      ],
      "execution_count": null,
      "outputs": []
    },
    {
      "cell_type": "code",
      "metadata": {
        "id": "TVq_YhmGFjBy"
      },
      "source": [
        "gridCV = GridSearchCV(DecisionTreeClassifier(), parameters, cv=10, n_jobs = -1)\n",
        "gridCV.fit(x_train, y_train);\n",
        "best_depth = gridCV.best_params_['max_depth']\n",
        "best_min_samples_leaf = gridCV.best_params_['min_samples_leaf']\n",
        "best_max_leaf_nodes = gridCV.best_params_['max_leaf_nodes']"
      ],
      "execution_count": null,
      "outputs": []
    },
    {
      "cell_type": "code",
      "metadata": {
        "id": "aP8dn28fFjGV"
      },
      "source": [
        "print(\"Tree best depth : \" + str(best_depth))\n",
        "print(\"Tree best min_samples_leaf : \" + str(best_min_samples_leaf))\n",
        "print(\"Tree best max_leaf_nodes : \" + str(best_max_leaf_nodes))"
      ],
      "execution_count": null,
      "outputs": []
    },
    {
      "cell_type": "code",
      "metadata": {
        "id": "8jy6Ko5uEzf6"
      },
      "source": [
        "DTC = DecisionTreeClassifier(max_depth=7,min_samples_leaf=30,max_leaf_nodes=20)\n",
        "DTC.fit(x_train, y_train);\n",
        "Y_pred = DTC.predict(x_test)\n",
        "print( \"Tree best accuracy : % \" + str(np.round(metrics.accuracy_score(y_test,Y_pred)*100,3)))"
      ],
      "execution_count": null,
      "outputs": []
    },
    {
      "cell_type": "markdown",
      "metadata": {
        "id": "j1ybOroTQznE"
      },
      "source": [
        "###### A.2 Random Forest Model :"
      ]
    },
    {
      "cell_type": "code",
      "metadata": {
        "id": "i2QHqQ5uLd4H"
      },
      "source": [
        "n_estimators_grid = np.arange(20, 100,2)\n",
        "depth_grid = np.arange(1, 21)\n",
        "min_samples_leaf_grid = np.arange(1,21)\n",
        "\n",
        "parameters = {'n_estimators': n_estimators_grid, 'max_depth': depth_grid, 'min_samples_leaf':min_samples_leaf_grid}\n",
        "\n",
        "gridCV = GridSearchCV(RandomForestClassifier(), param_grid=parameters, cv=10, n_jobs=-1)\n",
        "gridCV.fit(x_train, y_train)\n",
        "\n"
      ],
      "execution_count": null,
      "outputs": []
    },
    {
      "cell_type": "code",
      "metadata": {
        "id": "NTbgTOkyKeZ5"
      },
      "source": [
        "best_n_estim = gridCV.best_params_['n_estimators']\n",
        "best_depth = gridCV.best_params_['max_depth']\n",
        "best_min_samples_leaf = gridCV.best_params_['min_samples_leaf']\n",
        "\n",
        "print(\"Random Forest best n_estimator : \" + str(best_n_estim))\n",
        "print(\"Random Forest best max_depth : \" + str(best_depth))\n",
        "print(\"Random Forest best min_samples_leaf : \" + str(best_min_samples_leaf))"
      ],
      "execution_count": null,
      "outputs": []
    },
    {
      "cell_type": "code",
      "metadata": {
        "id": "ipsbxF_9LeAP"
      },
      "source": [
        "RF_best = RandomForestClassifier(n_estimators = 30 ,max_depth = 7, min_samples_leaf=20  ,random_state=123)\n",
        "RF_best.fit(x_train, y_train)\n",
        "Y_pred = RF_best.predict(x_test)\n",
        "print ( )\n",
        "print( \"Random Forest best accuracy : %\" + str(np.round(metrics.accuracy_score(y_test,Y_pred)*100,3)))"
      ],
      "execution_count": null,
      "outputs": []
    },
    {
      "cell_type": "code",
      "metadata": {
        "id": "F77H8z1a9PHx"
      },
      "source": [
        "# Plot features importances\n",
        "imp = pd.Series(data=RF_best .feature_importances_, index=X.columns).sort_values(ascending=False)\n",
        "plt.figure(figsize=(10,12))\n",
        "plt.title(\"Feature importance\")\n",
        "ax = sns.barplot(y=imp.index, x=imp.values, palette=\"Blues_d\", orient='h')"
      ],
      "execution_count": null,
      "outputs": []
    },
    {
      "cell_type": "markdown",
      "metadata": {
        "id": "k_xaTSxLYli_"
      },
      "source": [
        "###### A.3 Gradient Boosting Classifier Model : "
      ]
    },
    {
      "cell_type": "code",
      "metadata": {
        "id": "2lWEt5CBEzVU"
      },
      "source": [
        "n_estimators_grid = np.arange(20, 100,2)\n",
        "learn_rate =0.02*np.arange(1, 50)\n",
        "max_depth = np.arange(1,10)\n",
        "\n",
        "parameters = {'n_estimators': n_estimators_grid, 'learning_rate': learn_rate, 'max_depth':max_depth}\n",
        "\n",
        "gridCV = GridSearchCV(GradientBoostingClassifier(), param_grid=parameters, cv=10, n_jobs=-1)\n",
        "gridCV.fit(x_train, y_train)\n",
        "\n"
      ],
      "execution_count": null,
      "outputs": []
    },
    {
      "cell_type": "code",
      "metadata": {
        "id": "vJDSLGgtgCvH"
      },
      "source": [
        "best_n_estim = gridCV.best_params_['n_estimators']\n",
        "best_depth = gridCV.best_params_['max_depth']\n",
        "best_learning_rate = gridCV.best_params_['learning_rate']\n",
        "\n",
        "print(\"Random Forest best n_estimator : \" + str(best_n_estim))\n",
        "print(\"Random Forest best max_depth : \" + str(best_depth))\n",
        "print(\"Random Forest best min_samples_leaf : \" + str(best_learning_rate))"
      ],
      "execution_count": null,
      "outputs": []
    },
    {
      "cell_type": "code",
      "metadata": {
        "id": "a9NCpcQ1EzkN"
      },
      "source": [
        "\n",
        "GBoost = GradientBoostingClassifier(n_estimators= 30 , learning_rate= 0.1, max_depth= 15)\n",
        "GBoost.fit(x_train, y_train)\n",
        "y_pred= GBoost.predict(x_test)\n",
        "print( \"Gradient Boosting Classifier : %\" + str(np.round(metrics.accuracy_score(y_test,Y_pred)*100,3)))\n",
        "print('Gradient Boosting score', str(np.around(GBoost.score(x_test, y_test)*100,3)) )"
      ],
      "execution_count": null,
      "outputs": []
    },
    {
      "cell_type": "markdown",
      "metadata": {
        "id": "WHKuJr0dRVF5"
      },
      "source": [
        "###### A.4 Ada Boost Classifier Model:"
      ]
    },
    {
      "cell_type": "code",
      "metadata": {
        "id": "63chuIKNRGI-"
      },
      "source": [
        "my_max_depth = 15 \n",
        "my_learn_rate = 0.01                                           \n",
        "n_estimators_grid = np.arange(50, 81, 2)\n",
        "parameters = {'n_estimators': n_estimators_grid}\n",
        "AB = AdaBoostClassifier(base_estimator=DecisionTreeClassifier(max_depth=my_max_depth), learning_rate=my_learn_rate)   \n",
        "gridCV = GridSearchCV(AB, param_grid=parameters, cv=10, n_jobs = -1)\n",
        "gridCV.fit(x_train, y_train)\n",
        "best_n_estim = gridCV.best_params_['n_estimators']"
      ],
      "execution_count": null,
      "outputs": []
    },
    {
      "cell_type": "code",
      "metadata": {
        "id": "jaMIeDh6RGLw"
      },
      "source": [
        "print(\"AdaBoost best n estimator : \" + str(best_n_estim))"
      ],
      "execution_count": null,
      "outputs": []
    },
    {
      "cell_type": "code",
      "metadata": {
        "id": "wn5TYElNRGPW"
      },
      "source": [
        "AB_best = AdaBoostClassifier(base_estimator=DecisionTreeClassifier(max_depth=15),n_estimators=55,learning_rate= 0.01,random_state=123)\n",
        "AB_best.fit(x_train, y_train)\n",
        "Y_pred = AB_best.predict(x_test)\n",
        "print( \"AdaBoost accuracy : % \" + str(np.round(metrics.accuracy_score(y_test,Y_pred)*100,3)))"
      ],
      "execution_count": null,
      "outputs": []
    },
    {
      "cell_type": "markdown",
      "metadata": {
        "id": "ZsZ0DhZmSQO-"
      },
      "source": [
        "###### A.5 Extreme Gradient Boosting Classification Model :"
      ]
    },
    {
      "cell_type": "code",
      "metadata": {
        "id": "O62ssTzPL8tT"
      },
      "source": [
        "n_estimators_grid = np.arange(20, 500,2)\n",
        "learn_Rate = 0.02*np.arange(1, 50)\n",
        "max_depth = np.arange(1,21)\n",
        "\n",
        "parameters = {'n_estimators': n_estimators_grid, 'learning_Rate': learn_Rate, 'max_depth':max_depth}\n",
        "\n",
        "gridCV = GridSearchCV( XGBClassifier(), param_grid=parameters, cv=10, n_jobs=-1)\n",
        "gridCV.fit(x_train, y_train)"
      ],
      "execution_count": null,
      "outputs": []
    },
    {
      "cell_type": "code",
      "metadata": {
        "id": "t0xhyHaqhG2-"
      },
      "source": [
        "best_n_estim = gridCV.best_params_['n_estimators']\n",
        "best_depth = gridCV.best_params_['max_depth']\n",
        "best_learning_rate = gridCV.best_params_['learning_rate']\n",
        "\n",
        "print(\"Random Forest best n_estimator : \" + str(best_n_estim))\n",
        "print(\"Random Forest best max_depth : \" + str(best_depth))\n",
        "print(\"Random Forest best min_samples_leaf : \" + str(best_learning_rate))"
      ],
      "execution_count": null,
      "outputs": []
    },
    {
      "cell_type": "code",
      "metadata": {
        "id": "5Vd0QLSvRGXf"
      },
      "source": [
        "# Classification by XGBoost.\n",
        "XGBC = XGBClassifier(n_estimator = 500, learning_Rate = 0.001, max_depth = 10, subsample= 0.3,  random_state=123)\n",
        "XGBC.fit(x_train, y_train)\n",
        "Y_pred = XGBC.predict(x_test)\n",
        "print( \"XGBoost accuracy : %\" + str(np.round(metrics.accuracy_score(y_test,Y_pred)*100,3)))"
      ],
      "execution_count": null,
      "outputs": []
    },
    {
      "cell_type": "markdown",
      "metadata": {
        "id": "UnGW3kht7IPd"
      },
      "source": [
        "###### A.6 lgbmclassifier classifier Model :"
      ]
    },
    {
      "cell_type": "code",
      "metadata": {
        "id": "aaNykrOuHKB3"
      },
      "source": [
        "LGB = lgb.LGBMClassifier()\n",
        "LGB.fit(x_train, y_train)\n",
        "print(\"LGBM Classifier Score : %\",str(np.round(LGB.score(x_test, y_test)*100,3)) )\n",
        "Y_pred = LGB.predict(x_test)\n",
        "print( \"LGBM Classifier accuracy : %\" + str(np.round(metrics.accuracy_score(y_test,Y_pred)*100,3)))"
      ],
      "execution_count": null,
      "outputs": []
    },
    {
      "cell_type": "markdown",
      "metadata": {
        "id": "afIT676spVEo"
      },
      "source": [
        "###### A.7 Voting Classifier"
      ]
    },
    {
      "cell_type": "code",
      "metadata": {
        "id": "JhIMkDsKHKVz"
      },
      "source": [
        "DTC = DecisionTreeClassifier( max_leaf_nodes=100) \n",
        "DTC.fit(x_train, y_train)\n",
        "Y_pred = DTC.predict(x_test)\n",
        "print( \"Tree accuracy : %\" + str(np.round(metrics.accuracy_score(y_test,Y_pred)*100,3)))"
      ],
      "execution_count": null,
      "outputs": []
    },
    {
      "cell_type": "code",
      "metadata": {
        "id": "a1ixwmSjpjQz"
      },
      "source": [
        "KNN = KNeighborsClassifier(n_neighbors=2)\n",
        "KNN.fit(x_train, y_train)\n",
        "Y_pred = KNN.predict(x_test)\n",
        "print( \"KNN accuracy : %\" + str(np.round(metrics.accuracy_score(y_test,Y_pred)*100,3)))"
      ],
      "execution_count": null,
      "outputs": []
    },
    {
      "cell_type": "code",
      "metadata": {
        "id": "uwC1Hs4tpjc1"
      },
      "source": [
        "LR = LogisticRegression(solver='lbfgs',max_iter=100, C= 0.1)\n",
        "LR.fit(x_train, y_train)\n",
        "Y_pred = LR.predict(x_test)\n",
        "print( \"Logistic regression accuracy : % \" + str(np.round(metrics.accuracy_score(y_test,Y_pred)*100,3)))"
      ],
      "execution_count": null,
      "outputs": []
    },
    {
      "cell_type": "code",
      "metadata": {
        "id": "igOvY1Bhpju8"
      },
      "source": [
        "VC = VotingClassifier(estimators=[('Tree',DTC),('knn',KNN),('Logistic',LR)],voting='hard') \n",
        "VC.fit(x_train, y_train)\n",
        "Y_pred = VC.predict(x_test)\n",
        "print( \"Hard Voting Classifier Accuracy : % \" + str(np.round(metrics.accuracy_score(y_test,Y_pred)*100,3)))"
      ],
      "execution_count": null,
      "outputs": []
    },
    {
      "cell_type": "code",
      "metadata": {
        "id": "2rs2K3ePpryy"
      },
      "source": [
        "VC = VotingClassifier(estimators=[('Tree',DTC),('knn',KNN),('Logistic',LR)],voting='soft')\n",
        "VC.fit(x_train, y_train)\n",
        "Y_pred = VC.predict(x_test)\n",
        "print( \"Soft Voting Classifier Accuracy : % \" + str(np.round(metrics.accuracy_score(y_test,Y_pred)*100,3)))"
      ],
      "execution_count": null,
      "outputs": []
    },
    {
      "cell_type": "markdown",
      "metadata": {
        "id": "rrvTvLQNJeI5"
      },
      "source": [
        "#### 3.3.B None Tree base Model "
      ]
    },
    {
      "cell_type": "markdown",
      "metadata": {
        "id": "0Kk6VNyxoXeW"
      },
      "source": [
        "###### B. Scaling the Features"
      ]
    },
    {
      "cell_type": "code",
      "metadata": {
        "id": "zQtkj6KQHRAF"
      },
      "source": [
        "#Scaling for non tree model \n",
        "scaler = preprocessing.MinMaxScaler()\n",
        "X= scaler.fit_transform(x)\n",
        "X[0]\n"
      ],
      "execution_count": null,
      "outputs": []
    },
    {
      "cell_type": "markdown",
      "metadata": {
        "id": "wDH3bhFgsV1p"
      },
      "source": [
        "###### B.1 Logistic Regression:"
      ]
    },
    {
      "cell_type": "code",
      "metadata": {
        "id": "uIUjUSPPzJ_o"
      },
      "source": [
        "\n",
        "solvers = ['newton-cg', 'lbfgs', 'liblinear']\n",
        "c_values = [100, 10, 1.0, 0.1, 0.01]\n",
        "\n",
        "parameters = {'solver': solvers, 'max_iter' : max_iters, 'C':c_values }\n",
        "\n",
        "gridCV = GridSearchCV(LogisticRegression(), parameters, cv=10, n_jobs= -1)              \n",
        "gridCV.fit(x_train, y_train)\n",
        "\n",
        "best_C = gridCV.best_params_['C']\n",
        "best_solver = gridCV.best_params_['solver']\n",
        "\n",
        "print ( ' best c parameter',str(best_C) )\n",
        "print ( ' best solver parameter',str(best_solver) )"
      ],
      "execution_count": null,
      "outputs": []
    },
    {
      "cell_type": "code",
      "metadata": {
        "id": "LT8sGv_DzJ8_"
      },
      "source": [
        "# Train and predict.\n",
        "LL = LogisticRegression(solver='lbfgs',max_iter=100, C= 0.1)\n",
        "LL.fit(x_train,y_train)\n",
        "y_pred_test = LL.predict(x_test) \n",
        "\n",
        "print (' Logistic Regression : %',np.round(metrics.accuracy_score(y_test, y_pred_test)*100 ,3))  "
      ],
      "execution_count": null,
      "outputs": []
    },
    {
      "cell_type": "code",
      "metadata": {
        "id": "pkA7nkIs01In"
      },
      "source": [
        "# Confusion matrix.\n",
        "conf_mat = metrics.confusion_matrix(y_test,y_pred_test)\n",
        "print(conf_mat)"
      ],
      "execution_count": null,
      "outputs": []
    },
    {
      "cell_type": "code",
      "metadata": {
        "id": "FFyFKUTbt12p"
      },
      "source": [
        "roc_auc_score(y_train, LL.predict_proba(x_train)[:, 1])\n",
        "\n",
        "print ('AUC for Logistic Regression: %', str( np.around(roc_auc_score(y_train, LL.decision_function(x_train) )*100))  )"
      ],
      "execution_count": null,
      "outputs": []
    },
    {
      "cell_type": "markdown",
      "metadata": {
        "id": "Si6POs1R-d1f"
      },
      "source": [
        "###### B.2 Naive Bayes:"
      ]
    },
    {
      "cell_type": "code",
      "metadata": {
        "id": "ZQsaTHq4Wvvp"
      },
      "source": [
        "GNB = GaussianNB()\n",
        "GNB.fit(x_train,y_train)\n",
        "Y_pred_test = GNB.predict(x_test)\n",
        "\n",
        "accuracy = metrics.accuracy_score(y_test, Y_pred_test)\n",
        "print('Accuracy : %' + str(np.round(accuracy*100,3)))"
      ],
      "execution_count": null,
      "outputs": []
    },
    {
      "cell_type": "code",
      "metadata": {
        "id": "vLFDGWSnWvz6"
      },
      "source": [
        "conf_mat = metrics.confusion_matrix(y_test, Y_pred_test)\n",
        "print(conf_mat)"
      ],
      "execution_count": null,
      "outputs": []
    },
    {
      "cell_type": "markdown",
      "metadata": {
        "id": "Olsxyffcvd_s"
      },
      "source": [
        "###### B.3 Support Vector Machines (SVM):\n"
      ]
    },
    {
      "cell_type": "code",
      "metadata": {
        "id": "L2T_I2My1RCO"
      },
      "source": [
        "C_grid = 0.02*np.arange(1,20)\n",
        "gamma_grid = 0.02*np.arange(1,50)\n",
        "parameters = {'C': C_grid, 'gamma' : gamma_grid}\n",
        "gridCV = GridSearchCV(SVC(kernel='rbf'), parameters, cv=10, n_jobs=-1)        \n",
        "gridCV.fit(x_train, y_train)\n",
        "\n",
        "best_C = gridCV.best_params_['C']\n",
        "best_gamma = gridCV.best_params_['gamma']\n"
      ],
      "execution_count": null,
      "outputs": []
    },
    {
      "cell_type": "code",
      "metadata": {
        "id": "6TD9XzVsv6WQ"
      },
      "source": [
        "print(\"SVM best C : \" + str(best_C))\n",
        "print(\"SVM best gamma : \" + str(best_gamma))"
      ],
      "execution_count": null,
      "outputs": []
    },
    {
      "cell_type": "code",
      "metadata": {
        "id": "gcwSe7CPtvTQ"
      },
      "source": [
        "SVM_best = SVC(kernel='rbf', C=best_C,gamma=best_gamma)\n",
        "SVM_best.fit(x_train, y_train);\n",
        "Y_pred = SVM_best.predict(x_test)\n",
        "print( \"SVM best accuracy : \" + str(np.round(metrics.accuracy_score(y_test,Y_pred),3)))"
      ],
      "execution_count": null,
      "outputs": []
    },
    {
      "cell_type": "code",
      "metadata": {
        "id": "DR39dnsNEf5Z"
      },
      "source": [
        "# Train the Model\n",
        "SVM = SVC(kernel='rbf', C=3,gamma=0.41 , probability=True)\n",
        "SVM.fit(x_train, y_train)\n",
        "Y_pred = SVM.predict(x_test)\n",
        "print( \"SVM accuracy : %\" + str(np.round(metrics.accuracy_score(y_test,Y_pred)*100,3)))\n",
        "\n"
      ],
      "execution_count": null,
      "outputs": []
    },
    {
      "cell_type": "code",
      "metadata": {
        "id": "gEFtCjVWkGPB"
      },
      "source": [
        "#probabilities to find Aria Under the Curve\n",
        "y_prob = SVM.predict_proba(x_test)[:,1] \n",
        "from sklearn.metrics import roc_curve, auc\n",
        "false_positive_rate, true_positive_rate, thresholds = roc_curve(y_test, y_prob)\n",
        "roc_auc = auc(false_positive_rate, true_positive_rate)\n",
        "print('Aria Under the Curve: %',  np.around(roc_auc*100,3))"
      ],
      "execution_count": null,
      "outputs": []
    },
    {
      "cell_type": "code",
      "metadata": {
        "id": "HxB37kmukGgo"
      },
      "source": [
        "# visual the AUC\n",
        "plt.figure(figsize=(10,10))\n",
        "plt.title('Churn ROC')\n",
        "plt.plot(false_positive_rate,true_positive_rate, color='red',label = 'AUC = %0.2f' % roc_auc)\n",
        "plt.legend(loc = 'lower right')\n",
        "plt.plot([0, 1], [0, 1],linestyle='--')\n",
        "plt.plot([0.9, 1], [1, 0.9],linestyle=':')\n",
        "plt.axis('tight')\n",
        "plt.ylabel('True Positive Rate')\n",
        "plt.xlabel('False Positive Rate')\n",
        "plt.show()"
      ],
      "execution_count": null,
      "outputs": []
    },
    {
      "cell_type": "code",
      "metadata": {
        "id": "0tMGR0rYFTHu"
      },
      "source": [
        "# report matrix\n",
        "\n",
        "\n",
        "print(classification_report(y_test, Y_pred))"
      ],
      "execution_count": null,
      "outputs": []
    },
    {
      "cell_type": "markdown",
      "metadata": {
        "id": "ctz78by3P9Zf"
      },
      "source": [
        "###### B.4 Keras Neural Network (Logistic):"
      ]
    },
    {
      "cell_type": "code",
      "metadata": {
        "id": "o88NI8EKPhfn"
      },
      "source": [
        "n_vars = x_train.shape[1]\n",
        "n_epochs = 1250\n",
        "batch_size = 1000\n",
        "learn_rate = 0.0005"
      ],
      "execution_count": null,
      "outputs": []
    },
    {
      "cell_type": "code",
      "metadata": {
        "id": "I1goR6JdSMs1"
      },
      "source": [
        "my_input = Input(shape=(n_vars,))\n",
        "my_output = Dense(units=1,activation='sigmoid')(my_input)"
      ],
      "execution_count": null,
      "outputs": []
    },
    {
      "cell_type": "code",
      "metadata": {
        "id": "ZtwHS8Z3P6-z"
      },
      "source": [
        "my_optimizer=Adam(lr=learn_rate)"
      ],
      "execution_count": null,
      "outputs": []
    },
    {
      "cell_type": "code",
      "metadata": {
        "id": "P3RaXuU-XRFQ"
      },
      "source": [
        "my_model=Model(inputs=my_input,outputs=my_output)"
      ],
      "execution_count": null,
      "outputs": []
    },
    {
      "cell_type": "code",
      "metadata": {
        "id": "5Pl-PY_eCMgs"
      },
      "source": [
        "los=keras.losses.BinaryCrossentropy()\n",
        "my_model.compile(loss=los , optimizer=my_optimizer, metrics=['accuracy'])"
      ],
      "execution_count": null,
      "outputs": []
    },
    {
      "cell_type": "code",
      "metadata": {
        "id": "a5nDjey2Uv7Z"
      },
      "source": [
        "my_model.summary()"
      ],
      "execution_count": null,
      "outputs": []
    },
    {
      "cell_type": "code",
      "metadata": {
        "id": "3n_KHXpJP7Jc"
      },
      "source": [
        "my_summary = my_model.fit(x_train, y_train, epochs=n_epochs, batch_size = batch_size, validation_split = 0.2, verbose = 0)"
      ],
      "execution_count": null,
      "outputs": []
    },
    {
      "cell_type": "code",
      "metadata": {
        "id": "VK-KlorrQzgK"
      },
      "source": [
        "my_summary.history.keys()"
      ],
      "execution_count": null,
      "outputs": []
    },
    {
      "cell_type": "code",
      "metadata": {
        "id": "PrNnceUaTXXf"
      },
      "source": [
        "n_skip = 100 \n",
        "plt.plot(my_summary.history['accuracy'][n_skip:], c=\"b\")\n",
        "plt.plot(my_summary.history['val_accuracy'][n_skip:], c=\"g\")\n",
        "plt.title('Training History')\n",
        "plt.ylabel('MSE')\n",
        "plt.xlabel('Epoch')\n",
        "plt.legend(['Train', 'Validation'], loc='upper right')\n",
        "plt.show()"
      ],
      "execution_count": null,
      "outputs": []
    },
    {
      "cell_type": "code",
      "metadata": {
        "id": "U-SbOXa8oo8F"
      },
      "source": [
        "ACC = my_model.evaluate(x_test, y_test, verbose=0)[1]    \n",
        "print(\"NN Accuracy: % {}\".format(np.round(ACC*100,3)))"
      ],
      "execution_count": null,
      "outputs": []
    },
    {
      "cell_type": "markdown",
      "metadata": {
        "id": "3fGKEKLbAVYs"
      },
      "source": [
        "we got high accuracy with SVM Model "
      ]
    },
    {
      "cell_type": "markdown",
      "metadata": {
        "id": "uFt0ca4jBKwi"
      },
      "source": [
        "Prediction Using SVM Model:"
      ]
    },
    {
      "cell_type": "code",
      "metadata": {
        "id": "wkwzOgho03K5"
      },
      "source": [
        "y_test[1000]"
      ],
      "execution_count": null,
      "outputs": []
    },
    {
      "cell_type": "code",
      "metadata": {
        "id": "AjaMsxWl2NAQ"
      },
      "source": [
        "y_pred = SVM.predict(x_test)[1000]\n",
        "if y_pred==0:\n",
        "  print(' customer more likely to churn ')\n",
        "else:\n",
        "  print(' customer more likely to not churn ')"
      ],
      "execution_count": null,
      "outputs": []
    },
    {
      "cell_type": "code",
      "metadata": {
        "id": "LS6_SzEwzDQh"
      },
      "source": [
        "new_pred= input()\n"
      ],
      "execution_count": null,
      "outputs": []
    },
    {
      "cell_type": "code",
      "metadata": {
        "id": "w-DUWIDRNG_O"
      },
      "source": [
        ""
      ],
      "execution_count": null,
      "outputs": []
    },
    {
      "cell_type": "markdown",
      "metadata": {
        "id": "I77-3ZxS2Nnp"
      },
      "source": [
        "\n",
        "\n",
        "\n",
        "\n",
        "\n",
        "---\n",
        "\n",
        "\n",
        "### Conclusion:\n",
        "\n",
        "\n",
        "```\n",
        "- \n",
        "-\n",
        "-\n",
        "\n",
        "```\n",
        "\n",
        "\n",
        "\n",
        "---\n",
        "\n"
      ]
    }
  ]
}