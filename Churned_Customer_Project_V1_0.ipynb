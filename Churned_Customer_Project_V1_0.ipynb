{
  "nbformat": 4,
  "nbformat_minor": 0,
  "metadata": {
    "accelerator": "GPU",
    "colab": {
      "name": "Churned_Customer_Project_V1.0.ipynb",
      "provenance": [],
      "collapsed_sections": [],
      "include_colab_link": true
    },
    "kernelspec": {
      "display_name": "Python 3",
      "language": "python",
      "name": "python3"
    },
    "language_info": {
      "codemirror_mode": {
        "name": "ipython",
        "version": 3
      },
      "file_extension": ".py",
      "mimetype": "text/x-python",
      "name": "python",
      "nbconvert_exporter": "python",
      "pygments_lexer": "ipython3",
      "version": "3.7.3"
    }
  },
  "cells": [
    {
      "cell_type": "markdown",
      "metadata": {
        "id": "view-in-github",
        "colab_type": "text"
      },
      "source": [
        "<a href=\"https://colab.research.google.com/github/saraMuay/Churned_Customer_Project/blob/main/Churned_Customer_Project_V1_0.ipynb\" target=\"_parent\"><img src=\"https://colab.research.google.com/assets/colab-badge.svg\" alt=\"Open In Colab\"/></a>"
      ]
    },
    {
      "cell_type": "markdown",
      "metadata": {
        "id": "n5BHu9CVJMUO"
      },
      "source": [
        "# Telco Churned Customers Prediction Model\n",
        "\n"
      ]
    },
    {
      "cell_type": "markdown",
      "metadata": {
        "id": "aE_wStAHJMUZ"
      },
      "source": [
        "### 1. Import necessary libraries:"
      ]
    },
    {
      "cell_type": "code",
      "metadata": {
        "id": "m5mY45ILJMUa"
      },
      "source": [
        "# Install if necessary.\n",
        "#!pip install keras"
      ],
      "execution_count": null,
      "outputs": []
    },
    {
      "cell_type": "code",
      "metadata": {
        "id": "vLHOVeBVJMUb"
      },
      "source": [
        "import numpy as np\n",
        "import pandas as pd\n",
        "import matplotlib.pyplot as plt\n",
        "from sklearn.datasets import load_files\n",
        "from sklearn import preprocessing\n",
        "from sklearn.model_selection import train_test_split\n",
        "from sklearn.model_selection import GridSearchCV\n",
        "#from sklearn.ensemble import RandomForestClassifier\n",
        "from sklearn.ensemble import GradientBoostingClassifier\n",
        "#from sklearn.model_selection import RepeatedStratifiedKFold\n",
        "from sklearn.linear_model import LogisticRegression\n",
        "from sklearn.svm import SVC\n",
        "from sklearn.naive_bayes import GaussianNB\n",
        "from sklearn.tree import DecisionTreeClassifier\n",
        "from sklearn.ensemble import RandomForestClassifier,AdaBoostClassifier, GradientBoostingClassifier\n",
        "from xgboost import XGBClassifier\n",
        "from sklearn.metrics import roc_auc_score\n",
        "from sklearn import metrics\n",
        "from sklearn.metrics import accuracy_score\n",
        "import keras\n",
        "import keras.utils\n",
        "from keras.models import Model                       # We will use Functional API.\n",
        "from keras.layers import Dense, Input #, Dropout, Activation\n",
        "from keras.optimizers import Adam\n",
        "import warnings   \n",
        "\n",
        "               \n",
        "warnings.filterwarnings('ignore')                    # Turn the warnings off.\n",
        "%matplotlib inline"
      ],
      "execution_count": 2,
      "outputs": []
    },
    {
      "cell_type": "code",
      "metadata": {
        "colab": {
          "base_uri": "https://localhost:8080/"
        },
        "id": "Q6C9S-P23mqo",
        "outputId": "b60e60ed-fcd0-4d7e-c473-0902a83eb73c"
      },
      "source": [
        "# use GPU after activate from the notebook settings\n",
        "%tensorflow_version 2.x\n",
        "import tensorflow as tf\n",
        "device_name = tf.test.gpu_device_name()\n",
        "if device_name != '/device:GPU:0':\n",
        "  raise SystemError('GPU device not found')\n",
        "print('Found GPU at: {}'.format(device_name))"
      ],
      "execution_count": 3,
      "outputs": [
        {
          "output_type": "stream",
          "text": [
            "Found GPU at: /device:GPU:0\n"
          ],
          "name": "stdout"
        }
      ]
    },
    {
      "cell_type": "code",
      "metadata": {
        "colab": {
          "base_uri": "https://localhost:8080/"
        },
        "id": "refHVyS_R3EX",
        "outputId": "f4abe6de-605e-44c8-b2c9-1c5bfebe6282"
      },
      "source": [
        "#Import the dataset to colab files from githup\n",
        "!git clone https://github.com/saraMuay/Churned_Customer_Project.git"
      ],
      "execution_count": 4,
      "outputs": [
        {
          "output_type": "stream",
          "text": [
            "Cloning into 'Churned_Customer_Project'...\n",
            "remote: Enumerating objects: 7, done.\u001b[K\n",
            "remote: Counting objects: 100% (7/7), done.\u001b[K\n",
            "remote: Compressing objects: 100% (7/7), done.\u001b[K\n",
            "remote: Total 7 (delta 0), reused 0 (delta 0), pack-reused 0\u001b[K\n",
            "Unpacking objects: 100% (7/7), done.\n"
          ],
          "name": "stdout"
        }
      ]
    },
    {
      "cell_type": "markdown",
      "metadata": {
        "id": "-HQMfFbZJMUc"
      },
      "source": [
        "#### 1.1. Read in the data:"
      ]
    },
    {
      "cell_type": "markdown",
      "metadata": {
        "id": "yreKKGi-JMUd"
      },
      "source": [
        "More information about the dataset can be found [here](https://community.ibm.com/accelerators/?context=analytics&query=telco%20churn&type=Data&product=Cognos%20Analytics)."
      ]
    },
    {
      "cell_type": "code",
      "metadata": {
        "colab": {
          "base_uri": "https://localhost:8080/",
          "height": 456
        },
        "id": "sPLa-5fKrdU1",
        "outputId": "6e686811-1700-427d-e54d-b159e9c63c56"
      },
      "source": [
        "data = pd.read_csv('https://raw.githubusercontent.com/saraMuay/Churned_Customer_Project/main/Telco_customer_churn.csv')\n",
        "data.head()"
      ],
      "execution_count": 5,
      "outputs": [
        {
          "output_type": "execute_result",
          "data": {
            "text/html": [
              "<div>\n",
              "<style scoped>\n",
              "    .dataframe tbody tr th:only-of-type {\n",
              "        vertical-align: middle;\n",
              "    }\n",
              "\n",
              "    .dataframe tbody tr th {\n",
              "        vertical-align: top;\n",
              "    }\n",
              "\n",
              "    .dataframe thead th {\n",
              "        text-align: right;\n",
              "    }\n",
              "</style>\n",
              "<table border=\"1\" class=\"dataframe\">\n",
              "  <thead>\n",
              "    <tr style=\"text-align: right;\">\n",
              "      <th></th>\n",
              "      <th>CustomerID</th>\n",
              "      <th>Count</th>\n",
              "      <th>Country</th>\n",
              "      <th>State</th>\n",
              "      <th>City</th>\n",
              "      <th>Zip Code</th>\n",
              "      <th>Lat Long</th>\n",
              "      <th>Latitude</th>\n",
              "      <th>Longitude</th>\n",
              "      <th>Gender</th>\n",
              "      <th>Senior Citizen</th>\n",
              "      <th>Partner</th>\n",
              "      <th>Dependents</th>\n",
              "      <th>Tenure Months</th>\n",
              "      <th>Phone Service</th>\n",
              "      <th>Multiple Lines</th>\n",
              "      <th>Internet Service</th>\n",
              "      <th>Online Security</th>\n",
              "      <th>Online Backup</th>\n",
              "      <th>Device Protection</th>\n",
              "      <th>Tech Support</th>\n",
              "      <th>Streaming TV</th>\n",
              "      <th>Streaming Movies</th>\n",
              "      <th>Contract</th>\n",
              "      <th>Paperless Billing</th>\n",
              "      <th>Payment Method</th>\n",
              "      <th>Monthly Charges</th>\n",
              "      <th>Total Charges</th>\n",
              "      <th>Churn Label</th>\n",
              "      <th>Churn Value</th>\n",
              "      <th>Churn Score</th>\n",
              "      <th>CLTV</th>\n",
              "      <th>Churn Reason</th>\n",
              "    </tr>\n",
              "  </thead>\n",
              "  <tbody>\n",
              "    <tr>\n",
              "      <th>0</th>\n",
              "      <td>3668-QPYBK</td>\n",
              "      <td>1</td>\n",
              "      <td>United States</td>\n",
              "      <td>California</td>\n",
              "      <td>Los Angeles</td>\n",
              "      <td>90003</td>\n",
              "      <td>33.964131, -118.272783</td>\n",
              "      <td>33.964131</td>\n",
              "      <td>-118.272783</td>\n",
              "      <td>Male</td>\n",
              "      <td>No</td>\n",
              "      <td>No</td>\n",
              "      <td>No</td>\n",
              "      <td>2</td>\n",
              "      <td>Yes</td>\n",
              "      <td>No</td>\n",
              "      <td>DSL</td>\n",
              "      <td>Yes</td>\n",
              "      <td>Yes</td>\n",
              "      <td>No</td>\n",
              "      <td>No</td>\n",
              "      <td>No</td>\n",
              "      <td>No</td>\n",
              "      <td>Month-to-month</td>\n",
              "      <td>Yes</td>\n",
              "      <td>Mailed check</td>\n",
              "      <td>53.85</td>\n",
              "      <td>108.15</td>\n",
              "      <td>Yes</td>\n",
              "      <td>1</td>\n",
              "      <td>86</td>\n",
              "      <td>3239</td>\n",
              "      <td>Competitor made better offer</td>\n",
              "    </tr>\n",
              "    <tr>\n",
              "      <th>1</th>\n",
              "      <td>9237-HQITU</td>\n",
              "      <td>1</td>\n",
              "      <td>United States</td>\n",
              "      <td>California</td>\n",
              "      <td>Los Angeles</td>\n",
              "      <td>90005</td>\n",
              "      <td>34.059281, -118.30742</td>\n",
              "      <td>34.059281</td>\n",
              "      <td>-118.307420</td>\n",
              "      <td>Female</td>\n",
              "      <td>No</td>\n",
              "      <td>No</td>\n",
              "      <td>Yes</td>\n",
              "      <td>2</td>\n",
              "      <td>Yes</td>\n",
              "      <td>No</td>\n",
              "      <td>Fiber optic</td>\n",
              "      <td>No</td>\n",
              "      <td>No</td>\n",
              "      <td>No</td>\n",
              "      <td>No</td>\n",
              "      <td>No</td>\n",
              "      <td>No</td>\n",
              "      <td>Month-to-month</td>\n",
              "      <td>Yes</td>\n",
              "      <td>Electronic check</td>\n",
              "      <td>70.70</td>\n",
              "      <td>151.65</td>\n",
              "      <td>Yes</td>\n",
              "      <td>1</td>\n",
              "      <td>67</td>\n",
              "      <td>2701</td>\n",
              "      <td>Moved</td>\n",
              "    </tr>\n",
              "    <tr>\n",
              "      <th>2</th>\n",
              "      <td>9305-CDSKC</td>\n",
              "      <td>1</td>\n",
              "      <td>United States</td>\n",
              "      <td>California</td>\n",
              "      <td>Los Angeles</td>\n",
              "      <td>90006</td>\n",
              "      <td>34.048013, -118.293953</td>\n",
              "      <td>34.048013</td>\n",
              "      <td>-118.293953</td>\n",
              "      <td>Female</td>\n",
              "      <td>No</td>\n",
              "      <td>No</td>\n",
              "      <td>Yes</td>\n",
              "      <td>8</td>\n",
              "      <td>Yes</td>\n",
              "      <td>Yes</td>\n",
              "      <td>Fiber optic</td>\n",
              "      <td>No</td>\n",
              "      <td>No</td>\n",
              "      <td>Yes</td>\n",
              "      <td>No</td>\n",
              "      <td>Yes</td>\n",
              "      <td>Yes</td>\n",
              "      <td>Month-to-month</td>\n",
              "      <td>Yes</td>\n",
              "      <td>Electronic check</td>\n",
              "      <td>99.65</td>\n",
              "      <td>820.5</td>\n",
              "      <td>Yes</td>\n",
              "      <td>1</td>\n",
              "      <td>86</td>\n",
              "      <td>5372</td>\n",
              "      <td>Moved</td>\n",
              "    </tr>\n",
              "    <tr>\n",
              "      <th>3</th>\n",
              "      <td>7892-POOKP</td>\n",
              "      <td>1</td>\n",
              "      <td>United States</td>\n",
              "      <td>California</td>\n",
              "      <td>Los Angeles</td>\n",
              "      <td>90010</td>\n",
              "      <td>34.062125, -118.315709</td>\n",
              "      <td>34.062125</td>\n",
              "      <td>-118.315709</td>\n",
              "      <td>Female</td>\n",
              "      <td>No</td>\n",
              "      <td>Yes</td>\n",
              "      <td>Yes</td>\n",
              "      <td>28</td>\n",
              "      <td>Yes</td>\n",
              "      <td>Yes</td>\n",
              "      <td>Fiber optic</td>\n",
              "      <td>No</td>\n",
              "      <td>No</td>\n",
              "      <td>Yes</td>\n",
              "      <td>Yes</td>\n",
              "      <td>Yes</td>\n",
              "      <td>Yes</td>\n",
              "      <td>Month-to-month</td>\n",
              "      <td>Yes</td>\n",
              "      <td>Electronic check</td>\n",
              "      <td>104.80</td>\n",
              "      <td>3046.05</td>\n",
              "      <td>Yes</td>\n",
              "      <td>1</td>\n",
              "      <td>84</td>\n",
              "      <td>5003</td>\n",
              "      <td>Moved</td>\n",
              "    </tr>\n",
              "    <tr>\n",
              "      <th>4</th>\n",
              "      <td>0280-XJGEX</td>\n",
              "      <td>1</td>\n",
              "      <td>United States</td>\n",
              "      <td>California</td>\n",
              "      <td>Los Angeles</td>\n",
              "      <td>90015</td>\n",
              "      <td>34.039224, -118.266293</td>\n",
              "      <td>34.039224</td>\n",
              "      <td>-118.266293</td>\n",
              "      <td>Male</td>\n",
              "      <td>No</td>\n",
              "      <td>No</td>\n",
              "      <td>Yes</td>\n",
              "      <td>49</td>\n",
              "      <td>Yes</td>\n",
              "      <td>Yes</td>\n",
              "      <td>Fiber optic</td>\n",
              "      <td>No</td>\n",
              "      <td>Yes</td>\n",
              "      <td>Yes</td>\n",
              "      <td>No</td>\n",
              "      <td>Yes</td>\n",
              "      <td>Yes</td>\n",
              "      <td>Month-to-month</td>\n",
              "      <td>Yes</td>\n",
              "      <td>Bank transfer (automatic)</td>\n",
              "      <td>103.70</td>\n",
              "      <td>5036.3</td>\n",
              "      <td>Yes</td>\n",
              "      <td>1</td>\n",
              "      <td>89</td>\n",
              "      <td>5340</td>\n",
              "      <td>Competitor had better devices</td>\n",
              "    </tr>\n",
              "  </tbody>\n",
              "</table>\n",
              "</div>"
            ],
            "text/plain": [
              "   CustomerID  Count  ...  CLTV                   Churn Reason\n",
              "0  3668-QPYBK      1  ...  3239   Competitor made better offer\n",
              "1  9237-HQITU      1  ...  2701                          Moved\n",
              "2  9305-CDSKC      1  ...  5372                          Moved\n",
              "3  7892-POOKP      1  ...  5003                          Moved\n",
              "4  0280-XJGEX      1  ...  5340  Competitor had better devices\n",
              "\n",
              "[5 rows x 33 columns]"
            ]
          },
          "metadata": {
            "tags": []
          },
          "execution_count": 5
        }
      ]
    },
    {
      "cell_type": "code",
      "metadata": {
        "colab": {
          "base_uri": "https://localhost:8080/"
        },
        "id": "SPNDkcax9DDA",
        "outputId": "783dfea5-0b6c-4a2c-978d-36c3faa839bd"
      },
      "source": [
        "data.isnull().sum()"
      ],
      "execution_count": 6,
      "outputs": [
        {
          "output_type": "execute_result",
          "data": {
            "text/plain": [
              "CustomerID              0\n",
              "Count                   0\n",
              "Country                 0\n",
              "State                   0\n",
              "City                    0\n",
              "Zip Code                0\n",
              "Lat Long                0\n",
              "Latitude                0\n",
              "Longitude               0\n",
              "Gender                  0\n",
              "Senior Citizen          0\n",
              "Partner                 0\n",
              "Dependents              0\n",
              "Tenure Months           0\n",
              "Phone Service           0\n",
              "Multiple Lines          0\n",
              "Internet Service        0\n",
              "Online Security         0\n",
              "Online Backup           0\n",
              "Device Protection       0\n",
              "Tech Support            0\n",
              "Streaming TV            0\n",
              "Streaming Movies        0\n",
              "Contract                0\n",
              "Paperless Billing       0\n",
              "Payment Method          0\n",
              "Monthly Charges         0\n",
              "Total Charges           0\n",
              "Churn Label             0\n",
              "Churn Value             0\n",
              "Churn Score             0\n",
              "CLTV                    0\n",
              "Churn Reason         5174\n",
              "dtype: int64"
            ]
          },
          "metadata": {
            "tags": []
          },
          "execution_count": 6
        }
      ]
    },
    {
      "cell_type": "code",
      "metadata": {
        "colab": {
          "base_uri": "https://localhost:8080/"
        },
        "id": "J4RSDf-JjnVM",
        "outputId": "701f1b3d-1e6c-4fba-9e3b-ec3656543428"
      },
      "source": [
        "data.shape"
      ],
      "execution_count": 7,
      "outputs": [
        {
          "output_type": "execute_result",
          "data": {
            "text/plain": [
              "(7043, 33)"
            ]
          },
          "metadata": {
            "tags": []
          },
          "execution_count": 7
        }
      ]
    },
    {
      "cell_type": "markdown",
      "metadata": {
        "id": "uWL89k5kvxhy"
      },
      "source": [
        "#### 1.2. Perform EDA:"
      ]
    },
    {
      "cell_type": "code",
      "metadata": {
        "colab": {
          "base_uri": "https://localhost:8080/"
        },
        "id": "bZ7pFn7uvOhk",
        "outputId": "2737b618-67cf-45fb-ad01-14709ea4a4fa"
      },
      "source": [
        "data.info()"
      ],
      "execution_count": 8,
      "outputs": [
        {
          "output_type": "stream",
          "text": [
            "<class 'pandas.core.frame.DataFrame'>\n",
            "RangeIndex: 7043 entries, 0 to 7042\n",
            "Data columns (total 33 columns):\n",
            " #   Column             Non-Null Count  Dtype  \n",
            "---  ------             --------------  -----  \n",
            " 0   CustomerID         7043 non-null   object \n",
            " 1   Count              7043 non-null   int64  \n",
            " 2   Country            7043 non-null   object \n",
            " 3   State              7043 non-null   object \n",
            " 4   City               7043 non-null   object \n",
            " 5   Zip Code           7043 non-null   int64  \n",
            " 6   Lat Long           7043 non-null   object \n",
            " 7   Latitude           7043 non-null   float64\n",
            " 8   Longitude          7043 non-null   float64\n",
            " 9   Gender             7043 non-null   object \n",
            " 10  Senior Citizen     7043 non-null   object \n",
            " 11  Partner            7043 non-null   object \n",
            " 12  Dependents         7043 non-null   object \n",
            " 13  Tenure Months      7043 non-null   int64  \n",
            " 14  Phone Service      7043 non-null   object \n",
            " 15  Multiple Lines     7043 non-null   object \n",
            " 16  Internet Service   7043 non-null   object \n",
            " 17  Online Security    7043 non-null   object \n",
            " 18  Online Backup      7043 non-null   object \n",
            " 19  Device Protection  7043 non-null   object \n",
            " 20  Tech Support       7043 non-null   object \n",
            " 21  Streaming TV       7043 non-null   object \n",
            " 22  Streaming Movies   7043 non-null   object \n",
            " 23  Contract           7043 non-null   object \n",
            " 24  Paperless Billing  7043 non-null   object \n",
            " 25  Payment Method     7043 non-null   object \n",
            " 26  Monthly Charges    7043 non-null   float64\n",
            " 27  Total Charges      7043 non-null   object \n",
            " 28  Churn Label        7043 non-null   object \n",
            " 29  Churn Value        7043 non-null   int64  \n",
            " 30  Churn Score        7043 non-null   int64  \n",
            " 31  CLTV               7043 non-null   int64  \n",
            " 32  Churn Reason       1869 non-null   object \n",
            "dtypes: float64(3), int64(6), object(24)\n",
            "memory usage: 1.8+ MB\n"
          ],
          "name": "stdout"
        }
      ]
    },
    {
      "cell_type": "code",
      "metadata": {
        "colab": {
          "base_uri": "https://localhost:8080/"
        },
        "id": "6xQrDe3KxWEC",
        "outputId": "a14c2a58-9d1e-45aa-b1ea-b97150eca5ee"
      },
      "source": [
        "data['Churn Value'].value_counts()"
      ],
      "execution_count": 9,
      "outputs": [
        {
          "output_type": "execute_result",
          "data": {
            "text/plain": [
              "0    5174\n",
              "1    1869\n",
              "Name: Churn Value, dtype: int64"
            ]
          },
          "metadata": {
            "tags": []
          },
          "execution_count": 9
        }
      ]
    },
    {
      "cell_type": "markdown",
      "metadata": {
        "id": "GXHMRavEySwv"
      },
      "source": [
        "###### In previos result, we observed Unbalanced classes which lead us to perform undersampling for 0 values"
      ]
    },
    {
      "cell_type": "markdown",
      "metadata": {
        "id": "JtqgYagjzy99"
      },
      "source": [
        "#### 2. Data Preprocessing:"
      ]
    },
    {
      "cell_type": "markdown",
      "metadata": {
        "id": "PZ-xpjwOz8vH"
      },
      "source": [
        "##### 2.1 Undersampling:"
      ]
    },
    {
      "cell_type": "code",
      "metadata": {
        "id": "--UmnZJn7kiD"
      },
      "source": [
        "# correct columns names to avoid any error related to it.\n",
        "data.columns = [c.replace(' ', '_') for c in data.columns]"
      ],
      "execution_count": 10,
      "outputs": []
    },
    {
      "cell_type": "markdown",
      "metadata": {
        "id": "EfnVAv-1GRHk"
      },
      "source": [
        "The result above shows that after undersampling, the two classes of gender (male, female) are now balanced. "
      ]
    },
    {
      "cell_type": "code",
      "metadata": {
        "id": "z8LItcH_z2EO"
      },
      "source": [
        "#Re-union the two Churn labes (0,1) after Undersampling\n",
        "#data = pd.concat([df0, df1])"
      ],
      "execution_count": null,
      "outputs": []
    },
    {
      "cell_type": "code",
      "metadata": {
        "id": "0JWoSEcwbXm3"
      },
      "source": [
        "#data['Churn_Value'].value_counts()"
      ],
      "execution_count": null,
      "outputs": []
    },
    {
      "cell_type": "code",
      "metadata": {
        "id": "_ic1-GXcm1QG"
      },
      "source": [
        ""
      ],
      "execution_count": null,
      "outputs": []
    },
    {
      "cell_type": "markdown",
      "metadata": {
        "id": "kEDbb_Pq0a0S"
      },
      "source": [
        "##### 2.2 Drop Unnecessary Columns:"
      ]
    },
    {
      "cell_type": "code",
      "metadata": {
        "id": "seqzVflzytxh"
      },
      "source": [
        "#Removing unnecessary columns\n",
        "#data = data.drop('CustomerID', inplace=True, axis=1)\n",
        "#data = data.drop('Count', inplace=True, axis=1)\n",
        "#data = data.drop('Country', inplace=True, axis=1)\n",
        "#data = data.drop('State', inplace=True, axis=1)\n",
        "#data = data.drop('Zip_Code', inplace=True, axis=1)\n",
        "#data = data.drop('Lat_Long', inplace=True, axis=1)\n",
        "#data = data.drop('Latitude', inplace=True, axis=1)\n",
        "#data = data.drop('Longitude', inplace=True, axis=1)\n",
        "#data = data.drop('Paperless_Billing', inplace=True, axis=1)\n",
        "#data = data.drop('Total_Charges', inplace=True, axis=1)\n",
        "#data = data.drop('Churn_Label', inplace=True, axis=1)\n",
        "#data = data.drop('Churn_Score', inplace=True, axis=1)\n",
        "#data = data.drop('CLTV', inplace=True, axis=1)"
      ],
      "execution_count": null,
      "outputs": []
    },
    {
      "cell_type": "code",
      "metadata": {
        "colab": {
          "base_uri": "https://localhost:8080/",
          "height": 573
        },
        "id": "okYen-LdcVhW",
        "outputId": "a5c1db7d-5504-4a98-da22-ddf99571cf2f"
      },
      "source": [
        "\n",
        "#Removing unnecessary columns\n",
        "data = data.drop(columns = ['CustomerID', 'Count','Country','State', 'City','Zip_Code','Lat_Long','Latitude','Longitude'\n",
        "                            ,'Paperless_Billing','Total_Charges','Churn_Label','Churn_Score','CLTV', 'Churn_Reason'])\n",
        "data"
      ],
      "execution_count": null,
      "outputs": [
        {
          "output_type": "execute_result",
          "data": {
            "text/html": [
              "<div>\n",
              "<style scoped>\n",
              "    .dataframe tbody tr th:only-of-type {\n",
              "        vertical-align: middle;\n",
              "    }\n",
              "\n",
              "    .dataframe tbody tr th {\n",
              "        vertical-align: top;\n",
              "    }\n",
              "\n",
              "    .dataframe thead th {\n",
              "        text-align: right;\n",
              "    }\n",
              "</style>\n",
              "<table border=\"1\" class=\"dataframe\">\n",
              "  <thead>\n",
              "    <tr style=\"text-align: right;\">\n",
              "      <th></th>\n",
              "      <th>Gender</th>\n",
              "      <th>Senior_Citizen</th>\n",
              "      <th>Partner</th>\n",
              "      <th>Dependents</th>\n",
              "      <th>Tenure_Months</th>\n",
              "      <th>Phone_Service</th>\n",
              "      <th>Multiple_Lines</th>\n",
              "      <th>Internet_Service</th>\n",
              "      <th>Online_Security</th>\n",
              "      <th>Online_Backup</th>\n",
              "      <th>Device_Protection</th>\n",
              "      <th>Tech_Support</th>\n",
              "      <th>Streaming_TV</th>\n",
              "      <th>Streaming_Movies</th>\n",
              "      <th>Contract</th>\n",
              "      <th>Payment_Method</th>\n",
              "      <th>Monthly_Charges</th>\n",
              "      <th>Churn_Value</th>\n",
              "    </tr>\n",
              "  </thead>\n",
              "  <tbody>\n",
              "    <tr>\n",
              "      <th>0</th>\n",
              "      <td>Male</td>\n",
              "      <td>No</td>\n",
              "      <td>No</td>\n",
              "      <td>No</td>\n",
              "      <td>2</td>\n",
              "      <td>Yes</td>\n",
              "      <td>No</td>\n",
              "      <td>DSL</td>\n",
              "      <td>Yes</td>\n",
              "      <td>Yes</td>\n",
              "      <td>No</td>\n",
              "      <td>No</td>\n",
              "      <td>No</td>\n",
              "      <td>No</td>\n",
              "      <td>Month-to-month</td>\n",
              "      <td>Mailed check</td>\n",
              "      <td>53.85</td>\n",
              "      <td>1</td>\n",
              "    </tr>\n",
              "    <tr>\n",
              "      <th>1</th>\n",
              "      <td>Female</td>\n",
              "      <td>No</td>\n",
              "      <td>No</td>\n",
              "      <td>Yes</td>\n",
              "      <td>2</td>\n",
              "      <td>Yes</td>\n",
              "      <td>No</td>\n",
              "      <td>Fiber optic</td>\n",
              "      <td>No</td>\n",
              "      <td>No</td>\n",
              "      <td>No</td>\n",
              "      <td>No</td>\n",
              "      <td>No</td>\n",
              "      <td>No</td>\n",
              "      <td>Month-to-month</td>\n",
              "      <td>Electronic check</td>\n",
              "      <td>70.70</td>\n",
              "      <td>1</td>\n",
              "    </tr>\n",
              "    <tr>\n",
              "      <th>2</th>\n",
              "      <td>Female</td>\n",
              "      <td>No</td>\n",
              "      <td>No</td>\n",
              "      <td>Yes</td>\n",
              "      <td>8</td>\n",
              "      <td>Yes</td>\n",
              "      <td>Yes</td>\n",
              "      <td>Fiber optic</td>\n",
              "      <td>No</td>\n",
              "      <td>No</td>\n",
              "      <td>Yes</td>\n",
              "      <td>No</td>\n",
              "      <td>Yes</td>\n",
              "      <td>Yes</td>\n",
              "      <td>Month-to-month</td>\n",
              "      <td>Electronic check</td>\n",
              "      <td>99.65</td>\n",
              "      <td>1</td>\n",
              "    </tr>\n",
              "    <tr>\n",
              "      <th>3</th>\n",
              "      <td>Female</td>\n",
              "      <td>No</td>\n",
              "      <td>Yes</td>\n",
              "      <td>Yes</td>\n",
              "      <td>28</td>\n",
              "      <td>Yes</td>\n",
              "      <td>Yes</td>\n",
              "      <td>Fiber optic</td>\n",
              "      <td>No</td>\n",
              "      <td>No</td>\n",
              "      <td>Yes</td>\n",
              "      <td>Yes</td>\n",
              "      <td>Yes</td>\n",
              "      <td>Yes</td>\n",
              "      <td>Month-to-month</td>\n",
              "      <td>Electronic check</td>\n",
              "      <td>104.80</td>\n",
              "      <td>1</td>\n",
              "    </tr>\n",
              "    <tr>\n",
              "      <th>4</th>\n",
              "      <td>Male</td>\n",
              "      <td>No</td>\n",
              "      <td>No</td>\n",
              "      <td>Yes</td>\n",
              "      <td>49</td>\n",
              "      <td>Yes</td>\n",
              "      <td>Yes</td>\n",
              "      <td>Fiber optic</td>\n",
              "      <td>No</td>\n",
              "      <td>Yes</td>\n",
              "      <td>Yes</td>\n",
              "      <td>No</td>\n",
              "      <td>Yes</td>\n",
              "      <td>Yes</td>\n",
              "      <td>Month-to-month</td>\n",
              "      <td>Bank transfer (automatic)</td>\n",
              "      <td>103.70</td>\n",
              "      <td>1</td>\n",
              "    </tr>\n",
              "    <tr>\n",
              "      <th>...</th>\n",
              "      <td>...</td>\n",
              "      <td>...</td>\n",
              "      <td>...</td>\n",
              "      <td>...</td>\n",
              "      <td>...</td>\n",
              "      <td>...</td>\n",
              "      <td>...</td>\n",
              "      <td>...</td>\n",
              "      <td>...</td>\n",
              "      <td>...</td>\n",
              "      <td>...</td>\n",
              "      <td>...</td>\n",
              "      <td>...</td>\n",
              "      <td>...</td>\n",
              "      <td>...</td>\n",
              "      <td>...</td>\n",
              "      <td>...</td>\n",
              "      <td>...</td>\n",
              "    </tr>\n",
              "    <tr>\n",
              "      <th>7038</th>\n",
              "      <td>Female</td>\n",
              "      <td>No</td>\n",
              "      <td>No</td>\n",
              "      <td>No</td>\n",
              "      <td>72</td>\n",
              "      <td>Yes</td>\n",
              "      <td>No</td>\n",
              "      <td>No</td>\n",
              "      <td>No internet service</td>\n",
              "      <td>No internet service</td>\n",
              "      <td>No internet service</td>\n",
              "      <td>No internet service</td>\n",
              "      <td>No internet service</td>\n",
              "      <td>No internet service</td>\n",
              "      <td>Two year</td>\n",
              "      <td>Bank transfer (automatic)</td>\n",
              "      <td>21.15</td>\n",
              "      <td>0</td>\n",
              "    </tr>\n",
              "    <tr>\n",
              "      <th>7039</th>\n",
              "      <td>Male</td>\n",
              "      <td>No</td>\n",
              "      <td>Yes</td>\n",
              "      <td>Yes</td>\n",
              "      <td>24</td>\n",
              "      <td>Yes</td>\n",
              "      <td>Yes</td>\n",
              "      <td>DSL</td>\n",
              "      <td>Yes</td>\n",
              "      <td>No</td>\n",
              "      <td>Yes</td>\n",
              "      <td>Yes</td>\n",
              "      <td>Yes</td>\n",
              "      <td>Yes</td>\n",
              "      <td>One year</td>\n",
              "      <td>Mailed check</td>\n",
              "      <td>84.80</td>\n",
              "      <td>0</td>\n",
              "    </tr>\n",
              "    <tr>\n",
              "      <th>7040</th>\n",
              "      <td>Female</td>\n",
              "      <td>No</td>\n",
              "      <td>Yes</td>\n",
              "      <td>Yes</td>\n",
              "      <td>72</td>\n",
              "      <td>Yes</td>\n",
              "      <td>Yes</td>\n",
              "      <td>Fiber optic</td>\n",
              "      <td>No</td>\n",
              "      <td>Yes</td>\n",
              "      <td>Yes</td>\n",
              "      <td>No</td>\n",
              "      <td>Yes</td>\n",
              "      <td>Yes</td>\n",
              "      <td>One year</td>\n",
              "      <td>Credit card (automatic)</td>\n",
              "      <td>103.20</td>\n",
              "      <td>0</td>\n",
              "    </tr>\n",
              "    <tr>\n",
              "      <th>7041</th>\n",
              "      <td>Female</td>\n",
              "      <td>No</td>\n",
              "      <td>Yes</td>\n",
              "      <td>Yes</td>\n",
              "      <td>11</td>\n",
              "      <td>No</td>\n",
              "      <td>No phone service</td>\n",
              "      <td>DSL</td>\n",
              "      <td>Yes</td>\n",
              "      <td>No</td>\n",
              "      <td>No</td>\n",
              "      <td>No</td>\n",
              "      <td>No</td>\n",
              "      <td>No</td>\n",
              "      <td>Month-to-month</td>\n",
              "      <td>Electronic check</td>\n",
              "      <td>29.60</td>\n",
              "      <td>0</td>\n",
              "    </tr>\n",
              "    <tr>\n",
              "      <th>7042</th>\n",
              "      <td>Male</td>\n",
              "      <td>No</td>\n",
              "      <td>No</td>\n",
              "      <td>No</td>\n",
              "      <td>66</td>\n",
              "      <td>Yes</td>\n",
              "      <td>No</td>\n",
              "      <td>Fiber optic</td>\n",
              "      <td>Yes</td>\n",
              "      <td>No</td>\n",
              "      <td>Yes</td>\n",
              "      <td>Yes</td>\n",
              "      <td>Yes</td>\n",
              "      <td>Yes</td>\n",
              "      <td>Two year</td>\n",
              "      <td>Bank transfer (automatic)</td>\n",
              "      <td>105.65</td>\n",
              "      <td>0</td>\n",
              "    </tr>\n",
              "  </tbody>\n",
              "</table>\n",
              "<p>7043 rows × 18 columns</p>\n",
              "</div>"
            ],
            "text/plain": [
              "      Gender Senior_Citizen  ... Monthly_Charges Churn_Value\n",
              "0       Male             No  ...           53.85           1\n",
              "1     Female             No  ...           70.70           1\n",
              "2     Female             No  ...           99.65           1\n",
              "3     Female             No  ...          104.80           1\n",
              "4       Male             No  ...          103.70           1\n",
              "...      ...            ...  ...             ...         ...\n",
              "7038  Female             No  ...           21.15           0\n",
              "7039    Male             No  ...           84.80           0\n",
              "7040  Female             No  ...          103.20           0\n",
              "7041  Female             No  ...           29.60           0\n",
              "7042    Male             No  ...          105.65           0\n",
              "\n",
              "[7043 rows x 18 columns]"
            ]
          },
          "metadata": {
            "tags": []
          },
          "execution_count": 15
        }
      ]
    },
    {
      "cell_type": "code",
      "metadata": {
        "colab": {
          "base_uri": "https://localhost:8080/"
        },
        "id": "6RsKhYcR0h2N",
        "outputId": "eb38c701-f9f7-4c52-89ba-39277f31b0b7"
      },
      "source": [
        "data.info()"
      ],
      "execution_count": null,
      "outputs": [
        {
          "output_type": "stream",
          "text": [
            "<class 'pandas.core.frame.DataFrame'>\n",
            "RangeIndex: 7043 entries, 0 to 7042\n",
            "Data columns (total 18 columns):\n",
            " #   Column             Non-Null Count  Dtype  \n",
            "---  ------             --------------  -----  \n",
            " 0   Gender             7043 non-null   object \n",
            " 1   Senior_Citizen     7043 non-null   object \n",
            " 2   Partner            7043 non-null   object \n",
            " 3   Dependents         7043 non-null   object \n",
            " 4   Tenure_Months      7043 non-null   int64  \n",
            " 5   Phone_Service      7043 non-null   object \n",
            " 6   Multiple_Lines     7043 non-null   object \n",
            " 7   Internet_Service   7043 non-null   object \n",
            " 8   Online_Security    7043 non-null   object \n",
            " 9   Online_Backup      7043 non-null   object \n",
            " 10  Device_Protection  7043 non-null   object \n",
            " 11  Tech_Support       7043 non-null   object \n",
            " 12  Streaming_TV       7043 non-null   object \n",
            " 13  Streaming_Movies   7043 non-null   object \n",
            " 14  Contract           7043 non-null   object \n",
            " 15  Payment_Method     7043 non-null   object \n",
            " 16  Monthly_Charges    7043 non-null   float64\n",
            " 17  Churn_Value        7043 non-null   int64  \n",
            "dtypes: float64(1), int64(2), object(15)\n",
            "memory usage: 990.5+ KB\n"
          ],
          "name": "stdout"
        }
      ]
    },
    {
      "cell_type": "code",
      "metadata": {
        "colab": {
          "base_uri": "https://localhost:8080/"
        },
        "id": "JSOoe8mQY43U",
        "outputId": "dd93bab4-315d-424a-ecca-70d31ea405f8"
      },
      "source": [
        "# % of the churn \n",
        "data.groupby('Churn_Value').size() / len(data)"
      ],
      "execution_count": null,
      "outputs": [
        {
          "output_type": "execute_result",
          "data": {
            "text/plain": [
              "Churn_Value\n",
              "0    0.73463\n",
              "1    0.26537\n",
              "dtype: float64"
            ]
          },
          "metadata": {
            "tags": []
          },
          "execution_count": 17
        }
      ]
    },
    {
      "cell_type": "code",
      "metadata": {
        "colab": {
          "base_uri": "https://localhost:8080/",
          "height": 1000
        },
        "id": "0AXFdWu1I7v_",
        "outputId": "bba16731-88bc-4db2-ae72-6d5acf4c5ba1"
      },
      "source": [
        "# befor any change on the original data \n",
        "import seaborn as sns\n",
        "def bar_plot(df,column):    \n",
        "    ax = sns.countplot(y=column, data=df)\n",
        "    plt.title('Distribution of  Configurations')\n",
        "    plt.xlabel('Number of Axles')\n",
        "    total = len(df[column])\n",
        "    for p in ax.patches:\n",
        "        percentage = '{:.1f}%'.format(100 * p.get_width()/total)\n",
        "        x = p.get_x() + p.get_width() + 0.02\n",
        "        y = p.get_y() + p.get_height()/2\n",
        "        ax.annotate(percentage, (x, y))\n",
        "    plt.show()\n",
        "bar_plot(data, \"Churn_Value\")\n",
        "bar_plot(data, \"Gender\")\n",
        "bar_plot(data, \"Phone_Service\")\n",
        "bar_plot(data, \"Multiple_Lines\")\n",
        "bar_plot(data, \"Internet_Service\")\n",
        "bar_plot(data, \"Contract\")"
      ],
      "execution_count": null,
      "outputs": [
        {
          "output_type": "display_data",
          "data": {
            "image/png": "[encoded data removed]",
            "text/plain": [
              "<Figure size 432x288 with 1 Axes>"
            ]
          },
          "metadata": {
            "tags": [],
            "needs_background": "light"
          }
        },
        {
          "output_type": "display_data",
          "data": {
            "image/png": "[encoded data removed]",
            "text/plain": [
              "<Figure size 432x288 with 1 Axes>"
            ]
          },
          "metadata": {
            "tags": [],
            "needs_background": "light"
          }
        },
        {
          "output_type": "display_data",
          "data": {
            "image/png": "[encoded data removed]",
            "text/plain": [
              "<Figure size 432x288 with 1 Axes>"
            ]
          },
          "metadata": {
            "tags": [],
            "needs_background": "light"
          }
        },
        {
          "output_type": "display_data",
          "data": {
            "image/png": "[encoded data removed]",
            "text/plain": [
              "<Figure size 432x288 with 1 Axes>"
            ]
          },
          "metadata": {
            "tags": [],
            "needs_background": "light"
          }
        },
        {
          "output_type": "display_data",
          "data": {
            "image/png": "[encoded data removed]",
            "text/plain": [
              "<Figure size 432x288 with 1 Axes>"
            ]
          },
          "metadata": {
            "tags": [],
            "needs_background": "light"
          }
        },
        {
          "output_type": "display_data",
          "data": {
            "image/png": "[encoded data removed]",
            "text/plain": [
              "<Figure size 432x288 with 1 Axes>"
            ]
          },
          "metadata": {
            "tags": [],
            "needs_background": "light"
          }
        }
      ]
    },
    {
      "cell_type": "markdown",
      "metadata": {
        "id": "ZKRSQ6YGJGSL"
      },
      "source": [
        "New clients are more likely to churn\n",
        "\n",
        "Clients with higher MonthlyCharges are also more likely to churn"
      ]
    },
    {
      "cell_type": "code",
      "metadata": {
        "colab": {
          "base_uri": "https://localhost:8080/",
          "height": 588
        },
        "id": "riMR6Ow0I79S",
        "outputId": "f7b46aba-c26a-450c-e188-07e8c2b53d1e"
      },
      "source": [
        "def barplot_percentages(f, orient='v', axis_name=\"percentage of customers\"):\n",
        "    ratios = pd.DataFrame()\n",
        "    g = data.groupby(f)[\"Churn_Value\"].value_counts().to_frame()\n",
        "    g = g.rename({\"Churn_Value\": axis_name}, axis=1).reset_index()\n",
        "    g[axis_name] = g[axis_name]/len(data)\n",
        "    if orient == 'v':\n",
        "        ax = sns.barplot(x=f, y= axis_name, hue='Churn_Value', data=g, orient=orient)\n",
        "        ax.set_yticklabels(['{:,.0%}'.format(y) for y in ax.get_yticks()])\n",
        "    else:\n",
        "        ax = sns.barplot(x= axis_name, y=f, hue='Churn_Value', data=g, orient=orient)\n",
        "        ax.set_xticklabels(['{:,.0%}'.format(x) for x in ax.get_xticks()])\n",
        "    ax.plot()\n",
        "\n",
        "plt.figure(figsize=(9, 4.5))\n",
        "\n",
        "barplot_percentages('Internet_Service')\n",
        "plt.show()\n",
        "print(' Customer with Fiber optic Internet more likly to Churn')\n",
        "barplot_percentages('Phone_Service')\n",
        "plt.show()"
      ],
      "execution_count": null,
      "outputs": [
        {
          "output_type": "display_data",
          "data": {
            "image/png": "[encoded data removed]",
            "text/plain": [
              "<Figure size 648x324 with 1 Axes>"
            ]
          },
          "metadata": {
            "tags": [],
            "needs_background": "light"
          }
        },
        {
          "output_type": "stream",
          "text": [
            " Customer with Fiber optic Internet more likly to Churn\n"
          ],
          "name": "stdout"
        },
        {
          "output_type": "display_data",
          "data": {
            "image/png": "[encoded data removed]",
            "text/plain": [
              "<Figure size 432x288 with 1 Axes>"
            ]
          },
          "metadata": {
            "tags": [],
            "needs_background": "light"
          }
        }
      ]
    },
    {
      "cell_type": "code",
      "metadata": {
        "colab": {
          "base_uri": "https://localhost:8080/",
          "height": 281
        },
        "id": "n-LZ_sedI8Re",
        "outputId": "b1b921ff-1293-4cbc-9624-f7dc87a38b49"
      },
      "source": [
        "ax = data['Contract'].value_counts().plot(kind = 'bar',rot = 0, width = 0.3)\n",
        "ax.set_ylabel('# of Customers')\n",
        "ax.set_title('# of Customers by Contract Type')\n",
        "plt.show()"
      ],
      "execution_count": null,
      "outputs": [
        {
          "output_type": "display_data",
          "data": {
            "image/png": "[encoded data removed]",
            "text/plain": [
              "<Figure size 432x288 with 1 Axes>"
            ]
          },
          "metadata": {
            "tags": [],
            "needs_background": "light"
          }
        }
      ]
    },
    {
      "cell_type": "code",
      "metadata": {
        "colab": {
          "base_uri": "https://localhost:8080/",
          "height": 319
        },
        "id": "5JyBNOu2wFBV",
        "outputId": "911a8f92-b08b-4f77-de54-43ad034bceb5"
      },
      "source": [
        "import matplotlib.ticker as mtick\n",
        "ax = (data['Senior_Citizen'].value_counts()*100.0 /len(data))\\\n",
        ".plot.pie(autopct='%.1f%%', labels = ['No', 'Yes'],figsize =(5,5), fontsize = 12 )                                                                           \n",
        "ax.yaxis.set_major_formatter(mtick.PercentFormatter())\n",
        "ax.set_ylabel('Senior Citizens',fontsize = 12)\n",
        "ax.set_title('% of Senior Citizens', fontsize = 12)\n",
        "plt.show()"
      ],
      "execution_count": null,
      "outputs": [
        {
          "output_type": "display_data",
          "data": {
            "image/png": "[encoded data removed]",
            "text/plain": [
              "<Figure size 360x360 with 1 Axes>"
            ]
          },
          "metadata": {
            "tags": []
          }
        }
      ]
    },
    {
      "cell_type": "markdown",
      "metadata": {
        "id": "EDpbL-sBHEWJ"
      },
      "source": [
        "##### 2.3 Create Dummies Varibles for Necessary Columns:"
      ]
    },
    {
      "cell_type": "code",
      "metadata": {
        "id": "4pgiNR2rHDTS"
      },
      "source": [
        "# create dymmy variables\n",
        "#data = pd.get_dummies(data['Gender'])\n",
        "#data = pd.get_dummies(data['Senior_Citizen'])\n",
        "#data = pd.get_dummies(data['Partner'])\n",
        "#data = pd.get_dummies(data['Dependents'])\n",
        "#data = pd.get_dummies(data['Phone_Service'])\n",
        "#data = pd.get_dummies(data['Multiple_Lines'])\n",
        "#data = pd.get_dummies(data['Internet_Service'])\n",
        "#data = pd.get_dummies(data['Online_Security'])\n",
        "#data = pd.get_dummies(data['Device_Protection'])\n",
        "#data = pd.get_dummies(data['Tech_Support'])\n",
        "#data = pd.get_dummies(data['Streaming_TV'])\n",
        "#data = pd.get_dummies(data['Streaming_Movies'])\n",
        "#data = pd.get_dummies(data['Contract'])\n",
        "#data = pd.get_dummies(data['Payment_Method'])"
      ],
      "execution_count": null,
      "outputs": []
    },
    {
      "cell_type": "code",
      "metadata": {
        "id": "E_Ikf4k-jtUb"
      },
      "source": [
        "# Create Dummies Variable\n",
        "data = pd.get_dummies(data, drop_first=True)"
      ],
      "execution_count": null,
      "outputs": []
    },
    {
      "cell_type": "code",
      "metadata": {
        "colab": {
          "base_uri": "https://localhost:8080/",
          "height": 249
        },
        "id": "9A0WfK6ej8aT",
        "outputId": "825b3c26-5a94-406c-b63d-f75d7c2207ad"
      },
      "source": [
        "data.head()"
      ],
      "execution_count": null,
      "outputs": [
        {
          "output_type": "execute_result",
          "data": {
            "text/html": [
              "<div>\n",
              "<style scoped>\n",
              "    .dataframe tbody tr th:only-of-type {\n",
              "        vertical-align: middle;\n",
              "    }\n",
              "\n",
              "    .dataframe tbody tr th {\n",
              "        vertical-align: top;\n",
              "    }\n",
              "\n",
              "    .dataframe thead th {\n",
              "        text-align: right;\n",
              "    }\n",
              "</style>\n",
              "<table border=\"1\" class=\"dataframe\">\n",
              "  <thead>\n",
              "    <tr style=\"text-align: right;\">\n",
              "      <th></th>\n",
              "      <th>Tenure_Months</th>\n",
              "      <th>Monthly_Charges</th>\n",
              "      <th>Churn_Value</th>\n",
              "      <th>Gender_Male</th>\n",
              "      <th>Senior_Citizen_Yes</th>\n",
              "      <th>Partner_Yes</th>\n",
              "      <th>Dependents_Yes</th>\n",
              "      <th>Phone_Service_Yes</th>\n",
              "      <th>Multiple_Lines_No phone service</th>\n",
              "      <th>Multiple_Lines_Yes</th>\n",
              "      <th>Internet_Service_Fiber optic</th>\n",
              "      <th>Internet_Service_No</th>\n",
              "      <th>Online_Security_No internet service</th>\n",
              "      <th>Online_Security_Yes</th>\n",
              "      <th>Online_Backup_No internet service</th>\n",
              "      <th>Online_Backup_Yes</th>\n",
              "      <th>Device_Protection_No internet service</th>\n",
              "      <th>Device_Protection_Yes</th>\n",
              "      <th>Tech_Support_No internet service</th>\n",
              "      <th>Tech_Support_Yes</th>\n",
              "      <th>Streaming_TV_No internet service</th>\n",
              "      <th>Streaming_TV_Yes</th>\n",
              "      <th>Streaming_Movies_No internet service</th>\n",
              "      <th>Streaming_Movies_Yes</th>\n",
              "      <th>Contract_One year</th>\n",
              "      <th>Contract_Two year</th>\n",
              "      <th>Payment_Method_Credit card (automatic)</th>\n",
              "      <th>Payment_Method_Electronic check</th>\n",
              "      <th>Payment_Method_Mailed check</th>\n",
              "    </tr>\n",
              "  </thead>\n",
              "  <tbody>\n",
              "    <tr>\n",
              "      <th>0</th>\n",
              "      <td>2</td>\n",
              "      <td>53.85</td>\n",
              "      <td>1</td>\n",
              "      <td>1</td>\n",
              "      <td>0</td>\n",
              "      <td>0</td>\n",
              "      <td>0</td>\n",
              "      <td>1</td>\n",
              "      <td>0</td>\n",
              "      <td>0</td>\n",
              "      <td>0</td>\n",
              "      <td>0</td>\n",
              "      <td>0</td>\n",
              "      <td>1</td>\n",
              "      <td>0</td>\n",
              "      <td>1</td>\n",
              "      <td>0</td>\n",
              "      <td>0</td>\n",
              "      <td>0</td>\n",
              "      <td>0</td>\n",
              "      <td>0</td>\n",
              "      <td>0</td>\n",
              "      <td>0</td>\n",
              "      <td>0</td>\n",
              "      <td>0</td>\n",
              "      <td>0</td>\n",
              "      <td>0</td>\n",
              "      <td>0</td>\n",
              "      <td>1</td>\n",
              "    </tr>\n",
              "    <tr>\n",
              "      <th>1</th>\n",
              "      <td>2</td>\n",
              "      <td>70.70</td>\n",
              "      <td>1</td>\n",
              "      <td>0</td>\n",
              "      <td>0</td>\n",
              "      <td>0</td>\n",
              "      <td>1</td>\n",
              "      <td>1</td>\n",
              "      <td>0</td>\n",
              "      <td>0</td>\n",
              "      <td>1</td>\n",
              "      <td>0</td>\n",
              "      <td>0</td>\n",
              "      <td>0</td>\n",
              "      <td>0</td>\n",
              "      <td>0</td>\n",
              "      <td>0</td>\n",
              "      <td>0</td>\n",
              "      <td>0</td>\n",
              "      <td>0</td>\n",
              "      <td>0</td>\n",
              "      <td>0</td>\n",
              "      <td>0</td>\n",
              "      <td>0</td>\n",
              "      <td>0</td>\n",
              "      <td>0</td>\n",
              "      <td>0</td>\n",
              "      <td>1</td>\n",
              "      <td>0</td>\n",
              "    </tr>\n",
              "    <tr>\n",
              "      <th>2</th>\n",
              "      <td>8</td>\n",
              "      <td>99.65</td>\n",
              "      <td>1</td>\n",
              "      <td>0</td>\n",
              "      <td>0</td>\n",
              "      <td>0</td>\n",
              "      <td>1</td>\n",
              "      <td>1</td>\n",
              "      <td>0</td>\n",
              "      <td>1</td>\n",
              "      <td>1</td>\n",
              "      <td>0</td>\n",
              "      <td>0</td>\n",
              "      <td>0</td>\n",
              "      <td>0</td>\n",
              "      <td>0</td>\n",
              "      <td>0</td>\n",
              "      <td>1</td>\n",
              "      <td>0</td>\n",
              "      <td>0</td>\n",
              "      <td>0</td>\n",
              "      <td>1</td>\n",
              "      <td>0</td>\n",
              "      <td>1</td>\n",
              "      <td>0</td>\n",
              "      <td>0</td>\n",
              "      <td>0</td>\n",
              "      <td>1</td>\n",
              "      <td>0</td>\n",
              "    </tr>\n",
              "    <tr>\n",
              "      <th>3</th>\n",
              "      <td>28</td>\n",
              "      <td>104.80</td>\n",
              "      <td>1</td>\n",
              "      <td>0</td>\n",
              "      <td>0</td>\n",
              "      <td>1</td>\n",
              "      <td>1</td>\n",
              "      <td>1</td>\n",
              "      <td>0</td>\n",
              "      <td>1</td>\n",
              "      <td>1</td>\n",
              "      <td>0</td>\n",
              "      <td>0</td>\n",
              "      <td>0</td>\n",
              "      <td>0</td>\n",
              "      <td>0</td>\n",
              "      <td>0</td>\n",
              "      <td>1</td>\n",
              "      <td>0</td>\n",
              "      <td>1</td>\n",
              "      <td>0</td>\n",
              "      <td>1</td>\n",
              "      <td>0</td>\n",
              "      <td>1</td>\n",
              "      <td>0</td>\n",
              "      <td>0</td>\n",
              "      <td>0</td>\n",
              "      <td>1</td>\n",
              "      <td>0</td>\n",
              "    </tr>\n",
              "    <tr>\n",
              "      <th>4</th>\n",
              "      <td>49</td>\n",
              "      <td>103.70</td>\n",
              "      <td>1</td>\n",
              "      <td>1</td>\n",
              "      <td>0</td>\n",
              "      <td>0</td>\n",
              "      <td>1</td>\n",
              "      <td>1</td>\n",
              "      <td>0</td>\n",
              "      <td>1</td>\n",
              "      <td>1</td>\n",
              "      <td>0</td>\n",
              "      <td>0</td>\n",
              "      <td>0</td>\n",
              "      <td>0</td>\n",
              "      <td>1</td>\n",
              "      <td>0</td>\n",
              "      <td>1</td>\n",
              "      <td>0</td>\n",
              "      <td>0</td>\n",
              "      <td>0</td>\n",
              "      <td>1</td>\n",
              "      <td>0</td>\n",
              "      <td>1</td>\n",
              "      <td>0</td>\n",
              "      <td>0</td>\n",
              "      <td>0</td>\n",
              "      <td>0</td>\n",
              "      <td>0</td>\n",
              "    </tr>\n",
              "  </tbody>\n",
              "</table>\n",
              "</div>"
            ],
            "text/plain": [
              "   Tenure_Months  ...  Payment_Method_Mailed check\n",
              "0              2  ...                            1\n",
              "1              2  ...                            0\n",
              "2              8  ...                            0\n",
              "3             28  ...                            0\n",
              "4             49  ...                            0\n",
              "\n",
              "[5 rows x 29 columns]"
            ]
          },
          "metadata": {
            "tags": []
          },
          "execution_count": 23
        }
      ]
    },
    {
      "cell_type": "markdown",
      "metadata": {
        "id": "6y_aJHX6KR3O"
      },
      "source": [
        ""
      ]
    },
    {
      "cell_type": "code",
      "metadata": {
        "colab": {
          "base_uri": "https://localhost:8080/",
          "height": 1000
        },
        "id": "wz25jQkjXpFN",
        "outputId": "46299809-d916-47d3-a62f-46d1918e9bc5"
      },
      "source": [
        "data.corr()"
      ],
      "execution_count": null,
      "outputs": [
        {
          "output_type": "execute_result",
          "data": {
            "text/html": [
              "<div>\n",
              "<style scoped>\n",
              "    .dataframe tbody tr th:only-of-type {\n",
              "        vertical-align: middle;\n",
              "    }\n",
              "\n",
              "    .dataframe tbody tr th {\n",
              "        vertical-align: top;\n",
              "    }\n",
              "\n",
              "    .dataframe thead th {\n",
              "        text-align: right;\n",
              "    }\n",
              "</style>\n",
              "<table border=\"1\" class=\"dataframe\">\n",
              "  <thead>\n",
              "    <tr style=\"text-align: right;\">\n",
              "      <th></th>\n",
              "      <th>Tenure_Months</th>\n",
              "      <th>Monthly_Charges</th>\n",
              "      <th>Churn_Value</th>\n",
              "      <th>Gender_Male</th>\n",
              "      <th>Senior_Citizen_Yes</th>\n",
              "      <th>Partner_Yes</th>\n",
              "      <th>Dependents_Yes</th>\n",
              "      <th>Phone_Service_Yes</th>\n",
              "      <th>Multiple_Lines_No phone service</th>\n",
              "      <th>Multiple_Lines_Yes</th>\n",
              "      <th>Internet_Service_Fiber optic</th>\n",
              "      <th>Internet_Service_No</th>\n",
              "      <th>Online_Security_No internet service</th>\n",
              "      <th>Online_Security_Yes</th>\n",
              "      <th>Online_Backup_No internet service</th>\n",
              "      <th>Online_Backup_Yes</th>\n",
              "      <th>Device_Protection_No internet service</th>\n",
              "      <th>Device_Protection_Yes</th>\n",
              "      <th>Tech_Support_No internet service</th>\n",
              "      <th>Tech_Support_Yes</th>\n",
              "      <th>Streaming_TV_No internet service</th>\n",
              "      <th>Streaming_TV_Yes</th>\n",
              "      <th>Streaming_Movies_No internet service</th>\n",
              "      <th>Streaming_Movies_Yes</th>\n",
              "      <th>Contract_One year</th>\n",
              "      <th>Contract_Two year</th>\n",
              "      <th>Payment_Method_Credit card (automatic)</th>\n",
              "      <th>Payment_Method_Electronic check</th>\n",
              "      <th>Payment_Method_Mailed check</th>\n",
              "    </tr>\n",
              "  </thead>\n",
              "  <tbody>\n",
              "    <tr>\n",
              "      <th>Tenure_Months</th>\n",
              "      <td>1.000000</td>\n",
              "      <td>0.247900</td>\n",
              "      <td>-0.352229</td>\n",
              "      <td>0.005106</td>\n",
              "      <td>0.016567</td>\n",
              "      <td>0.379697</td>\n",
              "      <td>0.131376</td>\n",
              "      <td>0.008448</td>\n",
              "      <td>-0.008448</td>\n",
              "      <td>0.331941</td>\n",
              "      <td>0.019720</td>\n",
              "      <td>-0.039062</td>\n",
              "      <td>-0.039062</td>\n",
              "      <td>0.327203</td>\n",
              "      <td>-0.039062</td>\n",
              "      <td>0.360277</td>\n",
              "      <td>-0.039062</td>\n",
              "      <td>0.360653</td>\n",
              "      <td>-0.039062</td>\n",
              "      <td>0.324221</td>\n",
              "      <td>-0.039062</td>\n",
              "      <td>0.279756</td>\n",
              "      <td>-0.039062</td>\n",
              "      <td>0.286111</td>\n",
              "      <td>0.202570</td>\n",
              "      <td>0.558533</td>\n",
              "      <td>0.233006</td>\n",
              "      <td>-0.208363</td>\n",
              "      <td>-0.233852</td>\n",
              "    </tr>\n",
              "    <tr>\n",
              "      <th>Monthly_Charges</th>\n",
              "      <td>0.247900</td>\n",
              "      <td>1.000000</td>\n",
              "      <td>0.193356</td>\n",
              "      <td>-0.014569</td>\n",
              "      <td>0.220173</td>\n",
              "      <td>0.096848</td>\n",
              "      <td>-0.144206</td>\n",
              "      <td>0.247398</td>\n",
              "      <td>-0.247398</td>\n",
              "      <td>0.490434</td>\n",
              "      <td>0.787066</td>\n",
              "      <td>-0.763557</td>\n",
              "      <td>-0.763557</td>\n",
              "      <td>0.296594</td>\n",
              "      <td>-0.763557</td>\n",
              "      <td>0.441780</td>\n",
              "      <td>-0.763557</td>\n",
              "      <td>0.482692</td>\n",
              "      <td>-0.763557</td>\n",
              "      <td>0.338304</td>\n",
              "      <td>-0.763557</td>\n",
              "      <td>0.629603</td>\n",
              "      <td>-0.763557</td>\n",
              "      <td>0.627429</td>\n",
              "      <td>0.004904</td>\n",
              "      <td>-0.074681</td>\n",
              "      <td>0.030550</td>\n",
              "      <td>0.271625</td>\n",
              "      <td>-0.377437</td>\n",
              "    </tr>\n",
              "    <tr>\n",
              "      <th>Churn_Value</th>\n",
              "      <td>-0.352229</td>\n",
              "      <td>0.193356</td>\n",
              "      <td>1.000000</td>\n",
              "      <td>-0.008612</td>\n",
              "      <td>0.150889</td>\n",
              "      <td>-0.150448</td>\n",
              "      <td>-0.248542</td>\n",
              "      <td>0.011942</td>\n",
              "      <td>-0.011942</td>\n",
              "      <td>0.040102</td>\n",
              "      <td>0.308020</td>\n",
              "      <td>-0.227890</td>\n",
              "      <td>-0.227890</td>\n",
              "      <td>-0.171226</td>\n",
              "      <td>-0.227890</td>\n",
              "      <td>-0.082255</td>\n",
              "      <td>-0.227890</td>\n",
              "      <td>-0.066160</td>\n",
              "      <td>-0.227890</td>\n",
              "      <td>-0.164674</td>\n",
              "      <td>-0.227890</td>\n",
              "      <td>0.063228</td>\n",
              "      <td>-0.227890</td>\n",
              "      <td>0.061382</td>\n",
              "      <td>-0.177820</td>\n",
              "      <td>-0.302253</td>\n",
              "      <td>-0.134302</td>\n",
              "      <td>0.301919</td>\n",
              "      <td>-0.091683</td>\n",
              "    </tr>\n",
              "    <tr>\n",
              "      <th>Gender_Male</th>\n",
              "      <td>0.005106</td>\n",
              "      <td>-0.014569</td>\n",
              "      <td>-0.008612</td>\n",
              "      <td>1.000000</td>\n",
              "      <td>-0.001874</td>\n",
              "      <td>-0.001808</td>\n",
              "      <td>0.005229</td>\n",
              "      <td>-0.006488</td>\n",
              "      <td>0.006488</td>\n",
              "      <td>-0.008414</td>\n",
              "      <td>-0.011286</td>\n",
              "      <td>0.006026</td>\n",
              "      <td>0.006026</td>\n",
              "      <td>-0.017021</td>\n",
              "      <td>0.006026</td>\n",
              "      <td>-0.013773</td>\n",
              "      <td>0.006026</td>\n",
              "      <td>-0.002105</td>\n",
              "      <td>0.006026</td>\n",
              "      <td>-0.009212</td>\n",
              "      <td>0.006026</td>\n",
              "      <td>-0.008393</td>\n",
              "      <td>0.006026</td>\n",
              "      <td>-0.010487</td>\n",
              "      <td>0.008026</td>\n",
              "      <td>-0.003695</td>\n",
              "      <td>0.001215</td>\n",
              "      <td>0.000752</td>\n",
              "      <td>0.013744</td>\n",
              "    </tr>\n",
              "    <tr>\n",
              "      <th>Senior_Citizen_Yes</th>\n",
              "      <td>0.016567</td>\n",
              "      <td>0.220173</td>\n",
              "      <td>0.150889</td>\n",
              "      <td>-0.001874</td>\n",
              "      <td>1.000000</td>\n",
              "      <td>0.016479</td>\n",
              "      <td>-0.174396</td>\n",
              "      <td>0.008576</td>\n",
              "      <td>-0.008576</td>\n",
              "      <td>0.142948</td>\n",
              "      <td>0.255338</td>\n",
              "      <td>-0.182742</td>\n",
              "      <td>-0.182742</td>\n",
              "      <td>-0.038653</td>\n",
              "      <td>-0.182742</td>\n",
              "      <td>0.066572</td>\n",
              "      <td>-0.182742</td>\n",
              "      <td>0.059428</td>\n",
              "      <td>-0.182742</td>\n",
              "      <td>-0.060625</td>\n",
              "      <td>-0.182742</td>\n",
              "      <td>0.105378</td>\n",
              "      <td>-0.182742</td>\n",
              "      <td>0.120176</td>\n",
              "      <td>-0.046262</td>\n",
              "      <td>-0.117000</td>\n",
              "      <td>-0.024135</td>\n",
              "      <td>0.171718</td>\n",
              "      <td>-0.153477</td>\n",
              "    </tr>\n",
              "    <tr>\n",
              "      <th>Partner_Yes</th>\n",
              "      <td>0.379697</td>\n",
              "      <td>0.096848</td>\n",
              "      <td>-0.150448</td>\n",
              "      <td>-0.001808</td>\n",
              "      <td>0.016479</td>\n",
              "      <td>1.000000</td>\n",
              "      <td>0.363430</td>\n",
              "      <td>0.017706</td>\n",
              "      <td>-0.017706</td>\n",
              "      <td>0.142057</td>\n",
              "      <td>0.000304</td>\n",
              "      <td>0.000615</td>\n",
              "      <td>0.000615</td>\n",
              "      <td>0.143106</td>\n",
              "      <td>0.000615</td>\n",
              "      <td>0.141498</td>\n",
              "      <td>0.000615</td>\n",
              "      <td>0.153786</td>\n",
              "      <td>0.000615</td>\n",
              "      <td>0.119999</td>\n",
              "      <td>0.000615</td>\n",
              "      <td>0.124666</td>\n",
              "      <td>0.000615</td>\n",
              "      <td>0.117412</td>\n",
              "      <td>0.082783</td>\n",
              "      <td>0.248091</td>\n",
              "      <td>0.082029</td>\n",
              "      <td>-0.083852</td>\n",
              "      <td>-0.095125</td>\n",
              "    </tr>\n",
              "    <tr>\n",
              "      <th>Dependents_Yes</th>\n",
              "      <td>0.131376</td>\n",
              "      <td>-0.144206</td>\n",
              "      <td>-0.248542</td>\n",
              "      <td>0.005229</td>\n",
              "      <td>-0.174396</td>\n",
              "      <td>0.363430</td>\n",
              "      <td>1.000000</td>\n",
              "      <td>0.000625</td>\n",
              "      <td>-0.000625</td>\n",
              "      <td>-0.027510</td>\n",
              "      <td>-0.162353</td>\n",
              "      <td>0.172110</td>\n",
              "      <td>0.172110</td>\n",
              "      <td>0.050353</td>\n",
              "      <td>0.172110</td>\n",
              "      <td>0.003457</td>\n",
              "      <td>0.172110</td>\n",
              "      <td>-0.022343</td>\n",
              "      <td>0.172110</td>\n",
              "      <td>0.028811</td>\n",
              "      <td>0.172110</td>\n",
              "      <td>-0.057717</td>\n",
              "      <td>0.172110</td>\n",
              "      <td>-0.073364</td>\n",
              "      <td>0.014680</td>\n",
              "      <td>0.190262</td>\n",
              "      <td>0.041254</td>\n",
              "      <td>-0.141476</td>\n",
              "      <td>0.071056</td>\n",
              "    </tr>\n",
              "    <tr>\n",
              "      <th>Phone_Service_Yes</th>\n",
              "      <td>0.008448</td>\n",
              "      <td>0.247398</td>\n",
              "      <td>0.011942</td>\n",
              "      <td>-0.006488</td>\n",
              "      <td>0.008576</td>\n",
              "      <td>0.017706</td>\n",
              "      <td>0.000625</td>\n",
              "      <td>1.000000</td>\n",
              "      <td>-1.000000</td>\n",
              "      <td>0.279690</td>\n",
              "      <td>0.289999</td>\n",
              "      <td>0.172209</td>\n",
              "      <td>0.172209</td>\n",
              "      <td>-0.092893</td>\n",
              "      <td>0.172209</td>\n",
              "      <td>-0.052312</td>\n",
              "      <td>0.172209</td>\n",
              "      <td>-0.071227</td>\n",
              "      <td>0.172209</td>\n",
              "      <td>-0.096340</td>\n",
              "      <td>0.172209</td>\n",
              "      <td>-0.022574</td>\n",
              "      <td>0.172209</td>\n",
              "      <td>-0.032959</td>\n",
              "      <td>-0.002791</td>\n",
              "      <td>0.003519</td>\n",
              "      <td>-0.007721</td>\n",
              "      <td>0.003062</td>\n",
              "      <td>-0.003319</td>\n",
              "    </tr>\n",
              "    <tr>\n",
              "      <th>Multiple_Lines_No phone service</th>\n",
              "      <td>-0.008448</td>\n",
              "      <td>-0.247398</td>\n",
              "      <td>-0.011942</td>\n",
              "      <td>0.006488</td>\n",
              "      <td>-0.008576</td>\n",
              "      <td>-0.017706</td>\n",
              "      <td>-0.000625</td>\n",
              "      <td>-1.000000</td>\n",
              "      <td>1.000000</td>\n",
              "      <td>-0.279690</td>\n",
              "      <td>-0.289999</td>\n",
              "      <td>-0.172209</td>\n",
              "      <td>-0.172209</td>\n",
              "      <td>0.092893</td>\n",
              "      <td>-0.172209</td>\n",
              "      <td>0.052312</td>\n",
              "      <td>-0.172209</td>\n",
              "      <td>0.071227</td>\n",
              "      <td>-0.172209</td>\n",
              "      <td>0.096340</td>\n",
              "      <td>-0.172209</td>\n",
              "      <td>0.022574</td>\n",
              "      <td>-0.172209</td>\n",
              "      <td>0.032959</td>\n",
              "      <td>0.002791</td>\n",
              "      <td>-0.003519</td>\n",
              "      <td>0.007721</td>\n",
              "      <td>-0.003062</td>\n",
              "      <td>0.003319</td>\n",
              "    </tr>\n",
              "    <tr>\n",
              "      <th>Multiple_Lines_Yes</th>\n",
              "      <td>0.331941</td>\n",
              "      <td>0.490434</td>\n",
              "      <td>0.040102</td>\n",
              "      <td>-0.008414</td>\n",
              "      <td>0.142948</td>\n",
              "      <td>0.142057</td>\n",
              "      <td>-0.027510</td>\n",
              "      <td>0.279690</td>\n",
              "      <td>-0.279690</td>\n",
              "      <td>1.000000</td>\n",
              "      <td>0.366083</td>\n",
              "      <td>-0.210564</td>\n",
              "      <td>-0.210564</td>\n",
              "      <td>0.098108</td>\n",
              "      <td>-0.210564</td>\n",
              "      <td>0.202237</td>\n",
              "      <td>-0.210564</td>\n",
              "      <td>0.201137</td>\n",
              "      <td>-0.210564</td>\n",
              "      <td>0.100571</td>\n",
              "      <td>-0.210564</td>\n",
              "      <td>0.257152</td>\n",
              "      <td>-0.210564</td>\n",
              "      <td>0.258751</td>\n",
              "      <td>-0.003794</td>\n",
              "      <td>0.106253</td>\n",
              "      <td>0.060048</td>\n",
              "      <td>0.083618</td>\n",
              "      <td>-0.227206</td>\n",
              "    </tr>\n",
              "    <tr>\n",
              "      <th>Internet_Service_Fiber optic</th>\n",
              "      <td>0.019720</td>\n",
              "      <td>0.787066</td>\n",
              "      <td>0.308020</td>\n",
              "      <td>-0.011286</td>\n",
              "      <td>0.255338</td>\n",
              "      <td>0.000304</td>\n",
              "      <td>-0.162353</td>\n",
              "      <td>0.289999</td>\n",
              "      <td>-0.289999</td>\n",
              "      <td>0.366083</td>\n",
              "      <td>1.000000</td>\n",
              "      <td>-0.465793</td>\n",
              "      <td>-0.465793</td>\n",
              "      <td>-0.030696</td>\n",
              "      <td>-0.465793</td>\n",
              "      <td>0.165651</td>\n",
              "      <td>-0.465793</td>\n",
              "      <td>0.176049</td>\n",
              "      <td>-0.465793</td>\n",
              "      <td>-0.020492</td>\n",
              "      <td>-0.465793</td>\n",
              "      <td>0.329349</td>\n",
              "      <td>-0.465793</td>\n",
              "      <td>0.322923</td>\n",
              "      <td>-0.076324</td>\n",
              "      <td>-0.211526</td>\n",
              "      <td>-0.050077</td>\n",
              "      <td>0.336410</td>\n",
              "      <td>-0.306834</td>\n",
              "    </tr>\n",
              "    <tr>\n",
              "      <th>Internet_Service_No</th>\n",
              "      <td>-0.039062</td>\n",
              "      <td>-0.763557</td>\n",
              "      <td>-0.227890</td>\n",
              "      <td>0.006026</td>\n",
              "      <td>-0.182742</td>\n",
              "      <td>0.000615</td>\n",
              "      <td>0.172110</td>\n",
              "      <td>0.172209</td>\n",
              "      <td>-0.172209</td>\n",
              "      <td>-0.210564</td>\n",
              "      <td>-0.465793</td>\n",
              "      <td>1.000000</td>\n",
              "      <td>1.000000</td>\n",
              "      <td>-0.333403</td>\n",
              "      <td>1.000000</td>\n",
              "      <td>-0.381593</td>\n",
              "      <td>1.000000</td>\n",
              "      <td>-0.380754</td>\n",
              "      <td>1.000000</td>\n",
              "      <td>-0.336298</td>\n",
              "      <td>1.000000</td>\n",
              "      <td>-0.415552</td>\n",
              "      <td>1.000000</td>\n",
              "      <td>-0.418675</td>\n",
              "      <td>0.038004</td>\n",
              "      <td>0.218278</td>\n",
              "      <td>0.001030</td>\n",
              "      <td>-0.284917</td>\n",
              "      <td>0.321361</td>\n",
              "    </tr>\n",
              "    <tr>\n",
              "      <th>Online_Security_No internet service</th>\n",
              "      <td>-0.039062</td>\n",
              "      <td>-0.763557</td>\n",
              "      <td>-0.227890</td>\n",
              "      <td>0.006026</td>\n",
              "      <td>-0.182742</td>\n",
              "      <td>0.000615</td>\n",
              "      <td>0.172110</td>\n",
              "      <td>0.172209</td>\n",
              "      <td>-0.172209</td>\n",
              "      <td>-0.210564</td>\n",
              "      <td>-0.465793</td>\n",
              "      <td>1.000000</td>\n",
              "      <td>1.000000</td>\n",
              "      <td>-0.333403</td>\n",
              "      <td>1.000000</td>\n",
              "      <td>-0.381593</td>\n",
              "      <td>1.000000</td>\n",
              "      <td>-0.380754</td>\n",
              "      <td>1.000000</td>\n",
              "      <td>-0.336298</td>\n",
              "      <td>1.000000</td>\n",
              "      <td>-0.415552</td>\n",
              "      <td>1.000000</td>\n",
              "      <td>-0.418675</td>\n",
              "      <td>0.038004</td>\n",
              "      <td>0.218278</td>\n",
              "      <td>0.001030</td>\n",
              "      <td>-0.284917</td>\n",
              "      <td>0.321361</td>\n",
              "    </tr>\n",
              "    <tr>\n",
              "      <th>Online_Security_Yes</th>\n",
              "      <td>0.327203</td>\n",
              "      <td>0.296594</td>\n",
              "      <td>-0.171226</td>\n",
              "      <td>-0.017021</td>\n",
              "      <td>-0.038653</td>\n",
              "      <td>0.143106</td>\n",
              "      <td>0.050353</td>\n",
              "      <td>-0.092893</td>\n",
              "      <td>0.092893</td>\n",
              "      <td>0.098108</td>\n",
              "      <td>-0.030696</td>\n",
              "      <td>-0.333403</td>\n",
              "      <td>-0.333403</td>\n",
              "      <td>1.000000</td>\n",
              "      <td>-0.333403</td>\n",
              "      <td>0.283832</td>\n",
              "      <td>-0.333403</td>\n",
              "      <td>0.275438</td>\n",
              "      <td>-0.333403</td>\n",
              "      <td>0.354931</td>\n",
              "      <td>-0.333403</td>\n",
              "      <td>0.176207</td>\n",
              "      <td>-0.333403</td>\n",
              "      <td>0.187398</td>\n",
              "      <td>0.100162</td>\n",
              "      <td>0.191773</td>\n",
              "      <td>0.115721</td>\n",
              "      <td>-0.112338</td>\n",
              "      <td>-0.080798</td>\n",
              "    </tr>\n",
              "    <tr>\n",
              "      <th>Online_Backup_No internet service</th>\n",
              "      <td>-0.039062</td>\n",
              "      <td>-0.763557</td>\n",
              "      <td>-0.227890</td>\n",
              "      <td>0.006026</td>\n",
              "      <td>-0.182742</td>\n",
              "      <td>0.000615</td>\n",
              "      <td>0.172110</td>\n",
              "      <td>0.172209</td>\n",
              "      <td>-0.172209</td>\n",
              "      <td>-0.210564</td>\n",
              "      <td>-0.465793</td>\n",
              "      <td>1.000000</td>\n",
              "      <td>1.000000</td>\n",
              "      <td>-0.333403</td>\n",
              "      <td>1.000000</td>\n",
              "      <td>-0.381593</td>\n",
              "      <td>1.000000</td>\n",
              "      <td>-0.380754</td>\n",
              "      <td>1.000000</td>\n",
              "      <td>-0.336298</td>\n",
              "      <td>1.000000</td>\n",
              "      <td>-0.415552</td>\n",
              "      <td>1.000000</td>\n",
              "      <td>-0.418675</td>\n",
              "      <td>0.038004</td>\n",
              "      <td>0.218278</td>\n",
              "      <td>0.001030</td>\n",
              "      <td>-0.284917</td>\n",
              "      <td>0.321361</td>\n",
              "    </tr>\n",
              "    <tr>\n",
              "      <th>Online_Backup_Yes</th>\n",
              "      <td>0.360277</td>\n",
              "      <td>0.441780</td>\n",
              "      <td>-0.082255</td>\n",
              "      <td>-0.013773</td>\n",
              "      <td>0.066572</td>\n",
              "      <td>0.141498</td>\n",
              "      <td>0.003457</td>\n",
              "      <td>-0.052312</td>\n",
              "      <td>0.052312</td>\n",
              "      <td>0.202237</td>\n",
              "      <td>0.165651</td>\n",
              "      <td>-0.381593</td>\n",
              "      <td>-0.381593</td>\n",
              "      <td>0.283832</td>\n",
              "      <td>-0.381593</td>\n",
              "      <td>1.000000</td>\n",
              "      <td>-0.381593</td>\n",
              "      <td>0.303546</td>\n",
              "      <td>-0.381593</td>\n",
              "      <td>0.294233</td>\n",
              "      <td>-0.381593</td>\n",
              "      <td>0.282106</td>\n",
              "      <td>-0.381593</td>\n",
              "      <td>0.274501</td>\n",
              "      <td>0.083722</td>\n",
              "      <td>0.111400</td>\n",
              "      <td>0.090785</td>\n",
              "      <td>-0.000408</td>\n",
              "      <td>-0.174164</td>\n",
              "    </tr>\n",
              "    <tr>\n",
              "      <th>Device_Protection_No internet service</th>\n",
              "      <td>-0.039062</td>\n",
              "      <td>-0.763557</td>\n",
              "      <td>-0.227890</td>\n",
              "      <td>0.006026</td>\n",
              "      <td>-0.182742</td>\n",
              "      <td>0.000615</td>\n",
              "      <td>0.172110</td>\n",
              "      <td>0.172209</td>\n",
              "      <td>-0.172209</td>\n",
              "      <td>-0.210564</td>\n",
              "      <td>-0.465793</td>\n",
              "      <td>1.000000</td>\n",
              "      <td>1.000000</td>\n",
              "      <td>-0.333403</td>\n",
              "      <td>1.000000</td>\n",
              "      <td>-0.381593</td>\n",
              "      <td>1.000000</td>\n",
              "      <td>-0.380754</td>\n",
              "      <td>1.000000</td>\n",
              "      <td>-0.336298</td>\n",
              "      <td>1.000000</td>\n",
              "      <td>-0.415552</td>\n",
              "      <td>1.000000</td>\n",
              "      <td>-0.418675</td>\n",
              "      <td>0.038004</td>\n",
              "      <td>0.218278</td>\n",
              "      <td>0.001030</td>\n",
              "      <td>-0.284917</td>\n",
              "      <td>0.321361</td>\n",
              "    </tr>\n",
              "    <tr>\n",
              "      <th>Device_Protection_Yes</th>\n",
              "      <td>0.360653</td>\n",
              "      <td>0.482692</td>\n",
              "      <td>-0.066160</td>\n",
              "      <td>-0.002105</td>\n",
              "      <td>0.059428</td>\n",
              "      <td>0.153786</td>\n",
              "      <td>-0.022343</td>\n",
              "      <td>-0.071227</td>\n",
              "      <td>0.071227</td>\n",
              "      <td>0.201137</td>\n",
              "      <td>0.176049</td>\n",
              "      <td>-0.380754</td>\n",
              "      <td>-0.380754</td>\n",
              "      <td>0.275438</td>\n",
              "      <td>-0.380754</td>\n",
              "      <td>0.303546</td>\n",
              "      <td>-0.380754</td>\n",
              "      <td>1.000000</td>\n",
              "      <td>-0.380754</td>\n",
              "      <td>0.333313</td>\n",
              "      <td>-0.380754</td>\n",
              "      <td>0.390874</td>\n",
              "      <td>-0.380754</td>\n",
              "      <td>0.402111</td>\n",
              "      <td>0.102495</td>\n",
              "      <td>0.165096</td>\n",
              "      <td>0.111554</td>\n",
              "      <td>-0.003351</td>\n",
              "      <td>-0.187373</td>\n",
              "    </tr>\n",
              "    <tr>\n",
              "      <th>Tech_Support_No internet service</th>\n",
              "      <td>-0.039062</td>\n",
              "      <td>-0.763557</td>\n",
              "      <td>-0.227890</td>\n",
              "      <td>0.006026</td>\n",
              "      <td>-0.182742</td>\n",
              "      <td>0.000615</td>\n",
              "      <td>0.172110</td>\n",
              "      <td>0.172209</td>\n",
              "      <td>-0.172209</td>\n",
              "      <td>-0.210564</td>\n",
              "      <td>-0.465793</td>\n",
              "      <td>1.000000</td>\n",
              "      <td>1.000000</td>\n",
              "      <td>-0.333403</td>\n",
              "      <td>1.000000</td>\n",
              "      <td>-0.381593</td>\n",
              "      <td>1.000000</td>\n",
              "      <td>-0.380754</td>\n",
              "      <td>1.000000</td>\n",
              "      <td>-0.336298</td>\n",
              "      <td>1.000000</td>\n",
              "      <td>-0.415552</td>\n",
              "      <td>1.000000</td>\n",
              "      <td>-0.418675</td>\n",
              "      <td>0.038004</td>\n",
              "      <td>0.218278</td>\n",
              "      <td>0.001030</td>\n",
              "      <td>-0.284917</td>\n",
              "      <td>0.321361</td>\n",
              "    </tr>\n",
              "    <tr>\n",
              "      <th>Tech_Support_Yes</th>\n",
              "      <td>0.324221</td>\n",
              "      <td>0.338304</td>\n",
              "      <td>-0.164674</td>\n",
              "      <td>-0.009212</td>\n",
              "      <td>-0.060625</td>\n",
              "      <td>0.119999</td>\n",
              "      <td>0.028811</td>\n",
              "      <td>-0.096340</td>\n",
              "      <td>0.096340</td>\n",
              "      <td>0.100571</td>\n",
              "      <td>-0.020492</td>\n",
              "      <td>-0.336298</td>\n",
              "      <td>-0.336298</td>\n",
              "      <td>0.354931</td>\n",
              "      <td>-0.336298</td>\n",
              "      <td>0.294233</td>\n",
              "      <td>-0.336298</td>\n",
              "      <td>0.333313</td>\n",
              "      <td>-0.336298</td>\n",
              "      <td>1.000000</td>\n",
              "      <td>-0.336298</td>\n",
              "      <td>0.278070</td>\n",
              "      <td>-0.336298</td>\n",
              "      <td>0.279358</td>\n",
              "      <td>0.095775</td>\n",
              "      <td>0.240824</td>\n",
              "      <td>0.117272</td>\n",
              "      <td>-0.114839</td>\n",
              "      <td>-0.085509</td>\n",
              "    </tr>\n",
              "    <tr>\n",
              "      <th>Streaming_TV_No internet service</th>\n",
              "      <td>-0.039062</td>\n",
              "      <td>-0.763557</td>\n",
              "      <td>-0.227890</td>\n",
              "      <td>0.006026</td>\n",
              "      <td>-0.182742</td>\n",
              "      <td>0.000615</td>\n",
              "      <td>0.172110</td>\n",
              "      <td>0.172209</td>\n",
              "      <td>-0.172209</td>\n",
              "      <td>-0.210564</td>\n",
              "      <td>-0.465793</td>\n",
              "      <td>1.000000</td>\n",
              "      <td>1.000000</td>\n",
              "      <td>-0.333403</td>\n",
              "      <td>1.000000</td>\n",
              "      <td>-0.381593</td>\n",
              "      <td>1.000000</td>\n",
              "      <td>-0.380754</td>\n",
              "      <td>1.000000</td>\n",
              "      <td>-0.336298</td>\n",
              "      <td>1.000000</td>\n",
              "      <td>-0.415552</td>\n",
              "      <td>1.000000</td>\n",
              "      <td>-0.418675</td>\n",
              "      <td>0.038004</td>\n",
              "      <td>0.218278</td>\n",
              "      <td>0.001030</td>\n",
              "      <td>-0.284917</td>\n",
              "      <td>0.321361</td>\n",
              "    </tr>\n",
              "    <tr>\n",
              "      <th>Streaming_TV_Yes</th>\n",
              "      <td>0.279756</td>\n",
              "      <td>0.629603</td>\n",
              "      <td>0.063228</td>\n",
              "      <td>-0.008393</td>\n",
              "      <td>0.105378</td>\n",
              "      <td>0.124666</td>\n",
              "      <td>-0.057717</td>\n",
              "      <td>-0.022574</td>\n",
              "      <td>0.022574</td>\n",
              "      <td>0.257152</td>\n",
              "      <td>0.329349</td>\n",
              "      <td>-0.415552</td>\n",
              "      <td>-0.415552</td>\n",
              "      <td>0.176207</td>\n",
              "      <td>-0.415552</td>\n",
              "      <td>0.282106</td>\n",
              "      <td>-0.415552</td>\n",
              "      <td>0.390874</td>\n",
              "      <td>-0.415552</td>\n",
              "      <td>0.278070</td>\n",
              "      <td>-0.415552</td>\n",
              "      <td>1.000000</td>\n",
              "      <td>-0.415552</td>\n",
              "      <td>0.533094</td>\n",
              "      <td>0.061612</td>\n",
              "      <td>0.072049</td>\n",
              "      <td>0.040433</td>\n",
              "      <td>0.144626</td>\n",
              "      <td>-0.247742</td>\n",
              "    </tr>\n",
              "    <tr>\n",
              "      <th>Streaming_Movies_No internet service</th>\n",
              "      <td>-0.039062</td>\n",
              "      <td>-0.763557</td>\n",
              "      <td>-0.227890</td>\n",
              "      <td>0.006026</td>\n",
              "      <td>-0.182742</td>\n",
              "      <td>0.000615</td>\n",
              "      <td>0.172110</td>\n",
              "      <td>0.172209</td>\n",
              "      <td>-0.172209</td>\n",
              "      <td>-0.210564</td>\n",
              "      <td>-0.465793</td>\n",
              "      <td>1.000000</td>\n",
              "      <td>1.000000</td>\n",
              "      <td>-0.333403</td>\n",
              "      <td>1.000000</td>\n",
              "      <td>-0.381593</td>\n",
              "      <td>1.000000</td>\n",
              "      <td>-0.380754</td>\n",
              "      <td>1.000000</td>\n",
              "      <td>-0.336298</td>\n",
              "      <td>1.000000</td>\n",
              "      <td>-0.415552</td>\n",
              "      <td>1.000000</td>\n",
              "      <td>-0.418675</td>\n",
              "      <td>0.038004</td>\n",
              "      <td>0.218278</td>\n",
              "      <td>0.001030</td>\n",
              "      <td>-0.284917</td>\n",
              "      <td>0.321361</td>\n",
              "    </tr>\n",
              "    <tr>\n",
              "      <th>Streaming_Movies_Yes</th>\n",
              "      <td>0.286111</td>\n",
              "      <td>0.627429</td>\n",
              "      <td>0.061382</td>\n",
              "      <td>-0.010487</td>\n",
              "      <td>0.120176</td>\n",
              "      <td>0.117412</td>\n",
              "      <td>-0.073364</td>\n",
              "      <td>-0.032959</td>\n",
              "      <td>0.032959</td>\n",
              "      <td>0.258751</td>\n",
              "      <td>0.322923</td>\n",
              "      <td>-0.418675</td>\n",
              "      <td>-0.418675</td>\n",
              "      <td>0.187398</td>\n",
              "      <td>-0.418675</td>\n",
              "      <td>0.274501</td>\n",
              "      <td>-0.418675</td>\n",
              "      <td>0.402111</td>\n",
              "      <td>-0.418675</td>\n",
              "      <td>0.279358</td>\n",
              "      <td>-0.418675</td>\n",
              "      <td>0.533094</td>\n",
              "      <td>-0.418675</td>\n",
              "      <td>1.000000</td>\n",
              "      <td>0.064926</td>\n",
              "      <td>0.073960</td>\n",
              "      <td>0.048575</td>\n",
              "      <td>0.137966</td>\n",
              "      <td>-0.250595</td>\n",
              "    </tr>\n",
              "    <tr>\n",
              "      <th>Contract_One year</th>\n",
              "      <td>0.202570</td>\n",
              "      <td>0.004904</td>\n",
              "      <td>-0.177820</td>\n",
              "      <td>0.008026</td>\n",
              "      <td>-0.046262</td>\n",
              "      <td>0.082783</td>\n",
              "      <td>0.014680</td>\n",
              "      <td>-0.002791</td>\n",
              "      <td>0.002791</td>\n",
              "      <td>-0.003794</td>\n",
              "      <td>-0.076324</td>\n",
              "      <td>0.038004</td>\n",
              "      <td>0.038004</td>\n",
              "      <td>0.100162</td>\n",
              "      <td>0.038004</td>\n",
              "      <td>0.083722</td>\n",
              "      <td>0.038004</td>\n",
              "      <td>0.102495</td>\n",
              "      <td>0.038004</td>\n",
              "      <td>0.095775</td>\n",
              "      <td>0.038004</td>\n",
              "      <td>0.061612</td>\n",
              "      <td>0.038004</td>\n",
              "      <td>0.064926</td>\n",
              "      <td>1.000000</td>\n",
              "      <td>-0.289510</td>\n",
              "      <td>0.067589</td>\n",
              "      <td>-0.109130</td>\n",
              "      <td>-0.000116</td>\n",
              "    </tr>\n",
              "    <tr>\n",
              "      <th>Contract_Two year</th>\n",
              "      <td>0.558533</td>\n",
              "      <td>-0.074681</td>\n",
              "      <td>-0.302253</td>\n",
              "      <td>-0.003695</td>\n",
              "      <td>-0.117000</td>\n",
              "      <td>0.248091</td>\n",
              "      <td>0.190262</td>\n",
              "      <td>0.003519</td>\n",
              "      <td>-0.003519</td>\n",
              "      <td>0.106253</td>\n",
              "      <td>-0.211526</td>\n",
              "      <td>0.218278</td>\n",
              "      <td>0.218278</td>\n",
              "      <td>0.191773</td>\n",
              "      <td>0.218278</td>\n",
              "      <td>0.111400</td>\n",
              "      <td>0.218278</td>\n",
              "      <td>0.165096</td>\n",
              "      <td>0.218278</td>\n",
              "      <td>0.240824</td>\n",
              "      <td>0.218278</td>\n",
              "      <td>0.072049</td>\n",
              "      <td>0.218278</td>\n",
              "      <td>0.073960</td>\n",
              "      <td>-0.289510</td>\n",
              "      <td>1.000000</td>\n",
              "      <td>0.173265</td>\n",
              "      <td>-0.282138</td>\n",
              "      <td>-0.004705</td>\n",
              "    </tr>\n",
              "    <tr>\n",
              "      <th>Payment_Method_Credit card (automatic)</th>\n",
              "      <td>0.233006</td>\n",
              "      <td>0.030550</td>\n",
              "      <td>-0.134302</td>\n",
              "      <td>0.001215</td>\n",
              "      <td>-0.024135</td>\n",
              "      <td>0.082029</td>\n",
              "      <td>0.041254</td>\n",
              "      <td>-0.007721</td>\n",
              "      <td>0.007721</td>\n",
              "      <td>0.060048</td>\n",
              "      <td>-0.050077</td>\n",
              "      <td>0.001030</td>\n",
              "      <td>0.001030</td>\n",
              "      <td>0.115721</td>\n",
              "      <td>0.001030</td>\n",
              "      <td>0.090785</td>\n",
              "      <td>0.001030</td>\n",
              "      <td>0.111554</td>\n",
              "      <td>0.001030</td>\n",
              "      <td>0.117272</td>\n",
              "      <td>0.001030</td>\n",
              "      <td>0.040433</td>\n",
              "      <td>0.001030</td>\n",
              "      <td>0.048575</td>\n",
              "      <td>0.067589</td>\n",
              "      <td>0.173265</td>\n",
              "      <td>1.000000</td>\n",
              "      <td>-0.373322</td>\n",
              "      <td>-0.286049</td>\n",
              "    </tr>\n",
              "    <tr>\n",
              "      <th>Payment_Method_Electronic check</th>\n",
              "      <td>-0.208363</td>\n",
              "      <td>0.271625</td>\n",
              "      <td>0.301919</td>\n",
              "      <td>0.000752</td>\n",
              "      <td>0.171718</td>\n",
              "      <td>-0.083852</td>\n",
              "      <td>-0.141476</td>\n",
              "      <td>0.003062</td>\n",
              "      <td>-0.003062</td>\n",
              "      <td>0.083618</td>\n",
              "      <td>0.336410</td>\n",
              "      <td>-0.284917</td>\n",
              "      <td>-0.284917</td>\n",
              "      <td>-0.112338</td>\n",
              "      <td>-0.284917</td>\n",
              "      <td>-0.000408</td>\n",
              "      <td>-0.284917</td>\n",
              "      <td>-0.003351</td>\n",
              "      <td>-0.284917</td>\n",
              "      <td>-0.114839</td>\n",
              "      <td>-0.284917</td>\n",
              "      <td>0.144626</td>\n",
              "      <td>-0.284917</td>\n",
              "      <td>0.137966</td>\n",
              "      <td>-0.109130</td>\n",
              "      <td>-0.282138</td>\n",
              "      <td>-0.373322</td>\n",
              "      <td>1.000000</td>\n",
              "      <td>-0.387372</td>\n",
              "    </tr>\n",
              "    <tr>\n",
              "      <th>Payment_Method_Mailed check</th>\n",
              "      <td>-0.233852</td>\n",
              "      <td>-0.377437</td>\n",
              "      <td>-0.091683</td>\n",
              "      <td>0.013744</td>\n",
              "      <td>-0.153477</td>\n",
              "      <td>-0.095125</td>\n",
              "      <td>0.071056</td>\n",
              "      <td>-0.003319</td>\n",
              "      <td>0.003319</td>\n",
              "      <td>-0.227206</td>\n",
              "      <td>-0.306834</td>\n",
              "      <td>0.321361</td>\n",
              "      <td>0.321361</td>\n",
              "      <td>-0.080798</td>\n",
              "      <td>0.321361</td>\n",
              "      <td>-0.174164</td>\n",
              "      <td>0.321361</td>\n",
              "      <td>-0.187373</td>\n",
              "      <td>0.321361</td>\n",
              "      <td>-0.085509</td>\n",
              "      <td>0.321361</td>\n",
              "      <td>-0.247742</td>\n",
              "      <td>0.321361</td>\n",
              "      <td>-0.250595</td>\n",
              "      <td>-0.000116</td>\n",
              "      <td>-0.004705</td>\n",
              "      <td>-0.286049</td>\n",
              "      <td>-0.387372</td>\n",
              "      <td>1.000000</td>\n",
              "    </tr>\n",
              "  </tbody>\n",
              "</table>\n",
              "</div>"
            ],
            "text/plain": [
              "                                        Tenure_Months  ...  Payment_Method_Mailed check\n",
              "Tenure_Months                                1.000000  ...                    -0.233852\n",
              "Monthly_Charges                              0.247900  ...                    -0.377437\n",
              "Churn_Value                                 -0.352229  ...                    -0.091683\n",
              "Gender_Male                                  0.005106  ...                     0.013744\n",
              "Senior_Citizen_Yes                           0.016567  ...                    -0.153477\n",
              "Partner_Yes                                  0.379697  ...                    -0.095125\n",
              "Dependents_Yes                               0.131376  ...                     0.071056\n",
              "Phone_Service_Yes                            0.008448  ...                    -0.003319\n",
              "Multiple_Lines_No phone service             -0.008448  ...                     0.003319\n",
              "Multiple_Lines_Yes                           0.331941  ...                    -0.227206\n",
              "Internet_Service_Fiber optic                 0.019720  ...                    -0.306834\n",
              "Internet_Service_No                         -0.039062  ...                     0.321361\n",
              "Online_Security_No internet service         -0.039062  ...                     0.321361\n",
              "Online_Security_Yes                          0.327203  ...                    -0.080798\n",
              "Online_Backup_No internet service           -0.039062  ...                     0.321361\n",
              "Online_Backup_Yes                            0.360277  ...                    -0.174164\n",
              "Device_Protection_No internet service       -0.039062  ...                     0.321361\n",
              "Device_Protection_Yes                        0.360653  ...                    -0.187373\n",
              "Tech_Support_No internet service            -0.039062  ...                     0.321361\n",
              "Tech_Support_Yes                             0.324221  ...                    -0.085509\n",
              "Streaming_TV_No internet service            -0.039062  ...                     0.321361\n",
              "Streaming_TV_Yes                             0.279756  ...                    -0.247742\n",
              "Streaming_Movies_No internet service        -0.039062  ...                     0.321361\n",
              "Streaming_Movies_Yes                         0.286111  ...                    -0.250595\n",
              "Contract_One year                            0.202570  ...                    -0.000116\n",
              "Contract_Two year                            0.558533  ...                    -0.004705\n",
              "Payment_Method_Credit card (automatic)       0.233006  ...                    -0.286049\n",
              "Payment_Method_Electronic check             -0.208363  ...                    -0.387372\n",
              "Payment_Method_Mailed check                 -0.233852  ...                     1.000000\n",
              "\n",
              "[29 rows x 29 columns]"
            ]
          },
          "metadata": {
            "tags": []
          },
          "execution_count": 24
        }
      ]
    },
    {
      "cell_type": "code",
      "metadata": {
        "colab": {
          "base_uri": "https://localhost:8080/",
          "height": 823
        },
        "id": "GAeUnlgPAJ5f",
        "outputId": "93b39280-a170-4eb8-98eb-c68ff7e40465"
      },
      "source": [
        "# Visualize the corrolation \n",
        "\n",
        "# after dummies and graph \n",
        "\n",
        "#corr_heatmap = data.copy()\n",
        "#corr_heatmap.corr().style.background_gradient(cmap='cividis)\n",
        "\n",
        "data_heatmap = data.copy()\n",
        "data_heatmap.corr().style.background_gradient(cmap='cividis')"
      ],
      "execution_count": null,
      "outputs": [
        {
          "output_type": "execute_result",
          "data": {
            "text/html": [
              "<style  type=\"text/css\" >\n",
              "#T_8625ed14_ae3e_11eb_b83b_0242ac1c0002row0_col0,#T_8625ed14_ae3e_11eb_b83b_0242ac1c0002row1_col1,#T_8625ed14_ae3e_11eb_b83b_0242ac1c0002row2_col2,#T_8625ed14_ae3e_11eb_b83b_0242ac1c0002row3_col3,#T_8625ed14_ae3e_11eb_b83b_0242ac1c0002row4_col4,#T_8625ed14_ae3e_11eb_b83b_0242ac1c0002row5_col5,#T_8625ed14_ae3e_11eb_b83b_0242ac1c0002row6_col6,#T_8625ed14_ae3e_11eb_b83b_0242ac1c0002row7_col7,#T_8625ed14_ae3e_11eb_b83b_0242ac1c0002row8_col8,#T_8625ed14_ae3e_11eb_b83b_0242ac1c0002row9_col9,#T_8625ed14_ae3e_11eb_b83b_0242ac1c0002row10_col10,#T_8625ed14_ae3e_11eb_b83b_0242ac1c0002row11_col11,#T_8625ed14_ae3e_11eb_b83b_0242ac1c0002row11_col12,#T_8625ed14_ae3e_11eb_b83b_0242ac1c0002row11_col14,#T_8625ed14_ae3e_11eb_b83b_0242ac1c0002row11_col16,#T_8625ed14_ae3e_11eb_b83b_0242ac1c0002row11_col18,#T_8625ed14_ae3e_11eb_b83b_0242ac1c0002row11_col20,#T_8625ed14_ae3e_11eb_b83b_0242ac1c0002row11_col22,#T_8625ed14_ae3e_11eb_b83b_0242ac1c0002row12_col11,#T_8625ed14_ae3e_11eb_b83b_0242ac1c0002row12_col12,#T_8625ed14_ae3e_11eb_b83b_0242ac1c0002row12_col14,#T_8625ed14_ae3e_11eb_b83b_0242ac1c0002row12_col16,#T_8625ed14_ae3e_11eb_b83b_0242ac1c0002row12_col18,#T_8625ed14_ae3e_11eb_b83b_0242ac1c0002row12_col20,#T_8625ed14_ae3e_11eb_b83b_0242ac1c0002row12_col22,#T_8625ed14_ae3e_11eb_b83b_0242ac1c0002row13_col13,#T_8625ed14_ae3e_11eb_b83b_0242ac1c0002row14_col11,#T_8625ed14_ae3e_11eb_b83b_0242ac1c0002row14_col12,#T_8625ed14_ae3e_11eb_b83b_0242ac1c0002row14_col14,#T_8625ed14_ae3e_11eb_b83b_0242ac1c0002row14_col16,#T_8625ed14_ae3e_11eb_b83b_0242ac1c0002row14_col18,#T_8625ed14_ae3e_11eb_b83b_0242ac1c0002row14_col20,#T_8625ed14_ae3e_11eb_b83b_0242ac1c0002row14_col22,#T_8625ed14_ae3e_11eb_b83b_0242ac1c0002row15_col15,#T_8625ed14_ae3e_11eb_b83b_0242ac1c0002row16_col11,#T_8625ed14_ae3e_11eb_b83b_0242ac1c0002row16_col12,#T_8625ed14_ae3e_11eb_b83b_0242ac1c0002row16_col14,#T_8625ed14_ae3e_11eb_b83b_0242ac1c0002row16_col16,#T_8625ed14_ae3e_11eb_b83b_0242ac1c0002row16_col18,#T_8625ed14_ae3e_11eb_b83b_0242ac1c0002row16_col20,#T_8625ed14_ae3e_11eb_b83b_0242ac1c0002row16_col22,#T_8625ed14_ae3e_11eb_b83b_0242ac1c0002row17_col17,#T_8625ed14_ae3e_11eb_b83b_0242ac1c0002row18_col11,#T_8625ed14_ae3e_11eb_b83b_0242ac1c0002row18_col12,#T_8625ed14_ae3e_11eb_b83b_0242ac1c0002row18_col14,#T_8625ed14_ae3e_11eb_b83b_0242ac1c0002row18_col16,#T_8625ed14_ae3e_11eb_b83b_0242ac1c0002row18_col18,#T_8625ed14_ae3e_11eb_b83b_0242ac1c0002row18_col20,#T_8625ed14_ae3e_11eb_b83b_0242ac1c0002row18_col22,#T_8625ed14_ae3e_11eb_b83b_0242ac1c0002row19_col19,#T_8625ed14_ae3e_11eb_b83b_0242ac1c0002row20_col11,#T_8625ed14_ae3e_11eb_b83b_0242ac1c0002row20_col12,#T_8625ed14_ae3e_11eb_b83b_0242ac1c0002row20_col14,#T_8625ed14_ae3e_11eb_b83b_0242ac1c0002row20_col16,#T_8625ed14_ae3e_11eb_b83b_0242ac1c0002row20_col18,#T_8625ed14_ae3e_11eb_b83b_0242ac1c0002row20_col20,#T_8625ed14_ae3e_11eb_b83b_0242ac1c0002row20_col22,#T_8625ed14_ae3e_11eb_b83b_0242ac1c0002row21_col21,#T_8625ed14_ae3e_11eb_b83b_0242ac1c0002row22_col11,#T_8625ed14_ae3e_11eb_b83b_0242ac1c0002row22_col12,#T_8625ed14_ae3e_11eb_b83b_0242ac1c0002row22_col14,#T_8625ed14_ae3e_11eb_b83b_0242ac1c0002row22_col16,#T_8625ed14_ae3e_11eb_b83b_0242ac1c0002row22_col18,#T_8625ed14_ae3e_11eb_b83b_0242ac1c0002row22_col20,#T_8625ed14_ae3e_11eb_b83b_0242ac1c0002row22_col22,#T_8625ed14_ae3e_11eb_b83b_0242ac1c0002row23_col23,#T_8625ed14_ae3e_11eb_b83b_0242ac1c0002row24_col24,#T_8625ed14_ae3e_11eb_b83b_0242ac1c0002row25_col25,#T_8625ed14_ae3e_11eb_b83b_0242ac1c0002row26_col26,#T_8625ed14_ae3e_11eb_b83b_0242ac1c0002row27_col27,#T_8625ed14_ae3e_11eb_b83b_0242ac1c0002row28_col28{\n",
              "            background-color:  #fee838;\n",
              "            color:  #000000;\n",
              "        }#T_8625ed14_ae3e_11eb_b83b_0242ac1c0002row0_col1,#T_8625ed14_ae3e_11eb_b83b_0242ac1c0002row7_col1{\n",
              "            background-color:  #8e8978;\n",
              "            color:  #000000;\n",
              "        }#T_8625ed14_ae3e_11eb_b83b_0242ac1c0002row0_col2,#T_8625ed14_ae3e_11eb_b83b_0242ac1c0002row1_col3,#T_8625ed14_ae3e_11eb_b83b_0242ac1c0002row1_col11,#T_8625ed14_ae3e_11eb_b83b_0242ac1c0002row1_col12,#T_8625ed14_ae3e_11eb_b83b_0242ac1c0002row1_col14,#T_8625ed14_ae3e_11eb_b83b_0242ac1c0002row1_col16,#T_8625ed14_ae3e_11eb_b83b_0242ac1c0002row1_col18,#T_8625ed14_ae3e_11eb_b83b_0242ac1c0002row1_col20,#T_8625ed14_ae3e_11eb_b83b_0242ac1c0002row1_col22,#T_8625ed14_ae3e_11eb_b83b_0242ac1c0002row2_col0,#T_8625ed14_ae3e_11eb_b83b_0242ac1c0002row2_col5,#T_8625ed14_ae3e_11eb_b83b_0242ac1c0002row2_col6,#T_8625ed14_ae3e_11eb_b83b_0242ac1c0002row2_col25,#T_8625ed14_ae3e_11eb_b83b_0242ac1c0002row7_col8,#T_8625ed14_ae3e_11eb_b83b_0242ac1c0002row8_col7,#T_8625ed14_ae3e_11eb_b83b_0242ac1c0002row8_col9,#T_8625ed14_ae3e_11eb_b83b_0242ac1c0002row11_col1,#T_8625ed14_ae3e_11eb_b83b_0242ac1c0002row11_col4,#T_8625ed14_ae3e_11eb_b83b_0242ac1c0002row11_col10,#T_8625ed14_ae3e_11eb_b83b_0242ac1c0002row11_col13,#T_8625ed14_ae3e_11eb_b83b_0242ac1c0002row11_col15,#T_8625ed14_ae3e_11eb_b83b_0242ac1c0002row11_col17,#T_8625ed14_ae3e_11eb_b83b_0242ac1c0002row11_col19,#T_8625ed14_ae3e_11eb_b83b_0242ac1c0002row11_col21,#T_8625ed14_ae3e_11eb_b83b_0242ac1c0002row11_col23,#T_8625ed14_ae3e_11eb_b83b_0242ac1c0002row12_col1,#T_8625ed14_ae3e_11eb_b83b_0242ac1c0002row12_col4,#T_8625ed14_ae3e_11eb_b83b_0242ac1c0002row12_col10,#T_8625ed14_ae3e_11eb_b83b_0242ac1c0002row12_col13,#T_8625ed14_ae3e_11eb_b83b_0242ac1c0002row12_col15,#T_8625ed14_ae3e_11eb_b83b_0242ac1c0002row12_col17,#T_8625ed14_ae3e_11eb_b83b_0242ac1c0002row12_col19,#T_8625ed14_ae3e_11eb_b83b_0242ac1c0002row12_col21,#T_8625ed14_ae3e_11eb_b83b_0242ac1c0002row12_col23,#T_8625ed14_ae3e_11eb_b83b_0242ac1c0002row13_col3,#T_8625ed14_ae3e_11eb_b83b_0242ac1c0002row14_col1,#T_8625ed14_ae3e_11eb_b83b_0242ac1c0002row14_col4,#T_8625ed14_ae3e_11eb_b83b_0242ac1c0002row14_col10,#T_8625ed14_ae3e_11eb_b83b_0242ac1c0002row14_col13,#T_8625ed14_ae3e_11eb_b83b_0242ac1c0002row14_col15,#T_8625ed14_ae3e_11eb_b83b_0242ac1c0002row14_col17,#T_8625ed14_ae3e_11eb_b83b_0242ac1c0002row14_col19,#T_8625ed14_ae3e_11eb_b83b_0242ac1c0002row14_col21,#T_8625ed14_ae3e_11eb_b83b_0242ac1c0002row14_col23,#T_8625ed14_ae3e_11eb_b83b_0242ac1c0002row15_col3,#T_8625ed14_ae3e_11eb_b83b_0242ac1c0002row16_col1,#T_8625ed14_ae3e_11eb_b83b_0242ac1c0002row16_col4,#T_8625ed14_ae3e_11eb_b83b_0242ac1c0002row16_col10,#T_8625ed14_ae3e_11eb_b83b_0242ac1c0002row16_col13,#T_8625ed14_ae3e_11eb_b83b_0242ac1c0002row16_col15,#T_8625ed14_ae3e_11eb_b83b_0242ac1c0002row16_col17,#T_8625ed14_ae3e_11eb_b83b_0242ac1c0002row16_col19,#T_8625ed14_ae3e_11eb_b83b_0242ac1c0002row16_col21,#T_8625ed14_ae3e_11eb_b83b_0242ac1c0002row16_col23,#T_8625ed14_ae3e_11eb_b83b_0242ac1c0002row18_col1,#T_8625ed14_ae3e_11eb_b83b_0242ac1c0002row18_col4,#T_8625ed14_ae3e_11eb_b83b_0242ac1c0002row18_col10,#T_8625ed14_ae3e_11eb_b83b_0242ac1c0002row18_col13,#T_8625ed14_ae3e_11eb_b83b_0242ac1c0002row18_col15,#T_8625ed14_ae3e_11eb_b83b_0242ac1c0002row18_col17,#T_8625ed14_ae3e_11eb_b83b_0242ac1c0002row18_col19,#T_8625ed14_ae3e_11eb_b83b_0242ac1c0002row18_col21,#T_8625ed14_ae3e_11eb_b83b_0242ac1c0002row18_col23,#T_8625ed14_ae3e_11eb_b83b_0242ac1c0002row20_col1,#T_8625ed14_ae3e_11eb_b83b_0242ac1c0002row20_col4,#T_8625ed14_ae3e_11eb_b83b_0242ac1c0002row20_col10,#T_8625ed14_ae3e_11eb_b83b_0242ac1c0002row20_col13,#T_8625ed14_ae3e_11eb_b83b_0242ac1c0002row20_col15,#T_8625ed14_ae3e_11eb_b83b_0242ac1c0002row20_col17,#T_8625ed14_ae3e_11eb_b83b_0242ac1c0002row20_col19,#T_8625ed14_ae3e_11eb_b83b_0242ac1c0002row20_col21,#T_8625ed14_ae3e_11eb_b83b_0242ac1c0002row20_col23,#T_8625ed14_ae3e_11eb_b83b_0242ac1c0002row22_col1,#T_8625ed14_ae3e_11eb_b83b_0242ac1c0002row22_col4,#T_8625ed14_ae3e_11eb_b83b_0242ac1c0002row22_col10,#T_8625ed14_ae3e_11eb_b83b_0242ac1c0002row22_col13,#T_8625ed14_ae3e_11eb_b83b_0242ac1c0002row22_col15,#T_8625ed14_ae3e_11eb_b83b_0242ac1c0002row22_col17,#T_8625ed14_ae3e_11eb_b83b_0242ac1c0002row22_col19,#T_8625ed14_ae3e_11eb_b83b_0242ac1c0002row22_col21,#T_8625ed14_ae3e_11eb_b83b_0242ac1c0002row22_col23,#T_8625ed14_ae3e_11eb_b83b_0242ac1c0002row25_col24,#T_8625ed14_ae3e_11eb_b83b_0242ac1c0002row27_col26,#T_8625ed14_ae3e_11eb_b83b_0242ac1c0002row27_col28,#T_8625ed14_ae3e_11eb_b83b_0242ac1c0002row28_col27{\n",
              "            background-color:  #00224e;\n",
              "            color:  #f1f1f1;\n",
              "        }#T_8625ed14_ae3e_11eb_b83b_0242ac1c0002row0_col3,#T_8625ed14_ae3e_11eb_b83b_0242ac1c0002row6_col3,#T_8625ed14_ae3e_11eb_b83b_0242ac1c0002row8_col3,#T_8625ed14_ae3e_11eb_b83b_0242ac1c0002row11_col3,#T_8625ed14_ae3e_11eb_b83b_0242ac1c0002row12_col3,#T_8625ed14_ae3e_11eb_b83b_0242ac1c0002row14_col3,#T_8625ed14_ae3e_11eb_b83b_0242ac1c0002row16_col3,#T_8625ed14_ae3e_11eb_b83b_0242ac1c0002row18_col3,#T_8625ed14_ae3e_11eb_b83b_0242ac1c0002row20_col3,#T_8625ed14_ae3e_11eb_b83b_0242ac1c0002row22_col3{\n",
              "            background-color:  #002656;\n",
              "            color:  #f1f1f1;\n",
              "        }#T_8625ed14_ae3e_11eb_b83b_0242ac1c0002row0_col4,#T_8625ed14_ae3e_11eb_b83b_0242ac1c0002row4_col28,#T_8625ed14_ae3e_11eb_b83b_0242ac1c0002row5_col4,#T_8625ed14_ae3e_11eb_b83b_0242ac1c0002row10_col11,#T_8625ed14_ae3e_11eb_b83b_0242ac1c0002row10_col12,#T_8625ed14_ae3e_11eb_b83b_0242ac1c0002row10_col14,#T_8625ed14_ae3e_11eb_b83b_0242ac1c0002row10_col16,#T_8625ed14_ae3e_11eb_b83b_0242ac1c0002row10_col18,#T_8625ed14_ae3e_11eb_b83b_0242ac1c0002row10_col20,#T_8625ed14_ae3e_11eb_b83b_0242ac1c0002row10_col22{\n",
              "            background-color:  #2b406d;\n",
              "            color:  #f1f1f1;\n",
              "        }#T_8625ed14_ae3e_11eb_b83b_0242ac1c0002row0_col5,#T_8625ed14_ae3e_11eb_b83b_0242ac1c0002row21_col19,#T_8625ed14_ae3e_11eb_b83b_0242ac1c0002row23_col19{\n",
              "            background-color:  #737475;\n",
              "            color:  #000000;\n",
              "        }#T_8625ed14_ae3e_11eb_b83b_0242ac1c0002row0_col6,#T_8625ed14_ae3e_11eb_b83b_0242ac1c0002row2_col11,#T_8625ed14_ae3e_11eb_b83b_0242ac1c0002row2_col12,#T_8625ed14_ae3e_11eb_b83b_0242ac1c0002row2_col14,#T_8625ed14_ae3e_11eb_b83b_0242ac1c0002row2_col16,#T_8625ed14_ae3e_11eb_b83b_0242ac1c0002row2_col18,#T_8625ed14_ae3e_11eb_b83b_0242ac1c0002row2_col20,#T_8625ed14_ae3e_11eb_b83b_0242ac1c0002row2_col22,#T_8625ed14_ae3e_11eb_b83b_0242ac1c0002row6_col26,#T_8625ed14_ae3e_11eb_b83b_0242ac1c0002row13_col24,#T_8625ed14_ae3e_11eb_b83b_0242ac1c0002row17_col24,#T_8625ed14_ae3e_11eb_b83b_0242ac1c0002row19_col10,#T_8625ed14_ae3e_11eb_b83b_0242ac1c0002row21_col26,#T_8625ed14_ae3e_11eb_b83b_0242ac1c0002row25_col9{\n",
              "            background-color:  #50576c;\n",
              "            color:  #f1f1f1;\n",
              "        }#T_8625ed14_ae3e_11eb_b83b_0242ac1c0002row0_col7,#T_8625ed14_ae3e_11eb_b83b_0242ac1c0002row1_col19,#T_8625ed14_ae3e_11eb_b83b_0242ac1c0002row2_col7,#T_8625ed14_ae3e_11eb_b83b_0242ac1c0002row4_col7,#T_8625ed14_ae3e_11eb_b83b_0242ac1c0002row9_col0,#T_8625ed14_ae3e_11eb_b83b_0242ac1c0002row10_col9{\n",
              "            background-color:  #7e7c78;\n",
              "            color:  #000000;\n",
              "        }#T_8625ed14_ae3e_11eb_b83b_0242ac1c0002row0_col8,#T_8625ed14_ae3e_11eb_b83b_0242ac1c0002row0_col13,#T_8625ed14_ae3e_11eb_b83b_0242ac1c0002row0_col19,#T_8625ed14_ae3e_11eb_b83b_0242ac1c0002row2_col8,#T_8625ed14_ae3e_11eb_b83b_0242ac1c0002row4_col8,#T_8625ed14_ae3e_11eb_b83b_0242ac1c0002row15_col17,#T_8625ed14_ae3e_11eb_b83b_0242ac1c0002row15_col21,#T_8625ed14_ae3e_11eb_b83b_0242ac1c0002row17_col15{\n",
              "            background-color:  #7b7a78;\n",
              "            color:  #000000;\n",
              "        }#T_8625ed14_ae3e_11eb_b83b_0242ac1c0002row0_col9,#T_8625ed14_ae3e_11eb_b83b_0242ac1c0002row9_col23,#T_8625ed14_ae3e_11eb_b83b_0242ac1c0002row21_col15{\n",
              "            background-color:  #777777;\n",
              "            color:  #000000;\n",
              "        }#T_8625ed14_ae3e_11eb_b83b_0242ac1c0002row0_col10,#T_8625ed14_ae3e_11eb_b83b_0242ac1c0002row4_col9,#T_8625ed14_ae3e_11eb_b83b_0242ac1c0002row4_col11,#T_8625ed14_ae3e_11eb_b83b_0242ac1c0002row4_col12,#T_8625ed14_ae3e_11eb_b83b_0242ac1c0002row4_col14,#T_8625ed14_ae3e_11eb_b83b_0242ac1c0002row4_col16,#T_8625ed14_ae3e_11eb_b83b_0242ac1c0002row4_col18,#T_8625ed14_ae3e_11eb_b83b_0242ac1c0002row4_col20,#T_8625ed14_ae3e_11eb_b83b_0242ac1c0002row4_col22,#T_8625ed14_ae3e_11eb_b83b_0242ac1c0002row5_col9,#T_8625ed14_ae3e_11eb_b83b_0242ac1c0002row5_col26,#T_8625ed14_ae3e_11eb_b83b_0242ac1c0002row6_col28,#T_8625ed14_ae3e_11eb_b83b_0242ac1c0002row26_col23{\n",
              "            background-color:  #565c6d;\n",
              "            color:  #f1f1f1;\n",
              "        }#T_8625ed14_ae3e_11eb_b83b_0242ac1c0002row0_col11,#T_8625ed14_ae3e_11eb_b83b_0242ac1c0002row0_col12,#T_8625ed14_ae3e_11eb_b83b_0242ac1c0002row0_col14,#T_8625ed14_ae3e_11eb_b83b_0242ac1c0002row0_col16,#T_8625ed14_ae3e_11eb_b83b_0242ac1c0002row0_col18,#T_8625ed14_ae3e_11eb_b83b_0242ac1c0002row0_col20,#T_8625ed14_ae3e_11eb_b83b_0242ac1c0002row0_col22,#T_8625ed14_ae3e_11eb_b83b_0242ac1c0002row11_col8,#T_8625ed14_ae3e_11eb_b83b_0242ac1c0002row12_col8,#T_8625ed14_ae3e_11eb_b83b_0242ac1c0002row14_col8,#T_8625ed14_ae3e_11eb_b83b_0242ac1c0002row16_col8,#T_8625ed14_ae3e_11eb_b83b_0242ac1c0002row18_col8,#T_8625ed14_ae3e_11eb_b83b_0242ac1c0002row20_col8,#T_8625ed14_ae3e_11eb_b83b_0242ac1c0002row22_col8,#T_8625ed14_ae3e_11eb_b83b_0242ac1c0002row24_col0{\n",
              "            background-color:  #696b71;\n",
              "            color:  #000000;\n",
              "        }#T_8625ed14_ae3e_11eb_b83b_0242ac1c0002row0_col15,#T_8625ed14_ae3e_11eb_b83b_0242ac1c0002row0_col17,#T_8625ed14_ae3e_11eb_b83b_0242ac1c0002row17_col8,#T_8625ed14_ae3e_11eb_b83b_0242ac1c0002row23_col10{\n",
              "            background-color:  #858279;\n",
              "            color:  #000000;\n",
              "        }#T_8625ed14_ae3e_11eb_b83b_0242ac1c0002row0_col21,#T_8625ed14_ae3e_11eb_b83b_0242ac1c0002row4_col10,#T_8625ed14_ae3e_11eb_b83b_0242ac1c0002row5_col6,#T_8625ed14_ae3e_11eb_b83b_0242ac1c0002row5_col8,#T_8625ed14_ae3e_11eb_b83b_0242ac1c0002row15_col23,#T_8625ed14_ae3e_11eb_b83b_0242ac1c0002row19_col15,#T_8625ed14_ae3e_11eb_b83b_0242ac1c0002row19_col21,#T_8625ed14_ae3e_11eb_b83b_0242ac1c0002row19_col23,#T_8625ed14_ae3e_11eb_b83b_0242ac1c0002row21_col7{\n",
              "            background-color:  #7a7a78;\n",
              "            color:  #000000;\n",
              "        }#T_8625ed14_ae3e_11eb_b83b_0242ac1c0002row0_col23,#T_8625ed14_ae3e_11eb_b83b_0242ac1c0002row2_col27,#T_8625ed14_ae3e_11eb_b83b_0242ac1c0002row3_col7,#T_8625ed14_ae3e_11eb_b83b_0242ac1c0002row6_col8,#T_8625ed14_ae3e_11eb_b83b_0242ac1c0002row24_col7,#T_8625ed14_ae3e_11eb_b83b_0242ac1c0002row25_col8,#T_8625ed14_ae3e_11eb_b83b_0242ac1c0002row26_col7,#T_8625ed14_ae3e_11eb_b83b_0242ac1c0002row27_col8,#T_8625ed14_ae3e_11eb_b83b_0242ac1c0002row28_col7{\n",
              "            background-color:  #7c7b78;\n",
              "            color:  #000000;\n",
              "        }#T_8625ed14_ae3e_11eb_b83b_0242ac1c0002row0_col24,#T_8625ed14_ae3e_11eb_b83b_0242ac1c0002row4_col23,#T_8625ed14_ae3e_11eb_b83b_0242ac1c0002row5_col21,#T_8625ed14_ae3e_11eb_b83b_0242ac1c0002row13_col25,#T_8625ed14_ae3e_11eb_b83b_0242ac1c0002row21_col13{\n",
              "            background-color:  #62656f;\n",
              "            color:  #f1f1f1;\n",
              "        }#T_8625ed14_ae3e_11eb_b83b_0242ac1c0002row0_col25{\n",
              "            background-color:  #a49b74;\n",
              "            color:  #000000;\n",
              "        }#T_8625ed14_ae3e_11eb_b83b_0242ac1c0002row0_col26,#T_8625ed14_ae3e_11eb_b83b_0242ac1c0002row1_col0{\n",
              "            background-color:  #707173;\n",
              "            color:  #000000;\n",
              "        }#T_8625ed14_ae3e_11eb_b83b_0242ac1c0002row0_col27,#T_8625ed14_ae3e_11eb_b83b_0242ac1c0002row3_col5,#T_8625ed14_ae3e_11eb_b83b_0242ac1c0002row10_col5,#T_8625ed14_ae3e_11eb_b83b_0242ac1c0002row11_col5,#T_8625ed14_ae3e_11eb_b83b_0242ac1c0002row12_col5,#T_8625ed14_ae3e_11eb_b83b_0242ac1c0002row14_col5,#T_8625ed14_ae3e_11eb_b83b_0242ac1c0002row16_col5,#T_8625ed14_ae3e_11eb_b83b_0242ac1c0002row18_col5,#T_8625ed14_ae3e_11eb_b83b_0242ac1c0002row20_col5,#T_8625ed14_ae3e_11eb_b83b_0242ac1c0002row22_col5,#T_8625ed14_ae3e_11eb_b83b_0242ac1c0002row24_col2{\n",
              "            background-color:  #1c396f;\n",
              "            color:  #f1f1f1;\n",
              "        }#T_8625ed14_ae3e_11eb_b83b_0242ac1c0002row0_col28{\n",
              "            background-color:  #123570;\n",
              "            color:  #f1f1f1;\n",
              "        }#T_8625ed14_ae3e_11eb_b83b_0242ac1c0002row1_col2,#T_8625ed14_ae3e_11eb_b83b_0242ac1c0002row4_col27,#T_8625ed14_ae3e_11eb_b83b_0242ac1c0002row10_col17{\n",
              "            background-color:  #676a71;\n",
              "            color:  #000000;\n",
              "        }#T_8625ed14_ae3e_11eb_b83b_0242ac1c0002row1_col4,#T_8625ed14_ae3e_11eb_b83b_0242ac1c0002row5_col19,#T_8625ed14_ae3e_11eb_b83b_0242ac1c0002row24_col23,#T_8625ed14_ae3e_11eb_b83b_0242ac1c0002row26_col15{\n",
              "            background-color:  #595e6e;\n",
              "            color:  #f1f1f1;\n",
              "        }#T_8625ed14_ae3e_11eb_b83b_0242ac1c0002row1_col5,#T_8625ed14_ae3e_11eb_b83b_0242ac1c0002row2_col15,#T_8625ed14_ae3e_11eb_b83b_0242ac1c0002row15_col11,#T_8625ed14_ae3e_11eb_b83b_0242ac1c0002row15_col12,#T_8625ed14_ae3e_11eb_b83b_0242ac1c0002row15_col14,#T_8625ed14_ae3e_11eb_b83b_0242ac1c0002row15_col16,#T_8625ed14_ae3e_11eb_b83b_0242ac1c0002row15_col18,#T_8625ed14_ae3e_11eb_b83b_0242ac1c0002row15_col20,#T_8625ed14_ae3e_11eb_b83b_0242ac1c0002row15_col22,#T_8625ed14_ae3e_11eb_b83b_0242ac1c0002row17_col11,#T_8625ed14_ae3e_11eb_b83b_0242ac1c0002row17_col12,#T_8625ed14_ae3e_11eb_b83b_0242ac1c0002row17_col14,#T_8625ed14_ae3e_11eb_b83b_0242ac1c0002row17_col16,#T_8625ed14_ae3e_11eb_b83b_0242ac1c0002row17_col18,#T_8625ed14_ae3e_11eb_b83b_0242ac1c0002row17_col20,#T_8625ed14_ae3e_11eb_b83b_0242ac1c0002row17_col22,#T_8625ed14_ae3e_11eb_b83b_0242ac1c0002row19_col28,#T_8625ed14_ae3e_11eb_b83b_0242ac1c0002row24_col9{\n",
              "            background-color:  #3a486c;\n",
              "            color:  #f1f1f1;\n",
              "        }#T_8625ed14_ae3e_11eb_b83b_0242ac1c0002row1_col6,#T_8625ed14_ae3e_11eb_b83b_0242ac1c0002row27_col6{\n",
              "            background-color:  #003170;\n",
              "            color:  #f1f1f1;\n",
              "        }#T_8625ed14_ae3e_11eb_b83b_0242ac1c0002row1_col7,#T_8625ed14_ae3e_11eb_b83b_0242ac1c0002row19_col1{\n",
              "            background-color:  #9a9376;\n",
              "            color:  #000000;\n",
              "        }#T_8625ed14_ae3e_11eb_b83b_0242ac1c0002row1_col8,#T_8625ed14_ae3e_11eb_b83b_0242ac1c0002row5_col15,#T_8625ed14_ae3e_11eb_b83b_0242ac1c0002row5_col23,#T_8625ed14_ae3e_11eb_b83b_0242ac1c0002row6_col25,#T_8625ed14_ae3e_11eb_b83b_0242ac1c0002row15_col9,#T_8625ed14_ae3e_11eb_b83b_0242ac1c0002row17_col9,#T_8625ed14_ae3e_11eb_b83b_0242ac1c0002row23_col27{\n",
              "            background-color:  #61656f;\n",
              "            color:  #f1f1f1;\n",
              "        }#T_8625ed14_ae3e_11eb_b83b_0242ac1c0002row1_col9{\n",
              "            background-color:  #958f77;\n",
              "            color:  #000000;\n",
              "        }#T_8625ed14_ae3e_11eb_b83b_0242ac1c0002row1_col10{\n",
              "            background-color:  #d7c45c;\n",
              "            color:  #000000;\n",
              "        }#T_8625ed14_ae3e_11eb_b83b_0242ac1c0002row1_col13,#T_8625ed14_ae3e_11eb_b83b_0242ac1c0002row15_col19,#T_8625ed14_ae3e_11eb_b83b_0242ac1c0002row23_col0{\n",
              "            background-color:  #767676;\n",
              "            color:  #000000;\n",
              "        }#T_8625ed14_ae3e_11eb_b83b_0242ac1c0002row1_col15{\n",
              "            background-color:  #938e78;\n",
              "            color:  #000000;\n",
              "        }#T_8625ed14_ae3e_11eb_b83b_0242ac1c0002row1_col17{\n",
              "            background-color:  #9b9476;\n",
              "            color:  #000000;\n",
              "        }#T_8625ed14_ae3e_11eb_b83b_0242ac1c0002row1_col21{\n",
              "            background-color:  #b9ab6d;\n",
              "            color:  #000000;\n",
              "        }#T_8625ed14_ae3e_11eb_b83b_0242ac1c0002row1_col23{\n",
              "            background-color:  #b8aa6e;\n",
              "            color:  #000000;\n",
              "        }#T_8625ed14_ae3e_11eb_b83b_0242ac1c0002row1_col24,#T_8625ed14_ae3e_11eb_b83b_0242ac1c0002row2_col17,#T_8625ed14_ae3e_11eb_b83b_0242ac1c0002row3_col25,#T_8625ed14_ae3e_11eb_b83b_0242ac1c0002row8_col24,#T_8625ed14_ae3e_11eb_b83b_0242ac1c0002row8_col25,#T_8625ed14_ae3e_11eb_b83b_0242ac1c0002row10_col13,#T_8625ed14_ae3e_11eb_b83b_0242ac1c0002row28_col25{\n",
              "            background-color:  #3d4a6c;\n",
              "            color:  #f1f1f1;\n",
              "        }#T_8625ed14_ae3e_11eb_b83b_0242ac1c0002row1_col25,#T_8625ed14_ae3e_11eb_b83b_0242ac1c0002row2_col26,#T_8625ed14_ae3e_11eb_b83b_0242ac1c0002row25_col10{\n",
              "            background-color:  #2d416d;\n",
              "            color:  #f1f1f1;\n",
              "        }#T_8625ed14_ae3e_11eb_b83b_0242ac1c0002row1_col26,#T_8625ed14_ae3e_11eb_b83b_0242ac1c0002row13_col9,#T_8625ed14_ae3e_11eb_b83b_0242ac1c0002row13_col10{\n",
              "            background-color:  #4e566c;\n",
              "            color:  #f1f1f1;\n",
              "        }#T_8625ed14_ae3e_11eb_b83b_0242ac1c0002row1_col27,#T_8625ed14_ae3e_11eb_b83b_0242ac1c0002row9_col21,#T_8625ed14_ae3e_11eb_b83b_0242ac1c0002row13_col17,#T_8625ed14_ae3e_11eb_b83b_0242ac1c0002row15_col7,#T_8625ed14_ae3e_11eb_b83b_0242ac1c0002row23_col15{\n",
              "            background-color:  #777776;\n",
              "            color:  #000000;\n",
              "        }#T_8625ed14_ae3e_11eb_b83b_0242ac1c0002row1_col28,#T_8625ed14_ae3e_11eb_b83b_0242ac1c0002row6_col4,#T_8625ed14_ae3e_11eb_b83b_0242ac1c0002row10_col3,#T_8625ed14_ae3e_11eb_b83b_0242ac1c0002row19_col3,#T_8625ed14_ae3e_11eb_b83b_0242ac1c0002row23_col3{\n",
              "            background-color:  #00234f;\n",
              "            color:  #f1f1f1;\n",
              "        }#T_8625ed14_ae3e_11eb_b83b_0242ac1c0002row2_col1,#T_8625ed14_ae3e_11eb_b83b_0242ac1c0002row5_col0,#T_8625ed14_ae3e_11eb_b83b_0242ac1c0002row21_col10{\n",
              "            background-color:  #868379;\n",
              "            color:  #000000;\n",
              "        }#T_8625ed14_ae3e_11eb_b83b_0242ac1c0002row2_col3,#T_8625ed14_ae3e_11eb_b83b_0242ac1c0002row7_col3,#T_8625ed14_ae3e_11eb_b83b_0242ac1c0002row9_col3,#T_8625ed14_ae3e_11eb_b83b_0242ac1c0002row21_col3,#T_8625ed14_ae3e_11eb_b83b_0242ac1c0002row24_col25,#T_8625ed14_ae3e_11eb_b83b_0242ac1c0002row26_col27{\n",
              "            background-color:  #002451;\n",
              "            color:  #f1f1f1;\n",
              "        }#T_8625ed14_ae3e_11eb_b83b_0242ac1c0002row2_col4,#T_8625ed14_ae3e_11eb_b83b_0242ac1c0002row7_col27,#T_8625ed14_ae3e_11eb_b83b_0242ac1c0002row8_col28,#T_8625ed14_ae3e_11eb_b83b_0242ac1c0002row26_col10,#T_8625ed14_ae3e_11eb_b83b_0242ac1c0002row27_col9{\n",
              "            background-color:  #4b546c;\n",
              "            color:  #f1f1f1;\n",
              "        }#T_8625ed14_ae3e_11eb_b83b_0242ac1c0002row2_col9{\n",
              "            background-color:  #424e6c;\n",
              "            color:  #f1f1f1;\n",
              "        }#T_8625ed14_ae3e_11eb_b83b_0242ac1c0002row2_col10,#T_8625ed14_ae3e_11eb_b83b_0242ac1c0002row6_col11,#T_8625ed14_ae3e_11eb_b83b_0242ac1c0002row6_col12,#T_8625ed14_ae3e_11eb_b83b_0242ac1c0002row6_col14,#T_8625ed14_ae3e_11eb_b83b_0242ac1c0002row6_col16,#T_8625ed14_ae3e_11eb_b83b_0242ac1c0002row6_col18,#T_8625ed14_ae3e_11eb_b83b_0242ac1c0002row6_col20,#T_8625ed14_ae3e_11eb_b83b_0242ac1c0002row6_col22,#T_8625ed14_ae3e_11eb_b83b_0242ac1c0002row7_col11,#T_8625ed14_ae3e_11eb_b83b_0242ac1c0002row7_col12,#T_8625ed14_ae3e_11eb_b83b_0242ac1c0002row7_col14,#T_8625ed14_ae3e_11eb_b83b_0242ac1c0002row7_col16,#T_8625ed14_ae3e_11eb_b83b_0242ac1c0002row7_col18,#T_8625ed14_ae3e_11eb_b83b_0242ac1c0002row7_col20,#T_8625ed14_ae3e_11eb_b83b_0242ac1c0002row7_col22{\n",
              "            background-color:  #838179;\n",
              "            color:  #000000;\n",
              "        }#T_8625ed14_ae3e_11eb_b83b_0242ac1c0002row2_col13,#T_8625ed14_ae3e_11eb_b83b_0242ac1c0002row13_col4{\n",
              "            background-color:  #18376f;\n",
              "            color:  #f1f1f1;\n",
              "        }#T_8625ed14_ae3e_11eb_b83b_0242ac1c0002row2_col19{\n",
              "            background-color:  #1a386f;\n",
              "            color:  #f1f1f1;\n",
              "        }#T_8625ed14_ae3e_11eb_b83b_0242ac1c0002row2_col21,#T_8625ed14_ae3e_11eb_b83b_0242ac1c0002row2_col23,#T_8625ed14_ae3e_11eb_b83b_0242ac1c0002row9_col27,#T_8625ed14_ae3e_11eb_b83b_0242ac1c0002row11_col6,#T_8625ed14_ae3e_11eb_b83b_0242ac1c0002row12_col6,#T_8625ed14_ae3e_11eb_b83b_0242ac1c0002row14_col6,#T_8625ed14_ae3e_11eb_b83b_0242ac1c0002row15_col26,#T_8625ed14_ae3e_11eb_b83b_0242ac1c0002row16_col6,#T_8625ed14_ae3e_11eb_b83b_0242ac1c0002row18_col6,#T_8625ed14_ae3e_11eb_b83b_0242ac1c0002row20_col6,#T_8625ed14_ae3e_11eb_b83b_0242ac1c0002row22_col6,#T_8625ed14_ae3e_11eb_b83b_0242ac1c0002row24_col15,#T_8625ed14_ae3e_11eb_b83b_0242ac1c0002row24_col21,#T_8625ed14_ae3e_11eb_b83b_0242ac1c0002row26_col13,#T_8625ed14_ae3e_11eb_b83b_0242ac1c0002row26_col19{\n",
              "            background-color:  #585e6d;\n",
              "            color:  #f1f1f1;\n",
              "        }#T_8625ed14_ae3e_11eb_b83b_0242ac1c0002row2_col24,#T_8625ed14_ae3e_11eb_b83b_0242ac1c0002row28_col0{\n",
              "            background-color:  #003171;\n",
              "            color:  #f1f1f1;\n",
              "        }#T_8625ed14_ae3e_11eb_b83b_0242ac1c0002row2_col28,#T_8625ed14_ae3e_11eb_b83b_0242ac1c0002row3_col9,#T_8625ed14_ae3e_11eb_b83b_0242ac1c0002row17_col2{\n",
              "            background-color:  #39486c;\n",
              "            color:  #f1f1f1;\n",
              "        }#T_8625ed14_ae3e_11eb_b83b_0242ac1c0002row3_col0,#T_8625ed14_ae3e_11eb_b83b_0242ac1c0002row17_col5,#T_8625ed14_ae3e_11eb_b83b_0242ac1c0002row26_col9{\n",
              "            background-color:  #46516c;\n",
              "            color:  #f1f1f1;\n",
              "        }#T_8625ed14_ae3e_11eb_b83b_0242ac1c0002row3_col1,#T_8625ed14_ae3e_11eb_b83b_0242ac1c0002row5_col25,#T_8625ed14_ae3e_11eb_b83b_0242ac1c0002row9_col15{\n",
              "            background-color:  #6c6d72;\n",
              "            color:  #000000;\n",
              "        }#T_8625ed14_ae3e_11eb_b83b_0242ac1c0002row3_col2,#T_8625ed14_ae3e_11eb_b83b_0242ac1c0002row4_col26,#T_8625ed14_ae3e_11eb_b83b_0242ac1c0002row8_col0,#T_8625ed14_ae3e_11eb_b83b_0242ac1c0002row9_col5,#T_8625ed14_ae3e_11eb_b83b_0242ac1c0002row11_col24,#T_8625ed14_ae3e_11eb_b83b_0242ac1c0002row12_col24,#T_8625ed14_ae3e_11eb_b83b_0242ac1c0002row13_col5,#T_8625ed14_ae3e_11eb_b83b_0242ac1c0002row14_col24,#T_8625ed14_ae3e_11eb_b83b_0242ac1c0002row16_col24,#T_8625ed14_ae3e_11eb_b83b_0242ac1c0002row18_col24,#T_8625ed14_ae3e_11eb_b83b_0242ac1c0002row20_col24,#T_8625ed14_ae3e_11eb_b83b_0242ac1c0002row22_col24,#T_8625ed14_ae3e_11eb_b83b_0242ac1c0002row23_col4,#T_8625ed14_ae3e_11eb_b83b_0242ac1c0002row28_col6{\n",
              "            background-color:  #444f6c;\n",
              "            color:  #f1f1f1;\n",
              "        }#T_8625ed14_ae3e_11eb_b83b_0242ac1c0002row3_col4,#T_8625ed14_ae3e_11eb_b83b_0242ac1c0002row15_col28,#T_8625ed14_ae3e_11eb_b83b_0242ac1c0002row21_col6{\n",
              "            background-color:  #263d6e;\n",
              "            color:  #f1f1f1;\n",
              "        }#T_8625ed14_ae3e_11eb_b83b_0242ac1c0002row3_col6,#T_8625ed14_ae3e_11eb_b83b_0242ac1c0002row4_col19,#T_8625ed14_ae3e_11eb_b83b_0242ac1c0002row6_col10,#T_8625ed14_ae3e_11eb_b83b_0242ac1c0002row17_col4{\n",
              "            background-color:  #36466c;\n",
              "            color:  #f1f1f1;\n",
              "        }#T_8625ed14_ae3e_11eb_b83b_0242ac1c0002row3_col8,#T_8625ed14_ae3e_11eb_b83b_0242ac1c0002row6_col7,#T_8625ed14_ae3e_11eb_b83b_0242ac1c0002row13_col0,#T_8625ed14_ae3e_11eb_b83b_0242ac1c0002row17_col19,#T_8625ed14_ae3e_11eb_b83b_0242ac1c0002row19_col0,#T_8625ed14_ae3e_11eb_b83b_0242ac1c0002row24_col8,#T_8625ed14_ae3e_11eb_b83b_0242ac1c0002row25_col7,#T_8625ed14_ae3e_11eb_b83b_0242ac1c0002row26_col8,#T_8625ed14_ae3e_11eb_b83b_0242ac1c0002row27_col7,#T_8625ed14_ae3e_11eb_b83b_0242ac1c0002row28_col8{\n",
              "            background-color:  #7d7c78;\n",
              "            color:  #000000;\n",
              "        }#T_8625ed14_ae3e_11eb_b83b_0242ac1c0002row3_col10,#T_8625ed14_ae3e_11eb_b83b_0242ac1c0002row8_col21{\n",
              "            background-color:  #52596d;\n",
              "            color:  #f1f1f1;\n",
              "        }#T_8625ed14_ae3e_11eb_b83b_0242ac1c0002row3_col11,#T_8625ed14_ae3e_11eb_b83b_0242ac1c0002row3_col12,#T_8625ed14_ae3e_11eb_b83b_0242ac1c0002row3_col14,#T_8625ed14_ae3e_11eb_b83b_0242ac1c0002row3_col16,#T_8625ed14_ae3e_11eb_b83b_0242ac1c0002row3_col18,#T_8625ed14_ae3e_11eb_b83b_0242ac1c0002row3_col20,#T_8625ed14_ae3e_11eb_b83b_0242ac1c0002row3_col22,#T_8625ed14_ae3e_11eb_b83b_0242ac1c0002row7_col9,#T_8625ed14_ae3e_11eb_b83b_0242ac1c0002row24_col1{\n",
              "            background-color:  #6e6f73;\n",
              "            color:  #000000;\n",
              "        }#T_8625ed14_ae3e_11eb_b83b_0242ac1c0002row3_col13,#T_8625ed14_ae3e_11eb_b83b_0242ac1c0002row6_col24,#T_8625ed14_ae3e_11eb_b83b_0242ac1c0002row7_col25,#T_8625ed14_ae3e_11eb_b83b_0242ac1c0002row10_col19,#T_8625ed14_ae3e_11eb_b83b_0242ac1c0002row10_col26,#T_8625ed14_ae3e_11eb_b83b_0242ac1c0002row19_col5{\n",
              "            background-color:  #3f4c6c;\n",
              "            color:  #f1f1f1;\n",
              "        }#T_8625ed14_ae3e_11eb_b83b_0242ac1c0002row3_col15,#T_8625ed14_ae3e_11eb_b83b_0242ac1c0002row7_col0,#T_8625ed14_ae3e_11eb_b83b_0242ac1c0002row7_col2,#T_8625ed14_ae3e_11eb_b83b_0242ac1c0002row7_col26,#T_8625ed14_ae3e_11eb_b83b_0242ac1c0002row24_col10{\n",
              "            background-color:  #47516c;\n",
              "            color:  #f1f1f1;\n",
              "        }#T_8625ed14_ae3e_11eb_b83b_0242ac1c0002row3_col17,#T_8625ed14_ae3e_11eb_b83b_0242ac1c0002row7_col28,#T_8625ed14_ae3e_11eb_b83b_0242ac1c0002row8_col27,#T_8625ed14_ae3e_11eb_b83b_0242ac1c0002row9_col4,#T_8625ed14_ae3e_11eb_b83b_0242ac1c0002row10_col0,#T_8625ed14_ae3e_11eb_b83b_0242ac1c0002row17_col27,#T_8625ed14_ae3e_11eb_b83b_0242ac1c0002row23_col24,#T_8625ed14_ae3e_11eb_b83b_0242ac1c0002row25_col28,#T_8625ed14_ae3e_11eb_b83b_0242ac1c0002row26_col24,#T_8625ed14_ae3e_11eb_b83b_0242ac1c0002row27_col15{\n",
              "            background-color:  #49536c;\n",
              "            color:  #f1f1f1;\n",
              "        }#T_8625ed14_ae3e_11eb_b83b_0242ac1c0002row3_col19,#T_8625ed14_ae3e_11eb_b83b_0242ac1c0002row6_col23,#T_8625ed14_ae3e_11eb_b83b_0242ac1c0002row13_col11,#T_8625ed14_ae3e_11eb_b83b_0242ac1c0002row13_col12,#T_8625ed14_ae3e_11eb_b83b_0242ac1c0002row13_col14,#T_8625ed14_ae3e_11eb_b83b_0242ac1c0002row13_col16,#T_8625ed14_ae3e_11eb_b83b_0242ac1c0002row13_col18,#T_8625ed14_ae3e_11eb_b83b_0242ac1c0002row13_col20,#T_8625ed14_ae3e_11eb_b83b_0242ac1c0002row13_col22,#T_8625ed14_ae3e_11eb_b83b_0242ac1c0002row19_col11,#T_8625ed14_ae3e_11eb_b83b_0242ac1c0002row19_col12,#T_8625ed14_ae3e_11eb_b83b_0242ac1c0002row19_col14,#T_8625ed14_ae3e_11eb_b83b_0242ac1c0002row19_col16,#T_8625ed14_ae3e_11eb_b83b_0242ac1c0002row19_col18,#T_8625ed14_ae3e_11eb_b83b_0242ac1c0002row19_col20,#T_8625ed14_ae3e_11eb_b83b_0242ac1c0002row19_col22,#T_8625ed14_ae3e_11eb_b83b_0242ac1c0002row21_col4{\n",
              "            background-color:  #414d6c;\n",
              "            color:  #f1f1f1;\n",
              "        }#T_8625ed14_ae3e_11eb_b83b_0242ac1c0002row3_col21,#T_8625ed14_ae3e_11eb_b83b_0242ac1c0002row3_col23,#T_8625ed14_ae3e_11eb_b83b_0242ac1c0002row5_col24,#T_8625ed14_ae3e_11eb_b83b_0242ac1c0002row6_col13,#T_8625ed14_ae3e_11eb_b83b_0242ac1c0002row21_col25,#T_8625ed14_ae3e_11eb_b83b_0242ac1c0002row23_col25{\n",
              "            background-color:  #4c556c;\n",
              "            color:  #f1f1f1;\n",
              "        }#T_8625ed14_ae3e_11eb_b83b_0242ac1c0002row3_col24,#T_8625ed14_ae3e_11eb_b83b_0242ac1c0002row11_col0,#T_8625ed14_ae3e_11eb_b83b_0242ac1c0002row12_col0,#T_8625ed14_ae3e_11eb_b83b_0242ac1c0002row14_col0,#T_8625ed14_ae3e_11eb_b83b_0242ac1c0002row16_col0,#T_8625ed14_ae3e_11eb_b83b_0242ac1c0002row18_col0,#T_8625ed14_ae3e_11eb_b83b_0242ac1c0002row20_col0,#T_8625ed14_ae3e_11eb_b83b_0242ac1c0002row22_col0,#T_8625ed14_ae3e_11eb_b83b_0242ac1c0002row23_col5,#T_8625ed14_ae3e_11eb_b83b_0242ac1c0002row26_col6{\n",
              "            background-color:  #3e4b6c;\n",
              "            color:  #f1f1f1;\n",
              "        }#T_8625ed14_ae3e_11eb_b83b_0242ac1c0002row3_col26,#T_8625ed14_ae3e_11eb_b83b_0242ac1c0002row4_col0,#T_8625ed14_ae3e_11eb_b83b_0242ac1c0002row6_col19,#T_8625ed14_ae3e_11eb_b83b_0242ac1c0002row7_col23,#T_8625ed14_ae3e_11eb_b83b_0242ac1c0002row11_col26,#T_8625ed14_ae3e_11eb_b83b_0242ac1c0002row12_col26,#T_8625ed14_ae3e_11eb_b83b_0242ac1c0002row14_col26,#T_8625ed14_ae3e_11eb_b83b_0242ac1c0002row16_col26,#T_8625ed14_ae3e_11eb_b83b_0242ac1c0002row18_col26,#T_8625ed14_ae3e_11eb_b83b_0242ac1c0002row20_col26,#T_8625ed14_ae3e_11eb_b83b_0242ac1c0002row21_col24,#T_8625ed14_ae3e_11eb_b83b_0242ac1c0002row22_col26,#T_8625ed14_ae3e_11eb_b83b_0242ac1c0002row27_col11,#T_8625ed14_ae3e_11eb_b83b_0242ac1c0002row27_col12,#T_8625ed14_ae3e_11eb_b83b_0242ac1c0002row27_col14,#T_8625ed14_ae3e_11eb_b83b_0242ac1c0002row27_col16,#T_8625ed14_ae3e_11eb_b83b_0242ac1c0002row27_col17,#T_8625ed14_ae3e_11eb_b83b_0242ac1c0002row27_col18,#T_8625ed14_ae3e_11eb_b83b_0242ac1c0002row27_col20,#T_8625ed14_ae3e_11eb_b83b_0242ac1c0002row27_col22{\n",
              "            background-color:  #48526c;\n",
              "            color:  #f1f1f1;\n",
              "        }#T_8625ed14_ae3e_11eb_b83b_0242ac1c0002row3_col27,#T_8625ed14_ae3e_11eb_b83b_0242ac1c0002row6_col15,#T_8625ed14_ae3e_11eb_b83b_0242ac1c0002row7_col21,#T_8625ed14_ae3e_11eb_b83b_0242ac1c0002row8_col26,#T_8625ed14_ae3e_11eb_b83b_0242ac1c0002row15_col27,#T_8625ed14_ae3e_11eb_b83b_0242ac1c0002row24_col28{\n",
              "            background-color:  #4a536c;\n",
              "            color:  #f1f1f1;\n",
              "        }#T_8625ed14_ae3e_11eb_b83b_0242ac1c0002row3_col28,#T_8625ed14_ae3e_11eb_b83b_0242ac1c0002row8_col1,#T_8625ed14_ae3e_11eb_b83b_0242ac1c0002row9_col2,#T_8625ed14_ae3e_11eb_b83b_0242ac1c0002row15_col24{\n",
              "            background-color:  #4d556c;\n",
              "            color:  #f1f1f1;\n",
              "        }#T_8625ed14_ae3e_11eb_b83b_0242ac1c0002row4_col1,#T_8625ed14_ae3e_11eb_b83b_0242ac1c0002row25_col11,#T_8625ed14_ae3e_11eb_b83b_0242ac1c0002row25_col12,#T_8625ed14_ae3e_11eb_b83b_0242ac1c0002row25_col14,#T_8625ed14_ae3e_11eb_b83b_0242ac1c0002row25_col16,#T_8625ed14_ae3e_11eb_b83b_0242ac1c0002row25_col18,#T_8625ed14_ae3e_11eb_b83b_0242ac1c0002row25_col20,#T_8625ed14_ae3e_11eb_b83b_0242ac1c0002row25_col22{\n",
              "            background-color:  #8a8678;\n",
              "            color:  #000000;\n",
              "        }#T_8625ed14_ae3e_11eb_b83b_0242ac1c0002row4_col2{\n",
              "            background-color:  #60646f;\n",
              "            color:  #f1f1f1;\n",
              "        }#T_8625ed14_ae3e_11eb_b83b_0242ac1c0002row4_col3,#T_8625ed14_ae3e_11eb_b83b_0242ac1c0002row5_col3,#T_8625ed14_ae3e_11eb_b83b_0242ac1c0002row17_col3,#T_8625ed14_ae3e_11eb_b83b_0242ac1c0002row25_col3,#T_8625ed14_ae3e_11eb_b83b_0242ac1c0002row27_col25{\n",
              "            background-color:  #002553;\n",
              "            color:  #f1f1f1;\n",
              "        }#T_8625ed14_ae3e_11eb_b83b_0242ac1c0002row4_col5,#T_8625ed14_ae3e_11eb_b83b_0242ac1c0002row7_col5,#T_8625ed14_ae3e_11eb_b83b_0242ac1c0002row8_col4{\n",
              "            background-color:  #233c6e;\n",
              "            color:  #f1f1f1;\n",
              "        }#T_8625ed14_ae3e_11eb_b83b_0242ac1c0002row4_col6{\n",
              "            background-color:  #002d68;\n",
              "            color:  #f1f1f1;\n",
              "        }#T_8625ed14_ae3e_11eb_b83b_0242ac1c0002row4_col13,#T_8625ed14_ae3e_11eb_b83b_0242ac1c0002row5_col27,#T_8625ed14_ae3e_11eb_b83b_0242ac1c0002row7_col24,#T_8625ed14_ae3e_11eb_b83b_0242ac1c0002row9_col24,#T_8625ed14_ae3e_11eb_b83b_0242ac1c0002row13_col28,#T_8625ed14_ae3e_11eb_b83b_0242ac1c0002row19_col6,#T_8625ed14_ae3e_11eb_b83b_0242ac1c0002row28_col1{\n",
              "            background-color:  #3b496c;\n",
              "            color:  #f1f1f1;\n",
              "        }#T_8625ed14_ae3e_11eb_b83b_0242ac1c0002row4_col15,#T_8625ed14_ae3e_11eb_b83b_0242ac1c0002row8_col17,#T_8625ed14_ae3e_11eb_b83b_0242ac1c0002row9_col19,#T_8625ed14_ae3e_11eb_b83b_0242ac1c0002row24_col13{\n",
              "            background-color:  #555c6d;\n",
              "            color:  #f1f1f1;\n",
              "        }#T_8625ed14_ae3e_11eb_b83b_0242ac1c0002row4_col17,#T_8625ed14_ae3e_11eb_b83b_0242ac1c0002row5_col10,#T_8625ed14_ae3e_11eb_b83b_0242ac1c0002row8_col13,#T_8625ed14_ae3e_11eb_b83b_0242ac1c0002row8_col23,#T_8625ed14_ae3e_11eb_b83b_0242ac1c0002row15_col25{\n",
              "            background-color:  #545a6d;\n",
              "            color:  #f1f1f1;\n",
              "        }#T_8625ed14_ae3e_11eb_b83b_0242ac1c0002row4_col21,#T_8625ed14_ae3e_11eb_b83b_0242ac1c0002row10_col4{\n",
              "            background-color:  #5f636f;\n",
              "            color:  #f1f1f1;\n",
              "        }#T_8625ed14_ae3e_11eb_b83b_0242ac1c0002row4_col24,#T_8625ed14_ae3e_11eb_b83b_0242ac1c0002row28_col13,#T_8625ed14_ae3e_11eb_b83b_0242ac1c0002row28_col19{\n",
              "            background-color:  #32436d;\n",
              "            color:  #f1f1f1;\n",
              "        }#T_8625ed14_ae3e_11eb_b83b_0242ac1c0002row4_col25,#T_8625ed14_ae3e_11eb_b83b_0242ac1c0002row17_col28{\n",
              "            background-color:  #213b6e;\n",
              "            color:  #f1f1f1;\n",
              "        }#T_8625ed14_ae3e_11eb_b83b_0242ac1c0002row5_col1,#T_8625ed14_ae3e_11eb_b83b_0242ac1c0002row10_col2{\n",
              "            background-color:  #797977;\n",
              "            color:  #000000;\n",
              "        }#T_8625ed14_ae3e_11eb_b83b_0242ac1c0002row5_col2,#T_8625ed14_ae3e_11eb_b83b_0242ac1c0002row28_col15{\n",
              "            background-color:  #243c6e;\n",
              "            color:  #f1f1f1;\n",
              "        }#T_8625ed14_ae3e_11eb_b83b_0242ac1c0002row5_col7,#T_8625ed14_ae3e_11eb_b83b_0242ac1c0002row11_col28,#T_8625ed14_ae3e_11eb_b83b_0242ac1c0002row12_col28,#T_8625ed14_ae3e_11eb_b83b_0242ac1c0002row14_col28,#T_8625ed14_ae3e_11eb_b83b_0242ac1c0002row16_col28,#T_8625ed14_ae3e_11eb_b83b_0242ac1c0002row18_col28,#T_8625ed14_ae3e_11eb_b83b_0242ac1c0002row20_col28,#T_8625ed14_ae3e_11eb_b83b_0242ac1c0002row21_col8,#T_8625ed14_ae3e_11eb_b83b_0242ac1c0002row22_col28{\n",
              "            background-color:  #7e7d78;\n",
              "            color:  #000000;\n",
              "        }#T_8625ed14_ae3e_11eb_b83b_0242ac1c0002row5_col11,#T_8625ed14_ae3e_11eb_b83b_0242ac1c0002row5_col12,#T_8625ed14_ae3e_11eb_b83b_0242ac1c0002row5_col14,#T_8625ed14_ae3e_11eb_b83b_0242ac1c0002row5_col16,#T_8625ed14_ae3e_11eb_b83b_0242ac1c0002row5_col18,#T_8625ed14_ae3e_11eb_b83b_0242ac1c0002row5_col20,#T_8625ed14_ae3e_11eb_b83b_0242ac1c0002row5_col22,#T_8625ed14_ae3e_11eb_b83b_0242ac1c0002row15_col10,#T_8625ed14_ae3e_11eb_b83b_0242ac1c0002row25_col19,#T_8625ed14_ae3e_11eb_b83b_0242ac1c0002row26_col0,#T_8625ed14_ae3e_11eb_b83b_0242ac1c0002row26_col11,#T_8625ed14_ae3e_11eb_b83b_0242ac1c0002row26_col12,#T_8625ed14_ae3e_11eb_b83b_0242ac1c0002row26_col14,#T_8625ed14_ae3e_11eb_b83b_0242ac1c0002row26_col16,#T_8625ed14_ae3e_11eb_b83b_0242ac1c0002row26_col18,#T_8625ed14_ae3e_11eb_b83b_0242ac1c0002row26_col20,#T_8625ed14_ae3e_11eb_b83b_0242ac1c0002row26_col22{\n",
              "            background-color:  #6d6f72;\n",
              "            color:  #000000;\n",
              "        }#T_8625ed14_ae3e_11eb_b83b_0242ac1c0002row5_col13,#T_8625ed14_ae3e_11eb_b83b_0242ac1c0002row6_col0,#T_8625ed14_ae3e_11eb_b83b_0242ac1c0002row13_col26,#T_8625ed14_ae3e_11eb_b83b_0242ac1c0002row17_col25,#T_8625ed14_ae3e_11eb_b83b_0242ac1c0002row19_col26,#T_8625ed14_ae3e_11eb_b83b_0242ac1c0002row25_col15,#T_8625ed14_ae3e_11eb_b83b_0242ac1c0002row26_col17{\n",
              "            background-color:  #5d616e;\n",
              "            color:  #f1f1f1;\n",
              "        }#T_8625ed14_ae3e_11eb_b83b_0242ac1c0002row5_col17,#T_8625ed14_ae3e_11eb_b83b_0242ac1c0002row23_col13,#T_8625ed14_ae3e_11eb_b83b_0242ac1c0002row25_col1{\n",
              "            background-color:  #646770;\n",
              "            color:  #f1f1f1;\n",
              "        }#T_8625ed14_ae3e_11eb_b83b_0242ac1c0002row5_col28,#T_8625ed14_ae3e_11eb_b83b_0242ac1c0002row15_col4,#T_8625ed14_ae3e_11eb_b83b_0242ac1c0002row24_col6{\n",
              "            background-color:  #38476c;\n",
              "            color:  #f1f1f1;\n",
              "        }#T_8625ed14_ae3e_11eb_b83b_0242ac1c0002row6_col1,#T_8625ed14_ae3e_11eb_b83b_0242ac1c0002row24_col17,#T_8625ed14_ae3e_11eb_b83b_0242ac1c0002row25_col6{\n",
              "            background-color:  #5b606e;\n",
              "            color:  #f1f1f1;\n",
              "        }#T_8625ed14_ae3e_11eb_b83b_0242ac1c0002row6_col2,#T_8625ed14_ae3e_11eb_b83b_0242ac1c0002row25_col27{\n",
              "            background-color:  #00306f;\n",
              "            color:  #f1f1f1;\n",
              "        }#T_8625ed14_ae3e_11eb_b83b_0242ac1c0002row6_col5{\n",
              "            background-color:  #717274;\n",
              "            color:  #000000;\n",
              "        }#T_8625ed14_ae3e_11eb_b83b_0242ac1c0002row6_col9,#T_8625ed14_ae3e_11eb_b83b_0242ac1c0002row8_col6,#T_8625ed14_ae3e_11eb_b83b_0242ac1c0002row13_col27,#T_8625ed14_ae3e_11eb_b83b_0242ac1c0002row19_col27,#T_8625ed14_ae3e_11eb_b83b_0242ac1c0002row21_col11,#T_8625ed14_ae3e_11eb_b83b_0242ac1c0002row21_col12,#T_8625ed14_ae3e_11eb_b83b_0242ac1c0002row21_col14,#T_8625ed14_ae3e_11eb_b83b_0242ac1c0002row21_col16,#T_8625ed14_ae3e_11eb_b83b_0242ac1c0002row21_col18,#T_8625ed14_ae3e_11eb_b83b_0242ac1c0002row21_col20,#T_8625ed14_ae3e_11eb_b83b_0242ac1c0002row21_col22,#T_8625ed14_ae3e_11eb_b83b_0242ac1c0002row23_col11,#T_8625ed14_ae3e_11eb_b83b_0242ac1c0002row23_col12,#T_8625ed14_ae3e_11eb_b83b_0242ac1c0002row23_col14,#T_8625ed14_ae3e_11eb_b83b_0242ac1c0002row23_col16,#T_8625ed14_ae3e_11eb_b83b_0242ac1c0002row23_col18,#T_8625ed14_ae3e_11eb_b83b_0242ac1c0002row23_col20,#T_8625ed14_ae3e_11eb_b83b_0242ac1c0002row23_col22{\n",
              "            background-color:  #34456c;\n",
              "            color:  #f1f1f1;\n",
              "        }#T_8625ed14_ae3e_11eb_b83b_0242ac1c0002row6_col17{\n",
              "            background-color:  #45506c;\n",
              "            color:  #f1f1f1;\n",
              "        }#T_8625ed14_ae3e_11eb_b83b_0242ac1c0002row6_col21,#T_8625ed14_ae3e_11eb_b83b_0242ac1c0002row8_col2,#T_8625ed14_ae3e_11eb_b83b_0242ac1c0002row15_col5{\n",
              "            background-color:  #434e6c;\n",
              "            color:  #f1f1f1;\n",
              "        }#T_8625ed14_ae3e_11eb_b83b_0242ac1c0002row6_col27,#T_8625ed14_ae3e_11eb_b83b_0242ac1c0002row7_col19,#T_8625ed14_ae3e_11eb_b83b_0242ac1c0002row9_col6{\n",
              "            background-color:  #2e416d;\n",
              "            color:  #f1f1f1;\n",
              "        }#T_8625ed14_ae3e_11eb_b83b_0242ac1c0002row7_col4,#T_8625ed14_ae3e_11eb_b83b_0242ac1c0002row26_col2{\n",
              "            background-color:  #293f6e;\n",
              "            color:  #f1f1f1;\n",
              "        }#T_8625ed14_ae3e_11eb_b83b_0242ac1c0002row7_col6,#T_8625ed14_ae3e_11eb_b83b_0242ac1c0002row15_col2,#T_8625ed14_ae3e_11eb_b83b_0242ac1c0002row15_col6,#T_8625ed14_ae3e_11eb_b83b_0242ac1c0002row24_col5,#T_8625ed14_ae3e_11eb_b83b_0242ac1c0002row24_col27,#T_8625ed14_ae3e_11eb_b83b_0242ac1c0002row26_col5{\n",
              "            background-color:  #35456c;\n",
              "            color:  #f1f1f1;\n",
              "        }#T_8625ed14_ae3e_11eb_b83b_0242ac1c0002row7_col10{\n",
              "            background-color:  #7f7e78;\n",
              "            color:  #000000;\n",
              "        }#T_8625ed14_ae3e_11eb_b83b_0242ac1c0002row7_col13,#T_8625ed14_ae3e_11eb_b83b_0242ac1c0002row17_col6{\n",
              "            background-color:  #2f426d;\n",
              "            color:  #f1f1f1;\n",
              "        }#T_8625ed14_ae3e_11eb_b83b_0242ac1c0002row7_col15,#T_8625ed14_ae3e_11eb_b83b_0242ac1c0002row13_col6,#T_8625ed14_ae3e_11eb_b83b_0242ac1c0002row21_col5{\n",
              "            background-color:  #404c6c;\n",
              "            color:  #f1f1f1;\n",
              "        }#T_8625ed14_ae3e_11eb_b83b_0242ac1c0002row7_col17,#T_8625ed14_ae3e_11eb_b83b_0242ac1c0002row28_col24{\n",
              "            background-color:  #3c4a6c;\n",
              "            color:  #f1f1f1;\n",
              "        }#T_8625ed14_ae3e_11eb_b83b_0242ac1c0002row8_col5,#T_8625ed14_ae3e_11eb_b83b_0242ac1c0002row9_col28,#T_8625ed14_ae3e_11eb_b83b_0242ac1c0002row24_col4{\n",
              "            background-color:  #143670;\n",
              "            color:  #f1f1f1;\n",
              "        }#T_8625ed14_ae3e_11eb_b83b_0242ac1c0002row8_col10,#T_8625ed14_ae3e_11eb_b83b_0242ac1c0002row28_col21,#T_8625ed14_ae3e_11eb_b83b_0242ac1c0002row28_col23{\n",
              "            background-color:  #163770;\n",
              "            color:  #f1f1f1;\n",
              "        }#T_8625ed14_ae3e_11eb_b83b_0242ac1c0002row8_col11,#T_8625ed14_ae3e_11eb_b83b_0242ac1c0002row8_col12,#T_8625ed14_ae3e_11eb_b83b_0242ac1c0002row8_col14,#T_8625ed14_ae3e_11eb_b83b_0242ac1c0002row8_col16,#T_8625ed14_ae3e_11eb_b83b_0242ac1c0002row8_col18,#T_8625ed14_ae3e_11eb_b83b_0242ac1c0002row8_col20,#T_8625ed14_ae3e_11eb_b83b_0242ac1c0002row8_col22{\n",
              "            background-color:  #575d6d;\n",
              "            color:  #f1f1f1;\n",
              "        }#T_8625ed14_ae3e_11eb_b83b_0242ac1c0002row8_col15,#T_8625ed14_ae3e_11eb_b83b_0242ac1c0002row9_col11,#T_8625ed14_ae3e_11eb_b83b_0242ac1c0002row9_col12,#T_8625ed14_ae3e_11eb_b83b_0242ac1c0002row9_col14,#T_8625ed14_ae3e_11eb_b83b_0242ac1c0002row9_col16,#T_8625ed14_ae3e_11eb_b83b_0242ac1c0002row9_col18,#T_8625ed14_ae3e_11eb_b83b_0242ac1c0002row9_col20,#T_8625ed14_ae3e_11eb_b83b_0242ac1c0002row9_col22,#T_8625ed14_ae3e_11eb_b83b_0242ac1c0002row9_col25,#T_8625ed14_ae3e_11eb_b83b_0242ac1c0002row9_col26{\n",
              "            background-color:  #535a6d;\n",
              "            color:  #f1f1f1;\n",
              "        }#T_8625ed14_ae3e_11eb_b83b_0242ac1c0002row8_col19,#T_8625ed14_ae3e_11eb_b83b_0242ac1c0002row9_col13,#T_8625ed14_ae3e_11eb_b83b_0242ac1c0002row24_col19,#T_8625ed14_ae3e_11eb_b83b_0242ac1c0002row24_col26,#T_8625ed14_ae3e_11eb_b83b_0242ac1c0002row26_col21{\n",
              "            background-color:  #555b6d;\n",
              "            color:  #f1f1f1;\n",
              "        }#T_8625ed14_ae3e_11eb_b83b_0242ac1c0002row9_col1{\n",
              "            background-color:  #b1a570;\n",
              "            color:  #000000;\n",
              "        }#T_8625ed14_ae3e_11eb_b83b_0242ac1c0002row9_col7{\n",
              "            background-color:  #9e9676;\n",
              "            color:  #000000;\n",
              "        }#T_8625ed14_ae3e_11eb_b83b_0242ac1c0002row9_col8{\n",
              "            background-color:  #5e626e;\n",
              "            color:  #f1f1f1;\n",
              "        }#T_8625ed14_ae3e_11eb_b83b_0242ac1c0002row9_col10,#T_8625ed14_ae3e_11eb_b83b_0242ac1c0002row17_col21,#T_8625ed14_ae3e_11eb_b83b_0242ac1c0002row23_col17{\n",
              "            background-color:  #8d8878;\n",
              "            color:  #000000;\n",
              "        }#T_8625ed14_ae3e_11eb_b83b_0242ac1c0002row9_col17,#T_8625ed14_ae3e_11eb_b83b_0242ac1c0002row13_col21,#T_8625ed14_ae3e_11eb_b83b_0242ac1c0002row21_col9,#T_8625ed14_ae3e_11eb_b83b_0242ac1c0002row23_col9{\n",
              "            background-color:  #6b6d72;\n",
              "            color:  #000000;\n",
              "        }#T_8625ed14_ae3e_11eb_b83b_0242ac1c0002row10_col1{\n",
              "            background-color:  #dfca57;\n",
              "            color:  #000000;\n",
              "        }#T_8625ed14_ae3e_11eb_b83b_0242ac1c0002row10_col6,#T_8625ed14_ae3e_11eb_b83b_0242ac1c0002row10_col25{\n",
              "            background-color:  #002e6c;\n",
              "            color:  #f1f1f1;\n",
              "        }#T_8625ed14_ae3e_11eb_b83b_0242ac1c0002row10_col7{\n",
              "            background-color:  #a09875;\n",
              "            color:  #000000;\n",
              "        }#T_8625ed14_ae3e_11eb_b83b_0242ac1c0002row10_col8,#T_8625ed14_ae3e_11eb_b83b_0242ac1c0002row17_col26{\n",
              "            background-color:  #5c616e;\n",
              "            color:  #f1f1f1;\n",
              "        }#T_8625ed14_ae3e_11eb_b83b_0242ac1c0002row10_col15,#T_8625ed14_ae3e_11eb_b83b_0242ac1c0002row25_col13,#T_8625ed14_ae3e_11eb_b83b_0242ac1c0002row25_col17,#T_8625ed14_ae3e_11eb_b83b_0242ac1c0002row25_col26,#T_8625ed14_ae3e_11eb_b83b_0242ac1c0002row27_col21,#T_8625ed14_ae3e_11eb_b83b_0242ac1c0002row27_col23{\n",
              "            background-color:  #656870;\n",
              "            color:  #f1f1f1;\n",
              "        }#T_8625ed14_ae3e_11eb_b83b_0242ac1c0002row10_col21,#T_8625ed14_ae3e_11eb_b83b_0242ac1c0002row15_col0,#T_8625ed14_ae3e_11eb_b83b_0242ac1c0002row15_col8,#T_8625ed14_ae3e_11eb_b83b_0242ac1c0002row17_col0{\n",
              "            background-color:  #828079;\n",
              "            color:  #000000;\n",
              "        }#T_8625ed14_ae3e_11eb_b83b_0242ac1c0002row10_col23,#T_8625ed14_ae3e_11eb_b83b_0242ac1c0002row10_col27{\n",
              "            background-color:  #817f78;\n",
              "            color:  #000000;\n",
              "        }#T_8625ed14_ae3e_11eb_b83b_0242ac1c0002row10_col24,#T_8625ed14_ae3e_11eb_b83b_0242ac1c0002row27_col13,#T_8625ed14_ae3e_11eb_b83b_0242ac1c0002row27_col19{\n",
              "            background-color:  #2a3f6d;\n",
              "            color:  #f1f1f1;\n",
              "        }#T_8625ed14_ae3e_11eb_b83b_0242ac1c0002row10_col28,#T_8625ed14_ae3e_11eb_b83b_0242ac1c0002row25_col4,#T_8625ed14_ae3e_11eb_b83b_0242ac1c0002row27_col5{\n",
              "            background-color:  #002c66;\n",
              "            color:  #f1f1f1;\n",
              "        }#T_8625ed14_ae3e_11eb_b83b_0242ac1c0002row11_col2,#T_8625ed14_ae3e_11eb_b83b_0242ac1c0002row12_col2,#T_8625ed14_ae3e_11eb_b83b_0242ac1c0002row14_col2,#T_8625ed14_ae3e_11eb_b83b_0242ac1c0002row16_col2,#T_8625ed14_ae3e_11eb_b83b_0242ac1c0002row18_col2,#T_8625ed14_ae3e_11eb_b83b_0242ac1c0002row20_col2,#T_8625ed14_ae3e_11eb_b83b_0242ac1c0002row22_col2{\n",
              "            background-color:  #013271;\n",
              "            color:  #f1f1f1;\n",
              "        }#T_8625ed14_ae3e_11eb_b83b_0242ac1c0002row11_col7,#T_8625ed14_ae3e_11eb_b83b_0242ac1c0002row12_col7,#T_8625ed14_ae3e_11eb_b83b_0242ac1c0002row14_col7,#T_8625ed14_ae3e_11eb_b83b_0242ac1c0002row16_col7,#T_8625ed14_ae3e_11eb_b83b_0242ac1c0002row18_col7,#T_8625ed14_ae3e_11eb_b83b_0242ac1c0002row20_col7,#T_8625ed14_ae3e_11eb_b83b_0242ac1c0002row22_col7,#T_8625ed14_ae3e_11eb_b83b_0242ac1c0002row27_col1{\n",
              "            background-color:  #928c78;\n",
              "            color:  #000000;\n",
              "        }#T_8625ed14_ae3e_11eb_b83b_0242ac1c0002row11_col9,#T_8625ed14_ae3e_11eb_b83b_0242ac1c0002row12_col9,#T_8625ed14_ae3e_11eb_b83b_0242ac1c0002row14_col9,#T_8625ed14_ae3e_11eb_b83b_0242ac1c0002row16_col9,#T_8625ed14_ae3e_11eb_b83b_0242ac1c0002row18_col9,#T_8625ed14_ae3e_11eb_b83b_0242ac1c0002row20_col9,#T_8625ed14_ae3e_11eb_b83b_0242ac1c0002row22_col9{\n",
              "            background-color:  #002c64;\n",
              "            color:  #f1f1f1;\n",
              "        }#T_8625ed14_ae3e_11eb_b83b_0242ac1c0002row11_col25,#T_8625ed14_ae3e_11eb_b83b_0242ac1c0002row12_col25,#T_8625ed14_ae3e_11eb_b83b_0242ac1c0002row14_col25,#T_8625ed14_ae3e_11eb_b83b_0242ac1c0002row16_col25,#T_8625ed14_ae3e_11eb_b83b_0242ac1c0002row18_col25,#T_8625ed14_ae3e_11eb_b83b_0242ac1c0002row20_col25,#T_8625ed14_ae3e_11eb_b83b_0242ac1c0002row22_col25{\n",
              "            background-color:  #666970;\n",
              "            color:  #000000;\n",
              "        }#T_8625ed14_ae3e_11eb_b83b_0242ac1c0002row11_col27,#T_8625ed14_ae3e_11eb_b83b_0242ac1c0002row12_col27,#T_8625ed14_ae3e_11eb_b83b_0242ac1c0002row14_col27,#T_8625ed14_ae3e_11eb_b83b_0242ac1c0002row16_col27,#T_8625ed14_ae3e_11eb_b83b_0242ac1c0002row18_col27,#T_8625ed14_ae3e_11eb_b83b_0242ac1c0002row20_col27,#T_8625ed14_ae3e_11eb_b83b_0242ac1c0002row22_col27,#T_8625ed14_ae3e_11eb_b83b_0242ac1c0002row26_col28{\n",
              "            background-color:  #002f6d;\n",
              "            color:  #f1f1f1;\n",
              "        }#T_8625ed14_ae3e_11eb_b83b_0242ac1c0002row13_col1{\n",
              "            background-color:  #948e77;\n",
              "            color:  #000000;\n",
              "        }#T_8625ed14_ae3e_11eb_b83b_0242ac1c0002row13_col2,#T_8625ed14_ae3e_11eb_b83b_0242ac1c0002row26_col4{\n",
              "            background-color:  #1e3a6f;\n",
              "            color:  #f1f1f1;\n",
              "        }#T_8625ed14_ae3e_11eb_b83b_0242ac1c0002row13_col7,#T_8625ed14_ae3e_11eb_b83b_0242ac1c0002row17_col13,#T_8625ed14_ae3e_11eb_b83b_0242ac1c0002row24_col11,#T_8625ed14_ae3e_11eb_b83b_0242ac1c0002row24_col12,#T_8625ed14_ae3e_11eb_b83b_0242ac1c0002row24_col14,#T_8625ed14_ae3e_11eb_b83b_0242ac1c0002row24_col16,#T_8625ed14_ae3e_11eb_b83b_0242ac1c0002row24_col18,#T_8625ed14_ae3e_11eb_b83b_0242ac1c0002row24_col20,#T_8625ed14_ae3e_11eb_b83b_0242ac1c0002row24_col22{\n",
              "            background-color:  #727374;\n",
              "            color:  #000000;\n",
              "        }#T_8625ed14_ae3e_11eb_b83b_0242ac1c0002row13_col8{\n",
              "            background-color:  #878478;\n",
              "            color:  #000000;\n",
              "        }#T_8625ed14_ae3e_11eb_b83b_0242ac1c0002row13_col15,#T_8625ed14_ae3e_11eb_b83b_0242ac1c0002row23_col7,#T_8625ed14_ae3e_11eb_b83b_0242ac1c0002row27_col2{\n",
              "            background-color:  #787877;\n",
              "            color:  #000000;\n",
              "        }#T_8625ed14_ae3e_11eb_b83b_0242ac1c0002row13_col19,#T_8625ed14_ae3e_11eb_b83b_0242ac1c0002row19_col13,#T_8625ed14_ae3e_11eb_b83b_0242ac1c0002row19_col17,#T_8625ed14_ae3e_11eb_b83b_0242ac1c0002row23_col8{\n",
              "            background-color:  #807f78;\n",
              "            color:  #000000;\n",
              "        }#T_8625ed14_ae3e_11eb_b83b_0242ac1c0002row13_col23{\n",
              "            background-color:  #6c6e72;\n",
              "            color:  #000000;\n",
              "        }#T_8625ed14_ae3e_11eb_b83b_0242ac1c0002row15_col1{\n",
              "            background-color:  #a99f73;\n",
              "            color:  #000000;\n",
              "        }#T_8625ed14_ae3e_11eb_b83b_0242ac1c0002row15_col13,#T_8625ed14_ae3e_11eb_b83b_0242ac1c0002row17_col7{\n",
              "            background-color:  #747475;\n",
              "            color:  #000000;\n",
              "        }#T_8625ed14_ae3e_11eb_b83b_0242ac1c0002row17_col1{\n",
              "            background-color:  #afa471;\n",
              "            color:  #000000;\n",
              "        }#T_8625ed14_ae3e_11eb_b83b_0242ac1c0002row17_col10{\n",
              "            background-color:  #6f7073;\n",
              "            color:  #000000;\n",
              "        }#T_8625ed14_ae3e_11eb_b83b_0242ac1c0002row17_col23{\n",
              "            background-color:  #908b78;\n",
              "            color:  #000000;\n",
              "        }#T_8625ed14_ae3e_11eb_b83b_0242ac1c0002row19_col2,#T_8625ed14_ae3e_11eb_b83b_0242ac1c0002row23_col6,#T_8625ed14_ae3e_11eb_b83b_0242ac1c0002row27_col24,#T_8625ed14_ae3e_11eb_b83b_0242ac1c0002row28_col17{\n",
              "            background-color:  #203a6f;\n",
              "            color:  #f1f1f1;\n",
              "        }#T_8625ed14_ae3e_11eb_b83b_0242ac1c0002row19_col4{\n",
              "            background-color:  #0c3470;\n",
              "            color:  #f1f1f1;\n",
              "        }#T_8625ed14_ae3e_11eb_b83b_0242ac1c0002row19_col7,#T_8625ed14_ae3e_11eb_b83b_0242ac1c0002row26_col1{\n",
              "            background-color:  #727274;\n",
              "            color:  #000000;\n",
              "        }#T_8625ed14_ae3e_11eb_b83b_0242ac1c0002row19_col8,#T_8625ed14_ae3e_11eb_b83b_0242ac1c0002row27_col10{\n",
              "            background-color:  #888578;\n",
              "            color:  #000000;\n",
              "        }#T_8625ed14_ae3e_11eb_b83b_0242ac1c0002row19_col9,#T_8625ed14_ae3e_11eb_b83b_0242ac1c0002row19_col24,#T_8625ed14_ae3e_11eb_b83b_0242ac1c0002row27_col4{\n",
              "            background-color:  #4f576c;\n",
              "            color:  #f1f1f1;\n",
              "        }#T_8625ed14_ae3e_11eb_b83b_0242ac1c0002row19_col25{\n",
              "            background-color:  #6a6c71;\n",
              "            color:  #000000;\n",
              "        }#T_8625ed14_ae3e_11eb_b83b_0242ac1c0002row21_col0{\n",
              "            background-color:  #757575;\n",
              "            color:  #000000;\n",
              "        }#T_8625ed14_ae3e_11eb_b83b_0242ac1c0002row21_col1{\n",
              "            background-color:  #c6b667;\n",
              "            color:  #000000;\n",
              "        }#T_8625ed14_ae3e_11eb_b83b_0242ac1c0002row21_col2,#T_8625ed14_ae3e_11eb_b83b_0242ac1c0002row23_col2,#T_8625ed14_ae3e_11eb_b83b_0242ac1c0002row23_col26{\n",
              "            background-color:  #51586d;\n",
              "            color:  #f1f1f1;\n",
              "        }#T_8625ed14_ae3e_11eb_b83b_0242ac1c0002row21_col17{\n",
              "            background-color:  #8b8778;\n",
              "            color:  #000000;\n",
              "        }#T_8625ed14_ae3e_11eb_b83b_0242ac1c0002row21_col23,#T_8625ed14_ae3e_11eb_b83b_0242ac1c0002row23_col21{\n",
              "            background-color:  #a69c74;\n",
              "            color:  #000000;\n",
              "        }#T_8625ed14_ae3e_11eb_b83b_0242ac1c0002row21_col27{\n",
              "            background-color:  #636670;\n",
              "            color:  #f1f1f1;\n",
              "        }#T_8625ed14_ae3e_11eb_b83b_0242ac1c0002row21_col28,#T_8625ed14_ae3e_11eb_b83b_0242ac1c0002row23_col28{\n",
              "            background-color:  #083370;\n",
              "            color:  #f1f1f1;\n",
              "        }#T_8625ed14_ae3e_11eb_b83b_0242ac1c0002row23_col1{\n",
              "            background-color:  #c5b568;\n",
              "            color:  #000000;\n",
              "        }#T_8625ed14_ae3e_11eb_b83b_0242ac1c0002row24_col3,#T_8625ed14_ae3e_11eb_b83b_0242ac1c0002row28_col4{\n",
              "            background-color:  #002758;\n",
              "            color:  #f1f1f1;\n",
              "        }#T_8625ed14_ae3e_11eb_b83b_0242ac1c0002row25_col0{\n",
              "            background-color:  #a79d73;\n",
              "            color:  #000000;\n",
              "        }#T_8625ed14_ae3e_11eb_b83b_0242ac1c0002row25_col2{\n",
              "            background-color:  #00295d;\n",
              "            color:  #f1f1f1;\n",
              "        }#T_8625ed14_ae3e_11eb_b83b_0242ac1c0002row25_col5,#T_8625ed14_ae3e_11eb_b83b_0242ac1c0002row25_col21,#T_8625ed14_ae3e_11eb_b83b_0242ac1c0002row25_col23{\n",
              "            background-color:  #5a5f6e;\n",
              "            color:  #f1f1f1;\n",
              "        }#T_8625ed14_ae3e_11eb_b83b_0242ac1c0002row26_col3,#T_8625ed14_ae3e_11eb_b83b_0242ac1c0002row27_col3{\n",
              "            background-color:  #002554;\n",
              "            color:  #f1f1f1;\n",
              "        }#T_8625ed14_ae3e_11eb_b83b_0242ac1c0002row26_col25{\n",
              "            background-color:  #5e636f;\n",
              "            color:  #f1f1f1;\n",
              "        }#T_8625ed14_ae3e_11eb_b83b_0242ac1c0002row27_col0,#T_8625ed14_ae3e_11eb_b83b_0242ac1c0002row28_col10{\n",
              "            background-color:  #0f3570;\n",
              "            color:  #f1f1f1;\n",
              "        }#T_8625ed14_ae3e_11eb_b83b_0242ac1c0002row28_col2{\n",
              "            background-color:  #33446d;\n",
              "            color:  #f1f1f1;\n",
              "        }#T_8625ed14_ae3e_11eb_b83b_0242ac1c0002row28_col3{\n",
              "            background-color:  #002859;\n",
              "            color:  #f1f1f1;\n",
              "        }#T_8625ed14_ae3e_11eb_b83b_0242ac1c0002row28_col5{\n",
              "            background-color:  #002b62;\n",
              "            color:  #f1f1f1;\n",
              "        }#T_8625ed14_ae3e_11eb_b83b_0242ac1c0002row28_col9{\n",
              "            background-color:  #002a5f;\n",
              "            color:  #f1f1f1;\n",
              "        }#T_8625ed14_ae3e_11eb_b83b_0242ac1c0002row28_col11,#T_8625ed14_ae3e_11eb_b83b_0242ac1c0002row28_col12,#T_8625ed14_ae3e_11eb_b83b_0242ac1c0002row28_col14,#T_8625ed14_ae3e_11eb_b83b_0242ac1c0002row28_col16,#T_8625ed14_ae3e_11eb_b83b_0242ac1c0002row28_col18,#T_8625ed14_ae3e_11eb_b83b_0242ac1c0002row28_col20,#T_8625ed14_ae3e_11eb_b83b_0242ac1c0002row28_col22{\n",
              "            background-color:  #989277;\n",
              "            color:  #000000;\n",
              "        }#T_8625ed14_ae3e_11eb_b83b_0242ac1c0002row28_col26{\n",
              "            background-color:  #002e6a;\n",
              "            color:  #f1f1f1;\n",
              "        }</style><table id=\"T_8625ed14_ae3e_11eb_b83b_0242ac1c0002\" ><thead>    <tr>        <th class=\"blank level0\" ></th>        <th class=\"col_heading level0 col0\" >Tenure_Months</th>        <th class=\"col_heading level0 col1\" >Monthly_Charges</th>        <th class=\"col_heading level0 col2\" >Churn_Value</th>        <th class=\"col_heading level0 col3\" >Gender_Male</th>        <th class=\"col_heading level0 col4\" >Senior_Citizen_Yes</th>        <th class=\"col_heading level0 col5\" >Partner_Yes</th>        <th class=\"col_heading level0 col6\" >Dependents_Yes</th>        <th class=\"col_heading level0 col7\" >Phone_Service_Yes</th>        <th class=\"col_heading level0 col8\" >Multiple_Lines_No phone service</th>        <th class=\"col_heading level0 col9\" >Multiple_Lines_Yes</th>        <th class=\"col_heading level0 col10\" >Internet_Service_Fiber optic</th>        <th class=\"col_heading level0 col11\" >Internet_Service_No</th>        <th class=\"col_heading level0 col12\" >Online_Security_No internet service</th>        <th class=\"col_heading level0 col13\" >Online_Security_Yes</th>        <th class=\"col_heading level0 col14\" >Online_Backup_No internet service</th>        <th class=\"col_heading level0 col15\" >Online_Backup_Yes</th>        <th class=\"col_heading level0 col16\" >Device_Protection_No internet service</th>        <th class=\"col_heading level0 col17\" >Device_Protection_Yes</th>        <th class=\"col_heading level0 col18\" >Tech_Support_No internet service</th>        <th class=\"col_heading level0 col19\" >Tech_Support_Yes</th>        <th class=\"col_heading level0 col20\" >Streaming_TV_No internet service</th>        <th class=\"col_heading level0 col21\" >Streaming_TV_Yes</th>        <th class=\"col_heading level0 col22\" >Streaming_Movies_No internet service</th>        <th class=\"col_heading level0 col23\" >Streaming_Movies_Yes</th>        <th class=\"col_heading level0 col24\" >Contract_One year</th>        <th class=\"col_heading level0 col25\" >Contract_Two year</th>        <th class=\"col_heading level0 col26\" >Payment_Method_Credit card (automatic)</th>        <th class=\"col_heading level0 col27\" >Payment_Method_Electronic check</th>        <th class=\"col_heading level0 col28\" >Payment_Method_Mailed check</th>    </tr></thead><tbody>\n",
              "                <tr>\n",
              "                        <th id=\"T_8625ed14_ae3e_11eb_b83b_0242ac1c0002level0_row0\" class=\"row_heading level0 row0\" >Tenure_Months</th>\n",
              "                        <td id=\"T_8625ed14_ae3e_11eb_b83b_0242ac1c0002row0_col0\" class=\"data row0 col0\" >1.000000</td>\n",
              "                        <td id=\"T_8625ed14_ae3e_11eb_b83b_0242ac1c0002row0_col1\" class=\"data row0 col1\" >0.247900</td>\n",
              "                        <td id=\"T_8625ed14_ae3e_11eb_b83b_0242ac1c0002row0_col2\" class=\"data row0 col2\" >-0.352229</td>\n",
              "                        <td id=\"T_8625ed14_ae3e_11eb_b83b_0242ac1c0002row0_col3\" class=\"data row0 col3\" >0.005106</td>\n",
              "                        <td id=\"T_8625ed14_ae3e_11eb_b83b_0242ac1c0002row0_col4\" class=\"data row0 col4\" >0.016567</td>\n",
              "                        <td id=\"T_8625ed14_ae3e_11eb_b83b_0242ac1c0002row0_col5\" class=\"data row0 col5\" >0.379697</td>\n",
              "                        <td id=\"T_8625ed14_ae3e_11eb_b83b_0242ac1c0002row0_col6\" class=\"data row0 col6\" >0.131376</td>\n",
              "                        <td id=\"T_8625ed14_ae3e_11eb_b83b_0242ac1c0002row0_col7\" class=\"data row0 col7\" >0.008448</td>\n",
              "                        <td id=\"T_8625ed14_ae3e_11eb_b83b_0242ac1c0002row0_col8\" class=\"data row0 col8\" >-0.008448</td>\n",
              "                        <td id=\"T_8625ed14_ae3e_11eb_b83b_0242ac1c0002row0_col9\" class=\"data row0 col9\" >0.331941</td>\n",
              "                        <td id=\"T_8625ed14_ae3e_11eb_b83b_0242ac1c0002row0_col10\" class=\"data row0 col10\" >0.019720</td>\n",
              "                        <td id=\"T_8625ed14_ae3e_11eb_b83b_0242ac1c0002row0_col11\" class=\"data row0 col11\" >-0.039062</td>\n",
              "                        <td id=\"T_8625ed14_ae3e_11eb_b83b_0242ac1c0002row0_col12\" class=\"data row0 col12\" >-0.039062</td>\n",
              "                        <td id=\"T_8625ed14_ae3e_11eb_b83b_0242ac1c0002row0_col13\" class=\"data row0 col13\" >0.327203</td>\n",
              "                        <td id=\"T_8625ed14_ae3e_11eb_b83b_0242ac1c0002row0_col14\" class=\"data row0 col14\" >-0.039062</td>\n",
              "                        <td id=\"T_8625ed14_ae3e_11eb_b83b_0242ac1c0002row0_col15\" class=\"data row0 col15\" >0.360277</td>\n",
              "                        <td id=\"T_8625ed14_ae3e_11eb_b83b_0242ac1c0002row0_col16\" class=\"data row0 col16\" >-0.039062</td>\n",
              "                        <td id=\"T_8625ed14_ae3e_11eb_b83b_0242ac1c0002row0_col17\" class=\"data row0 col17\" >0.360653</td>\n",
              "                        <td id=\"T_8625ed14_ae3e_11eb_b83b_0242ac1c0002row0_col18\" class=\"data row0 col18\" >-0.039062</td>\n",
              "                        <td id=\"T_8625ed14_ae3e_11eb_b83b_0242ac1c0002row0_col19\" class=\"data row0 col19\" >0.324221</td>\n",
              "                        <td id=\"T_8625ed14_ae3e_11eb_b83b_0242ac1c0002row0_col20\" class=\"data row0 col20\" >-0.039062</td>\n",
              "                        <td id=\"T_8625ed14_ae3e_11eb_b83b_0242ac1c0002row0_col21\" class=\"data row0 col21\" >0.279756</td>\n",
              "                        <td id=\"T_8625ed14_ae3e_11eb_b83b_0242ac1c0002row0_col22\" class=\"data row0 col22\" >-0.039062</td>\n",
              "                        <td id=\"T_8625ed14_ae3e_11eb_b83b_0242ac1c0002row0_col23\" class=\"data row0 col23\" >0.286111</td>\n",
              "                        <td id=\"T_8625ed14_ae3e_11eb_b83b_0242ac1c0002row0_col24\" class=\"data row0 col24\" >0.202570</td>\n",
              "                        <td id=\"T_8625ed14_ae3e_11eb_b83b_0242ac1c0002row0_col25\" class=\"data row0 col25\" >0.558533</td>\n",
              "                        <td id=\"T_8625ed14_ae3e_11eb_b83b_0242ac1c0002row0_col26\" class=\"data row0 col26\" >0.233006</td>\n",
              "                        <td id=\"T_8625ed14_ae3e_11eb_b83b_0242ac1c0002row0_col27\" class=\"data row0 col27\" >-0.208363</td>\n",
              "                        <td id=\"T_8625ed14_ae3e_11eb_b83b_0242ac1c0002row0_col28\" class=\"data row0 col28\" >-0.233852</td>\n",
              "            </tr>\n",
              "            <tr>\n",
              "                        <th id=\"T_8625ed14_ae3e_11eb_b83b_0242ac1c0002level0_row1\" class=\"row_heading level0 row1\" >Monthly_Charges</th>\n",
              "                        <td id=\"T_8625ed14_ae3e_11eb_b83b_0242ac1c0002row1_col0\" class=\"data row1 col0\" >0.247900</td>\n",
              "                        <td id=\"T_8625ed14_ae3e_11eb_b83b_0242ac1c0002row1_col1\" class=\"data row1 col1\" >1.000000</td>\n",
              "                        <td id=\"T_8625ed14_ae3e_11eb_b83b_0242ac1c0002row1_col2\" class=\"data row1 col2\" >0.193356</td>\n",
              "                        <td id=\"T_8625ed14_ae3e_11eb_b83b_0242ac1c0002row1_col3\" class=\"data row1 col3\" >-0.014569</td>\n",
              "                        <td id=\"T_8625ed14_ae3e_11eb_b83b_0242ac1c0002row1_col4\" class=\"data row1 col4\" >0.220173</td>\n",
              "                        <td id=\"T_8625ed14_ae3e_11eb_b83b_0242ac1c0002row1_col5\" class=\"data row1 col5\" >0.096848</td>\n",
              "                        <td id=\"T_8625ed14_ae3e_11eb_b83b_0242ac1c0002row1_col6\" class=\"data row1 col6\" >-0.144206</td>\n",
              "                        <td id=\"T_8625ed14_ae3e_11eb_b83b_0242ac1c0002row1_col7\" class=\"data row1 col7\" >0.247398</td>\n",
              "                        <td id=\"T_8625ed14_ae3e_11eb_b83b_0242ac1c0002row1_col8\" class=\"data row1 col8\" >-0.247398</td>\n",
              "                        <td id=\"T_8625ed14_ae3e_11eb_b83b_0242ac1c0002row1_col9\" class=\"data row1 col9\" >0.490434</td>\n",
              "                        <td id=\"T_8625ed14_ae3e_11eb_b83b_0242ac1c0002row1_col10\" class=\"data row1 col10\" >0.787066</td>\n",
              "                        <td id=\"T_8625ed14_ae3e_11eb_b83b_0242ac1c0002row1_col11\" class=\"data row1 col11\" >-0.763557</td>\n",
              "                        <td id=\"T_8625ed14_ae3e_11eb_b83b_0242ac1c0002row1_col12\" class=\"data row1 col12\" >-0.763557</td>\n",
              "                        <td id=\"T_8625ed14_ae3e_11eb_b83b_0242ac1c0002row1_col13\" class=\"data row1 col13\" >0.296594</td>\n",
              "                        <td id=\"T_8625ed14_ae3e_11eb_b83b_0242ac1c0002row1_col14\" class=\"data row1 col14\" >-0.763557</td>\n",
              "                        <td id=\"T_8625ed14_ae3e_11eb_b83b_0242ac1c0002row1_col15\" class=\"data row1 col15\" >0.441780</td>\n",
              "                        <td id=\"T_8625ed14_ae3e_11eb_b83b_0242ac1c0002row1_col16\" class=\"data row1 col16\" >-0.763557</td>\n",
              "                        <td id=\"T_8625ed14_ae3e_11eb_b83b_0242ac1c0002row1_col17\" class=\"data row1 col17\" >0.482692</td>\n",
              "                        <td id=\"T_8625ed14_ae3e_11eb_b83b_0242ac1c0002row1_col18\" class=\"data row1 col18\" >-0.763557</td>\n",
              "                        <td id=\"T_8625ed14_ae3e_11eb_b83b_0242ac1c0002row1_col19\" class=\"data row1 col19\" >0.338304</td>\n",
              "                        <td id=\"T_8625ed14_ae3e_11eb_b83b_0242ac1c0002row1_col20\" class=\"data row1 col20\" >-0.763557</td>\n",
              "                        <td id=\"T_8625ed14_ae3e_11eb_b83b_0242ac1c0002row1_col21\" class=\"data row1 col21\" >0.629603</td>\n",
              "                        <td id=\"T_8625ed14_ae3e_11eb_b83b_0242ac1c0002row1_col22\" class=\"data row1 col22\" >-0.763557</td>\n",
              "                        <td id=\"T_8625ed14_ae3e_11eb_b83b_0242ac1c0002row1_col23\" class=\"data row1 col23\" >0.627429</td>\n",
              "                        <td id=\"T_8625ed14_ae3e_11eb_b83b_0242ac1c0002row1_col24\" class=\"data row1 col24\" >0.004904</td>\n",
              "                        <td id=\"T_8625ed14_ae3e_11eb_b83b_0242ac1c0002row1_col25\" class=\"data row1 col25\" >-0.074681</td>\n",
              "                        <td id=\"T_8625ed14_ae3e_11eb_b83b_0242ac1c0002row1_col26\" class=\"data row1 col26\" >0.030550</td>\n",
              "                        <td id=\"T_8625ed14_ae3e_11eb_b83b_0242ac1c0002row1_col27\" class=\"data row1 col27\" >0.271625</td>\n",
              "                        <td id=\"T_8625ed14_ae3e_11eb_b83b_0242ac1c0002row1_col28\" class=\"data row1 col28\" >-0.377437</td>\n",
              "            </tr>\n",
              "            <tr>\n",
              "                        <th id=\"T_8625ed14_ae3e_11eb_b83b_0242ac1c0002level0_row2\" class=\"row_heading level0 row2\" >Churn_Value</th>\n",
              "                        <td id=\"T_8625ed14_ae3e_11eb_b83b_0242ac1c0002row2_col0\" class=\"data row2 col0\" >-0.352229</td>\n",
              "                        <td id=\"T_8625ed14_ae3e_11eb_b83b_0242ac1c0002row2_col1\" class=\"data row2 col1\" >0.193356</td>\n",
              "                        <td id=\"T_8625ed14_ae3e_11eb_b83b_0242ac1c0002row2_col2\" class=\"data row2 col2\" >1.000000</td>\n",
              "                        <td id=\"T_8625ed14_ae3e_11eb_b83b_0242ac1c0002row2_col3\" class=\"data row2 col3\" >-0.008612</td>\n",
              "                        <td id=\"T_8625ed14_ae3e_11eb_b83b_0242ac1c0002row2_col4\" class=\"data row2 col4\" >0.150889</td>\n",
              "                        <td id=\"T_8625ed14_ae3e_11eb_b83b_0242ac1c0002row2_col5\" class=\"data row2 col5\" >-0.150448</td>\n",
              "                        <td id=\"T_8625ed14_ae3e_11eb_b83b_0242ac1c0002row2_col6\" class=\"data row2 col6\" >-0.248542</td>\n",
              "                        <td id=\"T_8625ed14_ae3e_11eb_b83b_0242ac1c0002row2_col7\" class=\"data row2 col7\" >0.011942</td>\n",
              "                        <td id=\"T_8625ed14_ae3e_11eb_b83b_0242ac1c0002row2_col8\" class=\"data row2 col8\" >-0.011942</td>\n",
              "                        <td id=\"T_8625ed14_ae3e_11eb_b83b_0242ac1c0002row2_col9\" class=\"data row2 col9\" >0.040102</td>\n",
              "                        <td id=\"T_8625ed14_ae3e_11eb_b83b_0242ac1c0002row2_col10\" class=\"data row2 col10\" >0.308020</td>\n",
              "                        <td id=\"T_8625ed14_ae3e_11eb_b83b_0242ac1c0002row2_col11\" class=\"data row2 col11\" >-0.227890</td>\n",
              "                        <td id=\"T_8625ed14_ae3e_11eb_b83b_0242ac1c0002row2_col12\" class=\"data row2 col12\" >-0.227890</td>\n",
              "                        <td id=\"T_8625ed14_ae3e_11eb_b83b_0242ac1c0002row2_col13\" class=\"data row2 col13\" >-0.171226</td>\n",
              "                        <td id=\"T_8625ed14_ae3e_11eb_b83b_0242ac1c0002row2_col14\" class=\"data row2 col14\" >-0.227890</td>\n",
              "                        <td id=\"T_8625ed14_ae3e_11eb_b83b_0242ac1c0002row2_col15\" class=\"data row2 col15\" >-0.082255</td>\n",
              "                        <td id=\"T_8625ed14_ae3e_11eb_b83b_0242ac1c0002row2_col16\" class=\"data row2 col16\" >-0.227890</td>\n",
              "                        <td id=\"T_8625ed14_ae3e_11eb_b83b_0242ac1c0002row2_col17\" class=\"data row2 col17\" >-0.066160</td>\n",
              "                        <td id=\"T_8625ed14_ae3e_11eb_b83b_0242ac1c0002row2_col18\" class=\"data row2 col18\" >-0.227890</td>\n",
              "                        <td id=\"T_8625ed14_ae3e_11eb_b83b_0242ac1c0002row2_col19\" class=\"data row2 col19\" >-0.164674</td>\n",
              "                        <td id=\"T_8625ed14_ae3e_11eb_b83b_0242ac1c0002row2_col20\" class=\"data row2 col20\" >-0.227890</td>\n",
              "                        <td id=\"T_8625ed14_ae3e_11eb_b83b_0242ac1c0002row2_col21\" class=\"data row2 col21\" >0.063228</td>\n",
              "                        <td id=\"T_8625ed14_ae3e_11eb_b83b_0242ac1c0002row2_col22\" class=\"data row2 col22\" >-0.227890</td>\n",
              "                        <td id=\"T_8625ed14_ae3e_11eb_b83b_0242ac1c0002row2_col23\" class=\"data row2 col23\" >0.061382</td>\n",
              "                        <td id=\"T_8625ed14_ae3e_11eb_b83b_0242ac1c0002row2_col24\" class=\"data row2 col24\" >-0.177820</td>\n",
              "                        <td id=\"T_8625ed14_ae3e_11eb_b83b_0242ac1c0002row2_col25\" class=\"data row2 col25\" >-0.302253</td>\n",
              "                        <td id=\"T_8625ed14_ae3e_11eb_b83b_0242ac1c0002row2_col26\" class=\"data row2 col26\" >-0.134302</td>\n",
              "                        <td id=\"T_8625ed14_ae3e_11eb_b83b_0242ac1c0002row2_col27\" class=\"data row2 col27\" >0.301919</td>\n",
              "                        <td id=\"T_8625ed14_ae3e_11eb_b83b_0242ac1c0002row2_col28\" class=\"data row2 col28\" >-0.091683</td>\n",
              "            </tr>\n",
              "            <tr>\n",
              "                        <th id=\"T_8625ed14_ae3e_11eb_b83b_0242ac1c0002level0_row3\" class=\"row_heading level0 row3\" >Gender_Male</th>\n",
              "                        <td id=\"T_8625ed14_ae3e_11eb_b83b_0242ac1c0002row3_col0\" class=\"data row3 col0\" >0.005106</td>\n",
              "                        <td id=\"T_8625ed14_ae3e_11eb_b83b_0242ac1c0002row3_col1\" class=\"data row3 col1\" >-0.014569</td>\n",
              "                        <td id=\"T_8625ed14_ae3e_11eb_b83b_0242ac1c0002row3_col2\" class=\"data row3 col2\" >-0.008612</td>\n",
              "                        <td id=\"T_8625ed14_ae3e_11eb_b83b_0242ac1c0002row3_col3\" class=\"data row3 col3\" >1.000000</td>\n",
              "                        <td id=\"T_8625ed14_ae3e_11eb_b83b_0242ac1c0002row3_col4\" class=\"data row3 col4\" >-0.001874</td>\n",
              "                        <td id=\"T_8625ed14_ae3e_11eb_b83b_0242ac1c0002row3_col5\" class=\"data row3 col5\" >-0.001808</td>\n",
              "                        <td id=\"T_8625ed14_ae3e_11eb_b83b_0242ac1c0002row3_col6\" class=\"data row3 col6\" >0.005229</td>\n",
              "                        <td id=\"T_8625ed14_ae3e_11eb_b83b_0242ac1c0002row3_col7\" class=\"data row3 col7\" >-0.006488</td>\n",
              "                        <td id=\"T_8625ed14_ae3e_11eb_b83b_0242ac1c0002row3_col8\" class=\"data row3 col8\" >0.006488</td>\n",
              "                        <td id=\"T_8625ed14_ae3e_11eb_b83b_0242ac1c0002row3_col9\" class=\"data row3 col9\" >-0.008414</td>\n",
              "                        <td id=\"T_8625ed14_ae3e_11eb_b83b_0242ac1c0002row3_col10\" class=\"data row3 col10\" >-0.011286</td>\n",
              "                        <td id=\"T_8625ed14_ae3e_11eb_b83b_0242ac1c0002row3_col11\" class=\"data row3 col11\" >0.006026</td>\n",
              "                        <td id=\"T_8625ed14_ae3e_11eb_b83b_0242ac1c0002row3_col12\" class=\"data row3 col12\" >0.006026</td>\n",
              "                        <td id=\"T_8625ed14_ae3e_11eb_b83b_0242ac1c0002row3_col13\" class=\"data row3 col13\" >-0.017021</td>\n",
              "                        <td id=\"T_8625ed14_ae3e_11eb_b83b_0242ac1c0002row3_col14\" class=\"data row3 col14\" >0.006026</td>\n",
              "                        <td id=\"T_8625ed14_ae3e_11eb_b83b_0242ac1c0002row3_col15\" class=\"data row3 col15\" >-0.013773</td>\n",
              "                        <td id=\"T_8625ed14_ae3e_11eb_b83b_0242ac1c0002row3_col16\" class=\"data row3 col16\" >0.006026</td>\n",
              "                        <td id=\"T_8625ed14_ae3e_11eb_b83b_0242ac1c0002row3_col17\" class=\"data row3 col17\" >-0.002105</td>\n",
              "                        <td id=\"T_8625ed14_ae3e_11eb_b83b_0242ac1c0002row3_col18\" class=\"data row3 col18\" >0.006026</td>\n",
              "                        <td id=\"T_8625ed14_ae3e_11eb_b83b_0242ac1c0002row3_col19\" class=\"data row3 col19\" >-0.009212</td>\n",
              "                        <td id=\"T_8625ed14_ae3e_11eb_b83b_0242ac1c0002row3_col20\" class=\"data row3 col20\" >0.006026</td>\n",
              "                        <td id=\"T_8625ed14_ae3e_11eb_b83b_0242ac1c0002row3_col21\" class=\"data row3 col21\" >-0.008393</td>\n",
              "                        <td id=\"T_8625ed14_ae3e_11eb_b83b_0242ac1c0002row3_col22\" class=\"data row3 col22\" >0.006026</td>\n",
              "                        <td id=\"T_8625ed14_ae3e_11eb_b83b_0242ac1c0002row3_col23\" class=\"data row3 col23\" >-0.010487</td>\n",
              "                        <td id=\"T_8625ed14_ae3e_11eb_b83b_0242ac1c0002row3_col24\" class=\"data row3 col24\" >0.008026</td>\n",
              "                        <td id=\"T_8625ed14_ae3e_11eb_b83b_0242ac1c0002row3_col25\" class=\"data row3 col25\" >-0.003695</td>\n",
              "                        <td id=\"T_8625ed14_ae3e_11eb_b83b_0242ac1c0002row3_col26\" class=\"data row3 col26\" >0.001215</td>\n",
              "                        <td id=\"T_8625ed14_ae3e_11eb_b83b_0242ac1c0002row3_col27\" class=\"data row3 col27\" >0.000752</td>\n",
              "                        <td id=\"T_8625ed14_ae3e_11eb_b83b_0242ac1c0002row3_col28\" class=\"data row3 col28\" >0.013744</td>\n",
              "            </tr>\n",
              "            <tr>\n",
              "                        <th id=\"T_8625ed14_ae3e_11eb_b83b_0242ac1c0002level0_row4\" class=\"row_heading level0 row4\" >Senior_Citizen_Yes</th>\n",
              "                        <td id=\"T_8625ed14_ae3e_11eb_b83b_0242ac1c0002row4_col0\" class=\"data row4 col0\" >0.016567</td>\n",
              "                        <td id=\"T_8625ed14_ae3e_11eb_b83b_0242ac1c0002row4_col1\" class=\"data row4 col1\" >0.220173</td>\n",
              "                        <td id=\"T_8625ed14_ae3e_11eb_b83b_0242ac1c0002row4_col2\" class=\"data row4 col2\" >0.150889</td>\n",
              "                        <td id=\"T_8625ed14_ae3e_11eb_b83b_0242ac1c0002row4_col3\" class=\"data row4 col3\" >-0.001874</td>\n",
              "                        <td id=\"T_8625ed14_ae3e_11eb_b83b_0242ac1c0002row4_col4\" class=\"data row4 col4\" >1.000000</td>\n",
              "                        <td id=\"T_8625ed14_ae3e_11eb_b83b_0242ac1c0002row4_col5\" class=\"data row4 col5\" >0.016479</td>\n",
              "                        <td id=\"T_8625ed14_ae3e_11eb_b83b_0242ac1c0002row4_col6\" class=\"data row4 col6\" >-0.174396</td>\n",
              "                        <td id=\"T_8625ed14_ae3e_11eb_b83b_0242ac1c0002row4_col7\" class=\"data row4 col7\" >0.008576</td>\n",
              "                        <td id=\"T_8625ed14_ae3e_11eb_b83b_0242ac1c0002row4_col8\" class=\"data row4 col8\" >-0.008576</td>\n",
              "                        <td id=\"T_8625ed14_ae3e_11eb_b83b_0242ac1c0002row4_col9\" class=\"data row4 col9\" >0.142948</td>\n",
              "                        <td id=\"T_8625ed14_ae3e_11eb_b83b_0242ac1c0002row4_col10\" class=\"data row4 col10\" >0.255338</td>\n",
              "                        <td id=\"T_8625ed14_ae3e_11eb_b83b_0242ac1c0002row4_col11\" class=\"data row4 col11\" >-0.182742</td>\n",
              "                        <td id=\"T_8625ed14_ae3e_11eb_b83b_0242ac1c0002row4_col12\" class=\"data row4 col12\" >-0.182742</td>\n",
              "                        <td id=\"T_8625ed14_ae3e_11eb_b83b_0242ac1c0002row4_col13\" class=\"data row4 col13\" >-0.038653</td>\n",
              "                        <td id=\"T_8625ed14_ae3e_11eb_b83b_0242ac1c0002row4_col14\" class=\"data row4 col14\" >-0.182742</td>\n",
              "                        <td id=\"T_8625ed14_ae3e_11eb_b83b_0242ac1c0002row4_col15\" class=\"data row4 col15\" >0.066572</td>\n",
              "                        <td id=\"T_8625ed14_ae3e_11eb_b83b_0242ac1c0002row4_col16\" class=\"data row4 col16\" >-0.182742</td>\n",
              "                        <td id=\"T_8625ed14_ae3e_11eb_b83b_0242ac1c0002row4_col17\" class=\"data row4 col17\" >0.059428</td>\n",
              "                        <td id=\"T_8625ed14_ae3e_11eb_b83b_0242ac1c0002row4_col18\" class=\"data row4 col18\" >-0.182742</td>\n",
              "                        <td id=\"T_8625ed14_ae3e_11eb_b83b_0242ac1c0002row4_col19\" class=\"data row4 col19\" >-0.060625</td>\n",
              "                        <td id=\"T_8625ed14_ae3e_11eb_b83b_0242ac1c0002row4_col20\" class=\"data row4 col20\" >-0.182742</td>\n",
              "                        <td id=\"T_8625ed14_ae3e_11eb_b83b_0242ac1c0002row4_col21\" class=\"data row4 col21\" >0.105378</td>\n",
              "                        <td id=\"T_8625ed14_ae3e_11eb_b83b_0242ac1c0002row4_col22\" class=\"data row4 col22\" >-0.182742</td>\n",
              "                        <td id=\"T_8625ed14_ae3e_11eb_b83b_0242ac1c0002row4_col23\" class=\"data row4 col23\" >0.120176</td>\n",
              "                        <td id=\"T_8625ed14_ae3e_11eb_b83b_0242ac1c0002row4_col24\" class=\"data row4 col24\" >-0.046262</td>\n",
              "                        <td id=\"T_8625ed14_ae3e_11eb_b83b_0242ac1c0002row4_col25\" class=\"data row4 col25\" >-0.117000</td>\n",
              "                        <td id=\"T_8625ed14_ae3e_11eb_b83b_0242ac1c0002row4_col26\" class=\"data row4 col26\" >-0.024135</td>\n",
              "                        <td id=\"T_8625ed14_ae3e_11eb_b83b_0242ac1c0002row4_col27\" class=\"data row4 col27\" >0.171718</td>\n",
              "                        <td id=\"T_8625ed14_ae3e_11eb_b83b_0242ac1c0002row4_col28\" class=\"data row4 col28\" >-0.153477</td>\n",
              "            </tr>\n",
              "            <tr>\n",
              "                        <th id=\"T_8625ed14_ae3e_11eb_b83b_0242ac1c0002level0_row5\" class=\"row_heading level0 row5\" >Partner_Yes</th>\n",
              "                        <td id=\"T_8625ed14_ae3e_11eb_b83b_0242ac1c0002row5_col0\" class=\"data row5 col0\" >0.379697</td>\n",
              "                        <td id=\"T_8625ed14_ae3e_11eb_b83b_0242ac1c0002row5_col1\" class=\"data row5 col1\" >0.096848</td>\n",
              "                        <td id=\"T_8625ed14_ae3e_11eb_b83b_0242ac1c0002row5_col2\" class=\"data row5 col2\" >-0.150448</td>\n",
              "                        <td id=\"T_8625ed14_ae3e_11eb_b83b_0242ac1c0002row5_col3\" class=\"data row5 col3\" >-0.001808</td>\n",
              "                        <td id=\"T_8625ed14_ae3e_11eb_b83b_0242ac1c0002row5_col4\" class=\"data row5 col4\" >0.016479</td>\n",
              "                        <td id=\"T_8625ed14_ae3e_11eb_b83b_0242ac1c0002row5_col5\" class=\"data row5 col5\" >1.000000</td>\n",
              "                        <td id=\"T_8625ed14_ae3e_11eb_b83b_0242ac1c0002row5_col6\" class=\"data row5 col6\" >0.363430</td>\n",
              "                        <td id=\"T_8625ed14_ae3e_11eb_b83b_0242ac1c0002row5_col7\" class=\"data row5 col7\" >0.017706</td>\n",
              "                        <td id=\"T_8625ed14_ae3e_11eb_b83b_0242ac1c0002row5_col8\" class=\"data row5 col8\" >-0.017706</td>\n",
              "                        <td id=\"T_8625ed14_ae3e_11eb_b83b_0242ac1c0002row5_col9\" class=\"data row5 col9\" >0.142057</td>\n",
              "                        <td id=\"T_8625ed14_ae3e_11eb_b83b_0242ac1c0002row5_col10\" class=\"data row5 col10\" >0.000304</td>\n",
              "                        <td id=\"T_8625ed14_ae3e_11eb_b83b_0242ac1c0002row5_col11\" class=\"data row5 col11\" >0.000615</td>\n",
              "                        <td id=\"T_8625ed14_ae3e_11eb_b83b_0242ac1c0002row5_col12\" class=\"data row5 col12\" >0.000615</td>\n",
              "                        <td id=\"T_8625ed14_ae3e_11eb_b83b_0242ac1c0002row5_col13\" class=\"data row5 col13\" >0.143106</td>\n",
              "                        <td id=\"T_8625ed14_ae3e_11eb_b83b_0242ac1c0002row5_col14\" class=\"data row5 col14\" >0.000615</td>\n",
              "                        <td id=\"T_8625ed14_ae3e_11eb_b83b_0242ac1c0002row5_col15\" class=\"data row5 col15\" >0.141498</td>\n",
              "                        <td id=\"T_8625ed14_ae3e_11eb_b83b_0242ac1c0002row5_col16\" class=\"data row5 col16\" >0.000615</td>\n",
              "                        <td id=\"T_8625ed14_ae3e_11eb_b83b_0242ac1c0002row5_col17\" class=\"data row5 col17\" >0.153786</td>\n",
              "                        <td id=\"T_8625ed14_ae3e_11eb_b83b_0242ac1c0002row5_col18\" class=\"data row5 col18\" >0.000615</td>\n",
              "                        <td id=\"T_8625ed14_ae3e_11eb_b83b_0242ac1c0002row5_col19\" class=\"data row5 col19\" >0.119999</td>\n",
              "                        <td id=\"T_8625ed14_ae3e_11eb_b83b_0242ac1c0002row5_col20\" class=\"data row5 col20\" >0.000615</td>\n",
              "                        <td id=\"T_8625ed14_ae3e_11eb_b83b_0242ac1c0002row5_col21\" class=\"data row5 col21\" >0.124666</td>\n",
              "                        <td id=\"T_8625ed14_ae3e_11eb_b83b_0242ac1c0002row5_col22\" class=\"data row5 col22\" >0.000615</td>\n",
              "                        <td id=\"T_8625ed14_ae3e_11eb_b83b_0242ac1c0002row5_col23\" class=\"data row5 col23\" >0.117412</td>\n",
              "                        <td id=\"T_8625ed14_ae3e_11eb_b83b_0242ac1c0002row5_col24\" class=\"data row5 col24\" >0.082783</td>\n",
              "                        <td id=\"T_8625ed14_ae3e_11eb_b83b_0242ac1c0002row5_col25\" class=\"data row5 col25\" >0.248091</td>\n",
              "                        <td id=\"T_8625ed14_ae3e_11eb_b83b_0242ac1c0002row5_col26\" class=\"data row5 col26\" >0.082029</td>\n",
              "                        <td id=\"T_8625ed14_ae3e_11eb_b83b_0242ac1c0002row5_col27\" class=\"data row5 col27\" >-0.083852</td>\n",
              "                        <td id=\"T_8625ed14_ae3e_11eb_b83b_0242ac1c0002row5_col28\" class=\"data row5 col28\" >-0.095125</td>\n",
              "            </tr>\n",
              "            <tr>\n",
              "                        <th id=\"T_8625ed14_ae3e_11eb_b83b_0242ac1c0002level0_row6\" class=\"row_heading level0 row6\" >Dependents_Yes</th>\n",
              "                        <td id=\"T_8625ed14_ae3e_11eb_b83b_0242ac1c0002row6_col0\" class=\"data row6 col0\" >0.131376</td>\n",
              "                        <td id=\"T_8625ed14_ae3e_11eb_b83b_0242ac1c0002row6_col1\" class=\"data row6 col1\" >-0.144206</td>\n",
              "                        <td id=\"T_8625ed14_ae3e_11eb_b83b_0242ac1c0002row6_col2\" class=\"data row6 col2\" >-0.248542</td>\n",
              "                        <td id=\"T_8625ed14_ae3e_11eb_b83b_0242ac1c0002row6_col3\" class=\"data row6 col3\" >0.005229</td>\n",
              "                        <td id=\"T_8625ed14_ae3e_11eb_b83b_0242ac1c0002row6_col4\" class=\"data row6 col4\" >-0.174396</td>\n",
              "                        <td id=\"T_8625ed14_ae3e_11eb_b83b_0242ac1c0002row6_col5\" class=\"data row6 col5\" >0.363430</td>\n",
              "                        <td id=\"T_8625ed14_ae3e_11eb_b83b_0242ac1c0002row6_col6\" class=\"data row6 col6\" >1.000000</td>\n",
              "                        <td id=\"T_8625ed14_ae3e_11eb_b83b_0242ac1c0002row6_col7\" class=\"data row6 col7\" >0.000625</td>\n",
              "                        <td id=\"T_8625ed14_ae3e_11eb_b83b_0242ac1c0002row6_col8\" class=\"data row6 col8\" >-0.000625</td>\n",
              "                        <td id=\"T_8625ed14_ae3e_11eb_b83b_0242ac1c0002row6_col9\" class=\"data row6 col9\" >-0.027510</td>\n",
              "                        <td id=\"T_8625ed14_ae3e_11eb_b83b_0242ac1c0002row6_col10\" class=\"data row6 col10\" >-0.162353</td>\n",
              "                        <td id=\"T_8625ed14_ae3e_11eb_b83b_0242ac1c0002row6_col11\" class=\"data row6 col11\" >0.172110</td>\n",
              "                        <td id=\"T_8625ed14_ae3e_11eb_b83b_0242ac1c0002row6_col12\" class=\"data row6 col12\" >0.172110</td>\n",
              "                        <td id=\"T_8625ed14_ae3e_11eb_b83b_0242ac1c0002row6_col13\" class=\"data row6 col13\" >0.050353</td>\n",
              "                        <td id=\"T_8625ed14_ae3e_11eb_b83b_0242ac1c0002row6_col14\" class=\"data row6 col14\" >0.172110</td>\n",
              "                        <td id=\"T_8625ed14_ae3e_11eb_b83b_0242ac1c0002row6_col15\" class=\"data row6 col15\" >0.003457</td>\n",
              "                        <td id=\"T_8625ed14_ae3e_11eb_b83b_0242ac1c0002row6_col16\" class=\"data row6 col16\" >0.172110</td>\n",
              "                        <td id=\"T_8625ed14_ae3e_11eb_b83b_0242ac1c0002row6_col17\" class=\"data row6 col17\" >-0.022343</td>\n",
              "                        <td id=\"T_8625ed14_ae3e_11eb_b83b_0242ac1c0002row6_col18\" class=\"data row6 col18\" >0.172110</td>\n",
              "                        <td id=\"T_8625ed14_ae3e_11eb_b83b_0242ac1c0002row6_col19\" class=\"data row6 col19\" >0.028811</td>\n",
              "                        <td id=\"T_8625ed14_ae3e_11eb_b83b_0242ac1c0002row6_col20\" class=\"data row6 col20\" >0.172110</td>\n",
              "                        <td id=\"T_8625ed14_ae3e_11eb_b83b_0242ac1c0002row6_col21\" class=\"data row6 col21\" >-0.057717</td>\n",
              "                        <td id=\"T_8625ed14_ae3e_11eb_b83b_0242ac1c0002row6_col22\" class=\"data row6 col22\" >0.172110</td>\n",
              "                        <td id=\"T_8625ed14_ae3e_11eb_b83b_0242ac1c0002row6_col23\" class=\"data row6 col23\" >-0.073364</td>\n",
              "                        <td id=\"T_8625ed14_ae3e_11eb_b83b_0242ac1c0002row6_col24\" class=\"data row6 col24\" >0.014680</td>\n",
              "                        <td id=\"T_8625ed14_ae3e_11eb_b83b_0242ac1c0002row6_col25\" class=\"data row6 col25\" >0.190262</td>\n",
              "                        <td id=\"T_8625ed14_ae3e_11eb_b83b_0242ac1c0002row6_col26\" class=\"data row6 col26\" >0.041254</td>\n",
              "                        <td id=\"T_8625ed14_ae3e_11eb_b83b_0242ac1c0002row6_col27\" class=\"data row6 col27\" >-0.141476</td>\n",
              "                        <td id=\"T_8625ed14_ae3e_11eb_b83b_0242ac1c0002row6_col28\" class=\"data row6 col28\" >0.071056</td>\n",
              "            </tr>\n",
              "            <tr>\n",
              "                        <th id=\"T_8625ed14_ae3e_11eb_b83b_0242ac1c0002level0_row7\" class=\"row_heading level0 row7\" >Phone_Service_Yes</th>\n",
              "                        <td id=\"T_8625ed14_ae3e_11eb_b83b_0242ac1c0002row7_col0\" class=\"data row7 col0\" >0.008448</td>\n",
              "                        <td id=\"T_8625ed14_ae3e_11eb_b83b_0242ac1c0002row7_col1\" class=\"data row7 col1\" >0.247398</td>\n",
              "                        <td id=\"T_8625ed14_ae3e_11eb_b83b_0242ac1c0002row7_col2\" class=\"data row7 col2\" >0.011942</td>\n",
              "                        <td id=\"T_8625ed14_ae3e_11eb_b83b_0242ac1c0002row7_col3\" class=\"data row7 col3\" >-0.006488</td>\n",
              "                        <td id=\"T_8625ed14_ae3e_11eb_b83b_0242ac1c0002row7_col4\" class=\"data row7 col4\" >0.008576</td>\n",
              "                        <td id=\"T_8625ed14_ae3e_11eb_b83b_0242ac1c0002row7_col5\" class=\"data row7 col5\" >0.017706</td>\n",
              "                        <td id=\"T_8625ed14_ae3e_11eb_b83b_0242ac1c0002row7_col6\" class=\"data row7 col6\" >0.000625</td>\n",
              "                        <td id=\"T_8625ed14_ae3e_11eb_b83b_0242ac1c0002row7_col7\" class=\"data row7 col7\" >1.000000</td>\n",
              "                        <td id=\"T_8625ed14_ae3e_11eb_b83b_0242ac1c0002row7_col8\" class=\"data row7 col8\" >-1.000000</td>\n",
              "                        <td id=\"T_8625ed14_ae3e_11eb_b83b_0242ac1c0002row7_col9\" class=\"data row7 col9\" >0.279690</td>\n",
              "                        <td id=\"T_8625ed14_ae3e_11eb_b83b_0242ac1c0002row7_col10\" class=\"data row7 col10\" >0.289999</td>\n",
              "                        <td id=\"T_8625ed14_ae3e_11eb_b83b_0242ac1c0002row7_col11\" class=\"data row7 col11\" >0.172209</td>\n",
              "                        <td id=\"T_8625ed14_ae3e_11eb_b83b_0242ac1c0002row7_col12\" class=\"data row7 col12\" >0.172209</td>\n",
              "                        <td id=\"T_8625ed14_ae3e_11eb_b83b_0242ac1c0002row7_col13\" class=\"data row7 col13\" >-0.092893</td>\n",
              "                        <td id=\"T_8625ed14_ae3e_11eb_b83b_0242ac1c0002row7_col14\" class=\"data row7 col14\" >0.172209</td>\n",
              "                        <td id=\"T_8625ed14_ae3e_11eb_b83b_0242ac1c0002row7_col15\" class=\"data row7 col15\" >-0.052312</td>\n",
              "                        <td id=\"T_8625ed14_ae3e_11eb_b83b_0242ac1c0002row7_col16\" class=\"data row7 col16\" >0.172209</td>\n",
              "                        <td id=\"T_8625ed14_ae3e_11eb_b83b_0242ac1c0002row7_col17\" class=\"data row7 col17\" >-0.071227</td>\n",
              "                        <td id=\"T_8625ed14_ae3e_11eb_b83b_0242ac1c0002row7_col18\" class=\"data row7 col18\" >0.172209</td>\n",
              "                        <td id=\"T_8625ed14_ae3e_11eb_b83b_0242ac1c0002row7_col19\" class=\"data row7 col19\" >-0.096340</td>\n",
              "                        <td id=\"T_8625ed14_ae3e_11eb_b83b_0242ac1c0002row7_col20\" class=\"data row7 col20\" >0.172209</td>\n",
              "                        <td id=\"T_8625ed14_ae3e_11eb_b83b_0242ac1c0002row7_col21\" class=\"data row7 col21\" >-0.022574</td>\n",
              "                        <td id=\"T_8625ed14_ae3e_11eb_b83b_0242ac1c0002row7_col22\" class=\"data row7 col22\" >0.172209</td>\n",
              "                        <td id=\"T_8625ed14_ae3e_11eb_b83b_0242ac1c0002row7_col23\" class=\"data row7 col23\" >-0.032959</td>\n",
              "                        <td id=\"T_8625ed14_ae3e_11eb_b83b_0242ac1c0002row7_col24\" class=\"data row7 col24\" >-0.002791</td>\n",
              "                        <td id=\"T_8625ed14_ae3e_11eb_b83b_0242ac1c0002row7_col25\" class=\"data row7 col25\" >0.003519</td>\n",
              "                        <td id=\"T_8625ed14_ae3e_11eb_b83b_0242ac1c0002row7_col26\" class=\"data row7 col26\" >-0.007721</td>\n",
              "                        <td id=\"T_8625ed14_ae3e_11eb_b83b_0242ac1c0002row7_col27\" class=\"data row7 col27\" >0.003062</td>\n",
              "                        <td id=\"T_8625ed14_ae3e_11eb_b83b_0242ac1c0002row7_col28\" class=\"data row7 col28\" >-0.003319</td>\n",
              "            </tr>\n",
              "            <tr>\n",
              "                        <th id=\"T_8625ed14_ae3e_11eb_b83b_0242ac1c0002level0_row8\" class=\"row_heading level0 row8\" >Multiple_Lines_No phone service</th>\n",
              "                        <td id=\"T_8625ed14_ae3e_11eb_b83b_0242ac1c0002row8_col0\" class=\"data row8 col0\" >-0.008448</td>\n",
              "                        <td id=\"T_8625ed14_ae3e_11eb_b83b_0242ac1c0002row8_col1\" class=\"data row8 col1\" >-0.247398</td>\n",
              "                        <td id=\"T_8625ed14_ae3e_11eb_b83b_0242ac1c0002row8_col2\" class=\"data row8 col2\" >-0.011942</td>\n",
              "                        <td id=\"T_8625ed14_ae3e_11eb_b83b_0242ac1c0002row8_col3\" class=\"data row8 col3\" >0.006488</td>\n",
              "                        <td id=\"T_8625ed14_ae3e_11eb_b83b_0242ac1c0002row8_col4\" class=\"data row8 col4\" >-0.008576</td>\n",
              "                        <td id=\"T_8625ed14_ae3e_11eb_b83b_0242ac1c0002row8_col5\" class=\"data row8 col5\" >-0.017706</td>\n",
              "                        <td id=\"T_8625ed14_ae3e_11eb_b83b_0242ac1c0002row8_col6\" class=\"data row8 col6\" >-0.000625</td>\n",
              "                        <td id=\"T_8625ed14_ae3e_11eb_b83b_0242ac1c0002row8_col7\" class=\"data row8 col7\" >-1.000000</td>\n",
              "                        <td id=\"T_8625ed14_ae3e_11eb_b83b_0242ac1c0002row8_col8\" class=\"data row8 col8\" >1.000000</td>\n",
              "                        <td id=\"T_8625ed14_ae3e_11eb_b83b_0242ac1c0002row8_col9\" class=\"data row8 col9\" >-0.279690</td>\n",
              "                        <td id=\"T_8625ed14_ae3e_11eb_b83b_0242ac1c0002row8_col10\" class=\"data row8 col10\" >-0.289999</td>\n",
              "                        <td id=\"T_8625ed14_ae3e_11eb_b83b_0242ac1c0002row8_col11\" class=\"data row8 col11\" >-0.172209</td>\n",
              "                        <td id=\"T_8625ed14_ae3e_11eb_b83b_0242ac1c0002row8_col12\" class=\"data row8 col12\" >-0.172209</td>\n",
              "                        <td id=\"T_8625ed14_ae3e_11eb_b83b_0242ac1c0002row8_col13\" class=\"data row8 col13\" >0.092893</td>\n",
              "                        <td id=\"T_8625ed14_ae3e_11eb_b83b_0242ac1c0002row8_col14\" class=\"data row8 col14\" >-0.172209</td>\n",
              "                        <td id=\"T_8625ed14_ae3e_11eb_b83b_0242ac1c0002row8_col15\" class=\"data row8 col15\" >0.052312</td>\n",
              "                        <td id=\"T_8625ed14_ae3e_11eb_b83b_0242ac1c0002row8_col16\" class=\"data row8 col16\" >-0.172209</td>\n",
              "                        <td id=\"T_8625ed14_ae3e_11eb_b83b_0242ac1c0002row8_col17\" class=\"data row8 col17\" >0.071227</td>\n",
              "                        <td id=\"T_8625ed14_ae3e_11eb_b83b_0242ac1c0002row8_col18\" class=\"data row8 col18\" >-0.172209</td>\n",
              "                        <td id=\"T_8625ed14_ae3e_11eb_b83b_0242ac1c0002row8_col19\" class=\"data row8 col19\" >0.096340</td>\n",
              "                        <td id=\"T_8625ed14_ae3e_11eb_b83b_0242ac1c0002row8_col20\" class=\"data row8 col20\" >-0.172209</td>\n",
              "                        <td id=\"T_8625ed14_ae3e_11eb_b83b_0242ac1c0002row8_col21\" class=\"data row8 col21\" >0.022574</td>\n",
              "                        <td id=\"T_8625ed14_ae3e_11eb_b83b_0242ac1c0002row8_col22\" class=\"data row8 col22\" >-0.172209</td>\n",
              "                        <td id=\"T_8625ed14_ae3e_11eb_b83b_0242ac1c0002row8_col23\" class=\"data row8 col23\" >0.032959</td>\n",
              "                        <td id=\"T_8625ed14_ae3e_11eb_b83b_0242ac1c0002row8_col24\" class=\"data row8 col24\" >0.002791</td>\n",
              "                        <td id=\"T_8625ed14_ae3e_11eb_b83b_0242ac1c0002row8_col25\" class=\"data row8 col25\" >-0.003519</td>\n",
              "                        <td id=\"T_8625ed14_ae3e_11eb_b83b_0242ac1c0002row8_col26\" class=\"data row8 col26\" >0.007721</td>\n",
              "                        <td id=\"T_8625ed14_ae3e_11eb_b83b_0242ac1c0002row8_col27\" class=\"data row8 col27\" >-0.003062</td>\n",
              "                        <td id=\"T_8625ed14_ae3e_11eb_b83b_0242ac1c0002row8_col28\" class=\"data row8 col28\" >0.003319</td>\n",
              "            </tr>\n",
              "            <tr>\n",
              "                        <th id=\"T_8625ed14_ae3e_11eb_b83b_0242ac1c0002level0_row9\" class=\"row_heading level0 row9\" >Multiple_Lines_Yes</th>\n",
              "                        <td id=\"T_8625ed14_ae3e_11eb_b83b_0242ac1c0002row9_col0\" class=\"data row9 col0\" >0.331941</td>\n",
              "                        <td id=\"T_8625ed14_ae3e_11eb_b83b_0242ac1c0002row9_col1\" class=\"data row9 col1\" >0.490434</td>\n",
              "                        <td id=\"T_8625ed14_ae3e_11eb_b83b_0242ac1c0002row9_col2\" class=\"data row9 col2\" >0.040102</td>\n",
              "                        <td id=\"T_8625ed14_ae3e_11eb_b83b_0242ac1c0002row9_col3\" class=\"data row9 col3\" >-0.008414</td>\n",
              "                        <td id=\"T_8625ed14_ae3e_11eb_b83b_0242ac1c0002row9_col4\" class=\"data row9 col4\" >0.142948</td>\n",
              "                        <td id=\"T_8625ed14_ae3e_11eb_b83b_0242ac1c0002row9_col5\" class=\"data row9 col5\" >0.142057</td>\n",
              "                        <td id=\"T_8625ed14_ae3e_11eb_b83b_0242ac1c0002row9_col6\" class=\"data row9 col6\" >-0.027510</td>\n",
              "                        <td id=\"T_8625ed14_ae3e_11eb_b83b_0242ac1c0002row9_col7\" class=\"data row9 col7\" >0.279690</td>\n",
              "                        <td id=\"T_8625ed14_ae3e_11eb_b83b_0242ac1c0002row9_col8\" class=\"data row9 col8\" >-0.279690</td>\n",
              "                        <td id=\"T_8625ed14_ae3e_11eb_b83b_0242ac1c0002row9_col9\" class=\"data row9 col9\" >1.000000</td>\n",
              "                        <td id=\"T_8625ed14_ae3e_11eb_b83b_0242ac1c0002row9_col10\" class=\"data row9 col10\" >0.366083</td>\n",
              "                        <td id=\"T_8625ed14_ae3e_11eb_b83b_0242ac1c0002row9_col11\" class=\"data row9 col11\" >-0.210564</td>\n",
              "                        <td id=\"T_8625ed14_ae3e_11eb_b83b_0242ac1c0002row9_col12\" class=\"data row9 col12\" >-0.210564</td>\n",
              "                        <td id=\"T_8625ed14_ae3e_11eb_b83b_0242ac1c0002row9_col13\" class=\"data row9 col13\" >0.098108</td>\n",
              "                        <td id=\"T_8625ed14_ae3e_11eb_b83b_0242ac1c0002row9_col14\" class=\"data row9 col14\" >-0.210564</td>\n",
              "                        <td id=\"T_8625ed14_ae3e_11eb_b83b_0242ac1c0002row9_col15\" class=\"data row9 col15\" >0.202237</td>\n",
              "                        <td id=\"T_8625ed14_ae3e_11eb_b83b_0242ac1c0002row9_col16\" class=\"data row9 col16\" >-0.210564</td>\n",
              "                        <td id=\"T_8625ed14_ae3e_11eb_b83b_0242ac1c0002row9_col17\" class=\"data row9 col17\" >0.201137</td>\n",
              "                        <td id=\"T_8625ed14_ae3e_11eb_b83b_0242ac1c0002row9_col18\" class=\"data row9 col18\" >-0.210564</td>\n",
              "                        <td id=\"T_8625ed14_ae3e_11eb_b83b_0242ac1c0002row9_col19\" class=\"data row9 col19\" >0.100571</td>\n",
              "                        <td id=\"T_8625ed14_ae3e_11eb_b83b_0242ac1c0002row9_col20\" class=\"data row9 col20\" >-0.210564</td>\n",
              "                        <td id=\"T_8625ed14_ae3e_11eb_b83b_0242ac1c0002row9_col21\" class=\"data row9 col21\" >0.257152</td>\n",
              "                        <td id=\"T_8625ed14_ae3e_11eb_b83b_0242ac1c0002row9_col22\" class=\"data row9 col22\" >-0.210564</td>\n",
              "                        <td id=\"T_8625ed14_ae3e_11eb_b83b_0242ac1c0002row9_col23\" class=\"data row9 col23\" >0.258751</td>\n",
              "                        <td id=\"T_8625ed14_ae3e_11eb_b83b_0242ac1c0002row9_col24\" class=\"data row9 col24\" >-0.003794</td>\n",
              "                        <td id=\"T_8625ed14_ae3e_11eb_b83b_0242ac1c0002row9_col25\" class=\"data row9 col25\" >0.106253</td>\n",
              "                        <td id=\"T_8625ed14_ae3e_11eb_b83b_0242ac1c0002row9_col26\" class=\"data row9 col26\" >0.060048</td>\n",
              "                        <td id=\"T_8625ed14_ae3e_11eb_b83b_0242ac1c0002row9_col27\" class=\"data row9 col27\" >0.083618</td>\n",
              "                        <td id=\"T_8625ed14_ae3e_11eb_b83b_0242ac1c0002row9_col28\" class=\"data row9 col28\" >-0.227206</td>\n",
              "            </tr>\n",
              "            <tr>\n",
              "                        <th id=\"T_8625ed14_ae3e_11eb_b83b_0242ac1c0002level0_row10\" class=\"row_heading level0 row10\" >Internet_Service_Fiber optic</th>\n",
              "                        <td id=\"T_8625ed14_ae3e_11eb_b83b_0242ac1c0002row10_col0\" class=\"data row10 col0\" >0.019720</td>\n",
              "                        <td id=\"T_8625ed14_ae3e_11eb_b83b_0242ac1c0002row10_col1\" class=\"data row10 col1\" >0.787066</td>\n",
              "                        <td id=\"T_8625ed14_ae3e_11eb_b83b_0242ac1c0002row10_col2\" class=\"data row10 col2\" >0.308020</td>\n",
              "                        <td id=\"T_8625ed14_ae3e_11eb_b83b_0242ac1c0002row10_col3\" class=\"data row10 col3\" >-0.011286</td>\n",
              "                        <td id=\"T_8625ed14_ae3e_11eb_b83b_0242ac1c0002row10_col4\" class=\"data row10 col4\" >0.255338</td>\n",
              "                        <td id=\"T_8625ed14_ae3e_11eb_b83b_0242ac1c0002row10_col5\" class=\"data row10 col5\" >0.000304</td>\n",
              "                        <td id=\"T_8625ed14_ae3e_11eb_b83b_0242ac1c0002row10_col6\" class=\"data row10 col6\" >-0.162353</td>\n",
              "                        <td id=\"T_8625ed14_ae3e_11eb_b83b_0242ac1c0002row10_col7\" class=\"data row10 col7\" >0.289999</td>\n",
              "                        <td id=\"T_8625ed14_ae3e_11eb_b83b_0242ac1c0002row10_col8\" class=\"data row10 col8\" >-0.289999</td>\n",
              "                        <td id=\"T_8625ed14_ae3e_11eb_b83b_0242ac1c0002row10_col9\" class=\"data row10 col9\" >0.366083</td>\n",
              "                        <td id=\"T_8625ed14_ae3e_11eb_b83b_0242ac1c0002row10_col10\" class=\"data row10 col10\" >1.000000</td>\n",
              "                        <td id=\"T_8625ed14_ae3e_11eb_b83b_0242ac1c0002row10_col11\" class=\"data row10 col11\" >-0.465793</td>\n",
              "                        <td id=\"T_8625ed14_ae3e_11eb_b83b_0242ac1c0002row10_col12\" class=\"data row10 col12\" >-0.465793</td>\n",
              "                        <td id=\"T_8625ed14_ae3e_11eb_b83b_0242ac1c0002row10_col13\" class=\"data row10 col13\" >-0.030696</td>\n",
              "                        <td id=\"T_8625ed14_ae3e_11eb_b83b_0242ac1c0002row10_col14\" class=\"data row10 col14\" >-0.465793</td>\n",
              "                        <td id=\"T_8625ed14_ae3e_11eb_b83b_0242ac1c0002row10_col15\" class=\"data row10 col15\" >0.165651</td>\n",
              "                        <td id=\"T_8625ed14_ae3e_11eb_b83b_0242ac1c0002row10_col16\" class=\"data row10 col16\" >-0.465793</td>\n",
              "                        <td id=\"T_8625ed14_ae3e_11eb_b83b_0242ac1c0002row10_col17\" class=\"data row10 col17\" >0.176049</td>\n",
              "                        <td id=\"T_8625ed14_ae3e_11eb_b83b_0242ac1c0002row10_col18\" class=\"data row10 col18\" >-0.465793</td>\n",
              "                        <td id=\"T_8625ed14_ae3e_11eb_b83b_0242ac1c0002row10_col19\" class=\"data row10 col19\" >-0.020492</td>\n",
              "                        <td id=\"T_8625ed14_ae3e_11eb_b83b_0242ac1c0002row10_col20\" class=\"data row10 col20\" >-0.465793</td>\n",
              "                        <td id=\"T_8625ed14_ae3e_11eb_b83b_0242ac1c0002row10_col21\" class=\"data row10 col21\" >0.329349</td>\n",
              "                        <td id=\"T_8625ed14_ae3e_11eb_b83b_0242ac1c0002row10_col22\" class=\"data row10 col22\" >-0.465793</td>\n",
              "                        <td id=\"T_8625ed14_ae3e_11eb_b83b_0242ac1c0002row10_col23\" class=\"data row10 col23\" >0.322923</td>\n",
              "                        <td id=\"T_8625ed14_ae3e_11eb_b83b_0242ac1c0002row10_col24\" class=\"data row10 col24\" >-0.076324</td>\n",
              "                        <td id=\"T_8625ed14_ae3e_11eb_b83b_0242ac1c0002row10_col25\" class=\"data row10 col25\" >-0.211526</td>\n",
              "                        <td id=\"T_8625ed14_ae3e_11eb_b83b_0242ac1c0002row10_col26\" class=\"data row10 col26\" >-0.050077</td>\n",
              "                        <td id=\"T_8625ed14_ae3e_11eb_b83b_0242ac1c0002row10_col27\" class=\"data row10 col27\" >0.336410</td>\n",
              "                        <td id=\"T_8625ed14_ae3e_11eb_b83b_0242ac1c0002row10_col28\" class=\"data row10 col28\" >-0.306834</td>\n",
              "            </tr>\n",
              "            <tr>\n",
              "                        <th id=\"T_8625ed14_ae3e_11eb_b83b_0242ac1c0002level0_row11\" class=\"row_heading level0 row11\" >Internet_Service_No</th>\n",
              "                        <td id=\"T_8625ed14_ae3e_11eb_b83b_0242ac1c0002row11_col0\" class=\"data row11 col0\" >-0.039062</td>\n",
              "                        <td id=\"T_8625ed14_ae3e_11eb_b83b_0242ac1c0002row11_col1\" class=\"data row11 col1\" >-0.763557</td>\n",
              "                        <td id=\"T_8625ed14_ae3e_11eb_b83b_0242ac1c0002row11_col2\" class=\"data row11 col2\" >-0.227890</td>\n",
              "                        <td id=\"T_8625ed14_ae3e_11eb_b83b_0242ac1c0002row11_col3\" class=\"data row11 col3\" >0.006026</td>\n",
              "                        <td id=\"T_8625ed14_ae3e_11eb_b83b_0242ac1c0002row11_col4\" class=\"data row11 col4\" >-0.182742</td>\n",
              "                        <td id=\"T_8625ed14_ae3e_11eb_b83b_0242ac1c0002row11_col5\" class=\"data row11 col5\" >0.000615</td>\n",
              "                        <td id=\"T_8625ed14_ae3e_11eb_b83b_0242ac1c0002row11_col6\" class=\"data row11 col6\" >0.172110</td>\n",
              "                        <td id=\"T_8625ed14_ae3e_11eb_b83b_0242ac1c0002row11_col7\" class=\"data row11 col7\" >0.172209</td>\n",
              "                        <td id=\"T_8625ed14_ae3e_11eb_b83b_0242ac1c0002row11_col8\" class=\"data row11 col8\" >-0.172209</td>\n",
              "                        <td id=\"T_8625ed14_ae3e_11eb_b83b_0242ac1c0002row11_col9\" class=\"data row11 col9\" >-0.210564</td>\n",
              "                        <td id=\"T_8625ed14_ae3e_11eb_b83b_0242ac1c0002row11_col10\" class=\"data row11 col10\" >-0.465793</td>\n",
              "                        <td id=\"T_8625ed14_ae3e_11eb_b83b_0242ac1c0002row11_col11\" class=\"data row11 col11\" >1.000000</td>\n",
              "                        <td id=\"T_8625ed14_ae3e_11eb_b83b_0242ac1c0002row11_col12\" class=\"data row11 col12\" >1.000000</td>\n",
              "                        <td id=\"T_8625ed14_ae3e_11eb_b83b_0242ac1c0002row11_col13\" class=\"data row11 col13\" >-0.333403</td>\n",
              "                        <td id=\"T_8625ed14_ae3e_11eb_b83b_0242ac1c0002row11_col14\" class=\"data row11 col14\" >1.000000</td>\n",
              "                        <td id=\"T_8625ed14_ae3e_11eb_b83b_0242ac1c0002row11_col15\" class=\"data row11 col15\" >-0.381593</td>\n",
              "                        <td id=\"T_8625ed14_ae3e_11eb_b83b_0242ac1c0002row11_col16\" class=\"data row11 col16\" >1.000000</td>\n",
              "                        <td id=\"T_8625ed14_ae3e_11eb_b83b_0242ac1c0002row11_col17\" class=\"data row11 col17\" >-0.380754</td>\n",
              "                        <td id=\"T_8625ed14_ae3e_11eb_b83b_0242ac1c0002row11_col18\" class=\"data row11 col18\" >1.000000</td>\n",
              "                        <td id=\"T_8625ed14_ae3e_11eb_b83b_0242ac1c0002row11_col19\" class=\"data row11 col19\" >-0.336298</td>\n",
              "                        <td id=\"T_8625ed14_ae3e_11eb_b83b_0242ac1c0002row11_col20\" class=\"data row11 col20\" >1.000000</td>\n",
              "                        <td id=\"T_8625ed14_ae3e_11eb_b83b_0242ac1c0002row11_col21\" class=\"data row11 col21\" >-0.415552</td>\n",
              "                        <td id=\"T_8625ed14_ae3e_11eb_b83b_0242ac1c0002row11_col22\" class=\"data row11 col22\" >1.000000</td>\n",
              "                        <td id=\"T_8625ed14_ae3e_11eb_b83b_0242ac1c0002row11_col23\" class=\"data row11 col23\" >-0.418675</td>\n",
              "                        <td id=\"T_8625ed14_ae3e_11eb_b83b_0242ac1c0002row11_col24\" class=\"data row11 col24\" >0.038004</td>\n",
              "                        <td id=\"T_8625ed14_ae3e_11eb_b83b_0242ac1c0002row11_col25\" class=\"data row11 col25\" >0.218278</td>\n",
              "                        <td id=\"T_8625ed14_ae3e_11eb_b83b_0242ac1c0002row11_col26\" class=\"data row11 col26\" >0.001030</td>\n",
              "                        <td id=\"T_8625ed14_ae3e_11eb_b83b_0242ac1c0002row11_col27\" class=\"data row11 col27\" >-0.284917</td>\n",
              "                        <td id=\"T_8625ed14_ae3e_11eb_b83b_0242ac1c0002row11_col28\" class=\"data row11 col28\" >0.321361</td>\n",
              "            </tr>\n",
              "            <tr>\n",
              "                        <th id=\"T_8625ed14_ae3e_11eb_b83b_0242ac1c0002level0_row12\" class=\"row_heading level0 row12\" >Online_Security_No internet service</th>\n",
              "                        <td id=\"T_8625ed14_ae3e_11eb_b83b_0242ac1c0002row12_col0\" class=\"data row12 col0\" >-0.039062</td>\n",
              "                        <td id=\"T_8625ed14_ae3e_11eb_b83b_0242ac1c0002row12_col1\" class=\"data row12 col1\" >-0.763557</td>\n",
              "                        <td id=\"T_8625ed14_ae3e_11eb_b83b_0242ac1c0002row12_col2\" class=\"data row12 col2\" >-0.227890</td>\n",
              "                        <td id=\"T_8625ed14_ae3e_11eb_b83b_0242ac1c0002row12_col3\" class=\"data row12 col3\" >0.006026</td>\n",
              "                        <td id=\"T_8625ed14_ae3e_11eb_b83b_0242ac1c0002row12_col4\" class=\"data row12 col4\" >-0.182742</td>\n",
              "                        <td id=\"T_8625ed14_ae3e_11eb_b83b_0242ac1c0002row12_col5\" class=\"data row12 col5\" >0.000615</td>\n",
              "                        <td id=\"T_8625ed14_ae3e_11eb_b83b_0242ac1c0002row12_col6\" class=\"data row12 col6\" >0.172110</td>\n",
              "                        <td id=\"T_8625ed14_ae3e_11eb_b83b_0242ac1c0002row12_col7\" class=\"data row12 col7\" >0.172209</td>\n",
              "                        <td id=\"T_8625ed14_ae3e_11eb_b83b_0242ac1c0002row12_col8\" class=\"data row12 col8\" >-0.172209</td>\n",
              "                        <td id=\"T_8625ed14_ae3e_11eb_b83b_0242ac1c0002row12_col9\" class=\"data row12 col9\" >-0.210564</td>\n",
              "                        <td id=\"T_8625ed14_ae3e_11eb_b83b_0242ac1c0002row12_col10\" class=\"data row12 col10\" >-0.465793</td>\n",
              "                        <td id=\"T_8625ed14_ae3e_11eb_b83b_0242ac1c0002row12_col11\" class=\"data row12 col11\" >1.000000</td>\n",
              "                        <td id=\"T_8625ed14_ae3e_11eb_b83b_0242ac1c0002row12_col12\" class=\"data row12 col12\" >1.000000</td>\n",
              "                        <td id=\"T_8625ed14_ae3e_11eb_b83b_0242ac1c0002row12_col13\" class=\"data row12 col13\" >-0.333403</td>\n",
              "                        <td id=\"T_8625ed14_ae3e_11eb_b83b_0242ac1c0002row12_col14\" class=\"data row12 col14\" >1.000000</td>\n",
              "                        <td id=\"T_8625ed14_ae3e_11eb_b83b_0242ac1c0002row12_col15\" class=\"data row12 col15\" >-0.381593</td>\n",
              "                        <td id=\"T_8625ed14_ae3e_11eb_b83b_0242ac1c0002row12_col16\" class=\"data row12 col16\" >1.000000</td>\n",
              "                        <td id=\"T_8625ed14_ae3e_11eb_b83b_0242ac1c0002row12_col17\" class=\"data row12 col17\" >-0.380754</td>\n",
              "                        <td id=\"T_8625ed14_ae3e_11eb_b83b_0242ac1c0002row12_col18\" class=\"data row12 col18\" >1.000000</td>\n",
              "                        <td id=\"T_8625ed14_ae3e_11eb_b83b_0242ac1c0002row12_col19\" class=\"data row12 col19\" >-0.336298</td>\n",
              "                        <td id=\"T_8625ed14_ae3e_11eb_b83b_0242ac1c0002row12_col20\" class=\"data row12 col20\" >1.000000</td>\n",
              "                        <td id=\"T_8625ed14_ae3e_11eb_b83b_0242ac1c0002row12_col21\" class=\"data row12 col21\" >-0.415552</td>\n",
              "                        <td id=\"T_8625ed14_ae3e_11eb_b83b_0242ac1c0002row12_col22\" class=\"data row12 col22\" >1.000000</td>\n",
              "                        <td id=\"T_8625ed14_ae3e_11eb_b83b_0242ac1c0002row12_col23\" class=\"data row12 col23\" >-0.418675</td>\n",
              "                        <td id=\"T_8625ed14_ae3e_11eb_b83b_0242ac1c0002row12_col24\" class=\"data row12 col24\" >0.038004</td>\n",
              "                        <td id=\"T_8625ed14_ae3e_11eb_b83b_0242ac1c0002row12_col25\" class=\"data row12 col25\" >0.218278</td>\n",
              "                        <td id=\"T_8625ed14_ae3e_11eb_b83b_0242ac1c0002row12_col26\" class=\"data row12 col26\" >0.001030</td>\n",
              "                        <td id=\"T_8625ed14_ae3e_11eb_b83b_0242ac1c0002row12_col27\" class=\"data row12 col27\" >-0.284917</td>\n",
              "                        <td id=\"T_8625ed14_ae3e_11eb_b83b_0242ac1c0002row12_col28\" class=\"data row12 col28\" >0.321361</td>\n",
              "            </tr>\n",
              "            <tr>\n",
              "                        <th id=\"T_8625ed14_ae3e_11eb_b83b_0242ac1c0002level0_row13\" class=\"row_heading level0 row13\" >Online_Security_Yes</th>\n",
              "                        <td id=\"T_8625ed14_ae3e_11eb_b83b_0242ac1c0002row13_col0\" class=\"data row13 col0\" >0.327203</td>\n",
              "                        <td id=\"T_8625ed14_ae3e_11eb_b83b_0242ac1c0002row13_col1\" class=\"data row13 col1\" >0.296594</td>\n",
              "                        <td id=\"T_8625ed14_ae3e_11eb_b83b_0242ac1c0002row13_col2\" class=\"data row13 col2\" >-0.171226</td>\n",
              "                        <td id=\"T_8625ed14_ae3e_11eb_b83b_0242ac1c0002row13_col3\" class=\"data row13 col3\" >-0.017021</td>\n",
              "                        <td id=\"T_8625ed14_ae3e_11eb_b83b_0242ac1c0002row13_col4\" class=\"data row13 col4\" >-0.038653</td>\n",
              "                        <td id=\"T_8625ed14_ae3e_11eb_b83b_0242ac1c0002row13_col5\" class=\"data row13 col5\" >0.143106</td>\n",
              "                        <td id=\"T_8625ed14_ae3e_11eb_b83b_0242ac1c0002row13_col6\" class=\"data row13 col6\" >0.050353</td>\n",
              "                        <td id=\"T_8625ed14_ae3e_11eb_b83b_0242ac1c0002row13_col7\" class=\"data row13 col7\" >-0.092893</td>\n",
              "                        <td id=\"T_8625ed14_ae3e_11eb_b83b_0242ac1c0002row13_col8\" class=\"data row13 col8\" >0.092893</td>\n",
              "                        <td id=\"T_8625ed14_ae3e_11eb_b83b_0242ac1c0002row13_col9\" class=\"data row13 col9\" >0.098108</td>\n",
              "                        <td id=\"T_8625ed14_ae3e_11eb_b83b_0242ac1c0002row13_col10\" class=\"data row13 col10\" >-0.030696</td>\n",
              "                        <td id=\"T_8625ed14_ae3e_11eb_b83b_0242ac1c0002row13_col11\" class=\"data row13 col11\" >-0.333403</td>\n",
              "                        <td id=\"T_8625ed14_ae3e_11eb_b83b_0242ac1c0002row13_col12\" class=\"data row13 col12\" >-0.333403</td>\n",
              "                        <td id=\"T_8625ed14_ae3e_11eb_b83b_0242ac1c0002row13_col13\" class=\"data row13 col13\" >1.000000</td>\n",
              "                        <td id=\"T_8625ed14_ae3e_11eb_b83b_0242ac1c0002row13_col14\" class=\"data row13 col14\" >-0.333403</td>\n",
              "                        <td id=\"T_8625ed14_ae3e_11eb_b83b_0242ac1c0002row13_col15\" class=\"data row13 col15\" >0.283832</td>\n",
              "                        <td id=\"T_8625ed14_ae3e_11eb_b83b_0242ac1c0002row13_col16\" class=\"data row13 col16\" >-0.333403</td>\n",
              "                        <td id=\"T_8625ed14_ae3e_11eb_b83b_0242ac1c0002row13_col17\" class=\"data row13 col17\" >0.275438</td>\n",
              "                        <td id=\"T_8625ed14_ae3e_11eb_b83b_0242ac1c0002row13_col18\" class=\"data row13 col18\" >-0.333403</td>\n",
              "                        <td id=\"T_8625ed14_ae3e_11eb_b83b_0242ac1c0002row13_col19\" class=\"data row13 col19\" >0.354931</td>\n",
              "                        <td id=\"T_8625ed14_ae3e_11eb_b83b_0242ac1c0002row13_col20\" class=\"data row13 col20\" >-0.333403</td>\n",
              "                        <td id=\"T_8625ed14_ae3e_11eb_b83b_0242ac1c0002row13_col21\" class=\"data row13 col21\" >0.176207</td>\n",
              "                        <td id=\"T_8625ed14_ae3e_11eb_b83b_0242ac1c0002row13_col22\" class=\"data row13 col22\" >-0.333403</td>\n",
              "                        <td id=\"T_8625ed14_ae3e_11eb_b83b_0242ac1c0002row13_col23\" class=\"data row13 col23\" >0.187398</td>\n",
              "                        <td id=\"T_8625ed14_ae3e_11eb_b83b_0242ac1c0002row13_col24\" class=\"data row13 col24\" >0.100162</td>\n",
              "                        <td id=\"T_8625ed14_ae3e_11eb_b83b_0242ac1c0002row13_col25\" class=\"data row13 col25\" >0.191773</td>\n",
              "                        <td id=\"T_8625ed14_ae3e_11eb_b83b_0242ac1c0002row13_col26\" class=\"data row13 col26\" >0.115721</td>\n",
              "                        <td id=\"T_8625ed14_ae3e_11eb_b83b_0242ac1c0002row13_col27\" class=\"data row13 col27\" >-0.112338</td>\n",
              "                        <td id=\"T_8625ed14_ae3e_11eb_b83b_0242ac1c0002row13_col28\" class=\"data row13 col28\" >-0.080798</td>\n",
              "            </tr>\n",
              "            <tr>\n",
              "                        <th id=\"T_8625ed14_ae3e_11eb_b83b_0242ac1c0002level0_row14\" class=\"row_heading level0 row14\" >Online_Backup_No internet service</th>\n",
              "                        <td id=\"T_8625ed14_ae3e_11eb_b83b_0242ac1c0002row14_col0\" class=\"data row14 col0\" >-0.039062</td>\n",
              "                        <td id=\"T_8625ed14_ae3e_11eb_b83b_0242ac1c0002row14_col1\" class=\"data row14 col1\" >-0.763557</td>\n",
              "                        <td id=\"T_8625ed14_ae3e_11eb_b83b_0242ac1c0002row14_col2\" class=\"data row14 col2\" >-0.227890</td>\n",
              "                        <td id=\"T_8625ed14_ae3e_11eb_b83b_0242ac1c0002row14_col3\" class=\"data row14 col3\" >0.006026</td>\n",
              "                        <td id=\"T_8625ed14_ae3e_11eb_b83b_0242ac1c0002row14_col4\" class=\"data row14 col4\" >-0.182742</td>\n",
              "                        <td id=\"T_8625ed14_ae3e_11eb_b83b_0242ac1c0002row14_col5\" class=\"data row14 col5\" >0.000615</td>\n",
              "                        <td id=\"T_8625ed14_ae3e_11eb_b83b_0242ac1c0002row14_col6\" class=\"data row14 col6\" >0.172110</td>\n",
              "                        <td id=\"T_8625ed14_ae3e_11eb_b83b_0242ac1c0002row14_col7\" class=\"data row14 col7\" >0.172209</td>\n",
              "                        <td id=\"T_8625ed14_ae3e_11eb_b83b_0242ac1c0002row14_col8\" class=\"data row14 col8\" >-0.172209</td>\n",
              "                        <td id=\"T_8625ed14_ae3e_11eb_b83b_0242ac1c0002row14_col9\" class=\"data row14 col9\" >-0.210564</td>\n",
              "                        <td id=\"T_8625ed14_ae3e_11eb_b83b_0242ac1c0002row14_col10\" class=\"data row14 col10\" >-0.465793</td>\n",
              "                        <td id=\"T_8625ed14_ae3e_11eb_b83b_0242ac1c0002row14_col11\" class=\"data row14 col11\" >1.000000</td>\n",
              "                        <td id=\"T_8625ed14_ae3e_11eb_b83b_0242ac1c0002row14_col12\" class=\"data row14 col12\" >1.000000</td>\n",
              "                        <td id=\"T_8625ed14_ae3e_11eb_b83b_0242ac1c0002row14_col13\" class=\"data row14 col13\" >-0.333403</td>\n",
              "                        <td id=\"T_8625ed14_ae3e_11eb_b83b_0242ac1c0002row14_col14\" class=\"data row14 col14\" >1.000000</td>\n",
              "                        <td id=\"T_8625ed14_ae3e_11eb_b83b_0242ac1c0002row14_col15\" class=\"data row14 col15\" >-0.381593</td>\n",
              "                        <td id=\"T_8625ed14_ae3e_11eb_b83b_0242ac1c0002row14_col16\" class=\"data row14 col16\" >1.000000</td>\n",
              "                        <td id=\"T_8625ed14_ae3e_11eb_b83b_0242ac1c0002row14_col17\" class=\"data row14 col17\" >-0.380754</td>\n",
              "                        <td id=\"T_8625ed14_ae3e_11eb_b83b_0242ac1c0002row14_col18\" class=\"data row14 col18\" >1.000000</td>\n",
              "                        <td id=\"T_8625ed14_ae3e_11eb_b83b_0242ac1c0002row14_col19\" class=\"data row14 col19\" >-0.336298</td>\n",
              "                        <td id=\"T_8625ed14_ae3e_11eb_b83b_0242ac1c0002row14_col20\" class=\"data row14 col20\" >1.000000</td>\n",
              "                        <td id=\"T_8625ed14_ae3e_11eb_b83b_0242ac1c0002row14_col21\" class=\"data row14 col21\" >-0.415552</td>\n",
              "                        <td id=\"T_8625ed14_ae3e_11eb_b83b_0242ac1c0002row14_col22\" class=\"data row14 col22\" >1.000000</td>\n",
              "                        <td id=\"T_8625ed14_ae3e_11eb_b83b_0242ac1c0002row14_col23\" class=\"data row14 col23\" >-0.418675</td>\n",
              "                        <td id=\"T_8625ed14_ae3e_11eb_b83b_0242ac1c0002row14_col24\" class=\"data row14 col24\" >0.038004</td>\n",
              "                        <td id=\"T_8625ed14_ae3e_11eb_b83b_0242ac1c0002row14_col25\" class=\"data row14 col25\" >0.218278</td>\n",
              "                        <td id=\"T_8625ed14_ae3e_11eb_b83b_0242ac1c0002row14_col26\" class=\"data row14 col26\" >0.001030</td>\n",
              "                        <td id=\"T_8625ed14_ae3e_11eb_b83b_0242ac1c0002row14_col27\" class=\"data row14 col27\" >-0.284917</td>\n",
              "                        <td id=\"T_8625ed14_ae3e_11eb_b83b_0242ac1c0002row14_col28\" class=\"data row14 col28\" >0.321361</td>\n",
              "            </tr>\n",
              "            <tr>\n",
              "                        <th id=\"T_8625ed14_ae3e_11eb_b83b_0242ac1c0002level0_row15\" class=\"row_heading level0 row15\" >Online_Backup_Yes</th>\n",
              "                        <td id=\"T_8625ed14_ae3e_11eb_b83b_0242ac1c0002row15_col0\" class=\"data row15 col0\" >0.360277</td>\n",
              "                        <td id=\"T_8625ed14_ae3e_11eb_b83b_0242ac1c0002row15_col1\" class=\"data row15 col1\" >0.441780</td>\n",
              "                        <td id=\"T_8625ed14_ae3e_11eb_b83b_0242ac1c0002row15_col2\" class=\"data row15 col2\" >-0.082255</td>\n",
              "                        <td id=\"T_8625ed14_ae3e_11eb_b83b_0242ac1c0002row15_col3\" class=\"data row15 col3\" >-0.013773</td>\n",
              "                        <td id=\"T_8625ed14_ae3e_11eb_b83b_0242ac1c0002row15_col4\" class=\"data row15 col4\" >0.066572</td>\n",
              "                        <td id=\"T_8625ed14_ae3e_11eb_b83b_0242ac1c0002row15_col5\" class=\"data row15 col5\" >0.141498</td>\n",
              "                        <td id=\"T_8625ed14_ae3e_11eb_b83b_0242ac1c0002row15_col6\" class=\"data row15 col6\" >0.003457</td>\n",
              "                        <td id=\"T_8625ed14_ae3e_11eb_b83b_0242ac1c0002row15_col7\" class=\"data row15 col7\" >-0.052312</td>\n",
              "                        <td id=\"T_8625ed14_ae3e_11eb_b83b_0242ac1c0002row15_col8\" class=\"data row15 col8\" >0.052312</td>\n",
              "                        <td id=\"T_8625ed14_ae3e_11eb_b83b_0242ac1c0002row15_col9\" class=\"data row15 col9\" >0.202237</td>\n",
              "                        <td id=\"T_8625ed14_ae3e_11eb_b83b_0242ac1c0002row15_col10\" class=\"data row15 col10\" >0.165651</td>\n",
              "                        <td id=\"T_8625ed14_ae3e_11eb_b83b_0242ac1c0002row15_col11\" class=\"data row15 col11\" >-0.381593</td>\n",
              "                        <td id=\"T_8625ed14_ae3e_11eb_b83b_0242ac1c0002row15_col12\" class=\"data row15 col12\" >-0.381593</td>\n",
              "                        <td id=\"T_8625ed14_ae3e_11eb_b83b_0242ac1c0002row15_col13\" class=\"data row15 col13\" >0.283832</td>\n",
              "                        <td id=\"T_8625ed14_ae3e_11eb_b83b_0242ac1c0002row15_col14\" class=\"data row15 col14\" >-0.381593</td>\n",
              "                        <td id=\"T_8625ed14_ae3e_11eb_b83b_0242ac1c0002row15_col15\" class=\"data row15 col15\" >1.000000</td>\n",
              "                        <td id=\"T_8625ed14_ae3e_11eb_b83b_0242ac1c0002row15_col16\" class=\"data row15 col16\" >-0.381593</td>\n",
              "                        <td id=\"T_8625ed14_ae3e_11eb_b83b_0242ac1c0002row15_col17\" class=\"data row15 col17\" >0.303546</td>\n",
              "                        <td id=\"T_8625ed14_ae3e_11eb_b83b_0242ac1c0002row15_col18\" class=\"data row15 col18\" >-0.381593</td>\n",
              "                        <td id=\"T_8625ed14_ae3e_11eb_b83b_0242ac1c0002row15_col19\" class=\"data row15 col19\" >0.294233</td>\n",
              "                        <td id=\"T_8625ed14_ae3e_11eb_b83b_0242ac1c0002row15_col20\" class=\"data row15 col20\" >-0.381593</td>\n",
              "                        <td id=\"T_8625ed14_ae3e_11eb_b83b_0242ac1c0002row15_col21\" class=\"data row15 col21\" >0.282106</td>\n",
              "                        <td id=\"T_8625ed14_ae3e_11eb_b83b_0242ac1c0002row15_col22\" class=\"data row15 col22\" >-0.381593</td>\n",
              "                        <td id=\"T_8625ed14_ae3e_11eb_b83b_0242ac1c0002row15_col23\" class=\"data row15 col23\" >0.274501</td>\n",
              "                        <td id=\"T_8625ed14_ae3e_11eb_b83b_0242ac1c0002row15_col24\" class=\"data row15 col24\" >0.083722</td>\n",
              "                        <td id=\"T_8625ed14_ae3e_11eb_b83b_0242ac1c0002row15_col25\" class=\"data row15 col25\" >0.111400</td>\n",
              "                        <td id=\"T_8625ed14_ae3e_11eb_b83b_0242ac1c0002row15_col26\" class=\"data row15 col26\" >0.090785</td>\n",
              "                        <td id=\"T_8625ed14_ae3e_11eb_b83b_0242ac1c0002row15_col27\" class=\"data row15 col27\" >-0.000408</td>\n",
              "                        <td id=\"T_8625ed14_ae3e_11eb_b83b_0242ac1c0002row15_col28\" class=\"data row15 col28\" >-0.174164</td>\n",
              "            </tr>\n",
              "            <tr>\n",
              "                        <th id=\"T_8625ed14_ae3e_11eb_b83b_0242ac1c0002level0_row16\" class=\"row_heading level0 row16\" >Device_Protection_No internet service</th>\n",
              "                        <td id=\"T_8625ed14_ae3e_11eb_b83b_0242ac1c0002row16_col0\" class=\"data row16 col0\" >-0.039062</td>\n",
              "                        <td id=\"T_8625ed14_ae3e_11eb_b83b_0242ac1c0002row16_col1\" class=\"data row16 col1\" >-0.763557</td>\n",
              "                        <td id=\"T_8625ed14_ae3e_11eb_b83b_0242ac1c0002row16_col2\" class=\"data row16 col2\" >-0.227890</td>\n",
              "                        <td id=\"T_8625ed14_ae3e_11eb_b83b_0242ac1c0002row16_col3\" class=\"data row16 col3\" >0.006026</td>\n",
              "                        <td id=\"T_8625ed14_ae3e_11eb_b83b_0242ac1c0002row16_col4\" class=\"data row16 col4\" >-0.182742</td>\n",
              "                        <td id=\"T_8625ed14_ae3e_11eb_b83b_0242ac1c0002row16_col5\" class=\"data row16 col5\" >0.000615</td>\n",
              "                        <td id=\"T_8625ed14_ae3e_11eb_b83b_0242ac1c0002row16_col6\" class=\"data row16 col6\" >0.172110</td>\n",
              "                        <td id=\"T_8625ed14_ae3e_11eb_b83b_0242ac1c0002row16_col7\" class=\"data row16 col7\" >0.172209</td>\n",
              "                        <td id=\"T_8625ed14_ae3e_11eb_b83b_0242ac1c0002row16_col8\" class=\"data row16 col8\" >-0.172209</td>\n",
              "                        <td id=\"T_8625ed14_ae3e_11eb_b83b_0242ac1c0002row16_col9\" class=\"data row16 col9\" >-0.210564</td>\n",
              "                        <td id=\"T_8625ed14_ae3e_11eb_b83b_0242ac1c0002row16_col10\" class=\"data row16 col10\" >-0.465793</td>\n",
              "                        <td id=\"T_8625ed14_ae3e_11eb_b83b_0242ac1c0002row16_col11\" class=\"data row16 col11\" >1.000000</td>\n",
              "                        <td id=\"T_8625ed14_ae3e_11eb_b83b_0242ac1c0002row16_col12\" class=\"data row16 col12\" >1.000000</td>\n",
              "                        <td id=\"T_8625ed14_ae3e_11eb_b83b_0242ac1c0002row16_col13\" class=\"data row16 col13\" >-0.333403</td>\n",
              "                        <td id=\"T_8625ed14_ae3e_11eb_b83b_0242ac1c0002row16_col14\" class=\"data row16 col14\" >1.000000</td>\n",
              "                        <td id=\"T_8625ed14_ae3e_11eb_b83b_0242ac1c0002row16_col15\" class=\"data row16 col15\" >-0.381593</td>\n",
              "                        <td id=\"T_8625ed14_ae3e_11eb_b83b_0242ac1c0002row16_col16\" class=\"data row16 col16\" >1.000000</td>\n",
              "                        <td id=\"T_8625ed14_ae3e_11eb_b83b_0242ac1c0002row16_col17\" class=\"data row16 col17\" >-0.380754</td>\n",
              "                        <td id=\"T_8625ed14_ae3e_11eb_b83b_0242ac1c0002row16_col18\" class=\"data row16 col18\" >1.000000</td>\n",
              "                        <td id=\"T_8625ed14_ae3e_11eb_b83b_0242ac1c0002row16_col19\" class=\"data row16 col19\" >-0.336298</td>\n",
              "                        <td id=\"T_8625ed14_ae3e_11eb_b83b_0242ac1c0002row16_col20\" class=\"data row16 col20\" >1.000000</td>\n",
              "                        <td id=\"T_8625ed14_ae3e_11eb_b83b_0242ac1c0002row16_col21\" class=\"data row16 col21\" >-0.415552</td>\n",
              "                        <td id=\"T_8625ed14_ae3e_11eb_b83b_0242ac1c0002row16_col22\" class=\"data row16 col22\" >1.000000</td>\n",
              "                        <td id=\"T_8625ed14_ae3e_11eb_b83b_0242ac1c0002row16_col23\" class=\"data row16 col23\" >-0.418675</td>\n",
              "                        <td id=\"T_8625ed14_ae3e_11eb_b83b_0242ac1c0002row16_col24\" class=\"data row16 col24\" >0.038004</td>\n",
              "                        <td id=\"T_8625ed14_ae3e_11eb_b83b_0242ac1c0002row16_col25\" class=\"data row16 col25\" >0.218278</td>\n",
              "                        <td id=\"T_8625ed14_ae3e_11eb_b83b_0242ac1c0002row16_col26\" class=\"data row16 col26\" >0.001030</td>\n",
              "                        <td id=\"T_8625ed14_ae3e_11eb_b83b_0242ac1c0002row16_col27\" class=\"data row16 col27\" >-0.284917</td>\n",
              "                        <td id=\"T_8625ed14_ae3e_11eb_b83b_0242ac1c0002row16_col28\" class=\"data row16 col28\" >0.321361</td>\n",
              "            </tr>\n",
              "            <tr>\n",
              "                        <th id=\"T_8625ed14_ae3e_11eb_b83b_0242ac1c0002level0_row17\" class=\"row_heading level0 row17\" >Device_Protection_Yes</th>\n",
              "                        <td id=\"T_8625ed14_ae3e_11eb_b83b_0242ac1c0002row17_col0\" class=\"data row17 col0\" >0.360653</td>\n",
              "                        <td id=\"T_8625ed14_ae3e_11eb_b83b_0242ac1c0002row17_col1\" class=\"data row17 col1\" >0.482692</td>\n",
              "                        <td id=\"T_8625ed14_ae3e_11eb_b83b_0242ac1c0002row17_col2\" class=\"data row17 col2\" >-0.066160</td>\n",
              "                        <td id=\"T_8625ed14_ae3e_11eb_b83b_0242ac1c0002row17_col3\" class=\"data row17 col3\" >-0.002105</td>\n",
              "                        <td id=\"T_8625ed14_ae3e_11eb_b83b_0242ac1c0002row17_col4\" class=\"data row17 col4\" >0.059428</td>\n",
              "                        <td id=\"T_8625ed14_ae3e_11eb_b83b_0242ac1c0002row17_col5\" class=\"data row17 col5\" >0.153786</td>\n",
              "                        <td id=\"T_8625ed14_ae3e_11eb_b83b_0242ac1c0002row17_col6\" class=\"data row17 col6\" >-0.022343</td>\n",
              "                        <td id=\"T_8625ed14_ae3e_11eb_b83b_0242ac1c0002row17_col7\" class=\"data row17 col7\" >-0.071227</td>\n",
              "                        <td id=\"T_8625ed14_ae3e_11eb_b83b_0242ac1c0002row17_col8\" class=\"data row17 col8\" >0.071227</td>\n",
              "                        <td id=\"T_8625ed14_ae3e_11eb_b83b_0242ac1c0002row17_col9\" class=\"data row17 col9\" >0.201137</td>\n",
              "                        <td id=\"T_8625ed14_ae3e_11eb_b83b_0242ac1c0002row17_col10\" class=\"data row17 col10\" >0.176049</td>\n",
              "                        <td id=\"T_8625ed14_ae3e_11eb_b83b_0242ac1c0002row17_col11\" class=\"data row17 col11\" >-0.380754</td>\n",
              "                        <td id=\"T_8625ed14_ae3e_11eb_b83b_0242ac1c0002row17_col12\" class=\"data row17 col12\" >-0.380754</td>\n",
              "                        <td id=\"T_8625ed14_ae3e_11eb_b83b_0242ac1c0002row17_col13\" class=\"data row17 col13\" >0.275438</td>\n",
              "                        <td id=\"T_8625ed14_ae3e_11eb_b83b_0242ac1c0002row17_col14\" class=\"data row17 col14\" >-0.380754</td>\n",
              "                        <td id=\"T_8625ed14_ae3e_11eb_b83b_0242ac1c0002row17_col15\" class=\"data row17 col15\" >0.303546</td>\n",
              "                        <td id=\"T_8625ed14_ae3e_11eb_b83b_0242ac1c0002row17_col16\" class=\"data row17 col16\" >-0.380754</td>\n",
              "                        <td id=\"T_8625ed14_ae3e_11eb_b83b_0242ac1c0002row17_col17\" class=\"data row17 col17\" >1.000000</td>\n",
              "                        <td id=\"T_8625ed14_ae3e_11eb_b83b_0242ac1c0002row17_col18\" class=\"data row17 col18\" >-0.380754</td>\n",
              "                        <td id=\"T_8625ed14_ae3e_11eb_b83b_0242ac1c0002row17_col19\" class=\"data row17 col19\" >0.333313</td>\n",
              "                        <td id=\"T_8625ed14_ae3e_11eb_b83b_0242ac1c0002row17_col20\" class=\"data row17 col20\" >-0.380754</td>\n",
              "                        <td id=\"T_8625ed14_ae3e_11eb_b83b_0242ac1c0002row17_col21\" class=\"data row17 col21\" >0.390874</td>\n",
              "                        <td id=\"T_8625ed14_ae3e_11eb_b83b_0242ac1c0002row17_col22\" class=\"data row17 col22\" >-0.380754</td>\n",
              "                        <td id=\"T_8625ed14_ae3e_11eb_b83b_0242ac1c0002row17_col23\" class=\"data row17 col23\" >0.402111</td>\n",
              "                        <td id=\"T_8625ed14_ae3e_11eb_b83b_0242ac1c0002row17_col24\" class=\"data row17 col24\" >0.102495</td>\n",
              "                        <td id=\"T_8625ed14_ae3e_11eb_b83b_0242ac1c0002row17_col25\" class=\"data row17 col25\" >0.165096</td>\n",
              "                        <td id=\"T_8625ed14_ae3e_11eb_b83b_0242ac1c0002row17_col26\" class=\"data row17 col26\" >0.111554</td>\n",
              "                        <td id=\"T_8625ed14_ae3e_11eb_b83b_0242ac1c0002row17_col27\" class=\"data row17 col27\" >-0.003351</td>\n",
              "                        <td id=\"T_8625ed14_ae3e_11eb_b83b_0242ac1c0002row17_col28\" class=\"data row17 col28\" >-0.187373</td>\n",
              "            </tr>\n",
              "            <tr>\n",
              "                        <th id=\"T_8625ed14_ae3e_11eb_b83b_0242ac1c0002level0_row18\" class=\"row_heading level0 row18\" >Tech_Support_No internet service</th>\n",
              "                        <td id=\"T_8625ed14_ae3e_11eb_b83b_0242ac1c0002row18_col0\" class=\"data row18 col0\" >-0.039062</td>\n",
              "                        <td id=\"T_8625ed14_ae3e_11eb_b83b_0242ac1c0002row18_col1\" class=\"data row18 col1\" >-0.763557</td>\n",
              "                        <td id=\"T_8625ed14_ae3e_11eb_b83b_0242ac1c0002row18_col2\" class=\"data row18 col2\" >-0.227890</td>\n",
              "                        <td id=\"T_8625ed14_ae3e_11eb_b83b_0242ac1c0002row18_col3\" class=\"data row18 col3\" >0.006026</td>\n",
              "                        <td id=\"T_8625ed14_ae3e_11eb_b83b_0242ac1c0002row18_col4\" class=\"data row18 col4\" >-0.182742</td>\n",
              "                        <td id=\"T_8625ed14_ae3e_11eb_b83b_0242ac1c0002row18_col5\" class=\"data row18 col5\" >0.000615</td>\n",
              "                        <td id=\"T_8625ed14_ae3e_11eb_b83b_0242ac1c0002row18_col6\" class=\"data row18 col6\" >0.172110</td>\n",
              "                        <td id=\"T_8625ed14_ae3e_11eb_b83b_0242ac1c0002row18_col7\" class=\"data row18 col7\" >0.172209</td>\n",
              "                        <td id=\"T_8625ed14_ae3e_11eb_b83b_0242ac1c0002row18_col8\" class=\"data row18 col8\" >-0.172209</td>\n",
              "                        <td id=\"T_8625ed14_ae3e_11eb_b83b_0242ac1c0002row18_col9\" class=\"data row18 col9\" >-0.210564</td>\n",
              "                        <td id=\"T_8625ed14_ae3e_11eb_b83b_0242ac1c0002row18_col10\" class=\"data row18 col10\" >-0.465793</td>\n",
              "                        <td id=\"T_8625ed14_ae3e_11eb_b83b_0242ac1c0002row18_col11\" class=\"data row18 col11\" >1.000000</td>\n",
              "                        <td id=\"T_8625ed14_ae3e_11eb_b83b_0242ac1c0002row18_col12\" class=\"data row18 col12\" >1.000000</td>\n",
              "                        <td id=\"T_8625ed14_ae3e_11eb_b83b_0242ac1c0002row18_col13\" class=\"data row18 col13\" >-0.333403</td>\n",
              "                        <td id=\"T_8625ed14_ae3e_11eb_b83b_0242ac1c0002row18_col14\" class=\"data row18 col14\" >1.000000</td>\n",
              "                        <td id=\"T_8625ed14_ae3e_11eb_b83b_0242ac1c0002row18_col15\" class=\"data row18 col15\" >-0.381593</td>\n",
              "                        <td id=\"T_8625ed14_ae3e_11eb_b83b_0242ac1c0002row18_col16\" class=\"data row18 col16\" >1.000000</td>\n",
              "                        <td id=\"T_8625ed14_ae3e_11eb_b83b_0242ac1c0002row18_col17\" class=\"data row18 col17\" >-0.380754</td>\n",
              "                        <td id=\"T_8625ed14_ae3e_11eb_b83b_0242ac1c0002row18_col18\" class=\"data row18 col18\" >1.000000</td>\n",
              "                        <td id=\"T_8625ed14_ae3e_11eb_b83b_0242ac1c0002row18_col19\" class=\"data row18 col19\" >-0.336298</td>\n",
              "                        <td id=\"T_8625ed14_ae3e_11eb_b83b_0242ac1c0002row18_col20\" class=\"data row18 col20\" >1.000000</td>\n",
              "                        <td id=\"T_8625ed14_ae3e_11eb_b83b_0242ac1c0002row18_col21\" class=\"data row18 col21\" >-0.415552</td>\n",
              "                        <td id=\"T_8625ed14_ae3e_11eb_b83b_0242ac1c0002row18_col22\" class=\"data row18 col22\" >1.000000</td>\n",
              "                        <td id=\"T_8625ed14_ae3e_11eb_b83b_0242ac1c0002row18_col23\" class=\"data row18 col23\" >-0.418675</td>\n",
              "                        <td id=\"T_8625ed14_ae3e_11eb_b83b_0242ac1c0002row18_col24\" class=\"data row18 col24\" >0.038004</td>\n",
              "                        <td id=\"T_8625ed14_ae3e_11eb_b83b_0242ac1c0002row18_col25\" class=\"data row18 col25\" >0.218278</td>\n",
              "                        <td id=\"T_8625ed14_ae3e_11eb_b83b_0242ac1c0002row18_col26\" class=\"data row18 col26\" >0.001030</td>\n",
              "                        <td id=\"T_8625ed14_ae3e_11eb_b83b_0242ac1c0002row18_col27\" class=\"data row18 col27\" >-0.284917</td>\n",
              "                        <td id=\"T_8625ed14_ae3e_11eb_b83b_0242ac1c0002row18_col28\" class=\"data row18 col28\" >0.321361</td>\n",
              "            </tr>\n",
              "            <tr>\n",
              "                        <th id=\"T_8625ed14_ae3e_11eb_b83b_0242ac1c0002level0_row19\" class=\"row_heading level0 row19\" >Tech_Support_Yes</th>\n",
              "                        <td id=\"T_8625ed14_ae3e_11eb_b83b_0242ac1c0002row19_col0\" class=\"data row19 col0\" >0.324221</td>\n",
              "                        <td id=\"T_8625ed14_ae3e_11eb_b83b_0242ac1c0002row19_col1\" class=\"data row19 col1\" >0.338304</td>\n",
              "                        <td id=\"T_8625ed14_ae3e_11eb_b83b_0242ac1c0002row19_col2\" class=\"data row19 col2\" >-0.164674</td>\n",
              "                        <td id=\"T_8625ed14_ae3e_11eb_b83b_0242ac1c0002row19_col3\" class=\"data row19 col3\" >-0.009212</td>\n",
              "                        <td id=\"T_8625ed14_ae3e_11eb_b83b_0242ac1c0002row19_col4\" class=\"data row19 col4\" >-0.060625</td>\n",
              "                        <td id=\"T_8625ed14_ae3e_11eb_b83b_0242ac1c0002row19_col5\" class=\"data row19 col5\" >0.119999</td>\n",
              "                        <td id=\"T_8625ed14_ae3e_11eb_b83b_0242ac1c0002row19_col6\" class=\"data row19 col6\" >0.028811</td>\n",
              "                        <td id=\"T_8625ed14_ae3e_11eb_b83b_0242ac1c0002row19_col7\" class=\"data row19 col7\" >-0.096340</td>\n",
              "                        <td id=\"T_8625ed14_ae3e_11eb_b83b_0242ac1c0002row19_col8\" class=\"data row19 col8\" >0.096340</td>\n",
              "                        <td id=\"T_8625ed14_ae3e_11eb_b83b_0242ac1c0002row19_col9\" class=\"data row19 col9\" >0.100571</td>\n",
              "                        <td id=\"T_8625ed14_ae3e_11eb_b83b_0242ac1c0002row19_col10\" class=\"data row19 col10\" >-0.020492</td>\n",
              "                        <td id=\"T_8625ed14_ae3e_11eb_b83b_0242ac1c0002row19_col11\" class=\"data row19 col11\" >-0.336298</td>\n",
              "                        <td id=\"T_8625ed14_ae3e_11eb_b83b_0242ac1c0002row19_col12\" class=\"data row19 col12\" >-0.336298</td>\n",
              "                        <td id=\"T_8625ed14_ae3e_11eb_b83b_0242ac1c0002row19_col13\" class=\"data row19 col13\" >0.354931</td>\n",
              "                        <td id=\"T_8625ed14_ae3e_11eb_b83b_0242ac1c0002row19_col14\" class=\"data row19 col14\" >-0.336298</td>\n",
              "                        <td id=\"T_8625ed14_ae3e_11eb_b83b_0242ac1c0002row19_col15\" class=\"data row19 col15\" >0.294233</td>\n",
              "                        <td id=\"T_8625ed14_ae3e_11eb_b83b_0242ac1c0002row19_col16\" class=\"data row19 col16\" >-0.336298</td>\n",
              "                        <td id=\"T_8625ed14_ae3e_11eb_b83b_0242ac1c0002row19_col17\" class=\"data row19 col17\" >0.333313</td>\n",
              "                        <td id=\"T_8625ed14_ae3e_11eb_b83b_0242ac1c0002row19_col18\" class=\"data row19 col18\" >-0.336298</td>\n",
              "                        <td id=\"T_8625ed14_ae3e_11eb_b83b_0242ac1c0002row19_col19\" class=\"data row19 col19\" >1.000000</td>\n",
              "                        <td id=\"T_8625ed14_ae3e_11eb_b83b_0242ac1c0002row19_col20\" class=\"data row19 col20\" >-0.336298</td>\n",
              "                        <td id=\"T_8625ed14_ae3e_11eb_b83b_0242ac1c0002row19_col21\" class=\"data row19 col21\" >0.278070</td>\n",
              "                        <td id=\"T_8625ed14_ae3e_11eb_b83b_0242ac1c0002row19_col22\" class=\"data row19 col22\" >-0.336298</td>\n",
              "                        <td id=\"T_8625ed14_ae3e_11eb_b83b_0242ac1c0002row19_col23\" class=\"data row19 col23\" >0.279358</td>\n",
              "                        <td id=\"T_8625ed14_ae3e_11eb_b83b_0242ac1c0002row19_col24\" class=\"data row19 col24\" >0.095775</td>\n",
              "                        <td id=\"T_8625ed14_ae3e_11eb_b83b_0242ac1c0002row19_col25\" class=\"data row19 col25\" >0.240824</td>\n",
              "                        <td id=\"T_8625ed14_ae3e_11eb_b83b_0242ac1c0002row19_col26\" class=\"data row19 col26\" >0.117272</td>\n",
              "                        <td id=\"T_8625ed14_ae3e_11eb_b83b_0242ac1c0002row19_col27\" class=\"data row19 col27\" >-0.114839</td>\n",
              "                        <td id=\"T_8625ed14_ae3e_11eb_b83b_0242ac1c0002row19_col28\" class=\"data row19 col28\" >-0.085509</td>\n",
              "            </tr>\n",
              "            <tr>\n",
              "                        <th id=\"T_8625ed14_ae3e_11eb_b83b_0242ac1c0002level0_row20\" class=\"row_heading level0 row20\" >Streaming_TV_No internet service</th>\n",
              "                        <td id=\"T_8625ed14_ae3e_11eb_b83b_0242ac1c0002row20_col0\" class=\"data row20 col0\" >-0.039062</td>\n",
              "                        <td id=\"T_8625ed14_ae3e_11eb_b83b_0242ac1c0002row20_col1\" class=\"data row20 col1\" >-0.763557</td>\n",
              "                        <td id=\"T_8625ed14_ae3e_11eb_b83b_0242ac1c0002row20_col2\" class=\"data row20 col2\" >-0.227890</td>\n",
              "                        <td id=\"T_8625ed14_ae3e_11eb_b83b_0242ac1c0002row20_col3\" class=\"data row20 col3\" >0.006026</td>\n",
              "                        <td id=\"T_8625ed14_ae3e_11eb_b83b_0242ac1c0002row20_col4\" class=\"data row20 col4\" >-0.182742</td>\n",
              "                        <td id=\"T_8625ed14_ae3e_11eb_b83b_0242ac1c0002row20_col5\" class=\"data row20 col5\" >0.000615</td>\n",
              "                        <td id=\"T_8625ed14_ae3e_11eb_b83b_0242ac1c0002row20_col6\" class=\"data row20 col6\" >0.172110</td>\n",
              "                        <td id=\"T_8625ed14_ae3e_11eb_b83b_0242ac1c0002row20_col7\" class=\"data row20 col7\" >0.172209</td>\n",
              "                        <td id=\"T_8625ed14_ae3e_11eb_b83b_0242ac1c0002row20_col8\" class=\"data row20 col8\" >-0.172209</td>\n",
              "                        <td id=\"T_8625ed14_ae3e_11eb_b83b_0242ac1c0002row20_col9\" class=\"data row20 col9\" >-0.210564</td>\n",
              "                        <td id=\"T_8625ed14_ae3e_11eb_b83b_0242ac1c0002row20_col10\" class=\"data row20 col10\" >-0.465793</td>\n",
              "                        <td id=\"T_8625ed14_ae3e_11eb_b83b_0242ac1c0002row20_col11\" class=\"data row20 col11\" >1.000000</td>\n",
              "                        <td id=\"T_8625ed14_ae3e_11eb_b83b_0242ac1c0002row20_col12\" class=\"data row20 col12\" >1.000000</td>\n",
              "                        <td id=\"T_8625ed14_ae3e_11eb_b83b_0242ac1c0002row20_col13\" class=\"data row20 col13\" >-0.333403</td>\n",
              "                        <td id=\"T_8625ed14_ae3e_11eb_b83b_0242ac1c0002row20_col14\" class=\"data row20 col14\" >1.000000</td>\n",
              "                        <td id=\"T_8625ed14_ae3e_11eb_b83b_0242ac1c0002row20_col15\" class=\"data row20 col15\" >-0.381593</td>\n",
              "                        <td id=\"T_8625ed14_ae3e_11eb_b83b_0242ac1c0002row20_col16\" class=\"data row20 col16\" >1.000000</td>\n",
              "                        <td id=\"T_8625ed14_ae3e_11eb_b83b_0242ac1c0002row20_col17\" class=\"data row20 col17\" >-0.380754</td>\n",
              "                        <td id=\"T_8625ed14_ae3e_11eb_b83b_0242ac1c0002row20_col18\" class=\"data row20 col18\" >1.000000</td>\n",
              "                        <td id=\"T_8625ed14_ae3e_11eb_b83b_0242ac1c0002row20_col19\" class=\"data row20 col19\" >-0.336298</td>\n",
              "                        <td id=\"T_8625ed14_ae3e_11eb_b83b_0242ac1c0002row20_col20\" class=\"data row20 col20\" >1.000000</td>\n",
              "                        <td id=\"T_8625ed14_ae3e_11eb_b83b_0242ac1c0002row20_col21\" class=\"data row20 col21\" >-0.415552</td>\n",
              "                        <td id=\"T_8625ed14_ae3e_11eb_b83b_0242ac1c0002row20_col22\" class=\"data row20 col22\" >1.000000</td>\n",
              "                        <td id=\"T_8625ed14_ae3e_11eb_b83b_0242ac1c0002row20_col23\" class=\"data row20 col23\" >-0.418675</td>\n",
              "                        <td id=\"T_8625ed14_ae3e_11eb_b83b_0242ac1c0002row20_col24\" class=\"data row20 col24\" >0.038004</td>\n",
              "                        <td id=\"T_8625ed14_ae3e_11eb_b83b_0242ac1c0002row20_col25\" class=\"data row20 col25\" >0.218278</td>\n",
              "                        <td id=\"T_8625ed14_ae3e_11eb_b83b_0242ac1c0002row20_col26\" class=\"data row20 col26\" >0.001030</td>\n",
              "                        <td id=\"T_8625ed14_ae3e_11eb_b83b_0242ac1c0002row20_col27\" class=\"data row20 col27\" >-0.284917</td>\n",
              "                        <td id=\"T_8625ed14_ae3e_11eb_b83b_0242ac1c0002row20_col28\" class=\"data row20 col28\" >0.321361</td>\n",
              "            </tr>\n",
              "            <tr>\n",
              "                        <th id=\"T_8625ed14_ae3e_11eb_b83b_0242ac1c0002level0_row21\" class=\"row_heading level0 row21\" >Streaming_TV_Yes</th>\n",
              "                        <td id=\"T_8625ed14_ae3e_11eb_b83b_0242ac1c0002row21_col0\" class=\"data row21 col0\" >0.279756</td>\n",
              "                        <td id=\"T_8625ed14_ae3e_11eb_b83b_0242ac1c0002row21_col1\" class=\"data row21 col1\" >0.629603</td>\n",
              "                        <td id=\"T_8625ed14_ae3e_11eb_b83b_0242ac1c0002row21_col2\" class=\"data row21 col2\" >0.063228</td>\n",
              "                        <td id=\"T_8625ed14_ae3e_11eb_b83b_0242ac1c0002row21_col3\" class=\"data row21 col3\" >-0.008393</td>\n",
              "                        <td id=\"T_8625ed14_ae3e_11eb_b83b_0242ac1c0002row21_col4\" class=\"data row21 col4\" >0.105378</td>\n",
              "                        <td id=\"T_8625ed14_ae3e_11eb_b83b_0242ac1c0002row21_col5\" class=\"data row21 col5\" >0.124666</td>\n",
              "                        <td id=\"T_8625ed14_ae3e_11eb_b83b_0242ac1c0002row21_col6\" class=\"data row21 col6\" >-0.057717</td>\n",
              "                        <td id=\"T_8625ed14_ae3e_11eb_b83b_0242ac1c0002row21_col7\" class=\"data row21 col7\" >-0.022574</td>\n",
              "                        <td id=\"T_8625ed14_ae3e_11eb_b83b_0242ac1c0002row21_col8\" class=\"data row21 col8\" >0.022574</td>\n",
              "                        <td id=\"T_8625ed14_ae3e_11eb_b83b_0242ac1c0002row21_col9\" class=\"data row21 col9\" >0.257152</td>\n",
              "                        <td id=\"T_8625ed14_ae3e_11eb_b83b_0242ac1c0002row21_col10\" class=\"data row21 col10\" >0.329349</td>\n",
              "                        <td id=\"T_8625ed14_ae3e_11eb_b83b_0242ac1c0002row21_col11\" class=\"data row21 col11\" >-0.415552</td>\n",
              "                        <td id=\"T_8625ed14_ae3e_11eb_b83b_0242ac1c0002row21_col12\" class=\"data row21 col12\" >-0.415552</td>\n",
              "                        <td id=\"T_8625ed14_ae3e_11eb_b83b_0242ac1c0002row21_col13\" class=\"data row21 col13\" >0.176207</td>\n",
              "                        <td id=\"T_8625ed14_ae3e_11eb_b83b_0242ac1c0002row21_col14\" class=\"data row21 col14\" >-0.415552</td>\n",
              "                        <td id=\"T_8625ed14_ae3e_11eb_b83b_0242ac1c0002row21_col15\" class=\"data row21 col15\" >0.282106</td>\n",
              "                        <td id=\"T_8625ed14_ae3e_11eb_b83b_0242ac1c0002row21_col16\" class=\"data row21 col16\" >-0.415552</td>\n",
              "                        <td id=\"T_8625ed14_ae3e_11eb_b83b_0242ac1c0002row21_col17\" class=\"data row21 col17\" >0.390874</td>\n",
              "                        <td id=\"T_8625ed14_ae3e_11eb_b83b_0242ac1c0002row21_col18\" class=\"data row21 col18\" >-0.415552</td>\n",
              "                        <td id=\"T_8625ed14_ae3e_11eb_b83b_0242ac1c0002row21_col19\" class=\"data row21 col19\" >0.278070</td>\n",
              "                        <td id=\"T_8625ed14_ae3e_11eb_b83b_0242ac1c0002row21_col20\" class=\"data row21 col20\" >-0.415552</td>\n",
              "                        <td id=\"T_8625ed14_ae3e_11eb_b83b_0242ac1c0002row21_col21\" class=\"data row21 col21\" >1.000000</td>\n",
              "                        <td id=\"T_8625ed14_ae3e_11eb_b83b_0242ac1c0002row21_col22\" class=\"data row21 col22\" >-0.415552</td>\n",
              "                        <td id=\"T_8625ed14_ae3e_11eb_b83b_0242ac1c0002row21_col23\" class=\"data row21 col23\" >0.533094</td>\n",
              "                        <td id=\"T_8625ed14_ae3e_11eb_b83b_0242ac1c0002row21_col24\" class=\"data row21 col24\" >0.061612</td>\n",
              "                        <td id=\"T_8625ed14_ae3e_11eb_b83b_0242ac1c0002row21_col25\" class=\"data row21 col25\" >0.072049</td>\n",
              "                        <td id=\"T_8625ed14_ae3e_11eb_b83b_0242ac1c0002row21_col26\" class=\"data row21 col26\" >0.040433</td>\n",
              "                        <td id=\"T_8625ed14_ae3e_11eb_b83b_0242ac1c0002row21_col27\" class=\"data row21 col27\" >0.144626</td>\n",
              "                        <td id=\"T_8625ed14_ae3e_11eb_b83b_0242ac1c0002row21_col28\" class=\"data row21 col28\" >-0.247742</td>\n",
              "            </tr>\n",
              "            <tr>\n",
              "                        <th id=\"T_8625ed14_ae3e_11eb_b83b_0242ac1c0002level0_row22\" class=\"row_heading level0 row22\" >Streaming_Movies_No internet service</th>\n",
              "                        <td id=\"T_8625ed14_ae3e_11eb_b83b_0242ac1c0002row22_col0\" class=\"data row22 col0\" >-0.039062</td>\n",
              "                        <td id=\"T_8625ed14_ae3e_11eb_b83b_0242ac1c0002row22_col1\" class=\"data row22 col1\" >-0.763557</td>\n",
              "                        <td id=\"T_8625ed14_ae3e_11eb_b83b_0242ac1c0002row22_col2\" class=\"data row22 col2\" >-0.227890</td>\n",
              "                        <td id=\"T_8625ed14_ae3e_11eb_b83b_0242ac1c0002row22_col3\" class=\"data row22 col3\" >0.006026</td>\n",
              "                        <td id=\"T_8625ed14_ae3e_11eb_b83b_0242ac1c0002row22_col4\" class=\"data row22 col4\" >-0.182742</td>\n",
              "                        <td id=\"T_8625ed14_ae3e_11eb_b83b_0242ac1c0002row22_col5\" class=\"data row22 col5\" >0.000615</td>\n",
              "                        <td id=\"T_8625ed14_ae3e_11eb_b83b_0242ac1c0002row22_col6\" class=\"data row22 col6\" >0.172110</td>\n",
              "                        <td id=\"T_8625ed14_ae3e_11eb_b83b_0242ac1c0002row22_col7\" class=\"data row22 col7\" >0.172209</td>\n",
              "                        <td id=\"T_8625ed14_ae3e_11eb_b83b_0242ac1c0002row22_col8\" class=\"data row22 col8\" >-0.172209</td>\n",
              "                        <td id=\"T_8625ed14_ae3e_11eb_b83b_0242ac1c0002row22_col9\" class=\"data row22 col9\" >-0.210564</td>\n",
              "                        <td id=\"T_8625ed14_ae3e_11eb_b83b_0242ac1c0002row22_col10\" class=\"data row22 col10\" >-0.465793</td>\n",
              "                        <td id=\"T_8625ed14_ae3e_11eb_b83b_0242ac1c0002row22_col11\" class=\"data row22 col11\" >1.000000</td>\n",
              "                        <td id=\"T_8625ed14_ae3e_11eb_b83b_0242ac1c0002row22_col12\" class=\"data row22 col12\" >1.000000</td>\n",
              "                        <td id=\"T_8625ed14_ae3e_11eb_b83b_0242ac1c0002row22_col13\" class=\"data row22 col13\" >-0.333403</td>\n",
              "                        <td id=\"T_8625ed14_ae3e_11eb_b83b_0242ac1c0002row22_col14\" class=\"data row22 col14\" >1.000000</td>\n",
              "                        <td id=\"T_8625ed14_ae3e_11eb_b83b_0242ac1c0002row22_col15\" class=\"data row22 col15\" >-0.381593</td>\n",
              "                        <td id=\"T_8625ed14_ae3e_11eb_b83b_0242ac1c0002row22_col16\" class=\"data row22 col16\" >1.000000</td>\n",
              "                        <td id=\"T_8625ed14_ae3e_11eb_b83b_0242ac1c0002row22_col17\" class=\"data row22 col17\" >-0.380754</td>\n",
              "                        <td id=\"T_8625ed14_ae3e_11eb_b83b_0242ac1c0002row22_col18\" class=\"data row22 col18\" >1.000000</td>\n",
              "                        <td id=\"T_8625ed14_ae3e_11eb_b83b_0242ac1c0002row22_col19\" class=\"data row22 col19\" >-0.336298</td>\n",
              "                        <td id=\"T_8625ed14_ae3e_11eb_b83b_0242ac1c0002row22_col20\" class=\"data row22 col20\" >1.000000</td>\n",
              "                        <td id=\"T_8625ed14_ae3e_11eb_b83b_0242ac1c0002row22_col21\" class=\"data row22 col21\" >-0.415552</td>\n",
              "                        <td id=\"T_8625ed14_ae3e_11eb_b83b_0242ac1c0002row22_col22\" class=\"data row22 col22\" >1.000000</td>\n",
              "                        <td id=\"T_8625ed14_ae3e_11eb_b83b_0242ac1c0002row22_col23\" class=\"data row22 col23\" >-0.418675</td>\n",
              "                        <td id=\"T_8625ed14_ae3e_11eb_b83b_0242ac1c0002row22_col24\" class=\"data row22 col24\" >0.038004</td>\n",
              "                        <td id=\"T_8625ed14_ae3e_11eb_b83b_0242ac1c0002row22_col25\" class=\"data row22 col25\" >0.218278</td>\n",
              "                        <td id=\"T_8625ed14_ae3e_11eb_b83b_0242ac1c0002row22_col26\" class=\"data row22 col26\" >0.001030</td>\n",
              "                        <td id=\"T_8625ed14_ae3e_11eb_b83b_0242ac1c0002row22_col27\" class=\"data row22 col27\" >-0.284917</td>\n",
              "                        <td id=\"T_8625ed14_ae3e_11eb_b83b_0242ac1c0002row22_col28\" class=\"data row22 col28\" >0.321361</td>\n",
              "            </tr>\n",
              "            <tr>\n",
              "                        <th id=\"T_8625ed14_ae3e_11eb_b83b_0242ac1c0002level0_row23\" class=\"row_heading level0 row23\" >Streaming_Movies_Yes</th>\n",
              "                        <td id=\"T_8625ed14_ae3e_11eb_b83b_0242ac1c0002row23_col0\" class=\"data row23 col0\" >0.286111</td>\n",
              "                        <td id=\"T_8625ed14_ae3e_11eb_b83b_0242ac1c0002row23_col1\" class=\"data row23 col1\" >0.627429</td>\n",
              "                        <td id=\"T_8625ed14_ae3e_11eb_b83b_0242ac1c0002row23_col2\" class=\"data row23 col2\" >0.061382</td>\n",
              "                        <td id=\"T_8625ed14_ae3e_11eb_b83b_0242ac1c0002row23_col3\" class=\"data row23 col3\" >-0.010487</td>\n",
              "                        <td id=\"T_8625ed14_ae3e_11eb_b83b_0242ac1c0002row23_col4\" class=\"data row23 col4\" >0.120176</td>\n",
              "                        <td id=\"T_8625ed14_ae3e_11eb_b83b_0242ac1c0002row23_col5\" class=\"data row23 col5\" >0.117412</td>\n",
              "                        <td id=\"T_8625ed14_ae3e_11eb_b83b_0242ac1c0002row23_col6\" class=\"data row23 col6\" >-0.073364</td>\n",
              "                        <td id=\"T_8625ed14_ae3e_11eb_b83b_0242ac1c0002row23_col7\" class=\"data row23 col7\" >-0.032959</td>\n",
              "                        <td id=\"T_8625ed14_ae3e_11eb_b83b_0242ac1c0002row23_col8\" class=\"data row23 col8\" >0.032959</td>\n",
              "                        <td id=\"T_8625ed14_ae3e_11eb_b83b_0242ac1c0002row23_col9\" class=\"data row23 col9\" >0.258751</td>\n",
              "                        <td id=\"T_8625ed14_ae3e_11eb_b83b_0242ac1c0002row23_col10\" class=\"data row23 col10\" >0.322923</td>\n",
              "                        <td id=\"T_8625ed14_ae3e_11eb_b83b_0242ac1c0002row23_col11\" class=\"data row23 col11\" >-0.418675</td>\n",
              "                        <td id=\"T_8625ed14_ae3e_11eb_b83b_0242ac1c0002row23_col12\" class=\"data row23 col12\" >-0.418675</td>\n",
              "                        <td id=\"T_8625ed14_ae3e_11eb_b83b_0242ac1c0002row23_col13\" class=\"data row23 col13\" >0.187398</td>\n",
              "                        <td id=\"T_8625ed14_ae3e_11eb_b83b_0242ac1c0002row23_col14\" class=\"data row23 col14\" >-0.418675</td>\n",
              "                        <td id=\"T_8625ed14_ae3e_11eb_b83b_0242ac1c0002row23_col15\" class=\"data row23 col15\" >0.274501</td>\n",
              "                        <td id=\"T_8625ed14_ae3e_11eb_b83b_0242ac1c0002row23_col16\" class=\"data row23 col16\" >-0.418675</td>\n",
              "                        <td id=\"T_8625ed14_ae3e_11eb_b83b_0242ac1c0002row23_col17\" class=\"data row23 col17\" >0.402111</td>\n",
              "                        <td id=\"T_8625ed14_ae3e_11eb_b83b_0242ac1c0002row23_col18\" class=\"data row23 col18\" >-0.418675</td>\n",
              "                        <td id=\"T_8625ed14_ae3e_11eb_b83b_0242ac1c0002row23_col19\" class=\"data row23 col19\" >0.279358</td>\n",
              "                        <td id=\"T_8625ed14_ae3e_11eb_b83b_0242ac1c0002row23_col20\" class=\"data row23 col20\" >-0.418675</td>\n",
              "                        <td id=\"T_8625ed14_ae3e_11eb_b83b_0242ac1c0002row23_col21\" class=\"data row23 col21\" >0.533094</td>\n",
              "                        <td id=\"T_8625ed14_ae3e_11eb_b83b_0242ac1c0002row23_col22\" class=\"data row23 col22\" >-0.418675</td>\n",
              "                        <td id=\"T_8625ed14_ae3e_11eb_b83b_0242ac1c0002row23_col23\" class=\"data row23 col23\" >1.000000</td>\n",
              "                        <td id=\"T_8625ed14_ae3e_11eb_b83b_0242ac1c0002row23_col24\" class=\"data row23 col24\" >0.064926</td>\n",
              "                        <td id=\"T_8625ed14_ae3e_11eb_b83b_0242ac1c0002row23_col25\" class=\"data row23 col25\" >0.073960</td>\n",
              "                        <td id=\"T_8625ed14_ae3e_11eb_b83b_0242ac1c0002row23_col26\" class=\"data row23 col26\" >0.048575</td>\n",
              "                        <td id=\"T_8625ed14_ae3e_11eb_b83b_0242ac1c0002row23_col27\" class=\"data row23 col27\" >0.137966</td>\n",
              "                        <td id=\"T_8625ed14_ae3e_11eb_b83b_0242ac1c0002row23_col28\" class=\"data row23 col28\" >-0.250595</td>\n",
              "            </tr>\n",
              "            <tr>\n",
              "                        <th id=\"T_8625ed14_ae3e_11eb_b83b_0242ac1c0002level0_row24\" class=\"row_heading level0 row24\" >Contract_One year</th>\n",
              "                        <td id=\"T_8625ed14_ae3e_11eb_b83b_0242ac1c0002row24_col0\" class=\"data row24 col0\" >0.202570</td>\n",
              "                        <td id=\"T_8625ed14_ae3e_11eb_b83b_0242ac1c0002row24_col1\" class=\"data row24 col1\" >0.004904</td>\n",
              "                        <td id=\"T_8625ed14_ae3e_11eb_b83b_0242ac1c0002row24_col2\" class=\"data row24 col2\" >-0.177820</td>\n",
              "                        <td id=\"T_8625ed14_ae3e_11eb_b83b_0242ac1c0002row24_col3\" class=\"data row24 col3\" >0.008026</td>\n",
              "                        <td id=\"T_8625ed14_ae3e_11eb_b83b_0242ac1c0002row24_col4\" class=\"data row24 col4\" >-0.046262</td>\n",
              "                        <td id=\"T_8625ed14_ae3e_11eb_b83b_0242ac1c0002row24_col5\" class=\"data row24 col5\" >0.082783</td>\n",
              "                        <td id=\"T_8625ed14_ae3e_11eb_b83b_0242ac1c0002row24_col6\" class=\"data row24 col6\" >0.014680</td>\n",
              "                        <td id=\"T_8625ed14_ae3e_11eb_b83b_0242ac1c0002row24_col7\" class=\"data row24 col7\" >-0.002791</td>\n",
              "                        <td id=\"T_8625ed14_ae3e_11eb_b83b_0242ac1c0002row24_col8\" class=\"data row24 col8\" >0.002791</td>\n",
              "                        <td id=\"T_8625ed14_ae3e_11eb_b83b_0242ac1c0002row24_col9\" class=\"data row24 col9\" >-0.003794</td>\n",
              "                        <td id=\"T_8625ed14_ae3e_11eb_b83b_0242ac1c0002row24_col10\" class=\"data row24 col10\" >-0.076324</td>\n",
              "                        <td id=\"T_8625ed14_ae3e_11eb_b83b_0242ac1c0002row24_col11\" class=\"data row24 col11\" >0.038004</td>\n",
              "                        <td id=\"T_8625ed14_ae3e_11eb_b83b_0242ac1c0002row24_col12\" class=\"data row24 col12\" >0.038004</td>\n",
              "                        <td id=\"T_8625ed14_ae3e_11eb_b83b_0242ac1c0002row24_col13\" class=\"data row24 col13\" >0.100162</td>\n",
              "                        <td id=\"T_8625ed14_ae3e_11eb_b83b_0242ac1c0002row24_col14\" class=\"data row24 col14\" >0.038004</td>\n",
              "                        <td id=\"T_8625ed14_ae3e_11eb_b83b_0242ac1c0002row24_col15\" class=\"data row24 col15\" >0.083722</td>\n",
              "                        <td id=\"T_8625ed14_ae3e_11eb_b83b_0242ac1c0002row24_col16\" class=\"data row24 col16\" >0.038004</td>\n",
              "                        <td id=\"T_8625ed14_ae3e_11eb_b83b_0242ac1c0002row24_col17\" class=\"data row24 col17\" >0.102495</td>\n",
              "                        <td id=\"T_8625ed14_ae3e_11eb_b83b_0242ac1c0002row24_col18\" class=\"data row24 col18\" >0.038004</td>\n",
              "                        <td id=\"T_8625ed14_ae3e_11eb_b83b_0242ac1c0002row24_col19\" class=\"data row24 col19\" >0.095775</td>\n",
              "                        <td id=\"T_8625ed14_ae3e_11eb_b83b_0242ac1c0002row24_col20\" class=\"data row24 col20\" >0.038004</td>\n",
              "                        <td id=\"T_8625ed14_ae3e_11eb_b83b_0242ac1c0002row24_col21\" class=\"data row24 col21\" >0.061612</td>\n",
              "                        <td id=\"T_8625ed14_ae3e_11eb_b83b_0242ac1c0002row24_col22\" class=\"data row24 col22\" >0.038004</td>\n",
              "                        <td id=\"T_8625ed14_ae3e_11eb_b83b_0242ac1c0002row24_col23\" class=\"data row24 col23\" >0.064926</td>\n",
              "                        <td id=\"T_8625ed14_ae3e_11eb_b83b_0242ac1c0002row24_col24\" class=\"data row24 col24\" >1.000000</td>\n",
              "                        <td id=\"T_8625ed14_ae3e_11eb_b83b_0242ac1c0002row24_col25\" class=\"data row24 col25\" >-0.289510</td>\n",
              "                        <td id=\"T_8625ed14_ae3e_11eb_b83b_0242ac1c0002row24_col26\" class=\"data row24 col26\" >0.067589</td>\n",
              "                        <td id=\"T_8625ed14_ae3e_11eb_b83b_0242ac1c0002row24_col27\" class=\"data row24 col27\" >-0.109130</td>\n",
              "                        <td id=\"T_8625ed14_ae3e_11eb_b83b_0242ac1c0002row24_col28\" class=\"data row24 col28\" >-0.000116</td>\n",
              "            </tr>\n",
              "            <tr>\n",
              "                        <th id=\"T_8625ed14_ae3e_11eb_b83b_0242ac1c0002level0_row25\" class=\"row_heading level0 row25\" >Contract_Two year</th>\n",
              "                        <td id=\"T_8625ed14_ae3e_11eb_b83b_0242ac1c0002row25_col0\" class=\"data row25 col0\" >0.558533</td>\n",
              "                        <td id=\"T_8625ed14_ae3e_11eb_b83b_0242ac1c0002row25_col1\" class=\"data row25 col1\" >-0.074681</td>\n",
              "                        <td id=\"T_8625ed14_ae3e_11eb_b83b_0242ac1c0002row25_col2\" class=\"data row25 col2\" >-0.302253</td>\n",
              "                        <td id=\"T_8625ed14_ae3e_11eb_b83b_0242ac1c0002row25_col3\" class=\"data row25 col3\" >-0.003695</td>\n",
              "                        <td id=\"T_8625ed14_ae3e_11eb_b83b_0242ac1c0002row25_col4\" class=\"data row25 col4\" >-0.117000</td>\n",
              "                        <td id=\"T_8625ed14_ae3e_11eb_b83b_0242ac1c0002row25_col5\" class=\"data row25 col5\" >0.248091</td>\n",
              "                        <td id=\"T_8625ed14_ae3e_11eb_b83b_0242ac1c0002row25_col6\" class=\"data row25 col6\" >0.190262</td>\n",
              "                        <td id=\"T_8625ed14_ae3e_11eb_b83b_0242ac1c0002row25_col7\" class=\"data row25 col7\" >0.003519</td>\n",
              "                        <td id=\"T_8625ed14_ae3e_11eb_b83b_0242ac1c0002row25_col8\" class=\"data row25 col8\" >-0.003519</td>\n",
              "                        <td id=\"T_8625ed14_ae3e_11eb_b83b_0242ac1c0002row25_col9\" class=\"data row25 col9\" >0.106253</td>\n",
              "                        <td id=\"T_8625ed14_ae3e_11eb_b83b_0242ac1c0002row25_col10\" class=\"data row25 col10\" >-0.211526</td>\n",
              "                        <td id=\"T_8625ed14_ae3e_11eb_b83b_0242ac1c0002row25_col11\" class=\"data row25 col11\" >0.218278</td>\n",
              "                        <td id=\"T_8625ed14_ae3e_11eb_b83b_0242ac1c0002row25_col12\" class=\"data row25 col12\" >0.218278</td>\n",
              "                        <td id=\"T_8625ed14_ae3e_11eb_b83b_0242ac1c0002row25_col13\" class=\"data row25 col13\" >0.191773</td>\n",
              "                        <td id=\"T_8625ed14_ae3e_11eb_b83b_0242ac1c0002row25_col14\" class=\"data row25 col14\" >0.218278</td>\n",
              "                        <td id=\"T_8625ed14_ae3e_11eb_b83b_0242ac1c0002row25_col15\" class=\"data row25 col15\" >0.111400</td>\n",
              "                        <td id=\"T_8625ed14_ae3e_11eb_b83b_0242ac1c0002row25_col16\" class=\"data row25 col16\" >0.218278</td>\n",
              "                        <td id=\"T_8625ed14_ae3e_11eb_b83b_0242ac1c0002row25_col17\" class=\"data row25 col17\" >0.165096</td>\n",
              "                        <td id=\"T_8625ed14_ae3e_11eb_b83b_0242ac1c0002row25_col18\" class=\"data row25 col18\" >0.218278</td>\n",
              "                        <td id=\"T_8625ed14_ae3e_11eb_b83b_0242ac1c0002row25_col19\" class=\"data row25 col19\" >0.240824</td>\n",
              "                        <td id=\"T_8625ed14_ae3e_11eb_b83b_0242ac1c0002row25_col20\" class=\"data row25 col20\" >0.218278</td>\n",
              "                        <td id=\"T_8625ed14_ae3e_11eb_b83b_0242ac1c0002row25_col21\" class=\"data row25 col21\" >0.072049</td>\n",
              "                        <td id=\"T_8625ed14_ae3e_11eb_b83b_0242ac1c0002row25_col22\" class=\"data row25 col22\" >0.218278</td>\n",
              "                        <td id=\"T_8625ed14_ae3e_11eb_b83b_0242ac1c0002row25_col23\" class=\"data row25 col23\" >0.073960</td>\n",
              "                        <td id=\"T_8625ed14_ae3e_11eb_b83b_0242ac1c0002row25_col24\" class=\"data row25 col24\" >-0.289510</td>\n",
              "                        <td id=\"T_8625ed14_ae3e_11eb_b83b_0242ac1c0002row25_col25\" class=\"data row25 col25\" >1.000000</td>\n",
              "                        <td id=\"T_8625ed14_ae3e_11eb_b83b_0242ac1c0002row25_col26\" class=\"data row25 col26\" >0.173265</td>\n",
              "                        <td id=\"T_8625ed14_ae3e_11eb_b83b_0242ac1c0002row25_col27\" class=\"data row25 col27\" >-0.282138</td>\n",
              "                        <td id=\"T_8625ed14_ae3e_11eb_b83b_0242ac1c0002row25_col28\" class=\"data row25 col28\" >-0.004705</td>\n",
              "            </tr>\n",
              "            <tr>\n",
              "                        <th id=\"T_8625ed14_ae3e_11eb_b83b_0242ac1c0002level0_row26\" class=\"row_heading level0 row26\" >Payment_Method_Credit card (automatic)</th>\n",
              "                        <td id=\"T_8625ed14_ae3e_11eb_b83b_0242ac1c0002row26_col0\" class=\"data row26 col0\" >0.233006</td>\n",
              "                        <td id=\"T_8625ed14_ae3e_11eb_b83b_0242ac1c0002row26_col1\" class=\"data row26 col1\" >0.030550</td>\n",
              "                        <td id=\"T_8625ed14_ae3e_11eb_b83b_0242ac1c0002row26_col2\" class=\"data row26 col2\" >-0.134302</td>\n",
              "                        <td id=\"T_8625ed14_ae3e_11eb_b83b_0242ac1c0002row26_col3\" class=\"data row26 col3\" >0.001215</td>\n",
              "                        <td id=\"T_8625ed14_ae3e_11eb_b83b_0242ac1c0002row26_col4\" class=\"data row26 col4\" >-0.024135</td>\n",
              "                        <td id=\"T_8625ed14_ae3e_11eb_b83b_0242ac1c0002row26_col5\" class=\"data row26 col5\" >0.082029</td>\n",
              "                        <td id=\"T_8625ed14_ae3e_11eb_b83b_0242ac1c0002row26_col6\" class=\"data row26 col6\" >0.041254</td>\n",
              "                        <td id=\"T_8625ed14_ae3e_11eb_b83b_0242ac1c0002row26_col7\" class=\"data row26 col7\" >-0.007721</td>\n",
              "                        <td id=\"T_8625ed14_ae3e_11eb_b83b_0242ac1c0002row26_col8\" class=\"data row26 col8\" >0.007721</td>\n",
              "                        <td id=\"T_8625ed14_ae3e_11eb_b83b_0242ac1c0002row26_col9\" class=\"data row26 col9\" >0.060048</td>\n",
              "                        <td id=\"T_8625ed14_ae3e_11eb_b83b_0242ac1c0002row26_col10\" class=\"data row26 col10\" >-0.050077</td>\n",
              "                        <td id=\"T_8625ed14_ae3e_11eb_b83b_0242ac1c0002row26_col11\" class=\"data row26 col11\" >0.001030</td>\n",
              "                        <td id=\"T_8625ed14_ae3e_11eb_b83b_0242ac1c0002row26_col12\" class=\"data row26 col12\" >0.001030</td>\n",
              "                        <td id=\"T_8625ed14_ae3e_11eb_b83b_0242ac1c0002row26_col13\" class=\"data row26 col13\" >0.115721</td>\n",
              "                        <td id=\"T_8625ed14_ae3e_11eb_b83b_0242ac1c0002row26_col14\" class=\"data row26 col14\" >0.001030</td>\n",
              "                        <td id=\"T_8625ed14_ae3e_11eb_b83b_0242ac1c0002row26_col15\" class=\"data row26 col15\" >0.090785</td>\n",
              "                        <td id=\"T_8625ed14_ae3e_11eb_b83b_0242ac1c0002row26_col16\" class=\"data row26 col16\" >0.001030</td>\n",
              "                        <td id=\"T_8625ed14_ae3e_11eb_b83b_0242ac1c0002row26_col17\" class=\"data row26 col17\" >0.111554</td>\n",
              "                        <td id=\"T_8625ed14_ae3e_11eb_b83b_0242ac1c0002row26_col18\" class=\"data row26 col18\" >0.001030</td>\n",
              "                        <td id=\"T_8625ed14_ae3e_11eb_b83b_0242ac1c0002row26_col19\" class=\"data row26 col19\" >0.117272</td>\n",
              "                        <td id=\"T_8625ed14_ae3e_11eb_b83b_0242ac1c0002row26_col20\" class=\"data row26 col20\" >0.001030</td>\n",
              "                        <td id=\"T_8625ed14_ae3e_11eb_b83b_0242ac1c0002row26_col21\" class=\"data row26 col21\" >0.040433</td>\n",
              "                        <td id=\"T_8625ed14_ae3e_11eb_b83b_0242ac1c0002row26_col22\" class=\"data row26 col22\" >0.001030</td>\n",
              "                        <td id=\"T_8625ed14_ae3e_11eb_b83b_0242ac1c0002row26_col23\" class=\"data row26 col23\" >0.048575</td>\n",
              "                        <td id=\"T_8625ed14_ae3e_11eb_b83b_0242ac1c0002row26_col24\" class=\"data row26 col24\" >0.067589</td>\n",
              "                        <td id=\"T_8625ed14_ae3e_11eb_b83b_0242ac1c0002row26_col25\" class=\"data row26 col25\" >0.173265</td>\n",
              "                        <td id=\"T_8625ed14_ae3e_11eb_b83b_0242ac1c0002row26_col26\" class=\"data row26 col26\" >1.000000</td>\n",
              "                        <td id=\"T_8625ed14_ae3e_11eb_b83b_0242ac1c0002row26_col27\" class=\"data row26 col27\" >-0.373322</td>\n",
              "                        <td id=\"T_8625ed14_ae3e_11eb_b83b_0242ac1c0002row26_col28\" class=\"data row26 col28\" >-0.286049</td>\n",
              "            </tr>\n",
              "            <tr>\n",
              "                        <th id=\"T_8625ed14_ae3e_11eb_b83b_0242ac1c0002level0_row27\" class=\"row_heading level0 row27\" >Payment_Method_Electronic check</th>\n",
              "                        <td id=\"T_8625ed14_ae3e_11eb_b83b_0242ac1c0002row27_col0\" class=\"data row27 col0\" >-0.208363</td>\n",
              "                        <td id=\"T_8625ed14_ae3e_11eb_b83b_0242ac1c0002row27_col1\" class=\"data row27 col1\" >0.271625</td>\n",
              "                        <td id=\"T_8625ed14_ae3e_11eb_b83b_0242ac1c0002row27_col2\" class=\"data row27 col2\" >0.301919</td>\n",
              "                        <td id=\"T_8625ed14_ae3e_11eb_b83b_0242ac1c0002row27_col3\" class=\"data row27 col3\" >0.000752</td>\n",
              "                        <td id=\"T_8625ed14_ae3e_11eb_b83b_0242ac1c0002row27_col4\" class=\"data row27 col4\" >0.171718</td>\n",
              "                        <td id=\"T_8625ed14_ae3e_11eb_b83b_0242ac1c0002row27_col5\" class=\"data row27 col5\" >-0.083852</td>\n",
              "                        <td id=\"T_8625ed14_ae3e_11eb_b83b_0242ac1c0002row27_col6\" class=\"data row27 col6\" >-0.141476</td>\n",
              "                        <td id=\"T_8625ed14_ae3e_11eb_b83b_0242ac1c0002row27_col7\" class=\"data row27 col7\" >0.003062</td>\n",
              "                        <td id=\"T_8625ed14_ae3e_11eb_b83b_0242ac1c0002row27_col8\" class=\"data row27 col8\" >-0.003062</td>\n",
              "                        <td id=\"T_8625ed14_ae3e_11eb_b83b_0242ac1c0002row27_col9\" class=\"data row27 col9\" >0.083618</td>\n",
              "                        <td id=\"T_8625ed14_ae3e_11eb_b83b_0242ac1c0002row27_col10\" class=\"data row27 col10\" >0.336410</td>\n",
              "                        <td id=\"T_8625ed14_ae3e_11eb_b83b_0242ac1c0002row27_col11\" class=\"data row27 col11\" >-0.284917</td>\n",
              "                        <td id=\"T_8625ed14_ae3e_11eb_b83b_0242ac1c0002row27_col12\" class=\"data row27 col12\" >-0.284917</td>\n",
              "                        <td id=\"T_8625ed14_ae3e_11eb_b83b_0242ac1c0002row27_col13\" class=\"data row27 col13\" >-0.112338</td>\n",
              "                        <td id=\"T_8625ed14_ae3e_11eb_b83b_0242ac1c0002row27_col14\" class=\"data row27 col14\" >-0.284917</td>\n",
              "                        <td id=\"T_8625ed14_ae3e_11eb_b83b_0242ac1c0002row27_col15\" class=\"data row27 col15\" >-0.000408</td>\n",
              "                        <td id=\"T_8625ed14_ae3e_11eb_b83b_0242ac1c0002row27_col16\" class=\"data row27 col16\" >-0.284917</td>\n",
              "                        <td id=\"T_8625ed14_ae3e_11eb_b83b_0242ac1c0002row27_col17\" class=\"data row27 col17\" >-0.003351</td>\n",
              "                        <td id=\"T_8625ed14_ae3e_11eb_b83b_0242ac1c0002row27_col18\" class=\"data row27 col18\" >-0.284917</td>\n",
              "                        <td id=\"T_8625ed14_ae3e_11eb_b83b_0242ac1c0002row27_col19\" class=\"data row27 col19\" >-0.114839</td>\n",
              "                        <td id=\"T_8625ed14_ae3e_11eb_b83b_0242ac1c0002row27_col20\" class=\"data row27 col20\" >-0.284917</td>\n",
              "                        <td id=\"T_8625ed14_ae3e_11eb_b83b_0242ac1c0002row27_col21\" class=\"data row27 col21\" >0.144626</td>\n",
              "                        <td id=\"T_8625ed14_ae3e_11eb_b83b_0242ac1c0002row27_col22\" class=\"data row27 col22\" >-0.284917</td>\n",
              "                        <td id=\"T_8625ed14_ae3e_11eb_b83b_0242ac1c0002row27_col23\" class=\"data row27 col23\" >0.137966</td>\n",
              "                        <td id=\"T_8625ed14_ae3e_11eb_b83b_0242ac1c0002row27_col24\" class=\"data row27 col24\" >-0.109130</td>\n",
              "                        <td id=\"T_8625ed14_ae3e_11eb_b83b_0242ac1c0002row27_col25\" class=\"data row27 col25\" >-0.282138</td>\n",
              "                        <td id=\"T_8625ed14_ae3e_11eb_b83b_0242ac1c0002row27_col26\" class=\"data row27 col26\" >-0.373322</td>\n",
              "                        <td id=\"T_8625ed14_ae3e_11eb_b83b_0242ac1c0002row27_col27\" class=\"data row27 col27\" >1.000000</td>\n",
              "                        <td id=\"T_8625ed14_ae3e_11eb_b83b_0242ac1c0002row27_col28\" class=\"data row27 col28\" >-0.387372</td>\n",
              "            </tr>\n",
              "            <tr>\n",
              "                        <th id=\"T_8625ed14_ae3e_11eb_b83b_0242ac1c0002level0_row28\" class=\"row_heading level0 row28\" >Payment_Method_Mailed check</th>\n",
              "                        <td id=\"T_8625ed14_ae3e_11eb_b83b_0242ac1c0002row28_col0\" class=\"data row28 col0\" >-0.233852</td>\n",
              "                        <td id=\"T_8625ed14_ae3e_11eb_b83b_0242ac1c0002row28_col1\" class=\"data row28 col1\" >-0.377437</td>\n",
              "                        <td id=\"T_8625ed14_ae3e_11eb_b83b_0242ac1c0002row28_col2\" class=\"data row28 col2\" >-0.091683</td>\n",
              "                        <td id=\"T_8625ed14_ae3e_11eb_b83b_0242ac1c0002row28_col3\" class=\"data row28 col3\" >0.013744</td>\n",
              "                        <td id=\"T_8625ed14_ae3e_11eb_b83b_0242ac1c0002row28_col4\" class=\"data row28 col4\" >-0.153477</td>\n",
              "                        <td id=\"T_8625ed14_ae3e_11eb_b83b_0242ac1c0002row28_col5\" class=\"data row28 col5\" >-0.095125</td>\n",
              "                        <td id=\"T_8625ed14_ae3e_11eb_b83b_0242ac1c0002row28_col6\" class=\"data row28 col6\" >0.071056</td>\n",
              "                        <td id=\"T_8625ed14_ae3e_11eb_b83b_0242ac1c0002row28_col7\" class=\"data row28 col7\" >-0.003319</td>\n",
              "                        <td id=\"T_8625ed14_ae3e_11eb_b83b_0242ac1c0002row28_col8\" class=\"data row28 col8\" >0.003319</td>\n",
              "                        <td id=\"T_8625ed14_ae3e_11eb_b83b_0242ac1c0002row28_col9\" class=\"data row28 col9\" >-0.227206</td>\n",
              "                        <td id=\"T_8625ed14_ae3e_11eb_b83b_0242ac1c0002row28_col10\" class=\"data row28 col10\" >-0.306834</td>\n",
              "                        <td id=\"T_8625ed14_ae3e_11eb_b83b_0242ac1c0002row28_col11\" class=\"data row28 col11\" >0.321361</td>\n",
              "                        <td id=\"T_8625ed14_ae3e_11eb_b83b_0242ac1c0002row28_col12\" class=\"data row28 col12\" >0.321361</td>\n",
              "                        <td id=\"T_8625ed14_ae3e_11eb_b83b_0242ac1c0002row28_col13\" class=\"data row28 col13\" >-0.080798</td>\n",
              "                        <td id=\"T_8625ed14_ae3e_11eb_b83b_0242ac1c0002row28_col14\" class=\"data row28 col14\" >0.321361</td>\n",
              "                        <td id=\"T_8625ed14_ae3e_11eb_b83b_0242ac1c0002row28_col15\" class=\"data row28 col15\" >-0.174164</td>\n",
              "                        <td id=\"T_8625ed14_ae3e_11eb_b83b_0242ac1c0002row28_col16\" class=\"data row28 col16\" >0.321361</td>\n",
              "                        <td id=\"T_8625ed14_ae3e_11eb_b83b_0242ac1c0002row28_col17\" class=\"data row28 col17\" >-0.187373</td>\n",
              "                        <td id=\"T_8625ed14_ae3e_11eb_b83b_0242ac1c0002row28_col18\" class=\"data row28 col18\" >0.321361</td>\n",
              "                        <td id=\"T_8625ed14_ae3e_11eb_b83b_0242ac1c0002row28_col19\" class=\"data row28 col19\" >-0.085509</td>\n",
              "                        <td id=\"T_8625ed14_ae3e_11eb_b83b_0242ac1c0002row28_col20\" class=\"data row28 col20\" >0.321361</td>\n",
              "                        <td id=\"T_8625ed14_ae3e_11eb_b83b_0242ac1c0002row28_col21\" class=\"data row28 col21\" >-0.247742</td>\n",
              "                        <td id=\"T_8625ed14_ae3e_11eb_b83b_0242ac1c0002row28_col22\" class=\"data row28 col22\" >0.321361</td>\n",
              "                        <td id=\"T_8625ed14_ae3e_11eb_b83b_0242ac1c0002row28_col23\" class=\"data row28 col23\" >-0.250595</td>\n",
              "                        <td id=\"T_8625ed14_ae3e_11eb_b83b_0242ac1c0002row28_col24\" class=\"data row28 col24\" >-0.000116</td>\n",
              "                        <td id=\"T_8625ed14_ae3e_11eb_b83b_0242ac1c0002row28_col25\" class=\"data row28 col25\" >-0.004705</td>\n",
              "                        <td id=\"T_8625ed14_ae3e_11eb_b83b_0242ac1c0002row28_col26\" class=\"data row28 col26\" >-0.286049</td>\n",
              "                        <td id=\"T_8625ed14_ae3e_11eb_b83b_0242ac1c0002row28_col27\" class=\"data row28 col27\" >-0.387372</td>\n",
              "                        <td id=\"T_8625ed14_ae3e_11eb_b83b_0242ac1c0002row28_col28\" class=\"data row28 col28\" >1.000000</td>\n",
              "            </tr>\n",
              "    </tbody></table>"
            ],
            "text/plain": [
              "<pandas.io.formats.style.Styler at 0x7efe846e6910>"
            ]
          },
          "metadata": {
            "tags": []
          },
          "execution_count": 25
        }
      ]
    },
    {
      "cell_type": "code",
      "metadata": {
        "colab": {
          "base_uri": "https://localhost:8080/",
          "height": 483
        },
        "id": "4t_tqoXThZoq",
        "outputId": "d8a1fc78-dbf3-4b91-f903-f3374a6c9a5f"
      },
      "source": [
        "# Visualize the corrolation base on churn \n",
        "plt.figure(figsize=(15,8))\n",
        "data.corr()['Churn_Value'].sort_values(ascending = False).plot(kind='barh', color ='g', alpha= 0.5)\n",
        "plt.show()"
      ],
      "execution_count": null,
      "outputs": [
        {
          "output_type": "display_data",
          "data": {
            "image/png": "[encoded data removed]",
            "text/plain": [
              "<Figure size 1080x576 with 1 Axes>"
            ]
          },
          "metadata": {
            "tags": [],
            "needs_background": "light"
          }
        }
      ]
    },
    {
      "cell_type": "code",
      "metadata": {
        "id": "wlWciiiX5ZDW"
      },
      "source": [
        "#Removing the high correlation features\n",
        "data = data.drop(columns = ['Multiple_Lines_No phone service', 'Internet_Service_No','Online_Security_No internet service',\n",
        "                              'Online_Backup_No internet service','Device_Protection_No internet service',\n",
        "                              'Tech_Support_No internet service','Streaming_TV_No internet service',\n",
        "                            'Streaming_Movies_No internet service'\n",
        "                            ])"
      ],
      "execution_count": null,
      "outputs": []
    },
    {
      "cell_type": "code",
      "metadata": {
        "colab": {
          "base_uri": "https://localhost:8080/",
          "height": 232
        },
        "id": "zQJ5308_JrUx",
        "outputId": "09bb15a2-25a5-453c-b96f-5af7abc67d40"
      },
      "source": [
        "data.head()"
      ],
      "execution_count": null,
      "outputs": [
        {
          "output_type": "execute_result",
          "data": {
            "text/html": [
              "<div>\n",
              "<style scoped>\n",
              "    .dataframe tbody tr th:only-of-type {\n",
              "        vertical-align: middle;\n",
              "    }\n",
              "\n",
              "    .dataframe tbody tr th {\n",
              "        vertical-align: top;\n",
              "    }\n",
              "\n",
              "    .dataframe thead th {\n",
              "        text-align: right;\n",
              "    }\n",
              "</style>\n",
              "<table border=\"1\" class=\"dataframe\">\n",
              "  <thead>\n",
              "    <tr style=\"text-align: right;\">\n",
              "      <th></th>\n",
              "      <th>Tenure_Months</th>\n",
              "      <th>Monthly_Charges</th>\n",
              "      <th>Churn_Value</th>\n",
              "      <th>Gender_Male</th>\n",
              "      <th>Senior_Citizen_Yes</th>\n",
              "      <th>Partner_Yes</th>\n",
              "      <th>Dependents_Yes</th>\n",
              "      <th>Phone_Service_Yes</th>\n",
              "      <th>Multiple_Lines_Yes</th>\n",
              "      <th>Internet_Service_Fiber optic</th>\n",
              "      <th>Online_Security_Yes</th>\n",
              "      <th>Online_Backup_Yes</th>\n",
              "      <th>Device_Protection_Yes</th>\n",
              "      <th>Tech_Support_Yes</th>\n",
              "      <th>Streaming_TV_Yes</th>\n",
              "      <th>Streaming_Movies_Yes</th>\n",
              "      <th>Contract_One year</th>\n",
              "      <th>Contract_Two year</th>\n",
              "      <th>Payment_Method_Credit card (automatic)</th>\n",
              "      <th>Payment_Method_Electronic check</th>\n",
              "      <th>Payment_Method_Mailed check</th>\n",
              "    </tr>\n",
              "  </thead>\n",
              "  <tbody>\n",
              "    <tr>\n",
              "      <th>0</th>\n",
              "      <td>2</td>\n",
              "      <td>53.85</td>\n",
              "      <td>1</td>\n",
              "      <td>1</td>\n",
              "      <td>0</td>\n",
              "      <td>0</td>\n",
              "      <td>0</td>\n",
              "      <td>1</td>\n",
              "      <td>0</td>\n",
              "      <td>0</td>\n",
              "      <td>1</td>\n",
              "      <td>1</td>\n",
              "      <td>0</td>\n",
              "      <td>0</td>\n",
              "      <td>0</td>\n",
              "      <td>0</td>\n",
              "      <td>0</td>\n",
              "      <td>0</td>\n",
              "      <td>0</td>\n",
              "      <td>0</td>\n",
              "      <td>1</td>\n",
              "    </tr>\n",
              "    <tr>\n",
              "      <th>1</th>\n",
              "      <td>2</td>\n",
              "      <td>70.70</td>\n",
              "      <td>1</td>\n",
              "      <td>0</td>\n",
              "      <td>0</td>\n",
              "      <td>0</td>\n",
              "      <td>1</td>\n",
              "      <td>1</td>\n",
              "      <td>0</td>\n",
              "      <td>1</td>\n",
              "      <td>0</td>\n",
              "      <td>0</td>\n",
              "      <td>0</td>\n",
              "      <td>0</td>\n",
              "      <td>0</td>\n",
              "      <td>0</td>\n",
              "      <td>0</td>\n",
              "      <td>0</td>\n",
              "      <td>0</td>\n",
              "      <td>1</td>\n",
              "      <td>0</td>\n",
              "    </tr>\n",
              "    <tr>\n",
              "      <th>2</th>\n",
              "      <td>8</td>\n",
              "      <td>99.65</td>\n",
              "      <td>1</td>\n",
              "      <td>0</td>\n",
              "      <td>0</td>\n",
              "      <td>0</td>\n",
              "      <td>1</td>\n",
              "      <td>1</td>\n",
              "      <td>1</td>\n",
              "      <td>1</td>\n",
              "      <td>0</td>\n",
              "      <td>0</td>\n",
              "      <td>1</td>\n",
              "      <td>0</td>\n",
              "      <td>1</td>\n",
              "      <td>1</td>\n",
              "      <td>0</td>\n",
              "      <td>0</td>\n",
              "      <td>0</td>\n",
              "      <td>1</td>\n",
              "      <td>0</td>\n",
              "    </tr>\n",
              "    <tr>\n",
              "      <th>3</th>\n",
              "      <td>28</td>\n",
              "      <td>104.80</td>\n",
              "      <td>1</td>\n",
              "      <td>0</td>\n",
              "      <td>0</td>\n",
              "      <td>1</td>\n",
              "      <td>1</td>\n",
              "      <td>1</td>\n",
              "      <td>1</td>\n",
              "      <td>1</td>\n",
              "      <td>0</td>\n",
              "      <td>0</td>\n",
              "      <td>1</td>\n",
              "      <td>1</td>\n",
              "      <td>1</td>\n",
              "      <td>1</td>\n",
              "      <td>0</td>\n",
              "      <td>0</td>\n",
              "      <td>0</td>\n",
              "      <td>1</td>\n",
              "      <td>0</td>\n",
              "    </tr>\n",
              "    <tr>\n",
              "      <th>4</th>\n",
              "      <td>49</td>\n",
              "      <td>103.70</td>\n",
              "      <td>1</td>\n",
              "      <td>1</td>\n",
              "      <td>0</td>\n",
              "      <td>0</td>\n",
              "      <td>1</td>\n",
              "      <td>1</td>\n",
              "      <td>1</td>\n",
              "      <td>1</td>\n",
              "      <td>0</td>\n",
              "      <td>1</td>\n",
              "      <td>1</td>\n",
              "      <td>0</td>\n",
              "      <td>1</td>\n",
              "      <td>1</td>\n",
              "      <td>0</td>\n",
              "      <td>0</td>\n",
              "      <td>0</td>\n",
              "      <td>0</td>\n",
              "      <td>0</td>\n",
              "    </tr>\n",
              "  </tbody>\n",
              "</table>\n",
              "</div>"
            ],
            "text/plain": [
              "   Tenure_Months  ...  Payment_Method_Mailed check\n",
              "0              2  ...                            1\n",
              "1              2  ...                            0\n",
              "2              8  ...                            0\n",
              "3             28  ...                            0\n",
              "4             49  ...                            0\n",
              "\n",
              "[5 rows x 21 columns]"
            ]
          },
          "metadata": {
            "tags": []
          },
          "execution_count": 28
        }
      ]
    },
    {
      "cell_type": "markdown",
      "metadata": {
        "id": "VGw_c4fPHm6F"
      },
      "source": [
        "##### 2.4 Scaling the Features :"
      ]
    },
    {
      "cell_type": "code",
      "metadata": {
        "colab": {
          "base_uri": "https://localhost:8080/"
        },
        "id": "Ap4cSy9UHZwA",
        "outputId": "ee4079d3-a176-4f59-f525-3bf8c08aff11"
      },
      "source": [
        "# Creating X features, Y responce varible\n",
        "X = data.drop(columns=['Churn_Value'])\n",
        "Y = data.Churn_Value\n",
        "Y"
      ],
      "execution_count": null,
      "outputs": [
        {
          "output_type": "execute_result",
          "data": {
            "text/plain": [
              "0       1\n",
              "1       1\n",
              "2       1\n",
              "3       1\n",
              "4       1\n",
              "       ..\n",
              "7038    0\n",
              "7039    0\n",
              "7040    0\n",
              "7041    0\n",
              "7042    0\n",
              "Name: Churn_Value, Length: 7043, dtype: int64"
            ]
          },
          "metadata": {
            "tags": []
          },
          "execution_count": 29
        }
      ]
    },
    {
      "cell_type": "code",
      "metadata": {
        "colab": {
          "base_uri": "https://localhost:8080/"
        },
        "id": "xeK204ahovUe",
        "outputId": "367fe51f-159d-4f33-89e4-a9d82057b85d"
      },
      "source": [
        "scaler = preprocessing.MinMaxScaler()\n",
        "X = scaler.fit_transform(X)\n",
        "\n",
        "X\n"
      ],
      "execution_count": null,
      "outputs": [
        {
          "output_type": "execute_result",
          "data": {
            "text/plain": [
              "array([[0.02777778, 0.35422886, 1.        , ..., 0.        , 0.        ,\n",
              "        1.        ],\n",
              "       [0.02777778, 0.52189055, 0.        , ..., 0.        , 1.        ,\n",
              "        0.        ],\n",
              "       [0.11111111, 0.80995025, 0.        , ..., 0.        , 1.        ,\n",
              "        0.        ],\n",
              "       ...,\n",
              "       [1.        , 0.84527363, 0.        , ..., 1.        , 0.        ,\n",
              "        0.        ],\n",
              "       [0.15277778, 0.11293532, 0.        , ..., 0.        , 1.        ,\n",
              "        0.        ],\n",
              "       [0.91666667, 0.86965174, 1.        , ..., 0.        , 0.        ,\n",
              "        0.        ]])"
            ]
          },
          "metadata": {
            "tags": []
          },
          "execution_count": 30
        }
      ]
    },
    {
      "cell_type": "code",
      "metadata": {
        "colab": {
          "base_uri": "https://localhost:8080/"
        },
        "id": "pWTZjxt7HyWc",
        "outputId": "30af3606-81bd-4677-d469-7559b6dd748c"
      },
      "source": [
        "#mnal-X.loc[[0]]\n",
        "X[0]"
      ],
      "execution_count": null,
      "outputs": [
        {
          "output_type": "execute_result",
          "data": {
            "text/plain": [
              "array([0.02777778, 0.35422886, 1.        , 0.        , 0.        ,\n",
              "       0.        , 1.        , 0.        , 0.        , 1.        ,\n",
              "       1.        , 0.        , 0.        , 0.        , 0.        ,\n",
              "       0.        , 0.        , 0.        , 0.        , 1.        ])"
            ]
          },
          "metadata": {
            "tags": []
          },
          "execution_count": 31
        }
      ]
    },
    {
      "cell_type": "markdown",
      "metadata": {
        "id": "DY_R_EEfJMUe"
      },
      "source": [
        "#### 3. Visualize the data:"
      ]
    },
    {
      "cell_type": "code",
      "metadata": {
        "id": "2to6CZ1t3WEs"
      },
      "source": [
        ""
      ],
      "execution_count": null,
      "outputs": []
    },
    {
      "cell_type": "markdown",
      "metadata": {
        "id": "kF02-tsTYUWg"
      },
      "source": [
        "New clients are more likely to churn\n",
        "\n",
        "Clients with higher MonthlyCharges are also more likely to churn\n",
        "\n",
        "\n"
      ]
    },
    {
      "cell_type": "code",
      "metadata": {
        "colab": {
          "base_uri": "https://localhost:8080/",
          "height": 886
        },
        "id": "XiHs3XhxUrBI",
        "outputId": "625aa2c6-2613-411c-805d-583a0b3e4827"
      },
      "source": [
        "plt.figure(figsize=(7,7))\n",
        "w = pd.qcut(data.Tenure_Months,4)\n",
        "sns.barplot(x=w ,y='Churn_Value', ci=None, data=data)\n",
        "print(plt.show()) \n",
        "\n",
        "plt.figure(figsize=(7,7))\n",
        "w = pd.qcut(data.Monthly_Charges,6)                   \n",
        "sns.barplot(x= w,y='Churn_Value', ci=None, data=data)\n",
        "plt.show()"
      ],
      "execution_count": null,
      "outputs": [
        {
          "output_type": "display_data",
          "data": {
            "image/png": "[encoded data removed]",
            "text/plain": [
              "<Figure size 504x504 with 1 Axes>"
            ]
          },
          "metadata": {
            "tags": [],
            "needs_background": "light"
          }
        },
        {
          "output_type": "stream",
          "text": [
            "None\n"
          ],
          "name": "stdout"
        },
        {
          "output_type": "display_data",
          "data": {
            "image/png": "[encoded data removed]",
            "text/plain": [
              "<Figure size 504x504 with 1 Axes>"
            ]
          },
          "metadata": {
            "tags": [],
            "needs_background": "light"
          }
        }
      ]
    },
    {
      "cell_type": "code",
      "metadata": {
        "colab": {
          "base_uri": "https://localhost:8080/",
          "height": 819
        },
        "id": "hmE_o747JMUf",
        "outputId": "833c3d71-4a20-48e1-f360-5f16ea5a4de4"
      },
      "source": [
        "data.hist(figsize=(20,15), color = 'b', alpha= 0.5 ,grid= False)\n",
        "plt.show()"
      ],
      "execution_count": null,
      "outputs": [
        {
          "output_type": "display_data",
          "data": {
            "image/png": "[encoded data removed]",
            "text/plain": [
              "<Figure size 1440x1080 with 25 Axes>"
            ]
          },
          "metadata": {
            "tags": []
          }
        }
      ]
    },
    {
      "cell_type": "markdown",
      "metadata": {
        "id": "RlCNwey5Y7aP"
      },
      "source": [
        "#### 1.9 Undersampling using SMOT Adasyn:"
      ]
    },
    {
      "cell_type": "code",
      "metadata": {
        "colab": {
          "base_uri": "https://localhost:8080/"
        },
        "id": "wiljkvTWwuJC",
        "outputId": "d468e15c-cdc1-45ac-f2ba-2317c22230e6"
      },
      "source": [
        "from imblearn.over_sampling import ADASYN \n",
        "from collections import Counter\n",
        "\n",
        "counter= Counter(Y)\n",
        "print('Before',counter)\n",
        "# oversampling the train dataset using ADASYN\n",
        "\n",
        "ada= ADASYN(random_state=130)\n",
        "X_train_ada, y_train_ada = ada.fit_resample(X,Y)\n",
        "\n",
        "counter= Counter(y_train_ada)\n",
        "\n",
        "print('After',counter)\n"
      ],
      "execution_count": null,
      "outputs": [
        {
          "output_type": "stream",
          "text": [
            "Before Counter({0: 5174, 1: 1869})\n",
            "After Counter({0: 5174, 1: 5050})\n"
          ],
          "name": "stdout"
        }
      ]
    },
    {
      "cell_type": "code",
      "metadata": {
        "id": "Tc6Ju-HJwuO9"
      },
      "source": [
        ""
      ],
      "execution_count": null,
      "outputs": []
    },
    {
      "cell_type": "markdown",
      "metadata": {
        "id": "B5yppqAeJMUl"
      },
      "source": [
        "#### 4. Train the model & Define the hyperparameters and optimizer:"
      ]
    },
    {
      "cell_type": "code",
      "metadata": {
        "id": "18X0_sOrZD56"
      },
      "source": [
        "#x_train, x_test, y_train, y_test = train_test_split(X, Y, test_size=0.3, random_state=3)\n"
      ],
      "execution_count": null,
      "outputs": []
    },
    {
      "cell_type": "code",
      "metadata": {
        "id": "i6eFhYRdx_OX"
      },
      "source": [
        "x_train, x_test, y_train, y_test = train_test_split(X_train_ada, y_train_ada, test_size=0.3, random_state=3)"
      ],
      "execution_count": null,
      "outputs": []
    },
    {
      "cell_type": "code",
      "metadata": {
        "colab": {
          "base_uri": "https://localhost:8080/"
        },
        "id": "qeNx6CuSZDDx",
        "outputId": "1ee3f440-00c7-4d75-c94d-4c2ad4698d40"
      },
      "source": [
        "print(x_train.shape)\n",
        "print(x_test.shape)\n",
        "print(y_train.shape)\n",
        "print(y_test.shape)"
      ],
      "execution_count": null,
      "outputs": [
        {
          "output_type": "stream",
          "text": [
            "(7156, 20)\n",
            "(3068, 20)\n",
            "(7156,)\n",
            "(3068,)\n"
          ],
          "name": "stdout"
        }
      ]
    },
    {
      "cell_type": "markdown",
      "metadata": {
        "id": "ukqMBtcJE2-A"
      },
      "source": [
        "#### 4.1 Dession Tree:"
      ]
    },
    {
      "cell_type": "code",
      "metadata": {
        "id": "nECiUh7yEzcJ"
      },
      "source": [
        "depth_grid = np.arange(1,21)\n",
        "min_samples_leaf_grid = np.arange(1,10) #31\n",
        "max_leaf_nodes_grid = np.arange(2,10)#21\n",
        "parameters = {'max_depth':depth_grid, 'min_samples_leaf':min_samples_leaf_grid, 'max_leaf_nodes':max_leaf_nodes_grid}"
      ],
      "execution_count": null,
      "outputs": []
    },
    {
      "cell_type": "code",
      "metadata": {
        "id": "TVq_YhmGFjBy"
      },
      "source": [
        "gridCV = GridSearchCV(DecisionTreeClassifier(), parameters, cv=10, n_jobs = -1)\n",
        "gridCV.fit(x_train, y_train);\n",
        "best_depth = gridCV.best_params_['max_depth']\n",
        "best_min_samples_leaf = gridCV.best_params_['min_samples_leaf']\n",
        "best_max_leaf_nodes = gridCV.best_params_['max_leaf_nodes']"
      ],
      "execution_count": null,
      "outputs": []
    },
    {
      "cell_type": "code",
      "metadata": {
        "colab": {
          "base_uri": "https://localhost:8080/"
        },
        "id": "aP8dn28fFjGV",
        "outputId": "f4368002-1372-4bff-a032-822e368899e3"
      },
      "source": [
        "print(\"Tree best depth : \" + str(best_depth))\n",
        "print(\"Tree best min_samples_leaf : \" + str(best_min_samples_leaf))\n",
        "print(\"Tree best max_leaf_nodes : \" + str(best_max_leaf_nodes))"
      ],
      "execution_count": null,
      "outputs": [
        {
          "output_type": "stream",
          "text": [
            "Tree best depth : 1\n",
            "Tree best min_samples_leaf : 1\n",
            "Tree best max_leaf_nodes : 2\n"
          ],
          "name": "stdout"
        }
      ]
    },
    {
      "cell_type": "code",
      "metadata": {
        "colab": {
          "base_uri": "https://localhost:8080/"
        },
        "id": "8jy6Ko5uEzf6",
        "outputId": "5e5d7efa-6625-4f90-e9ac-837adeda12cf"
      },
      "source": [
        "DTC_best = DecisionTreeClassifier(max_depth = best_depth ,min_samples_leaf = best_min_samples_leaf ,max_leaf_nodes = best_max_leaf_nodes)\n",
        "DTC_best.fit(x_train, y_train);\n",
        "Y_pred = DTC_best.predict(x_test)\n",
        "print( \"Tree best accuracy : \" + str(np.round(metrics.accuracy_score(y_test,Y_pred),3)))"
      ],
      "execution_count": null,
      "outputs": [
        {
          "output_type": "stream",
          "text": [
            "Tree best accuracy : 0.642\n"
          ],
          "name": "stdout"
        }
      ]
    },
    {
      "cell_type": "markdown",
      "metadata": {
        "id": "j1ybOroTQznE"
      },
      "source": [
        " 4.2 Random Forest:"
      ]
    },
    {
      "cell_type": "code",
      "metadata": {
        "id": "i2QHqQ5uLd4H"
      },
      "source": [
        "\n",
        "n_estimators_grid = np.arange(20, 100,2)\n",
        "depth_grid = np.arange(1, 21)\n",
        "min_samples_leaf_grid = np.arange(1,21)\n",
        "\n",
        "parameters = {'n_estimators': n_estimators_grid, 'max_depth': depth_grid, 'min_samples_leaf':min_samples_leaf_grid}\n",
        "\n",
        "gridCV = GridSearchCV(RandomForestClassifier(), param_grid=parameters, cv=10, n_jobs=-1)\n",
        "gridCV.fit(x_train, y_train)\n",
        "\n"
      ],
      "execution_count": null,
      "outputs": []
    },
    {
      "cell_type": "code",
      "metadata": {
        "id": "NTbgTOkyKeZ5"
      },
      "source": [
        "best_n_estim = gridCV.best_params_['n_estimators']\n",
        "best_depth = gridCV.best_params_['max_depth']\n",
        "best_min_samples_leaf = gridCV.best_params_['min_samples_leaf']\n",
        "\n",
        "print(\"Random Forest best n_estimator : \" + str(best_n_estim))\n",
        "print(\"Random Forest best max_depth : \" + str(best_depth))\n",
        "print(\"Random Forest best min_samples_leaf : \" + str(best_min_samples_leaf))"
      ],
      "execution_count": null,
      "outputs": []
    },
    {
      "cell_type": "code",
      "metadata": {
        "id": "ipsbxF_9LeAP"
      },
      "source": [
        "RF_best = RandomForestClassifier(n_estimators= best_n_estim ,max_depth = best_depth  ,min_samples_leaf= best_min_samples_leaf,random_state=123)\n",
        "RF_best.fit(x_train, y_train)\n",
        "Y_pred = RF_best.predict(x_test)\n",
        "print ( )\n",
        "print( \"Random Forest best accuracy : \" + str(np.round(metrics.accuracy_score(y_test,Y_pred),3)))"
      ],
      "execution_count": null,
      "outputs": []
    },
    {
      "cell_type": "code",
      "metadata": {
        "id": "F77H8z1a9PHx"
      },
      "source": [
        "# Plot features importances\n",
        "imp = pd.Series(data=clf.feature_importances_, index=X.columns).sort_values(ascending=False)\n",
        "plt.figure(figsize=(10,12))\n",
        "plt.title(\"Feature importance\")\n",
        "ax = sns.barplot(y=imp.index, x=imp.values, palette=\"Blues_d\", orient='h')"
      ],
      "execution_count": null,
      "outputs": []
    },
    {
      "cell_type": "markdown",
      "metadata": {
        "id": "k_xaTSxLYli_"
      },
      "source": [
        "4.3 Gradient Boosting Classifier"
      ]
    },
    {
      "cell_type": "code",
      "metadata": {
        "id": "2lWEt5CBEzVU"
      },
      "source": [
        "n_estimators_grid = np.arange(20, 100,2)\n",
        "learn_rate =0.02*np.arange(1, 50)\n",
        "max_depth = np.arange(1,10)\n",
        "\n",
        "parameters = {'n_estimators': n_estimators_grid, 'learning_rate': learn_rate, 'max_depth':max_depth}\n",
        "\n",
        "gridCV = GridSearchCV(GradientBoostingClassifier(), param_grid=parameters, cv=10, n_jobs=-1)\n",
        "gridCV.fit(x_train, y_train)\n",
        "\n"
      ],
      "execution_count": null,
      "outputs": []
    },
    {
      "cell_type": "code",
      "metadata": {
        "id": "vJDSLGgtgCvH"
      },
      "source": [
        "best_n_estim = gridCV.best_params_['n_estimators']\n",
        "best_depth = gridCV.best_params_['max_depth']\n",
        "best_learning_rate = gridCV.best_params_['learning_rate']\n",
        "\n",
        "print(\"Random Forest best n_estimator : \" + str(best_n_estim))\n",
        "print(\"Random Forest best max_depth : \" + str(best_depth))\n",
        "print(\"Random Forest best min_samples_leaf : \" + str(best_learning_rate))"
      ],
      "execution_count": null,
      "outputs": []
    },
    {
      "cell_type": "code",
      "metadata": {
        "id": "a9NCpcQ1EzkN"
      },
      "source": [
        "\n",
        "clf = GradientBoostingClassifier(n_estimators= best_n_estim , learning_rate= best_learning_rate, max_depth= best_depth, random_state=123)\n",
        "clf.fit(x_train, y_train)\n",
        "y_pred= clf.predict(x_test)\n",
        "print( \"Gradient Boosting Classifier : \" + str(np.round(metrics.accuracy_score(y_test,Y_pred),3)))\n",
        "clf.score(x_test, y_test)"
      ],
      "execution_count": null,
      "outputs": []
    },
    {
      "cell_type": "markdown",
      "metadata": {
        "id": "WHKuJr0dRVF5"
      },
      "source": [
        "4.4 AdaBoost:"
      ]
    },
    {
      "cell_type": "code",
      "metadata": {
        "colab": {
          "base_uri": "https://localhost:8080/",
          "height": 354
        },
        "id": "63chuIKNRGI-",
        "outputId": "35259b98-0086-42c0-c2a4-c48ac4515731"
      },
      "source": [
        "my_max_depth = 15 \n",
        "my_learn_rate = 0.01                                           \n",
        "n_estimators_grid = np.arange(50, 81, 2)\n",
        "parameters = {'n_estimators': n_estimators_grid}\n",
        "AB = AdaBoostClassifier(base_estimator=DecisionTreeClassifier(max_depth=my_max_depth), learning_rate=my_learn_rate)   \n",
        "gridCV = GridSearchCV(AB, param_grid=parameters, cv=10, n_jobs = -1)\n",
        "gridCV.fit(x_train, y_train)\n",
        "best_n_estim = gridCV.best_params_['n_estimators']"
      ],
      "execution_count": null,
      "outputs": [
        {
          "output_type": "error",
          "ename": "KeyboardInterrupt",
          "evalue": "ignored",
          "traceback": [
            "\u001b[0;31m---------------------------------------------------------------------------\u001b[0m",
            "\u001b[0;31mKeyboardInterrupt\u001b[0m                         Traceback (most recent call last)",
            "\u001b[0;32m<ipython-input-51-780e093bfd53>\u001b[0m in \u001b[0;36m<module>\u001b[0;34m()\u001b[0m\n\u001b[1;32m      5\u001b[0m \u001b[0mAB\u001b[0m \u001b[0;34m=\u001b[0m \u001b[0mAdaBoostClassifier\u001b[0m\u001b[0;34m(\u001b[0m\u001b[0mbase_estimator\u001b[0m\u001b[0;34m=\u001b[0m\u001b[0mDecisionTreeClassifier\u001b[0m\u001b[0;34m(\u001b[0m\u001b[0mmax_depth\u001b[0m\u001b[0;34m=\u001b[0m\u001b[0mmy_max_depth\u001b[0m\u001b[0;34m)\u001b[0m\u001b[0;34m,\u001b[0m \u001b[0mlearning_rate\u001b[0m\u001b[0;34m=\u001b[0m\u001b[0mmy_learn_rate\u001b[0m\u001b[0;34m)\u001b[0m\u001b[0;34m\u001b[0m\u001b[0;34m\u001b[0m\u001b[0m\n\u001b[1;32m      6\u001b[0m \u001b[0mgridCV\u001b[0m \u001b[0;34m=\u001b[0m \u001b[0mGridSearchCV\u001b[0m\u001b[0;34m(\u001b[0m\u001b[0mAB\u001b[0m\u001b[0;34m,\u001b[0m \u001b[0mparam_grid\u001b[0m\u001b[0;34m=\u001b[0m\u001b[0mparameters\u001b[0m\u001b[0;34m,\u001b[0m \u001b[0mcv\u001b[0m\u001b[0;34m=\u001b[0m\u001b[0;36m10\u001b[0m\u001b[0;34m,\u001b[0m \u001b[0mn_jobs\u001b[0m \u001b[0;34m=\u001b[0m \u001b[0;34m-\u001b[0m\u001b[0;36m1\u001b[0m\u001b[0;34m)\u001b[0m\u001b[0;34m\u001b[0m\u001b[0;34m\u001b[0m\u001b[0m\n\u001b[0;32m----> 7\u001b[0;31m \u001b[0mgridCV\u001b[0m\u001b[0;34m.\u001b[0m\u001b[0mfit\u001b[0m\u001b[0;34m(\u001b[0m\u001b[0mx_train\u001b[0m\u001b[0;34m,\u001b[0m \u001b[0my_train\u001b[0m\u001b[0;34m)\u001b[0m\u001b[0;34m\u001b[0m\u001b[0;34m\u001b[0m\u001b[0m\n\u001b[0m\u001b[1;32m      8\u001b[0m \u001b[0mbest_n_estim\u001b[0m \u001b[0;34m=\u001b[0m \u001b[0mgridCV\u001b[0m\u001b[0;34m.\u001b[0m\u001b[0mbest_params_\u001b[0m\u001b[0;34m[\u001b[0m\u001b[0;34m'n_estimators'\u001b[0m\u001b[0;34m]\u001b[0m\u001b[0;34m\u001b[0m\u001b[0;34m\u001b[0m\u001b[0m\n",
            "\u001b[0;32m/usr/local/lib/python3.7/dist-packages/sklearn/model_selection/_search.py\u001b[0m in \u001b[0;36mfit\u001b[0;34m(self, X, y, groups, **fit_params)\u001b[0m\n\u001b[1;32m    708\u001b[0m                 \u001b[0;32mreturn\u001b[0m \u001b[0mresults\u001b[0m\u001b[0;34m\u001b[0m\u001b[0;34m\u001b[0m\u001b[0m\n\u001b[1;32m    709\u001b[0m \u001b[0;34m\u001b[0m\u001b[0m\n\u001b[0;32m--> 710\u001b[0;31m             \u001b[0mself\u001b[0m\u001b[0;34m.\u001b[0m\u001b[0m_run_search\u001b[0m\u001b[0;34m(\u001b[0m\u001b[0mevaluate_candidates\u001b[0m\u001b[0;34m)\u001b[0m\u001b[0;34m\u001b[0m\u001b[0;34m\u001b[0m\u001b[0m\n\u001b[0m\u001b[1;32m    711\u001b[0m \u001b[0;34m\u001b[0m\u001b[0m\n\u001b[1;32m    712\u001b[0m         \u001b[0;31m# For multi-metric evaluation, store the best_index_, best_params_ and\u001b[0m\u001b[0;34m\u001b[0m\u001b[0;34m\u001b[0m\u001b[0;34m\u001b[0m\u001b[0m\n",
            "\u001b[0;32m/usr/local/lib/python3.7/dist-packages/sklearn/model_selection/_search.py\u001b[0m in \u001b[0;36m_run_search\u001b[0;34m(self, evaluate_candidates)\u001b[0m\n\u001b[1;32m   1149\u001b[0m     \u001b[0;32mdef\u001b[0m \u001b[0m_run_search\u001b[0m\u001b[0;34m(\u001b[0m\u001b[0mself\u001b[0m\u001b[0;34m,\u001b[0m \u001b[0mevaluate_candidates\u001b[0m\u001b[0;34m)\u001b[0m\u001b[0;34m:\u001b[0m\u001b[0;34m\u001b[0m\u001b[0;34m\u001b[0m\u001b[0m\n\u001b[1;32m   1150\u001b[0m         \u001b[0;34m\"\"\"Search all candidates in param_grid\"\"\"\u001b[0m\u001b[0;34m\u001b[0m\u001b[0;34m\u001b[0m\u001b[0m\n\u001b[0;32m-> 1151\u001b[0;31m         \u001b[0mevaluate_candidates\u001b[0m\u001b[0;34m(\u001b[0m\u001b[0mParameterGrid\u001b[0m\u001b[0;34m(\u001b[0m\u001b[0mself\u001b[0m\u001b[0;34m.\u001b[0m\u001b[0mparam_grid\u001b[0m\u001b[0;34m)\u001b[0m\u001b[0;34m)\u001b[0m\u001b[0;34m\u001b[0m\u001b[0;34m\u001b[0m\u001b[0m\n\u001b[0m\u001b[1;32m   1152\u001b[0m \u001b[0;34m\u001b[0m\u001b[0m\n\u001b[1;32m   1153\u001b[0m \u001b[0;34m\u001b[0m\u001b[0m\n",
            "\u001b[0;32m/usr/local/lib/python3.7/dist-packages/sklearn/model_selection/_search.py\u001b[0m in \u001b[0;36mevaluate_candidates\u001b[0;34m(candidate_params)\u001b[0m\n\u001b[1;32m    687\u001b[0m                                \u001b[0;32mfor\u001b[0m \u001b[0mparameters\u001b[0m\u001b[0;34m,\u001b[0m \u001b[0;34m(\u001b[0m\u001b[0mtrain\u001b[0m\u001b[0;34m,\u001b[0m \u001b[0mtest\u001b[0m\u001b[0;34m)\u001b[0m\u001b[0;34m\u001b[0m\u001b[0;34m\u001b[0m\u001b[0m\n\u001b[1;32m    688\u001b[0m                                in product(candidate_params,\n\u001b[0;32m--> 689\u001b[0;31m                                           cv.split(X, y, groups)))\n\u001b[0m\u001b[1;32m    690\u001b[0m \u001b[0;34m\u001b[0m\u001b[0m\n\u001b[1;32m    691\u001b[0m                 \u001b[0;32mif\u001b[0m \u001b[0mlen\u001b[0m\u001b[0;34m(\u001b[0m\u001b[0mout\u001b[0m\u001b[0;34m)\u001b[0m \u001b[0;34m<\u001b[0m \u001b[0;36m1\u001b[0m\u001b[0;34m:\u001b[0m\u001b[0;34m\u001b[0m\u001b[0;34m\u001b[0m\u001b[0m\n",
            "\u001b[0;32m/usr/local/lib/python3.7/dist-packages/joblib/parallel.py\u001b[0m in \u001b[0;36m__call__\u001b[0;34m(self, iterable)\u001b[0m\n\u001b[1;32m   1052\u001b[0m \u001b[0;34m\u001b[0m\u001b[0m\n\u001b[1;32m   1053\u001b[0m             \u001b[0;32mwith\u001b[0m \u001b[0mself\u001b[0m\u001b[0;34m.\u001b[0m\u001b[0m_backend\u001b[0m\u001b[0;34m.\u001b[0m\u001b[0mretrieval_context\u001b[0m\u001b[0;34m(\u001b[0m\u001b[0;34m)\u001b[0m\u001b[0;34m:\u001b[0m\u001b[0;34m\u001b[0m\u001b[0;34m\u001b[0m\u001b[0m\n\u001b[0;32m-> 1054\u001b[0;31m                 \u001b[0mself\u001b[0m\u001b[0;34m.\u001b[0m\u001b[0mretrieve\u001b[0m\u001b[0;34m(\u001b[0m\u001b[0;34m)\u001b[0m\u001b[0;34m\u001b[0m\u001b[0;34m\u001b[0m\u001b[0m\n\u001b[0m\u001b[1;32m   1055\u001b[0m             \u001b[0;31m# Make sure that we get a last message telling us we are done\u001b[0m\u001b[0;34m\u001b[0m\u001b[0;34m\u001b[0m\u001b[0;34m\u001b[0m\u001b[0m\n\u001b[1;32m   1056\u001b[0m             \u001b[0melapsed_time\u001b[0m \u001b[0;34m=\u001b[0m \u001b[0mtime\u001b[0m\u001b[0;34m.\u001b[0m\u001b[0mtime\u001b[0m\u001b[0;34m(\u001b[0m\u001b[0;34m)\u001b[0m \u001b[0;34m-\u001b[0m \u001b[0mself\u001b[0m\u001b[0;34m.\u001b[0m\u001b[0m_start_time\u001b[0m\u001b[0;34m\u001b[0m\u001b[0;34m\u001b[0m\u001b[0m\n",
            "\u001b[0;32m/usr/local/lib/python3.7/dist-packages/joblib/parallel.py\u001b[0m in \u001b[0;36mretrieve\u001b[0;34m(self)\u001b[0m\n\u001b[1;32m    931\u001b[0m             \u001b[0;32mtry\u001b[0m\u001b[0;34m:\u001b[0m\u001b[0;34m\u001b[0m\u001b[0;34m\u001b[0m\u001b[0m\n\u001b[1;32m    932\u001b[0m                 \u001b[0;32mif\u001b[0m \u001b[0mgetattr\u001b[0m\u001b[0;34m(\u001b[0m\u001b[0mself\u001b[0m\u001b[0;34m.\u001b[0m\u001b[0m_backend\u001b[0m\u001b[0;34m,\u001b[0m \u001b[0;34m'supports_timeout'\u001b[0m\u001b[0;34m,\u001b[0m \u001b[0;32mFalse\u001b[0m\u001b[0;34m)\u001b[0m\u001b[0;34m:\u001b[0m\u001b[0;34m\u001b[0m\u001b[0;34m\u001b[0m\u001b[0m\n\u001b[0;32m--> 933\u001b[0;31m                     \u001b[0mself\u001b[0m\u001b[0;34m.\u001b[0m\u001b[0m_output\u001b[0m\u001b[0;34m.\u001b[0m\u001b[0mextend\u001b[0m\u001b[0;34m(\u001b[0m\u001b[0mjob\u001b[0m\u001b[0;34m.\u001b[0m\u001b[0mget\u001b[0m\u001b[0;34m(\u001b[0m\u001b[0mtimeout\u001b[0m\u001b[0;34m=\u001b[0m\u001b[0mself\u001b[0m\u001b[0;34m.\u001b[0m\u001b[0mtimeout\u001b[0m\u001b[0;34m)\u001b[0m\u001b[0;34m)\u001b[0m\u001b[0;34m\u001b[0m\u001b[0;34m\u001b[0m\u001b[0m\n\u001b[0m\u001b[1;32m    934\u001b[0m                 \u001b[0;32melse\u001b[0m\u001b[0;34m:\u001b[0m\u001b[0;34m\u001b[0m\u001b[0;34m\u001b[0m\u001b[0m\n\u001b[1;32m    935\u001b[0m                     \u001b[0mself\u001b[0m\u001b[0;34m.\u001b[0m\u001b[0m_output\u001b[0m\u001b[0;34m.\u001b[0m\u001b[0mextend\u001b[0m\u001b[0;34m(\u001b[0m\u001b[0mjob\u001b[0m\u001b[0;34m.\u001b[0m\u001b[0mget\u001b[0m\u001b[0;34m(\u001b[0m\u001b[0;34m)\u001b[0m\u001b[0;34m)\u001b[0m\u001b[0;34m\u001b[0m\u001b[0;34m\u001b[0m\u001b[0m\n",
            "\u001b[0;32m/usr/local/lib/python3.7/dist-packages/joblib/_parallel_backends.py\u001b[0m in \u001b[0;36mwrap_future_result\u001b[0;34m(future, timeout)\u001b[0m\n\u001b[1;32m    540\u001b[0m         AsyncResults.get from multiprocessing.\"\"\"\n\u001b[1;32m    541\u001b[0m         \u001b[0;32mtry\u001b[0m\u001b[0;34m:\u001b[0m\u001b[0;34m\u001b[0m\u001b[0;34m\u001b[0m\u001b[0m\n\u001b[0;32m--> 542\u001b[0;31m             \u001b[0;32mreturn\u001b[0m \u001b[0mfuture\u001b[0m\u001b[0;34m.\u001b[0m\u001b[0mresult\u001b[0m\u001b[0;34m(\u001b[0m\u001b[0mtimeout\u001b[0m\u001b[0;34m=\u001b[0m\u001b[0mtimeout\u001b[0m\u001b[0;34m)\u001b[0m\u001b[0;34m\u001b[0m\u001b[0;34m\u001b[0m\u001b[0m\n\u001b[0m\u001b[1;32m    543\u001b[0m         \u001b[0;32mexcept\u001b[0m \u001b[0mCfTimeoutError\u001b[0m \u001b[0;32mas\u001b[0m \u001b[0me\u001b[0m\u001b[0;34m:\u001b[0m\u001b[0;34m\u001b[0m\u001b[0;34m\u001b[0m\u001b[0m\n\u001b[1;32m    544\u001b[0m             \u001b[0;32mraise\u001b[0m \u001b[0mTimeoutError\u001b[0m \u001b[0;32mfrom\u001b[0m \u001b[0me\u001b[0m\u001b[0;34m\u001b[0m\u001b[0;34m\u001b[0m\u001b[0m\n",
            "\u001b[0;32m/usr/lib/python3.7/concurrent/futures/_base.py\u001b[0m in \u001b[0;36mresult\u001b[0;34m(self, timeout)\u001b[0m\n\u001b[1;32m    428\u001b[0m                 \u001b[0;32mreturn\u001b[0m \u001b[0mself\u001b[0m\u001b[0;34m.\u001b[0m\u001b[0m__get_result\u001b[0m\u001b[0;34m(\u001b[0m\u001b[0;34m)\u001b[0m\u001b[0;34m\u001b[0m\u001b[0;34m\u001b[0m\u001b[0m\n\u001b[1;32m    429\u001b[0m \u001b[0;34m\u001b[0m\u001b[0m\n\u001b[0;32m--> 430\u001b[0;31m             \u001b[0mself\u001b[0m\u001b[0;34m.\u001b[0m\u001b[0m_condition\u001b[0m\u001b[0;34m.\u001b[0m\u001b[0mwait\u001b[0m\u001b[0;34m(\u001b[0m\u001b[0mtimeout\u001b[0m\u001b[0;34m)\u001b[0m\u001b[0;34m\u001b[0m\u001b[0;34m\u001b[0m\u001b[0m\n\u001b[0m\u001b[1;32m    431\u001b[0m \u001b[0;34m\u001b[0m\u001b[0m\n\u001b[1;32m    432\u001b[0m             \u001b[0;32mif\u001b[0m \u001b[0mself\u001b[0m\u001b[0;34m.\u001b[0m\u001b[0m_state\u001b[0m \u001b[0;32min\u001b[0m \u001b[0;34m[\u001b[0m\u001b[0mCANCELLED\u001b[0m\u001b[0;34m,\u001b[0m \u001b[0mCANCELLED_AND_NOTIFIED\u001b[0m\u001b[0;34m]\u001b[0m\u001b[0;34m:\u001b[0m\u001b[0;34m\u001b[0m\u001b[0;34m\u001b[0m\u001b[0m\n",
            "\u001b[0;32m/usr/lib/python3.7/threading.py\u001b[0m in \u001b[0;36mwait\u001b[0;34m(self, timeout)\u001b[0m\n\u001b[1;32m    294\u001b[0m         \u001b[0;32mtry\u001b[0m\u001b[0;34m:\u001b[0m    \u001b[0;31m# restore state no matter what (e.g., KeyboardInterrupt)\u001b[0m\u001b[0;34m\u001b[0m\u001b[0;34m\u001b[0m\u001b[0m\n\u001b[1;32m    295\u001b[0m             \u001b[0;32mif\u001b[0m \u001b[0mtimeout\u001b[0m \u001b[0;32mis\u001b[0m \u001b[0;32mNone\u001b[0m\u001b[0;34m:\u001b[0m\u001b[0;34m\u001b[0m\u001b[0;34m\u001b[0m\u001b[0m\n\u001b[0;32m--> 296\u001b[0;31m                 \u001b[0mwaiter\u001b[0m\u001b[0;34m.\u001b[0m\u001b[0macquire\u001b[0m\u001b[0;34m(\u001b[0m\u001b[0;34m)\u001b[0m\u001b[0;34m\u001b[0m\u001b[0;34m\u001b[0m\u001b[0m\n\u001b[0m\u001b[1;32m    297\u001b[0m                 \u001b[0mgotit\u001b[0m \u001b[0;34m=\u001b[0m \u001b[0;32mTrue\u001b[0m\u001b[0;34m\u001b[0m\u001b[0;34m\u001b[0m\u001b[0m\n\u001b[1;32m    298\u001b[0m             \u001b[0;32melse\u001b[0m\u001b[0;34m:\u001b[0m\u001b[0;34m\u001b[0m\u001b[0;34m\u001b[0m\u001b[0m\n",
            "\u001b[0;31mKeyboardInterrupt\u001b[0m: "
          ]
        }
      ]
    },
    {
      "cell_type": "code",
      "metadata": {
        "colab": {
          "base_uri": "https://localhost:8080/"
        },
        "id": "jaMIeDh6RGLw",
        "outputId": "1faea48a-a0ea-42a3-9038-9a268024254c"
      },
      "source": [
        "print(\"AdaBoost best n estimator : \" + str(best_n_estim))"
      ],
      "execution_count": null,
      "outputs": [
        {
          "output_type": "stream",
          "text": [
            "AdaBoost best n estimator : 80\n"
          ],
          "name": "stdout"
        }
      ]
    },
    {
      "cell_type": "code",
      "metadata": {
        "colab": {
          "base_uri": "https://localhost:8080/"
        },
        "id": "wn5TYElNRGPW",
        "outputId": "5af3158b-66bb-4be4-a362-7527b079287a"
      },
      "source": [
        "AB_best = AdaBoostClassifier(base_estimator=DecisionTreeClassifier(max_depth=my_max_depth),n_estimators=best_n_estim,learning_rate=my_learn_rate,random_state=123)\n",
        "AB_best.fit(x_train, y_train)\n",
        "Y_pred = AB_best.predict(x_test)\n",
        "print( \"AdaBoost best accuracy : \" + str(np.round(metrics.accuracy_score(y_test,Y_pred),3)))"
      ],
      "execution_count": null,
      "outputs": [
        {
          "output_type": "stream",
          "text": [
            "AdaBoost best accuracy : 0.842\n"
          ],
          "name": "stdout"
        }
      ]
    },
    {
      "cell_type": "markdown",
      "metadata": {
        "id": "ZsZ0DhZmSQO-"
      },
      "source": [
        " 4.6 XGBoost:"
      ]
    },
    {
      "cell_type": "code",
      "metadata": {
        "id": "O62ssTzPL8tT"
      },
      "source": [
        "n_estimators_grid = np.arange(20, 500,2)\n",
        "learn_Rate = 0.02*np.arange(1, 50)\n",
        "max_depth = np.arange(1,21)\n",
        "\n",
        "parameters = {'n_estimators': n_estimators_grid, 'learning_Rate': learn_Rate, 'max_depth':max_depth}\n",
        "\n",
        "gridCV = GridSearchCV( XGBClassifier(), param_grid=parameters, cv=10, n_jobs=-1)\n",
        "gridCV.fit(x_train, y_train)"
      ],
      "execution_count": null,
      "outputs": []
    },
    {
      "cell_type": "code",
      "metadata": {
        "id": "t0xhyHaqhG2-"
      },
      "source": [
        "best_n_estim = gridCV.best_params_['n_estimators']\n",
        "best_depth = gridCV.best_params_['max_depth']\n",
        "best_learning_rate = gridCV.best_params_['learning_rate']\n",
        "\n",
        "print(\"Random Forest best n_estimator : \" + str(best_n_estim))\n",
        "print(\"Random Forest best max_depth : \" + str(best_depth))\n",
        "print(\"Random Forest best min_samples_leaf : \" + str(best_learning_rate))"
      ],
      "execution_count": null,
      "outputs": []
    },
    {
      "cell_type": "code",
      "metadata": {
        "id": "lZwfasqLBGhN"
      },
      "source": [
        "XGBC = XGBClassifier(n_estimator = best_n_estim, learning_Rate = best_learning_rate, max_depth = best_depth, subsample= 0.3,  random_state=123)\n",
        "XGBC.fit(x_train, y_train)\n",
        "Y_pred = XGBC.predict(x_test)\n",
        "print( \"XGBoost accuracy : \" + str(np.round(metrics.accuracy_score(y_test,Y_pred),3)))"
      ],
      "execution_count": null,
      "outputs": []
    },
    {
      "cell_type": "code",
      "metadata": {
        "colab": {
          "base_uri": "https://localhost:8080/"
        },
        "id": "5Vd0QLSvRGXf",
        "outputId": "d862a536-f75f-4186-d520-43d528a45651"
      },
      "source": [
        "# Classification by XGBoost.\n",
        "XGBC = XGBClassifier(n_estimator = 500, learning_Rate = 0.001, max_depth = 10, subsample= 0.3,  random_state=123)\n",
        "XGBC.fit(x_train, y_train)\n",
        "Y_pred = XGBC.predict(x_test)\n",
        "print( \"XGBoost accuracy : \" + str(np.round(metrics.accuracy_score(y_test,Y_pred),3)))"
      ],
      "execution_count": null,
      "outputs": [
        {
          "output_type": "stream",
          "text": [
            "XGBoost accuracy : 0.861\n"
          ],
          "name": "stdout"
        }
      ]
    },
    {
      "cell_type": "code",
      "metadata": {
        "id": "KVxJ5rd-4_C-"
      },
      "source": [
        "\n"
      ],
      "execution_count": null,
      "outputs": []
    },
    {
      "cell_type": "markdown",
      "metadata": {
        "id": "rrvTvLQNJeI5"
      },
      "source": [
        "Non tree model "
      ]
    },
    {
      "cell_type": "code",
      "metadata": {
        "colab": {
          "base_uri": "https://localhost:8080/"
        },
        "id": "zQtkj6KQHRAF",
        "outputId": "e59c3a89-e55b-4331-9b62-c46c501954b7"
      },
      "source": [
        "#Scaling for non tree model \n",
        "scaler = preprocessing.MinMaxScaler()\n",
        "X = scaler.fit_transform(X)\n",
        "X"
      ],
      "execution_count": null,
      "outputs": [
        {
          "output_type": "execute_result",
          "data": {
            "text/plain": [
              "array([[0.02777778, 0.35422886, 1.        , ..., 0.        , 0.        ,\n",
              "        1.        ],\n",
              "       [0.02777778, 0.52189055, 0.        , ..., 0.        , 1.        ,\n",
              "        0.        ],\n",
              "       [0.11111111, 0.80995025, 0.        , ..., 0.        , 1.        ,\n",
              "        0.        ],\n",
              "       ...,\n",
              "       [1.        , 0.84527363, 0.        , ..., 1.        , 0.        ,\n",
              "        0.        ],\n",
              "       [0.15277778, 0.11293532, 0.        , ..., 0.        , 1.        ,\n",
              "        0.        ],\n",
              "       [0.91666667, 0.86965174, 1.        , ..., 0.        , 0.        ,\n",
              "        0.        ]])"
            ]
          },
          "metadata": {
            "tags": []
          },
          "execution_count": 33
        }
      ]
    },
    {
      "cell_type": "markdown",
      "metadata": {
        "id": "wDH3bhFgsV1p"
      },
      "source": [
        "4.7 Logistic Regression:"
      ]
    },
    {
      "cell_type": "code",
      "metadata": {
        "colab": {
          "base_uri": "https://localhost:8080/",
          "height": 229
        },
        "id": "uIUjUSPPzJ_o",
        "outputId": "4a4e61c1-81dc-4010-9f66-97d4de421628"
      },
      "source": [
        "\n",
        "solvers = ['newton-cg', 'lbfgs', 'liblinear']\n",
        "c_values = [100, 10, 1.0, 0.1, 0.01]\n",
        "\n",
        "parameters = {'solver': solvers, 'max_iter' : max_iters, 'C':c_values }\n",
        "\n",
        "gridCV = GridSearchCV(LogisticRegression(), parameters, cv=10, n_jobs= -1)              \n",
        "gridCV.fit(x_train, y_train)\n",
        "\n",
        "best_C = gridCV.best_params_['C']\n",
        "best_solver = gridCV.best_params_['solver']\n",
        "\n",
        "print ( ' best c parameter',str(best_C) )\n",
        "print ( ' best solver parameter',str(best_solver) )"
      ],
      "execution_count": null,
      "outputs": [
        {
          "output_type": "error",
          "ename": "NameError",
          "evalue": "ignored",
          "traceback": [
            "\u001b[0;31m---------------------------------------------------------------------------\u001b[0m",
            "\u001b[0;31mNameError\u001b[0m                                 Traceback (most recent call last)",
            "\u001b[0;32m<ipython-input-34-cb2ab2b1b34d>\u001b[0m in \u001b[0;36m<module>\u001b[0;34m()\u001b[0m\n\u001b[1;32m      3\u001b[0m \u001b[0mc_values\u001b[0m \u001b[0;34m=\u001b[0m \u001b[0;34m[\u001b[0m\u001b[0;36m100\u001b[0m\u001b[0;34m,\u001b[0m \u001b[0;36m10\u001b[0m\u001b[0;34m,\u001b[0m \u001b[0;36m1.0\u001b[0m\u001b[0;34m,\u001b[0m \u001b[0;36m0.1\u001b[0m\u001b[0;34m,\u001b[0m \u001b[0;36m0.01\u001b[0m\u001b[0;34m]\u001b[0m\u001b[0;34m\u001b[0m\u001b[0;34m\u001b[0m\u001b[0m\n\u001b[1;32m      4\u001b[0m \u001b[0;34m\u001b[0m\u001b[0m\n\u001b[0;32m----> 5\u001b[0;31m \u001b[0mparameters\u001b[0m \u001b[0;34m=\u001b[0m \u001b[0;34m{\u001b[0m\u001b[0;34m'solver'\u001b[0m\u001b[0;34m:\u001b[0m \u001b[0msolvers\u001b[0m\u001b[0;34m,\u001b[0m \u001b[0;34m'max_iter'\u001b[0m \u001b[0;34m:\u001b[0m \u001b[0mmax_iters\u001b[0m\u001b[0;34m,\u001b[0m \u001b[0;34m'C'\u001b[0m\u001b[0;34m:\u001b[0m\u001b[0mc_values\u001b[0m \u001b[0;34m}\u001b[0m\u001b[0;34m\u001b[0m\u001b[0;34m\u001b[0m\u001b[0m\n\u001b[0m\u001b[1;32m      6\u001b[0m \u001b[0;34m\u001b[0m\u001b[0m\n\u001b[1;32m      7\u001b[0m \u001b[0mgridCV\u001b[0m \u001b[0;34m=\u001b[0m \u001b[0mGridSearchCV\u001b[0m\u001b[0;34m(\u001b[0m\u001b[0mLogisticRegression\u001b[0m\u001b[0;34m(\u001b[0m\u001b[0;34m)\u001b[0m\u001b[0;34m,\u001b[0m \u001b[0mparameters\u001b[0m\u001b[0;34m,\u001b[0m \u001b[0mcv\u001b[0m\u001b[0;34m=\u001b[0m\u001b[0;36m10\u001b[0m\u001b[0;34m,\u001b[0m \u001b[0mn_jobs\u001b[0m\u001b[0;34m=\u001b[0m \u001b[0;34m-\u001b[0m\u001b[0;36m1\u001b[0m\u001b[0;34m)\u001b[0m\u001b[0;34m\u001b[0m\u001b[0;34m\u001b[0m\u001b[0m\n",
            "\u001b[0;31mNameError\u001b[0m: name 'max_iters' is not defined"
          ]
        }
      ]
    },
    {
      "cell_type": "code",
      "metadata": {
        "id": "LT8sGv_DzJ8_"
      },
      "source": [
        "# Train and predict.\n",
        "LL = LogisticRegression(solver='lbfgs',max_iter=100, C= 0.1)\n",
        "LL.fit(x_train,y_train)\n",
        "y_pred_test = LL.predict(x_test)     "
      ],
      "execution_count": null,
      "outputs": []
    },
    {
      "cell_type": "code",
      "metadata": {
        "colab": {
          "base_uri": "https://localhost:8080/"
        },
        "id": "pkA7nkIs01In",
        "outputId": "972941c5-5600-4c0d-fd3a-7993755a271f"
      },
      "source": [
        "# Confusion matrix.\n",
        "conf_mat = metrics.confusion_matrix(y_test,y_pred_test)\n",
        "print(conf_mat)"
      ],
      "execution_count": null,
      "outputs": [
        {
          "output_type": "stream",
          "text": [
            "[[1055  490]\n",
            " [ 310 1213]]\n"
          ],
          "name": "stdout"
        }
      ]
    },
    {
      "cell_type": "code",
      "metadata": {
        "colab": {
          "base_uri": "https://localhost:8080/"
        },
        "id": "2WiHbpLTthEN",
        "outputId": "c92076df-3692-480a-e4e6-0050037ce2ea"
      },
      "source": [
        "accuracy = metrics.accuracy_score(y_test, y_pred_test)\n",
        " \n",
        "print (np.round(accuracy,3))"
      ],
      "execution_count": null,
      "outputs": [
        {
          "output_type": "stream",
          "text": [
            "0.739\n"
          ],
          "name": "stdout"
        }
      ]
    },
    {
      "cell_type": "code",
      "metadata": {
        "id": "JBo_zXDTZ2-J"
      },
      "source": [
        "#ll_best = LogisticRegression( solver = best_solver, max_iter =  best_iters, C = best_C)\n",
        "#ll_best.fit(x_train, y_train);\n",
        "#Y_pred = ll_best.predict(x_test)\n",
        "#print( \"Logistic Regression best accuracy : \" + str(np.round(metrics.accuracy_score(y_test,Y_pred),3)))"
      ],
      "execution_count": null,
      "outputs": []
    },
    {
      "cell_type": "code",
      "metadata": {
        "id": "FFyFKUTbt12p"
      },
      "source": [
        "roc_auc_score(y_train, LL.predict_proba(x_train)[:, 1])\n",
        "\n",
        "roc_auc_score(y_train, clf.decision_function(x_train))"
      ],
      "execution_count": null,
      "outputs": []
    },
    {
      "cell_type": "markdown",
      "metadata": {
        "id": "L1IhUwyXWmA_"
      },
      "source": [
        " 4.8 Naive Bayes:"
      ]
    },
    {
      "cell_type": "code",
      "metadata": {
        "id": "ZQsaTHq4Wvvp"
      },
      "source": [
        "GNB = GaussianNB()\n",
        "GNB.fit(x_train,y_train)\n",
        "Y_pred_test = GNB.predict(x_test)"
      ],
      "execution_count": null,
      "outputs": []
    },
    {
      "cell_type": "code",
      "metadata": {
        "colab": {
          "base_uri": "https://localhost:8080/"
        },
        "id": "vLFDGWSnWvz6",
        "outputId": "ba5dec31-7cc8-47bf-d15e-f2261b232148"
      },
      "source": [
        "conf_mat = metrics.confusion_matrix(y_test, Y_pred_test)\n",
        "print(conf_mat)"
      ],
      "execution_count": null,
      "outputs": [
        {
          "output_type": "stream",
          "text": [
            "[[1032  531]\n",
            " [ 290 1237]]\n"
          ],
          "name": "stdout"
        }
      ]
    },
    {
      "cell_type": "code",
      "metadata": {
        "colab": {
          "base_uri": "https://localhost:8080/"
        },
        "id": "bjpZCg0dWv6z",
        "outputId": "b381ec83-b4d5-40ec-b127-0cbfa7b1e719"
      },
      "source": [
        "accuracy = metrics.accuracy_score(y_test, Y_pred_test)\n",
        "print('Accuracy    = ' + str(np.round(accuracy,3)))"
      ],
      "execution_count": null,
      "outputs": [
        {
          "output_type": "stream",
          "text": [
            "Accuracy    = 0.734\n"
          ],
          "name": "stdout"
        }
      ]
    },
    {
      "cell_type": "markdown",
      "metadata": {
        "id": "Olsxyffcvd_s"
      },
      "source": [
        " 4.9 Support Vector Machines (SVM):\n",
        "\n",
        "\n"
      ]
    },
    {
      "cell_type": "code",
      "metadata": {
        "colab": {
          "base_uri": "https://localhost:8080/"
        },
        "id": "RjsG7moM22uh",
        "outputId": "60a9b8cd-688e-4621-960a-d9eb2a3cb40a"
      },
      "source": [
        ""
      ],
      "execution_count": null,
      "outputs": [
        {
          "output_type": "stream",
          "text": [
            "Found GPU at: /device:GPU:0\n"
          ],
          "name": "stdout"
        }
      ]
    },
    {
      "cell_type": "code",
      "metadata": {
        "id": "L2T_I2My1RCO",
        "colab": {
          "base_uri": "https://localhost:8080/",
          "height": 370
        },
        "outputId": "7208bffe-72e5-4e26-cdcd-7cf20173a110"
      },
      "source": [
        "C_grid = 0.02*np.arange(1,20)\n",
        "gamma_grid = 0.02*np.arange(1,50)\n",
        "parameters = {'C': C_grid, 'gamma' : gamma_grid}\n",
        "gridCV = GridSearchCV(SVC(kernel='rbf'), parameters, cv=10, n_jobs=-1)        \n",
        "gridCV.fit(x_train, y_train)\n",
        "\n",
        "best_C = gridCV.best_params_['C']\n",
        "best_gamma = gridCV.best_params_['gamma']\n"
      ],
      "execution_count": null,
      "outputs": [
        {
          "output_type": "error",
          "ename": "KeyboardInterrupt",
          "evalue": "ignored",
          "traceback": [
            "\u001b[0;31m---------------------------------------------------------------------------\u001b[0m",
            "\u001b[0;31mKeyboardInterrupt\u001b[0m                         Traceback (most recent call last)",
            "\u001b[0;32m<ipython-input-35-69af1ac615fa>\u001b[0m in \u001b[0;36m<module>\u001b[0;34m()\u001b[0m\n\u001b[1;32m      3\u001b[0m \u001b[0mparameters\u001b[0m \u001b[0;34m=\u001b[0m \u001b[0;34m{\u001b[0m\u001b[0;34m'C'\u001b[0m\u001b[0;34m:\u001b[0m \u001b[0mC_grid\u001b[0m\u001b[0;34m,\u001b[0m \u001b[0;34m'gamma'\u001b[0m \u001b[0;34m:\u001b[0m \u001b[0mgamma_grid\u001b[0m\u001b[0;34m}\u001b[0m\u001b[0;34m\u001b[0m\u001b[0;34m\u001b[0m\u001b[0m\n\u001b[1;32m      4\u001b[0m \u001b[0mgridCV\u001b[0m \u001b[0;34m=\u001b[0m \u001b[0mGridSearchCV\u001b[0m\u001b[0;34m(\u001b[0m\u001b[0mSVC\u001b[0m\u001b[0;34m(\u001b[0m\u001b[0mkernel\u001b[0m\u001b[0;34m=\u001b[0m\u001b[0;34m'rbf'\u001b[0m\u001b[0;34m)\u001b[0m\u001b[0;34m,\u001b[0m \u001b[0mparameters\u001b[0m\u001b[0;34m,\u001b[0m \u001b[0mcv\u001b[0m\u001b[0;34m=\u001b[0m\u001b[0;36m10\u001b[0m\u001b[0;34m,\u001b[0m \u001b[0mn_jobs\u001b[0m\u001b[0;34m=\u001b[0m\u001b[0;34m-\u001b[0m\u001b[0;36m1\u001b[0m\u001b[0;34m)\u001b[0m\u001b[0;34m\u001b[0m\u001b[0;34m\u001b[0m\u001b[0m\n\u001b[0;32m----> 5\u001b[0;31m \u001b[0mgridCV\u001b[0m\u001b[0;34m.\u001b[0m\u001b[0mfit\u001b[0m\u001b[0;34m(\u001b[0m\u001b[0mx_train\u001b[0m\u001b[0;34m,\u001b[0m \u001b[0my_train\u001b[0m\u001b[0;34m)\u001b[0m\u001b[0;34m\u001b[0m\u001b[0;34m\u001b[0m\u001b[0m\n\u001b[0m\u001b[1;32m      6\u001b[0m \u001b[0;34m\u001b[0m\u001b[0m\n\u001b[1;32m      7\u001b[0m \u001b[0mbest_C\u001b[0m \u001b[0;34m=\u001b[0m \u001b[0mgridCV\u001b[0m\u001b[0;34m.\u001b[0m\u001b[0mbest_params_\u001b[0m\u001b[0;34m[\u001b[0m\u001b[0;34m'C'\u001b[0m\u001b[0;34m]\u001b[0m\u001b[0;34m\u001b[0m\u001b[0;34m\u001b[0m\u001b[0m\n",
            "\u001b[0;32m/usr/local/lib/python3.7/dist-packages/sklearn/model_selection/_search.py\u001b[0m in \u001b[0;36mfit\u001b[0;34m(self, X, y, groups, **fit_params)\u001b[0m\n\u001b[1;32m    708\u001b[0m                 \u001b[0;32mreturn\u001b[0m \u001b[0mresults\u001b[0m\u001b[0;34m\u001b[0m\u001b[0;34m\u001b[0m\u001b[0m\n\u001b[1;32m    709\u001b[0m \u001b[0;34m\u001b[0m\u001b[0m\n\u001b[0;32m--> 710\u001b[0;31m             \u001b[0mself\u001b[0m\u001b[0;34m.\u001b[0m\u001b[0m_run_search\u001b[0m\u001b[0;34m(\u001b[0m\u001b[0mevaluate_candidates\u001b[0m\u001b[0;34m)\u001b[0m\u001b[0;34m\u001b[0m\u001b[0;34m\u001b[0m\u001b[0m\n\u001b[0m\u001b[1;32m    711\u001b[0m \u001b[0;34m\u001b[0m\u001b[0m\n\u001b[1;32m    712\u001b[0m         \u001b[0;31m# For multi-metric evaluation, store the best_index_, best_params_ and\u001b[0m\u001b[0;34m\u001b[0m\u001b[0;34m\u001b[0m\u001b[0;34m\u001b[0m\u001b[0m\n",
            "\u001b[0;32m/usr/local/lib/python3.7/dist-packages/sklearn/model_selection/_search.py\u001b[0m in \u001b[0;36m_run_search\u001b[0;34m(self, evaluate_candidates)\u001b[0m\n\u001b[1;32m   1149\u001b[0m     \u001b[0;32mdef\u001b[0m \u001b[0m_run_search\u001b[0m\u001b[0;34m(\u001b[0m\u001b[0mself\u001b[0m\u001b[0;34m,\u001b[0m \u001b[0mevaluate_candidates\u001b[0m\u001b[0;34m)\u001b[0m\u001b[0;34m:\u001b[0m\u001b[0;34m\u001b[0m\u001b[0;34m\u001b[0m\u001b[0m\n\u001b[1;32m   1150\u001b[0m         \u001b[0;34m\"\"\"Search all candidates in param_grid\"\"\"\u001b[0m\u001b[0;34m\u001b[0m\u001b[0;34m\u001b[0m\u001b[0m\n\u001b[0;32m-> 1151\u001b[0;31m         \u001b[0mevaluate_candidates\u001b[0m\u001b[0;34m(\u001b[0m\u001b[0mParameterGrid\u001b[0m\u001b[0;34m(\u001b[0m\u001b[0mself\u001b[0m\u001b[0;34m.\u001b[0m\u001b[0mparam_grid\u001b[0m\u001b[0;34m)\u001b[0m\u001b[0;34m)\u001b[0m\u001b[0;34m\u001b[0m\u001b[0;34m\u001b[0m\u001b[0m\n\u001b[0m\u001b[1;32m   1152\u001b[0m \u001b[0;34m\u001b[0m\u001b[0m\n\u001b[1;32m   1153\u001b[0m \u001b[0;34m\u001b[0m\u001b[0m\n",
            "\u001b[0;32m/usr/local/lib/python3.7/dist-packages/sklearn/model_selection/_search.py\u001b[0m in \u001b[0;36mevaluate_candidates\u001b[0;34m(candidate_params)\u001b[0m\n\u001b[1;32m    687\u001b[0m                                \u001b[0;32mfor\u001b[0m \u001b[0mparameters\u001b[0m\u001b[0;34m,\u001b[0m \u001b[0;34m(\u001b[0m\u001b[0mtrain\u001b[0m\u001b[0;34m,\u001b[0m \u001b[0mtest\u001b[0m\u001b[0;34m)\u001b[0m\u001b[0;34m\u001b[0m\u001b[0;34m\u001b[0m\u001b[0m\n\u001b[1;32m    688\u001b[0m                                in product(candidate_params,\n\u001b[0;32m--> 689\u001b[0;31m                                           cv.split(X, y, groups)))\n\u001b[0m\u001b[1;32m    690\u001b[0m \u001b[0;34m\u001b[0m\u001b[0m\n\u001b[1;32m    691\u001b[0m                 \u001b[0;32mif\u001b[0m \u001b[0mlen\u001b[0m\u001b[0;34m(\u001b[0m\u001b[0mout\u001b[0m\u001b[0;34m)\u001b[0m \u001b[0;34m<\u001b[0m \u001b[0;36m1\u001b[0m\u001b[0;34m:\u001b[0m\u001b[0;34m\u001b[0m\u001b[0;34m\u001b[0m\u001b[0m\n",
            "\u001b[0;32m/usr/local/lib/python3.7/dist-packages/joblib/parallel.py\u001b[0m in \u001b[0;36m__call__\u001b[0;34m(self, iterable)\u001b[0m\n\u001b[1;32m   1052\u001b[0m \u001b[0;34m\u001b[0m\u001b[0m\n\u001b[1;32m   1053\u001b[0m             \u001b[0;32mwith\u001b[0m \u001b[0mself\u001b[0m\u001b[0;34m.\u001b[0m\u001b[0m_backend\u001b[0m\u001b[0;34m.\u001b[0m\u001b[0mretrieval_context\u001b[0m\u001b[0;34m(\u001b[0m\u001b[0;34m)\u001b[0m\u001b[0;34m:\u001b[0m\u001b[0;34m\u001b[0m\u001b[0;34m\u001b[0m\u001b[0m\n\u001b[0;32m-> 1054\u001b[0;31m                 \u001b[0mself\u001b[0m\u001b[0;34m.\u001b[0m\u001b[0mretrieve\u001b[0m\u001b[0;34m(\u001b[0m\u001b[0;34m)\u001b[0m\u001b[0;34m\u001b[0m\u001b[0;34m\u001b[0m\u001b[0m\n\u001b[0m\u001b[1;32m   1055\u001b[0m             \u001b[0;31m# Make sure that we get a last message telling us we are done\u001b[0m\u001b[0;34m\u001b[0m\u001b[0;34m\u001b[0m\u001b[0;34m\u001b[0m\u001b[0m\n\u001b[1;32m   1056\u001b[0m             \u001b[0melapsed_time\u001b[0m \u001b[0;34m=\u001b[0m \u001b[0mtime\u001b[0m\u001b[0;34m.\u001b[0m\u001b[0mtime\u001b[0m\u001b[0;34m(\u001b[0m\u001b[0;34m)\u001b[0m \u001b[0;34m-\u001b[0m \u001b[0mself\u001b[0m\u001b[0;34m.\u001b[0m\u001b[0m_start_time\u001b[0m\u001b[0;34m\u001b[0m\u001b[0;34m\u001b[0m\u001b[0m\n",
            "\u001b[0;32m/usr/local/lib/python3.7/dist-packages/joblib/parallel.py\u001b[0m in \u001b[0;36mretrieve\u001b[0;34m(self)\u001b[0m\n\u001b[1;32m    931\u001b[0m             \u001b[0;32mtry\u001b[0m\u001b[0;34m:\u001b[0m\u001b[0;34m\u001b[0m\u001b[0;34m\u001b[0m\u001b[0m\n\u001b[1;32m    932\u001b[0m                 \u001b[0;32mif\u001b[0m \u001b[0mgetattr\u001b[0m\u001b[0;34m(\u001b[0m\u001b[0mself\u001b[0m\u001b[0;34m.\u001b[0m\u001b[0m_backend\u001b[0m\u001b[0;34m,\u001b[0m \u001b[0;34m'supports_timeout'\u001b[0m\u001b[0;34m,\u001b[0m \u001b[0;32mFalse\u001b[0m\u001b[0;34m)\u001b[0m\u001b[0;34m:\u001b[0m\u001b[0;34m\u001b[0m\u001b[0;34m\u001b[0m\u001b[0m\n\u001b[0;32m--> 933\u001b[0;31m                     \u001b[0mself\u001b[0m\u001b[0;34m.\u001b[0m\u001b[0m_output\u001b[0m\u001b[0;34m.\u001b[0m\u001b[0mextend\u001b[0m\u001b[0;34m(\u001b[0m\u001b[0mjob\u001b[0m\u001b[0;34m.\u001b[0m\u001b[0mget\u001b[0m\u001b[0;34m(\u001b[0m\u001b[0mtimeout\u001b[0m\u001b[0;34m=\u001b[0m\u001b[0mself\u001b[0m\u001b[0;34m.\u001b[0m\u001b[0mtimeout\u001b[0m\u001b[0;34m)\u001b[0m\u001b[0;34m)\u001b[0m\u001b[0;34m\u001b[0m\u001b[0;34m\u001b[0m\u001b[0m\n\u001b[0m\u001b[1;32m    934\u001b[0m                 \u001b[0;32melse\u001b[0m\u001b[0;34m:\u001b[0m\u001b[0;34m\u001b[0m\u001b[0;34m\u001b[0m\u001b[0m\n\u001b[1;32m    935\u001b[0m                     \u001b[0mself\u001b[0m\u001b[0;34m.\u001b[0m\u001b[0m_output\u001b[0m\u001b[0;34m.\u001b[0m\u001b[0mextend\u001b[0m\u001b[0;34m(\u001b[0m\u001b[0mjob\u001b[0m\u001b[0;34m.\u001b[0m\u001b[0mget\u001b[0m\u001b[0;34m(\u001b[0m\u001b[0;34m)\u001b[0m\u001b[0;34m)\u001b[0m\u001b[0;34m\u001b[0m\u001b[0;34m\u001b[0m\u001b[0m\n",
            "\u001b[0;32m/usr/local/lib/python3.7/dist-packages/joblib/_parallel_backends.py\u001b[0m in \u001b[0;36mwrap_future_result\u001b[0;34m(future, timeout)\u001b[0m\n\u001b[1;32m    540\u001b[0m         AsyncResults.get from multiprocessing.\"\"\"\n\u001b[1;32m    541\u001b[0m         \u001b[0;32mtry\u001b[0m\u001b[0;34m:\u001b[0m\u001b[0;34m\u001b[0m\u001b[0;34m\u001b[0m\u001b[0m\n\u001b[0;32m--> 542\u001b[0;31m             \u001b[0;32mreturn\u001b[0m \u001b[0mfuture\u001b[0m\u001b[0;34m.\u001b[0m\u001b[0mresult\u001b[0m\u001b[0;34m(\u001b[0m\u001b[0mtimeout\u001b[0m\u001b[0;34m=\u001b[0m\u001b[0mtimeout\u001b[0m\u001b[0;34m)\u001b[0m\u001b[0;34m\u001b[0m\u001b[0;34m\u001b[0m\u001b[0m\n\u001b[0m\u001b[1;32m    543\u001b[0m         \u001b[0;32mexcept\u001b[0m \u001b[0mCfTimeoutError\u001b[0m \u001b[0;32mas\u001b[0m \u001b[0me\u001b[0m\u001b[0;34m:\u001b[0m\u001b[0;34m\u001b[0m\u001b[0;34m\u001b[0m\u001b[0m\n\u001b[1;32m    544\u001b[0m             \u001b[0;32mraise\u001b[0m \u001b[0mTimeoutError\u001b[0m \u001b[0;32mfrom\u001b[0m \u001b[0me\u001b[0m\u001b[0;34m\u001b[0m\u001b[0;34m\u001b[0m\u001b[0m\n",
            "\u001b[0;32m/usr/lib/python3.7/concurrent/futures/_base.py\u001b[0m in \u001b[0;36mresult\u001b[0;34m(self, timeout)\u001b[0m\n\u001b[1;32m    428\u001b[0m                 \u001b[0;32mreturn\u001b[0m \u001b[0mself\u001b[0m\u001b[0;34m.\u001b[0m\u001b[0m__get_result\u001b[0m\u001b[0;34m(\u001b[0m\u001b[0;34m)\u001b[0m\u001b[0;34m\u001b[0m\u001b[0;34m\u001b[0m\u001b[0m\n\u001b[1;32m    429\u001b[0m \u001b[0;34m\u001b[0m\u001b[0m\n\u001b[0;32m--> 430\u001b[0;31m             \u001b[0mself\u001b[0m\u001b[0;34m.\u001b[0m\u001b[0m_condition\u001b[0m\u001b[0;34m.\u001b[0m\u001b[0mwait\u001b[0m\u001b[0;34m(\u001b[0m\u001b[0mtimeout\u001b[0m\u001b[0;34m)\u001b[0m\u001b[0;34m\u001b[0m\u001b[0;34m\u001b[0m\u001b[0m\n\u001b[0m\u001b[1;32m    431\u001b[0m \u001b[0;34m\u001b[0m\u001b[0m\n\u001b[1;32m    432\u001b[0m             \u001b[0;32mif\u001b[0m \u001b[0mself\u001b[0m\u001b[0;34m.\u001b[0m\u001b[0m_state\u001b[0m \u001b[0;32min\u001b[0m \u001b[0;34m[\u001b[0m\u001b[0mCANCELLED\u001b[0m\u001b[0;34m,\u001b[0m \u001b[0mCANCELLED_AND_NOTIFIED\u001b[0m\u001b[0;34m]\u001b[0m\u001b[0;34m:\u001b[0m\u001b[0;34m\u001b[0m\u001b[0;34m\u001b[0m\u001b[0m\n",
            "\u001b[0;32m/usr/lib/python3.7/threading.py\u001b[0m in \u001b[0;36mwait\u001b[0;34m(self, timeout)\u001b[0m\n\u001b[1;32m    294\u001b[0m         \u001b[0;32mtry\u001b[0m\u001b[0;34m:\u001b[0m    \u001b[0;31m# restore state no matter what (e.g., KeyboardInterrupt)\u001b[0m\u001b[0;34m\u001b[0m\u001b[0;34m\u001b[0m\u001b[0m\n\u001b[1;32m    295\u001b[0m             \u001b[0;32mif\u001b[0m \u001b[0mtimeout\u001b[0m \u001b[0;32mis\u001b[0m \u001b[0;32mNone\u001b[0m\u001b[0;34m:\u001b[0m\u001b[0;34m\u001b[0m\u001b[0;34m\u001b[0m\u001b[0m\n\u001b[0;32m--> 296\u001b[0;31m                 \u001b[0mwaiter\u001b[0m\u001b[0;34m.\u001b[0m\u001b[0macquire\u001b[0m\u001b[0;34m(\u001b[0m\u001b[0;34m)\u001b[0m\u001b[0;34m\u001b[0m\u001b[0;34m\u001b[0m\u001b[0m\n\u001b[0m\u001b[1;32m    297\u001b[0m                 \u001b[0mgotit\u001b[0m \u001b[0;34m=\u001b[0m \u001b[0;32mTrue\u001b[0m\u001b[0;34m\u001b[0m\u001b[0;34m\u001b[0m\u001b[0m\n\u001b[1;32m    298\u001b[0m             \u001b[0;32melse\u001b[0m\u001b[0;34m:\u001b[0m\u001b[0;34m\u001b[0m\u001b[0;34m\u001b[0m\u001b[0m\n",
            "\u001b[0;31mKeyboardInterrupt\u001b[0m: "
          ]
        }
      ]
    },
    {
      "cell_type": "code",
      "metadata": {
        "id": "6TD9XzVsv6WQ"
      },
      "source": [
        "print(\"SVM best C : \" + str(best_C))\n",
        "print(\"SVM best gamma : \" + str(best_gamma))"
      ],
      "execution_count": null,
      "outputs": []
    },
    {
      "cell_type": "code",
      "metadata": {
        "id": "gcwSe7CPtvTQ"
      },
      "source": [
        "SVM_best = SVC(kernel='rbf', C=best_C,gamma=best_gamma)\n",
        "SVM_best.fit(x_train, y_train);\n",
        "Y_pred = SVM_best.predict(x_test)\n",
        "print( \"SVM best accuracy : \" + str(np.round(metrics.accuracy_score(y_test,Y_pred),3)))"
      ],
      "execution_count": null,
      "outputs": []
    },
    {
      "cell_type": "code",
      "metadata": {
        "colab": {
          "base_uri": "https://localhost:8080/"
        },
        "id": "DR39dnsNEf5Z",
        "outputId": "c847de0d-e6cf-4d11-f657-160e96e44cff"
      },
      "source": [
        "SVM = SVC(kernel='rbf', C=3,gamma=0.41 , probability=True)\n",
        "SVM.fit(x_train, y_train)\n",
        "Y_pred = SVM.predict(x_test)\n",
        "print( \"SVM best accuracy : \" + str(np.round(metrics.accuracy_score(y_test,Y_pred),3)))\n",
        "\n"
      ],
      "execution_count": null,
      "outputs": [
        {
          "output_type": "stream",
          "text": [
            "SVM best accuracy : 0.889\n"
          ],
          "name": "stdout"
        }
      ]
    },
    {
      "cell_type": "code",
      "metadata": {
        "id": "XobXa8cNkGBe"
      },
      "source": [
        "# trainint the model\n",
        "\n",
        "#from sklearn.svm import SVC\n",
        "#from sklearn.metrics import roc_auc_score\n",
        "\n",
        "SVM = SVC(kernel='rbf', C=15,gamma=1 , probability=True)\n",
        "SVM.fit(x_train, y_train)\n",
        "Y_pred = SVM.predict(x_test)\n",
        "print( \"SVM best accuracy : \" + str(np.round(metrics.accuracy_score(y_test,Y_pred),3)))"
      ],
      "execution_count": null,
      "outputs": []
    },
    {
      "cell_type": "code",
      "metadata": {
        "colab": {
          "base_uri": "https://localhost:8080/"
        },
        "id": "gEFtCjVWkGPB",
        "outputId": "90525c0f-8a2f-4914-c5cc-5be5c18cde8c"
      },
      "source": [
        "#probabilities of the prediction to find Aria Under the Curve\n",
        "y_prob = SVM.predict_proba(x_test)[:,1] # This will give you positive class prediction probabilities  \n",
        "from sklearn.metrics import roc_curve, auc\n",
        "false_positive_rate, true_positive_rate, thresholds = roc_curve(y_test, y_prob)\n",
        "roc_auc = auc(false_positive_rate, true_positive_rate)\n",
        "roc_auc"
      ],
      "execution_count": null,
      "outputs": [
        {
          "output_type": "execute_result",
          "data": {
            "text/plain": [
              "0.9406536470215583"
            ]
          },
          "metadata": {
            "tags": []
          },
          "execution_count": 51
        }
      ]
    },
    {
      "cell_type": "code",
      "metadata": {
        "colab": {
          "base_uri": "https://localhost:8080/",
          "height": 621
        },
        "id": "HxB37kmukGgo",
        "outputId": "5df290f7-74d2-4949-8c2d-783ec7e5dde5"
      },
      "source": [
        "# visual the AUC\n",
        "plt.figure(figsize=(10,10))\n",
        "plt.title('Churn ROC')\n",
        "plt.plot(false_positive_rate,true_positive_rate, color='red',label = 'AUC = %0.2f' % roc_auc)\n",
        "plt.legend(loc = 'lower right')\n",
        "plt.plot([0, 1], [0, 1],linestyle='--')\n",
        "plt.plot([0.9, 1], [1, 0.9],linestyle=':')\n",
        "plt.axis('tight')\n",
        "plt.ylabel('True Positive Rate')\n",
        "plt.xlabel('False Positive Rate')\n",
        "plt.show()"
      ],
      "execution_count": null,
      "outputs": [
        {
          "output_type": "display_data",
          "data": {
            "image/png": "[encoded data removed]",
            "text/plain": [
              "<Figure size 720x720 with 1 Axes>"
            ]
          },
          "metadata": {
            "tags": []
          }
        }
      ]
    },
    {
      "cell_type": "code",
      "metadata": {
        "colab": {
          "base_uri": "https://localhost:8080/"
        },
        "id": "0tMGR0rYFTHu",
        "outputId": "97a9b0d5-8fcd-493c-85ba-4cee6b69ab70"
      },
      "source": [
        "# report matrix\n",
        "from sklearn.metrics import classification_report\n",
        "\n",
        "print(classification_report(y_test, Y_pred))"
      ],
      "execution_count": null,
      "outputs": [
        {
          "output_type": "stream",
          "text": [
            "              precision    recall  f1-score   support\n",
            "\n",
            "           0       0.91      0.86      0.89      1563\n",
            "           1       0.86      0.92      0.89      1527\n",
            "\n",
            "    accuracy                           0.89      3090\n",
            "   macro avg       0.89      0.89      0.89      3090\n",
            "weighted avg       0.89      0.89      0.89      3090\n",
            "\n"
          ],
          "name": "stdout"
        }
      ]
    },
    {
      "cell_type": "code",
      "metadata": {
        "colab": {
          "base_uri": "https://localhost:8080/"
        },
        "id": "nLqwUSL5loG8",
        "outputId": "4b0a64ad-8890-4a84-ac94-7070aa0d8758"
      },
      "source": [
        "!apt-get -qq install -y yellowbrick"
      ],
      "execution_count": null,
      "outputs": [
        {
          "output_type": "stream",
          "text": [
            "E: Unable to locate package yellowbrick\n"
          ],
          "name": "stdout"
        }
      ]
    },
    {
      "cell_type": "code",
      "metadata": {
        "colab": {
          "base_uri": "https://localhost:8080/",
          "height": 215
        },
        "id": "9xq-_IxdM4wv",
        "outputId": "e0eec3ec-b935-4389-8137-389c150d0c29"
      },
      "source": [
        "from yellowbrick import model_selection \n",
        "viz = model_selection.FeatureImportances(SVM)\n",
        "viz.fit(x_train, y_train)\n",
        "viz.show()"
      ],
      "execution_count": null,
      "outputs": [
        {
          "output_type": "error",
          "ename": "AttributeError",
          "evalue": "ignored",
          "traceback": [
            "\u001b[0;31m---------------------------------------------------------------------------\u001b[0m",
            "\u001b[0;31mAttributeError\u001b[0m                            Traceback (most recent call last)",
            "\u001b[0;32m<ipython-input-5-50cfe4c857b1>\u001b[0m in \u001b[0;36m<module>\u001b[0;34m()\u001b[0m\n\u001b[1;32m      1\u001b[0m \u001b[0;32mfrom\u001b[0m \u001b[0myellowbrick\u001b[0m \u001b[0;32mimport\u001b[0m \u001b[0mmodel_selection\u001b[0m\u001b[0;34m\u001b[0m\u001b[0;34m\u001b[0m\u001b[0m\n\u001b[0;32m----> 2\u001b[0;31m \u001b[0mviz\u001b[0m \u001b[0;34m=\u001b[0m \u001b[0mmodel_selection\u001b[0m\u001b[0;34m.\u001b[0m\u001b[0mFeatureImportances\u001b[0m\u001b[0;34m(\u001b[0m\u001b[0mSVM\u001b[0m\u001b[0;34m)\u001b[0m\u001b[0;34m\u001b[0m\u001b[0;34m\u001b[0m\u001b[0m\n\u001b[0m\u001b[1;32m      3\u001b[0m \u001b[0mviz\u001b[0m\u001b[0;34m.\u001b[0m\u001b[0mfit\u001b[0m\u001b[0;34m(\u001b[0m\u001b[0mx_train\u001b[0m\u001b[0;34m,\u001b[0m \u001b[0my_train\u001b[0m\u001b[0;34m)\u001b[0m\u001b[0;34m\u001b[0m\u001b[0;34m\u001b[0m\u001b[0m\n\u001b[1;32m      4\u001b[0m \u001b[0mviz\u001b[0m\u001b[0;34m.\u001b[0m\u001b[0mshow\u001b[0m\u001b[0;34m(\u001b[0m\u001b[0;34m)\u001b[0m\u001b[0;34m\u001b[0m\u001b[0;34m\u001b[0m\u001b[0m\n",
            "\u001b[0;31mAttributeError\u001b[0m: module 'yellowbrick.model_selection' has no attribute 'FeatureImportances'"
          ]
        }
      ]
    },
    {
      "cell_type": "markdown",
      "metadata": {
        "id": "Li00jANWHXN-"
      },
      "source": [
        ""
      ]
    },
    {
      "cell_type": "code",
      "metadata": {
        "colab": {
          "base_uri": "https://localhost:8080/"
        },
        "id": "xnSsjfcGCGUp",
        "outputId": "6f2440fd-7025-4e09-cc05-1c8f6a90b92d"
      },
      "source": [
        "SVM_best = SVC(kernel='rbf', C=10,gamma=0.9)\n",
        "SVM_best.fit(x_train, y_train);\n",
        "Y_pred = SVM_best.predict(x_test)\n",
        "print( \"SVM best accuracy : \" + str(np.round(metrics.accuracy_score(y_test,Y_pred),3)))"
      ],
      "execution_count": null,
      "outputs": [
        {
          "output_type": "stream",
          "text": [
            "SVM best accuracy : 0.876\n"
          ],
          "name": "stdout"
        }
      ]
    },
    {
      "cell_type": "markdown",
      "metadata": {
        "id": "LnLBebODpFEF"
      },
      "source": [
        "LGBMClassifier"
      ]
    },
    {
      "cell_type": "code",
      "metadata": {
        "id": "aaNykrOuHKB3"
      },
      "source": [
        "import lightgbm as lgb\n",
        "\n",
        "LGB = lgb.LGBMClassifier()\n",
        "LGB.fit(x_train, y_train)\n",
        "print(\"Score : \", LGB.score(x_test, y_test))\n",
        "Y_pred = LGB.predict(x_test)\n",
        "print( \"accuracy : \" + str(np.round(metrics.accuracy_score(y_test,Y_pred),3)))"
      ],
      "execution_count": null,
      "outputs": []
    },
    {
      "cell_type": "markdown",
      "metadata": {
        "id": "afIT676spVEo"
      },
      "source": [
        "Voting Classifier"
      ]
    },
    {
      "cell_type": "code",
      "metadata": {
        "id": "JhIMkDsKHKVz"
      },
      "source": [
        "DTC = DecisionTreeClassifier(max_depth=10)\n",
        "DTC.fit(x_train, y_train)\n",
        "Y_pred = DTC.predict(x_test)\n",
        "print( \"Tree accuracy : \" + str(np.round(metrics.accuracy_score(y_test,Y_pred),3)))"
      ],
      "execution_count": null,
      "outputs": []
    },
    {
      "cell_type": "code",
      "metadata": {
        "id": "a1ixwmSjpjQz"
      },
      "source": [
        "from sklearn.neighbors import KNeighborsClassifier \n",
        "KNN = KNeighborsClassifier(n_neighbors=5)\n",
        "KNN.fit(x_train, y_train)\n",
        "Y_pred = KNN.predict(x_test)\n",
        "print( \"KNN accuracy : \" + str(np.round(metrics.accuracy_score(y_test,Y_pred),3)))"
      ],
      "execution_count": null,
      "outputs": []
    },
    {
      "cell_type": "code",
      "metadata": {
        "id": "uwC1Hs4tpjc1"
      },
      "source": [
        "LR = LogisticRegression()\n",
        "LR.fit(x_train, y_train)\n",
        "Y_pred = LR.predict(x_test)\n",
        "print( \"Logistic regression accuracy : \" + str(np.round(metrics.accuracy_score(y_test,Y_pred),3)))"
      ],
      "execution_count": null,
      "outputs": []
    },
    {
      "cell_type": "code",
      "metadata": {
        "id": "igOvY1Bhpju8"
      },
      "source": [
        "from sklearn.ensemble import VotingClassifier\n",
        "VC = VotingClassifier(estimators=[('Tree',DTC),('knn',KNN),('Logistic',LR)],voting='hard')             # voting = 'hard'.\n",
        "VC.fit(x_train, y_train)\n",
        "Y_pred = VC.predict(x_test)\n",
        "print( \"Voting Classifier Accuracy : \" + str(np.round(metrics.accuracy_score(y_test,Y_pred),3)))"
      ],
      "execution_count": null,
      "outputs": []
    },
    {
      "cell_type": "code",
      "metadata": {
        "id": "2rs2K3ePpryy"
      },
      "source": [
        "VC = VotingClassifier(estimators=[('Tree',DTC),('knn',KNN),('Logistic',LR)],voting='soft')             # voting = 'soft'.\n",
        "VC.fit(x_train, y_train)\n",
        "Y_pred = VC.predict(x_test)\n",
        "print( \"Voting Classifier Accuracy : \" + str(np.round(metrics.accuracy_score(y_test,Y_pred),3)))"
      ],
      "execution_count": null,
      "outputs": []
    },
    {
      "cell_type": "markdown",
      "metadata": {
        "id": "ctz78by3P9Zf"
      },
      "source": [
        "\n",
        "4.10 Keras Neural Network (Logistic):"
      ]
    },
    {
      "cell_type": "code",
      "metadata": {
        "id": "o88NI8EKPhfn"
      },
      "source": [
        "n_vars = x_train.shape[1]\n",
        "n_epochs = 1250\n",
        "batch_size = 1000\n",
        "learn_rate = 0.0005"
      ],
      "execution_count": null,
      "outputs": []
    },
    {
      "cell_type": "code",
      "metadata": {
        "id": "I1goR6JdSMs1"
      },
      "source": [
        "my_input = Input(shape=(n_vars,))\n",
        "my_output = Dense(units=1,activation='sigmoid')(my_input)"
      ],
      "execution_count": null,
      "outputs": []
    },
    {
      "cell_type": "code",
      "metadata": {
        "id": "ZtwHS8Z3P6-z"
      },
      "source": [
        "my_optimizer=Adam(lr=learn_rate)\n",
        "#my_model.compile(loss = \"mae\", optimizer = my_optimizer, metrics=[\"mse\"])"
      ],
      "execution_count": null,
      "outputs": []
    },
    {
      "cell_type": "code",
      "metadata": {
        "id": "P3RaXuU-XRFQ"
      },
      "source": [
        "my_model=Model(inputs=my_input,outputs=my_output)"
      ],
      "execution_count": null,
      "outputs": []
    },
    {
      "cell_type": "code",
      "metadata": {
        "id": "5Pl-PY_eCMgs"
      },
      "source": [
        "#mnal- my_model.compile(loss='binary_crossentropy', optimizer=my_optimizer, metrics=['accuracy'])\n",
        "los=keras.losses.BinaryCrossentropy()\n",
        "my_model.compile(loss=los , optimizer=my_optimizer, metrics=['accuracy'])"
      ],
      "execution_count": null,
      "outputs": []
    },
    {
      "cell_type": "code",
      "metadata": {
        "colab": {
          "base_uri": "https://localhost:8080/"
        },
        "id": "a5nDjey2Uv7Z",
        "outputId": "db6b3779-c8fe-42a6-ba2d-227dbf487479"
      },
      "source": [
        "my_model.summary()"
      ],
      "execution_count": null,
      "outputs": [
        {
          "output_type": "stream",
          "text": [
            "Model: \"model\"\n",
            "_________________________________________________________________\n",
            "Layer (type)                 Output Shape              Param #   \n",
            "=================================================================\n",
            "input_1 (InputLayer)         [(None, 20)]              0         \n",
            "_________________________________________________________________\n",
            "dense (Dense)                (None, 1)                 21        \n",
            "=================================================================\n",
            "Total params: 21\n",
            "Trainable params: 21\n",
            "Non-trainable params: 0\n",
            "_________________________________________________________________\n"
          ],
          "name": "stdout"
        }
      ]
    },
    {
      "cell_type": "code",
      "metadata": {
        "id": "3n_KHXpJP7Jc"
      },
      "source": [
        "my_summary = my_model.fit(x_train, y_train, epochs=n_epochs, batch_size = batch_size, validation_split = 0.2, verbose = 0)"
      ],
      "execution_count": null,
      "outputs": []
    },
    {
      "cell_type": "code",
      "metadata": {
        "colab": {
          "base_uri": "https://localhost:8080/"
        },
        "id": "VK-KlorrQzgK",
        "outputId": "b95d045a-064b-45f2-8016-6749d7b666ac"
      },
      "source": [
        "my_summary.history.keys()"
      ],
      "execution_count": null,
      "outputs": [
        {
          "output_type": "execute_result",
          "data": {
            "text/plain": [
              "dict_keys(['loss', 'accuracy', 'val_loss', 'val_accuracy'])"
            ]
          },
          "metadata": {
            "tags": []
          },
          "execution_count": 47
        }
      ]
    },
    {
      "cell_type": "code",
      "metadata": {
        "colab": {
          "base_uri": "https://localhost:8080/",
          "height": 295
        },
        "id": "PrNnceUaTXXf",
        "outputId": "50aeca09-5391-4692-9b08-7693f86dd365"
      },
      "source": [
        "n_skip = 100 \n",
        "plt.plot(my_summary.history['accuracy'][n_skip:], c=\"b\")\n",
        "plt.plot(my_summary.history['val_accuracy'][n_skip:], c=\"g\")\n",
        "plt.title('Training History')\n",
        "plt.ylabel('MSE')\n",
        "plt.xlabel('Epoch')\n",
        "plt.legend(['Train', 'Validation'], loc='upper right')\n",
        "plt.show()"
      ],
      "execution_count": null,
      "outputs": [
        {
          "output_type": "display_data",
          "data": {
            "image/png": "[encoded data removed]",
            "text/plain": [
              "<Figure size 432x288 with 1 Axes>"
            ]
          },
          "metadata": {
            "tags": []
          }
        }
      ]
    },
    {
      "cell_type": "code",
      "metadata": {
        "id": "GEtbzUP9TdZR"
      },
      "source": [
        "#MSE = my_model.evaluate(x_test, y_test, verbose=0)[1]   \n",
        "#RMSE = np.sqrt(MSE)\n",
        "#print(\"Test RMSE : {}\".format(np.round(RMSE,3)))"
      ],
      "execution_count": null,
      "outputs": []
    },
    {
      "cell_type": "code",
      "metadata": {
        "colab": {
          "base_uri": "https://localhost:8080/"
        },
        "id": "U-SbOXa8oo8F",
        "outputId": "5a84fc72-a9bf-44e8-b600-f7fb4037e7df"
      },
      "source": [
        "ACC = my_model.evaluate(x_test, y_test, verbose=0)[1]    \n",
        "print(\"Test Accuracy : {}\".format(np.round(ACC,3)))"
      ],
      "execution_count": null,
      "outputs": [
        {
          "output_type": "stream",
          "text": [
            "Test Accuracy : 0.793\n"
          ],
          "name": "stdout"
        }
      ]
    },
    {
      "cell_type": "code",
      "metadata": {
        "id": "bicUNIe4TdyH"
      },
      "source": [
        "import tensorflow as tf\n",
        "m = tf.keras.metrics.Accuracy()\n",
        "m.update_state(y_test, Y_pred)\n",
        "m.result().numpy()"
      ],
      "execution_count": null,
      "outputs": []
    },
    {
      "cell_type": "code",
      "metadata": {
        "colab": {
          "base_uri": "https://localhost:8080/"
        },
        "id": "FYIG85KGpy0C",
        "outputId": "523dcf92-605d-44e8-f317-2bea56570ac7"
      },
      "source": [
        "#np.mean(np.equal(y_test, np.round(Y_pred)))"
      ],
      "execution_count": null,
      "outputs": [
        {
          "output_type": "execute_result",
          "data": {
            "text/plain": [
              "0.8471316818774446"
            ]
          },
          "metadata": {
            "tags": []
          },
          "execution_count": 181
        }
      ]
    },
    {
      "cell_type": "markdown",
      "metadata": {
        "id": "9LL2ZuV_dLG9"
      },
      "source": [
        "### 4.9 Gradient Boosting Classifier\n"
      ]
    },
    {
      "cell_type": "code",
      "metadata": {
        "id": "U_lIaNmidQ2z"
      },
      "source": [
        "model = GradientBoostingClassifier()\n",
        "n_estimators=100\n",
        "learning_rate=1.0\n",
        "max_depth=1\n",
        "\n",
        "# define grid search\n",
        "grid = dict(n_estimators = n_estimators,learning_rate = learning_rate,max_depth = max_depth)\n",
        "cv = RepeatedStratifiedKFold(n_splits=10, n_repeats=3, random_state=1)\n",
        "grid_search = GridSearchCV(estimator=model, param_grid=grid, n_jobs=-1, cv=cv, scoring='accuracy',error_score=0)\n",
        "grid_result = grid_search.fit(x_train, y_train)"
      ],
      "execution_count": null,
      "outputs": []
    },
    {
      "cell_type": "code",
      "metadata": {
        "id": "87acpfirdRBf"
      },
      "source": [
        ""
      ],
      "execution_count": null,
      "outputs": []
    },
    {
      "cell_type": "code",
      "metadata": {
        "id": "D8NitDcKdRZC"
      },
      "source": [
        ""
      ],
      "execution_count": null,
      "outputs": []
    },
    {
      "cell_type": "code",
      "metadata": {
        "id": "4-QZJ9nidRv6"
      },
      "source": [
        ""
      ],
      "execution_count": null,
      "outputs": []
    },
    {
      "cell_type": "code",
      "metadata": {
        "id": "4iRdCcIDdSMA"
      },
      "source": [
        ""
      ],
      "execution_count": null,
      "outputs": []
    },
    {
      "cell_type": "code",
      "metadata": {
        "id": "DNsAW9pbJMUn"
      },
      "source": [
        ""
      ],
      "execution_count": null,
      "outputs": []
    },
    {
      "cell_type": "code",
      "metadata": {
        "id": "9TbBDmZFJMUn"
      },
      "source": [
        ""
      ],
      "execution_count": null,
      "outputs": []
    },
    {
      "cell_type": "code",
      "metadata": {
        "id": "fb_o0AyD02Qr"
      },
      "source": [
        ""
      ],
      "execution_count": null,
      "outputs": []
    },
    {
      "cell_type": "code",
      "metadata": {
        "id": "Urvc2wFTzKnr"
      },
      "source": [
        ""
      ],
      "execution_count": null,
      "outputs": []
    },
    {
      "cell_type": "code",
      "metadata": {
        "id": "jxHuucvkzK-9"
      },
      "source": [
        ""
      ],
      "execution_count": null,
      "outputs": []
    },
    {
      "cell_type": "markdown",
      "metadata": {
        "id": "2Msoq4IHJMUn"
      },
      "source": [
        "#### 5. Testing: "
      ]
    },
    {
      "cell_type": "code",
      "metadata": {
        "id": "pB25VBy2JMUp"
      },
      "source": [
        ""
      ],
      "execution_count": null,
      "outputs": []
    },
    {
      "cell_type": "code",
      "metadata": {
        "id": "rjZDjDyfJMUq"
      },
      "source": [
        ""
      ],
      "execution_count": null,
      "outputs": []
    },
    {
      "cell_type": "code",
      "metadata": {
        "id": "Awj_TAeozCj7"
      },
      "source": [
        ""
      ],
      "execution_count": null,
      "outputs": []
    },
    {
      "cell_type": "code",
      "metadata": {
        "id": "8Q2CMBrwzCss"
      },
      "source": [
        ""
      ],
      "execution_count": null,
      "outputs": []
    },
    {
      "cell_type": "markdown",
      "metadata": {
        "id": "G3vwoKSKzDjW"
      },
      "source": [
        "#### 6. Prediction: "
      ]
    },
    {
      "cell_type": "code",
      "metadata": {
        "id": "LS6_SzEwzDQh"
      },
      "source": [
        ""
      ],
      "execution_count": null,
      "outputs": []
    },
    {
      "cell_type": "code",
      "metadata": {
        "id": "wkwzOgho03K5"
      },
      "source": [
        ""
      ],
      "execution_count": null,
      "outputs": []
    },
    {
      "cell_type": "code",
      "metadata": {
        "id": "AjaMsxWl2NAQ"
      },
      "source": [
        ""
      ],
      "execution_count": null,
      "outputs": []
    },
    {
      "cell_type": "code",
      "metadata": {
        "id": "C7eRvn0e2NC9"
      },
      "source": [
        ""
      ],
      "execution_count": null,
      "outputs": []
    },
    {
      "cell_type": "markdown",
      "metadata": {
        "id": "I77-3ZxS2Nnp"
      },
      "source": [
        "\n",
        "\n",
        "\n",
        "\n",
        "\n",
        "---\n",
        "\n",
        "\n",
        "### Conclusion:\n",
        "\n",
        "\n",
        "```\n",
        "- \n",
        "-\n",
        "-\n",
        "\n",
        "```\n",
        "\n",
        "\n",
        "\n",
        "---\n",
        "\n"
      ]
    }
  ]
}